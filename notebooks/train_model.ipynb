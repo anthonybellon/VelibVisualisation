{
 "cells": [
  {
   "cell_type": "code",
   "execution_count": 1,
   "id": "7f59b0a0-f026-4953-b283-f6ea90825d6a",
   "metadata": {},
   "outputs": [],
   "source": [
    "# notebooks/train_model.ipynb\n",
    "\n",
    "import sys\n",
    "import os\n",
    "import pandas as pd\n",
    "import pickle\n",
    "\n",
    "# Add the directory containing the scripts to the system path\n",
    "sys.path.append(os.path.abspath(os.path.join('..', 'scripts')))\n",
    "\n",
    "from train_model import train_model, save_intermediate_results, load_intermediate_results\n"
   ]
  },
  {
   "cell_type": "code",
   "execution_count": 2,
   "id": "1f9a3b9a-603d-4dea-8c11-e592fb92007f",
   "metadata": {},
   "outputs": [],
   "source": [
    "from utils import get_absolute_path"
   ]
  },
  {
   "cell_type": "code",
   "execution_count": 3,
   "id": "a7f1c4b4-f9fb-478e-a9c6-b8680f300fb0",
   "metadata": {},
   "outputs": [],
   "source": [
    "# Load the processed data directly\n",
    "processed_bike_data_path = get_absolute_path('../data/processed_bike_data.parquet')\n",
    "\n",
    "bike_data = pd.read_parquet(processed_bike_data_path)\n"
   ]
  },
  {
   "cell_type": "code",
   "execution_count": 4,
   "id": "53a79c3a-a840-4bb6-9eb4-ce1af7490799",
   "metadata": {},
   "outputs": [],
   "source": [
    "# Batch process stations in chunks of 100\n",
    "stations = bike_data['stationcode'].unique()\n",
    "batch_size = 100\n",
    "\n",
    "all_models = {}\n",
    "all_scalers = {}\n",
    "all_nearby_station_results = {}"
   ]
  },
  {
   "cell_type": "code",
   "execution_count": 5,
   "id": "5f88b551-ee7b-4de9-9998-687815119740",
   "metadata": {},
   "outputs": [
    {
     "name": "stdout",
     "output_type": "stream",
     "text": [
      "Training models...\n",
      "Columns after feature creation: Index(['stationcode', 'name', 'is_installed', 'capacity', 'numdocksavailable',\n",
      "       'numbikesavailable', 'mechanical', 'ebike', 'is_renting',\n",
      "       'is_returning', 'duedate', 'coordonnees_geo',\n",
      "       'nom_arrondissement_communes', 'date', 'lat', 'lon', 'hour',\n",
      "       'day_of_week', 'lag_1_hour', 'lag_1_day', 'rolling_mean_7_days',\n",
      "       'rolling_mean_30_days', 'normalized_bikes_available',\n",
      "       'normalized_docks_available', 'usage_ratio',\n",
      "       'capacity_hour_interaction', 'capacity_day_interaction',\n",
      "       'avg_bikes_hour_day'],\n",
      "      dtype='object')\n"
     ]
    },
    {
     "name": "stderr",
     "output_type": "stream",
     "text": [
      "Training models:   0%|                                                                             | 0/100 [00:00<?, ?station/s]"
     ]
    },
    {
     "name": "stdout",
     "output_type": "stream",
     "text": [
      "Valid indices for station 11027: [98, 112, 88, 101, 123, 102, 95, 97, 99]\n",
      "Cross-Validation Score for station 11027: -0.00034710829276454123\n"
     ]
    },
    {
     "name": "stderr",
     "output_type": "stream",
     "text": [
      "Training models:   1%|▋                                                                  | 1/100 [01:00<1:39:58, 60.59s/station]"
     ]
    },
    {
     "name": "stdout",
     "output_type": "stream",
     "text": [
      "Mean Squared Error for station 11027: 0.00012299945606977485\n",
      "Valid indices for station 19026: [636, 637, 656, 655]\n",
      "Valid indices for station 19026: [646, 737, 666, 681, 665, 641, 629, 636, 661, 672, 638, 637, 656, 655, 674, 631, 630, 653, 644]\n",
      "Cross-Validation Score for station 19026: -0.00013550067730807945\n"
     ]
    },
    {
     "name": "stderr",
     "output_type": "stream",
     "text": [
      "Training models:   2%|█▎                                                                 | 2/100 [01:36<1:15:32, 46.25s/station]"
     ]
    },
    {
     "name": "stdout",
     "output_type": "stream",
     "text": [
      "Mean Squared Error for station 19026: 1.3654329859863574e-05\n",
      "Valid indices for station 11002: [78, 130, 75, 76, 77, 104, 96]\n",
      "Cross-Validation Score for station 11002: -0.0002661333686054389\n"
     ]
    },
    {
     "name": "stderr",
     "output_type": "stream",
     "text": [
      "Training models:   3%|██                                                                 | 3/100 [02:28<1:18:59, 48.86s/station]"
     ]
    },
    {
     "name": "stdout",
     "output_type": "stream",
     "text": [
      "Mean Squared Error for station 11002: 0.00029046166218970937\n",
      "Valid indices for station 11023: [91, 93, 94, 126, 97]\n",
      "Valid indices for station 11023: [130, 77, 98, 112, 88, 119, 80, 118, 124, 128, 127, 120, 81, 79, 91, 93, 95, 94, 126, 708, 97, 99, 100, 748, 89, 92]\n",
      "Cross-Validation Score for station 11023: -0.0005139637793574825\n"
     ]
    },
    {
     "name": "stderr",
     "output_type": "stream",
     "text": [
      "Training models:   4%|██▋                                                                | 4/100 [03:21<1:20:25, 50.27s/station]"
     ]
    },
    {
     "name": "stdout",
     "output_type": "stream",
     "text": [
      "Mean Squared Error for station 11023: 0.0008682492334882872\n",
      "Valid indices for station 45003: [1250]\n",
      "Valid indices for station 45003: [1250]\n",
      "Valid indices for station 45003: [1250]\n",
      "Valid indices for station 45003: [1250]\n"
     ]
    },
    {
     "name": "stderr",
     "output_type": "stream",
     "text": [
      "/Users/anthonybellon/Comp_Documents/VelibVisualisation/scripts/train_model.py:103: SettingWithCopyWarning: \n",
      "A value is trying to be set on a copy of a slice from a DataFrame.\n",
      "Try using .loc[row_indexer,col_indexer] = value instead\n",
      "\n",
      "See the caveats in the documentation: https://pandas.pydata.org/pandas-docs/stable/user_guide/indexing.html#returning-a-view-versus-a-copy\n",
      "  \n"
     ]
    },
    {
     "name": "stdout",
     "output_type": "stream",
     "text": [
      "Cross-Validation Score for station 45003: -1.8367253430916147e-06\n"
     ]
    },
    {
     "name": "stderr",
     "output_type": "stream",
     "text": [
      "Training models:   5%|███▎                                                               | 5/100 [03:45<1:05:00, 41.06s/station]"
     ]
    },
    {
     "name": "stdout",
     "output_type": "stream",
     "text": [
      "Mean Squared Error for station 45003: 0.0\n",
      "Valid indices for station 31009: [1018]\n",
      "Valid indices for station 31009: [1048, 1018, 1029]\n",
      "Valid indices for station 31009: [1046, 1022, 1048, 1016, 1018, 1029, 1028, 1047, 1017, 1030, 1023, 1031]\n",
      "Cross-Validation Score for station 31009: -0.00045196269115956326\n"
     ]
    },
    {
     "name": "stderr",
     "output_type": "stream",
     "text": [
      "Training models:   6%|████▏                                                                | 6/100 [04:14<57:44, 36.86s/station]"
     ]
    },
    {
     "name": "stdout",
     "output_type": "stream",
     "text": [
      "Mean Squared Error for station 31009: 0.0010416097566122498\n",
      "Valid indices for station 11047: [1002, 1003, 114, 117, 1001, 121, 115, 111, 113]\n",
      "Cross-Validation Score for station 11047: -8.640650039355175e-05\n"
     ]
    },
    {
     "name": "stderr",
     "output_type": "stream",
     "text": [
      "Training models:   7%|████▋                                                              | 7/100 [05:01<1:02:12, 40.14s/station]"
     ]
    },
    {
     "name": "stdout",
     "output_type": "stream",
     "text": [
      "Mean Squared Error for station 11047: 2.0295690630117746e-05\n",
      "Valid indices for station 17030: [520, 553, 537, 515, 516, 513, 529]\n",
      "Cross-Validation Score for station 17030: -9.612431187130033e-05\n"
     ]
    },
    {
     "name": "stderr",
     "output_type": "stream",
     "text": [
      "Training models:   8%|█████▌                                                               | 8/100 [05:33<57:23, 37.43s/station]"
     ]
    },
    {
     "name": "stdout",
     "output_type": "stream",
     "text": [
      "Mean Squared Error for station 17030: 4.295726396594318e-06\n",
      "Valid indices for station 12111: [164, 179, 165, 166, 167]\n",
      "Cross-Validation Score for station 12111: -4.079399540230523e-05\n"
     ]
    },
    {
     "name": "stderr",
     "output_type": "stream",
     "text": [
      "Training models:   9%|██████▏                                                              | 9/100 [06:03<53:30, 35.28s/station]"
     ]
    },
    {
     "name": "stdout",
     "output_type": "stream",
     "text": [
      "Mean Squared Error for station 12111: 0.0001736557756624646\n",
      "Valid indices for station 8034: [1409, 1417, 1406, 1426, 1404, 1403]\n",
      "Cross-Validation Score for station 8034: -0.00011040762518471957\n"
     ]
    },
    {
     "name": "stderr",
     "output_type": "stream",
     "text": [
      "Training models:  10%|██████▊                                                             | 10/100 [06:45<56:01, 37.35s/station]"
     ]
    },
    {
     "name": "stdout",
     "output_type": "stream",
     "text": [
      "Mean Squared Error for station 8034: 5.834521163063768e-05\n",
      "Valid indices for station 15067: [358, 1374, 393, 360, 404, 357, 397]\n",
      "Cross-Validation Score for station 15067: -4.960163141082564e-05\n"
     ]
    },
    {
     "name": "stderr",
     "output_type": "stream",
     "text": [
      "Training models:  11%|███████▍                                                            | 11/100 [07:19<53:54, 36.34s/station]"
     ]
    },
    {
     "name": "stdout",
     "output_type": "stream",
     "text": [
      "Mean Squared Error for station 15067: 0.000474960576121649\n",
      "Valid indices for station 5032: [1318, 1280, 1317, 1295, 1279, 1293, 1275, 1315, 1283, 1284]\n",
      "Cross-Validation Score for station 5032: -0.0003004459015605956\n"
     ]
    },
    {
     "name": "stderr",
     "output_type": "stream",
     "text": [
      "Training models:  12%|████████▏                                                           | 12/100 [08:02<56:21, 38.42s/station]"
     ]
    },
    {
     "name": "stdout",
     "output_type": "stream",
     "text": [
      "Mean Squared Error for station 5032: 0.00017358958462492256\n",
      "Valid indices for station 14020: [296, 295, 318, 297, 293, 331]\n",
      "Cross-Validation Score for station 14020: -0.004727013306143203\n"
     ]
    },
    {
     "name": "stderr",
     "output_type": "stream",
     "text": [
      "Training models:  13%|████████▊                                                           | 13/100 [08:40<55:12, 38.07s/station]"
     ]
    },
    {
     "name": "stdout",
     "output_type": "stream",
     "text": [
      "Mean Squared Error for station 14020: 0.0011109875705955679\n",
      "Valid indices for station 10016: [7, 16, 17, 18, 62, 67, 6, 9, 11, 14, 15, 58, 23]\n",
      "Cross-Validation Score for station 10016: -4.068818493836332e-05\n"
     ]
    },
    {
     "name": "stderr",
     "output_type": "stream",
     "text": [
      "Training models:  14%|█████████▌                                                          | 14/100 [09:10<51:01, 35.59s/station]"
     ]
    },
    {
     "name": "stdout",
     "output_type": "stream",
     "text": [
      "Mean Squared Error for station 10016: 3.9074539842588724e-08\n",
      "Valid indices for station 43401: [1228]\n",
      "Valid indices for station 43401: [1245, 1228, 190]\n",
      "Valid indices for station 43401: [1245, 1261, 1228, 190, 201, 1229]\n",
      "Cross-Validation Score for station 43401: -0.0004951620628156504\n"
     ]
    },
    {
     "name": "stderr",
     "output_type": "stream",
     "text": [
      "Training models:  15%|██████████▏                                                         | 15/100 [09:51<52:45, 37.24s/station]"
     ]
    },
    {
     "name": "stdout",
     "output_type": "stream",
     "text": [
      "Mean Squared Error for station 43401: 0.00010625779148763452\n",
      "Valid indices for station 26002: [976]\n",
      "Valid indices for station 26002: [976, 898]\n",
      "Valid indices for station 26002: [985, 977, 899, 976, 898]\n",
      "Cross-Validation Score for station 26002: -0.025492325911213143\n"
     ]
    },
    {
     "name": "stderr",
     "output_type": "stream",
     "text": [
      "Training models:  16%|██████████▉                                                         | 16/100 [10:33<54:07, 38.66s/station]"
     ]
    },
    {
     "name": "stdout",
     "output_type": "stream",
     "text": [
      "Mean Squared Error for station 26002: 0.01795227968220598\n",
      "Valid indices for station 6006: [1328, 1325, 1323, 1326, 1324, 1327, 1322, 1344, 1339]\n",
      "Cross-Validation Score for station 6006: -5.60915243952425e-05\n"
     ]
    },
    {
     "name": "stderr",
     "output_type": "stream",
     "text": [
      "Training models:  17%|███████████▌                                                        | 17/100 [11:07<51:51, 37.49s/station]"
     ]
    },
    {
     "name": "stdout",
     "output_type": "stream",
     "text": [
      "Mean Squared Error for station 6006: 1.1833851661342676e-05\n",
      "Valid indices for station 15056: [385, 402, 416, 384, 408, 401, 387, 396, 364]\n",
      "Cross-Validation Score for station 15056: -0.002945620299652786\n"
     ]
    },
    {
     "name": "stderr",
     "output_type": "stream",
     "text": [
      "Training models:  18%|████████████▏                                                       | 18/100 [11:43<50:22, 36.86s/station]"
     ]
    },
    {
     "name": "stdout",
     "output_type": "stream",
     "text": [
      "Mean Squared Error for station 15056: 0.003319981121526809\n",
      "Out of bounds indices for station 8010: [1464, 1465, 1466]\n",
      "Max valid index: 1460\n",
      "Valid indices for station 8010: [1388, 1432, 1387, 1381, 531, 1389, 592]\n",
      "Cross-Validation Score for station 8010: -0.0002697957558395373\n"
     ]
    },
    {
     "name": "stderr",
     "output_type": "stream",
     "text": [
      "Training models:  19%|████████████▉                                                       | 19/100 [12:10<45:41, 33.85s/station]"
     ]
    },
    {
     "name": "stdout",
     "output_type": "stream",
     "text": [
      "Mean Squared Error for station 8010: 6.883164406690941e-06\n",
      "Valid indices for station 31022: [1028, 1030, 1023, 1031]\n",
      "Valid indices for station 31022: [1026, 1029, 1028, 1020, 1021, 1017, 1030, 1023, 1031, 1032]\n",
      "Cross-Validation Score for station 31022: -0.0004890931352304461\n"
     ]
    },
    {
     "name": "stderr",
     "output_type": "stream",
     "text": [
      "Training models:  20%|█████████████▌                                                      | 20/100 [12:40<43:38, 32.73s/station]"
     ]
    },
    {
     "name": "stdout",
     "output_type": "stream",
     "text": [
      "Mean Squared Error for station 31022: 0.000361589726590861\n",
      "Valid indices for station 19101: [634, 677, 676, 654, 738, 649, 665, 635]\n",
      "Cross-Validation Score for station 19101: -0.00019655497007545274\n"
     ]
    },
    {
     "name": "stderr",
     "output_type": "stream",
     "text": [
      "Training models:  21%|██████████████▎                                                     | 21/100 [13:11<42:24, 32.21s/station]"
     ]
    },
    {
     "name": "stdout",
     "output_type": "stream",
     "text": [
      "Mean Squared Error for station 19101: 5.030974755866989e-05\n",
      "Valid indices for station 14003: [308, 328, 282, 278, 279]\n",
      "Cross-Validation Score for station 14003: -0.0011816954402659847\n"
     ]
    },
    {
     "name": "stderr",
     "output_type": "stream",
     "text": [
      "Training models:  22%|██████████████▉                                                     | 22/100 [13:37<39:29, 30.38s/station]"
     ]
    },
    {
     "name": "stdout",
     "output_type": "stream",
     "text": [
      "Mean Squared Error for station 14003: 0.0031676093204031025\n",
      "Valid indices for station 46002: [1254]\n",
      "Valid indices for station 46002: [1255, 1254, 1253]\n",
      "Valid indices for station 46002: [1255, 1254, 1253]\n",
      "Valid indices for station 46002: [1255, 1242, 1243, 1254, 1253]\n",
      "Cross-Validation Score for station 46002: -5.382101080950633e-05\n"
     ]
    },
    {
     "name": "stderr",
     "output_type": "stream",
     "text": [
      "Training models:  23%|███████████████▋                                                    | 23/100 [14:07<39:06, 30.47s/station]"
     ]
    },
    {
     "name": "stdout",
     "output_type": "stream",
     "text": [
      "Mean Squared Error for station 46002: 0.0001209663377992359\n",
      "Out of bounds indices for station 18003: [1467]\n",
      "Max valid index: 1460\n",
      "Valid indices for station 18003: [1458, 590, 555, 554, 600, 603, 602]\n",
      "Cross-Validation Score for station 18003: -0.00044501451653326926\n"
     ]
    },
    {
     "name": "stderr",
     "output_type": "stream",
     "text": [
      "Training models:  24%|████████████████▎                                                   | 24/100 [14:36<37:41, 29.76s/station]"
     ]
    },
    {
     "name": "stdout",
     "output_type": "stream",
     "text": [
      "Mean Squared Error for station 18003: 0.0020305095585433064\n",
      "Valid indices for station 11113: [115, 109, 116, 111, 125, 110, 113, 107, 129, 106, 105]\n",
      "Cross-Validation Score for station 11113: -0.001981743037744528\n"
     ]
    },
    {
     "name": "stderr",
     "output_type": "stream",
     "text": [
      "Training models:  25%|█████████████████                                                   | 25/100 [15:16<41:21, 33.08s/station]"
     ]
    },
    {
     "name": "stdout",
     "output_type": "stream",
     "text": [
      "Mean Squared Error for station 11113: 0.000712868047230692\n",
      "Valid indices for station 21212: [940, 822, 821, 818]\n",
      "Valid indices for station 21212: [905, 940, 822, 821, 818, 906, 904]\n",
      "Cross-Validation Score for station 21212: -5.8689668683548135e-05\n"
     ]
    },
    {
     "name": "stderr",
     "output_type": "stream",
     "text": [
      "Training models:  26%|█████████████████▋                                                  | 26/100 [15:41<37:49, 30.66s/station]"
     ]
    },
    {
     "name": "stdout",
     "output_type": "stream",
     "text": [
      "Mean Squared Error for station 21212: 0.0\n",
      "Valid indices for station 42706: [1216, 1217, 235]\n",
      "Valid indices for station 42706: [1215, 1216, 1217, 1214, 260, 234, 235, 264, 1192]\n",
      "Cross-Validation Score for station 42706: -0.000555840638569037\n"
     ]
    },
    {
     "name": "stderr",
     "output_type": "stream",
     "text": [
      "Training models:  27%|██████████████████▎                                                 | 27/100 [16:08<35:45, 29.38s/station]"
     ]
    },
    {
     "name": "stdout",
     "output_type": "stream",
     "text": [
      "Mean Squared Error for station 42706: 0.0004301958111863767\n",
      "Valid indices for station 33017: [1091]\n",
      "Valid indices for station 33017: [1087, 1086, 1085, 1092, 1091, 1093, 1041]\n",
      "Cross-Validation Score for station 33017: -0.00022726759750464945\n"
     ]
    },
    {
     "name": "stderr",
     "output_type": "stream",
     "text": [
      "Training models:  28%|███████████████████                                                 | 28/100 [16:39<35:54, 29.93s/station]"
     ]
    },
    {
     "name": "stdout",
     "output_type": "stream",
     "text": [
      "Mean Squared Error for station 33017: 9.760377053753632e-05\n",
      "Valid indices for station 15042: [835, 373, 385]\n",
      "Valid indices for station 15042: [833, 847, 835, 837, 386, 394, 426, 373, 413, 385, 402, 416, 384, 840, 401, 396]\n",
      "Cross-Validation Score for station 15042: -0.00018147932081054676\n"
     ]
    },
    {
     "name": "stderr",
     "output_type": "stream",
     "text": [
      "Training models:  29%|███████████████████▋                                                | 29/100 [17:06<34:17, 28.98s/station]"
     ]
    },
    {
     "name": "stdout",
     "output_type": "stream",
     "text": [
      "Mean Squared Error for station 15042: 3.0104485284302907e-05\n",
      "Valid indices for station 20112: [751, 646, 649, 737, 718, 666, 672]\n",
      "Cross-Validation Score for station 20112: -0.00016867853094106435\n"
     ]
    },
    {
     "name": "stderr",
     "output_type": "stream",
     "text": [
      "Training models:  30%|████████████████████▍                                               | 30/100 [17:32<32:58, 28.26s/station]"
     ]
    },
    {
     "name": "stdout",
     "output_type": "stream",
     "text": [
      "Mean Squared Error for station 20112: 4.0016463916582644e-05\n",
      "Valid indices for station 8017: [1394, 1392, 1391, 1384, 1393, 1395, 1385, 1428, 1432, 1386, 1381]\n",
      "Cross-Validation Score for station 8017: -0.0007472399920733154\n"
     ]
    },
    {
     "name": "stderr",
     "output_type": "stream",
     "text": [
      "Training models:  31%|█████████████████████                                               | 31/100 [18:09<35:29, 30.86s/station]"
     ]
    },
    {
     "name": "stdout",
     "output_type": "stream",
     "text": [
      "Mean Squared Error for station 8017: 0.00022777808701562478\n",
      "Valid indices for station 43008: [1225]\n",
      "Valid indices for station 43008: [186, 1224, 1225, 1165, 1227, 1226, 1020, 1021]\n",
      "Cross-Validation Score for station 43008: -0.0002508946943841314\n"
     ]
    },
    {
     "name": "stderr",
     "output_type": "stream",
     "text": [
      "Training models:  32%|█████████████████████▊                                              | 32/100 [18:42<35:26, 31.28s/station]"
     ]
    },
    {
     "name": "stdout",
     "output_type": "stream",
     "text": [
      "Mean Squared Error for station 43008: 0.0001094108623869098\n",
      "Valid indices for station 19044: [650, 651]\n",
      "Valid indices for station 19044: [653, 675, 624, 1108, 650, 1125, 651, 1110, 1109, 1121]\n",
      "Cross-Validation Score for station 19044: -0.0014122930407264693\n"
     ]
    },
    {
     "name": "stderr",
     "output_type": "stream",
     "text": [
      "Training models:  33%|██████████████████████▍                                             | 33/100 [19:12<34:39, 31.04s/station]"
     ]
    },
    {
     "name": "stdout",
     "output_type": "stream",
     "text": [
      "Mean Squared Error for station 19044: 0.000493258997651487\n",
      "Valid indices for station 33102: [1096, 1097, 1116]\n",
      "Valid indices for station 33102: [668, 1096, 1097, 1124, 1117, 1116, 1115, 1114, 1113, 1119]\n",
      "Cross-Validation Score for station 33102: -0.0001938141558797041\n"
     ]
    },
    {
     "name": "stderr",
     "output_type": "stream",
     "text": [
      "Training models:  34%|███████████████████████                                             | 34/100 [19:33<30:48, 28.00s/station]"
     ]
    },
    {
     "name": "stdout",
     "output_type": "stream",
     "text": [
      "Mean Squared Error for station 33102: 0.0004691450217969817\n",
      "Valid indices for station 21312: [839]\n",
      "Valid indices for station 21312: [850, 839, 834, 836, 849, 837, 843, 848]\n",
      "Cross-Validation Score for station 21312: -0.0013895884266163629\n"
     ]
    },
    {
     "name": "stderr",
     "output_type": "stream",
     "text": [
      "Training models:  35%|███████████████████████▊                                            | 35/100 [19:52<27:26, 25.33s/station]"
     ]
    },
    {
     "name": "stdout",
     "output_type": "stream",
     "text": [
      "Mean Squared Error for station 21312: 6.699481620910142e-05\n",
      "Valid indices for station 18011: [562, 598, 563, 612]\n",
      "Valid indices for station 18011: [564, 562, 599, 598, 587, 658, 616, 563, 607, 612, 670, 595]\n",
      "Cross-Validation Score for station 18011: -0.000352667980257175\n"
     ]
    },
    {
     "name": "stderr",
     "output_type": "stream",
     "text": [
      "Training models:  36%|████████████████████████▍                                           | 36/100 [20:31<31:13, 29.28s/station]"
     ]
    },
    {
     "name": "stdout",
     "output_type": "stream",
     "text": [
      "Mean Squared Error for station 18011: 0.0009460227562722867\n",
      "Valid indices for station 13001: [317, 280, 281, 211, 210, 212]\n",
      "Cross-Validation Score for station 13001: -4.2769653379654996e-05\n"
     ]
    },
    {
     "name": "stderr",
     "output_type": "stream",
     "text": [
      "Training models:  37%|█████████████████████████▏                                          | 37/100 [20:53<28:37, 27.27s/station]"
     ]
    },
    {
     "name": "stdout",
     "output_type": "stream",
     "text": [
      "Mean Squared Error for station 13001: 0.0\n",
      "Valid indices for station 44006: [1235]\n",
      "Valid indices for station 44006: [1235, 1196]\n",
      "Valid indices for station 44006: [1239, 1195, 1234, 1235, 1196, 1182, 1187]\n",
      "Cross-Validation Score for station 44006: -0.00011126148963388697\n"
     ]
    },
    {
     "name": "stderr",
     "output_type": "stream",
     "text": [
      "Training models:  38%|█████████████████████████▊                                          | 38/100 [21:26<29:46, 28.81s/station]"
     ]
    },
    {
     "name": "stdout",
     "output_type": "stream",
     "text": [
      "Mean Squared Error for station 44006: 0.00014580587003722092\n",
      "Valid indices for station 5004: [280, 281, 1277, 1348, 1278, 1313, 1314, 1276, 1316]\n",
      "Cross-Validation Score for station 5004: 0.0\n"
     ]
    },
    {
     "name": "stderr",
     "output_type": "stream",
     "text": [
      "Training models:  39%|██████████████████████████▌                                         | 39/100 [21:54<29:10, 28.70s/station]"
     ]
    },
    {
     "name": "stdout",
     "output_type": "stream",
     "text": [
      "Mean Squared Error for station 5004: 0.0\n",
      "Valid indices for station 19103: [637, 656, 655, 674, 631, 630]\n",
      "Cross-Validation Score for station 19103: -3.1140986851751247e-05\n"
     ]
    },
    {
     "name": "stderr",
     "output_type": "stream",
     "text": [
      "Training models:  40%|███████████████████████████▏                                        | 40/100 [22:16<26:35, 26.60s/station]"
     ]
    },
    {
     "name": "stdout",
     "output_type": "stream",
     "text": [
      "Mean Squared Error for station 19103: 3.601959033478687e-07\n",
      "Valid indices for station 21306: [845, 846, 833]\n",
      "Valid indices for station 21306: [834, 832, 789, 784, 842, 841, 845, 846, 833, 847, 849, 835, 837, 426, 373]\n",
      "Cross-Validation Score for station 21306: -0.0007771707709433327\n"
     ]
    },
    {
     "name": "stderr",
     "output_type": "stream",
     "text": [
      "Training models:  41%|███████████████████████████▉                                        | 41/100 [22:59<31:08, 31.66s/station]"
     ]
    },
    {
     "name": "stdout",
     "output_type": "stream",
     "text": [
      "Mean Squared Error for station 21306: 0.0004684763490314921\n",
      "Valid indices for station 12114: [182, 181, 683, 1176]\n",
      "Valid indices for station 12114: [1178, 1175, 195, 182, 197, 181, 154, 722, 684, 754, 731, 1177, 683, 1176, 1218, 1013, 1179]\n",
      "Cross-Validation Score for station 12114: -0.0012482210651368227\n"
     ]
    },
    {
     "name": "stderr",
     "output_type": "stream",
     "text": [
      "Training models:  42%|████████████████████████████▌                                       | 42/100 [23:28<29:53, 30.93s/station]"
     ]
    },
    {
     "name": "stdout",
     "output_type": "stream",
     "text": [
      "Mean Squared Error for station 12114: 0.00038429277076312856\n",
      "Valid indices for station 14138: [320, 333, 374]\n",
      "Valid indices for station 14138: [378, 902, 299, 424, 320, 333, 374, 377, 372, 371, 414, 370, 312, 298, 334, 350]\n",
      "Cross-Validation Score for station 14138: -0.0007952224069783387\n"
     ]
    },
    {
     "name": "stderr",
     "output_type": "stream",
     "text": [
      "Training models:  43%|█████████████████████████████▏                                      | 43/100 [23:57<28:46, 30.29s/station]"
     ]
    },
    {
     "name": "stdout",
     "output_type": "stream",
     "text": [
      "Mean Squared Error for station 14138: 0.00016114077117808563\n",
      "Valid indices for station 46003: [1255]\n",
      "Valid indices for station 46003: [1255, 1243, 1254]\n",
      "Valid indices for station 46003: [1255, 1242, 1243, 1254, 1253]\n",
      "Cross-Validation Score for station 46003: 0.0\n"
     ]
    },
    {
     "name": "stderr",
     "output_type": "stream",
     "text": [
      "Training models:  44%|█████████████████████████████▉                                      | 44/100 [24:21<26:35, 28.49s/station]"
     ]
    },
    {
     "name": "stdout",
     "output_type": "stream",
     "text": [
      "Mean Squared Error for station 46003: 0.0\n",
      "Valid indices for station 18028: [569, 570, 491, 579, 585, 601, 578]\n",
      "Cross-Validation Score for station 18028: -0.00014700014228801858\n"
     ]
    },
    {
     "name": "stderr",
     "output_type": "stream",
     "text": [
      "Training models:  45%|██████████████████████████████▌                                     | 45/100 [24:48<25:39, 27.98s/station]"
     ]
    },
    {
     "name": "stdout",
     "output_type": "stream",
     "text": [
      "Mean Squared Error for station 18028: 2.218689001691708e-05\n",
      "Valid indices for station 15105: [404, 357, 403, 397, 356, 1379]\n",
      "Cross-Validation Score for station 15105: -0.00047658310126426915\n"
     ]
    },
    {
     "name": "stderr",
     "output_type": "stream",
     "text": [
      "Training models:  46%|███████████████████████████████▎                                    | 46/100 [25:24<27:17, 30.32s/station]"
     ]
    },
    {
     "name": "stdout",
     "output_type": "stream",
     "text": [
      "Mean Squared Error for station 15105: 0.00011892907087551084\n",
      "Valid indices for station 18031: [580, 576, 581, 583, 582, 596, 609, 604]\n",
      "Cross-Validation Score for station 18031: -0.018044818548938194\n"
     ]
    },
    {
     "name": "stderr",
     "output_type": "stream",
     "text": [
      "Training models:  47%|███████████████████████████████▉                                    | 47/100 [25:53<26:28, 29.97s/station]"
     ]
    },
    {
     "name": "stdout",
     "output_type": "stream",
     "text": [
      "Mean Squared Error for station 18031: 0.0017422988936648342\n",
      "Valid indices for station 20037: [714, 734, 750, 741, 752]\n",
      "Cross-Validation Score for station 20037: -0.00012815910081593866\n"
     ]
    },
    {
     "name": "stderr",
     "output_type": "stream",
     "text": [
      "Training models:  48%|████████████████████████████████▋                                   | 48/100 [26:20<25:10, 29.04s/station]"
     ]
    },
    {
     "name": "stdout",
     "output_type": "stream",
     "text": [
      "Mean Squared Error for station 20037: 0.00011702379161383231\n",
      "Valid indices for station 5018: [1295, 1279, 1315, 1312, 1283, 1288, 1287, 1284, 1285, 1307]\n",
      "Cross-Validation Score for station 5018: -0.0005229357376039688\n"
     ]
    },
    {
     "name": "stderr",
     "output_type": "stream",
     "text": [
      "Training models:  49%|█████████████████████████████████▎                                  | 49/100 [26:51<25:16, 29.74s/station]"
     ]
    },
    {
     "name": "stdout",
     "output_type": "stream",
     "text": [
      "Mean Squared Error for station 5018: 4.0864722575538825e-05\n",
      "Valid indices for station 15054: [383, 418, 379, 382, 390, 395, 381]\n",
      "Cross-Validation Score for station 15054: -3.61755572526997e-05\n"
     ]
    },
    {
     "name": "stderr",
     "output_type": "stream",
     "text": [
      "Training models:  50%|██████████████████████████████████                                  | 50/100 [27:23<25:20, 30.41s/station]"
     ]
    },
    {
     "name": "stdout",
     "output_type": "stream",
     "text": [
      "Mean Squared Error for station 15054: 3.182984137706416e-05\n",
      "Valid indices for station 15106: [354, 393, 360, 404, 357, 403, 415]\n",
      "Cross-Validation Score for station 15106: -0.00015024260814080004\n"
     ]
    },
    {
     "name": "stderr",
     "output_type": "stream",
     "text": [
      "Training models:  51%|██████████████████████████████████▋                                 | 51/100 [27:59<26:06, 31.97s/station]"
     ]
    },
    {
     "name": "stdout",
     "output_type": "stream",
     "text": [
      "Mean Squared Error for station 15106: 0.0006331703544912172\n",
      "Valid indices for station 14008: [327, 285, 305, 308, 328, 282]\n",
      "Cross-Validation Score for station 14008: -0.02516365429907829\n"
     ]
    },
    {
     "name": "stderr",
     "output_type": "stream",
     "text": [
      "Training models:  52%|███████████████████████████████████▎                                | 52/100 [28:28<24:53, 31.12s/station]"
     ]
    },
    {
     "name": "stdout",
     "output_type": "stream",
     "text": [
      "Mean Squared Error for station 14008: 0.0020953960349186407\n",
      "Valid indices for station 5124: [1277, 1278, 1318, 1281, 1280, 1317, 1316]\n",
      "Cross-Validation Score for station 5124: -0.00018624084272085437\n"
     ]
    },
    {
     "name": "stderr",
     "output_type": "stream",
     "text": [
      "Training models:  53%|████████████████████████████████████                                | 53/100 [29:00<24:37, 31.44s/station]"
     ]
    },
    {
     "name": "stdout",
     "output_type": "stream",
     "text": [
      "Mean Squared Error for station 5124: 5.892534011094738e-05\n",
      "Valid indices for station 14106: [903, 299, 320, 312, 298]\n",
      "Cross-Validation Score for station 14106: -0.00017630047232894893\n"
     ]
    },
    {
     "name": "stderr",
     "output_type": "stream",
     "text": [
      "Training models:  54%|████████████████████████████████████▋                               | 54/100 [29:22<21:52, 28.54s/station]"
     ]
    },
    {
     "name": "stdout",
     "output_type": "stream",
     "text": [
      "Mean Squared Error for station 14106: 8.952521232677703e-05\n",
      "Valid indices for station 18046: [594, 593, 492, 1389, 614]\n",
      "Cross-Validation Score for station 18046: -0.0009719502272394808\n"
     ]
    },
    {
     "name": "stderr",
     "output_type": "stream",
     "text": [
      "Training models:  55%|█████████████████████████████████████▍                              | 55/100 [29:47<20:28, 27.30s/station]"
     ]
    },
    {
     "name": "stdout",
     "output_type": "stream",
     "text": [
      "Mean Squared Error for station 18046: 0.0002120098109499531\n",
      "Valid indices for station 22406: [905]\n",
      "Valid indices for station 22406: [866, 865, 868, 905, 901, 940, 822, 821, 902, 818, 906]\n",
      "Cross-Validation Score for station 22406: -0.0008985074163851603\n"
     ]
    },
    {
     "name": "stderr",
     "output_type": "stream",
     "text": [
      "Training models:  56%|██████████████████████████████████████                              | 56/100 [30:13<19:55, 27.18s/station]"
     ]
    },
    {
     "name": "stdout",
     "output_type": "stream",
     "text": [
      "Mean Squared Error for station 22406: 2.7377027432325975e-05\n",
      "Valid indices for station 35002: [1107]\n",
      "Valid indices for station 35002: [1108, 1125, 1084, 1107, 1106, 1121]\n",
      "Cross-Validation Score for station 35002: -0.0003280231803567125\n"
     ]
    },
    {
     "name": "stderr",
     "output_type": "stream",
     "text": [
      "Training models:  57%|██████████████████████████████████████▊                             | 57/100 [30:41<19:33, 27.29s/station]"
     ]
    },
    {
     "name": "stdout",
     "output_type": "stream",
     "text": [
      "Mean Squared Error for station 35002: 1.8850943844539052e-05\n",
      "Valid indices for station 31102: [1037]\n",
      "Valid indices for station 31102: [1037]\n",
      "Valid indices for station 31102: [1037, 1034]\n",
      "Valid indices for station 31102: [1037, 1034, 1038]\n"
     ]
    },
    {
     "name": "stderr",
     "output_type": "stream",
     "text": [
      "/Users/anthonybellon/Comp_Documents/VelibVisualisation/scripts/train_model.py:103: SettingWithCopyWarning: \n",
      "A value is trying to be set on a copy of a slice from a DataFrame.\n",
      "Try using .loc[row_indexer,col_indexer] = value instead\n",
      "\n",
      "See the caveats in the documentation: https://pandas.pydata.org/pandas-docs/stable/user_guide/indexing.html#returning-a-view-versus-a-copy\n",
      "  \n"
     ]
    },
    {
     "name": "stdout",
     "output_type": "stream",
     "text": [
      "Cross-Validation Score for station 31102: -0.00023423802542374596\n"
     ]
    },
    {
     "name": "stderr",
     "output_type": "stream",
     "text": [
      "Training models:  58%|███████████████████████████████████████▍                            | 58/100 [31:06<18:35, 26.55s/station]"
     ]
    },
    {
     "name": "stdout",
     "output_type": "stream",
     "text": [
      "Mean Squared Error for station 31102: 0.0002501678968385745\n",
      "Valid indices for station 2111: [71, 52, 53, 57, 132, 805, 760, 726, 727, 814, 804, 744, 757, 747]\n",
      "Cross-Validation Score for station 2111: -0.039093123770850835\n"
     ]
    },
    {
     "name": "stderr",
     "output_type": "stream",
     "text": [
      "Training models:  59%|████████████████████████████████████████                            | 59/100 [31:40<19:40, 28.79s/station]"
     ]
    },
    {
     "name": "stdout",
     "output_type": "stream",
     "text": [
      "Mean Squared Error for station 2111: 0.001752039438835424\n",
      "Valid indices for station 8054: [1429, 1400, 1424, 527, 1422, 1431, 1419, 511, 1420, 1421, 1425]\n",
      "Cross-Validation Score for station 8054: -0.0007533213812132794\n"
     ]
    },
    {
     "name": "stderr",
     "output_type": "stream",
     "text": [
      "Training models:  60%|████████████████████████████████████████▊                           | 60/100 [32:10<19:32, 29.30s/station]"
     ]
    },
    {
     "name": "stdout",
     "output_type": "stream",
     "text": [
      "Mean Squared Error for station 8054: 0.0018118576078895183\n",
      "Valid indices for station 14012: [292, 289]\n",
      "Valid indices for station 14012: [290, 330, 321, 282, 288, 286, 292, 322, 284, 289, 317, 283, 291, 276, 275, 246]\n",
      "Cross-Validation Score for station 14012: -0.00014851020882602307\n"
     ]
    },
    {
     "name": "stderr",
     "output_type": "stream",
     "text": [
      "Training models:  61%|█████████████████████████████████████████▍                          | 61/100 [32:40<19:06, 29.40s/station]"
     ]
    },
    {
     "name": "stdout",
     "output_type": "stream",
     "text": [
      "Mean Squared Error for station 14012: 0.0003875592084772583\n",
      "Valid indices for station 15109: [388, 387, 407, 364, 391]\n",
      "Cross-Validation Score for station 15109: -0.00026685808197920156\n"
     ]
    },
    {
     "name": "stderr",
     "output_type": "stream",
     "text": [
      "Training models:  62%|██████████████████████████████████████████▏                         | 62/100 [33:14<19:35, 30.92s/station]"
     ]
    },
    {
     "name": "stdout",
     "output_type": "stream",
     "text": [
      "Mean Squared Error for station 15109: 0.0006390095868680601\n",
      "Valid indices for station 21209: [820, 894]\n",
      "Valid indices for station 21209: [820, 894, 818, 824, 819, 826, 817]\n",
      "Cross-Validation Score for station 21209: -0.0002446787417708754\n"
     ]
    },
    {
     "name": "stderr",
     "output_type": "stream",
     "text": [
      "Training models:  63%|██████████████████████████████████████████▊                         | 63/100 [33:54<20:36, 33.42s/station]"
     ]
    },
    {
     "name": "stdout",
     "output_type": "stream",
     "text": [
      "Mean Squared Error for station 21209: 0.0002651427166936511\n",
      "Valid indices for station 13053: [244, 250, 251, 252, 253, 221]\n",
      "Cross-Validation Score for station 13053: -2.5187796843847607e-05\n"
     ]
    },
    {
     "name": "stderr",
     "output_type": "stream",
     "text": [
      "Training models:  64%|███████████████████████████████████████████▌                        | 64/100 [34:27<20:05, 33.49s/station]"
     ]
    },
    {
     "name": "stdout",
     "output_type": "stream",
     "text": [
      "Mean Squared Error for station 13053: 6.379902795801243e-07\n",
      "Valid indices for station 21005: [778, 781, 769, 773]\n",
      "Valid indices for station 21005: [779, 780, 778, 776, 786, 785, 781, 787, 782, 769, 773, 772, 768, 792]\n",
      "Cross-Validation Score for station 21005: -9.079413053987977e-05\n"
     ]
    },
    {
     "name": "stderr",
     "output_type": "stream",
     "text": [
      "Training models:  65%|████████████████████████████████████████████▏                       | 65/100 [34:59<19:10, 32.86s/station]"
     ]
    },
    {
     "name": "stdout",
     "output_type": "stream",
     "text": [
      "Mean Squared Error for station 21005: 3.8293049045736945e-06\n",
      "Valid indices for station 35010: [1116, 1115]\n",
      "Valid indices for station 35010: [653, 675, 650, 1096, 1097, 1116, 1115, 1114, 1110, 1111, 1109]\n",
      "Cross-Validation Score for station 35010: -0.00012333621779196492\n"
     ]
    },
    {
     "name": "stderr",
     "output_type": "stream",
     "text": [
      "Training models:  66%|████████████████████████████████████████████▉                       | 66/100 [35:31<18:27, 32.56s/station]"
     ]
    },
    {
     "name": "stdout",
     "output_type": "stream",
     "text": [
      "Mean Squared Error for station 35010: 1.2023485233235806e-06\n",
      "Valid indices for station 20131: [126, 748, 89, 92]\n",
      "Valid indices for station 20131: [128, 127, 120, 131, 81, 86, 87, 91, 93, 94, 126, 708, 97, 709, 755, 748, 89, 92, 122, 690, 694]\n",
      "Cross-Validation Score for station 20131: -0.00021199539020650424\n"
     ]
    },
    {
     "name": "stderr",
     "output_type": "stream",
     "text": [
      "Training models:  67%|█████████████████████████████████████████████▌                      | 67/100 [36:05<18:08, 32.99s/station]"
     ]
    },
    {
     "name": "stdout",
     "output_type": "stream",
     "text": [
      "Mean Squared Error for station 20131: 0.0001609326893399808\n",
      "Valid indices for station 14124: [321, 292]\n",
      "Valid indices for station 14124: [1209, 825, 313, 823, 326, 1210, 290, 330, 321, 293, 294, 288, 292, 289]\n",
      "Cross-Validation Score for station 14124: -4.2260758288099716e-05\n"
     ]
    },
    {
     "name": "stderr",
     "output_type": "stream",
     "text": [
      "Training models:  68%|██████████████████████████████████████████████▏                     | 68/100 [36:40<18:03, 33.85s/station]"
     ]
    },
    {
     "name": "stdout",
     "output_type": "stream",
     "text": [
      "Mean Squared Error for station 14124: 6.545712803577852e-06\n",
      "Valid indices for station 15110: [384, 389, 408, 383, 396, 364]\n",
      "Cross-Validation Score for station 15110: -0.0001086075834771137\n"
     ]
    },
    {
     "name": "stderr",
     "output_type": "stream",
     "text": [
      "Training models:  69%|██████████████████████████████████████████████▉                     | 69/100 [37:13<17:21, 33.61s/station]"
     ]
    },
    {
     "name": "stdout",
     "output_type": "stream",
     "text": [
      "Mean Squared Error for station 15110: 0.0007270215522243011\n",
      "Valid indices for station 18022: [566, 573, 572, 574, 575, 606, 581]\n",
      "Cross-Validation Score for station 18022: -0.00022019824685551225\n"
     ]
    },
    {
     "name": "stderr",
     "output_type": "stream",
     "text": [
      "Training models:  70%|███████████████████████████████████████████████▌                    | 70/100 [37:50<17:14, 34.47s/station]"
     ]
    },
    {
     "name": "stdout",
     "output_type": "stream",
     "text": [
      "Mean Squared Error for station 18022: 7.501327668613888e-05\n",
      "Valid indices for station 21006: [770, 786]\n",
      "Valid indices for station 21006: [771, 794, 775, 770, 786, 773, 768, 792, 765, 767]\n",
      "Cross-Validation Score for station 21006: -0.00010674056791863254\n"
     ]
    },
    {
     "name": "stderr",
     "output_type": "stream",
     "text": [
      "Training models:  71%|████████████████████████████████████████████████▎                   | 71/100 [38:25<16:47, 34.73s/station]"
     ]
    },
    {
     "name": "stdout",
     "output_type": "stream",
     "text": [
      "Mean Squared Error for station 21006: 0.00027632808717484953\n",
      "Out of bounds indices for station 10042: [1474]\n",
      "Max valid index: 1460\n",
      "Valid indices for station 10042: [764, 798, 1444, 40, 1443, 4, 758, 44, 2]\n",
      "Cross-Validation Score for station 10042: -0.031815265984917226\n"
     ]
    },
    {
     "name": "stderr",
     "output_type": "stream",
     "text": [
      "Training models:  72%|████████████████████████████████████████████████▉                   | 72/100 [38:54<15:18, 32.82s/station]"
     ]
    },
    {
     "name": "stdout",
     "output_type": "stream",
     "text": [
      "Mean Squared Error for station 10042: 0.010362913558664295\n",
      "Valid indices for station 42027: [1194, 1193, 1192]\n",
      "Valid indices for station 42027: [1214, 1194, 1193, 1195, 264, 1192, 263, 1185, 1186]\n",
      "Cross-Validation Score for station 42027: -0.000879649155720048\n"
     ]
    },
    {
     "name": "stderr",
     "output_type": "stream",
     "text": [
      "Training models:  73%|█████████████████████████████████████████████████▋                  | 73/100 [39:05<11:55, 26.50s/station]"
     ]
    },
    {
     "name": "stdout",
     "output_type": "stream",
     "text": [
      "Mean Squared Error for station 42027: 0.0006218696777634013\n",
      "Valid indices for station 31008: [1026, 1028, 1021, 1017]\n",
      "Valid indices for station 31008: [1025, 1221, 1026, 1016, 1029, 1028, 1020, 1021, 1017, 1030, 1023]\n",
      "Cross-Validation Score for station 31008: -0.00039242607972375405\n"
     ]
    },
    {
     "name": "stderr",
     "output_type": "stream",
     "text": [
      "Training models:  74%|██████████████████████████████████████████████████▎                 | 74/100 [39:42<12:50, 29.64s/station]"
     ]
    },
    {
     "name": "stdout",
     "output_type": "stream",
     "text": [
      "Mean Squared Error for station 31008: 0.0005895879011661093\n",
      "Valid indices for station 21015: [790, 779, 780, 778]\n",
      "Valid indices for station 21015: [790, 777, 791, 779, 780, 778, 776, 781, 787, 769]\n",
      "Cross-Validation Score for station 21015: -1.587618726909574e-05\n"
     ]
    },
    {
     "name": "stderr",
     "output_type": "stream",
     "text": [
      "Training models:  75%|███████████████████████████████████████████████████                 | 75/100 [40:19<13:11, 31.67s/station]"
     ]
    },
    {
     "name": "stdout",
     "output_type": "stream",
     "text": [
      "Mean Squared Error for station 21015: 1.738697203669044e-06\n",
      "Valid indices for station 44003: [1232]\n",
      "Valid indices for station 44003: [1236, 1232, 1233]\n",
      "Valid indices for station 44003: [1242, 1243, 1237, 1236, 1232, 1234, 1233, 1231]\n",
      "Cross-Validation Score for station 44003: -9.029116247882452e-05\n"
     ]
    },
    {
     "name": "stderr",
     "output_type": "stream",
     "text": [
      "Training models:  76%|███████████████████████████████████████████████████▋                | 76/100 [40:47<12:14, 30.60s/station]"
     ]
    },
    {
     "name": "stdout",
     "output_type": "stream",
     "text": [
      "Mean Squared Error for station 44003: 0.0001221323935876174\n",
      "Valid indices for station 22203: [946, 891]\n",
      "Valid indices for station 22203: [946, 893, 891]\n",
      "Valid indices for station 22203: [915, 946, 933, 893, 891, 932, 890]\n",
      "Cross-Validation Score for station 22203: -0.00013422597776911757\n"
     ]
    },
    {
     "name": "stderr",
     "output_type": "stream",
     "text": [
      "Training models:  77%|████████████████████████████████████████████████████▎               | 77/100 [41:18<11:44, 30.63s/station]"
     ]
    },
    {
     "name": "stdout",
     "output_type": "stream",
     "text": [
      "Mean Squared Error for station 22203: 0.0002791605772743889\n",
      "Valid indices for station 41202: [1155]\n",
      "Valid indices for station 41202: [191, 1155, 1157]\n",
      "Valid indices for station 41202: [189, 1227, 1226, 1166, 191, 1155, 1164, 1156, 1158, 1157, 1163]\n",
      "Cross-Validation Score for station 41202: -0.0033777403229724974\n"
     ]
    },
    {
     "name": "stderr",
     "output_type": "stream",
     "text": [
      "Training models:  78%|█████████████████████████████████████████████████████               | 78/100 [41:53<11:45, 32.08s/station]"
     ]
    },
    {
     "name": "stdout",
     "output_type": "stream",
     "text": [
      "Mean Squared Error for station 41202: 0.002630230788697225\n",
      "Valid indices for station 42021: [1189]\n",
      "Valid indices for station 42021: [1182, 1187, 1189, 1184, 1190]\n",
      "Cross-Validation Score for station 42021: -0.00017382855211625978\n"
     ]
    },
    {
     "name": "stderr",
     "output_type": "stream",
     "text": [
      "Training models:  79%|█████████████████████████████████████████████████████▋              | 79/100 [42:39<12:43, 36.34s/station]"
     ]
    },
    {
     "name": "stdout",
     "output_type": "stream",
     "text": [
      "Mean Squared Error for station 42021: 0.000461954189925212\n",
      "Valid indices for station 11030: [98, 105, 88, 101, 103, 123, 102]\n",
      "Cross-Validation Score for station 11030: -4.5164306045398825e-05\n"
     ]
    },
    {
     "name": "stderr",
     "output_type": "stream",
     "text": [
      "Training models:  80%|██████████████████████████████████████████████████████▍             | 80/100 [43:18<12:23, 37.17s/station]"
     ]
    },
    {
     "name": "stdout",
     "output_type": "stream",
     "text": [
      "Mean Squared Error for station 11030: 8.860765431288095e-05\n",
      "Valid indices for station 31708: [1052]\n",
      "Valid indices for station 31708: [741, 705, 729, 706, 1052, 1078, 698, 1045, 1047, 1081, 1080]\n",
      "Cross-Validation Score for station 31708: -0.0002944759189206895\n"
     ]
    },
    {
     "name": "stderr",
     "output_type": "stream",
     "text": [
      "Training models:  81%|███████████████████████████████████████████████████████             | 81/100 [43:50<11:13, 35.45s/station]"
     ]
    },
    {
     "name": "stdout",
     "output_type": "stream",
     "text": [
      "Mean Squared Error for station 31708: 0.0009619258724422469\n",
      "Valid indices for station 25003: [967]\n",
      "Valid indices for station 25003: [965, 967]\n",
      "Valid indices for station 25003: [965, 967]\n",
      "Valid indices for station 25003: [966, 973, 965, 967]\n"
     ]
    },
    {
     "name": "stderr",
     "output_type": "stream",
     "text": [
      "/Users/anthonybellon/Comp_Documents/VelibVisualisation/scripts/train_model.py:103: SettingWithCopyWarning: \n",
      "A value is trying to be set on a copy of a slice from a DataFrame.\n",
      "Try using .loc[row_indexer,col_indexer] = value instead\n",
      "\n",
      "See the caveats in the documentation: https://pandas.pydata.org/pandas-docs/stable/user_guide/indexing.html#returning-a-view-versus-a-copy\n",
      "  \n"
     ]
    },
    {
     "name": "stdout",
     "output_type": "stream",
     "text": [
      "Cross-Validation Score for station 25003: -0.0007380570414042249\n"
     ]
    },
    {
     "name": "stderr",
     "output_type": "stream",
     "text": [
      "Training models:  82%|███████████████████████████████████████████████████████▊            | 82/100 [44:17<09:54, 33.04s/station]"
     ]
    },
    {
     "name": "stdout",
     "output_type": "stream",
     "text": [
      "Mean Squared Error for station 25003: 0.0009983110113739061\n",
      "Valid indices for station 20115: [746, 730, 702, 721, 739, 729]\n",
      "Cross-Validation Score for station 20115: -6.217575044494708e-05\n"
     ]
    },
    {
     "name": "stderr",
     "output_type": "stream",
     "text": [
      "Training models:  83%|████████████████████████████████████████████████████████▍           | 83/100 [44:48<09:09, 32.31s/station]"
     ]
    },
    {
     "name": "stdout",
     "output_type": "stream",
     "text": [
      "Mean Squared Error for station 20115: 0.00020524687043683813\n",
      "Valid indices for station 31003: [731, 1014]\n",
      "Valid indices for station 31003: [684, 754, 720, 688, 731, 1177, 683, 1014, 1218, 1013, 1035, 761, 1051, 1050, 1053, 1015]\n",
      "Cross-Validation Score for station 31003: -0.00025853106856249216\n"
     ]
    },
    {
     "name": "stderr",
     "output_type": "stream",
     "text": [
      "Training models:  84%|█████████████████████████████████████████████████████████           | 84/100 [45:22<08:46, 32.94s/station]"
     ]
    },
    {
     "name": "stdout",
     "output_type": "stream",
     "text": [
      "Mean Squared Error for station 31003: 0.000300290327955072\n",
      "Valid indices for station 22402: [901, 902, 906]\n",
      "Valid indices for station 22402: [868, 905, 901, 902, 818, 906, 904, 299, 424, 320, 333, 374, 312]\n",
      "Cross-Validation Score for station 22402: -0.001410054529436393\n"
     ]
    },
    {
     "name": "stderr",
     "output_type": "stream",
     "text": [
      "Training models:  85%|█████████████████████████████████████████████████████████▊          | 85/100 [45:52<08:00, 32.00s/station]"
     ]
    },
    {
     "name": "stdout",
     "output_type": "stream",
     "text": [
      "Mean Squared Error for station 22402: 0.0001710498569198449\n",
      "Out of bounds indices for station 9116: [1472, 1462, 1465, 1471, 1468, 1461, 1477, 1470]\n",
      "Max valid index: 1460\n",
      "Valid indices for station 9116: [1455, 1456, 1460]\n",
      "Out of bounds indices for station 9116: [1463, 1472, 1462, 1464, 1465, 1471, 1468, 1461, 1477, 1470, 1473, 1466, 1467]\n",
      "Max valid index: 1460\n",
      "Valid indices for station 9116: [1392, 1384, 1385, 1388, 1432, 1387, 1386, 1381, 132, 760, 70, 753, 1454, 744, 757, 1455, 1456, 1460, 1459, 1457, 747, 1453, 1447, 1452, 1448, 1451, 1458, 590, 1450, 589]\n",
      "Cross-Validation Score for station 9116: -0.00020814810889469587\n"
     ]
    },
    {
     "name": "stderr",
     "output_type": "stream",
     "text": [
      "Training models:  86%|██████████████████████████████████████████████████████████▍         | 86/100 [46:31<07:55, 33.95s/station]"
     ]
    },
    {
     "name": "stdout",
     "output_type": "stream",
     "text": [
      "Mean Squared Error for station 9116: 7.241124629636982e-05\n",
      "Valid indices for station 1119: [20, 30, 135, 69, 134, 41, 42, 1140, 1141, 1142, 1143, 1144, 1147, 90, 1027]\n",
      "Cross-Validation Score for station 1119: -0.0001000471746984013\n"
     ]
    },
    {
     "name": "stderr",
     "output_type": "stream",
     "text": [
      "Training models:  87%|███████████████████████████████████████████████████████████▏        | 87/100 [47:03<07:17, 33.62s/station]"
     ]
    },
    {
     "name": "stdout",
     "output_type": "stream",
     "text": [
      "Mean Squared Error for station 1119: 3.022902204695575e-05\n",
      "Valid indices for station 11039: [114, 115, 109, 116, 111, 125, 110, 113, 107, 129, 106, 105]\n",
      "Cross-Validation Score for station 11039: -0.0003044851384527683\n"
     ]
    },
    {
     "name": "stderr",
     "output_type": "stream",
     "text": [
      "Training models:  88%|███████████████████████████████████████████████████████████▊        | 88/100 [47:39<06:49, 34.14s/station]"
     ]
    },
    {
     "name": "stdout",
     "output_type": "stream",
     "text": [
      "Mean Squared Error for station 11039: 4.1072007551287485e-05\n",
      "Valid indices for station 16008: [431, 433, 432, 470]\n",
      "Valid indices for station 16008: [435, 430, 434, 439, 431, 433, 432, 1372, 440, 470, 518, 469, 427, 1414, 1415, 1382]\n",
      "Cross-Validation Score for station 16008: -0.0016425829907378373\n"
     ]
    },
    {
     "name": "stderr",
     "output_type": "stream",
     "text": [
      "Training models:  89%|████████████████████████████████████████████████████████████▌       | 89/100 [48:04<05:46, 31.49s/station]"
     ]
    },
    {
     "name": "stdout",
     "output_type": "stream",
     "text": [
      "Mean Squared Error for station 16008: 0.0024542732684427453\n",
      "Valid indices for station 48010: [1271, 1273]\n",
      "Valid indices for station 48010: [1265, 1267, 1271, 1273, 1266, 1240]\n",
      "Cross-Validation Score for station 48010: -3.9842339165354414e-05\n"
     ]
    },
    {
     "name": "stderr",
     "output_type": "stream",
     "text": [
      "Training models:  90%|█████████████████████████████████████████████████████████████▏      | 90/100 [48:28<04:51, 29.15s/station]"
     ]
    },
    {
     "name": "stdout",
     "output_type": "stream",
     "text": [
      "Mean Squared Error for station 48010: 3.0095270340170637e-06\n",
      "Valid indices for station 11026: [98, 88, 93, 95, 94, 97, 99]\n",
      "Cross-Validation Score for station 11026: -0.0008996139038698635\n"
     ]
    },
    {
     "name": "stderr",
     "output_type": "stream",
     "text": [
      "Training models:  91%|█████████████████████████████████████████████████████████████▉      | 91/100 [49:09<04:54, 32.68s/station]"
     ]
    },
    {
     "name": "stdout",
     "output_type": "stream",
     "text": [
      "Mean Squared Error for station 11026: 0.000811918805785941\n",
      "Valid indices for station 13050: [273, 248, 253, 163]\n",
      "Valid indices for station 13050: [265, 245, 251, 252, 273, 248, 267, 253, 221, 194, 163, 162, 160]\n",
      "Cross-Validation Score for station 13050: -0.0011489940266089394\n"
     ]
    },
    {
     "name": "stderr",
     "output_type": "stream",
     "text": [
      "Training models:  92%|██████████████████████████████████████████████████████████████▌     | 92/100 [49:42<04:21, 32.75s/station]"
     ]
    },
    {
     "name": "stdout",
     "output_type": "stream",
     "text": [
      "Mean Squared Error for station 13050: 0.00025785735164899547\n",
      "Valid indices for station 32604: [1081, 1080]\n",
      "Valid indices for station 32604: [1052, 1124, 1078, 1047, 1081, 1079, 1080, 1118]\n",
      "Cross-Validation Score for station 32604: -0.0030077870901122094\n"
     ]
    },
    {
     "name": "stderr",
     "output_type": "stream",
     "text": [
      "Training models:  93%|███████████████████████████████████████████████████████████████▏    | 93/100 [50:04<03:28, 29.77s/station]"
     ]
    },
    {
     "name": "stdout",
     "output_type": "stream",
     "text": [
      "Mean Squared Error for station 32604: 0.028234813997752052\n",
      "Valid indices for station 19024: [634, 654, 662, 635]\n",
      "Valid indices for station 19024: [38, 679, 678, 642, 640, 633, 625, 647, 756, 634, 677, 676, 654, 717, 738, 646, 649, 665, 662, 632, 635, 641, 626, 627, 636]\n",
      "Cross-Validation Score for station 19024: -2.5663362948943166e-05\n"
     ]
    },
    {
     "name": "stderr",
     "output_type": "stream",
     "text": [
      "Training models:  94%|███████████████████████████████████████████████████████████████▉    | 94/100 [50:31<02:52, 28.78s/station]"
     ]
    },
    {
     "name": "stdout",
     "output_type": "stream",
     "text": [
      "Mean Squared Error for station 19024: 7.720196595763373e-06\n",
      "Out of bounds indices for station 9014: [1473, 1476, 1469]\n",
      "Max valid index: 1460\n",
      "Valid indices for station 9014: [796, 1445, 1453, 1446, 1447, 1452, 1448, 1443, 1442]\n",
      "Cross-Validation Score for station 9014: -0.00044136884751314574\n"
     ]
    },
    {
     "name": "stderr",
     "output_type": "stream",
     "text": [
      "Training models:  95%|████████████████████████████████████████████████████████████████▌   | 95/100 [51:05<02:31, 30.38s/station]"
     ]
    },
    {
     "name": "stdout",
     "output_type": "stream",
     "text": [
      "Mean Squared Error for station 9014: 0.00011659773917838454\n",
      "Out of bounds indices for station 9010: [1476, 1469, 1474, 1478]\n",
      "Max valid index: 1460\n",
      "Valid indices for station 9010: [1446, 1443, 1441, 1442, 1434, 1440, 1439]\n",
      "Cross-Validation Score for station 9010: -1.6538431507158567e-05\n"
     ]
    },
    {
     "name": "stderr",
     "output_type": "stream",
     "text": [
      "Training models:  96%|█████████████████████████████████████████████████████████████████▎  | 96/100 [51:30<01:55, 28.88s/station]"
     ]
    },
    {
     "name": "stdout",
     "output_type": "stream",
     "text": [
      "Mean Squared Error for station 9010: 0.000156278526308102\n",
      "Valid indices for station 15021: [366, 368, 352, 353, 354, 355, 415, 345]\n",
      "Cross-Validation Score for station 15021: -0.0012438070057031105\n"
     ]
    },
    {
     "name": "stderr",
     "output_type": "stream",
     "text": [
      "Training models:  97%|█████████████████████████████████████████████████████████████████▉  | 97/100 [52:04<01:30, 30.28s/station]"
     ]
    },
    {
     "name": "stdout",
     "output_type": "stream",
     "text": [
      "Mean Squared Error for station 15021: 0.0004845370027305273\n",
      "Valid indices for station 17105: [533, 534, 931]\n",
      "Valid indices for station 17105: [885, 881, 429, 883, 467, 551, 428, 522, 523, 525, 533, 524, 534, 517, 931, 929, 930]\n",
      "Cross-Validation Score for station 17105: -0.0002817239427740399\n"
     ]
    },
    {
     "name": "stderr",
     "output_type": "stream",
     "text": [
      "Training models:  98%|██████████████████████████████████████████████████████████████████▋ | 98/100 [52:31<00:58, 29.35s/station]"
     ]
    },
    {
     "name": "stdout",
     "output_type": "stream",
     "text": [
      "Mean Squared Error for station 17105: 0.00014178548791722107\n",
      "Valid indices for station 5012: [1278, 1276, 1318, 1280, 1317, 1316, 1295, 1279, 1283]\n",
      "Cross-Validation Score for station 5012: -4.761903926940783e-05\n"
     ]
    },
    {
     "name": "stderr",
     "output_type": "stream",
     "text": [
      "Training models:  99%|███████████████████████████████████████████████████████████████████▎| 99/100 [52:53<00:27, 27.02s/station]"
     ]
    },
    {
     "name": "stdout",
     "output_type": "stream",
     "text": [
      "Mean Squared Error for station 5012: 4.298394549635811e-06\n",
      "Valid indices for station 20134: [714, 734, 750, 703, 702, 705]\n",
      "Cross-Validation Score for station 20134: -0.00016414794244012384\n"
     ]
    },
    {
     "name": "stderr",
     "output_type": "stream",
     "text": [
      "Training models: 100%|███████████████████████████████████████████████████████████████████| 100/100 [53:13<00:00, 31.94s/station]"
     ]
    },
    {
     "name": "stdout",
     "output_type": "stream",
     "text": [
      "Mean Squared Error for station 20134: 7.894693829334367e-05\n"
     ]
    },
    {
     "name": "stderr",
     "output_type": "stream",
     "text": [
      "\n"
     ]
    },
    {
     "name": "stdout",
     "output_type": "stream",
     "text": [
      "Intermediate results saved for batch 1\n",
      "Training models...\n",
      "Columns after feature creation: Index(['stationcode', 'name', 'is_installed', 'capacity', 'numdocksavailable',\n",
      "       'numbikesavailable', 'mechanical', 'ebike', 'is_renting',\n",
      "       'is_returning', 'duedate', 'coordonnees_geo',\n",
      "       'nom_arrondissement_communes', 'date', 'lat', 'lon', 'hour',\n",
      "       'day_of_week', 'lag_1_hour', 'lag_1_day', 'rolling_mean_7_days',\n",
      "       'rolling_mean_30_days', 'normalized_bikes_available',\n",
      "       'normalized_docks_available', 'usage_ratio',\n",
      "       'capacity_hour_interaction', 'capacity_day_interaction',\n",
      "       'avg_bikes_hour_day'],\n",
      "      dtype='object')\n"
     ]
    },
    {
     "name": "stderr",
     "output_type": "stream",
     "text": [
      "Training models:   0%|                                                                             | 0/100 [00:00<?, ?station/s]"
     ]
    },
    {
     "name": "stdout",
     "output_type": "stream",
     "text": [
      "Valid indices for station 31707: [1051]\n",
      "Valid indices for station 31707: [754, 720, 688, 731, 1014, 697, 742, 746, 761, 730, 1051, 721, 739, 1050, 1049, 1053]\n",
      "Cross-Validation Score for station 31707: -0.0003006944292450831\n"
     ]
    },
    {
     "name": "stderr",
     "output_type": "stream",
     "text": [
      "Training models:   1%|▋                                                                    | 1/100 [00:10<16:39, 10.10s/station]"
     ]
    },
    {
     "name": "stdout",
     "output_type": "stream",
     "text": [
      "Mean Squared Error for station 31707: 8.294715644409938e-05\n",
      "Valid indices for station 18009: [39, 597, 561, 564, 560, 565, 611, 34]\n",
      "Cross-Validation Score for station 18009: -4.717206151830218e-05\n"
     ]
    },
    {
     "name": "stderr",
     "output_type": "stream",
     "text": [
      "Training models:   2%|█▍                                                                   | 2/100 [00:40<35:47, 21.91s/station]"
     ]
    },
    {
     "name": "stdout",
     "output_type": "stream",
     "text": [
      "Mean Squared Error for station 18009: 4.574858138944772e-05\n",
      "Valid indices for station 22003: [879, 878, 877, 876]\n",
      "Valid indices for station 22003: [481, 879, 878, 882, 877, 876]\n",
      "Cross-Validation Score for station 22003: -0.00015308345211704187\n"
     ]
    },
    {
     "name": "stderr",
     "output_type": "stream",
     "text": [
      "Training models:   3%|██                                                                   | 3/100 [01:07<39:04, 24.17s/station]"
     ]
    },
    {
     "name": "stdout",
     "output_type": "stream",
     "text": [
      "Mean Squared Error for station 22003: 3.4846609987020108e-06\n",
      "Valid indices for station 16038: [459, 461, 456, 460, 455]\n",
      "Cross-Validation Score for station 16038: -0.0004257611513338583\n"
     ]
    },
    {
     "name": "stderr",
     "output_type": "stream",
     "text": [
      "Training models:   4%|██▊                                                                  | 4/100 [01:47<48:57, 30.60s/station]"
     ]
    },
    {
     "name": "stdout",
     "output_type": "stream",
     "text": [
      "Mean Squared Error for station 16038: 3.250117095806301e-05\n",
      "Valid indices for station 41601: [1178, 1175]\n",
      "Valid indices for station 41601: [170, 1178, 1175, 195, 182, 197, 181, 683, 1176, 1218, 1179]\n",
      "Cross-Validation Score for station 41601: -3.709740850022243e-05\n"
     ]
    },
    {
     "name": "stderr",
     "output_type": "stream",
     "text": [
      "Training models:   5%|███▍                                                                 | 5/100 [02:18<48:27, 30.60s/station]"
     ]
    },
    {
     "name": "stdout",
     "output_type": "stream",
     "text": [
      "Mean Squared Error for station 41601: 3.4905281029399156e-06\n",
      "Valid indices for station 14110: [297, 300, 302, 331, 314, 301]\n",
      "Cross-Validation Score for station 14110: -0.001761478081161657\n"
     ]
    },
    {
     "name": "stderr",
     "output_type": "stream",
     "text": [
      "Training models:   6%|████▏                                                                | 6/100 [02:48<47:56, 30.61s/station]"
     ]
    },
    {
     "name": "stdout",
     "output_type": "stream",
     "text": [
      "Mean Squared Error for station 14110: 8.739008823759645e-06\n",
      "Valid indices for station 17125: [542, 543, 548, 503, 546]\n",
      "Cross-Validation Score for station 17125: -0.001451666621635104\n"
     ]
    },
    {
     "name": "stderr",
     "output_type": "stream",
     "text": [
      "Training models:   7%|████▊                                                                | 7/100 [03:19<47:21, 30.56s/station]"
     ]
    },
    {
     "name": "stdout",
     "output_type": "stream",
     "text": [
      "Mean Squared Error for station 17125: 0.0001642407957385914\n",
      "Valid indices for station 16108: [435, 436, 473]\n",
      "Valid indices for station 16108: [476, 446, 465, 447, 475, 472, 441, 438, 471, 435, 436, 473, 430, 434, 439]\n",
      "Cross-Validation Score for station 16108: -0.0036124299584038497\n"
     ]
    },
    {
     "name": "stderr",
     "output_type": "stream",
     "text": [
      "Training models:   8%|█████▌                                                               | 8/100 [03:45<44:45, 29.19s/station]"
     ]
    },
    {
     "name": "stdout",
     "output_type": "stream",
     "text": [
      "Mean Squared Error for station 16108: 0.001449087574854748\n",
      "Valid indices for station 16136: [485, 453, 449]\n",
      "Valid indices for station 16136: [456, 460, 451, 450, 455, 485, 478, 453, 400, 388, 392, 398, 452, 449, 448, 454, 465, 445]\n",
      "Cross-Validation Score for station 16136: -0.00011066404546952868\n"
     ]
    },
    {
     "name": "stderr",
     "output_type": "stream",
     "text": [
      "Training models:   9%|██████▏                                                              | 9/100 [04:24<48:59, 32.31s/station]"
     ]
    },
    {
     "name": "stdout",
     "output_type": "stream",
     "text": [
      "Mean Squared Error for station 16136: 0.00010692217051276297\n",
      "Valid indices for station 19022: [679, 678, 640, 633, 618, 625, 647, 617]\n",
      "Cross-Validation Score for station 19022: -0.00022282449161323804\n"
     ]
    },
    {
     "name": "stderr",
     "output_type": "stream",
     "text": [
      "Training models:  10%|██████▊                                                             | 10/100 [04:53<47:00, 31.34s/station]"
     ]
    },
    {
     "name": "stdout",
     "output_type": "stream",
     "text": [
      "Mean Squared Error for station 19022: 3.476963536135112e-05\n",
      "Valid indices for station 8057: [518, 528, 1382, 1429, 1423, 1400, 1424, 527, 1422, 1431, 1419, 1421]\n",
      "Cross-Validation Score for station 8057: -0.00031379922142295584\n"
     ]
    },
    {
     "name": "stderr",
     "output_type": "stream",
     "text": [
      "Training models:  11%|███████▍                                                            | 11/100 [05:22<45:22, 30.59s/station]"
     ]
    },
    {
     "name": "stdout",
     "output_type": "stream",
     "text": [
      "Mean Squared Error for station 8057: 0.0003603885890577372\n",
      "Valid indices for station 24001: [956]\n",
      "Valid indices for station 24001: [956, 908, 909]\n",
      "Valid indices for station 24001: [956, 910, 908, 909, 912, 990, 957]\n",
      "Cross-Validation Score for station 24001: -0.00021521196568667685\n"
     ]
    },
    {
     "name": "stderr",
     "output_type": "stream",
     "text": [
      "Training models:  12%|████████▏                                                           | 12/100 [05:57<46:40, 31.82s/station]"
     ]
    },
    {
     "name": "stdout",
     "output_type": "stream",
     "text": [
      "Mean Squared Error for station 24001: 0.00018299361652376507\n",
      "Valid indices for station 22016: [885, 881, 429]\n",
      "Valid indices for station 22016: [480, 886, 489, 885, 881, 429, 883, 468, 467, 551, 533, 534]\n",
      "Cross-Validation Score for station 22016: -0.00046216679633815527\n"
     ]
    },
    {
     "name": "stderr",
     "output_type": "stream",
     "text": [
      "Training models:  13%|████████▊                                                           | 13/100 [06:22<42:58, 29.64s/station]"
     ]
    },
    {
     "name": "stdout",
     "output_type": "stream",
     "text": [
      "Mean Squared Error for station 22016: 0.0021176756463472113\n",
      "Valid indices for station 14136: [296, 295, 297, 331, 314]\n",
      "Cross-Validation Score for station 14136: -0.0006093032676208468\n"
     ]
    },
    {
     "name": "stderr",
     "output_type": "stream",
     "text": [
      "Training models:  14%|█████████▌                                                          | 14/100 [06:53<43:16, 30.19s/station]"
     ]
    },
    {
     "name": "stdout",
     "output_type": "stream",
     "text": [
      "Mean Squared Error for station 14136: 0.00010549665050884711\n",
      "Valid indices for station 8025: [1405, 1398, 1397]\n",
      "Valid indices for station 8025: [1409, 1402, 1380, 1417, 1406, 1404, 1403, 1405, 1407, 1398, 1397, 1399, 1394, 1383, 1392, 1391, 1393, 1395, 1385, 1428, 530, 510]\n",
      "Cross-Validation Score for station 8025: -0.0005314424427138979\n"
     ]
    },
    {
     "name": "stderr",
     "output_type": "stream",
     "text": [
      "Training models:  15%|██████████▏                                                         | 15/100 [07:30<45:36, 32.20s/station]"
     ]
    },
    {
     "name": "stdout",
     "output_type": "stream",
     "text": [
      "Mean Squared Error for station 8025: 1.0979081555917785e-07\n",
      "Valid indices for station 32302: [1075]\n",
      "Valid indices for station 32302: [1033, 1075]\n",
      "Valid indices for station 32302: [1074, 1031, 1032, 1033, 1075, 1034]\n",
      "Cross-Validation Score for station 32302: -0.00029518823863338773\n"
     ]
    },
    {
     "name": "stderr",
     "output_type": "stream",
     "text": [
      "Training models:  16%|██████████▉                                                         | 16/100 [07:59<43:52, 31.33s/station]"
     ]
    },
    {
     "name": "stdout",
     "output_type": "stream",
     "text": [
      "Mean Squared Error for station 32302: 1.6226840595867507e-05\n",
      "Valid indices for station 10014: [10, 1004, 108, 9, 12, 13, 68, 14, 48]\n",
      "Cross-Validation Score for station 10014: -0.00040329738505621385\n"
     ]
    },
    {
     "name": "stderr",
     "output_type": "stream",
     "text": [
      "Training models:  17%|███████████▌                                                        | 17/100 [08:38<46:31, 33.63s/station]"
     ]
    },
    {
     "name": "stdout",
     "output_type": "stream",
     "text": [
      "Mean Squared Error for station 10014: 0.0008253400033656149\n",
      "Out of bounds indices for station 9032: [1463, 1472, 1462, 1471, 1468, 1461, 1477, 1470]\n",
      "Max valid index: 1460\n",
      "Valid indices for station 9032: [1384, 1386, 1381]\n",
      "Out of bounds indices for station 9032: [1463, 1472, 1462, 1464, 1465, 1471, 1468, 1461, 1477, 1470, 1473, 1466]\n",
      "Max valid index: 1460\n",
      "Valid indices for station 9032: [1430, 65, 66, 1383, 1392, 1384, 1393, 1385, 1428, 1432, 1387, 1386, 1381, 64, 57, 132, 760, 70, 753, 1454, 744, 757, 1455, 1456, 1460, 1459, 1457, 747, 1453]\n",
      "Cross-Validation Score for station 9032: -0.00022987890768775234\n"
     ]
    },
    {
     "name": "stderr",
     "output_type": "stream",
     "text": [
      "Training models:  18%|████████████▏                                                       | 18/100 [09:04<42:42, 31.25s/station]"
     ]
    },
    {
     "name": "stdout",
     "output_type": "stream",
     "text": [
      "Mean Squared Error for station 9032: 3.485304921766883e-05\n",
      "Valid indices for station 13002: [317, 275, 211, 210, 212]\n",
      "Cross-Validation Score for station 13002: -0.0001461743355667716\n"
     ]
    },
    {
     "name": "stderr",
     "output_type": "stream",
     "text": [
      "Training models:  19%|████████████▉                                                       | 19/100 [09:31<40:40, 30.12s/station]"
     ]
    },
    {
     "name": "stdout",
     "output_type": "stream",
     "text": [
      "Mean Squared Error for station 13002: 1.6947047738836768e-05\n",
      "Valid indices for station 42010: [1182]\n",
      "Valid indices for station 42010: [1191, 1182, 1187, 1189, 1184, 1190]\n",
      "Cross-Validation Score for station 42010: -0.0003326805282516883\n"
     ]
    },
    {
     "name": "stderr",
     "output_type": "stream",
     "text": [
      "Training models:  20%|█████████████▌                                                      | 20/100 [10:12<44:31, 33.40s/station]"
     ]
    },
    {
     "name": "stdout",
     "output_type": "stream",
     "text": [
      "Mean Squared Error for station 42010: 5.125402609282419e-05\n",
      "Valid indices for station 15046: [378, 374, 377, 414, 370]\n",
      "Cross-Validation Score for station 15046: -0.0010417183401742042\n"
     ]
    },
    {
     "name": "stderr",
     "output_type": "stream",
     "text": [
      "Training models:  21%|██████████████▎                                                     | 21/100 [10:39<41:12, 31.30s/station]"
     ]
    },
    {
     "name": "stdout",
     "output_type": "stream",
     "text": [
      "Mean Squared Error for station 15046: 0.00022925007925418767\n",
      "Valid indices for station 46001: [1253]\n",
      "Valid indices for station 46001: [1254, 1253]\n",
      "Valid indices for station 46001: [1255, 1254, 1253]\n",
      "Valid indices for station 46001: [1255, 1243, 1254, 1253]\n"
     ]
    },
    {
     "name": "stderr",
     "output_type": "stream",
     "text": [
      "/Users/anthonybellon/Comp_Documents/VelibVisualisation/scripts/train_model.py:103: SettingWithCopyWarning: \n",
      "A value is trying to be set on a copy of a slice from a DataFrame.\n",
      "Try using .loc[row_indexer,col_indexer] = value instead\n",
      "\n",
      "See the caveats in the documentation: https://pandas.pydata.org/pandas-docs/stable/user_guide/indexing.html#returning-a-view-versus-a-copy\n",
      "  \n"
     ]
    },
    {
     "name": "stdout",
     "output_type": "stream",
     "text": [
      "Cross-Validation Score for station 46001: -1.0518321057572873e-05\n"
     ]
    },
    {
     "name": "stderr",
     "output_type": "stream",
     "text": [
      "Training models:  22%|██████████████▉                                                     | 22/100 [11:06<39:08, 30.11s/station]"
     ]
    },
    {
     "name": "stdout",
     "output_type": "stream",
     "text": [
      "Mean Squared Error for station 46001: 7.226544014361242e-07\n",
      "Valid indices for station 22006: [481, 879, 878, 877]\n",
      "Valid indices for station 22006: [481, 880, 482, 879, 878, 882, 877, 876]\n",
      "Cross-Validation Score for station 22006: -0.0001449854593411954\n"
     ]
    },
    {
     "name": "stderr",
     "output_type": "stream",
     "text": [
      "Training models:  23%|███████████████▋                                                    | 23/100 [11:34<37:47, 29.45s/station]"
     ]
    },
    {
     "name": "stdout",
     "output_type": "stream",
     "text": [
      "Mean Squared Error for station 22006: 0.0001551270333987688\n",
      "Valid indices for station 17028: [537, 926, 514, 513, 532]\n",
      "Cross-Validation Score for station 17028: -0.0004242576494619282\n"
     ]
    },
    {
     "name": "stderr",
     "output_type": "stream",
     "text": [
      "Training models:  24%|████████████████▎                                                   | 24/100 [12:01<36:15, 28.62s/station]"
     ]
    },
    {
     "name": "stdout",
     "output_type": "stream",
     "text": [
      "Mean Squared Error for station 17028: 0.0006399807680070099\n",
      "Valid indices for station 21301: [829, 830, 851]\n",
      "Valid indices for station 21301: [872, 831, 777, 844, 829, 830, 851, 832, 842, 841]\n",
      "Cross-Validation Score for station 21301: -0.00035135506377039464\n"
     ]
    },
    {
     "name": "stderr",
     "output_type": "stream",
     "text": [
      "Training models:  25%|█████████████████                                                   | 25/100 [12:39<39:26, 31.55s/station]"
     ]
    },
    {
     "name": "stdout",
     "output_type": "stream",
     "text": [
      "Mean Squared Error for station 21301: 2.3048433312447437e-05\n",
      "Valid indices for station 42302: [1204]\n",
      "Valid indices for station 42302: [893, 1204, 892]\n",
      "Valid indices for station 42302: [893, 932, 1206, 1204, 892, 895, 1203]\n",
      "Cross-Validation Score for station 42302: -0.00024588215710869303\n"
     ]
    },
    {
     "name": "stderr",
     "output_type": "stream",
     "text": [
      "Training models:  26%|█████████████████▋                                                  | 26/100 [13:00<35:02, 28.41s/station]"
     ]
    },
    {
     "name": "stdout",
     "output_type": "stream",
     "text": [
      "Mean Squared Error for station 42302: 1.6759506221696414e-05\n",
      "Valid indices for station 21110: [806, 800, 807]\n",
      "Valid indices for station 21110: [801, 803, 550, 802, 815, 806, 800, 813, 799, 807, 808]\n",
      "Cross-Validation Score for station 21110: -0.0006649106519685121\n"
     ]
    },
    {
     "name": "stderr",
     "output_type": "stream",
     "text": [
      "Training models:  27%|██████████████████▎                                                 | 27/100 [13:31<35:18, 29.01s/station]"
     ]
    },
    {
     "name": "stdout",
     "output_type": "stream",
     "text": [
      "Mean Squared Error for station 21110: 0.0002508064516129035\n",
      "Valid indices for station 19029: [640, 625, 664, 639, 619, 669, 620]\n",
      "Cross-Validation Score for station 19029: -0.00035288090899923696\n"
     ]
    },
    {
     "name": "stderr",
     "output_type": "stream",
     "text": [
      "Training models:  28%|███████████████████                                                 | 28/100 [13:58<34:05, 28.41s/station]"
     ]
    },
    {
     "name": "stdout",
     "output_type": "stream",
     "text": [
      "Mean Squared Error for station 19029: 1.821745588183507e-05\n",
      "Valid indices for station 11042: [114, 117, 115, 109, 116, 111, 125, 110, 113, 107, 129]\n",
      "Cross-Validation Score for station 11042: -0.00048207101092583027\n"
     ]
    },
    {
     "name": "stderr",
     "output_type": "stream",
     "text": [
      "Training models:  29%|███████████████████▋                                                | 29/100 [14:34<36:35, 30.93s/station]"
     ]
    },
    {
     "name": "stdout",
     "output_type": "stream",
     "text": [
      "Mean Squared Error for station 11042: 0.00045099381415660553\n",
      "Valid indices for station 32003: [1055, 1054]\n",
      "Valid indices for station 32003: [1056, 1055, 1054, 1069]\n",
      "Valid indices for station 32003: [613, 607, 1099, 1056, 1058, 1055, 1054, 1059, 1069, 1095, 1082]\n",
      "Cross-Validation Score for station 32003: -0.0002367457464090629\n"
     ]
    },
    {
     "name": "stderr",
     "output_type": "stream",
     "text": [
      "Training models:  30%|████████████████████▍                                               | 30/100 [15:03<35:07, 30.10s/station]"
     ]
    },
    {
     "name": "stdout",
     "output_type": "stream",
     "text": [
      "Mean Squared Error for station 32003: 0.0002568001801071532\n",
      "Valid indices for station 21104: [813, 799, 1101]\n",
      "Valid indices for station 21104: [538, 495, 496, 806, 800, 813, 799, 549, 1101]\n",
      "Cross-Validation Score for station 21104: -0.00015777425082998396\n"
     ]
    },
    {
     "name": "stderr",
     "output_type": "stream",
     "text": [
      "Training models:  31%|█████████████████████                                               | 31/100 [15:33<34:37, 30.11s/station]"
     ]
    },
    {
     "name": "stdout",
     "output_type": "stream",
     "text": [
      "Mean Squared Error for station 21104: 1.4433358640915635e-05\n",
      "Valid indices for station 19016: [641, 627, 629, 628, 674]\n",
      "Cross-Validation Score for station 19016: -0.00037004857113065155\n"
     ]
    },
    {
     "name": "stderr",
     "output_type": "stream",
     "text": [
      "Training models:  32%|█████████████████████▊                                              | 32/100 [16:01<33:39, 29.69s/station]"
     ]
    },
    {
     "name": "stdout",
     "output_type": "stream",
     "text": [
      "Mean Squared Error for station 19016: 3.6187364099920465e-05\n",
      "Out of bounds indices for station 9005: [1478]\n",
      "Max valid index: 1460\n",
      "Valid indices for station 9005: [1449, 557, 588, 1440, 1439, 1438, 1437, 1436, 558, 610]\n",
      "Cross-Validation Score for station 9005: -0.0007178668004962465\n"
     ]
    },
    {
     "name": "stderr",
     "output_type": "stream",
     "text": [
      "Training models:  33%|██████████████████████▍                                             | 33/100 [16:21<29:43, 26.63s/station]"
     ]
    },
    {
     "name": "stdout",
     "output_type": "stream",
     "text": [
      "Mean Squared Error for station 9005: 1.8918929274816227e-05\n",
      "Valid indices for station 7102: [1365, 1377, 1362, 1361, 1359]\n",
      "Cross-Validation Score for station 7102: -0.2982134577760881\n"
     ]
    },
    {
     "name": "stderr",
     "output_type": "stream",
     "text": [
      "Training models:  34%|███████████████████████                                             | 34/100 [16:57<32:18, 29.37s/station]"
     ]
    },
    {
     "name": "stdout",
     "output_type": "stream",
     "text": [
      "Mean Squared Error for station 7102: 0.20672152884154252\n",
      "Valid indices for station 1002: [1127, 20, 30, 135, 133, 69, 134, 1141, 1143]\n",
      "Cross-Validation Score for station 1002: -5.280521183564156e-05\n"
     ]
    },
    {
     "name": "stderr",
     "output_type": "stream",
     "text": [
      "Training models:  35%|███████████████████████▊                                            | 35/100 [17:20<29:58, 27.68s/station]"
     ]
    },
    {
     "name": "stdout",
     "output_type": "stream",
     "text": [
      "Mean Squared Error for station 1002: 7.897896000505016e-07\n",
      "Valid indices for station 11004: [78, 130, 76, 77]\n",
      "Valid indices for station 11004: [192, 1131, 142, 173, 193, 143, 139, 172, 78, 130, 138, 1145, 75, 76, 77, 1148, 104, 96, 1001, 121, 112, 144, 140, 119, 80, 79, 95]\n",
      "Cross-Validation Score for station 11004: -0.00042974213598328485\n"
     ]
    },
    {
     "name": "stderr",
     "output_type": "stream",
     "text": [
      "Training models:  36%|████████████████████████▍                                           | 36/100 [17:59<33:07, 31.05s/station]"
     ]
    },
    {
     "name": "stdout",
     "output_type": "stream",
     "text": [
      "Mean Squared Error for station 11004: 0.0001649545692249169\n",
      "Valid indices for station 42301: [1203]\n",
      "Valid indices for station 42301: [1203]\n",
      "Valid indices for station 42301: [1204, 1205, 892, 895, 816, 1154, 1203, 1153, 1152]\n",
      "Cross-Validation Score for station 42301: -0.00025012098979067005\n"
     ]
    },
    {
     "name": "stderr",
     "output_type": "stream",
     "text": [
      "Training models:  37%|█████████████████████████▏                                          | 37/100 [18:22<29:50, 28.43s/station]"
     ]
    },
    {
     "name": "stdout",
     "output_type": "stream",
     "text": [
      "Mean Squared Error for station 42301: 1.3372783043311007e-05\n",
      "Valid indices for station 7005: [1353, 1358, 1355, 1354, 1376, 1357]\n",
      "Cross-Validation Score for station 7005: -0.0004380366489341758\n"
     ]
    },
    {
     "name": "stderr",
     "output_type": "stream",
     "text": [
      "Training models:  38%|█████████████████████████▊                                          | 38/100 [18:58<31:54, 30.87s/station]"
     ]
    },
    {
     "name": "stdout",
     "output_type": "stream",
     "text": [
      "Mean Squared Error for station 7005: 0.0019678127532030206\n",
      "Valid indices for station 42504: [1211, 231]\n",
      "Valid indices for station 42504: [1209, 1153, 1152, 290, 330, 1211, 1208, 291, 231]\n",
      "Cross-Validation Score for station 42504: -0.0004432942263049265\n"
     ]
    },
    {
     "name": "stderr",
     "output_type": "stream",
     "text": [
      "Training models:  39%|██████████████████████████▌                                         | 39/100 [19:20<28:37, 28.16s/station]"
     ]
    },
    {
     "name": "stdout",
     "output_type": "stream",
     "text": [
      "Mean Squared Error for station 42504: 0.0006646045077450817\n",
      "Valid indices for station 18201: [563, 607, 612]\n",
      "Valid indices for station 18201: [562, 599, 598, 587, 616, 563, 607, 612, 670, 595, 615, 1082]\n",
      "Cross-Validation Score for station 18201: -0.0006745933991374935\n"
     ]
    },
    {
     "name": "stderr",
     "output_type": "stream",
     "text": [
      "Training models:  40%|███████████████████████████▏                                        | 40/100 [19:48<28:10, 28.18s/station]"
     ]
    },
    {
     "name": "stdout",
     "output_type": "stream",
     "text": [
      "Mean Squared Error for station 18201: 0.00012054114553059823\n",
      "Valid indices for station 20121: [709, 751, 690, 718, 745, 711, 712]\n",
      "Cross-Validation Score for station 20121: -0.00013418605019647632\n"
     ]
    },
    {
     "name": "stderr",
     "output_type": "stream",
     "text": [
      "Training models:  41%|███████████████████████████▉                                        | 41/100 [20:08<25:11, 25.62s/station]"
     ]
    },
    {
     "name": "stdout",
     "output_type": "stream",
     "text": [
      "Mean Squared Error for station 20121: 3.0482397800833558e-05\n",
      "Valid indices for station 21302: [831, 829, 830]\n",
      "Valid indices for station 21302: [872, 831, 777, 829, 830, 851, 842]\n",
      "Cross-Validation Score for station 21302: -0.001208988866047461\n"
     ]
    },
    {
     "name": "stderr",
     "output_type": "stream",
     "text": [
      "Training models:  42%|████████████████████████████▌                                       | 42/100 [20:42<27:21, 28.31s/station]"
     ]
    },
    {
     "name": "stdout",
     "output_type": "stream",
     "text": [
      "Mean Squared Error for station 21302: 0.0007347752200543501\n",
      "Valid indices for station 42015: [263, 1185, 1186]\n",
      "Valid indices for station 42015: [1194, 1193, 264, 1192, 240, 263, 1185, 1186, 265, 245, 244, 266]\n",
      "Cross-Validation Score for station 42015: -0.0004939535835671561\n"
     ]
    },
    {
     "name": "stderr",
     "output_type": "stream",
     "text": [
      "Training models:  43%|█████████████████████████████▏                                      | 43/100 [21:10<26:46, 28.18s/station]"
     ]
    },
    {
     "name": "stdout",
     "output_type": "stream",
     "text": [
      "Mean Squared Error for station 42015: 0.00022208921400946918\n",
      "Valid indices for station 19008: [671, 622, 621, 643, 623, 673]\n",
      "Cross-Validation Score for station 19008: -0.000194547763177044\n"
     ]
    },
    {
     "name": "stderr",
     "output_type": "stream",
     "text": [
      "Training models:  44%|█████████████████████████████▉                                      | 44/100 [21:34<24:53, 26.67s/station]"
     ]
    },
    {
     "name": "stdout",
     "output_type": "stream",
     "text": [
      "Mean Squared Error for station 19008: 1.5776397515527784e-05\n",
      "Valid indices for station 20111: [690, 704, 732, 712, 713, 762, 743, 736]\n",
      "Cross-Validation Score for station 20111: -0.00023487625498406876\n"
     ]
    },
    {
     "name": "stderr",
     "output_type": "stream",
     "text": [
      "Training models:  45%|██████████████████████████████▌                                     | 45/100 [21:58<23:56, 26.13s/station]"
     ]
    },
    {
     "name": "stdout",
     "output_type": "stream",
     "text": [
      "Mean Squared Error for station 20111: 0.00011065222430856609\n",
      "Valid indices for station 32016: [1066, 1064]\n",
      "Valid indices for station 32016: [1066, 1064, 1067, 1065]\n",
      "Valid indices for station 32016: [1058, 1059, 1063, 1068, 1066, 1064, 1067, 1065, 1073, 1071, 1062]\n",
      "Cross-Validation Score for station 32016: -5.8268940831783206e-05\n"
     ]
    },
    {
     "name": "stderr",
     "output_type": "stream",
     "text": [
      "Training models:  46%|███████████████████████████████▎                                    | 46/100 [22:22<22:58, 25.53s/station]"
     ]
    },
    {
     "name": "stdout",
     "output_type": "stream",
     "text": [
      "Mean Squared Error for station 32016: 0.0006369063015428865\n",
      "Valid indices for station 15201: [376, 375, 423, 418]\n",
      "Valid indices for station 15201: [869, 868, 389, 405, 870, 376, 375, 423, 425, 378, 418, 409, 422, 380, 379, 382, 381]\n",
      "Cross-Validation Score for station 15201: -0.0037585285962488343\n"
     ]
    },
    {
     "name": "stderr",
     "output_type": "stream",
     "text": [
      "Training models:  47%|███████████████████████████████▉                                    | 47/100 [22:47<22:10, 25.11s/station]"
     ]
    },
    {
     "name": "stdout",
     "output_type": "stream",
     "text": [
      "Mean Squared Error for station 15201: 0.0005033209274616743\n",
      "Out of bounds indices for station 9021: [1473, 1476]\n",
      "Max valid index: 1460\n",
      "Valid indices for station 9021: [1456, 1457, 1453, 1446, 1447, 1452, 1448, 1451, 1450]\n",
      "Cross-Validation Score for station 9021: -0.00012607292977927893\n"
     ]
    },
    {
     "name": "stderr",
     "output_type": "stream",
     "text": [
      "Training models:  48%|████████████████████████████████▋                                   | 48/100 [23:08<20:55, 24.14s/station]"
     ]
    },
    {
     "name": "stdout",
     "output_type": "stream",
     "text": [
      "Mean Squared Error for station 9021: 2.262136361579783e-06\n",
      "Valid indices for station 31010: [1020, 1021]\n",
      "Valid indices for station 31010: [1225, 1165, 1028, 1020, 1021, 1017, 1030, 1023, 1031]\n",
      "Cross-Validation Score for station 31010: -0.00014191828508287833\n"
     ]
    },
    {
     "name": "stderr",
     "output_type": "stream",
     "text": [
      "Training models:  49%|█████████████████████████████████▎                                  | 49/100 [23:35<21:02, 24.76s/station]"
     ]
    },
    {
     "name": "stdout",
     "output_type": "stream",
     "text": [
      "Mean Squared Error for station 31010: 6.32718483113354e-05\n",
      "Valid indices for station 5201: [1278, 1313, 1314, 1276, 1318, 1343, 1306, 1345, 1280, 1317, 1316, 1295, 1293, 1275]\n",
      "Cross-Validation Score for station 5201: -5.783532778461193e-07\n"
     ]
    },
    {
     "name": "stderr",
     "output_type": "stream",
     "text": [
      "Training models:  50%|██████████████████████████████████                                  | 50/100 [24:04<21:40, 26.00s/station]"
     ]
    },
    {
     "name": "stdout",
     "output_type": "stream",
     "text": [
      "Mean Squared Error for station 5201: 0.0\n",
      "Valid indices for station 8013: [1427, 1410, 1390, 1409, 1408, 1402, 1417, 1426]\n",
      "Cross-Validation Score for station 8013: -0.00190204634781269\n"
     ]
    },
    {
     "name": "stderr",
     "output_type": "stream",
     "text": [
      "Training models:  51%|██████████████████████████████████▋                                 | 51/100 [24:29<21:08, 25.89s/station]"
     ]
    },
    {
     "name": "stdout",
     "output_type": "stream",
     "text": [
      "Mean Squared Error for station 8013: 0.0025872594808224528\n",
      "Out of bounds indices for station 92008: [1487]\n",
      "Max valid index: 1460\n",
      "Valid indices for station 92008: []\n",
      "Out of bounds indices for station 92008: [1487, 1481]\n",
      "Max valid index: 1460\n",
      "Valid indices for station 92008: []\n",
      "Out of bounds indices for station 92008: [1480, 1482, 1487, 1481, 1484, 1483]\n",
      "Max valid index: 1460\n",
      "Valid indices for station 92008: []\n",
      "Out of bounds indices for station 92008: [1480, 1482, 1487, 1481, 1484, 1483, 1485]\n",
      "Max valid index: 1460\n",
      "Valid indices for station 92008: []\n"
     ]
    },
    {
     "name": "stderr",
     "output_type": "stream",
     "text": [
      "/Users/anthonybellon/Comp_Documents/VelibVisualisation/scripts/train_model.py:103: SettingWithCopyWarning: \n",
      "A value is trying to be set on a copy of a slice from a DataFrame.\n",
      "Try using .loc[row_indexer,col_indexer] = value instead\n",
      "\n",
      "See the caveats in the documentation: https://pandas.pydata.org/pandas-docs/stable/user_guide/indexing.html#returning-a-view-versus-a-copy\n",
      "  \n"
     ]
    },
    {
     "name": "stdout",
     "output_type": "stream",
     "text": [
      "Cross-Validation Score for station 92008: -0.000812665040439911\n"
     ]
    },
    {
     "name": "stderr",
     "output_type": "stream",
     "text": [
      "Training models:  52%|███████████████████████████████████▎                                | 52/100 [24:56<20:50, 26.06s/station]"
     ]
    },
    {
     "name": "stdout",
     "output_type": "stream",
     "text": [
      "Mean Squared Error for station 92008: 0.00013348378793262485\n",
      "Valid indices for station 41402: [1171]\n",
      "Valid indices for station 41402: [1244, 1172, 1171]\n",
      "Valid indices for station 41402: [1173, 1244, 1256, 1172, 1171, 1260, 1230, 1170, 1247]\n",
      "Cross-Validation Score for station 41402: -0.00012700988751871445\n"
     ]
    },
    {
     "name": "stderr",
     "output_type": "stream",
     "text": [
      "Training models:  53%|████████████████████████████████████                                | 53/100 [25:25<21:08, 26.98s/station]"
     ]
    },
    {
     "name": "stdout",
     "output_type": "stream",
     "text": [
      "Mean Squared Error for station 41402: 5.538328109611607e-05\n",
      "Valid indices for station 43003: [1179, 1219, 1220]\n",
      "Valid indices for station 43003: [1218, 1013, 1179, 1035, 1219, 1220, 1025, 1222, 1223, 1221]\n",
      "Cross-Validation Score for station 43003: -0.0004153980102344374\n"
     ]
    },
    {
     "name": "stderr",
     "output_type": "stream",
     "text": [
      "Training models:  54%|████████████████████████████████████▋                               | 54/100 [25:56<21:37, 28.22s/station]"
     ]
    },
    {
     "name": "stdout",
     "output_type": "stream",
     "text": [
      "Mean Squared Error for station 43003: 0.00038749173585650985\n",
      "Valid indices for station 12009: [143, 172, 144, 175, 147, 140]\n",
      "Cross-Validation Score for station 12009: -0.00012111882760940869\n"
     ]
    },
    {
     "name": "stderr",
     "output_type": "stream",
     "text": [
      "Training models:  55%|█████████████████████████████████████▍                              | 55/100 [26:24<21:09, 28.20s/station]"
     ]
    },
    {
     "name": "stdout",
     "output_type": "stream",
     "text": [
      "Mean Squared Error for station 12009: 1.2094357340048938e-06\n",
      "Valid indices for station 18012: [39, 561, 564, 560, 565, 562]\n",
      "Cross-Validation Score for station 18012: -0.0005797406627507471\n"
     ]
    },
    {
     "name": "stderr",
     "output_type": "stream",
     "text": [
      "Training models:  56%|██████████████████████████████████████                              | 56/100 [26:57<21:45, 29.68s/station]"
     ]
    },
    {
     "name": "stdout",
     "output_type": "stream",
     "text": [
      "Mean Squared Error for station 18012: 0.00022205904694383777\n",
      "Valid indices for station 19125: [664, 639, 669, 620, 626, 621]\n",
      "Cross-Validation Score for station 19125: -0.0003606486277689655\n"
     ]
    },
    {
     "name": "stderr",
     "output_type": "stream",
     "text": [
      "Training models:  57%|██████████████████████████████████████▊                             | 57/100 [27:31<22:07, 30.87s/station]"
     ]
    },
    {
     "name": "stdout",
     "output_type": "stream",
     "text": [
      "Mean Squared Error for station 19125: 0.0013420672330850382\n",
      "Valid indices for station 23009: [553, 517, 931, 929, 927, 928]\n",
      "Cross-Validation Score for station 23009: -0.001536657652969464\n"
     ]
    },
    {
     "name": "stderr",
     "output_type": "stream",
     "text": [
      "Training models:  58%|███████████████████████████████████████▍                            | 58/100 [28:05<22:16, 31.83s/station]"
     ]
    },
    {
     "name": "stdout",
     "output_type": "stream",
     "text": [
      "Mean Squared Error for station 23009: 0.000496890604417489\n",
      "Valid indices for station 11007: [119, 80, 118, 124, 128, 91]\n",
      "Cross-Validation Score for station 11007: -0.0009845223282404151\n"
     ]
    },
    {
     "name": "stderr",
     "output_type": "stream",
     "text": [
      "Training models:  59%|████████████████████████████████████████                            | 59/100 [28:53<25:10, 36.85s/station]"
     ]
    },
    {
     "name": "stdout",
     "output_type": "stream",
     "text": [
      "Mean Squared Error for station 11007: 0.0009323852328611292\n",
      "Valid indices for station 32303: [1076]\n",
      "Valid indices for station 32303: [1076, 1123]\n",
      "Valid indices for station 32303: [1077, 1074, 1076, 1123]\n",
      "Valid indices for station 32303: [1079, 1077, 1074, 1118, 1112, 1076, 1122, 1123, 998]\n",
      "Cross-Validation Score for station 32303: -0.00017244464952605984\n"
     ]
    },
    {
     "name": "stderr",
     "output_type": "stream",
     "text": [
      "Training models:  60%|████████████████████████████████████████▊                           | 60/100 [29:19<22:15, 33.38s/station]"
     ]
    },
    {
     "name": "stdout",
     "output_type": "stream",
     "text": [
      "Mean Squared Error for station 32303: 8.120870069649818e-05\n",
      "Valid indices for station 42029: [1196]\n",
      "Valid indices for station 42029: [1195, 1235, 1196]\n",
      "Valid indices for station 42029: [1239, 1268, 1194, 1193, 1195, 1186, 1235, 1196, 1182, 1187]\n",
      "Cross-Validation Score for station 42029: -0.00013244719440683528\n"
     ]
    },
    {
     "name": "stderr",
     "output_type": "stream",
     "text": [
      "Training models:  61%|█████████████████████████████████████████▍                          | 61/100 [29:51<21:32, 33.15s/station]"
     ]
    },
    {
     "name": "stdout",
     "output_type": "stream",
     "text": [
      "Mean Squared Error for station 42029: 2.35850628111457e-06\n",
      "Valid indices for station 8035: [1406, 1405, 1407, 1398, 1397]\n",
      "Cross-Validation Score for station 8035: -0.0002095130975854408\n"
     ]
    },
    {
     "name": "stderr",
     "output_type": "stream",
     "text": [
      "Training models:  62%|██████████████████████████████████████████▏                         | 62/100 [30:26<21:18, 33.65s/station]"
     ]
    },
    {
     "name": "stdout",
     "output_type": "stream",
     "text": [
      "Mean Squared Error for station 8035: 0.00010146654492744709\n",
      "Valid indices for station 10011: [6, 1005, 1, 0, 10, 1004, 108, 109, 116, 9, 12, 13]\n",
      "Cross-Validation Score for station 10011: -0.0001323888172414143\n"
     ]
    },
    {
     "name": "stderr",
     "output_type": "stream",
     "text": [
      "Training models:  63%|██████████████████████████████████████████▊                         | 63/100 [30:49<18:48, 30.50s/station]"
     ]
    },
    {
     "name": "stdout",
     "output_type": "stream",
     "text": [
      "Mean Squared Error for station 10011: 7.016039942953269e-06\n",
      "Valid indices for station 6013: [1320, 1329, 1342, 1338, 1332, 1331, 1330, 1319, 1337]\n",
      "Cross-Validation Score for station 6013: -0.00016450000711103354\n"
     ]
    },
    {
     "name": "stderr",
     "output_type": "stream",
     "text": [
      "Training models:  64%|███████████████████████████████████████████▌                        | 64/100 [31:14<17:20, 28.89s/station]"
     ]
    },
    {
     "name": "stdout",
     "output_type": "stream",
     "text": [
      "Mean Squared Error for station 6013: 0.00045315649735785897\n",
      "Valid indices for station 10113: [12, 107, 106, 105, 47, 32, 61, 24]\n",
      "Cross-Validation Score for station 10113: -0.0005646530988753957\n"
     ]
    },
    {
     "name": "stderr",
     "output_type": "stream",
     "text": [
      "Training models:  65%|████████████████████████████████████████████▏                       | 65/100 [31:43<16:45, 28.72s/station]"
     ]
    },
    {
     "name": "stdout",
     "output_type": "stream",
     "text": [
      "Mean Squared Error for station 10113: 0.002339244581182107\n",
      "Valid indices for station 28001: [993]\n",
      "Valid indices for station 28001: [993, 995, 483]\n",
      "Valid indices for station 28001: [859, 993, 995, 994, 483]\n",
      "Cross-Validation Score for station 28001: -0.00030850161384288617\n"
     ]
    },
    {
     "name": "stderr",
     "output_type": "stream",
     "text": [
      "Training models:  66%|████████████████████████████████████████████▉                       | 66/100 [32:18<17:21, 30.63s/station]"
     ]
    },
    {
     "name": "stdout",
     "output_type": "stream",
     "text": [
      "Mean Squared Error for station 28001: 0.00015246854261789886\n",
      "Valid indices for station 26007: [981]\n",
      "Valid indices for station 26007: [959, 981, 982, 960, 919]\n",
      "Cross-Validation Score for station 26007: -7.96021660633855e-05\n"
     ]
    },
    {
     "name": "stderr",
     "output_type": "stream",
     "text": [
      "Training models:  67%|█████████████████████████████████████████████▌                      | 67/100 [32:41<15:33, 28.30s/station]"
     ]
    },
    {
     "name": "stdout",
     "output_type": "stream",
     "text": [
      "Mean Squared Error for station 26007: 1.0834739269738679e-05\n",
      "Valid indices for station 33018: [1086, 1092, 1093]\n",
      "Valid indices for station 33018: [1087, 1083, 1086, 1085, 1092, 1091, 1093]\n",
      "Cross-Validation Score for station 33018: -0.0004761974910122436\n"
     ]
    },
    {
     "name": "stderr",
     "output_type": "stream",
     "text": [
      "Training models:  68%|██████████████████████████████████████████████▏                     | 68/100 [33:05<14:25, 27.04s/station]"
     ]
    },
    {
     "name": "stdout",
     "output_type": "stream",
     "text": [
      "Mean Squared Error for station 33018: 0.00033002734077015975\n",
      "Valid indices for station 16111: [454, 446, 465, 445, 474, 475, 441]\n",
      "Cross-Validation Score for station 16111: -0.00034692941517159686\n"
     ]
    },
    {
     "name": "stderr",
     "output_type": "stream",
     "text": [
      "Training models:  69%|██████████████████████████████████████████████▉                     | 69/100 [33:26<13:05, 25.35s/station]"
     ]
    },
    {
     "name": "stdout",
     "output_type": "stream",
     "text": [
      "Mean Squared Error for station 16111: 5.880965484707891e-05\n",
      "Valid indices for station 7015: [1365, 1377, 1360, 1361]\n",
      "Valid indices for station 7015: [1369, 1368, 1370, 1367, 1364, 1365, 1377, 1362, 1358, 1366, 1375, 1360, 1361, 1359]\n",
      "Cross-Validation Score for station 7015: -0.0006774928035418338\n"
     ]
    },
    {
     "name": "stderr",
     "output_type": "stream",
     "text": [
      "Training models:  70%|███████████████████████████████████████████████▌                    | 70/100 [34:07<14:55, 29.85s/station]"
     ]
    },
    {
     "name": "stdout",
     "output_type": "stream",
     "text": [
      "Mean Squared Error for station 7015: 0.0006129978502681313\n",
      "Valid indices for station 19005: [664, 639, 619, 616, 620]\n",
      "Cross-Validation Score for station 19005: -1.7689349987487196e-06\n"
     ]
    },
    {
     "name": "stderr",
     "output_type": "stream",
     "text": [
      "Training models:  71%|████████████████████████████████████████████████▎                   | 71/100 [34:45<15:42, 32.51s/station]"
     ]
    },
    {
     "name": "stdout",
     "output_type": "stream",
     "text": [
      "Mean Squared Error for station 19005: 0.0\n",
      "Valid indices for station 19018: [655, 674, 631, 630, 653]\n",
      "Cross-Validation Score for station 19018: -0.03418178075071042\n"
     ]
    },
    {
     "name": "stderr",
     "output_type": "stream",
     "text": [
      "Training models:  72%|████████████████████████████████████████████████▉                   | 72/100 [35:01<12:45, 27.35s/station]"
     ]
    },
    {
     "name": "stdout",
     "output_type": "stream",
     "text": [
      "Mean Squared Error for station 19018: 0.028571630492706338\n",
      "Valid indices for station 11115: [199, 120, 131, 176, 81, 82, 84, 86]\n",
      "Cross-Validation Score for station 11115: -0.00026594699240165644\n"
     ]
    },
    {
     "name": "stderr",
     "output_type": "stream",
     "text": [
      "Training models:  73%|█████████████████████████████████████████████████▋                  | 73/100 [35:34<13:06, 29.14s/station]"
     ]
    },
    {
     "name": "stdout",
     "output_type": "stream",
     "text": [
      "Mean Squared Error for station 11115: 0.00010495433153391608\n",
      "Valid indices for station 15025: [393, 404, 357, 403, 397, 355, 415]\n",
      "Cross-Validation Score for station 15025: -0.00037401719571564007\n"
     ]
    },
    {
     "name": "stderr",
     "output_type": "stream",
     "text": [
      "Training models:  74%|██████████████████████████████████████████████████▎                 | 74/100 [36:10<13:34, 31.34s/station]"
     ]
    },
    {
     "name": "stdout",
     "output_type": "stream",
     "text": [
      "Mean Squared Error for station 15025: 0.00011186815841764347\n",
      "Valid indices for station 12013: [158, 178, 148, 159, 176]\n",
      "Cross-Validation Score for station 12013: -3.579093088691965e-05\n"
     ]
    },
    {
     "name": "stderr",
     "output_type": "stream",
     "text": [
      "Training models:  75%|███████████████████████████████████████████████████                 | 75/100 [36:37<12:29, 29.99s/station]"
     ]
    },
    {
     "name": "stdout",
     "output_type": "stream",
     "text": [
      "Mean Squared Error for station 12013: 8.804321435284525e-06\n",
      "Valid indices for station 18110: [611, 34, 562, 599, 598]\n",
      "Cross-Validation Score for station 18110: -6.911182694145569e-06\n"
     ]
    },
    {
     "name": "stderr",
     "output_type": "stream",
     "text": [
      "Training models:  76%|███████████████████████████████████████████████████▋                | 76/100 [37:08<12:03, 30.13s/station]"
     ]
    },
    {
     "name": "stdout",
     "output_type": "stream",
     "text": [
      "Mean Squared Error for station 18110: 1.0987053442199843e-06\n",
      "Valid indices for station 41606: [1218, 1013, 1179, 1219, 1220]\n",
      "Cross-Validation Score for station 41606: -5.0176397298996235e-05\n"
     ]
    },
    {
     "name": "stderr",
     "output_type": "stream",
     "text": [
      "Training models:  77%|████████████████████████████████████████████████████▎               | 77/100 [37:32<10:54, 28.46s/station]"
     ]
    },
    {
     "name": "stdout",
     "output_type": "stream",
     "text": [
      "Mean Squared Error for station 41606: 1.581537760795605e-06\n",
      "Valid indices for station 17011: [536, 535, 499, 497, 538, 498]\n",
      "Cross-Validation Score for station 17011: -0.000831930573551171\n"
     ]
    },
    {
     "name": "stderr",
     "output_type": "stream",
     "text": [
      "Training models:  78%|█████████████████████████████████████████████████████               | 78/100 [38:09<11:19, 30.87s/station]"
     ]
    },
    {
     "name": "stdout",
     "output_type": "stream",
     "text": [
      "Mean Squared Error for station 17011: 0.0008372794075614177\n",
      "Valid indices for station 43402: [1229]\n",
      "Valid indices for station 43402: [1229]\n",
      "Valid indices for station 43402: [1228, 1229, 1249]\n",
      "Valid indices for station 43402: [1245, 1228, 190, 201, 1166, 1229, 1167, 1249]\n",
      "Cross-Validation Score for station 43402: -0.00021462300441422118\n"
     ]
    },
    {
     "name": "stderr",
     "output_type": "stream",
     "text": [
      "Training models:  79%|█████████████████████████████████████████████████████▋              | 79/100 [38:35<10:18, 29.46s/station]"
     ]
    },
    {
     "name": "stdout",
     "output_type": "stream",
     "text": [
      "Mean Squared Error for station 43402: 0.00013276404492239423\n",
      "Valid indices for station 24002: [962, 957, 963]\n",
      "Valid indices for station 24002: [910, 912, 962, 957, 963, 911]\n",
      "Cross-Validation Score for station 24002: -0.00019044836743218146\n"
     ]
    },
    {
     "name": "stderr",
     "output_type": "stream",
     "text": [
      "Training models:  80%|██████████████████████████████████████████████████████▍             | 80/100 [39:07<10:05, 30.30s/station]"
     ]
    },
    {
     "name": "stdout",
     "output_type": "stream",
     "text": [
      "Mean Squared Error for station 24002: 4.778727436538888e-06\n",
      "Valid indices for station 14117: [306, 329, 338, 337, 319, 309, 277, 307]\n",
      "Cross-Validation Score for station 14117: -0.0011554135608142532\n"
     ]
    },
    {
     "name": "stderr",
     "output_type": "stream",
     "text": [
      "Training models:  81%|███████████████████████████████████████████████████████             | 81/100 [39:35<09:19, 29.46s/station]"
     ]
    },
    {
     "name": "stdout",
     "output_type": "stream",
     "text": [
      "Mean Squared Error for station 14117: 0.0004737992447996516\n",
      "Out of bounds indices for station 18141: [1479]\n",
      "Max valid index: 1460\n",
      "Valid indices for station 18141: [1438, 1437, 1436, 558, 610, 559, 566]\n",
      "Cross-Validation Score for station 18141: -6.228701280606955e-05\n"
     ]
    },
    {
     "name": "stderr",
     "output_type": "stream",
     "text": [
      "Training models:  82%|███████████████████████████████████████████████████████▊            | 82/100 [39:59<08:21, 27.86s/station]"
     ]
    },
    {
     "name": "stdout",
     "output_type": "stream",
     "text": [
      "Mean Squared Error for station 18141: 1.169339990492202e-05\n",
      "Valid indices for station 23001: [921]\n",
      "Valid indices for station 23001: [875, 921, 883, 922, 923, 930]\n",
      "Cross-Validation Score for station 23001: -0.00026971231985737753\n"
     ]
    },
    {
     "name": "stderr",
     "output_type": "stream",
     "text": [
      "Training models:  83%|████████████████████████████████████████████████████████▍           | 83/100 [40:30<08:09, 28.80s/station]"
     ]
    },
    {
     "name": "stdout",
     "output_type": "stream",
     "text": [
      "Mean Squared Error for station 23001: 0.00040903906748371424\n",
      "Valid indices for station 13049: [241, 223, 220, 249, 247, 224]\n",
      "Cross-Validation Score for station 13049: -3.3549822627963036e-05\n"
     ]
    },
    {
     "name": "stderr",
     "output_type": "stream",
     "text": [
      "Training models:  84%|█████████████████████████████████████████████████████████           | 84/100 [40:59<07:43, 28.98s/station]"
     ]
    },
    {
     "name": "stdout",
     "output_type": "stream",
     "text": [
      "Mean Squared Error for station 13049: 7.08340674825804e-05\n",
      "Valid indices for station 11102: [127, 120, 131, 81, 82, 86, 89]\n",
      "Cross-Validation Score for station 11102: -0.004047989862789205\n"
     ]
    },
    {
     "name": "stderr",
     "output_type": "stream",
     "text": [
      "Training models:  85%|█████████████████████████████████████████████████████████▊          | 85/100 [41:35<07:45, 31.02s/station]"
     ]
    },
    {
     "name": "stdout",
     "output_type": "stream",
     "text": [
      "Mean Squared Error for station 11102: 0.00025449543082026394\n",
      "Valid indices for station 19004: [35, 36, 658, 633, 618, 625, 617]\n",
      "Cross-Validation Score for station 19004: -3.911085243351322e-05\n"
     ]
    },
    {
     "name": "stderr",
     "output_type": "stream",
     "text": [
      "Training models:  86%|██████████████████████████████████████████████████████████▍         | 86/100 [41:58<06:42, 28.75s/station]"
     ]
    },
    {
     "name": "stdout",
     "output_type": "stream",
     "text": [
      "Mean Squared Error for station 19004: 0.00011143800572249232\n",
      "Valid indices for station 12106: [174, 143, 144, 175, 177, 147]\n",
      "Cross-Validation Score for station 12106: -0.0005997450846236833\n"
     ]
    },
    {
     "name": "stderr",
     "output_type": "stream",
     "text": [
      "Training models:  87%|███████████████████████████████████████████████████████████▏        | 87/100 [42:44<07:18, 33.75s/station]"
     ]
    },
    {
     "name": "stdout",
     "output_type": "stream",
     "text": [
      "Mean Squared Error for station 12106: 0.00026578536224446223\n",
      "Valid indices for station 20043: [680, 87, 85, 719, 692, 686, 693]\n",
      "Cross-Validation Score for station 20043: -0.00021312559971931028\n"
     ]
    },
    {
     "name": "stderr",
     "output_type": "stream",
     "text": [
      "Training models:  88%|███████████████████████████████████████████████████████████▊        | 88/100 [43:14<06:31, 32.65s/station]"
     ]
    },
    {
     "name": "stdout",
     "output_type": "stream",
     "text": [
      "Mean Squared Error for station 20043: 0.000322959520895756\n",
      "Valid indices for station 33009: [1086, 1092, 1093]\n",
      "Valid indices for station 33009: [1094, 1087, 1083, 1086, 1085, 1092, 1091, 1093]\n",
      "Cross-Validation Score for station 33009: -0.0019719501908637377\n"
     ]
    },
    {
     "name": "stderr",
     "output_type": "stream",
     "text": [
      "Training models:  89%|████████████████████████████████████████████████████████████▌       | 89/100 [43:45<05:52, 32.07s/station]"
     ]
    },
    {
     "name": "stdout",
     "output_type": "stream",
     "text": [
      "Mean Squared Error for station 33009: 0.07632236192584924\n",
      "Valid indices for station 25005: [969]\n",
      "Valid indices for station 25005: [969]\n",
      "Valid indices for station 25005: [974, 966, 973, 969, 971, 970]\n",
      "Cross-Validation Score for station 25005: -0.00013650253431679425\n"
     ]
    },
    {
     "name": "stderr",
     "output_type": "stream",
     "text": [
      "Training models:  90%|█████████████████████████████████████████████████████████████▏      | 90/100 [44:10<05:00, 30.08s/station]"
     ]
    },
    {
     "name": "stdout",
     "output_type": "stream",
     "text": [
      "Mean Squared Error for station 25005: 9.761774954320142e-05\n",
      "Valid indices for station 13045: [262, 242, 243, 250]\n",
      "Valid indices for station 13045: [238, 239, 264, 262, 240, 263, 265, 245, 237, 271, 270, 242, 241, 223, 244, 243, 250, 251, 252, 220, 249, 247, 224]\n",
      "Cross-Validation Score for station 13045: -0.0011649736928792192\n"
     ]
    },
    {
     "name": "stderr",
     "output_type": "stream",
     "text": [
      "Training models:  91%|█████████████████████████████████████████████████████████████▉      | 91/100 [44:45<04:44, 31.60s/station]"
     ]
    },
    {
     "name": "stdout",
     "output_type": "stream",
     "text": [
      "Mean Squared Error for station 13045: 0.000921095601730955\n",
      "Valid indices for station 32010: [1058]\n",
      "Valid indices for station 32010: [1060, 1056, 1058]\n",
      "Valid indices for station 32010: [1060, 1056, 1058, 1055, 1054, 1059, 1064]\n",
      "Cross-Validation Score for station 32010: -0.0008741688048998773\n"
     ]
    },
    {
     "name": "stderr",
     "output_type": "stream",
     "text": [
      "Training models:  92%|██████████████████████████████████████████████████████████████▌     | 92/100 [45:14<04:05, 30.67s/station]"
     ]
    },
    {
     "name": "stdout",
     "output_type": "stream",
     "text": [
      "Mean Squared Error for station 32010: 0.0010910882172652278\n",
      "Valid indices for station 16018: [443, 442, 474, 472, 441, 438]\n",
      "Cross-Validation Score for station 16018: -0.00021814112841361788\n"
     ]
    },
    {
     "name": "stderr",
     "output_type": "stream",
     "text": [
      "Training models:  93%|███████████████████████████████████████████████████████████████▏    | 93/100 [45:37<03:18, 28.33s/station]"
     ]
    },
    {
     "name": "stdout",
     "output_type": "stream",
     "text": [
      "Mean Squared Error for station 16018: 1.7672616515662946e-05\n",
      "Valid indices for station 15010: [355, 346, 345, 344, 356]\n",
      "Cross-Validation Score for station 15010: -0.0009644444220813927\n"
     ]
    },
    {
     "name": "stderr",
     "output_type": "stream",
     "text": [
      "Training models:  94%|███████████████████████████████████████████████████████████████▉    | 94/100 [46:17<03:11, 31.95s/station]"
     ]
    },
    {
     "name": "stdout",
     "output_type": "stream",
     "text": [
      "Mean Squared Error for station 15010: 0.0012600661914288526\n",
      "Valid indices for station 33019: [1094, 659]\n",
      "Valid indices for station 33019: [595, 615, 1094, 660, 657, 659, 1082, 652, 1086]\n",
      "Cross-Validation Score for station 33019: -0.008935204048454645\n"
     ]
    },
    {
     "name": "stderr",
     "output_type": "stream",
     "text": [
      "Training models:  95%|████████████████████████████████████████████████████████████████▌   | 95/100 [46:51<02:43, 32.61s/station]"
     ]
    },
    {
     "name": "stdout",
     "output_type": "stream",
     "text": [
      "Mean Squared Error for station 33019: 0.03886702595747531\n",
      "Valid indices for station 15122: [378, 377, 414, 370, 369]\n",
      "Cross-Validation Score for station 15122: -0.0004870703840854471\n"
     ]
    },
    {
     "name": "stderr",
     "output_type": "stream",
     "text": [
      "Training models:  96%|█████████████████████████████████████████████████████████████████▎  | 96/100 [47:24<02:10, 32.57s/station]"
     ]
    },
    {
     "name": "stdout",
     "output_type": "stream",
     "text": [
      "Mean Squared Error for station 15122: 0.0002549903966957088\n",
      "Valid indices for station 42707: [1216, 1217, 1214]\n",
      "Valid indices for station 42707: [1215, 1216, 1217, 1214, 1264, 234, 235, 1192]\n",
      "Cross-Validation Score for station 42707: -0.00044026754577949147\n"
     ]
    },
    {
     "name": "stderr",
     "output_type": "stream",
     "text": [
      "Training models:  97%|█████████████████████████████████████████████████████████████████▉  | 97/100 [47:48<01:30, 30.19s/station]"
     ]
    },
    {
     "name": "stdout",
     "output_type": "stream",
     "text": [
      "Mean Squared Error for station 42707: 9.015573022461596e-05\n",
      "Valid indices for station 14019: [313, 326, 293, 294, 287, 327]\n",
      "Cross-Validation Score for station 14019: -1.9613199335321764e-05\n"
     ]
    },
    {
     "name": "stderr",
     "output_type": "stream",
     "text": [
      "Training models:  98%|██████████████████████████████████████████████████████████████████▋ | 98/100 [48:10<00:55, 27.56s/station]"
     ]
    },
    {
     "name": "stdout",
     "output_type": "stream",
     "text": [
      "Mean Squared Error for station 14019: 1.140712603163194e-06\n",
      "Valid indices for station 12201: [208, 207, 178, 206, 159]\n",
      "Cross-Validation Score for station 12201: -0.0047069506886147265\n"
     ]
    },
    {
     "name": "stderr",
     "output_type": "stream",
     "text": [
      "Training models:  99%|███████████████████████████████████████████████████████████████████▎| 99/100 [48:44<00:29, 29.56s/station]"
     ]
    },
    {
     "name": "stdout",
     "output_type": "stream",
     "text": [
      "Mean Squared Error for station 12201: 0.0022985361630637616\n",
      "Valid indices for station 20119: [712, 681, 713, 762, 743, 736]\n",
      "Cross-Validation Score for station 20119: -0.0004411498423429567\n"
     ]
    },
    {
     "name": "stderr",
     "output_type": "stream",
     "text": [
      "Training models: 100%|███████████████████████████████████████████████████████████████████| 100/100 [49:05<00:00, 29.45s/station]"
     ]
    },
    {
     "name": "stdout",
     "output_type": "stream",
     "text": [
      "Mean Squared Error for station 20119: 0.0004936071140808442\n"
     ]
    },
    {
     "name": "stderr",
     "output_type": "stream",
     "text": [
      "\n"
     ]
    },
    {
     "name": "stdout",
     "output_type": "stream",
     "text": [
      "Intermediate results saved for batch 2\n",
      "Training models...\n",
      "Columns after feature creation: Index(['stationcode', 'name', 'is_installed', 'capacity', 'numdocksavailable',\n",
      "       'numbikesavailable', 'mechanical', 'ebike', 'is_renting',\n",
      "       'is_returning', 'duedate', 'coordonnees_geo',\n",
      "       'nom_arrondissement_communes', 'date', 'lat', 'lon', 'hour',\n",
      "       'day_of_week', 'lag_1_hour', 'lag_1_day', 'rolling_mean_7_days',\n",
      "       'rolling_mean_30_days', 'normalized_bikes_available',\n",
      "       'normalized_docks_available', 'usage_ratio',\n",
      "       'capacity_hour_interaction', 'capacity_day_interaction',\n",
      "       'avg_bikes_hour_day'],\n",
      "      dtype='object')\n"
     ]
    },
    {
     "name": "stderr",
     "output_type": "stream",
     "text": [
      "Training models:   0%|                                                                             | 0/100 [00:00<?, ?station/s]"
     ]
    },
    {
     "name": "stdout",
     "output_type": "stream",
     "text": [
      "Valid indices for station 19019: [656, 655, 674, 631, 630, 653]\n",
      "Cross-Validation Score for station 19019: -0.00019641283469707286\n"
     ]
    },
    {
     "name": "stderr",
     "output_type": "stream",
     "text": [
      "Training models:   1%|▋                                                                    | 1/100 [00:30<50:53, 30.85s/station]"
     ]
    },
    {
     "name": "stdout",
     "output_type": "stream",
     "text": [
      "Mean Squared Error for station 19019: 8.941523797084608e-05\n",
      "Valid indices for station 42207: [1202, 1199, 183]\n",
      "Valid indices for station 42207: [1202, 1199, 169, 180, 1201, 1198, 183, 161]\n",
      "Cross-Validation Score for station 42207: -0.0001993000501045482\n"
     ]
    },
    {
     "name": "stderr",
     "output_type": "stream",
     "text": [
      "Training models:   2%|█▍                                                                   | 2/100 [01:01<50:05, 30.67s/station]"
     ]
    },
    {
     "name": "stdout",
     "output_type": "stream",
     "text": [
      "Mean Squared Error for station 42207: 0.0006064749909295731\n",
      "Valid indices for station 12202: [208, 207, 206]\n",
      "Valid indices for station 12202: [194, 163, 162, 160, 208, 169, 164, 207, 179, 158, 178, 148, 206, 159, 165, 166, 153]\n",
      "Cross-Validation Score for station 12202: -0.05958606081936617\n"
     ]
    },
    {
     "name": "stderr",
     "output_type": "stream",
     "text": [
      "Training models:   3%|██                                                                   | 3/100 [01:43<57:58, 35.86s/station]"
     ]
    },
    {
     "name": "stdout",
     "output_type": "stream",
     "text": [
      "Mean Squared Error for station 12202: 0.020740809017473466\n",
      "Valid indices for station 20036: [712, 681, 713, 762, 743, 736, 752]\n",
      "Cross-Validation Score for station 20036: -0.000242877578924756\n"
     ]
    },
    {
     "name": "stderr",
     "output_type": "stream",
     "text": [
      "Training models:   4%|██▊                                                                  | 4/100 [02:00<45:31, 28.45s/station]"
     ]
    },
    {
     "name": "stdout",
     "output_type": "stream",
     "text": [
      "Mean Squared Error for station 20036: 0.00011918213196712455\n",
      "Out of bounds indices for station 92003: [1482]\n",
      "Max valid index: 1460\n",
      "Valid indices for station 92003: []\n",
      "Out of bounds indices for station 92003: [1482, 1484]\n",
      "Max valid index: 1460\n",
      "Valid indices for station 92003: []\n",
      "Out of bounds indices for station 92003: [1482, 1487, 1484]\n",
      "Max valid index: 1460\n",
      "Valid indices for station 92003: []\n",
      "Out of bounds indices for station 92003: [1480, 1482, 1487, 1484]\n",
      "Max valid index: 1460\n",
      "Valid indices for station 92003: [966, 973, 971]\n"
     ]
    },
    {
     "name": "stderr",
     "output_type": "stream",
     "text": [
      "/Users/anthonybellon/Comp_Documents/VelibVisualisation/scripts/train_model.py:103: SettingWithCopyWarning: \n",
      "A value is trying to be set on a copy of a slice from a DataFrame.\n",
      "Try using .loc[row_indexer,col_indexer] = value instead\n",
      "\n",
      "See the caveats in the documentation: https://pandas.pydata.org/pandas-docs/stable/user_guide/indexing.html#returning-a-view-versus-a-copy\n",
      "  \n"
     ]
    },
    {
     "name": "stdout",
     "output_type": "stream",
     "text": [
      "Cross-Validation Score for station 92003: -8.014025560014659e-05\n"
     ]
    },
    {
     "name": "stderr",
     "output_type": "stream",
     "text": [
      "Training models:   5%|███▍                                                                 | 5/100 [02:26<43:29, 27.47s/station]"
     ]
    },
    {
     "name": "stdout",
     "output_type": "stream",
     "text": [
      "Mean Squared Error for station 92003: 0.00010574781453410342\n",
      "Valid indices for station 5119: [1308, 1289, 1294, 1311, 1288, 1287, 1286]\n",
      "Cross-Validation Score for station 5119: -0.00034616282216107106\n"
     ]
    },
    {
     "name": "stderr",
     "output_type": "stream",
     "text": [
      "Training models:   6%|████▏                                                                | 6/100 [03:00<46:40, 29.80s/station]"
     ]
    },
    {
     "name": "stdout",
     "output_type": "stream",
     "text": [
      "Mean Squared Error for station 5119: 0.0022039102202145717\n",
      "Valid indices for station 35009: [1116, 1114, 1113, 1119, 1111]\n",
      "Cross-Validation Score for station 35009: -0.0009363491786078447\n"
     ]
    },
    {
     "name": "stderr",
     "output_type": "stream",
     "text": [
      "Training models:   7%|████▊                                                                | 7/100 [03:19<40:34, 26.17s/station]"
     ]
    },
    {
     "name": "stdout",
     "output_type": "stream",
     "text": [
      "Mean Squared Error for station 35009: 0.0006347174316410577\n",
      "Valid indices for station 8055: [1423, 1424, 527, 1422, 1431, 511, 1420, 1421, 512]\n",
      "Cross-Validation Score for station 8055: -0.0003594920432079291\n"
     ]
    },
    {
     "name": "stderr",
     "output_type": "stream",
     "text": [
      "Training models:   8%|█████▌                                                               | 8/100 [03:46<40:52, 26.65s/station]"
     ]
    },
    {
     "name": "stdout",
     "output_type": "stream",
     "text": [
      "Mean Squared Error for station 8055: 0.0008077180488133819\n",
      "Out of bounds indices for station 8002: [1462, 1464, 1465, 1471, 1470]\n",
      "Max valid index: 1460\n",
      "Valid indices for station 8002: [1392, 1384, 1393, 1385, 1428, 1432, 1387, 1386, 1381]\n",
      "Cross-Validation Score for station 8002: -0.001924582203218441\n"
     ]
    },
    {
     "name": "stderr",
     "output_type": "stream",
     "text": [
      "Training models:   9%|██████▏                                                              | 9/100 [04:21<44:14, 29.17s/station]"
     ]
    },
    {
     "name": "stdout",
     "output_type": "stream",
     "text": [
      "Mean Squared Error for station 8002: 0.0014583281733746133\n",
      "Valid indices for station 27002: [989]\n",
      "Valid indices for station 27002: [989]\n",
      "Valid indices for station 27002: [989]\n",
      "Valid indices for station 27002: [914, 990, 988, 989]\n"
     ]
    },
    {
     "name": "stderr",
     "output_type": "stream",
     "text": [
      "/Users/anthonybellon/Comp_Documents/VelibVisualisation/scripts/train_model.py:103: SettingWithCopyWarning: \n",
      "A value is trying to be set on a copy of a slice from a DataFrame.\n",
      "Try using .loc[row_indexer,col_indexer] = value instead\n",
      "\n",
      "See the caveats in the documentation: https://pandas.pydata.org/pandas-docs/stable/user_guide/indexing.html#returning-a-view-versus-a-copy\n",
      "  \n"
     ]
    },
    {
     "name": "stdout",
     "output_type": "stream",
     "text": [
      "Cross-Validation Score for station 27002: -4.4466582975862054e-05\n"
     ]
    },
    {
     "name": "stderr",
     "output_type": "stream",
     "text": [
      "Training models:  10%|██████▊                                                             | 10/100 [04:53<44:51, 29.90s/station]"
     ]
    },
    {
     "name": "stdout",
     "output_type": "stream",
     "text": [
      "Mean Squared Error for station 27002: 0.0012416743172021414\n",
      "Valid indices for station 21109: [803, 802]\n",
      "Valid indices for station 21109: [809, 812, 811, 801, 810, 803, 987, 802, 815, 806, 807]\n",
      "Cross-Validation Score for station 21109: -4.7675416613476566e-05\n"
     ]
    },
    {
     "name": "stderr",
     "output_type": "stream",
     "text": [
      "Training models:  11%|███████▍                                                            | 11/100 [05:29<47:22, 31.94s/station]"
     ]
    },
    {
     "name": "stdout",
     "output_type": "stream",
     "text": [
      "Mean Squared Error for station 21109: 6.65312319700548e-05\n",
      "Valid indices for station 21502: [854, 855]\n",
      "Valid indices for station 21502: [861, 860, 857, 858, 854, 855, 859]\n",
      "Cross-Validation Score for station 21502: -0.00014906958306910384\n"
     ]
    },
    {
     "name": "stderr",
     "output_type": "stream",
     "text": [
      "Training models:  12%|████████▏                                                           | 12/100 [05:59<45:44, 31.18s/station]"
     ]
    },
    {
     "name": "stdout",
     "output_type": "stream",
     "text": [
      "Mean Squared Error for station 21502: 4.3981774315460394e-05\n",
      "Valid indices for station 14001: [319, 309, 277, 323, 307, 336, 1323]\n",
      "Cross-Validation Score for station 14001: -0.00028439177521718054\n"
     ]
    },
    {
     "name": "stderr",
     "output_type": "stream",
     "text": [
      "Training models:  13%|████████▊                                                           | 13/100 [06:31<45:34, 31.43s/station]"
     ]
    },
    {
     "name": "stdout",
     "output_type": "stream",
     "text": [
      "Mean Squared Error for station 14001: 0.0005969288075890588\n",
      "Valid indices for station 12126: [1246, 188, 184]\n",
      "Valid indices for station 12126: [1247, 1201, 1198, 1246, 188, 183, 184]\n",
      "Cross-Validation Score for station 12126: -0.0009141042993357825\n"
     ]
    },
    {
     "name": "stderr",
     "output_type": "stream",
     "text": [
      "Training models:  14%|█████████▌                                                          | 14/100 [07:01<44:25, 31.00s/station]"
     ]
    },
    {
     "name": "stdout",
     "output_type": "stream",
     "text": [
      "Mean Squared Error for station 12126: 0.003065923859238316\n",
      "Valid indices for station 10001_relais: [1019, 7, 6, 1005, 1, 0, 10, 1004, 9, 11]\n",
      "Cross-Validation Score for station 10001_relais: -0.000218116481637053\n"
     ]
    },
    {
     "name": "stderr",
     "output_type": "stream",
     "text": [
      "Training models:  15%|██████████▏                                                         | 15/100 [07:39<47:10, 33.30s/station]"
     ]
    },
    {
     "name": "stdout",
     "output_type": "stream",
     "text": [
      "Mean Squared Error for station 10001_relais: 8.670080053903034e-06\n",
      "Valid indices for station 16129: [484]\n",
      "Valid indices for station 16129: [486, 444, 487, 484, 443]\n",
      "Cross-Validation Score for station 16129: -0.0020216168499668325\n"
     ]
    },
    {
     "name": "stderr",
     "output_type": "stream",
     "text": [
      "Training models:  16%|██████████▉                                                         | 16/100 [08:06<43:57, 31.40s/station]"
     ]
    },
    {
     "name": "stdout",
     "output_type": "stream",
     "text": [
      "Mean Squared Error for station 16129: 0.00035218116828988867\n",
      "Valid indices for station 14104: [325, 300, 302, 303, 324, 311, 335, 304, 306, 329]\n",
      "Cross-Validation Score for station 14104: -0.00011146983881264178\n"
     ]
    },
    {
     "name": "stderr",
     "output_type": "stream",
     "text": [
      "Training models:  17%|███████████▌                                                        | 17/100 [08:32<40:59, 29.64s/station]"
     ]
    },
    {
     "name": "stdout",
     "output_type": "stream",
     "text": [
      "Mean Squared Error for station 14104: 0.00014465239675027337\n",
      "Valid indices for station 20113: [654, 717, 738, 710, 751, 649]\n",
      "Cross-Validation Score for station 20113: -0.00018784332763181142\n"
     ]
    },
    {
     "name": "stderr",
     "output_type": "stream",
     "text": [
      "Training models:  18%|████████████▏                                                       | 18/100 [08:59<39:35, 28.97s/station]"
     ]
    },
    {
     "name": "stdout",
     "output_type": "stream",
     "text": [
      "Mean Squared Error for station 20113: 2.174604016669557e-05\n",
      "Valid indices for station 5116: [269, 1309, 257, 1310, 192, 1130]\n",
      "Cross-Validation Score for station 5116: -0.20799066053559673\n"
     ]
    },
    {
     "name": "stderr",
     "output_type": "stream",
     "text": [
      "Training models:  19%|████████████▉                                                       | 19/100 [09:32<40:36, 30.08s/station]"
     ]
    },
    {
     "name": "stdout",
     "output_type": "stream",
     "text": [
      "Mean Squared Error for station 5116: 0.2067364686086121\n",
      "Valid indices for station 41604: [182, 731, 1177, 683, 1218, 1013]\n",
      "Cross-Validation Score for station 41604: -0.00048057713275104566\n"
     ]
    },
    {
     "name": "stderr",
     "output_type": "stream",
     "text": [
      "Training models:  20%|█████████████▌                                                      | 20/100 [10:03<40:28, 30.35s/station]"
     ]
    },
    {
     "name": "stdout",
     "output_type": "stream",
     "text": [
      "Mean Squared Error for station 41604: 0.00027327377738658537\n",
      "Valid indices for station 14018: [296, 295, 318, 313, 326, 293, 294]\n",
      "Cross-Validation Score for station 14018: -0.006236750828165578\n"
     ]
    },
    {
     "name": "stderr",
     "output_type": "stream",
     "text": [
      "Training models:  21%|██████████████▎                                                     | 21/100 [10:36<41:13, 31.31s/station]"
     ]
    },
    {
     "name": "stdout",
     "output_type": "stream",
     "text": [
      "Mean Squared Error for station 14018: 0.001155948670773786\n",
      "Valid indices for station 15017: [371, 349, 324, 350, 421, 410, 359]\n",
      "Cross-Validation Score for station 15017: -7.37143743399237e-05\n"
     ]
    },
    {
     "name": "stderr",
     "output_type": "stream",
     "text": [
      "Training models:  22%|██████████████▉                                                     | 22/100 [11:08<40:49, 31.40s/station]"
     ]
    },
    {
     "name": "stdout",
     "output_type": "stream",
     "text": [
      "Mean Squared Error for station 15017: 2.127015310078944e-06\n",
      "Valid indices for station 43006: [1223]\n",
      "Valid indices for station 43006: [1179, 1219, 1220, 185, 205, 1222, 1223, 209, 204, 186]\n",
      "Cross-Validation Score for station 43006: -0.00020426187198648705\n"
     ]
    },
    {
     "name": "stderr",
     "output_type": "stream",
     "text": [
      "Training models:  23%|███████████████▋                                                    | 23/100 [11:42<41:20, 32.21s/station]"
     ]
    },
    {
     "name": "stdout",
     "output_type": "stream",
     "text": [
      "Mean Squared Error for station 43006: 0.00011168836756656683\n",
      "Valid indices for station 31702: [1046]\n",
      "Valid indices for station 31702: [1045, 1046, 1048, 1047]\n",
      "Valid indices for station 31702: [729, 1050, 1052, 1049, 1045, 1046, 1022, 1048, 1018, 1029, 1047, 1081, 1079, 1080]\n",
      "Cross-Validation Score for station 31702: -0.00016346322588360563\n"
     ]
    },
    {
     "name": "stderr",
     "output_type": "stream",
     "text": [
      "Training models:  24%|████████████████▎                                                   | 24/100 [12:01<35:38, 28.13s/station]"
     ]
    },
    {
     "name": "stdout",
     "output_type": "stream",
     "text": [
      "Mean Squared Error for station 31702: 0.0\n",
      "Valid indices for station 13104: [269, 1309, 257, 1310, 192, 1130]\n",
      "Cross-Validation Score for station 13104: -2.026020751801204e-08\n"
     ]
    },
    {
     "name": "stderr",
     "output_type": "stream",
     "text": [
      "Training models:  25%|█████████████████                                                   | 25/100 [12:34<37:10, 29.75s/station]"
     ]
    },
    {
     "name": "stdout",
     "output_type": "stream",
     "text": [
      "Mean Squared Error for station 13104: 1.620559165513153e-08\n",
      "Valid indices for station 5002: [1318, 1343, 1306, 1333, 1345, 1336, 1317, 1295, 1279, 1293, 1275, 1315, 1274, 1312, 1296]\n",
      "Cross-Validation Score for station 5002: -0.00036642370610882907\n"
     ]
    },
    {
     "name": "stderr",
     "output_type": "stream",
     "text": [
      "Training models:  26%|█████████████████▋                                                  | 26/100 [13:04<36:34, 29.65s/station]"
     ]
    },
    {
     "name": "stdout",
     "output_type": "stream",
     "text": [
      "Mean Squared Error for station 5002: 0.00011381580296536294\n",
      "Valid indices for station 18005: [1449, 557, 588, 556, 1437, 558]\n",
      "Cross-Validation Score for station 18005: -0.00017026756763868144\n"
     ]
    },
    {
     "name": "stderr",
     "output_type": "stream",
     "text": [
      "Training models:  27%|██████████████████▎                                                 | 27/100 [13:30<34:55, 28.70s/station]"
     ]
    },
    {
     "name": "stdout",
     "output_type": "stream",
     "text": [
      "Mean Squared Error for station 18005: 0.0001036894739815817\n",
      "Out of bounds indices for station 10005: [1474]\n",
      "Max valid index: 1460\n",
      "Valid indices for station 10005: [764, 1444, 40, 1443, 4, 1441, 1434, 2, 19, 21]\n",
      "Cross-Validation Score for station 10005: -0.00011370946525398919\n"
     ]
    },
    {
     "name": "stderr",
     "output_type": "stream",
     "text": [
      "Training models:  28%|███████████████████                                                 | 28/100 [14:02<35:29, 29.57s/station]"
     ]
    },
    {
     "name": "stdout",
     "output_type": "stream",
     "text": [
      "Mean Squared Error for station 10005: 5.465987802736441e-06\n",
      "Valid indices for station 12024: [157, 177, 156, 171]\n",
      "Valid indices for station 12024: [268, 272, 174, 163, 162, 160, 157, 144, 175, 177, 147, 156, 171, 158, 178, 148, 206, 159, 199]\n",
      "Cross-Validation Score for station 12024: -0.0003051146620307752\n"
     ]
    },
    {
     "name": "stderr",
     "output_type": "stream",
     "text": [
      "Training models:  29%|███████████████████▋                                                | 29/100 [14:45<39:38, 33.50s/station]"
     ]
    },
    {
     "name": "stdout",
     "output_type": "stream",
     "text": [
      "Mean Squared Error for station 12024: 0.00039365964140251723\n",
      "Valid indices for station 18045: [594, 593, 492, 531, 1389, 592, 591]\n",
      "Cross-Validation Score for station 18045: -0.00011529285063774199\n"
     ]
    },
    {
     "name": "stderr",
     "output_type": "stream",
     "text": [
      "Training models:  30%|████████████████████▍                                               | 30/100 [15:12<36:55, 31.65s/station]"
     ]
    },
    {
     "name": "stdout",
     "output_type": "stream",
     "text": [
      "Mean Squared Error for station 18045: 3.2278088144009878e-06\n",
      "Out of bounds indices for station 8012: [1466, 1467]\n",
      "Max valid index: 1460\n",
      "Valid indices for station 8012: [1388, 1387, 594, 593, 531, 1389, 592, 591]\n",
      "Cross-Validation Score for station 8012: -0.0026365801560679\n"
     ]
    },
    {
     "name": "stderr",
     "output_type": "stream",
     "text": [
      "Training models:  31%|█████████████████████                                               | 31/100 [15:41<35:38, 31.00s/station]"
     ]
    },
    {
     "name": "stdout",
     "output_type": "stream",
     "text": [
      "Mean Squared Error for station 8012: 0.0023461682132042\n",
      "Valid indices for station 18020: [568, 567, 571, 578, 580, 577]\n",
      "Cross-Validation Score for station 18020: -8.88615650144103e-05\n"
     ]
    },
    {
     "name": "stderr",
     "output_type": "stream",
     "text": [
      "Training models:  32%|█████████████████████▊                                              | 32/100 [16:22<38:28, 33.95s/station]"
     ]
    },
    {
     "name": "stdout",
     "output_type": "stream",
     "text": [
      "Mean Squared Error for station 18020: 2.5648809308765975e-05\n",
      "Valid indices for station 20136: [709, 738, 710, 751, 737, 718, 745, 711]\n",
      "Cross-Validation Score for station 20136: -0.0015464308174966421\n"
     ]
    },
    {
     "name": "stderr",
     "output_type": "stream",
     "text": [
      "Training models:  33%|██████████████████████▍                                             | 33/100 [17:00<39:06, 35.02s/station]"
     ]
    },
    {
     "name": "stdout",
     "output_type": "stream",
     "text": [
      "Mean Squared Error for station 20136: 0.00037485133686698856\n",
      "Valid indices for station 5026: [212, 1290, 1282, 1291, 1297, 1281, 1289]\n",
      "Cross-Validation Score for station 5026: -0.0008984702608827062\n"
     ]
    },
    {
     "name": "stderr",
     "output_type": "stream",
     "text": [
      "Training models:  34%|███████████████████████                                             | 34/100 [17:42<40:59, 37.26s/station]"
     ]
    },
    {
     "name": "stdout",
     "output_type": "stream",
     "text": [
      "Mean Squared Error for station 5026: 0.00032529961130327615\n",
      "Valid indices for station 16006: [431, 433, 470, 469, 427]\n",
      "Cross-Validation Score for station 16006: -0.001726331450487525\n"
     ]
    },
    {
     "name": "stderr",
     "output_type": "stream",
     "text": [
      "Training models:  35%|███████████████████████▊                                            | 35/100 [18:00<34:06, 31.48s/station]"
     ]
    },
    {
     "name": "stdout",
     "output_type": "stream",
     "text": [
      "Mean Squared Error for station 16006: 0.0006302391278931227\n",
      "Valid indices for station 21013: [831, 777, 780]\n",
      "Valid indices for station 21013: [872, 831, 790, 777, 779, 780, 785, 781, 829, 830, 851, 793]\n",
      "Cross-Validation Score for station 21013: -2.9422113403239728e-05\n"
     ]
    },
    {
     "name": "stderr",
     "output_type": "stream",
     "text": [
      "Training models:  36%|████████████████████████▍                                           | 36/100 [18:34<34:15, 32.12s/station]"
     ]
    },
    {
     "name": "stdout",
     "output_type": "stream",
     "text": [
      "Mean Squared Error for station 21013: 3.3756874127094974e-05\n",
      "Valid indices for station 32012: [1060]\n",
      "Valid indices for station 32012: [1060, 1058]\n",
      "Valid indices for station 32012: [1102, 1105, 1060, 1058]\n",
      "Valid indices for station 32012: [1103, 954, 1102, 1105, 1060, 1056, 1058, 1072, 1063, 1066, 1064]\n",
      "Cross-Validation Score for station 32012: -0.5146898556807906\n"
     ]
    },
    {
     "name": "stderr",
     "output_type": "stream",
     "text": [
      "Training models:  37%|█████████████████████████▏                                          | 37/100 [19:21<38:27, 36.62s/station]"
     ]
    },
    {
     "name": "stdout",
     "output_type": "stream",
     "text": [
      "Mean Squared Error for station 32012: 0.34919864594011235\n",
      "Valid indices for station 21308: [835, 426, 373]\n",
      "Valid indices for station 21308: [846, 833, 847, 849, 835, 837, 463, 386, 394, 461, 426, 373, 413, 385, 402, 416, 401]\n",
      "Cross-Validation Score for station 21308: -0.5047511870010294\n"
     ]
    },
    {
     "name": "stderr",
     "output_type": "stream",
     "text": [
      "Training models:  38%|█████████████████████████▊                                          | 38/100 [20:07<40:47, 39.48s/station]"
     ]
    },
    {
     "name": "stdout",
     "output_type": "stream",
     "text": [
      "Mean Squared Error for station 21308: 0.2686230214094318\n",
      "Valid indices for station 7006: [1320, 1337, 1356]\n",
      "Valid indices for station 7006: [1358, 1355, 1354, 1376, 1351, 1346, 1347, 1321, 1320, 1329, 1338, 1330, 1319, 1337, 1357, 65, 1356, 71, 52, 53, 64, 57, 132, 760, 51, 73]\n",
      "Cross-Validation Score for station 7006: -0.00022836536831527077\n"
     ]
    },
    {
     "name": "stderr",
     "output_type": "stream",
     "text": [
      "Training models:  39%|██████████████████████████▌                                         | 39/100 [20:50<41:14, 40.57s/station]"
     ]
    },
    {
     "name": "stdout",
     "output_type": "stream",
     "text": [
      "Mean Squared Error for station 7006: 7.774839499343698e-05\n",
      "Valid indices for station 11114: [78, 130, 76, 77, 140, 119, 79]\n",
      "Cross-Validation Score for station 11114: -8.022933161059172e-05\n"
     ]
    },
    {
     "name": "stderr",
     "output_type": "stream",
     "text": [
      "Training models:  40%|███████████████████████████▏                                        | 40/100 [21:36<42:12, 42.20s/station]"
     ]
    },
    {
     "name": "stdout",
     "output_type": "stream",
     "text": [
      "Mean Squared Error for station 11114: 3.0578712934777473e-06\n",
      "Valid indices for station 20040: [100, 715, 717, 738, 710, 649]\n",
      "Cross-Validation Score for station 20040: -0.00044044851238581316\n"
     ]
    },
    {
     "name": "stderr",
     "output_type": "stream",
     "text": [
      "Training models:  41%|███████████████████████████▉                                        | 41/100 [22:12<39:39, 40.33s/station]"
     ]
    },
    {
     "name": "stdout",
     "output_type": "stream",
     "text": [
      "Mean Squared Error for station 20040: 3.1581257997906514e-05\n",
      "Valid indices for station 42503: [1209, 823, 1210]\n",
      "Valid indices for station 42503: [816, 1154, 1209, 1153, 1152, 825, 823, 1210, 1211, 321]\n",
      "Cross-Validation Score for station 42503: -0.0009871436616624787\n"
     ]
    },
    {
     "name": "stderr",
     "output_type": "stream",
     "text": [
      "Training models:  42%|████████████████████████████▌                                       | 42/100 [22:43<36:07, 37.36s/station]"
     ]
    },
    {
     "name": "stdout",
     "output_type": "stream",
     "text": [
      "Mean Squared Error for station 42503: 0.0005599963863137687\n",
      "Valid indices for station 17050: [1395, 1388, 1387, 545, 1418, 1396, 552, 593, 531, 1389, 592]\n",
      "Cross-Validation Score for station 17050: -0.0016524946764705727\n"
     ]
    },
    {
     "name": "stderr",
     "output_type": "stream",
     "text": [
      "Training models:  43%|█████████████████████████████▏                                      | 43/100 [23:13<33:33, 35.32s/station]"
     ]
    },
    {
     "name": "stdout",
     "output_type": "stream",
     "text": [
      "Mean Squared Error for station 17050: 5.523689807185818e-05\n",
      "Valid indices for station 21105: [806, 800, 813]\n",
      "Valid indices for station 21105: [536, 535, 550, 499, 538, 802, 815, 806, 800, 813, 799, 807, 808]\n",
      "Cross-Validation Score for station 21105: -9.355585609660076e-05\n"
     ]
    },
    {
     "name": "stderr",
     "output_type": "stream",
     "text": [
      "Training models:  44%|█████████████████████████████▉                                      | 44/100 [23:42<31:16, 33.52s/station]"
     ]
    },
    {
     "name": "stdout",
     "output_type": "stream",
     "text": [
      "Mean Squared Error for station 21105: 3.6884750960997286e-05\n",
      "Valid indices for station 10015: [62, 9, 13, 68, 11, 14, 15, 58, 23]\n",
      "Cross-Validation Score for station 10015: -0.0004823675207810461\n"
     ]
    },
    {
     "name": "stderr",
     "output_type": "stream",
     "text": [
      "Training models:  45%|██████████████████████████████▌                                     | 45/100 [24:12<29:35, 32.29s/station]"
     ]
    },
    {
     "name": "stdout",
     "output_type": "stream",
     "text": [
      "Mean Squared Error for station 10015: 0.00247474177472485\n",
      "Valid indices for station 10023: [16, 62, 27, 11, 14, 15, 58, 23, 26]\n",
      "Cross-Validation Score for station 10023: -8.757335781937817e-05\n"
     ]
    },
    {
     "name": "stderr",
     "output_type": "stream",
     "text": [
      "Training models:  46%|███████████████████████████████▎                                    | 46/100 [24:41<28:13, 31.37s/station]"
     ]
    },
    {
     "name": "stdout",
     "output_type": "stream",
     "text": [
      "Mean Squared Error for station 10023: 6.451438497653168e-05\n",
      "Valid indices for station 13026: [259, 232, 230, 260, 233]\n",
      "Cross-Validation Score for station 13026: -0.0005320825273550909\n"
     ]
    },
    {
     "name": "stderr",
     "output_type": "stream",
     "text": [
      "Training models:  47%|███████████████████████████████▉                                    | 47/100 [25:18<29:03, 32.90s/station]"
     ]
    },
    {
     "name": "stdout",
     "output_type": "stream",
     "text": [
      "Mean Squared Error for station 13026: 8.195541795560143e-05\n",
      "Valid indices for station 14139: [298, 334, 324, 335]\n",
      "Valid indices for station 14139: [903, 299, 320, 333, 372, 371, 349, 332, 312, 298, 325, 300, 334, 302, 303, 324, 311, 335, 350, 421, 410, 359]\n",
      "Cross-Validation Score for station 14139: -0.00011125284903673203\n"
     ]
    },
    {
     "name": "stderr",
     "output_type": "stream",
     "text": [
      "Training models:  48%|████████████████████████████████▋                                   | 48/100 [25:46<27:14, 31.44s/station]"
     ]
    },
    {
     "name": "stdout",
     "output_type": "stream",
     "text": [
      "Mean Squared Error for station 14139: 0.0002221815494056289\n",
      "Valid indices for station 13102: [223, 255]\n",
      "Valid indices for station 13102: [218, 213, 1305, 271, 270, 242, 241, 222, 223, 255, 256, 219, 220, 249, 247, 224, 225, 272, 269, 1309, 257, 1310, 141]\n",
      "Cross-Validation Score for station 13102: -0.0007457698314153609\n"
     ]
    },
    {
     "name": "stderr",
     "output_type": "stream",
     "text": [
      "Training models:  49%|█████████████████████████████████▎                                  | 49/100 [26:31<30:11, 35.52s/station]"
     ]
    },
    {
     "name": "stdout",
     "output_type": "stream",
     "text": [
      "Mean Squared Error for station 13102: 1.3840756702190421e-05\n",
      "Valid indices for station 41207: [1160]\n",
      "Valid indices for station 41207: [1160, 1161]\n",
      "Valid indices for station 41207: [1163, 1162, 1160, 1161, 1159, 1040]\n",
      "Cross-Validation Score for station 41207: -0.0005171236000771763\n"
     ]
    },
    {
     "name": "stderr",
     "output_type": "stream",
     "text": [
      "Training models:  50%|██████████████████████████████████                                  | 50/100 [27:09<30:25, 36.50s/station]"
     ]
    },
    {
     "name": "stdout",
     "output_type": "stream",
     "text": [
      "Mean Squared Error for station 41207: 0.0014549825321534867\n",
      "Valid indices for station 17017: [543, 548, 501, 503, 500, 502, 540]\n",
      "Cross-Validation Score for station 17017: -0.0011116154831367052\n"
     ]
    },
    {
     "name": "stderr",
     "output_type": "stream",
     "text": [
      "Training models:  51%|██████████████████████████████████▋                                 | 51/100 [27:42<28:46, 35.24s/station]"
     ]
    },
    {
     "name": "stdout",
     "output_type": "stream",
     "text": [
      "Mean Squared Error for station 17017: 0.00011434545395145296\n",
      "Valid indices for station 21019: [785, 781, 782, 772]\n",
      "Valid indices for station 21019: [780, 778, 785, 781, 782, 769, 773, 772, 766, 789, 793, 466]\n",
      "Cross-Validation Score for station 21019: -0.00020940263770364615\n"
     ]
    },
    {
     "name": "stderr",
     "output_type": "stream",
     "text": [
      "Training models:  52%|███████████████████████████████████▎                                | 52/100 [28:16<27:53, 34.86s/station]"
     ]
    },
    {
     "name": "stdout",
     "output_type": "stream",
     "text": [
      "Mean Squared Error for station 21019: 0.00017096774193548373\n",
      "Valid indices for station 6018: [1328, 1335, 1326, 1348]\n",
      "Valid indices for station 6018: [316, 278, 279, 1328, 1325, 1335, 1323, 1326, 1324, 1327, 1344, 315, 280, 281, 1277, 1348, 1278, 1313, 1314, 1276, 1318, 1343, 1306, 1347, 1338, 1334, 1317]\n",
      "Cross-Validation Score for station 6018: -9.241120365164524e-05\n"
     ]
    },
    {
     "name": "stderr",
     "output_type": "stream",
     "text": [
      "Training models:  53%|████████████████████████████████████                                | 53/100 [28:41<25:04, 32.01s/station]"
     ]
    },
    {
     "name": "stdout",
     "output_type": "stream",
     "text": [
      "Mean Squared Error for station 6018: 5.813311320261124e-06\n",
      "Valid indices for station 12032: [196, 161]\n",
      "Valid indices for station 12032: [1199, 180, 168, 146, 196, 167, 155, 170, 161, 195, 197]\n",
      "Cross-Validation Score for station 12032: -0.0002897180499095434\n"
     ]
    },
    {
     "name": "stderr",
     "output_type": "stream",
     "text": [
      "Training models:  54%|████████████████████████████████████▋                               | 54/100 [29:26<27:30, 35.88s/station]"
     ]
    },
    {
     "name": "stdout",
     "output_type": "stream",
     "text": [
      "Mean Squared Error for station 12032: 0.0002296979595512442\n",
      "Valid indices for station 21032: [771, 794]\n",
      "Valid indices for station 21032: [788, 887, 771, 794, 795, 775, 770, 776, 786]\n",
      "Cross-Validation Score for station 21032: -0.0003360120046313452\n"
     ]
    },
    {
     "name": "stderr",
     "output_type": "stream",
     "text": [
      "Training models:  55%|█████████████████████████████████████▍                              | 55/100 [29:56<25:39, 34.21s/station]"
     ]
    },
    {
     "name": "stdout",
     "output_type": "stream",
     "text": [
      "Mean Squared Error for station 21032: 8.752068319674976e-05\n",
      "Valid indices for station 19037: [645, 735, 698]\n",
      "Valid indices for station 19037: [713, 648, 661, 638, 714, 734, 741, 705, 752, 645, 735, 668, 644, 1097, 706, 1078, 698]\n",
      "Cross-Validation Score for station 19037: -0.00036812303681873213\n"
     ]
    },
    {
     "name": "stderr",
     "output_type": "stream",
     "text": [
      "Training models:  56%|██████████████████████████████████████                              | 56/100 [30:25<23:59, 32.72s/station]"
     ]
    },
    {
     "name": "stdout",
     "output_type": "stream",
     "text": [
      "Mean Squared Error for station 19037: 0.0003498519527280412\n",
      "Valid indices for station 20109: [714, 734, 750, 741, 705]\n",
      "Cross-Validation Score for station 20109: -6.421835259871206e-05\n"
     ]
    },
    {
     "name": "stderr",
     "output_type": "stream",
     "text": [
      "Training models:  57%|██████████████████████████████████████▊                             | 57/100 [30:50<21:42, 30.30s/station]"
     ]
    },
    {
     "name": "stdout",
     "output_type": "stream",
     "text": [
      "Mean Squared Error for station 20109: 2.4803789342544377e-06\n",
      "Valid indices for station 13016: [251, 252, 253, 221]\n",
      "Valid indices for station 13016: [265, 245, 244, 250, 251, 252, 220, 249, 268, 272, 273, 248, 253, 221, 163, 162, 160, 157]\n",
      "Cross-Validation Score for station 13016: -0.0010482428339819942\n"
     ]
    },
    {
     "name": "stderr",
     "output_type": "stream",
     "text": [
      "Training models:  58%|███████████████████████████████████████▍                            | 58/100 [31:21<21:20, 30.50s/station]"
     ]
    },
    {
     "name": "stdout",
     "output_type": "stream",
     "text": [
      "Mean Squared Error for station 13016: 0.00019856618464108626\n",
      "Valid indices for station 6107: [1353, 1322, 1344, 1340, 1339, 1354, 1376, 1349, 1351, 1347, 1321]\n",
      "Cross-Validation Score for station 6107: -0.00014557486812048927\n"
     ]
    },
    {
     "name": "stderr",
     "output_type": "stream",
     "text": [
      "Training models:  59%|████████████████████████████████████████                            | 59/100 [31:51<20:44, 30.35s/station]"
     ]
    },
    {
     "name": "stdout",
     "output_type": "stream",
     "text": [
      "Mean Squared Error for station 6107: 7.360124185368006e-05\n",
      "Valid indices for station 22005: [879, 878, 877]\n",
      "Valid indices for station 22005: [481, 482, 879, 878, 882, 877, 876]\n",
      "Cross-Validation Score for station 22005: -4.044874005114505e-05\n"
     ]
    },
    {
     "name": "stderr",
     "output_type": "stream",
     "text": [
      "Training models:  60%|████████████████████████████████████████▊                           | 60/100 [32:20<20:01, 30.03s/station]"
     ]
    },
    {
     "name": "stdout",
     "output_type": "stream",
     "text": [
      "Mean Squared Error for station 22005: 1.2062310449406908e-06\n",
      "Valid indices for station 19109: [587, 35, 658, 618, 617, 616]\n",
      "Cross-Validation Score for station 19109: -0.00014349627684255865\n"
     ]
    },
    {
     "name": "stderr",
     "output_type": "stream",
     "text": [
      "Training models:  61%|█████████████████████████████████████████▍                          | 61/100 [32:44<18:15, 28.08s/station]"
     ]
    },
    {
     "name": "stdout",
     "output_type": "stream",
     "text": [
      "Mean Squared Error for station 19109: 8.798508390304593e-05\n",
      "Valid indices for station 31019: [1026, 1017]\n",
      "Valid indices for station 31019: [1025, 1222, 1221, 1026, 1224, 1016, 1028, 1021, 1017, 1030]\n",
      "Cross-Validation Score for station 31019: -0.00047630425598615825\n"
     ]
    },
    {
     "name": "stderr",
     "output_type": "stream",
     "text": [
      "Training models:  62%|██████████████████████████████████████████▏                         | 62/100 [33:13<17:59, 28.41s/station]"
     ]
    },
    {
     "name": "stdout",
     "output_type": "stream",
     "text": [
      "Mean Squared Error for station 31019: 0.0005531363789627224\n",
      "Valid indices for station 32014: [1062]\n",
      "Valid indices for station 32014: [1059, 1073, 1062]\n",
      "Valid indices for station 32014: [1056, 1059, 1088, 1066, 1064, 1065, 1073, 1062]\n",
      "Cross-Validation Score for station 32014: -0.00041813437285614686\n"
     ]
    },
    {
     "name": "stderr",
     "output_type": "stream",
     "text": [
      "Training models:  63%|██████████████████████████████████████████▊                         | 63/100 [33:49<18:53, 30.64s/station]"
     ]
    },
    {
     "name": "stdout",
     "output_type": "stream",
     "text": [
      "Mean Squared Error for station 32014: 2.164664921263205e-06\n",
      "Valid indices for station 11020: [80, 128, 127, 79, 91, 93, 94]\n",
      "Cross-Validation Score for station 11020: -0.0004362201258537755\n"
     ]
    },
    {
     "name": "stderr",
     "output_type": "stream",
     "text": [
      "Training models:  64%|███████████████████████████████████████████▌                        | 64/100 [34:42<22:20, 37.24s/station]"
     ]
    },
    {
     "name": "stdout",
     "output_type": "stream",
     "text": [
      "Mean Squared Error for station 11020: 0.00015906956776436674\n",
      "Valid indices for station 17124: [491, 526, 601, 547, 1098]\n",
      "Cross-Validation Score for station 17124: -0.0003062865620848236\n"
     ]
    },
    {
     "name": "stderr",
     "output_type": "stream",
     "text": [
      "Training models:  65%|████████████████████████████████████████████▏                       | 65/100 [35:25<22:49, 39.12s/station]"
     ]
    },
    {
     "name": "stdout",
     "output_type": "stream",
     "text": [
      "Mean Squared Error for station 17124: 6.126887847317927e-05\n",
      "Valid indices for station 17027: [516, 514, 513, 529, 532, 512]\n",
      "Cross-Validation Score for station 17027: -0.0011067115751867184\n"
     ]
    },
    {
     "name": "stderr",
     "output_type": "stream",
     "text": [
      "Training models:  66%|████████████████████████████████████████████▉                       | 66/100 [36:06<22:29, 39.69s/station]"
     ]
    },
    {
     "name": "stdout",
     "output_type": "stream",
     "text": [
      "Mean Squared Error for station 17027: 0.00033287001654045973\n",
      "Valid indices for station 10165: [7, 16, 17, 18, 62, 67, 27, 22, 11, 14, 15, 58, 23, 54]\n",
      "Cross-Validation Score for station 10165: -0.0008020328018411578\n"
     ]
    },
    {
     "name": "stderr",
     "output_type": "stream",
     "text": [
      "Training models:  67%|█████████████████████████████████████████████▌                      | 67/100 [36:58<23:50, 43.34s/station]"
     ]
    },
    {
     "name": "stdout",
     "output_type": "stream",
     "text": [
      "Mean Squared Error for station 10165: 0.00018910740286930204\n",
      "Valid indices for station 31016: [1030, 1023, 1031]\n",
      "Valid indices for station 31016: [1029, 1028, 1020, 1021, 1017, 1030, 1023, 1031, 1032]\n",
      "Cross-Validation Score for station 31016: -0.0002994808700204232\n"
     ]
    },
    {
     "name": "stderr",
     "output_type": "stream",
     "text": [
      "Training models:  68%|██████████████████████████████████████████████▏                     | 68/100 [37:48<24:10, 45.33s/station]"
     ]
    },
    {
     "name": "stdout",
     "output_type": "stream",
     "text": [
      "Mean Squared Error for station 31016: 0.0006714743820926699\n",
      "Valid indices for station 51003: [1299, 1300]\n",
      "Valid indices for station 51003: [1299, 1300, 1298]\n",
      "Valid indices for station 51003: [1299, 1300, 1298]\n",
      "Valid indices for station 51003: [1299, 1300, 1298]\n"
     ]
    },
    {
     "name": "stderr",
     "output_type": "stream",
     "text": [
      "/Users/anthonybellon/Comp_Documents/VelibVisualisation/scripts/train_model.py:103: SettingWithCopyWarning: \n",
      "A value is trying to be set on a copy of a slice from a DataFrame.\n",
      "Try using .loc[row_indexer,col_indexer] = value instead\n",
      "\n",
      "See the caveats in the documentation: https://pandas.pydata.org/pandas-docs/stable/user_guide/indexing.html#returning-a-view-versus-a-copy\n",
      "  \n"
     ]
    },
    {
     "name": "stdout",
     "output_type": "stream",
     "text": [
      "Cross-Validation Score for station 51003: -0.000800374857464511\n"
     ]
    },
    {
     "name": "stderr",
     "output_type": "stream",
     "text": [
      "Training models:  69%|██████████████████████████████████████████████▉                     | 69/100 [38:45<25:15, 48.88s/station]"
     ]
    },
    {
     "name": "stdout",
     "output_type": "stream",
     "text": [
      "Mean Squared Error for station 51003: 0.00016139001864166492\n",
      "Valid indices for station 22101: [887]\n",
      "Valid indices for station 22101: [887, 771, 794]\n",
      "Valid indices for station 22101: [887, 771, 794, 795, 775, 770, 786]\n",
      "Cross-Validation Score for station 22101: -0.00024137991992701424\n"
     ]
    },
    {
     "name": "stderr",
     "output_type": "stream",
     "text": [
      "Training models:  70%|███████████████████████████████████████████████▌                    | 70/100 [39:26<23:18, 46.61s/station]"
     ]
    },
    {
     "name": "stdout",
     "output_type": "stream",
     "text": [
      "Mean Squared Error for station 22101: 7.3097867954239e-05\n",
      "Valid indices for station 12001: [1131, 139, 138, 1145, 75, 1148]\n",
      "Cross-Validation Score for station 12001: -0.0005698556952694668\n"
     ]
    },
    {
     "name": "stderr",
     "output_type": "stream",
     "text": [
      "Training models:  71%|████████████████████████████████████████████████▎                   | 71/100 [40:20<23:29, 48.59s/station]"
     ]
    },
    {
     "name": "stdout",
     "output_type": "stream",
     "text": [
      "Mean Squared Error for station 12001: 0.0007897692069392749\n",
      "Valid indices for station 14122: [299, 320, 333, 312, 298]\n",
      "Cross-Validation Score for station 14122: -0.0001226493012959928\n"
     ]
    },
    {
     "name": "stderr",
     "output_type": "stream",
     "text": [
      "Training models:  72%|████████████████████████████████████████████████▉                   | 72/100 [40:48<19:50, 42.52s/station]"
     ]
    },
    {
     "name": "stdout",
     "output_type": "stream",
     "text": [
      "Mean Squared Error for station 14122: 8.537195678412687e-05\n",
      "Valid indices for station 44102: [1246, 188]\n",
      "Valid indices for station 44102: [1260, 1247, 1198, 1246, 188, 184]\n",
      "Cross-Validation Score for station 44102: -7.291049721341533e-05\n"
     ]
    },
    {
     "name": "stderr",
     "output_type": "stream",
     "text": [
      "Training models:  73%|█████████████████████████████████████████████████▋                  | 73/100 [41:25<18:19, 40.74s/station]"
     ]
    },
    {
     "name": "stdout",
     "output_type": "stream",
     "text": [
      "Mean Squared Error for station 44102: 0.00022339756428684044\n",
      "Valid indices for station 16123: [482]\n",
      "Valid indices for station 16123: [487, 481, 880, 482, 879, 878, 480, 886]\n",
      "Cross-Validation Score for station 16123: -2.182788785377794e-05\n"
     ]
    },
    {
     "name": "stderr",
     "output_type": "stream",
     "text": [
      "Training models:  74%|██████████████████████████████████████████████████▎                 | 74/100 [42:03<17:18, 39.93s/station]"
     ]
    },
    {
     "name": "stdout",
     "output_type": "stream",
     "text": [
      "Mean Squared Error for station 16123: 9.220383390916194e-08\n",
      "Valid indices for station 16032: [456, 460, 455, 478]\n",
      "Valid indices for station 16032: [459, 463, 386, 461, 457, 456, 477, 460, 451, 450, 455, 485, 478, 453, 400]\n",
      "Cross-Validation Score for station 16032: -2.6150460179979302e-05\n"
     ]
    },
    {
     "name": "stderr",
     "output_type": "stream",
     "text": [
      "Training models:  75%|███████████████████████████████████████████████████                 | 75/100 [42:42<16:33, 39.76s/station]"
     ]
    },
    {
     "name": "stdout",
     "output_type": "stream",
     "text": [
      "Mean Squared Error for station 16032: 4.470840154418465e-06\n",
      "Valid indices for station 18113: [590, 555, 554, 600, 603, 602, 568, 570]\n",
      "Cross-Validation Score for station 18113: -0.00019588665194547077\n"
     ]
    },
    {
     "name": "stderr",
     "output_type": "stream",
     "text": [
      "Training models:  76%|███████████████████████████████████████████████████▋                | 76/100 [43:17<15:20, 38.36s/station]"
     ]
    },
    {
     "name": "stdout",
     "output_type": "stream",
     "text": [
      "Mean Squared Error for station 18113: 1.543542629399009e-05\n",
      "Valid indices for station 17047: [515, 516, 513, 529, 532, 512]\n",
      "Cross-Validation Score for station 17047: -0.0002777883408749489\n"
     ]
    },
    {
     "name": "stderr",
     "output_type": "stream",
     "text": [
      "Training models:  77%|████████████████████████████████████████████████████▎               | 77/100 [43:56<14:43, 38.43s/station]"
     ]
    },
    {
     "name": "stdout",
     "output_type": "stream",
     "text": [
      "Mean Squared Error for station 17047: 0.0007931416925141977\n",
      "Valid indices for station 17122: [500, 502, 493, 545, 1418, 1396, 539, 552, 492, 531]\n",
      "Cross-Validation Score for station 17122: -0.00012111941586439014\n"
     ]
    },
    {
     "name": "stderr",
     "output_type": "stream",
     "text": [
      "Training models:  78%|█████████████████████████████████████████████████████               | 78/100 [44:29<13:32, 36.92s/station]"
     ]
    },
    {
     "name": "stdout",
     "output_type": "stream",
     "text": [
      "Mean Squared Error for station 17122: 0.00020298608991418463\n",
      "Valid indices for station 20027: [734, 750, 741, 705, 729]\n",
      "Cross-Validation Score for station 20027: -4.3007430627180063e-05\n"
     ]
    },
    {
     "name": "stderr",
     "output_type": "stream",
     "text": [
      "Training models:  79%|█████████████████████████████████████████████████████▋              | 79/100 [44:59<12:13, 34.91s/station]"
     ]
    },
    {
     "name": "stdout",
     "output_type": "stream",
     "text": [
      "Mean Squared Error for station 20027: 5.906063260896323e-05\n",
      "Out of bounds indices for station 9023: [1468, 1473]\n",
      "Max valid index: 1460\n",
      "Valid indices for station 9023: [727, 814, 1454, 744, 757, 1455, 796, 747, 1445, 1453]\n",
      "Cross-Validation Score for station 9023: -0.0001636734134549483\n"
     ]
    },
    {
     "name": "stderr",
     "output_type": "stream",
     "text": [
      "Training models:  80%|██████████████████████████████████████████████████████▍             | 80/100 [45:52<13:22, 40.11s/station]"
     ]
    },
    {
     "name": "stdout",
     "output_type": "stream",
     "text": [
      "Mean Squared Error for station 9023: 0.00013905219134772173\n",
      "Valid indices for station 20021: [700, 723, 733, 701, 703]\n",
      "Cross-Validation Score for station 20021: -9.268614812668217e-05\n"
     ]
    },
    {
     "name": "stderr",
     "output_type": "stream",
     "text": [
      "Training models:  81%|███████████████████████████████████████████████████████             | 81/100 [46:42<13:41, 43.25s/station]"
     ]
    },
    {
     "name": "stdout",
     "output_type": "stream",
     "text": [
      "Mean Squared Error for station 20021: 2.8055942874044504e-05\n",
      "Valid indices for station 15032: [384, 408, 383, 387, 396, 407, 364]\n",
      "Cross-Validation Score for station 15032: -0.0018781268866103352\n"
     ]
    },
    {
     "name": "stderr",
     "output_type": "stream",
     "text": [
      "Training models:  82%|███████████████████████████████████████████████████████▊            | 82/100 [47:37<14:04, 46.89s/station]"
     ]
    },
    {
     "name": "stdout",
     "output_type": "stream",
     "text": [
      "Mean Squared Error for station 15032: 0.0020754032419245216\n",
      "Valid indices for station 15108: [417, 362, 390, 406, 395, 365, 363]\n",
      "Cross-Validation Score for station 15108: -2.6621194603232093e-05\n"
     ]
    },
    {
     "name": "stderr",
     "output_type": "stream",
     "text": [
      "Training models:  83%|████████████████████████████████████████████████████████▍           | 83/100 [48:21<13:02, 46.02s/station]"
     ]
    },
    {
     "name": "stdout",
     "output_type": "stream",
     "text": [
      "Mean Squared Error for station 15108: 6.941867224990725e-05\n",
      "Valid indices for station 19040: [681, 648, 661, 752]\n",
      "Valid indices for station 19040: [718, 712, 666, 681, 713, 762, 648, 743, 736, 661, 672, 638, 656, 714, 734, 741, 752, 645, 735, 668, 644]\n",
      "Cross-Validation Score for station 19040: -0.0004952471440487816\n"
     ]
    },
    {
     "name": "stderr",
     "output_type": "stream",
     "text": [
      "Training models:  84%|█████████████████████████████████████████████████████████           | 84/100 [49:02<11:51, 44.44s/station]"
     ]
    },
    {
     "name": "stdout",
     "output_type": "stream",
     "text": [
      "Mean Squared Error for station 19040: 0.0002258675633608943\n",
      "Valid indices for station 26001: [975]\n",
      "Valid indices for station 26001: [961, 923, 975, 979]\n",
      "Valid indices for station 26001: [922, 961, 982, 960, 923, 924, 809, 975, 979, 977]\n",
      "Cross-Validation Score for station 26001: -0.0003465602400710492\n"
     ]
    },
    {
     "name": "stderr",
     "output_type": "stream",
     "text": [
      "Training models:  85%|█████████████████████████████████████████████████████████▊          | 85/100 [49:52<11:30, 46.01s/station]"
     ]
    },
    {
     "name": "stdout",
     "output_type": "stream",
     "text": [
      "Mean Squared Error for station 26001: 9.024310612369182e-05\n",
      "Valid indices for station 11201: [176, 198, 152, 82, 84, 86, 137, 136, 85]\n",
      "Cross-Validation Score for station 11201: -0.07972311623423795\n"
     ]
    },
    {
     "name": "stderr",
     "output_type": "stream",
     "text": [
      "Training models:  86%|██████████████████████████████████████████████████████████▍         | 86/100 [50:40<10:54, 46.76s/station]"
     ]
    },
    {
     "name": "stdout",
     "output_type": "stream",
     "text": [
      "Mean Squared Error for station 11201: 0.09389949773959305\n",
      "Valid indices for station 6016: [1343, 1306, 1342, 1333, 1345, 1334, 1336, 1332, 1331, 1293, 1275, 1274, 1296]\n",
      "Cross-Validation Score for station 6016: -1.4801773698523834e-05\n"
     ]
    },
    {
     "name": "stderr",
     "output_type": "stream",
     "text": [
      "Training models:  87%|███████████████████████████████████████████████████████████▏        | 87/100 [51:31<10:24, 48.03s/station]"
     ]
    },
    {
     "name": "stdout",
     "output_type": "stream",
     "text": [
      "Mean Squared Error for station 6016: 2.2323167032352753e-07\n",
      "Valid indices for station 11040: [1003, 114, 117, 1006, 1004, 108, 109, 116, 111, 110, 113, 107, 129]\n",
      "Cross-Validation Score for station 11040: -0.0002569050748232152\n"
     ]
    },
    {
     "name": "stderr",
     "output_type": "stream",
     "text": [
      "Training models:  88%|███████████████████████████████████████████████████████████▊        | 88/100 [52:30<10:13, 51.08s/station]"
     ]
    },
    {
     "name": "stdout",
     "output_type": "stream",
     "text": [
      "Mean Squared Error for station 11040: 0.0003447720066483809\n",
      "Valid indices for station 41204: [1157]\n",
      "Valid indices for station 41204: [1155, 1156, 1158, 1157]\n",
      "Valid indices for station 41204: [1165, 1227, 1226, 1155, 1164, 1156, 1158, 1157, 1163, 1024]\n",
      "Cross-Validation Score for station 41204: -0.0003097246366300983\n"
     ]
    },
    {
     "name": "stderr",
     "output_type": "stream",
     "text": [
      "Training models:  89%|████████████████████████████████████████████████████████████▌       | 89/100 [53:13<08:55, 48.65s/station]"
     ]
    },
    {
     "name": "stdout",
     "output_type": "stream",
     "text": [
      "Mean Squared Error for station 41204: 9.023721311910213e-05\n",
      "Valid indices for station 19009: [622, 643, 623, 663]\n",
      "Valid indices for station 19009: [628, 671, 667, 622, 621, 652, 643, 623, 673, 663, 624, 1083]\n",
      "Cross-Validation Score for station 19009: -0.0006335232518405518\n"
     ]
    },
    {
     "name": "stderr",
     "output_type": "stream",
     "text": [
      "Training models:  90%|█████████████████████████████████████████████████████████████▏      | 90/100 [53:55<07:47, 46.76s/station]"
     ]
    },
    {
     "name": "stdout",
     "output_type": "stream",
     "text": [
      "Mean Squared Error for station 19009: 0.00018833592830977392\n",
      "Valid indices for station 17046: [519, 518, 528, 1423, 1424, 527, 515]\n",
      "Cross-Validation Score for station 17046: -0.000221687603382028\n"
     ]
    },
    {
     "name": "stderr",
     "output_type": "stream",
     "text": [
      "Training models:  91%|█████████████████████████████████████████████████████████████▉      | 91/100 [54:37<06:48, 45.41s/station]"
     ]
    },
    {
     "name": "stdout",
     "output_type": "stream",
     "text": [
      "Mean Squared Error for station 17046: 4.777157490877752e-05\n",
      "Valid indices for station 32017: [1067, 1065]\n",
      "Valid indices for station 32017: [1068, 1066, 1064, 1067, 1065, 1071]\n",
      "Cross-Validation Score for station 32017: -0.00010836484659878143\n"
     ]
    },
    {
     "name": "stderr",
     "output_type": "stream",
     "text": [
      "Training models:  92%|██████████████████████████████████████████████████████████████▌     | 92/100 [55:20<05:56, 44.54s/station]"
     ]
    },
    {
     "name": "stdout",
     "output_type": "stream",
     "text": [
      "Mean Squared Error for station 32017: 0.002602815244955713\n",
      "Valid indices for station 17121: [614, 495, 494, 544, 490, 491]\n",
      "Cross-Validation Score for station 17121: -0.00012694825177680526\n"
     ]
    },
    {
     "name": "stderr",
     "output_type": "stream",
     "text": [
      "Training models:  93%|███████████████████████████████████████████████████████████████▏    | 93/100 [56:10<05:24, 46.34s/station]"
     ]
    },
    {
     "name": "stdout",
     "output_type": "stream",
     "text": [
      "Mean Squared Error for station 17121: 2.5915902356937034e-05\n",
      "Valid indices for station 11041: [83, 98, 112, 88, 123, 102, 95]\n",
      "Cross-Validation Score for station 11041: -0.00046953385849661506\n"
     ]
    },
    {
     "name": "stderr",
     "output_type": "stream",
     "text": [
      "Training models:  94%|███████████████████████████████████████████████████████████████▉    | 94/100 [57:12<05:05, 50.89s/station]"
     ]
    },
    {
     "name": "stdout",
     "output_type": "stream",
     "text": [
      "Mean Squared Error for station 11041: 9.657651270645791e-05\n",
      "Valid indices for station 19038: [646, 649, 737, 666, 665, 636, 672]\n",
      "Cross-Validation Score for station 19038: -0.00017090374902874883\n"
     ]
    },
    {
     "name": "stderr",
     "output_type": "stream",
     "text": [
      "Training models:  95%|████████████████████████████████████████████████████████████████▌   | 95/100 [57:58<04:07, 49.53s/station]"
     ]
    },
    {
     "name": "stdout",
     "output_type": "stream",
     "text": [
      "Mean Squared Error for station 19038: 2.9375776880049775e-05\n",
      "Valid indices for station 21703: [866, 865, 869]\n",
      "Valid indices for station 21703: [867, 907, 866, 865, 869, 868, 905, 901, 870, 376]\n",
      "Cross-Validation Score for station 21703: -0.0007403119847169241\n"
     ]
    },
    {
     "name": "stderr",
     "output_type": "stream",
     "text": [
      "Training models:  96%|█████████████████████████████████████████████████████████████████▎  | 96/100 [58:30<02:56, 44.12s/station]"
     ]
    },
    {
     "name": "stdout",
     "output_type": "stream",
     "text": [
      "Mean Squared Error for station 21703: 0.0014087298528021044\n",
      "Valid indices for station 20118: [687, 720, 688, 691, 697, 742, 761]\n",
      "Cross-Validation Score for station 20118: -9.023317327528136e-05\n"
     ]
    },
    {
     "name": "stderr",
     "output_type": "stream",
     "text": [
      "Training models:  97%|█████████████████████████████████████████████████████████████████▉  | 97/100 [59:17<02:15, 45.09s/station]"
     ]
    },
    {
     "name": "stdout",
     "output_type": "stream",
     "text": [
      "Mean Squared Error for station 20118: 4.101129872487391e-05\n",
      "Valid indices for station 11006: [130, 77, 119, 79, 91, 93, 95]\n",
      "Cross-Validation Score for station 11006: -0.0002812149412332275\n"
     ]
    },
    {
     "name": "stderr",
     "output_type": "stream",
     "text": [
      "Training models:  98%|████████████████████████████████████████████████████████████████▋ | 98/100 [1:00:15<01:38, 49.01s/station]"
     ]
    },
    {
     "name": "stdout",
     "output_type": "stream",
     "text": [
      "Mean Squared Error for station 11006: 0.00016800092818192346\n",
      "Valid indices for station 6030: [1324, 1327, 1322, 1344, 1340, 1339, 1349, 1347, 1321]\n",
      "Cross-Validation Score for station 6030: -0.0001452606103271054\n"
     ]
    },
    {
     "name": "stderr",
     "output_type": "stream",
     "text": [
      "Training models:  99%|█████████████████████████████████████████████████████████████████▎| 99/100 [1:01:10<00:50, 50.74s/station]"
     ]
    },
    {
     "name": "stdout",
     "output_type": "stream",
     "text": [
      "Mean Squared Error for station 6030: 0.0011539131856759721\n",
      "Valid indices for station 18023: [573, 565, 574, 575, 606, 581, 596]\n",
      "Cross-Validation Score for station 18023: -0.00021296504572099108\n"
     ]
    },
    {
     "name": "stderr",
     "output_type": "stream",
     "text": [
      "Training models: 100%|█████████████████████████████████████████████████████████████████| 100/100 [1:01:53<00:00, 37.14s/station]"
     ]
    },
    {
     "name": "stdout",
     "output_type": "stream",
     "text": [
      "Mean Squared Error for station 18023: 0.00023199094048894525\n"
     ]
    },
    {
     "name": "stderr",
     "output_type": "stream",
     "text": [
      "\n"
     ]
    },
    {
     "name": "stdout",
     "output_type": "stream",
     "text": [
      "Intermediate results saved for batch 3\n",
      "Training models...\n",
      "Columns after feature creation: Index(['stationcode', 'name', 'is_installed', 'capacity', 'numdocksavailable',\n",
      "       'numbikesavailable', 'mechanical', 'ebike', 'is_renting',\n",
      "       'is_returning', 'duedate', 'coordonnees_geo',\n",
      "       'nom_arrondissement_communes', 'date', 'lat', 'lon', 'hour',\n",
      "       'day_of_week', 'lag_1_hour', 'lag_1_day', 'rolling_mean_7_days',\n",
      "       'rolling_mean_30_days', 'normalized_bikes_available',\n",
      "       'normalized_docks_available', 'usage_ratio',\n",
      "       'capacity_hour_interaction', 'capacity_day_interaction',\n",
      "       'avg_bikes_hour_day'],\n",
      "      dtype='object')\n"
     ]
    },
    {
     "name": "stderr",
     "output_type": "stream",
     "text": [
      "Training models:   0%|                                                                             | 0/100 [00:00<?, ?station/s]"
     ]
    },
    {
     "name": "stdout",
     "output_type": "stream",
     "text": [
      "Valid indices for station 15035: [395, 365, 381, 367, 366, 420, 368]\n",
      "Cross-Validation Score for station 15035: -0.0006228913014035416\n"
     ]
    },
    {
     "name": "stderr",
     "output_type": "stream",
     "text": [
      "Training models:   1%|▋                                                                  | 1/100 [00:47<1:18:26, 47.54s/station]"
     ]
    },
    {
     "name": "stdout",
     "output_type": "stream",
     "text": [
      "Mean Squared Error for station 15035: 0.0006759909434424109\n",
      "Valid indices for station 35017: [1125, 1109, 1121]\n",
      "Valid indices for station 35017: [1108, 650, 1125, 651, 1107, 1110, 1109, 1121]\n",
      "Cross-Validation Score for station 35017: -0.0019322713612184607\n"
     ]
    },
    {
     "name": "stderr",
     "output_type": "stream",
     "text": [
      "Training models:   2%|█▎                                                                 | 2/100 [01:26<1:09:32, 42.58s/station]"
     ]
    },
    {
     "name": "stdout",
     "output_type": "stream",
     "text": [
      "Mean Squared Error for station 35017: 0.0036314109193558504\n",
      "Out of bounds indices for station 9117: [1476, 1469, 1474, 1478]\n",
      "Max valid index: 1460\n",
      "Valid indices for station 9117: [1441, 1442, 1434, 1440, 1435, 1439, 1438, 1437]\n",
      "Cross-Validation Score for station 9117: -0.000747834407513228\n"
     ]
    },
    {
     "name": "stderr",
     "output_type": "stream",
     "text": [
      "Training models:   3%|██                                                                 | 3/100 [02:10<1:09:46, 43.16s/station]"
     ]
    },
    {
     "name": "stdout",
     "output_type": "stream",
     "text": [
      "Mean Squared Error for station 9117: 0.0010517069776837154\n",
      "Valid indices for station 35003: [1108, 1125]\n",
      "Valid indices for station 35003: [663, 624, 1108, 1125, 651, 1084, 1107, 1121]\n",
      "Cross-Validation Score for station 35003: -0.0003572554395320753\n"
     ]
    },
    {
     "name": "stderr",
     "output_type": "stream",
     "text": [
      "Training models:   4%|██▋                                                                | 4/100 [02:46<1:04:21, 40.22s/station]"
     ]
    },
    {
     "name": "stdout",
     "output_type": "stream",
     "text": [
      "Mean Squared Error for station 35003: 0.00028488719792019087\n",
      "Valid indices for station 21014: [779, 778, 781, 787, 769]\n",
      "Cross-Validation Score for station 21014: -2.5248745666676947e-05\n"
     ]
    },
    {
     "name": "stderr",
     "output_type": "stream",
     "text": [
      "Training models:   5%|███▎                                                               | 5/100 [03:22<1:01:25, 38.80s/station]"
     ]
    },
    {
     "name": "stdout",
     "output_type": "stream",
     "text": [
      "Mean Squared Error for station 21014: 0.0001155101874350677\n",
      "Valid indices for station 35014: [1117, 1114, 1113, 1119, 1111]\n",
      "Cross-Validation Score for station 35014: -0.00023152158147331418\n"
     ]
    },
    {
     "name": "stderr",
     "output_type": "stream",
     "text": [
      "Training models:   6%|████▏                                                                | 6/100 [03:54<56:58, 36.37s/station]"
     ]
    },
    {
     "name": "stdout",
     "output_type": "stream",
     "text": [
      "Mean Squared Error for station 35014: 0.0009340492129286594\n",
      "Valid indices for station 47005: [1260, 1247]\n",
      "Valid indices for station 47005: [1260, 1247, 1246]\n",
      "Valid indices for station 47005: [1256, 1172, 1171, 1260, 1170, 1247, 1201, 1198, 1246, 188, 1259]\n",
      "Cross-Validation Score for station 47005: -0.00027432078751123785\n"
     ]
    },
    {
     "name": "stderr",
     "output_type": "stream",
     "text": [
      "Training models:   7%|████▊                                                                | 7/100 [04:35<58:56, 38.03s/station]"
     ]
    },
    {
     "name": "stdout",
     "output_type": "stream",
     "text": [
      "Mean Squared Error for station 47005: 3.350641791502013e-05\n",
      "Valid indices for station 19127: [587, 616, 670]\n",
      "Valid indices for station 19127: [562, 599, 598, 587, 35, 658, 618, 617, 639, 619, 616, 620, 563, 607, 612, 670, 595, 615, 660, 657]\n",
      "Cross-Validation Score for station 19127: -0.0010941075012844694\n"
     ]
    },
    {
     "name": "stderr",
     "output_type": "stream",
     "text": [
      "Training models:   8%|█████▌                                                               | 8/100 [05:06<54:47, 35.74s/station]"
     ]
    },
    {
     "name": "stdout",
     "output_type": "stream",
     "text": [
      "Mean Squared Error for station 19127: 9.459348329484336e-05\n",
      "Valid indices for station 16015: [440, 427, 1414, 1415, 1382]\n",
      "Cross-Validation Score for station 16015: -0.00015609585526832993\n"
     ]
    },
    {
     "name": "stderr",
     "output_type": "stream",
     "text": [
      "Training models:   9%|██████▏                                                              | 9/100 [05:35<51:13, 33.78s/station]"
     ]
    },
    {
     "name": "stdout",
     "output_type": "stream",
     "text": [
      "Mean Squared Error for station 16015: 0.00010486282152603564\n",
      "Valid indices for station 47004: [1259]\n",
      "Valid indices for station 47004: [1259, 1258]\n",
      "Valid indices for station 47004: [1256, 1172, 1260, 1257, 1259, 1258]\n",
      "Cross-Validation Score for station 47004: -7.743042410541783e-05\n"
     ]
    },
    {
     "name": "stderr",
     "output_type": "stream",
     "text": [
      "Training models:  10%|██████▊                                                             | 10/100 [06:27<59:07, 39.42s/station]"
     ]
    },
    {
     "name": "stdout",
     "output_type": "stream",
     "text": [
      "Mean Squared Error for station 47004: 0.00022660166876687087\n",
      "Valid indices for station 18008: [559, 39, 597, 561, 564, 560, 565]\n",
      "Cross-Validation Score for station 18008: -0.0002996312446017645\n"
     ]
    },
    {
     "name": "stderr",
     "output_type": "stream",
     "text": [
      "Training models:  11%|███████▎                                                          | 11/100 [07:16<1:02:47, 42.33s/station]"
     ]
    },
    {
     "name": "stdout",
     "output_type": "stream",
     "text": [
      "Mean Squared Error for station 18008: 4.0903966302344515e-05\n",
      "Out of bounds indices for station 9026: [1465, 1470]\n",
      "Max valid index: 1460\n",
      "Valid indices for station 9026: [1456, 1460, 1459, 1457, 1452, 1451, 1458, 590, 1450, 589]\n",
      "Cross-Validation Score for station 9026: -9.331798384530808e-05\n"
     ]
    },
    {
     "name": "stderr",
     "output_type": "stream",
     "text": [
      "Training models:  12%|████████▏                                                           | 12/100 [07:44<55:34, 37.89s/station]"
     ]
    },
    {
     "name": "stdout",
     "output_type": "stream",
     "text": [
      "Mean Squared Error for station 9026: 3.3384467208940955e-06\n",
      "Valid indices for station 12107: [148, 199, 131, 176, 82, 84, 137, 136]\n",
      "Cross-Validation Score for station 12107: -0.00012503598010060572\n"
     ]
    },
    {
     "name": "stderr",
     "output_type": "stream",
     "text": [
      "Training models:  13%|████████▊                                                           | 13/100 [08:22<54:55, 37.88s/station]"
     ]
    },
    {
     "name": "stdout",
     "output_type": "stream",
     "text": [
      "Mean Squared Error for station 12107: 1.0786798004330142e-05\n",
      "Valid indices for station 20116: [692, 686, 749, 687, 740, 693, 696, 691]\n",
      "Cross-Validation Score for station 20116: -0.0028119566833202997\n"
     ]
    },
    {
     "name": "stderr",
     "output_type": "stream",
     "text": [
      "Training models:  14%|█████████▌                                                          | 14/100 [08:53<51:24, 35.87s/station]"
     ]
    },
    {
     "name": "stdout",
     "output_type": "stream",
     "text": [
      "Mean Squared Error for station 20116: 2.7468798676328444e-06\n",
      "Valid indices for station 15002: [338, 337, 319, 309, 323, 336, 341, 1350]\n",
      "Cross-Validation Score for station 15002: -0.00010076078297354036\n"
     ]
    },
    {
     "name": "stderr",
     "output_type": "stream",
     "text": [
      "Training models:  15%|██████████▏                                                         | 15/100 [09:24<48:31, 34.25s/station]"
     ]
    },
    {
     "name": "stdout",
     "output_type": "stream",
     "text": [
      "Mean Squared Error for station 15002: 8.689585522829372e-05\n",
      "Valid indices for station 21310: [836, 847, 837, 413]\n",
      "Valid indices for station 21310: [839, 834, 836, 833, 847, 849, 835, 837, 373, 848, 413, 416, 838, 840]\n",
      "Cross-Validation Score for station 21310: -7.505220790419093e-05\n"
     ]
    },
    {
     "name": "stderr",
     "output_type": "stream",
     "text": [
      "Training models:  16%|██████████▉                                                         | 16/100 [10:05<50:46, 36.27s/station]"
     ]
    },
    {
     "name": "stdout",
     "output_type": "stream",
     "text": [
      "Mean Squared Error for station 21310: 0.00024913704807425977\n",
      "Valid indices for station 23007: [553, 929, 927, 926, 928]\n",
      "Cross-Validation Score for station 23007: -8.891483034787081e-05\n"
     ]
    },
    {
     "name": "stderr",
     "output_type": "stream",
     "text": [
      "Training models:  17%|███████████▌                                                        | 17/100 [10:50<53:47, 38.88s/station]"
     ]
    },
    {
     "name": "stdout",
     "output_type": "stream",
     "text": [
      "Mean Squared Error for station 23007: 2.3755238417384263e-06\n",
      "Valid indices for station 20016: [687, 740, 696, 723, 691, 697]\n",
      "Cross-Validation Score for station 20016: -3.590314434077065e-05\n"
     ]
    },
    {
     "name": "stderr",
     "output_type": "stream",
     "text": [
      "Training models:  18%|████████████▏                                                       | 18/100 [11:28<53:04, 38.84s/station]"
     ]
    },
    {
     "name": "stdout",
     "output_type": "stream",
     "text": [
      "Mean Squared Error for station 20016: 6.810317835831267e-08\n",
      "Valid indices for station 32015: [1072, 1063]\n",
      "Valid indices for station 32015: [1072, 1063, 1068]\n",
      "Valid indices for station 32015: [1072, 1063, 1068, 1066, 1064, 1067, 1065]\n",
      "Cross-Validation Score for station 32015: -0.0011743768908677613\n"
     ]
    },
    {
     "name": "stderr",
     "output_type": "stream",
     "text": [
      "Training models:  19%|████████████▉                                                       | 19/100 [12:13<54:46, 40.57s/station]"
     ]
    },
    {
     "name": "stdout",
     "output_type": "stream",
     "text": [
      "Mean Squared Error for station 32015: 0.00031123688648772454\n",
      "Valid indices for station 11043: [1003, 114, 117, 115, 109, 116, 111, 110, 113]\n",
      "Cross-Validation Score for station 11043: -4.9087497253462553e-05\n"
     ]
    },
    {
     "name": "stderr",
     "output_type": "stream",
     "text": [
      "Training models:  20%|█████████████▌                                                      | 20/100 [12:50<52:52, 39.66s/station]"
     ]
    },
    {
     "name": "stdout",
     "output_type": "stream",
     "text": [
      "Mean Squared Error for station 11043: 5.06040446674335e-07\n",
      "Valid indices for station 8019: [1399, 1394, 1393, 1395, 1428, 1388, 1432, 1418, 1396, 531]\n",
      "Cross-Validation Score for station 8019: -0.0015320288244277508\n"
     ]
    },
    {
     "name": "stderr",
     "output_type": "stream",
     "text": [
      "Training models:  21%|██████████████▎                                                     | 21/100 [13:24<49:51, 37.87s/station]"
     ]
    },
    {
     "name": "stdout",
     "output_type": "stream",
     "text": [
      "Mean Squared Error for station 8019: 0.002062407701195455\n",
      "Valid indices for station 10010: [7, 6, 1, 0, 10, 1004, 9, 13, 11, 14, 15]\n",
      "Cross-Validation Score for station 10010: -0.00014136793733296894\n"
     ]
    },
    {
     "name": "stderr",
     "output_type": "stream",
     "text": [
      "Training models:  22%|██████████████▉                                                     | 22/100 [14:16<54:32, 41.95s/station]"
     ]
    },
    {
     "name": "stdout",
     "output_type": "stream",
     "text": [
      "Mean Squared Error for station 10010: 2.7369600168204264e-06\n",
      "Valid indices for station 1117: [8, 145, 43, 50, 73, 72, 20, 30, 135, 133, 69]\n",
      "Cross-Validation Score for station 1117: -0.0003149723868438979\n"
     ]
    },
    {
     "name": "stderr",
     "output_type": "stream",
     "text": [
      "Training models:  23%|███████████████▋                                                    | 23/100 [15:04<56:23, 43.94s/station]"
     ]
    },
    {
     "name": "stdout",
     "output_type": "stream",
     "text": [
      "Mean Squared Error for station 1117: 0.00013795070918726904\n",
      "Valid indices for station 1120: [1127, 20, 30, 135, 133, 69, 134, 42, 1141, 1143, 1147]\n",
      "Cross-Validation Score for station 1120: -0.00020197002050232013\n"
     ]
    },
    {
     "name": "stderr",
     "output_type": "stream",
     "text": [
      "Training models:  24%|████████████████▎                                                   | 24/100 [15:46<54:59, 43.41s/station]"
     ]
    },
    {
     "name": "stdout",
     "output_type": "stream",
     "text": [
      "Mean Squared Error for station 1120: 0.000612250091564592\n",
      "Valid indices for station 7007: [1358, 1355, 1357]\n",
      "Valid indices for station 7007: [1353, 1377, 1362, 1358, 1355, 1354, 1376, 1351, 1320, 1361, 1359, 1357, 65, 66, 1356, 64]\n",
      "Cross-Validation Score for station 7007: -0.0009406676740331325\n"
     ]
    },
    {
     "name": "stderr",
     "output_type": "stream",
     "text": [
      "Training models:  25%|█████████████████                                                   | 25/100 [16:34<55:49, 44.66s/station]"
     ]
    },
    {
     "name": "stdout",
     "output_type": "stream",
     "text": [
      "Mean Squared Error for station 7007: 0.000199979090584038\n",
      "Out of bounds indices for station 18043: [1467]\n",
      "Max valid index: 1460\n",
      "Valid indices for station 18043: [1459, 1457, 1458, 590, 555, 554, 1450, 589, 603, 602]\n",
      "Cross-Validation Score for station 18043: -0.00010823659174476583\n"
     ]
    },
    {
     "name": "stderr",
     "output_type": "stream",
     "text": [
      "Training models:  26%|█████████████████▋                                                  | 26/100 [17:09<51:34, 41.82s/station]"
     ]
    },
    {
     "name": "stdout",
     "output_type": "stream",
     "text": [
      "Mean Squared Error for station 18043: 9.35998535911412e-05\n",
      "Valid indices for station 32004: [1056]\n",
      "Valid indices for station 32004: [1056, 1058, 1055, 1054, 1059]\n",
      "Cross-Validation Score for station 32004: -0.0027484191956823373\n"
     ]
    },
    {
     "name": "stderr",
     "output_type": "stream",
     "text": [
      "Training models:  27%|██████████████████▎                                                 | 27/100 [17:49<50:11, 41.26s/station]"
     ]
    },
    {
     "name": "stdout",
     "output_type": "stream",
     "text": [
      "Mean Squared Error for station 32004: 0.0008407870315137378\n",
      "Valid indices for station 16029: [452, 449, 448]\n",
      "Valid indices for station 16029: [450, 485, 453, 400, 388, 392, 417, 362, 398, 399, 452, 449, 448, 454, 476, 446, 465, 445, 475]\n",
      "Cross-Validation Score for station 16029: -0.0003770706012284868\n"
     ]
    },
    {
     "name": "stderr",
     "output_type": "stream",
     "text": [
      "Training models:  28%|███████████████████                                                 | 28/100 [18:19<45:15, 37.72s/station]"
     ]
    },
    {
     "name": "stdout",
     "output_type": "stream",
     "text": [
      "Mean Squared Error for station 16029: 0.00044508423229489165\n",
      "Out of bounds indices for station 10033: [1475, 1479]\n",
      "Max valid index: 1460\n",
      "Valid indices for station 10033: [1435, 22, 21, 55, 56, 28, 29, 33, 45, 597]\n",
      "Cross-Validation Score for station 10033: -0.0009275517329575073\n"
     ]
    },
    {
     "name": "stderr",
     "output_type": "stream",
     "text": [
      "Training models:  29%|███████████████████▋                                                | 29/100 [18:41<39:05, 33.04s/station]"
     ]
    },
    {
     "name": "stdout",
     "output_type": "stream",
     "text": [
      "Mean Squared Error for station 10033: 5.194633471384616e-05\n",
      "Valid indices for station 8001: [1380]\n",
      "Valid indices for station 8001: [1366, 1409, 1401, 1402, 1375, 1360, 1380, 1361, 1359, 1403, 1398, 1397, 1383, 1391]\n",
      "Cross-Validation Score for station 8001: -0.0024594471008505445\n"
     ]
    },
    {
     "name": "stderr",
     "output_type": "stream",
     "text": [
      "Training models:  30%|████████████████████▍                                               | 30/100 [19:11<37:30, 32.15s/station]"
     ]
    },
    {
     "name": "stdout",
     "output_type": "stream",
     "text": [
      "Mean Squared Error for station 8001: 0.0017060558868542482\n",
      "Valid indices for station 32001: [1055, 1054]\n",
      "Valid indices for station 32001: [1056, 1055, 1054, 1069]\n",
      "Valid indices for station 32001: [613, 608, 607, 612, 595, 1099, 1056, 1058, 1055, 1054, 1059, 1069, 1095, 1082]\n",
      "Cross-Validation Score for station 32001: -0.0003484335826348092\n"
     ]
    },
    {
     "name": "stderr",
     "output_type": "stream",
     "text": [
      "Training models:  31%|█████████████████████                                               | 31/100 [19:42<36:41, 31.91s/station]"
     ]
    },
    {
     "name": "stdout",
     "output_type": "stream",
     "text": [
      "Mean Squared Error for station 32001: 0.00019995342718948713\n",
      "Valid indices for station 6032: [1351, 1346, 1347, 1321, 1320, 1329, 1338]\n",
      "Cross-Validation Score for station 6032: -9.524558387279801e-05\n"
     ]
    },
    {
     "name": "stderr",
     "output_type": "stream",
     "text": [
      "Training models:  32%|█████████████████████▊                                              | 32/100 [20:16<36:43, 32.41s/station]"
     ]
    },
    {
     "name": "stdout",
     "output_type": "stream",
     "text": [
      "Mean Squared Error for station 6032: 0.00020781813127827657\n",
      "Valid indices for station 42703: [1217, 1214, 1264]\n",
      "Valid indices for station 42703: [1215, 1216, 1217, 1214, 1264, 1194, 1193, 235, 1192]\n",
      "Cross-Validation Score for station 42703: -0.0006557473294172651\n"
     ]
    },
    {
     "name": "stderr",
     "output_type": "stream",
     "text": [
      "Training models:  33%|██████████████████████▍                                             | 33/100 [20:43<34:19, 30.74s/station]"
     ]
    },
    {
     "name": "stdout",
     "output_type": "stream",
     "text": [
      "Mean Squared Error for station 42703: 0.00012447425029222763\n",
      "Valid indices for station 20201: [720, 688, 697, 742, 746, 761]\n",
      "Cross-Validation Score for station 20201: -8.83135144806375e-05\n"
     ]
    },
    {
     "name": "stderr",
     "output_type": "stream",
     "text": [
      "Training models:  34%|███████████████████████                                             | 34/100 [21:04<30:46, 27.97s/station]"
     ]
    },
    {
     "name": "stdout",
     "output_type": "stream",
     "text": [
      "Mean Squared Error for station 20201: 0.00039767257384900646\n",
      "Valid indices for station 16112: [448, 476, 446, 447]\n",
      "Valid indices for station 16112: [398, 399, 452, 449, 448, 454, 476, 446, 465, 445, 447, 358, 361, 475, 441, 438, 435, 473, 439]\n",
      "Cross-Validation Score for station 16112: -0.0020991406333040613\n"
     ]
    },
    {
     "name": "stderr",
     "output_type": "stream",
     "text": [
      "Training models:  35%|███████████████████████▊                                            | 35/100 [21:30<29:45, 27.46s/station]"
     ]
    },
    {
     "name": "stdout",
     "output_type": "stream",
     "text": [
      "Mean Squared Error for station 16112: 0.0010996308020450373\n",
      "Valid indices for station 13046: [265, 245, 244, 250, 251]\n",
      "Cross-Validation Score for station 13046: -0.004116890508513134\n"
     ]
    },
    {
     "name": "stderr",
     "output_type": "stream",
     "text": [
      "Training models:  36%|████████████████████████▍                                           | 36/100 [22:04<31:15, 29.31s/station]"
     ]
    },
    {
     "name": "stdout",
     "output_type": "stream",
     "text": [
      "Mean Squared Error for station 13046: 0.00030352485821928216\n",
      "Valid indices for station 22102: [888]\n",
      "Valid indices for station 22102: [889, 888]\n",
      "Valid indices for station 22102: [889, 888, 856, 862]\n",
      "Valid indices for station 22102: [889, 888, 887, 863, 856, 861, 860, 854, 862]\n",
      "Cross-Validation Score for station 22102: -3.244567815089532e-05\n"
     ]
    },
    {
     "name": "stderr",
     "output_type": "stream",
     "text": [
      "Training models:  37%|█████████████████████████▏                                          | 37/100 [22:26<28:35, 27.22s/station]"
     ]
    },
    {
     "name": "stdout",
     "output_type": "stream",
     "text": [
      "Mean Squared Error for station 22102: 6.164491566914264e-08\n",
      "Valid indices for station 4110: [1150, 1129, 1151, 1132, 1131, 1133]\n",
      "Cross-Validation Score for station 4110: -3.79602765062348e-05\n"
     ]
    },
    {
     "name": "stderr",
     "output_type": "stream",
     "text": [
      "Training models:  38%|█████████████████████████▊                                          | 38/100 [22:56<28:58, 28.04s/station]"
     ]
    },
    {
     "name": "stdout",
     "output_type": "stream",
     "text": [
      "Mean Squared Error for station 4110: 9.856621361410558e-07\n",
      "Valid indices for station 17102: [514, 513, 529, 532, 509, 508, 541]\n",
      "Cross-Validation Score for station 17102: -0.008092512137912702\n"
     ]
    },
    {
     "name": "stderr",
     "output_type": "stream",
     "text": [
      "Training models:  39%|██████████████████████████▌                                         | 39/100 [23:26<28:58, 28.51s/station]"
     ]
    },
    {
     "name": "stdout",
     "output_type": "stream",
     "text": [
      "Mean Squared Error for station 17102: 0.0019859763676860947\n",
      "Valid indices for station 17022: [532, 509, 508, 507, 506]\n",
      "Cross-Validation Score for station 17022: -0.0003333390266834541\n"
     ]
    },
    {
     "name": "stderr",
     "output_type": "stream",
     "text": [
      "Training models:  40%|███████████████████████████▏                                        | 40/100 [23:58<29:29, 29.49s/station]"
     ]
    },
    {
     "name": "stdout",
     "output_type": "stream",
     "text": [
      "Mean Squared Error for station 17022: 0.0001462349319497291\n",
      "Valid indices for station 10114: [12, 13, 68, 25, 48, 37, 49, 32, 61]\n",
      "Cross-Validation Score for station 10114: -0.0005944973544973545\n"
     ]
    },
    {
     "name": "stderr",
     "output_type": "stream",
     "text": [
      "Training models:  41%|███████████████████████████▉                                        | 41/100 [24:30<29:49, 30.32s/station]"
     ]
    },
    {
     "name": "stdout",
     "output_type": "stream",
     "text": [
      "Mean Squared Error for station 10114: 0.00037896480331262884\n",
      "Valid indices for station 15058: [386, 394, 385, 401]\n",
      "Valid indices for station 15058: [835, 463, 386, 394, 461, 426, 373, 460, 455, 385, 402, 416, 384, 453, 401, 400, 388, 387, 396]\n",
      "Cross-Validation Score for station 15058: -0.003356373502854816\n"
     ]
    },
    {
     "name": "stderr",
     "output_type": "stream",
     "text": [
      "Training models:  42%|████████████████████████████▌                                       | 42/100 [25:09<31:49, 32.92s/station]"
     ]
    },
    {
     "name": "stdout",
     "output_type": "stream",
     "text": [
      "Mean Squared Error for station 15058: 0.018814270146804254\n",
      "Valid indices for station 10036: [31, 587, 35, 36, 658, 618, 617]\n",
      "Cross-Validation Score for station 10036: -0.00012691473960095258\n"
     ]
    },
    {
     "name": "stderr",
     "output_type": "stream",
     "text": [
      "Training models:  43%|█████████████████████████████▏                                      | 43/100 [25:33<28:37, 30.14s/station]"
     ]
    },
    {
     "name": "stdout",
     "output_type": "stream",
     "text": [
      "Mean Squared Error for station 10036: 0.0007651012705127964\n",
      "Valid indices for station 19041: [654, 717, 738, 646, 649, 737, 665]\n",
      "Cross-Validation Score for station 19041: -0.00031230754243334954\n"
     ]
    },
    {
     "name": "stderr",
     "output_type": "stream",
     "text": [
      "Training models:  44%|█████████████████████████████▉                                      | 44/100 [25:57<26:36, 28.50s/station]"
     ]
    },
    {
     "name": "stdout",
     "output_type": "stream",
     "text": [
      "Mean Squared Error for station 19041: 8.103063282109785e-05\n",
      "Valid indices for station 7008: [1358, 1355, 1357]\n",
      "Valid indices for station 7008: [1353, 1365, 1377, 1362, 1358, 1355, 1354, 1376, 1349, 1351, 1361, 1359, 1357, 65, 66, 1356]\n",
      "Cross-Validation Score for station 7008: -0.00016000937699462938\n"
     ]
    },
    {
     "name": "stderr",
     "output_type": "stream",
     "text": [
      "Training models:  45%|██████████████████████████████▌                                     | 45/100 [26:26<26:06, 28.48s/station]"
     ]
    },
    {
     "name": "stdout",
     "output_type": "stream",
     "text": [
      "Mean Squared Error for station 7008: 3.1067693684754e-05\n",
      "Valid indices for station 21114: [809]\n",
      "Valid indices for station 21114: [924, 809, 812, 811, 925, 803, 979, 987, 983]\n",
      "Cross-Validation Score for station 21114: -0.0003779003893806008\n"
     ]
    },
    {
     "name": "stderr",
     "output_type": "stream",
     "text": [
      "Training models:  46%|███████████████████████████████▎                                    | 46/100 [26:52<25:10, 27.97s/station]"
     ]
    },
    {
     "name": "stdout",
     "output_type": "stream",
     "text": [
      "Mean Squared Error for station 21114: 6.403809406383609e-05\n",
      "Valid indices for station 12161: [147, 118, 199, 131, 176]\n",
      "Cross-Validation Score for station 12161: -0.0006004448132790446\n"
     ]
    },
    {
     "name": "stderr",
     "output_type": "stream",
     "text": [
      "Training models:  47%|███████████████████████████████▉                                    | 47/100 [27:27<26:33, 30.07s/station]"
     ]
    },
    {
     "name": "stdout",
     "output_type": "stream",
     "text": [
      "Mean Squared Error for station 12161: 0.0004571784490812831\n",
      "Valid indices for station 15107: [389, 383, 405, 425, 418]\n",
      "Cross-Validation Score for station 15107: -0.00028454451926837344\n"
     ]
    },
    {
     "name": "stderr",
     "output_type": "stream",
     "text": [
      "Training models:  48%|████████████████████████████████▋                                   | 48/100 [27:51<24:18, 28.06s/station]"
     ]
    },
    {
     "name": "stdout",
     "output_type": "stream",
     "text": [
      "Mean Squared Error for station 15107: 3.6296158505324145e-06\n",
      "Valid indices for station 32603: [1079]\n",
      "Valid indices for station 32603: [1048, 1047, 1081, 1079, 1080, 1077]\n",
      "Cross-Validation Score for station 32603: -0.000587495939242346\n"
     ]
    },
    {
     "name": "stderr",
     "output_type": "stream",
     "text": [
      "Training models:  49%|█████████████████████████████████▎                                  | 49/100 [28:20<24:08, 28.41s/station]"
     ]
    },
    {
     "name": "stdout",
     "output_type": "stream",
     "text": [
      "Mean Squared Error for station 32603: 0.0003300634515533951\n",
      "Valid indices for station 19023: [634, 677, 676, 654, 662, 635]\n",
      "Cross-Validation Score for station 19023: -0.0001985050711840966\n"
     ]
    },
    {
     "name": "stderr",
     "output_type": "stream",
     "text": [
      "Training models:  50%|██████████████████████████████████                                  | 50/100 [28:45<22:44, 27.29s/station]"
     ]
    },
    {
     "name": "stdout",
     "output_type": "stream",
     "text": [
      "Mean Squared Error for station 19023: 3.822951809372099e-05\n",
      "Valid indices for station 8038: [1410, 1390, 1409, 1408, 1401]\n",
      "Cross-Validation Score for station 8038: -0.37807912474714456\n"
     ]
    },
    {
     "name": "stderr",
     "output_type": "stream",
     "text": [
      "Training models:  51%|██████████████████████████████████▋                                 | 51/100 [29:19<23:56, 29.32s/station]"
     ]
    },
    {
     "name": "stdout",
     "output_type": "stream",
     "text": [
      "Mean Squared Error for station 8038: 0.28423132630573317\n",
      "Valid indices for station 2001: [41, 42, 1144, 1010, 1147, 716, 90, 759, 689, 1012, 1027, 707, 758]\n",
      "Cross-Validation Score for station 2001: -0.0003557854524790946\n"
     ]
    },
    {
     "name": "stderr",
     "output_type": "stream",
     "text": [
      "Training models:  52%|███████████████████████████████████▎                                | 52/100 [29:54<24:52, 31.09s/station]"
     ]
    },
    {
     "name": "stdout",
     "output_type": "stream",
     "text": [
      "Mean Squared Error for station 2001: 4.621943126860658e-06\n",
      "Out of bounds indices for station 2013: [1473]\n",
      "Max valid index: 1460\n",
      "Valid indices for station 2013: [727, 814, 804, 1454, 744, 757, 1455, 783, 796, 747, 1445, 1453]\n",
      "Cross-Validation Score for station 2013: -9.484517523230485e-05\n"
     ]
    },
    {
     "name": "stderr",
     "output_type": "stream",
     "text": [
      "Training models:  53%|████████████████████████████████████                                | 53/100 [30:17<22:30, 28.73s/station]"
     ]
    },
    {
     "name": "stdout",
     "output_type": "stream",
     "text": [
      "Mean Squared Error for station 2013: 2.1304422870406258e-05\n",
      "Valid indices for station 21311: [413, 838, 840]\n",
      "Valid indices for station 21311: [836, 837, 843, 848, 413, 416, 384, 838, 840]\n",
      "Cross-Validation Score for station 21311: -0.00036782396319574954\n"
     ]
    },
    {
     "name": "stderr",
     "output_type": "stream",
     "text": [
      "Training models:  54%|████████████████████████████████████▋                               | 54/100 [30:53<23:46, 31.00s/station]"
     ]
    },
    {
     "name": "stdout",
     "output_type": "stream",
     "text": [
      "Mean Squared Error for station 21311: 1.233225403452885e-05\n",
      "Valid indices for station 8026: [1405, 1407, 1398, 1397, 1399, 1394]\n",
      "Cross-Validation Score for station 8026: -1.8644897787886463e-05\n"
     ]
    },
    {
     "name": "stderr",
     "output_type": "stream",
     "text": [
      "Training models:  55%|█████████████████████████████████████▍                              | 55/100 [31:18<21:50, 29.12s/station]"
     ]
    },
    {
     "name": "stdout",
     "output_type": "stream",
     "text": [
      "Mean Squared Error for station 8026: 6.0369969415703694e-05\n",
      "Valid indices for station 7016: [1368, 1367, 1366, 1401, 1375]\n",
      "Cross-Validation Score for station 7016: -0.001533308549684585\n"
     ]
    },
    {
     "name": "stderr",
     "output_type": "stream",
     "text": [
      "Training models:  56%|██████████████████████████████████████                              | 56/100 [31:51<22:15, 30.35s/station]"
     ]
    },
    {
     "name": "stdout",
     "output_type": "stream",
     "text": [
      "Mean Squared Error for station 7016: 0.002967316098037538\n",
      "Out of bounds indices for station 9118: [1475, 1479]\n",
      "Max valid index: 1460\n",
      "Valid indices for station 9118: [1435, 1438, 1436, 610, 559, 28, 29, 33, 45, 597]\n",
      "Cross-Validation Score for station 9118: -5.682428677429897e-05\n"
     ]
    },
    {
     "name": "stderr",
     "output_type": "stream",
     "text": [
      "Training models:  57%|██████████████████████████████████████▊                             | 57/100 [32:18<20:50, 29.08s/station]"
     ]
    },
    {
     "name": "stdout",
     "output_type": "stream",
     "text": [
      "Mean Squared Error for station 9118: 5.039895434317835e-05\n",
      "Valid indices for station 15040: [372, 371, 349, 324, 350, 421]\n",
      "Cross-Validation Score for station 15040: -0.0006602158913690003\n"
     ]
    },
    {
     "name": "stderr",
     "output_type": "stream",
     "text": [
      "Training models:  58%|███████████████████████████████████████▍                            | 58/100 [32:49<20:52, 29.81s/station]"
     ]
    },
    {
     "name": "stdout",
     "output_type": "stream",
     "text": [
      "Mean Squared Error for station 15040: 2.8311871657389433e-05\n",
      "Valid indices for station 31704: [1048, 1047]\n",
      "Valid indices for station 31704: [1046, 1048, 1018, 1047, 1079]\n",
      "Cross-Validation Score for station 31704: -0.0009985079732858656\n"
     ]
    },
    {
     "name": "stderr",
     "output_type": "stream",
     "text": [
      "Training models:  59%|████████████████████████████████████████                            | 59/100 [33:14<19:27, 28.48s/station]"
     ]
    },
    {
     "name": "stdout",
     "output_type": "stream",
     "text": [
      "Mean Squared Error for station 31704: 0.0029817830570266356\n",
      "Valid indices for station 45001: [1248]\n",
      "Valid indices for station 45001: [1248]\n",
      "Valid indices for station 45001: [1248, 1251]\n",
      "Valid indices for station 45001: [1252, 1248, 1251]\n"
     ]
    },
    {
     "name": "stderr",
     "output_type": "stream",
     "text": [
      "/Users/anthonybellon/Comp_Documents/VelibVisualisation/scripts/train_model.py:103: SettingWithCopyWarning: \n",
      "A value is trying to be set on a copy of a slice from a DataFrame.\n",
      "Try using .loc[row_indexer,col_indexer] = value instead\n",
      "\n",
      "See the caveats in the documentation: https://pandas.pydata.org/pandas-docs/stable/user_guide/indexing.html#returning-a-view-versus-a-copy\n",
      "  \n"
     ]
    },
    {
     "name": "stdout",
     "output_type": "stream",
     "text": [
      "Cross-Validation Score for station 45001: -0.00011975805410507536\n"
     ]
    },
    {
     "name": "stderr",
     "output_type": "stream",
     "text": [
      "Training models:  60%|████████████████████████████████████████▊                           | 60/100 [33:38<17:55, 26.88s/station]"
     ]
    },
    {
     "name": "stdout",
     "output_type": "stream",
     "text": [
      "Mean Squared Error for station 45001: 4.6129342247244405e-05\n",
      "Valid indices for station 2010: [726, 727, 783, 796, 1445, 763, 728, 797, 764, 798, 1444, 1443]\n",
      "Cross-Validation Score for station 2010: -0.000376633769300199\n"
     ]
    },
    {
     "name": "stderr",
     "output_type": "stream",
     "text": [
      "Training models:  61%|█████████████████████████████████████████▍                          | 61/100 [34:03<17:16, 26.59s/station]"
     ]
    },
    {
     "name": "stdout",
     "output_type": "stream",
     "text": [
      "Mean Squared Error for station 2010: 0.00012899140448186484\n",
      "Valid indices for station 7013: [342, 1363, 419]\n",
      "Valid indices for station 7013: [347, 348, 342, 340, 410, 343, 1363, 1369, 411, 339, 338, 337, 341, 419, 1350, 1352, 1364]\n",
      "Cross-Validation Score for station 7013: -0.0001725368956311092\n"
     ]
    },
    {
     "name": "stderr",
     "output_type": "stream",
     "text": [
      "Training models:  62%|██████████████████████████████████████████▏                         | 62/100 [34:46<19:49, 31.31s/station]"
     ]
    },
    {
     "name": "stdout",
     "output_type": "stream",
     "text": [
      "Mean Squared Error for station 7013: 0.00015421541622571007\n",
      "Valid indices for station 10163: [27, 26, 56, 54, 39, 60, 611, 34]\n",
      "Cross-Validation Score for station 10163: -0.00038955291617168196\n"
     ]
    },
    {
     "name": "stderr",
     "output_type": "stream",
     "text": [
      "Training models:  63%|██████████████████████████████████████████▊                         | 63/100 [35:20<19:51, 32.20s/station]"
     ]
    },
    {
     "name": "stdout",
     "output_type": "stream",
     "text": [
      "Mean Squared Error for station 10163: 0.00023688110118017208\n",
      "Valid indices for station 31023: [1030, 1023, 1031]\n",
      "Valid indices for station 31023: [1029, 1028, 1020, 1030, 1023, 1031, 1032, 1033]\n",
      "Cross-Validation Score for station 31023: -0.0002193844604624536\n"
     ]
    },
    {
     "name": "stderr",
     "output_type": "stream",
     "text": [
      "Training models:  64%|███████████████████████████████████████████▌                        | 64/100 [35:47<18:26, 30.72s/station]"
     ]
    },
    {
     "name": "stdout",
     "output_type": "stream",
     "text": [
      "Mean Squared Error for station 31023: 0.0006443736421477341\n",
      "Valid indices for station 18042: [1457, 1451, 1458, 590, 588, 1450, 589, 556, 603]\n",
      "Cross-Validation Score for station 18042: -0.0007270650295091471\n"
     ]
    },
    {
     "name": "stderr",
     "output_type": "stream",
     "text": [
      "Training models:  65%|████████████████████████████████████████████▏                       | 65/100 [36:16<17:36, 30.20s/station]"
     ]
    },
    {
     "name": "stdout",
     "output_type": "stream",
     "text": [
      "Mean Squared Error for station 18042: 0.00011608452464289289\n",
      "Valid indices for station 20019: [645, 735, 706, 1078, 698]\n",
      "Cross-Validation Score for station 20019: -0.00024812537877632793\n"
     ]
    },
    {
     "name": "stderr",
     "output_type": "stream",
     "text": [
      "Training models:  66%|████████████████████████████████████████████▉                       | 66/100 [36:43<16:28, 29.07s/station]"
     ]
    },
    {
     "name": "stdout",
     "output_type": "stream",
     "text": [
      "Mean Squared Error for station 20019: 0.00017045351988258464\n",
      "Valid indices for station 17116: [532, 509, 541]\n",
      "Valid indices for station 17116: [927, 926, 514, 513, 529, 532, 509, 508, 924, 812, 811, 925, 541, 801, 810]\n",
      "Cross-Validation Score for station 17116: -0.00014948750796517818\n"
     ]
    },
    {
     "name": "stderr",
     "output_type": "stream",
     "text": [
      "Training models:  67%|█████████████████████████████████████████████▌                      | 67/100 [37:15<16:27, 29.93s/station]"
     ]
    },
    {
     "name": "stdout",
     "output_type": "stream",
     "text": [
      "Mean Squared Error for station 17116: 0.00019871927247828457\n",
      "Valid indices for station 14006: [282, 286, 322, 284, 316, 283, 315]\n",
      "Cross-Validation Score for station 14006: -0.0008697537279463855\n"
     ]
    },
    {
     "name": "stderr",
     "output_type": "stream",
     "text": [
      "Training models:  68%|██████████████████████████████████████████████▏                     | 68/100 [37:41<15:22, 28.84s/station]"
     ]
    },
    {
     "name": "stdout",
     "output_type": "stream",
     "text": [
      "Mean Squared Error for station 14006: 0.0025277342312414156\n",
      "Valid indices for station 4011: [1149, 1138, 1139, 1132, 1134, 1135, 1133]\n",
      "Cross-Validation Score for station 4011: -0.00022473484612250882\n"
     ]
    },
    {
     "name": "stderr",
     "output_type": "stream",
     "text": [
      "Training models:  69%|██████████████████████████████████████████████▉                     | 69/100 [38:11<15:03, 29.15s/station]"
     ]
    },
    {
     "name": "stdout",
     "output_type": "stream",
     "text": [
      "Mean Squared Error for station 4011: 6.949393390402412e-05\n",
      "Valid indices for station 31013: [1015, 1022]\n",
      "Valid indices for station 31013: [1035, 1025, 1053, 1015, 1022, 1016]\n",
      "Cross-Validation Score for station 31013: -0.00011692947495392826\n"
     ]
    },
    {
     "name": "stderr",
     "output_type": "stream",
     "text": [
      "Training models:  70%|███████████████████████████████████████████████▌                    | 70/100 [38:39<14:28, 28.96s/station]"
     ]
    },
    {
     "name": "stdout",
     "output_type": "stream",
     "text": [
      "Mean Squared Error for station 31013: 0.0007177994248675096\n",
      "Valid indices for station 14116: [296, 295, 318, 828, 825, 293]\n",
      "Cross-Validation Score for station 14116: -7.97509422164672e-05\n"
     ]
    },
    {
     "name": "stderr",
     "output_type": "stream",
     "text": [
      "Training models:  71%|████████████████████████████████████████████████▎                   | 71/100 [39:05<13:31, 27.97s/station]"
     ]
    },
    {
     "name": "stdout",
     "output_type": "stream",
     "text": [
      "Mean Squared Error for station 14116: 1.6038137643070764e-05\n",
      "Out of bounds indices for station 18001: [1467]\n",
      "Max valid index: 1460\n",
      "Valid indices for station 18001: [590, 555, 554, 600, 569, 603, 602]\n",
      "Cross-Validation Score for station 18001: -1.661154759866927e-05\n"
     ]
    },
    {
     "name": "stderr",
     "output_type": "stream",
     "text": [
      "Training models:  72%|████████████████████████████████████████████████▉                   | 72/100 [39:31<12:45, 27.35s/station]"
     ]
    },
    {
     "name": "stdout",
     "output_type": "stream",
     "text": [
      "Mean Squared Error for station 18001: 1.4475276533270165e-06\n",
      "Valid indices for station 32018: [1066, 1064]\n",
      "Valid indices for station 32018: [1068, 1066, 1064, 1067, 1065]\n",
      "Cross-Validation Score for station 32018: -0.0025766341845209007\n"
     ]
    },
    {
     "name": "stderr",
     "output_type": "stream",
     "text": [
      "Training models:  73%|█████████████████████████████████████████████████▋                  | 73/100 [39:54<11:40, 25.94s/station]"
     ]
    },
    {
     "name": "stdout",
     "output_type": "stream",
     "text": [
      "Mean Squared Error for station 32018: 5.23146731776792e-07\n",
      "Valid indices for station 11034: [125, 110, 129, 106, 105, 101, 123, 102, 47, 24]\n",
      "Cross-Validation Score for station 11034: -0.0011469943048560062\n"
     ]
    },
    {
     "name": "stderr",
     "output_type": "stream",
     "text": [
      "Training models:  74%|██████████████████████████████████████████████████▎                 | 74/100 [40:26<12:05, 27.92s/station]"
     ]
    },
    {
     "name": "stdout",
     "output_type": "stream",
     "text": [
      "Mean Squared Error for station 11034: 0.0003621889297917654\n",
      "Valid indices for station 21108: [803, 802]\n",
      "Valid indices for station 21108: [801, 810, 803, 550, 802, 815, 806, 800, 807, 808]\n",
      "Cross-Validation Score for station 21108: -0.0008240700792879142\n"
     ]
    },
    {
     "name": "stderr",
     "output_type": "stream",
     "text": [
      "Training models:  75%|███████████████████████████████████████████████████                 | 75/100 [41:02<12:36, 30.25s/station]"
     ]
    },
    {
     "name": "stdout",
     "output_type": "stream",
     "text": [
      "Mean Squared Error for station 21108: 0.00032489008090315943\n",
      "Valid indices for station 18019: [600, 602, 568, 570, 579, 578]\n",
      "Cross-Validation Score for station 18019: -0.0008200667183771472\n"
     ]
    },
    {
     "name": "stderr",
     "output_type": "stream",
     "text": [
      "Training models:  76%|███████████████████████████████████████████████████▋                | 76/100 [41:36<12:33, 31.39s/station]"
     ]
    },
    {
     "name": "stdout",
     "output_type": "stream",
     "text": [
      "Mean Squared Error for station 18019: 0.0008770359724578304\n",
      "Valid indices for station 15063: [407, 417, 391, 390]\n",
      "Valid indices for station 15063: [384, 389, 408, 383, 382, 400, 388, 387, 396, 392, 407, 364, 417, 391, 362, 398, 399, 390, 406, 395, 365, 363, 361]\n",
      "Cross-Validation Score for station 15063: -0.009851589159900568\n"
     ]
    },
    {
     "name": "stderr",
     "output_type": "stream",
     "text": [
      "Training models:  77%|████████████████████████████████████████████████████▎               | 77/100 [42:01<11:18, 29.48s/station]"
     ]
    },
    {
     "name": "stdout",
     "output_type": "stream",
     "text": [
      "Mean Squared Error for station 15063: 0.0\n",
      "Valid indices for station 11003: [78, 130, 76, 77, 96, 79]\n",
      "Cross-Validation Score for station 11003: -0.0002666011266643455\n"
     ]
    },
    {
     "name": "stderr",
     "output_type": "stream",
     "text": [
      "Training models:  78%|█████████████████████████████████████████████████████               | 78/100 [42:38<11:35, 31.62s/station]"
     ]
    },
    {
     "name": "stdout",
     "output_type": "stream",
     "text": [
      "Mean Squared Error for station 11003: 0.00010310795561266756\n",
      "Valid indices for station 18135: [585, 601, 584, 605, 586]\n",
      "Cross-Validation Score for station 18135: -0.0008017596958509031\n"
     ]
    },
    {
     "name": "stderr",
     "output_type": "stream",
     "text": [
      "Training models:  79%|█████████████████████████████████████████████████████▋              | 79/100 [43:07<10:51, 31.04s/station]"
     ]
    },
    {
     "name": "stdout",
     "output_type": "stream",
     "text": [
      "Mean Squared Error for station 18135: 1.576335097106171e-05\n",
      "Out of bounds indices for station 9012: [1474]\n",
      "Max valid index: 1460\n",
      "Valid indices for station 9012: [783, 796, 763, 728, 797, 764, 798, 1444, 40, 1443, 4, 2]\n",
      "Cross-Validation Score for station 9012: -0.0002807541391520719\n"
     ]
    },
    {
     "name": "stderr",
     "output_type": "stream",
     "text": [
      "Training models:  80%|██████████████████████████████████████████████████████▍             | 80/100 [43:34<09:58, 29.91s/station]"
     ]
    },
    {
     "name": "stdout",
     "output_type": "stream",
     "text": [
      "Mean Squared Error for station 9012: 0.00025326628550435246\n",
      "Valid indices for station 15020: [420, 368, 352, 353, 369, 346]\n",
      "Cross-Validation Score for station 15020: -0.00012361299264144137\n"
     ]
    },
    {
     "name": "stderr",
     "output_type": "stream",
     "text": [
      "Training models:  81%|███████████████████████████████████████████████████████             | 81/100 [44:03<09:22, 29.63s/station]"
     ]
    },
    {
     "name": "stdout",
     "output_type": "stream",
     "text": [
      "Mean Squared Error for station 15020: 0.00018798893561648578\n",
      "Valid indices for station 41206: [1159]\n",
      "Valid indices for station 41206: [1158, 1163, 1159]\n",
      "Valid indices for station 41206: [1164, 1158, 1163, 1162, 1160, 1159]\n",
      "Cross-Validation Score for station 41206: -0.00018349990538451774\n"
     ]
    },
    {
     "name": "stderr",
     "output_type": "stream",
     "text": [
      "Training models:  82%|███████████████████████████████████████████████████████▊            | 82/100 [44:27<08:18, 27.72s/station]"
     ]
    },
    {
     "name": "stdout",
     "output_type": "stream",
     "text": [
      "Mean Squared Error for station 41206: 2.0552929713255724e-06\n",
      "Valid indices for station 19031: [641, 629, 636, 674]\n",
      "Valid indices for station 19031: [654, 646, 649, 665, 662, 632, 635, 641, 626, 627, 629, 628, 671, 667, 636, 672, 637, 655, 674, 631, 630, 673]\n",
      "Cross-Validation Score for station 19031: -0.00010284615029496316\n"
     ]
    },
    {
     "name": "stderr",
     "output_type": "stream",
     "text": [
      "Training models:  83%|████████████████████████████████████████████████████████▍           | 83/100 [44:55<07:52, 27.80s/station]"
     ]
    },
    {
     "name": "stdout",
     "output_type": "stream",
     "text": [
      "Mean Squared Error for station 19031: 0.00012114278825941385\n",
      "Valid indices for station 13114: [239, 264, 262, 240, 237, 243]\n",
      "Cross-Validation Score for station 13114: -0.0001177563458068707\n"
     ]
    },
    {
     "name": "stderr",
     "output_type": "stream",
     "text": [
      "Training models:  84%|█████████████████████████████████████████████████████████           | 84/100 [45:21<07:15, 27.25s/station]"
     ]
    },
    {
     "name": "stdout",
     "output_type": "stream",
     "text": [
      "Mean Squared Error for station 13114: 3.905768669133185e-06\n",
      "Valid indices for station 15061: [389, 408, 383, 405, 425]\n",
      "Cross-Validation Score for station 15061: -0.00013385895927767988\n"
     ]
    },
    {
     "name": "stderr",
     "output_type": "stream",
     "text": [
      "Training models:  85%|█████████████████████████████████████████████████████████▊          | 85/100 [45:47<06:44, 26.97s/station]"
     ]
    },
    {
     "name": "stdout",
     "output_type": "stream",
     "text": [
      "Mean Squared Error for station 15061: 8.154783935366348e-06\n",
      "Valid indices for station 23008: [929, 927, 928]\n",
      "Valid indices for station 23008: [553, 517, 931, 929, 927, 537, 926, 514, 923, 928, 930, 924]\n",
      "Cross-Validation Score for station 23008: -0.000127835539071376\n"
     ]
    },
    {
     "name": "stderr",
     "output_type": "stream",
     "text": [
      "Training models:  86%|██████████████████████████████████████████████████████████▍         | 86/100 [46:15<06:22, 27.33s/station]"
     ]
    },
    {
     "name": "stdout",
     "output_type": "stream",
     "text": [
      "Mean Squared Error for station 23008: 0.000822838012387898\n",
      "Valid indices for station 8015: [1394, 1383, 1392, 1391, 1393, 1385, 1428]\n",
      "Cross-Validation Score for station 8015: -0.0005024937773748235\n"
     ]
    },
    {
     "name": "stderr",
     "output_type": "stream",
     "text": [
      "Training models:  87%|███████████████████████████████████████████████████████████▏        | 87/100 [46:53<06:37, 30.57s/station]"
     ]
    },
    {
     "name": "stdout",
     "output_type": "stream",
     "text": [
      "Mean Squared Error for station 8015: 0.00022960437331433296\n",
      "Valid indices for station 5019: [1288, 1287, 1284, 1286, 1285, 1149, 1307, 1128]\n",
      "Cross-Validation Score for station 5019: -0.00023033262735066843\n"
     ]
    },
    {
     "name": "stderr",
     "output_type": "stream",
     "text": [
      "Training models:  88%|███████████████████████████████████████████████████████████▊        | 88/100 [47:24<06:08, 30.71s/station]"
     ]
    },
    {
     "name": "stdout",
     "output_type": "stream",
     "text": [
      "Mean Squared Error for station 5019: 8.112831398827829e-05\n",
      "Valid indices for station 7026: [1366, 1401, 1375, 1360]\n",
      "Valid indices for station 7026: [1368, 1370, 1367, 1365, 1371, 1366, 1390, 1409, 1408, 1401, 1402, 1375, 1360, 1380, 1361, 1359]\n",
      "Cross-Validation Score for station 7026: -0.00010526638491065372\n"
     ]
    },
    {
     "name": "stderr",
     "output_type": "stream",
     "text": [
      "Training models:  89%|████████████████████████████████████████████████████████████▌       | 89/100 [47:56<05:39, 30.91s/station]"
     ]
    },
    {
     "name": "stdout",
     "output_type": "stream",
     "text": [
      "Mean Squared Error for station 7026: 5.1300203661808445e-06\n",
      "Valid indices for station 13113: [233, 234, 261, 238, 239, 236]\n",
      "Cross-Validation Score for station 13113: -0.0006852038914394363\n"
     ]
    },
    {
     "name": "stderr",
     "output_type": "stream",
     "text": [
      "Training models:  90%|█████████████████████████████████████████████████████████████▏      | 90/100 [48:17<04:41, 28.11s/station]"
     ]
    },
    {
     "name": "stdout",
     "output_type": "stream",
     "text": [
      "Mean Squared Error for station 13113: 0.00020089427984142948\n",
      "Valid indices for station 31018: [1025]\n",
      "Valid indices for station 31018: [1013, 1035, 1219, 1220, 1025, 1222, 1221, 1026, 1053, 1015, 1022, 1016, 1017]\n",
      "Cross-Validation Score for station 31018: -0.00023865583871817537\n"
     ]
    },
    {
     "name": "stderr",
     "output_type": "stream",
     "text": [
      "Training models:  91%|█████████████████████████████████████████████████████████████▉      | 91/100 [48:46<04:14, 28.31s/station]"
     ]
    },
    {
     "name": "stdout",
     "output_type": "stream",
     "text": [
      "Mean Squared Error for station 31018: 0.0001076163777578525\n",
      "Valid indices for station 33005: [1084]\n",
      "Valid indices for station 33005: [663, 624, 1108, 1083, 1084, 1107, 1085]\n",
      "Cross-Validation Score for station 33005: -0.0002020660859626602\n"
     ]
    },
    {
     "name": "stderr",
     "output_type": "stream",
     "text": [
      "Training models:  92%|██████████████████████████████████████████████████████████████▌     | 92/100 [49:14<03:44, 28.07s/station]"
     ]
    },
    {
     "name": "stdout",
     "output_type": "stream",
     "text": [
      "Mean Squared Error for station 33005: 0.0008815934064992899\n",
      "Out of bounds indices for station 1022: [1463, 1472]\n",
      "Max valid index: 1460\n",
      "Valid indices for station 1022: [65, 64, 57, 132, 760, 70, 753, 757]\n",
      "Cross-Validation Score for station 1022: -0.00020439753118309899\n"
     ]
    },
    {
     "name": "stderr",
     "output_type": "stream",
     "text": [
      "Training models:  93%|███████████████████████████████████████████████████████████████▏    | 93/100 [49:44<03:22, 28.92s/station]"
     ]
    },
    {
     "name": "stdout",
     "output_type": "stream",
     "text": [
      "Mean Squared Error for station 1022: 3.7441896569044066e-05\n",
      "Valid indices for station 10164: [48, 37, 49, 47, 32, 61, 24, 38, 679, 678]\n",
      "Cross-Validation Score for station 10164: -0.0012965374503492231\n"
     ]
    },
    {
     "name": "stderr",
     "output_type": "stream",
     "text": [
      "Training models:  94%|███████████████████████████████████████████████████████████████▉    | 94/100 [50:08<02:43, 27.24s/station]"
     ]
    },
    {
     "name": "stdout",
     "output_type": "stream",
     "text": [
      "Mean Squared Error for station 10164: 9.899302572613439e-05\n",
      "Valid indices for station 3101: [1011, 1012, 1019, 63, 3, 7, 6, 1, 0]\n",
      "Cross-Validation Score for station 3101: -0.0022891630663546972\n"
     ]
    },
    {
     "name": "stderr",
     "output_type": "stream",
     "text": [
      "Training models:  95%|████████████████████████████████████████████████████████████████▌   | 95/100 [50:40<02:23, 28.73s/station]"
     ]
    },
    {
     "name": "stdout",
     "output_type": "stream",
     "text": [
      "Mean Squared Error for station 3101: 0.0006976420617127733\n",
      "Valid indices for station 8049: [1414, 1415, 1427, 1410, 1416, 1433, 1382, 1429, 1400, 1431, 1419, 1425]\n",
      "Cross-Validation Score for station 8049: -0.0001645240314175341\n"
     ]
    },
    {
     "name": "stderr",
     "output_type": "stream",
     "text": [
      "Training models:  96%|█████████████████████████████████████████████████████████████████▎  | 96/100 [51:07<01:52, 28.07s/station]"
     ]
    },
    {
     "name": "stdout",
     "output_type": "stream",
     "text": [
      "Mean Squared Error for station 8049: 0.00010360867799311819\n",
      "Valid indices for station 11107: [119, 80, 118, 124, 128]\n",
      "Cross-Validation Score for station 11107: -0.0004314611139182971\n"
     ]
    },
    {
     "name": "stderr",
     "output_type": "stream",
     "text": [
      "Training models:  97%|█████████████████████████████████████████████████████████████████▉  | 97/100 [51:36<01:25, 28.44s/station]"
     ]
    },
    {
     "name": "stdout",
     "output_type": "stream",
     "text": [
      "Mean Squared Error for station 11107: 0.0003106342573939404\n",
      "Valid indices for station 20103: [702, 705, 739, 729]\n",
      "Valid indices for station 20103: [733, 746, 730, 714, 734, 750, 703, 741, 702, 705, 721, 739, 729, 1050, 735, 1052, 1049, 1045]\n",
      "Cross-Validation Score for station 20103: -7.222027311313018e-05\n"
     ]
    },
    {
     "name": "stderr",
     "output_type": "stream",
     "text": [
      "Training models:  98%|██████████████████████████████████████████████████████████████████▋ | 98/100 [52:01<00:54, 27.39s/station]"
     ]
    },
    {
     "name": "stdout",
     "output_type": "stream",
     "text": [
      "Mean Squared Error for station 20103: 1.9818368615315212e-06\n",
      "Out of bounds indices for station 2014: [1472, 1468]\n",
      "Max valid index: 1460\n",
      "Valid indices for station 2014: [64, 57, 132, 760, 70, 753, 744, 757]\n",
      "Cross-Validation Score for station 2014: -0.00019740812617334366\n"
     ]
    },
    {
     "name": "stderr",
     "output_type": "stream",
     "text": [
      "Training models:  99%|███████████████████████████████████████████████████████████████████▎| 99/100 [52:27<00:27, 27.02s/station]"
     ]
    },
    {
     "name": "stdout",
     "output_type": "stream",
     "text": [
      "Mean Squared Error for station 2014: 6.71801242236022e-05\n",
      "Valid indices for station 16041: [463, 461]\n",
      "Valid indices for station 16041: [835, 459, 462, 479, 464, 463, 386, 394, 461, 426, 458, 457, 456, 460, 455]\n",
      "Cross-Validation Score for station 16041: -0.00044230997095394495\n"
     ]
    },
    {
     "name": "stderr",
     "output_type": "stream",
     "text": [
      "Training models: 100%|███████████████████████████████████████████████████████████████████| 100/100 [53:05<00:00, 31.86s/station]"
     ]
    },
    {
     "name": "stdout",
     "output_type": "stream",
     "text": [
      "Mean Squared Error for station 16041: 0.0007517717480179256\n"
     ]
    },
    {
     "name": "stderr",
     "output_type": "stream",
     "text": [
      "\n"
     ]
    },
    {
     "name": "stdout",
     "output_type": "stream",
     "text": [
      "Intermediate results saved for batch 4\n",
      "Training models...\n",
      "Columns after feature creation: Index(['stationcode', 'name', 'is_installed', 'capacity', 'numdocksavailable',\n",
      "       'numbikesavailable', 'mechanical', 'ebike', 'is_renting',\n",
      "       'is_returning', 'duedate', 'coordonnees_geo',\n",
      "       'nom_arrondissement_communes', 'date', 'lat', 'lon', 'hour',\n",
      "       'day_of_week', 'lag_1_hour', 'lag_1_day', 'rolling_mean_7_days',\n",
      "       'rolling_mean_30_days', 'normalized_bikes_available',\n",
      "       'normalized_docks_available', 'usage_ratio',\n",
      "       'capacity_hour_interaction', 'capacity_day_interaction',\n",
      "       'avg_bikes_hour_day'],\n",
      "      dtype='object')\n"
     ]
    },
    {
     "name": "stderr",
     "output_type": "stream",
     "text": [
      "Training models:   0%|                                                                             | 0/100 [00:00<?, ?station/s]"
     ]
    },
    {
     "name": "stdout",
     "output_type": "stream",
     "text": [
      "Valid indices for station 5030: [1276, 1318, 1343, 1306, 1333, 1345, 1336, 1317, 1295, 1279, 1293, 1275, 1315, 1274, 1296]\n",
      "Cross-Validation Score for station 5030: -0.0005733520032020773\n"
     ]
    },
    {
     "name": "stderr",
     "output_type": "stream",
     "text": [
      "Training models:   1%|▋                                                                    | 1/100 [00:32<53:21, 32.34s/station]"
     ]
    },
    {
     "name": "stdout",
     "output_type": "stream",
     "text": [
      "Mean Squared Error for station 5030: 0.0006610146126275156\n",
      "Valid indices for station 11046: [114, 1006, 10, 1004, 108, 109, 116, 111, 12, 110, 113, 107, 129]\n",
      "Cross-Validation Score for station 11046: -1.6433139357030452e-05\n"
     ]
    },
    {
     "name": "stderr",
     "output_type": "stream",
     "text": [
      "Training models:   2%|█▍                                                                   | 2/100 [01:01<50:13, 30.75s/station]"
     ]
    },
    {
     "name": "stdout",
     "output_type": "stream",
     "text": [
      "Mean Squared Error for station 11046: 6.869886993079759e-06\n",
      "Valid indices for station 6031: [1343, 1306, 1342, 1333, 1345, 1334, 1336, 1332, 1317, 1293, 1275, 1274, 1296]\n",
      "Cross-Validation Score for station 6031: -0.0005113901012645132\n"
     ]
    },
    {
     "name": "stderr",
     "output_type": "stream",
     "text": [
      "Training models:   3%|██                                                                   | 3/100 [01:36<52:26, 32.44s/station]"
     ]
    },
    {
     "name": "stdout",
     "output_type": "stream",
     "text": [
      "Mean Squared Error for station 6031: 2.1756744084695348e-05\n",
      "Valid indices for station 4109: [192, 1130, 1150, 1129, 1151]\n",
      "Valid indices for station 4109: [1286, 1149, 269, 1309, 257, 1310, 192, 1130, 1150, 1129, 1151, 1132, 1131, 173, 141, 139, 138, 1134, 1135, 1133, 1057, 1002, 1145, 75, 1148]\n",
      "Cross-Validation Score for station 4109: -0.00010940041513623389\n"
     ]
    },
    {
     "name": "stderr",
     "output_type": "stream",
     "text": [
      "Training models:   4%|██▊                                                                  | 4/100 [01:58<45:36, 28.50s/station]"
     ]
    },
    {
     "name": "stdout",
     "output_type": "stream",
     "text": [
      "Mean Squared Error for station 4109: 0.0001262131407807943\n",
      "Valid indices for station 2101: [43, 72, 725, 42, 774, 724, 716, 699, 90, 763, 797, 798]\n",
      "Cross-Validation Score for station 2101: -0.0001376135751045029\n"
     ]
    },
    {
     "name": "stderr",
     "output_type": "stream",
     "text": [
      "Training models:   5%|███▍                                                                 | 5/100 [02:31<47:32, 30.03s/station]"
     ]
    },
    {
     "name": "stdout",
     "output_type": "stream",
     "text": [
      "Mean Squared Error for station 2101: 1.408742490159518e-05\n",
      "Valid indices for station 21952: [872]\n",
      "Valid indices for station 21952: [872, 831, 790, 777, 829, 830]\n",
      "Cross-Validation Score for station 21952: -9.698863518136333e-05\n"
     ]
    },
    {
     "name": "stderr",
     "output_type": "stream",
     "text": [
      "Training models:   6%|████▏                                                                | 6/100 [03:08<50:31, 32.25s/station]"
     ]
    },
    {
     "name": "stdout",
     "output_type": "stream",
     "text": [
      "Mean Squared Error for station 21952: 0.000771620722678328\n",
      "Valid indices for station 11037: [10, 1004, 108, 109, 116, 111, 12, 13, 107]\n",
      "Cross-Validation Score for station 11037: -0.00013618240245497412\n"
     ]
    },
    {
     "name": "stderr",
     "output_type": "stream",
     "text": [
      "Training models:   7%|████▊                                                                | 7/100 [03:41<50:31, 32.59s/station]"
     ]
    },
    {
     "name": "stdout",
     "output_type": "stream",
     "text": [
      "Mean Squared Error for station 11037: 9.171626106039327e-05\n",
      "Valid indices for station 12154: [195, 197]\n",
      "Valid indices for station 12154: [146, 196, 155, 151, 170, 161, 1175, 195, 182, 197, 181, 154, 722, 682, 684]\n",
      "Cross-Validation Score for station 12154: -0.000828689275586587\n"
     ]
    },
    {
     "name": "stderr",
     "output_type": "stream",
     "text": [
      "Training models:   8%|█████▌                                                               | 8/100 [04:17<51:46, 33.77s/station]"
     ]
    },
    {
     "name": "stdout",
     "output_type": "stream",
     "text": [
      "Mean Squared Error for station 12154: 1.053018925776152e-05\n",
      "Valid indices for station 10026: [27, 23, 25, 26, 59, 60, 31]\n",
      "Cross-Validation Score for station 10026: -0.001176989792687047\n"
     ]
    },
    {
     "name": "stderr",
     "output_type": "stream",
     "text": [
      "Training models:   9%|██████▏                                                              | 9/100 [04:48<49:33, 32.67s/station]"
     ]
    },
    {
     "name": "stdout",
     "output_type": "stream",
     "text": [
      "Mean Squared Error for station 10026: 0.0010376617987788643\n",
      "Valid indices for station 8029: [1366, 1408, 1401, 1402, 1375]\n",
      "Valid indices for station 8029: [1368, 1367, 1412, 1427, 1410, 1366, 1390, 1409, 1408, 1401, 1402, 1375, 1360, 1380, 1417, 1403]\n",
      "Cross-Validation Score for station 8029: -0.23220113863648847\n"
     ]
    },
    {
     "name": "stderr",
     "output_type": "stream",
     "text": [
      "Training models:  10%|██████▊                                                             | 10/100 [05:27<52:17, 34.86s/station]"
     ]
    },
    {
     "name": "stdout",
     "output_type": "stream",
     "text": [
      "Mean Squared Error for station 8029: 0.2266466481871933\n",
      "Valid indices for station 11044: [114, 117, 83, 121, 115, 125, 110, 113, 129, 123]\n",
      "Cross-Validation Score for station 11044: -8.885683979908427e-05\n"
     ]
    },
    {
     "name": "stderr",
     "output_type": "stream",
     "text": [
      "Training models:  11%|███████▍                                                            | 11/100 [05:56<49:05, 33.10s/station]"
     ]
    },
    {
     "name": "stdout",
     "output_type": "stream",
     "text": [
      "Mean Squared Error for station 11044: 1.785359211732918e-06\n",
      "Valid indices for station 14127: [337, 309, 277, 323, 336, 1341, 1323]\n",
      "Cross-Validation Score for station 14127: -0.00035184414914969794\n"
     ]
    },
    {
     "name": "stderr",
     "output_type": "stream",
     "text": [
      "Training models:  12%|████████▏                                                           | 12/100 [06:22<45:23, 30.95s/station]"
     ]
    },
    {
     "name": "stdout",
     "output_type": "stream",
     "text": [
      "Mean Squared Error for station 14127: 0.0001779503336242565\n",
      "Valid indices for station 17104: [551, 525, 533, 524, 534]\n",
      "Cross-Validation Score for station 17104: -0.0003190363954618502\n"
     ]
    },
    {
     "name": "stderr",
     "output_type": "stream",
     "text": [
      "Training models:  13%|████████▊                                                           | 13/100 [06:43<40:17, 27.79s/station]"
     ]
    },
    {
     "name": "stdout",
     "output_type": "stream",
     "text": [
      "Mean Squared Error for station 17104: 0.00015307060590647096\n",
      "Valid indices for station 19030: [640, 633, 625, 647, 664, 639, 626]\n",
      "Cross-Validation Score for station 19030: -0.00046212027861168234\n"
     ]
    },
    {
     "name": "stderr",
     "output_type": "stream",
     "text": [
      "Training models:  14%|█████████▌                                                          | 14/100 [07:11<40:05, 27.97s/station]"
     ]
    },
    {
     "name": "stdout",
     "output_type": "stream",
     "text": [
      "Mean Squared Error for station 19030: 2.8173981865418434e-05\n",
      "Valid indices for station 15009: [347, 343]\n",
      "Valid indices for station 15009: [355, 346, 351, 347, 348, 342, 340, 345, 343, 1363, 344, 356, 1369, 1379, 1378, 419, 1364]\n",
      "Cross-Validation Score for station 15009: -0.00043732926386720573\n"
     ]
    },
    {
     "name": "stderr",
     "output_type": "stream",
     "text": [
      "Training models:  15%|██████████▏                                                         | 15/100 [07:40<40:05, 28.30s/station]"
     ]
    },
    {
     "name": "stdout",
     "output_type": "stream",
     "text": [
      "Mean Squared Error for station 15009: 0.00035484892115716677\n",
      "Valid indices for station 20045: [733, 746, 730, 702, 721, 739]\n",
      "Cross-Validation Score for station 20045: -4.4083667770486216e-05\n"
     ]
    },
    {
     "name": "stderr",
     "output_type": "stream",
     "text": [
      "Training models:  16%|██████████▉                                                         | 16/100 [08:12<41:11, 29.43s/station]"
     ]
    },
    {
     "name": "stdout",
     "output_type": "stream",
     "text": [
      "Mean Squared Error for station 20045: 2.6814902966977214e-06\n",
      "Valid indices for station 11110: [127, 94, 126, 708, 748, 92]\n",
      "Cross-Validation Score for station 11110: -0.004226774568162303\n"
     ]
    },
    {
     "name": "stderr",
     "output_type": "stream",
     "text": [
      "Training models:  17%|███████████▌                                                        | 17/100 [08:40<40:04, 28.97s/station]"
     ]
    },
    {
     "name": "stdout",
     "output_type": "stream",
     "text": [
      "Mean Squared Error for station 11110: 0.000538067039723705\n",
      "Valid indices for station 16031: [449, 454, 465, 445, 475]\n",
      "Cross-Validation Score for station 16031: -0.000168123157056212\n"
     ]
    },
    {
     "name": "stderr",
     "output_type": "stream",
     "text": [
      "Training models:  18%|████████████▏                                                       | 18/100 [09:09<39:36, 28.99s/station]"
     ]
    },
    {
     "name": "stdout",
     "output_type": "stream",
     "text": [
      "Mean Squared Error for station 16031: 0.0007476212483396236\n",
      "Valid indices for station 12153: [194, 163, 162, 160]\n",
      "Valid indices for station 12153: [248, 267, 194, 163, 162, 160, 157, 208, 164, 207, 178, 206]\n",
      "Cross-Validation Score for station 12153: -0.0002428474855722974\n"
     ]
    },
    {
     "name": "stderr",
     "output_type": "stream",
     "text": [
      "Training models:  19%|████████████▉                                                       | 19/100 [09:37<38:27, 28.49s/station]"
     ]
    },
    {
     "name": "stdout",
     "output_type": "stream",
     "text": [
      "Mean Squared Error for station 12153: 3.6209393751289075e-06\n",
      "Valid indices for station 5028: [1297, 1292, 213, 1305, 1289, 1294]\n",
      "Cross-Validation Score for station 5028: -0.0005358618047778766\n"
     ]
    },
    {
     "name": "stderr",
     "output_type": "stream",
     "text": [
      "Training models:  20%|█████████████▌                                                      | 20/100 [10:09<39:39, 29.74s/station]"
     ]
    },
    {
     "name": "stdout",
     "output_type": "stream",
     "text": [
      "Mean Squared Error for station 5028: 1.1512896057070163e-05\n",
      "Valid indices for station 17005: [502, 540, 493, 545, 539, 492, 497, 494]\n",
      "Cross-Validation Score for station 17005: -0.000420596929330151\n"
     ]
    },
    {
     "name": "stderr",
     "output_type": "stream",
     "text": [
      "Training models:  21%|██████████████▎                                                     | 21/100 [10:40<39:24, 29.92s/station]"
     ]
    },
    {
     "name": "stdout",
     "output_type": "stream",
     "text": [
      "Mean Squared Error for station 17005: 0.0006382423727276177\n",
      "Valid indices for station 18035: [585, 601, 584, 605, 586]\n",
      "Cross-Validation Score for station 18035: -0.00014649879096351537\n"
     ]
    },
    {
     "name": "stderr",
     "output_type": "stream",
     "text": [
      "Training models:  22%|██████████████▉                                                     | 22/100 [11:10<38:58, 29.99s/station]"
     ]
    },
    {
     "name": "stdout",
     "output_type": "stream",
     "text": [
      "Mean Squared Error for station 18035: 0.00015796417550487454\n",
      "Valid indices for station 22401: [868, 901, 902, 906, 424]\n",
      "Cross-Validation Score for station 22401: -0.00029381544890549297\n"
     ]
    },
    {
     "name": "stderr",
     "output_type": "stream",
     "text": [
      "Training models:  23%|███████████████▋                                                    | 23/100 [11:40<38:24, 29.93s/station]"
     ]
    },
    {
     "name": "stdout",
     "output_type": "stream",
     "text": [
      "Mean Squared Error for station 22401: 0.0007008854813678211\n",
      "Valid indices for station 14016: [321, 292, 289]\n",
      "Valid indices for station 14016: [313, 326, 290, 330, 321, 327, 282, 288, 286, 292, 322, 284, 289, 283, 276, 246]\n",
      "Cross-Validation Score for station 14016: -0.002754250563394351\n"
     ]
    },
    {
     "name": "stderr",
     "output_type": "stream",
     "text": [
      "Training models:  24%|████████████████▎                                                   | 24/100 [12:08<37:13, 29.39s/station]"
     ]
    },
    {
     "name": "stdout",
     "output_type": "stream",
     "text": [
      "Mean Squared Error for station 14016: 0.003600173520421666\n",
      "Valid indices for station 12033: [194, 163, 162, 160]\n",
      "Valid indices for station 12033: [248, 253, 221, 194, 163, 162, 160, 157, 208, 207, 156, 158, 178, 206, 159]\n",
      "Cross-Validation Score for station 12033: -0.0003615748630366585\n"
     ]
    },
    {
     "name": "stderr",
     "output_type": "stream",
     "text": [
      "Training models:  25%|█████████████████                                                   | 25/100 [12:42<38:23, 30.72s/station]"
     ]
    },
    {
     "name": "stdout",
     "output_type": "stream",
     "text": [
      "Mean Squared Error for station 12033: 0.000336647817021544\n",
      "Valid indices for station 12120: [188, 184]\n",
      "Valid indices for station 12120: [1198, 1246, 188, 183, 184, 170, 1178]\n",
      "Cross-Validation Score for station 12120: -0.0005409629578869764\n"
     ]
    },
    {
     "name": "stderr",
     "output_type": "stream",
     "text": [
      "Training models:  26%|█████████████████▋                                                  | 26/100 [13:11<37:30, 30.41s/station]"
     ]
    },
    {
     "name": "stdout",
     "output_type": "stream",
     "text": [
      "Mean Squared Error for station 12120: 0.002559004790543079\n",
      "Valid indices for station 11012: [131, 176, 81, 198, 82, 84, 86, 137, 136]\n",
      "Cross-Validation Score for station 11012: -0.00048526719705137397\n"
     ]
    },
    {
     "name": "stderr",
     "output_type": "stream",
     "text": [
      "Training models:  27%|██████████████████▎                                                 | 27/100 [13:39<35:51, 29.47s/station]"
     ]
    },
    {
     "name": "stdout",
     "output_type": "stream",
     "text": [
      "Mean Squared Error for station 11012: 0.0003546994280934847\n",
      "Valid indices for station 18142: [39, 561, 60, 611, 34, 599]\n",
      "Cross-Validation Score for station 18142: -0.00014012756096118783\n"
     ]
    },
    {
     "name": "stderr",
     "output_type": "stream",
     "text": [
      "Training models:  28%|███████████████████                                                 | 28/100 [14:08<35:10, 29.31s/station]"
     ]
    },
    {
     "name": "stdout",
     "output_type": "stream",
     "text": [
      "Mean Squared Error for station 18142: 0.00010134999137931676\n",
      "Valid indices for station 18014: [597, 561, 564, 560, 565, 574, 606]\n",
      "Cross-Validation Score for station 18014: -2.581713730542899e-06\n"
     ]
    },
    {
     "name": "stderr",
     "output_type": "stream",
     "text": [
      "Training models:  29%|███████████████████▋                                                | 29/100 [14:27<31:20, 26.49s/station]"
     ]
    },
    {
     "name": "stdout",
     "output_type": "stream",
     "text": [
      "Mean Squared Error for station 18014: 2.7513142110881437e-06\n",
      "Valid indices for station 21017: [778, 781, 782, 769]\n",
      "Valid indices for station 21017: [777, 779, 780, 778, 785, 781, 787, 782, 769, 773, 772, 768, 793]\n",
      "Cross-Validation Score for station 21017: -0.0010014447871803539\n"
     ]
    },
    {
     "name": "stderr",
     "output_type": "stream",
     "text": [
      "Training models:  30%|████████████████████▍                                               | 30/100 [15:04<34:27, 29.53s/station]"
     ]
    },
    {
     "name": "stdout",
     "output_type": "stream",
     "text": [
      "Mean Squared Error for station 21017: 0.0009385659828896883\n",
      "Valid indices for station 13110: [230, 260, 234]\n",
      "Valid indices for station 13110: [1216, 259, 1212, 232, 230, 260, 233, 234, 235, 261, 238, 228, 227, 236, 274]\n",
      "Cross-Validation Score for station 13110: -0.0004447342797248745\n"
     ]
    },
    {
     "name": "stderr",
     "output_type": "stream",
     "text": [
      "Training models:  31%|█████████████████████                                               | 31/100 [15:22<29:54, 26.00s/station]"
     ]
    },
    {
     "name": "stdout",
     "output_type": "stream",
     "text": [
      "Mean Squared Error for station 13110: 0.0004703454383257023\n",
      "Valid indices for station 42011: [267, 1200, 1183]\n",
      "Valid indices for station 42011: [1184, 1190, 1181, 267, 1200, 1183]\n",
      "Cross-Validation Score for station 42011: -0.0007979106453143102\n"
     ]
    },
    {
     "name": "stderr",
     "output_type": "stream",
     "text": [
      "Training models:  32%|█████████████████████▊                                              | 32/100 [15:52<30:43, 27.11s/station]"
     ]
    },
    {
     "name": "stdout",
     "output_type": "stream",
     "text": [
      "Mean Squared Error for station 42011: 5.4245353159850485e-05\n",
      "Valid indices for station 12010: [168, 146, 196, 167, 155]\n",
      "Cross-Validation Score for station 12010: -0.0014433875623671819\n"
     ]
    },
    {
     "name": "stderr",
     "output_type": "stream",
     "text": [
      "Training models:  33%|██████████████████████▍                                             | 33/100 [16:23<31:35, 28.29s/station]"
     ]
    },
    {
     "name": "stdout",
     "output_type": "stream",
     "text": [
      "Mean Squared Error for station 12010: 7.919997664890362e-05\n",
      "Valid indices for station 20117: [714, 734, 741, 705, 735]\n",
      "Cross-Validation Score for station 20117: -0.004415340495312006\n"
     ]
    },
    {
     "name": "stderr",
     "output_type": "stream",
     "text": [
      "Training models:  34%|███████████████████████                                             | 34/100 [16:53<31:52, 28.97s/station]"
     ]
    },
    {
     "name": "stdout",
     "output_type": "stream",
     "text": [
      "Mean Squared Error for station 20117: 0.0021720074015171725\n",
      "Valid indices for station 48009: [1270]\n",
      "Valid indices for station 48009: [1265, 1272, 1270]\n",
      "Valid indices for station 48009: [1207, 1265, 1272, 1270, 1269, 1267, 1271]\n",
      "Cross-Validation Score for station 48009: -0.00016982712778217316\n"
     ]
    },
    {
     "name": "stderr",
     "output_type": "stream",
     "text": [
      "Training models:  35%|███████████████████████▊                                            | 35/100 [17:13<28:34, 26.37s/station]"
     ]
    },
    {
     "name": "stdout",
     "output_type": "stream",
     "text": [
      "Mean Squared Error for station 48009: 1.4470583371232279e-06\n",
      "Valid indices for station 14125: [282, 286, 322, 283]\n",
      "Valid indices for station 14125: [327, 285, 308, 328, 282, 288, 286, 292, 322, 284, 316, 289, 317, 283, 279, 315, 280, 276, 275]\n",
      "Cross-Validation Score for station 14125: -0.00023841496435649144\n"
     ]
    },
    {
     "name": "stderr",
     "output_type": "stream",
     "text": [
      "Training models:  36%|████████████████████████▍                                           | 36/100 [17:37<27:07, 25.43s/station]"
     ]
    },
    {
     "name": "stdout",
     "output_type": "stream",
     "text": [
      "Mean Squared Error for station 14125: 0.00019486055291681958\n",
      "Valid indices for station 4107: [1131, 138, 1145, 75, 1148, 104, 1001]\n",
      "Cross-Validation Score for station 4107: -1.2822317583729937e-05\n"
     ]
    },
    {
     "name": "stderr",
     "output_type": "stream",
     "text": [
      "Training models:  37%|█████████████████████████▏                                          | 37/100 [18:01<26:13, 24.97s/station]"
     ]
    },
    {
     "name": "stdout",
     "output_type": "stream",
     "text": [
      "Mean Squared Error for station 4107: 2.4519759824521258e-06\n",
      "Out of bounds indices for station 9013: [1473, 1469]\n",
      "Max valid index: 1460\n",
      "Valid indices for station 9013: [727, 1454, 783, 796, 747, 1445, 1453, 1446, 1447, 728, 1443]\n",
      "Cross-Validation Score for station 9013: -0.0005427073764758326\n"
     ]
    },
    {
     "name": "stderr",
     "output_type": "stream",
     "text": [
      "Training models:  38%|█████████████████████████▊                                          | 38/100 [18:27<26:24, 25.56s/station]"
     ]
    },
    {
     "name": "stdout",
     "output_type": "stream",
     "text": [
      "Mean Squared Error for station 9013: 0.00012826359594116958\n",
      "Valid indices for station 31017: [1024]\n",
      "Valid indices for station 31017: [1033, 1024]\n",
      "Valid indices for station 31017: [1165, 1227, 1156, 1157, 1020, 1023, 1031, 1032, 1033, 1024]\n",
      "Cross-Validation Score for station 31017: -6.529768687264122e-07\n"
     ]
    },
    {
     "name": "stderr",
     "output_type": "stream",
     "text": [
      "Training models:  39%|██████████████████████████▌                                         | 39/100 [18:55<26:42, 26.27s/station]"
     ]
    },
    {
     "name": "stdout",
     "output_type": "stream",
     "text": [
      "Mean Squared Error for station 31017: 0.0006212696525621118\n",
      "Valid indices for station 23006: [927, 926, 514]\n",
      "Valid indices for station 23006: [553, 517, 929, 927, 537, 926, 516, 514, 513, 529, 532, 509, 928, 924, 812, 811, 925, 541]\n",
      "Cross-Validation Score for station 23006: -0.00019189122198102365\n"
     ]
    },
    {
     "name": "stderr",
     "output_type": "stream",
     "text": [
      "Training models:  40%|███████████████████████████▏                                        | 40/100 [19:26<27:33, 27.56s/station]"
     ]
    },
    {
     "name": "stdout",
     "output_type": "stream",
     "text": [
      "Mean Squared Error for station 23006: 7.914208432416627e-05\n",
      "Out of bounds indices for station 18114: [1467]\n",
      "Max valid index: 1460\n",
      "Valid indices for station 18114: [1458, 590, 555, 554, 600, 589, 556, 603, 602]\n",
      "Cross-Validation Score for station 18114: -0.001188725870335397\n"
     ]
    },
    {
     "name": "stderr",
     "output_type": "stream",
     "text": [
      "Training models:  41%|███████████████████████████▉                                        | 41/100 [19:50<25:54, 26.35s/station]"
     ]
    },
    {
     "name": "stdout",
     "output_type": "stream",
     "text": [
      "Mean Squared Error for station 18114: 0.0005223734306056651\n",
      "Valid indices for station 22403: [827, 903, 332, 312]\n",
      "Valid indices for station 22403: [904, 827, 824, 903, 819, 826, 296, 299, 320, 332, 297, 312, 298, 325, 334, 331]\n",
      "Cross-Validation Score for station 22403: -6.589447716470636e-05\n"
     ]
    },
    {
     "name": "stderr",
     "output_type": "stream",
     "text": [
      "Training models:  42%|████████████████████████████▌                                       | 42/100 [20:20<26:44, 27.66s/station]"
     ]
    },
    {
     "name": "stdout",
     "output_type": "stream",
     "text": [
      "Mean Squared Error for station 22403: 9.546058659098482e-07\n",
      "Valid indices for station 13117: [239, 264, 262, 240]\n",
      "Valid indices for station 13117: [1216, 1194, 1193, 234, 235, 261, 238, 239, 264, 262, 1192, 240, 263, 1185, 237, 236, 271, 243]\n",
      "Cross-Validation Score for station 13117: -0.000522537034016626\n"
     ]
    },
    {
     "name": "stderr",
     "output_type": "stream",
     "text": [
      "Training models:  43%|█████████████████████████████▏                                      | 43/100 [20:48<26:22, 27.76s/station]"
     ]
    },
    {
     "name": "stdout",
     "output_type": "stream",
     "text": [
      "Mean Squared Error for station 13117: 0.00024180997450740102\n",
      "Out of bounds indices for station 92005: [1484]\n",
      "Max valid index: 1460\n",
      "Valid indices for station 92005: []\n",
      "Out of bounds indices for station 92005: [1482, 1484]\n",
      "Max valid index: 1460\n",
      "Valid indices for station 92005: []\n",
      "Out of bounds indices for station 92005: [1482, 1487, 1484]\n",
      "Max valid index: 1460\n",
      "Valid indices for station 92005: []\n",
      "Out of bounds indices for station 92005: [1482, 1487, 1484]\n",
      "Max valid index: 1460\n",
      "Valid indices for station 92005: []\n"
     ]
    },
    {
     "name": "stderr",
     "output_type": "stream",
     "text": [
      "/Users/anthonybellon/Comp_Documents/VelibVisualisation/scripts/train_model.py:103: SettingWithCopyWarning: \n",
      "A value is trying to be set on a copy of a slice from a DataFrame.\n",
      "Try using .loc[row_indexer,col_indexer] = value instead\n",
      "\n",
      "See the caveats in the documentation: https://pandas.pydata.org/pandas-docs/stable/user_guide/indexing.html#returning-a-view-versus-a-copy\n",
      "  \n"
     ]
    },
    {
     "name": "stdout",
     "output_type": "stream",
     "text": [
      "Cross-Validation Score for station 92005: -0.00018479184950854463\n"
     ]
    },
    {
     "name": "stderr",
     "output_type": "stream",
     "text": [
      "Training models:  44%|█████████████████████████████▉                                      | 44/100 [21:15<25:42, 27.55s/station]"
     ]
    },
    {
     "name": "stdout",
     "output_type": "stream",
     "text": [
      "Mean Squared Error for station 92005: 0.0009270085663199866\n",
      "Valid indices for station 22103: [889]\n",
      "Valid indices for station 22103: [889, 888, 862]\n",
      "Valid indices for station 22103: [889, 888, 856, 861, 854, 862]\n",
      "Cross-Validation Score for station 22103: -0.0002690371303478539\n"
     ]
    },
    {
     "name": "stderr",
     "output_type": "stream",
     "text": [
      "Training models:  45%|██████████████████████████████▌                                     | 45/100 [21:39<24:08, 26.33s/station]"
     ]
    },
    {
     "name": "stdout",
     "output_type": "stream",
     "text": [
      "Mean Squared Error for station 22103: 0.0008476878145492106\n",
      "Valid indices for station 14128: [371, 349, 334, 303, 324, 311, 335, 359]\n",
      "Cross-Validation Score for station 14128: -0.0002659006211180125\n"
     ]
    },
    {
     "name": "stderr",
     "output_type": "stream",
     "text": [
      "Training models:  46%|███████████████████████████████▎                                    | 46/100 [22:03<23:05, 25.66s/station]"
     ]
    },
    {
     "name": "stdout",
     "output_type": "stream",
     "text": [
      "Mean Squared Error for station 14128: 0.00012957211870255375\n",
      "Valid indices for station 13035: [233, 261, 238, 236, 274]\n",
      "Cross-Validation Score for station 13035: -0.0065489642309023155\n"
     ]
    },
    {
     "name": "stderr",
     "output_type": "stream",
     "text": [
      "Training models:  47%|███████████████████████████████▉                                    | 47/100 [22:25<21:37, 24.49s/station]"
     ]
    },
    {
     "name": "stdout",
     "output_type": "stream",
     "text": [
      "Mean Squared Error for station 13035: 1.3739706212107453e-07\n",
      "Valid indices for station 20047: [197, 154, 722, 684, 754]\n",
      "Cross-Validation Score for station 20047: -0.002299778179975784\n"
     ]
    },
    {
     "name": "stderr",
     "output_type": "stream",
     "text": [
      "Training models:  48%|████████████████████████████████▋                                   | 48/100 [23:03<24:42, 28.52s/station]"
     ]
    },
    {
     "name": "stdout",
     "output_type": "stream",
     "text": [
      "Mean Squared Error for station 20047: 0.00031198359741067556\n",
      "Valid indices for station 12125: [187, 205, 204]\n",
      "Valid indices for station 12125: [202, 203, 187, 205, 209, 204, 186]\n",
      "Cross-Validation Score for station 12125: -0.001085325836551625\n"
     ]
    },
    {
     "name": "stderr",
     "output_type": "stream",
     "text": [
      "Training models:  49%|█████████████████████████████████▎                                  | 49/100 [23:41<26:44, 31.47s/station]"
     ]
    },
    {
     "name": "stdout",
     "output_type": "stream",
     "text": [
      "Mean Squared Error for station 12125: 0.0002706319780354617\n",
      "Valid indices for station 31101: [1036]\n",
      "Valid indices for station 31101: [1036]\n",
      "Valid indices for station 31101: [1036]\n",
      "Valid indices for station 31101: [1040, 1039, 1036]\n"
     ]
    },
    {
     "name": "stderr",
     "output_type": "stream",
     "text": [
      "/Users/anthonybellon/Comp_Documents/VelibVisualisation/scripts/train_model.py:103: SettingWithCopyWarning: \n",
      "A value is trying to be set on a copy of a slice from a DataFrame.\n",
      "Try using .loc[row_indexer,col_indexer] = value instead\n",
      "\n",
      "See the caveats in the documentation: https://pandas.pydata.org/pandas-docs/stable/user_guide/indexing.html#returning-a-view-versus-a-copy\n",
      "  \n"
     ]
    },
    {
     "name": "stdout",
     "output_type": "stream",
     "text": [
      "Cross-Validation Score for station 31101: -0.00018620993976600417\n"
     ]
    },
    {
     "name": "stderr",
     "output_type": "stream",
     "text": [
      "Training models:  50%|██████████████████████████████████                                  | 50/100 [23:58<22:45, 27.30s/station]"
     ]
    },
    {
     "name": "stdout",
     "output_type": "stream",
     "text": [
      "Mean Squared Error for station 31101: 2.06910821435967e-06\n",
      "Valid indices for station 7024: [1373, 1371]\n",
      "Valid indices for station 7024: [1374, 357, 403, 397, 356, 1379, 1378, 1370, 1373, 1372, 1412, 1371, 1413]\n",
      "Cross-Validation Score for station 7024: -8.339415405208236e-05\n"
     ]
    },
    {
     "name": "stderr",
     "output_type": "stream",
     "text": [
      "Training models:  51%|██████████████████████████████████▋                                 | 51/100 [24:33<24:00, 29.40s/station]"
     ]
    },
    {
     "name": "stdout",
     "output_type": "stream",
     "text": [
      "Mean Squared Error for station 7024: 2.2671017688384497e-07\n",
      "Valid indices for station 12129: [191]\n",
      "Valid indices for station 12129: [189, 191, 1155]\n",
      "Valid indices for station 12129: [189, 203, 1226, 201, 1166, 191, 1155, 1156]\n",
      "Cross-Validation Score for station 12129: -0.0018512290076657788\n"
     ]
    },
    {
     "name": "stderr",
     "output_type": "stream",
     "text": [
      "Training models:  52%|███████████████████████████████████▎                                | 52/100 [24:59<22:52, 28.59s/station]"
     ]
    },
    {
     "name": "stdout",
     "output_type": "stream",
     "text": [
      "Mean Squared Error for station 12129: 0.00010257536452467456\n",
      "Valid indices for station 17001: [569, 614, 494, 544, 490, 491]\n",
      "Cross-Validation Score for station 17001: -0.0008226261857686006\n"
     ]
    },
    {
     "name": "stderr",
     "output_type": "stream",
     "text": [
      "Training models:  53%|████████████████████████████████████                                | 53/100 [25:37<24:23, 31.14s/station]"
     ]
    },
    {
     "name": "stdout",
     "output_type": "stream",
     "text": [
      "Mean Squared Error for station 17001: 0.0007664723471910053\n",
      "Valid indices for station 19113: [666, 681, 648, 661, 672, 638]\n",
      "Cross-Validation Score for station 19113: -0.00029025291896744295\n"
     ]
    },
    {
     "name": "stderr",
     "output_type": "stream",
     "text": [
      "Training models:  54%|████████████████████████████████████▋                               | 54/100 [25:59<21:56, 28.63s/station]"
     ]
    },
    {
     "name": "stdout",
     "output_type": "stream",
     "text": [
      "Mean Squared Error for station 19113: 0.00011925620414361129\n",
      "Out of bounds indices for station 9016: [1473, 1476]\n",
      "Max valid index: 1460\n",
      "Valid indices for station 9016: [1446, 1447, 1452, 1448, 1451, 1449, 588, 1450, 1440]\n",
      "Cross-Validation Score for station 9016: -5.658143624641487e-05\n"
     ]
    },
    {
     "name": "stderr",
     "output_type": "stream",
     "text": [
      "Training models:  55%|█████████████████████████████████████▍                              | 55/100 [26:28<21:25, 28.58s/station]"
     ]
    },
    {
     "name": "stdout",
     "output_type": "stream",
     "text": [
      "Mean Squared Error for station 9016: 3.7569628214940408e-06\n",
      "Valid indices for station 10039: [32, 61, 24, 38, 679, 678, 642]\n",
      "Cross-Validation Score for station 10039: -0.0005567163647522506\n"
     ]
    },
    {
     "name": "stderr",
     "output_type": "stream",
     "text": [
      "Training models:  56%|██████████████████████████████████████                              | 56/100 [26:59<21:34, 29.41s/station]"
     ]
    },
    {
     "name": "stdout",
     "output_type": "stream",
     "text": [
      "Mean Squared Error for station 10039: 1.3960948112875302e-05\n",
      "Out of bounds indices for station 8011: [1464, 1466]\n",
      "Max valid index: 1460\n",
      "Valid indices for station 8011: [1395, 1428, 1388, 1432, 1387, 531, 1389, 592]\n",
      "Cross-Validation Score for station 8011: -2.0482907628092467e-05\n"
     ]
    },
    {
     "name": "stderr",
     "output_type": "stream",
     "text": [
      "Training models:  57%|██████████████████████████████████████▊                             | 57/100 [27:26<20:37, 28.77s/station]"
     ]
    },
    {
     "name": "stdout",
     "output_type": "stream",
     "text": [
      "Mean Squared Error for station 8011: 1.6334464494999498e-08\n",
      "Valid indices for station 13020: [224, 225, 272]\n",
      "Valid indices for station 13020: [241, 223, 255, 220, 249, 247, 224, 225, 268, 272, 269, 257, 1310, 192, 142, 173, 141, 174, 193, 177]\n",
      "Cross-Validation Score for station 13020: -0.0001726351239352897\n"
     ]
    },
    {
     "name": "stderr",
     "output_type": "stream",
     "text": [
      "Training models:  58%|███████████████████████████████████████▍                            | 58/100 [27:59<20:58, 29.96s/station]"
     ]
    },
    {
     "name": "stdout",
     "output_type": "stream",
     "text": [
      "Mean Squared Error for station 13020: 0.00021544235973959582\n",
      "Valid indices for station 19124: [668, 644]\n",
      "Valid indices for station 19124: [648, 661, 638, 656, 752, 645, 735, 668, 1096, 644, 1097, 706, 698]\n",
      "Cross-Validation Score for station 19124: -0.001729852055904357\n"
     ]
    },
    {
     "name": "stderr",
     "output_type": "stream",
     "text": [
      "Training models:  59%|████████████████████████████████████████                            | 59/100 [28:18<18:13, 26.66s/station]"
     ]
    },
    {
     "name": "stdout",
     "output_type": "stream",
     "text": [
      "Mean Squared Error for station 19124: 0.00020773467944428125\n",
      "Valid indices for station 35011: [1096, 1116, 1115, 1114]\n",
      "Valid indices for station 35011: [675, 1096, 1097, 1117, 1116, 1115, 1114, 1113, 1119, 1110, 1111, 1109]\n",
      "Cross-Validation Score for station 35011: -1.6024637671544135e-06\n"
     ]
    },
    {
     "name": "stderr",
     "output_type": "stream",
     "text": [
      "Training models:  60%|████████████████████████████████████████▊                           | 60/100 [28:39<16:38, 24.96s/station]"
     ]
    },
    {
     "name": "stdout",
     "output_type": "stream",
     "text": [
      "Mean Squared Error for station 35011: 1.1648197866539374e-07\n",
      "Valid indices for station 19036: [638, 668, 644]\n",
      "Valid indices for station 19036: [681, 648, 661, 638, 637, 656, 752, 645, 735, 668, 644, 1097, 698]\n",
      "Cross-Validation Score for station 19036: -0.0013555207789258264\n"
     ]
    },
    {
     "name": "stderr",
     "output_type": "stream",
     "text": [
      "Training models:  61%|█████████████████████████████████████████▍                          | 61/100 [29:04<16:10, 24.88s/station]"
     ]
    },
    {
     "name": "stdout",
     "output_type": "stream",
     "text": [
      "Mean Squared Error for station 19036: 0.0001477838394490987\n",
      "Valid indices for station 14113: [284, 316, 317, 280, 281, 211, 210]\n",
      "Cross-Validation Score for station 14113: -0.00012661349883630706\n"
     ]
    },
    {
     "name": "stderr",
     "output_type": "stream",
     "text": [
      "Training models:  62%|██████████████████████████████████████████▏                         | 62/100 [29:30<16:04, 25.38s/station]"
     ]
    },
    {
     "name": "stdout",
     "output_type": "stream",
     "text": [
      "Mean Squared Error for station 14113: 1.3957816377171392e-05\n",
      "Valid indices for station 32021: [1069]\n",
      "Valid indices for station 32021: [607, 1055, 1054, 1069, 1095, 1082]\n",
      "Cross-Validation Score for station 32021: -0.49605993302069196\n"
     ]
    },
    {
     "name": "stderr",
     "output_type": "stream",
     "text": [
      "Training models:  63%|██████████████████████████████████████████▊                         | 63/100 [30:09<18:05, 29.33s/station]"
     ]
    },
    {
     "name": "stdout",
     "output_type": "stream",
     "text": [
      "Mean Squared Error for station 32021: 0.3548411456609093\n",
      "Out of bounds indices for station 9036: [1464, 1465, 1471, 1477, 1470, 1466]\n",
      "Max valid index: 1460\n",
      "Valid indices for station 9036: [1387, 1381, 1460, 1459, 1457]\n",
      "Cross-Validation Score for station 9036: -0.0001544667485735692\n"
     ]
    },
    {
     "name": "stderr",
     "output_type": "stream",
     "text": [
      "Training models:  64%|███████████████████████████████████████████▌                        | 64/100 [30:36<17:09, 28.59s/station]"
     ]
    },
    {
     "name": "stdout",
     "output_type": "stream",
     "text": [
      "Mean Squared Error for station 9036: 0.0\n",
      "Valid indices for station 15019: [369, 346, 351, 347, 350, 348]\n",
      "Cross-Validation Score for station 15019: -0.0003020541908541331\n"
     ]
    },
    {
     "name": "stderr",
     "output_type": "stream",
     "text": [
      "Training models:  65%|████████████████████████████████████████████▏                       | 65/100 [31:04<16:36, 28.48s/station]"
     ]
    },
    {
     "name": "stdout",
     "output_type": "stream",
     "text": [
      "Mean Squared Error for station 15019: 0.00037602968223948957\n",
      "Valid indices for station 12006: [269, 142, 173, 141, 193]\n",
      "Cross-Validation Score for station 12006: -0.035749932022714856\n"
     ]
    },
    {
     "name": "stderr",
     "output_type": "stream",
     "text": [
      "Training models:  66%|████████████████████████████████████████████▉                       | 66/100 [31:49<19:00, 33.53s/station]"
     ]
    },
    {
     "name": "stdout",
     "output_type": "stream",
     "text": [
      "Mean Squared Error for station 12006: 0.026387153822557973\n",
      "Valid indices for station 15060: [400, 388, 387, 392, 407]\n",
      "Cross-Validation Score for station 15060: -0.00011843632338335392\n"
     ]
    },
    {
     "name": "stderr",
     "output_type": "stream",
     "text": [
      "Training models:  67%|█████████████████████████████████████████████▌                      | 67/100 [32:20<18:03, 32.83s/station]"
     ]
    },
    {
     "name": "stdout",
     "output_type": "stream",
     "text": [
      "Mean Squared Error for station 15060: 0.00011885741150889432\n",
      "Valid indices for station 16007: [433, 432]\n",
      "Valid indices for station 16007: [1374, 434, 439, 431, 433, 432, 1372, 440, 470, 469, 427, 1413, 1414, 1415, 1382]\n",
      "Cross-Validation Score for station 16007: -0.002591429981260861\n"
     ]
    },
    {
     "name": "stderr",
     "output_type": "stream",
     "text": [
      "Training models:  68%|██████████████████████████████████████████████▏                     | 68/100 [32:47<16:27, 30.85s/station]"
     ]
    },
    {
     "name": "stdout",
     "output_type": "stream",
     "text": [
      "Mean Squared Error for station 16007: 0.0035223496028876553\n",
      "Valid indices for station 10037: [25, 59, 37, 46, 35, 36, 618, 617]\n",
      "Cross-Validation Score for station 10037: -0.0012231062138463413\n"
     ]
    },
    {
     "name": "stderr",
     "output_type": "stream",
     "text": [
      "Training models:  69%|██████████████████████████████████████████████▉                     | 69/100 [33:11<14:52, 28.79s/station]"
     ]
    },
    {
     "name": "stdout",
     "output_type": "stream",
     "text": [
      "Mean Squared Error for station 10037: 0.0005815103433184784\n",
      "Valid indices for station 13010: [258, 217, 215, 218, 274]\n",
      "Cross-Validation Score for station 13010: -0.0011412209657506395\n"
     ]
    },
    {
     "name": "stderr",
     "output_type": "stream",
     "text": [
      "Training models:  70%|███████████████████████████████████████████████▌                    | 70/100 [33:41<14:36, 29.21s/station]"
     ]
    },
    {
     "name": "stdout",
     "output_type": "stream",
     "text": [
      "Mean Squared Error for station 13010: 0.0009257801650666576\n",
      "Valid indices for station 20002: [718, 712, 666, 681, 713, 648, 743, 661]\n",
      "Cross-Validation Score for station 20002: -3.544400597365934e-05\n"
     ]
    },
    {
     "name": "stderr",
     "output_type": "stream",
     "text": [
      "Training models:  71%|████████████████████████████████████████████████▎                   | 71/100 [34:05<13:22, 27.66s/station]"
     ]
    },
    {
     "name": "stdout",
     "output_type": "stream",
     "text": [
      "Mean Squared Error for station 20002: 0.0002799756533965335\n",
      "Valid indices for station 12150: [257, 1310, 192, 1130, 1150, 173, 139]\n",
      "Cross-Validation Score for station 12150: -5.6400719321808934e-05\n"
     ]
    },
    {
     "name": "stderr",
     "output_type": "stream",
     "text": [
      "Training models:  72%|████████████████████████████████████████████████▉                   | 72/100 [34:43<14:20, 30.74s/station]"
     ]
    },
    {
     "name": "stdout",
     "output_type": "stream",
     "text": [
      "Mean Squared Error for station 12150: 5.1015479505154684e-05\n",
      "Out of bounds indices for station 8004: [1463]\n",
      "Max valid index: 1460\n",
      "Valid indices for station 8004: [1430, 1383, 1392, 1391, 1384]\n",
      "Cross-Validation Score for station 8004: -0.0034678831573462703\n"
     ]
    },
    {
     "name": "stderr",
     "output_type": "stream",
     "text": [
      "Training models:  73%|█████████████████████████████████████████████████▋                  | 73/100 [35:21<14:49, 32.95s/station]"
     ]
    },
    {
     "name": "stdout",
     "output_type": "stream",
     "text": [
      "Mean Squared Error for station 8004: 0.0013095587378611831\n",
      "Valid indices for station 10110: [25, 59, 37, 49, 46, 36]\n",
      "Cross-Validation Score for station 10110: -0.00031561959708136677\n"
     ]
    },
    {
     "name": "stderr",
     "output_type": "stream",
     "text": [
      "Training models:  74%|██████████████████████████████████████████████████▎                 | 74/100 [35:49<13:40, 31.54s/station]"
     ]
    },
    {
     "name": "stdout",
     "output_type": "stream",
     "text": [
      "Mean Squared Error for station 10110: 7.875729509845304e-05\n",
      "Valid indices for station 10152: [17, 18, 67, 27, 22, 21, 55, 56, 54, 28, 29, 33, 45]\n",
      "Cross-Validation Score for station 10152: -0.00030095801447863985\n"
     ]
    },
    {
     "name": "stderr",
     "output_type": "stream",
     "text": [
      "Training models:  75%|███████████████████████████████████████████████████                 | 75/100 [36:18<12:50, 30.81s/station]"
     ]
    },
    {
     "name": "stdout",
     "output_type": "stream",
     "text": [
      "Mean Squared Error for station 10152: 0.0001780286901493234\n",
      "Valid indices for station 16014: [435, 434, 439]\n",
      "Valid indices for station 16014: [476, 446, 447, 435, 436, 473, 430, 434, 439, 431, 433, 432, 470]\n",
      "Cross-Validation Score for station 16014: -0.00016960784128182494\n"
     ]
    },
    {
     "name": "stderr",
     "output_type": "stream",
     "text": [
      "Training models:  76%|███████████████████████████████████████████████████▋                | 76/100 [36:45<11:50, 29.60s/station]"
     ]
    },
    {
     "name": "stdout",
     "output_type": "stream",
     "text": [
      "Mean Squared Error for station 16014: 0.00028872520647591794\n",
      "Valid indices for station 13515: [284, 276, 275, 254, 211]\n",
      "Cross-Validation Score for station 13515: -0.0005872076378572065\n"
     ]
    },
    {
     "name": "stderr",
     "output_type": "stream",
     "text": [
      "Training models:  77%|████████████████████████████████████████████████████▎               | 77/100 [37:15<11:25, 29.79s/station]"
     ]
    },
    {
     "name": "stdout",
     "output_type": "stream",
     "text": [
      "Mean Squared Error for station 13515: 0.00029000213112213266\n",
      "Valid indices for station 13027: [1211, 291, 231]\n",
      "Valid indices for station 13027: [290, 330, 1211, 1208, 291, 231, 229, 259, 1212, 232]\n",
      "Cross-Validation Score for station 13027: -5.490541682279603e-06\n"
     ]
    },
    {
     "name": "stderr",
     "output_type": "stream",
     "text": [
      "Training models:  78%|█████████████████████████████████████████████████████               | 78/100 [37:37<10:03, 27.45s/station]"
     ]
    },
    {
     "name": "stdout",
     "output_type": "stream",
     "text": [
      "Mean Squared Error for station 13027: 3.441097021730532e-07\n",
      "Valid indices for station 13048: [276, 246]\n",
      "Valid indices for station 13048: [290, 330, 292, 284, 289, 291, 229, 259, 232, 276, 275, 246, 254, 226, 228, 216, 227, 211]\n",
      "Cross-Validation Score for station 13048: -0.00020493791149886614\n"
     ]
    },
    {
     "name": "stderr",
     "output_type": "stream",
     "text": [
      "Training models:  79%|█████████████████████████████████████████████████████▋              | 79/100 [38:10<10:09, 29.04s/station]"
     ]
    },
    {
     "name": "stdout",
     "output_type": "stream",
     "text": [
      "Mean Squared Error for station 13048: 1.3868780729255428e-06\n",
      "Valid indices for station 17029: [519, 528, 527, 520, 515, 516, 529]\n",
      "Cross-Validation Score for station 17029: -0.005243054140452192\n"
     ]
    },
    {
     "name": "stderr",
     "output_type": "stream",
     "text": [
      "Training models:  80%|██████████████████████████████████████████████████████▍             | 80/100 [38:34<09:07, 27.38s/station]"
     ]
    },
    {
     "name": "stdout",
     "output_type": "stream",
     "text": [
      "Mean Squared Error for station 17029: 0.0009610521665561426\n",
      "Valid indices for station 13039: [261, 238, 239, 264, 262, 240, 237]\n",
      "Cross-Validation Score for station 13039: -0.00027019510994528143\n"
     ]
    },
    {
     "name": "stderr",
     "output_type": "stream",
     "text": [
      "Training models:  81%|███████████████████████████████████████████████████████             | 81/100 [38:57<08:20, 26.34s/station]"
     ]
    },
    {
     "name": "stdout",
     "output_type": "stream",
     "text": [
      "Mean Squared Error for station 13039: 0.00047879345187662264\n",
      "Valid indices for station 21118: [924, 812, 811, 925]\n",
      "Valid indices for station 21118: [926, 924, 809, 812, 811, 925, 541, 801, 810, 803]\n",
      "Cross-Validation Score for station 21118: -2.3083790944867906e-05\n"
     ]
    },
    {
     "name": "stderr",
     "output_type": "stream",
     "text": [
      "Training models:  82%|███████████████████████████████████████████████████████▊            | 82/100 [39:24<07:56, 26.47s/station]"
     ]
    },
    {
     "name": "stdout",
     "output_type": "stream",
     "text": [
      "Mean Squared Error for station 21118: 6.150737854814167e-08\n",
      "Valid indices for station 10004: [1012, 1019, 63, 758, 44, 2, 3, 7, 5, 19]\n",
      "Cross-Validation Score for station 10004: -0.0005655982726217724\n"
     ]
    },
    {
     "name": "stderr",
     "output_type": "stream",
     "text": [
      "Training models:  83%|████████████████████████████████████████████████████████▍           | 83/100 [40:02<08:25, 29.71s/station]"
     ]
    },
    {
     "name": "stdout",
     "output_type": "stream",
     "text": [
      "Mean Squared Error for station 10004: 0.0007707004947972577\n",
      "Valid indices for station 19025: [646, 665, 641, 636, 672, 637]\n",
      "Cross-Validation Score for station 19025: -0.00012955834991903404\n"
     ]
    },
    {
     "name": "stderr",
     "output_type": "stream",
     "text": [
      "Training models:  84%|█████████████████████████████████████████████████████████           | 84/100 [40:25<07:27, 27.97s/station]"
     ]
    },
    {
     "name": "stdout",
     "output_type": "stream",
     "text": [
      "Mean Squared Error for station 19025: 6.829673598179233e-05\n",
      "Valid indices for station 11103: [117, 104, 96, 1001, 83, 121, 115]\n",
      "Cross-Validation Score for station 11103: -0.00036539631733917375\n"
     ]
    },
    {
     "name": "stderr",
     "output_type": "stream",
     "text": [
      "Training models:  85%|█████████████████████████████████████████████████████████▊          | 85/100 [40:56<07:13, 28.89s/station]"
     ]
    },
    {
     "name": "stdout",
     "output_type": "stream",
     "text": [
      "Mean Squared Error for station 11103: 0.0001358340644890031\n",
      "Valid indices for station 10017: [7, 5, 16, 17, 18, 62, 67, 22, 6, 11, 15, 58, 23]\n",
      "Cross-Validation Score for station 10017: -6.632516908103583e-05\n"
     ]
    },
    {
     "name": "stderr",
     "output_type": "stream",
     "text": [
      "Training models:  86%|██████████████████████████████████████████████████████████▍         | 86/100 [41:21<06:25, 27.51s/station]"
     ]
    },
    {
     "name": "stdout",
     "output_type": "stream",
     "text": [
      "Mean Squared Error for station 10017: 2.083456089046913e-05\n",
      "Out of bounds indices for station 9029: [1465, 1468, 1461, 1477, 1470]\n",
      "Max valid index: 1460\n",
      "Valid indices for station 9029: [1455, 1456, 1460, 1459, 1457]\n",
      "Cross-Validation Score for station 9029: -0.0002473918354665959\n"
     ]
    },
    {
     "name": "stderr",
     "output_type": "stream",
     "text": [
      "Training models:  87%|███████████████████████████████████████████████████████████▏        | 87/100 [41:54<06:21, 29.35s/station]"
     ]
    },
    {
     "name": "stdout",
     "output_type": "stream",
     "text": [
      "Mean Squared Error for station 9029: 9.533098183578172e-06\n",
      "Valid indices for station 21203: [816, 1154, 823]\n",
      "Valid indices for station 21203: [894, 816, 1154, 1209, 826, 817, 318, 828, 825, 823, 1210]\n",
      "Cross-Validation Score for station 21203: -0.0002256273893580749\n"
     ]
    },
    {
     "name": "stderr",
     "output_type": "stream",
     "text": [
      "Training models:  88%|███████████████████████████████████████████████████████████▊        | 88/100 [42:21<05:41, 28.47s/station]"
     ]
    },
    {
     "name": "stdout",
     "output_type": "stream",
     "text": [
      "Mean Squared Error for station 21203: 2.481952600266677e-05\n",
      "Valid indices for station 5034: [1290, 1282, 1291, 1297, 1292, 213, 1305, 1308, 1289, 1294]\n",
      "Cross-Validation Score for station 5034: -0.0008960170389264654\n"
     ]
    },
    {
     "name": "stderr",
     "output_type": "stream",
     "text": [
      "Training models:  89%|████████████████████████████████████████████████████████████▌       | 89/100 [42:58<05:41, 31.04s/station]"
     ]
    },
    {
     "name": "stdout",
     "output_type": "stream",
     "text": [
      "Mean Squared Error for station 5034: 0.00016447533313156368\n",
      "Valid indices for station 14101: [338, 337, 319, 309, 277, 323, 307, 336, 1323]\n",
      "Cross-Validation Score for station 14101: -0.000760191124999025\n"
     ]
    },
    {
     "name": "stderr",
     "output_type": "stream",
     "text": [
      "Training models:  90%|█████████████████████████████████████████████████████████████▏      | 90/100 [43:22<04:50, 29.09s/station]"
     ]
    },
    {
     "name": "stdout",
     "output_type": "stream",
     "text": [
      "Mean Squared Error for station 14101: 0.000940176528277216\n",
      "Valid indices for station 21115: [801, 810]\n",
      "Valid indices for station 21115: [509, 812, 811, 925, 541, 801, 810, 803, 546, 550, 802, 815]\n",
      "Cross-Validation Score for station 21115: -0.0002074896913659648\n"
     ]
    },
    {
     "name": "stderr",
     "output_type": "stream",
     "text": [
      "Training models:  91%|█████████████████████████████████████████████████████████████▉      | 91/100 [43:52<04:21, 29.11s/station]"
     ]
    },
    {
     "name": "stdout",
     "output_type": "stream",
     "text": [
      "Mean Squared Error for station 21115: 0.00036880745777265005\n",
      "Valid indices for station 8008: [1394, 1392, 1391, 1384, 1393, 1385, 1428, 1432, 1386, 1381]\n",
      "Cross-Validation Score for station 8008: -7.027460000835683e-05\n"
     ]
    },
    {
     "name": "stderr",
     "output_type": "stream",
     "text": [
      "Training models:  92%|██████████████████████████████████████████████████████████████▌     | 92/100 [44:20<03:51, 28.94s/station]"
     ]
    },
    {
     "name": "stdout",
     "output_type": "stream",
     "text": [
      "Mean Squared Error for station 8008: 8.204024757478307e-05\n",
      "Valid indices for station 16009: [435, 430, 434, 439]\n",
      "Valid indices for station 16009: [447, 471, 435, 436, 473, 430, 434, 439, 431, 433, 432, 468, 428, 470, 469]\n",
      "Cross-Validation Score for station 16009: -0.0001434520622153482\n"
     ]
    },
    {
     "name": "stderr",
     "output_type": "stream",
     "text": [
      "Training models:  93%|███████████████████████████████████████████████████████████████▏    | 93/100 [44:37<02:58, 25.43s/station]"
     ]
    },
    {
     "name": "stdout",
     "output_type": "stream",
     "text": [
      "Mean Squared Error for station 16009: 2.2524924518518236e-05\n",
      "Valid indices for station 10153: [17, 18, 67, 27, 22, 21, 55, 56, 54, 28, 29, 33, 45, 60]\n",
      "Cross-Validation Score for station 10153: -1.3043731121662893e-05\n"
     ]
    },
    {
     "name": "stderr",
     "output_type": "stream",
     "text": [
      "Training models:  94%|███████████████████████████████████████████████████████████████▉    | 94/100 [45:07<02:40, 26.79s/station]"
     ]
    },
    {
     "name": "stdout",
     "output_type": "stream",
     "text": [
      "Mean Squared Error for station 10153: 8.578744923504566e-05\n",
      "Valid indices for station 21708: [867, 870]\n",
      "Valid indices for station 21708: [867, 866, 865, 869, 405, 870, 376, 423, 425, 418]\n",
      "Cross-Validation Score for station 21708: -0.001837328137992111\n"
     ]
    },
    {
     "name": "stderr",
     "output_type": "stream",
     "text": [
      "Training models:  95%|████████████████████████████████████████████████████████████████▌   | 95/100 [45:33<02:11, 26.38s/station]"
     ]
    },
    {
     "name": "stdout",
     "output_type": "stream",
     "text": [
      "Mean Squared Error for station 21708: 9.712514100412426e-05\n",
      "Valid indices for station 20039: [103, 100, 756, 677, 676, 715, 717, 710]\n",
      "Cross-Validation Score for station 20039: -0.0013973969072046096\n"
     ]
    },
    {
     "name": "stderr",
     "output_type": "stream",
     "text": [
      "Training models:  96%|█████████████████████████████████████████████████████████████████▎  | 96/100 [45:54<01:39, 24.81s/station]"
     ]
    },
    {
     "name": "stdout",
     "output_type": "stream",
     "text": [
      "Mean Squared Error for station 20039: 0.0002528719589312643\n",
      "Valid indices for station 41210: [1164, 1163, 1162]\n",
      "Valid indices for station 41210: [1164, 1158, 1163, 1162, 1159]\n",
      "Cross-Validation Score for station 41210: -0.0004042328681097684\n"
     ]
    },
    {
     "name": "stderr",
     "output_type": "stream",
     "text": [
      "Training models:  97%|█████████████████████████████████████████████████████████████████▉  | 97/100 [46:13<01:09, 23.14s/station]"
     ]
    },
    {
     "name": "stdout",
     "output_type": "stream",
     "text": [
      "Mean Squared Error for station 41210: 0.0001736864123169061\n",
      "Valid indices for station 42304: [1206]\n",
      "Valid indices for station 42304: [1207, 1206]\n",
      "Valid indices for station 42304: [1207, 1206, 1204, 1205]\n",
      "Valid indices for station 42304: [893, 932, 1207, 1206, 1204, 1205, 892, 1203]\n",
      "Cross-Validation Score for station 42304: -0.00012530961611470747\n"
     ]
    },
    {
     "name": "stderr",
     "output_type": "stream",
     "text": [
      "Training models:  98%|██████████████████████████████████████████████████████████████████▋ | 98/100 [46:45<00:51, 25.70s/station]"
     ]
    },
    {
     "name": "stdout",
     "output_type": "stream",
     "text": [
      "Mean Squared Error for station 42304: 4.4617408306881474e-06\n",
      "Valid indices for station 31021: [1029]\n",
      "Valid indices for station 31021: [1016, 1018, 1029, 1028, 1017, 1030, 1023, 1031]\n",
      "Cross-Validation Score for station 31021: -0.0008366933778417302\n"
     ]
    },
    {
     "name": "stderr",
     "output_type": "stream",
     "text": [
      "Training models:  99%|███████████████████████████████████████████████████████████████████▎| 99/100 [47:14<00:26, 26.79s/station]"
     ]
    },
    {
     "name": "stdout",
     "output_type": "stream",
     "text": [
      "Mean Squared Error for station 31021: 0.00018420867766844254\n",
      "Valid indices for station 44002: [1231]\n",
      "Valid indices for station 44002: [1231, 1230]\n",
      "Valid indices for station 44002: [1232, 1233, 1231, 1188, 1197, 1230]\n",
      "Cross-Validation Score for station 44002: -3.0546976561203914e-05\n"
     ]
    },
    {
     "name": "stderr",
     "output_type": "stream",
     "text": [
      "Training models: 100%|███████████████████████████████████████████████████████████████████| 100/100 [47:40<00:00, 28.61s/station]"
     ]
    },
    {
     "name": "stdout",
     "output_type": "stream",
     "text": [
      "Mean Squared Error for station 44002: 1.0746753190925956e-07\n"
     ]
    },
    {
     "name": "stderr",
     "output_type": "stream",
     "text": [
      "\n"
     ]
    },
    {
     "name": "stdout",
     "output_type": "stream",
     "text": [
      "Intermediate results saved for batch 5\n",
      "Training models...\n",
      "Columns after feature creation: Index(['stationcode', 'name', 'is_installed', 'capacity', 'numdocksavailable',\n",
      "       'numbikesavailable', 'mechanical', 'ebike', 'is_renting',\n",
      "       'is_returning', 'duedate', 'coordonnees_geo',\n",
      "       'nom_arrondissement_communes', 'date', 'lat', 'lon', 'hour',\n",
      "       'day_of_week', 'lag_1_hour', 'lag_1_day', 'rolling_mean_7_days',\n",
      "       'rolling_mean_30_days', 'normalized_bikes_available',\n",
      "       'normalized_docks_available', 'usage_ratio',\n",
      "       'capacity_hour_interaction', 'capacity_day_interaction',\n",
      "       'avg_bikes_hour_day'],\n",
      "      dtype='object')\n"
     ]
    },
    {
     "name": "stderr",
     "output_type": "stream",
     "text": [
      "Training models:   0%|                                                                             | 0/100 [00:00<?, ?station/s]"
     ]
    },
    {
     "name": "stdout",
     "output_type": "stream",
     "text": [
      "Valid indices for station 16115: [477]\n",
      "Valid indices for station 16115: [459, 444, 457, 456, 477, 460, 451, 450, 455, 478]\n",
      "Cross-Validation Score for station 16115: -0.0021324973625099835\n"
     ]
    },
    {
     "name": "stderr",
     "output_type": "stream",
     "text": [
      "Training models:   1%|▋                                                                    | 1/100 [00:25<41:39, 25.25s/station]"
     ]
    },
    {
     "name": "stdout",
     "output_type": "stream",
     "text": [
      "Mean Squared Error for station 16115: 0.00021404651251889813\n",
      "Valid indices for station 15123: [366, 353, 354, 404, 357, 355, 415]\n",
      "Cross-Validation Score for station 15123: -0.0013143818938651773\n"
     ]
    },
    {
     "name": "stderr",
     "output_type": "stream",
     "text": [
      "Training models:   2%|█▍                                                                   | 2/100 [01:00<51:17, 31.40s/station]"
     ]
    },
    {
     "name": "stdout",
     "output_type": "stream",
     "text": [
      "Mean Squared Error for station 15123: 0.0011029199041635717\n",
      "Valid indices for station 13121: [267, 1183]\n",
      "Valid indices for station 13121: [273, 248, 267, 194, 163, 1200, 1183]\n",
      "Cross-Validation Score for station 13121: -0.004044870730396377\n"
     ]
    },
    {
     "name": "stderr",
     "output_type": "stream",
     "text": [
      "Training models:   3%|██                                                                   | 3/100 [01:39<55:43, 34.47s/station]"
     ]
    },
    {
     "name": "stdout",
     "output_type": "stream",
     "text": [
      "Mean Squared Error for station 13121: 0.001653929241078908\n",
      "Valid indices for station 10012: [7, 16, 17, 18, 62, 6, 1, 9, 11, 14, 15, 58, 23]\n",
      "Cross-Validation Score for station 10012: -0.000164466656541043\n"
     ]
    },
    {
     "name": "stderr",
     "output_type": "stream",
     "text": [
      "Training models:   4%|██▊                                                                  | 4/100 [01:59<46:34, 29.11s/station]"
     ]
    },
    {
     "name": "stdout",
     "output_type": "stream",
     "text": [
      "Mean Squared Error for station 10012: 0.00011539764881744151\n",
      "Valid indices for station 12105: [174, 175, 177]\n",
      "Valid indices for station 12105: [224, 225, 268, 272, 142, 173, 141, 174, 193, 143, 172, 157, 144, 175, 177, 147, 156, 171, 140]\n",
      "Cross-Validation Score for station 12105: -0.0015240280497201245\n"
     ]
    },
    {
     "name": "stderr",
     "output_type": "stream",
     "text": [
      "Training models:   5%|███▍                                                                 | 5/100 [02:31<47:44, 30.15s/station]"
     ]
    },
    {
     "name": "stdout",
     "output_type": "stream",
     "text": [
      "Mean Squared Error for station 12105: 0.000670086098260516\n",
      "Out of bounds indices for station 9101: [1476, 1469, 1474, 1478]\n",
      "Max valid index: 1460\n",
      "Valid indices for station 9101: [1445, 1446, 1447, 1443, 1441, 1442, 1440]\n",
      "Cross-Validation Score for station 9101: -0.0016037337693472458\n"
     ]
    },
    {
     "name": "stderr",
     "output_type": "stream",
     "text": [
      "Training models:   6%|████▏                                                                | 6/100 [02:53<42:24, 27.07s/station]"
     ]
    },
    {
     "name": "stdout",
     "output_type": "stream",
     "text": [
      "Mean Squared Error for station 9101: 0.00526865299426615\n",
      "Valid indices for station 15043: [424, 333, 374, 377]\n",
      "Valid indices for station 15043: [868, 901, 375, 378, 409, 902, 299, 424, 320, 333, 374, 377, 372, 371, 414, 370]\n",
      "Cross-Validation Score for station 15043: -6.187446031680747e-05\n"
     ]
    },
    {
     "name": "stderr",
     "output_type": "stream",
     "text": [
      "Training models:   7%|████▊                                                                | 7/100 [03:17<40:45, 26.30s/station]"
     ]
    },
    {
     "name": "stdout",
     "output_type": "stream",
     "text": [
      "Mean Squared Error for station 15043: 3.889869447810787e-06\n",
      "Valid indices for station 17039: [551, 521, 522, 519, 523, 525]\n",
      "Cross-Validation Score for station 17039: -0.00031094356340377876\n"
     ]
    },
    {
     "name": "stderr",
     "output_type": "stream",
     "text": [
      "Training models:   8%|█████▌                                                               | 8/100 [03:45<41:07, 26.83s/station]"
     ]
    },
    {
     "name": "stdout",
     "output_type": "stream",
     "text": [
      "Mean Squared Error for station 17039: 9.518083677863244e-06\n",
      "Valid indices for station 5107: [1288, 1287, 1284, 1286, 1285, 1149, 1307, 1128]\n",
      "Cross-Validation Score for station 5107: -0.00019003998242553556\n"
     ]
    },
    {
     "name": "stderr",
     "output_type": "stream",
     "text": [
      "Training models:   9%|██████▏                                                              | 9/100 [04:13<40:59, 27.03s/station]"
     ]
    },
    {
     "name": "stdout",
     "output_type": "stream",
     "text": [
      "Mean Squared Error for station 5107: 1.4918934370773064e-05\n",
      "Valid indices for station 22604: [918]\n",
      "Valid indices for station 22604: [916, 918, 944, 942]\n",
      "Valid indices for station 22604: [949, 948, 916, 918, 915, 944, 942, 945, 941]\n",
      "Cross-Validation Score for station 22604: -0.0002369319611938244\n"
     ]
    },
    {
     "name": "stderr",
     "output_type": "stream",
     "text": [
      "Training models:  10%|██████▊                                                             | 10/100 [04:32<36:53, 24.59s/station]"
     ]
    },
    {
     "name": "stdout",
     "output_type": "stream",
     "text": [
      "Mean Squared Error for station 22604: 0.0001239483481973446\n",
      "Valid indices for station 20009: [754, 720, 688, 731, 742, 761]\n",
      "Cross-Validation Score for station 20009: -8.499943385651663e-05\n"
     ]
    },
    {
     "name": "stderr",
     "output_type": "stream",
     "text": [
      "Training models:  11%|███████▍                                                            | 11/100 [04:56<36:11, 24.40s/station]"
     ]
    },
    {
     "name": "stdout",
     "output_type": "stream",
     "text": [
      "Mean Squared Error for station 20009: 8.294813030868064e-06\n",
      "Valid indices for station 16101: [468, 467, 551, 428, 525]\n",
      "Cross-Validation Score for station 16101: -0.00043921122738121933\n"
     ]
    },
    {
     "name": "stderr",
     "output_type": "stream",
     "text": [
      "Training models:  12%|████████▏                                                           | 12/100 [05:21<35:59, 24.54s/station]"
     ]
    },
    {
     "name": "stdout",
     "output_type": "stream",
     "text": [
      "Mean Squared Error for station 16101: 0.0001302054297741206\n",
      "Valid indices for station 17033: [518, 528, 469, 427, 1423, 1400, 1424]\n",
      "Cross-Validation Score for station 17033: -0.009105449960304487\n"
     ]
    },
    {
     "name": "stderr",
     "output_type": "stream",
     "text": [
      "Training models:  13%|████████▊                                                           | 13/100 [05:33<30:05, 20.76s/station]"
     ]
    },
    {
     "name": "stdout",
     "output_type": "stream",
     "text": [
      "Mean Squared Error for station 17033: 0.0002482505708534172\n",
      "Valid indices for station 21213: [816, 1209, 825, 823, 1210]\n",
      "Cross-Validation Score for station 21213: -0.0005052261991848126\n"
     ]
    },
    {
     "name": "stderr",
     "output_type": "stream",
     "text": [
      "Training models:  14%|█████████▌                                                          | 14/100 [05:51<28:35, 19.95s/station]"
     ]
    },
    {
     "name": "stdout",
     "output_type": "stream",
     "text": [
      "Mean Squared Error for station 21213: 0.00012734714463066377\n",
      "Valid indices for station 42305: [1207]\n",
      "Valid indices for station 42305: [1207, 1206, 1205]\n",
      "Valid indices for station 42305: [1207, 1206, 1205, 1270]\n",
      "Valid indices for station 42305: [1207, 1206, 1205, 1203, 1272, 1270]\n",
      "Cross-Validation Score for station 42305: -9.106295635034537e-05\n"
     ]
    },
    {
     "name": "stderr",
     "output_type": "stream",
     "text": [
      "Training models:  15%|██████████▏                                                         | 15/100 [06:15<30:14, 21.34s/station]"
     ]
    },
    {
     "name": "stdout",
     "output_type": "stream",
     "text": [
      "Mean Squared Error for station 42305: 1.1499016978900016e-05\n",
      "Valid indices for station 11032: [88, 101, 103, 123, 102, 756, 715]\n",
      "Cross-Validation Score for station 11032: -0.000499675783372535\n"
     ]
    },
    {
     "name": "stderr",
     "output_type": "stream",
     "text": [
      "Training models:  16%|██████████▉                                                         | 16/100 [06:45<33:27, 23.90s/station]"
     ]
    },
    {
     "name": "stdout",
     "output_type": "stream",
     "text": [
      "Mean Squared Error for station 11032: 2.3984005755211736e-05\n",
      "Valid indices for station 16003: [885, 429]\n",
      "Valid indices for station 16003: [471, 480, 886, 489, 885, 881, 429, 468, 467, 551, 428, 525, 533, 534]\n",
      "Cross-Validation Score for station 16003: -0.001554598409721017\n"
     ]
    },
    {
     "name": "stderr",
     "output_type": "stream",
     "text": [
      "Training models:  17%|███████████▌                                                        | 17/100 [07:10<33:23, 24.14s/station]"
     ]
    },
    {
     "name": "stdout",
     "output_type": "stream",
     "text": [
      "Mean Squared Error for station 16003: 0.0004903715319783087\n",
      "Valid indices for station 21028: [790, 779]\n",
      "Valid indices for station 21028: [872, 831, 790, 777, 791, 779, 780, 778, 787]\n",
      "Cross-Validation Score for station 21028: -0.0002953815864076152\n"
     ]
    },
    {
     "name": "stderr",
     "output_type": "stream",
     "text": [
      "Training models:  18%|████████████▏                                                       | 18/100 [07:37<34:06, 24.96s/station]"
     ]
    },
    {
     "name": "stdout",
     "output_type": "stream",
     "text": [
      "Mean Squared Error for station 21028: 0.00011233725976441384\n",
      "Valid indices for station 20007: [680, 719, 692, 686, 749, 740, 693]\n",
      "Cross-Validation Score for station 20007: -0.0010001555619514682\n"
     ]
    },
    {
     "name": "stderr",
     "output_type": "stream",
     "text": [
      "Training models:  19%|████████████▉                                                       | 19/100 [08:08<36:17, 26.88s/station]"
     ]
    },
    {
     "name": "stdout",
     "output_type": "stream",
     "text": [
      "Mean Squared Error for station 20007: 0.0001414392059553347\n",
      "Valid indices for station 32301: [1077, 1074]\n",
      "Valid indices for station 32301: [1077, 1074]\n",
      "Valid indices for station 32301: [1079, 1077, 1074, 1076, 1075]\n",
      "Cross-Validation Score for station 32301: -0.00013169339528528226\n"
     ]
    },
    {
     "name": "stderr",
     "output_type": "stream",
     "text": [
      "Training models:  20%|█████████████▌                                                      | 20/100 [08:33<34:57, 26.22s/station]"
     ]
    },
    {
     "name": "stdout",
     "output_type": "stream",
     "text": [
      "Mean Squared Error for station 32301: 3.272003216939999e-05\n",
      "Valid indices for station 10018: [7, 5, 16, 19, 17, 18, 62, 67, 22, 55, 11, 15, 58, 56, 54]\n",
      "Cross-Validation Score for station 10018: -9.776353281996039e-05\n"
     ]
    },
    {
     "name": "stderr",
     "output_type": "stream",
     "text": [
      "Training models:  21%|██████████████▎                                                     | 21/100 [09:00<35:03, 26.63s/station]"
     ]
    },
    {
     "name": "stdout",
     "output_type": "stream",
     "text": [
      "Mean Squared Error for station 10018: 1.6989197335248686e-05\n",
      "Valid indices for station 21219: [817, 318, 828, 825]\n",
      "Valid indices for station 21219: [816, 1154, 819, 826, 817, 296, 295, 318, 828, 825, 313, 823, 326, 297, 293, 294]\n",
      "Cross-Validation Score for station 21219: -0.000124048367896442\n"
     ]
    },
    {
     "name": "stderr",
     "output_type": "stream",
     "text": [
      "Training models:  22%|██████████████▉                                                     | 22/100 [09:29<35:17, 27.15s/station]"
     ]
    },
    {
     "name": "stdout",
     "output_type": "stream",
     "text": [
      "Mean Squared Error for station 21219: 8.808138748965683e-07\n",
      "Valid indices for station 16030: [485, 453]\n",
      "Valid indices for station 16030: [386, 456, 460, 451, 450, 455, 485, 478, 453, 400, 388, 387, 392, 398, 452, 449, 448, 454]\n",
      "Cross-Validation Score for station 16030: -0.11411665017472203\n"
     ]
    },
    {
     "name": "stderr",
     "output_type": "stream",
     "text": [
      "Training models:  23%|███████████████▋                                                    | 23/100 [10:07<38:56, 30.34s/station]"
     ]
    },
    {
     "name": "stdout",
     "output_type": "stream",
     "text": [
      "Mean Squared Error for station 16030: 3.3584004921956704e-05\n",
      "Valid indices for station 31025: [1032, 1033]\n",
      "Valid indices for station 31025: [1031, 1032, 1033, 1075, 1024]\n",
      "Cross-Validation Score for station 31025: -0.00041450679499324916\n"
     ]
    },
    {
     "name": "stderr",
     "output_type": "stream",
     "text": [
      "Training models:  24%|████████████████▎                                                   | 24/100 [10:30<35:49, 28.28s/station]"
     ]
    },
    {
     "name": "stdout",
     "output_type": "stream",
     "text": [
      "Mean Squared Error for station 31025: 0.0004180932881402587\n",
      "Valid indices for station 13011: [217, 218, 213, 1305, 256]\n",
      "Cross-Validation Score for station 13011: -0.0018828427376039881\n"
     ]
    },
    {
     "name": "stderr",
     "output_type": "stream",
     "text": [
      "Training models:  25%|█████████████████                                                   | 25/100 [10:59<35:39, 28.53s/station]"
     ]
    },
    {
     "name": "stdout",
     "output_type": "stream",
     "text": [
      "Mean Squared Error for station 13011: 0.0005134416094187241\n",
      "Valid indices for station 5014: [1290, 1282, 1281, 1316, 1308, 1289, 1283]\n",
      "Cross-Validation Score for station 5014: -0.0003842015909806752\n"
     ]
    },
    {
     "name": "stderr",
     "output_type": "stream",
     "text": [
      "Training models:  26%|█████████████████▋                                                  | 26/100 [11:24<34:01, 27.59s/station]"
     ]
    },
    {
     "name": "stdout",
     "output_type": "stream",
     "text": [
      "Mean Squared Error for station 5014: 1.1879525228629699e-05\n",
      "Valid indices for station 13033: [1216, 234, 235]\n",
      "Valid indices for station 13033: [1215, 1216, 1217, 1214, 230, 260, 233, 234, 235, 261, 238, 239, 264, 1192, 236]\n",
      "Cross-Validation Score for station 13033: -8.083560952097106e-05\n"
     ]
    },
    {
     "name": "stderr",
     "output_type": "stream",
     "text": [
      "Training models:  27%|██████████████████▎                                                 | 27/100 [11:51<33:11, 27.28s/station]"
     ]
    },
    {
     "name": "stdout",
     "output_type": "stream",
     "text": [
      "Mean Squared Error for station 13033: 5.891841343346385e-05\n",
      "Valid indices for station 20108: [723, 733, 746, 701, 703, 702, 721]\n",
      "Cross-Validation Score for station 20108: -0.00028293504794622625\n"
     ]
    },
    {
     "name": "stderr",
     "output_type": "stream",
     "text": [
      "Training models:  28%|███████████████████                                                 | 28/100 [12:18<32:45, 27.29s/station]"
     ]
    },
    {
     "name": "stdout",
     "output_type": "stream",
     "text": [
      "Mean Squared Error for station 20108: 0.0001919455821356454\n",
      "Valid indices for station 20122: [733, 697, 746, 761, 730, 702, 721, 739]\n",
      "Cross-Validation Score for station 20122: -0.0005704387390742411\n"
     ]
    },
    {
     "name": "stderr",
     "output_type": "stream",
     "text": [
      "Training models:  29%|███████████████████▋                                                | 29/100 [12:45<32:05, 27.12s/station]"
     ]
    },
    {
     "name": "stdout",
     "output_type": "stream",
     "text": [
      "Mean Squared Error for station 20122: 2.323665659863914e-05\n",
      "Valid indices for station 16020: [444]\n",
      "Valid indices for station 16020: [444, 456, 477, 451, 450, 478, 484, 443]\n",
      "Cross-Validation Score for station 16020: -0.0017198132427226065\n"
     ]
    },
    {
     "name": "stderr",
     "output_type": "stream",
     "text": [
      "Training models:  30%|████████████████████▍                                               | 30/100 [13:12<31:29, 26.99s/station]"
     ]
    },
    {
     "name": "stdout",
     "output_type": "stream",
     "text": [
      "Mean Squared Error for station 16020: 0.000155619458625577\n",
      "Valid indices for station 13126: [237, 271, 270, 242, 241, 222]\n",
      "Cross-Validation Score for station 13126: -9.74594471162834e-05\n"
     ]
    },
    {
     "name": "stderr",
     "output_type": "stream",
     "text": [
      "Training models:  31%|█████████████████████                                               | 31/100 [13:35<29:52, 25.98s/station]"
     ]
    },
    {
     "name": "stdout",
     "output_type": "stream",
     "text": [
      "Mean Squared Error for station 13126: 8.411455967611343e-05\n",
      "Valid indices for station 11038: [1003, 114, 1006, 10, 1004, 108, 109, 116, 111, 110, 113, 107, 129]\n",
      "Cross-Validation Score for station 11038: -0.0002984183633841993\n"
     ]
    },
    {
     "name": "stderr",
     "output_type": "stream",
     "text": [
      "Training models:  32%|█████████████████████▊                                              | 32/100 [14:15<34:03, 30.06s/station]"
     ]
    },
    {
     "name": "stdout",
     "output_type": "stream",
     "text": [
      "Mean Squared Error for station 11038: 0.00010235682081780516\n",
      "Valid indices for station 8020: [1395, 510, 545, 1418, 1396, 552, 531]\n",
      "Cross-Validation Score for station 8020: -0.01705632271878649\n"
     ]
    },
    {
     "name": "stderr",
     "output_type": "stream",
     "text": [
      "Training models:  33%|██████████████████████▍                                             | 33/100 [14:39<31:30, 28.21s/station]"
     ]
    },
    {
     "name": "stdout",
     "output_type": "stream",
     "text": [
      "Mean Squared Error for station 8020: 2.0315704730391988e-05\n",
      "Valid indices for station 13128: [224, 225, 268, 272]\n",
      "Valid indices for station 13128: [241, 223, 255, 250, 251, 252, 220, 249, 247, 224, 225, 268, 272, 269, 142, 141, 174, 193, 221, 157, 175, 177, 156]\n",
      "Cross-Validation Score for station 13128: -0.0011334786022753087\n"
     ]
    },
    {
     "name": "stderr",
     "output_type": "stream",
     "text": [
      "Training models:  34%|███████████████████████                                             | 34/100 [14:50<25:25, 23.12s/station]"
     ]
    },
    {
     "name": "stdout",
     "output_type": "stream",
     "text": [
      "Mean Squared Error for station 13128: 0.0019132764277060166\n",
      "Valid indices for station 12043: [147, 156, 171, 158, 178]\n",
      "Cross-Validation Score for station 12043: -0.0001555949405381458\n"
     ]
    },
    {
     "name": "stderr",
     "output_type": "stream",
     "text": [
      "Training models:  35%|███████████████████████▊                                            | 35/100 [15:28<29:51, 27.56s/station]"
     ]
    },
    {
     "name": "stdout",
     "output_type": "stream",
     "text": [
      "Mean Squared Error for station 12043: 0.00020754194536823134\n",
      "Valid indices for station 15023: [353, 354, 357, 355, 415, 345, 344, 356, 1379]\n",
      "Cross-Validation Score for station 15023: -0.0002404402081767238\n"
     ]
    },
    {
     "name": "stderr",
     "output_type": "stream",
     "text": [
      "Training models:  36%|████████████████████████▍                                           | 36/100 [15:56<29:25, 27.58s/station]"
     ]
    },
    {
     "name": "stdout",
     "output_type": "stream",
     "text": [
      "Mean Squared Error for station 15023: 0.0002562177430787081\n",
      "Valid indices for station 18027: [568, 571, 570, 579, 585, 578, 584, 577]\n",
      "Cross-Validation Score for station 18027: -0.00020981037880425432\n"
     ]
    },
    {
     "name": "stderr",
     "output_type": "stream",
     "text": [
      "Training models:  37%|█████████████████████████▏                                          | 37/100 [16:27<30:00, 28.58s/station]"
     ]
    },
    {
     "name": "stdout",
     "output_type": "stream",
     "text": [
      "Mean Squared Error for station 18027: 4.605017320534385e-05\n",
      "Valid indices for station 4001: [1315, 1312, 1126, 1127, 1128, 1140, 1141]\n",
      "Cross-Validation Score for station 4001: -0.00010050875330238439\n"
     ]
    },
    {
     "name": "stderr",
     "output_type": "stream",
     "text": [
      "Training models:  38%|█████████████████████████▊                                          | 38/100 [16:55<29:36, 28.65s/station]"
     ]
    },
    {
     "name": "stdout",
     "output_type": "stream",
     "text": [
      "Mean Squared Error for station 4001: 0.00021563066792559834\n",
      "Valid indices for station 23003: [923]\n",
      "Valid indices for station 23003: [921, 922, 961, 923, 928, 930, 924, 975]\n",
      "Cross-Validation Score for station 23003: -0.0006718804049041157\n"
     ]
    },
    {
     "name": "stderr",
     "output_type": "stream",
     "text": [
      "Training models:  39%|██████████████████████████▌                                         | 39/100 [17:23<28:55, 28.44s/station]"
     ]
    },
    {
     "name": "stdout",
     "output_type": "stream",
     "text": [
      "Mean Squared Error for station 23003: 0.00014042275089032075\n",
      "Valid indices for station 4016: [1128, 1138, 1139, 1140, 1146, 1141, 1142, 1137, 1134]\n",
      "Cross-Validation Score for station 4016: -0.0007821360668161479\n"
     ]
    },
    {
     "name": "stderr",
     "output_type": "stream",
     "text": [
      "Training models:  40%|███████████████████████████▏                                        | 40/100 [18:02<31:35, 31.60s/station]"
     ]
    },
    {
     "name": "stdout",
     "output_type": "stream",
     "text": [
      "Mean Squared Error for station 4016: 0.0005991280934822106\n",
      "Valid indices for station 11021: [126, 748, 89, 92, 122]\n",
      "Cross-Validation Score for station 11021: -8.546193635543165e-05\n"
     ]
    },
    {
     "name": "stderr",
     "output_type": "stream",
     "text": [
      "Training models:  41%|███████████████████████████▉                                        | 41/100 [18:23<27:46, 28.24s/station]"
     ]
    },
    {
     "name": "stdout",
     "output_type": "stream",
     "text": [
      "Mean Squared Error for station 11021: 0.00014678611083659344\n",
      "Valid indices for station 17023: [532, 509, 508, 541]\n",
      "Valid indices for station 17023: [926, 514, 513, 529, 532, 512, 509, 508, 507, 925, 541, 801, 810, 506, 542, 548, 546]\n",
      "Cross-Validation Score for station 17023: -8.864912932902511e-05\n"
     ]
    },
    {
     "name": "stderr",
     "output_type": "stream",
     "text": [
      "Training models:  42%|████████████████████████████▌                                       | 42/100 [18:53<27:50, 28.80s/station]"
     ]
    },
    {
     "name": "stdout",
     "output_type": "stream",
     "text": [
      "Mean Squared Error for station 17023: 0.0002083806646347392\n",
      "Valid indices for station 19108: [615, 660, 657, 659]\n",
      "Valid indices for station 19108: [619, 669, 616, 620, 670, 595, 615, 1094, 660, 657, 659, 622, 621, 652, 643]\n",
      "Cross-Validation Score for station 19108: -0.0014821150948381237\n"
     ]
    },
    {
     "name": "stderr",
     "output_type": "stream",
     "text": [
      "Training models:  43%|█████████████████████████████▏                                      | 43/100 [19:21<27:11, 28.62s/station]"
     ]
    },
    {
     "name": "stdout",
     "output_type": "stream",
     "text": [
      "Mean Squared Error for station 19108: 6.093541181911332e-05\n",
      "Valid indices for station 44007: [1236]\n",
      "Valid indices for station 44007: [1237, 1236, 1232, 1234, 1233]\n",
      "Cross-Validation Score for station 44007: -9.739410282565863e-05\n"
     ]
    },
    {
     "name": "stderr",
     "output_type": "stream",
     "text": [
      "Training models:  44%|█████████████████████████████▉                                      | 44/100 [19:49<26:34, 28.47s/station]"
     ]
    },
    {
     "name": "stdout",
     "output_type": "stream",
     "text": [
      "Mean Squared Error for station 44007: 0.00016785112555264231\n",
      "Valid indices for station 6008: [1328, 1325, 1335, 1326, 1324, 1327, 1348]\n",
      "Cross-Validation Score for station 6008: -0.00039868889109399163\n"
     ]
    },
    {
     "name": "stderr",
     "output_type": "stream",
     "text": [
      "Training models:  45%|██████████████████████████████▌                                     | 45/100 [20:16<25:39, 27.99s/station]"
     ]
    },
    {
     "name": "stdout",
     "output_type": "stream",
     "text": [
      "Mean Squared Error for station 6008: 4.485043397396183e-05\n",
      "Valid indices for station 14010: [294, 287, 327, 301]\n",
      "Valid indices for station 14010: [296, 295, 318, 313, 326, 297, 300, 302, 293, 294, 331, 287, 314, 327, 301, 285, 305, 310, 304, 308, 328, 282, 288, 286]\n",
      "Cross-Validation Score for station 14010: -0.002276006029333301\n"
     ]
    },
    {
     "name": "stderr",
     "output_type": "stream",
     "text": [
      "Training models:  46%|███████████████████████████████▎                                    | 46/100 [20:46<25:43, 28.58s/station]"
     ]
    },
    {
     "name": "stdout",
     "output_type": "stream",
     "text": [
      "Mean Squared Error for station 14010: 0.00023654208557992635\n",
      "Valid indices for station 35001: [1106]\n",
      "Valid indices for station 35001: [1125, 1107, 1106, 1090]\n",
      "Valid indices for station 35001: [1108, 1125, 1084, 1107, 1106, 1089, 1109, 1121, 1090]\n",
      "Cross-Validation Score for station 35001: -6.596106648050941e-08\n"
     ]
    },
    {
     "name": "stderr",
     "output_type": "stream",
     "text": [
      "Training models:  47%|███████████████████████████████▉                                    | 47/100 [21:10<24:06, 27.30s/station]"
     ]
    },
    {
     "name": "stdout",
     "output_type": "stream",
     "text": [
      "Mean Squared Error for station 35001: 0.0\n",
      "Valid indices for station 13109: [229, 259, 232, 230, 228]\n",
      "Cross-Validation Score for station 13109: -8.51300942622314e-05\n"
     ]
    },
    {
     "name": "stderr",
     "output_type": "stream",
     "text": [
      "Training models:  48%|████████████████████████████████▋                                   | 48/100 [21:34<22:44, 26.25s/station]"
     ]
    },
    {
     "name": "stdout",
     "output_type": "stream",
     "text": [
      "Mean Squared Error for station 13109: 8.839194934964722e-07\n",
      "Valid indices for station 21204: [819, 826, 817, 828]\n",
      "Valid indices for station 21204: [820, 894, 816, 1154, 824, 819, 826, 817, 296, 295, 318, 828, 825, 823, 293]\n",
      "Cross-Validation Score for station 21204: -0.0005170645234946529\n"
     ]
    },
    {
     "name": "stderr",
     "output_type": "stream",
     "text": [
      "Training models:  49%|█████████████████████████████████▎                                  | 49/100 [21:59<21:57, 25.84s/station]"
     ]
    },
    {
     "name": "stdout",
     "output_type": "stream",
     "text": [
      "Mean Squared Error for station 21204: 5.2050107434208026e-05\n",
      "Valid indices for station 35007: [1112, 1122]\n",
      "Valid indices for station 35007: [1117, 1113, 1119, 1111, 1118, 1112, 1122, 1123]\n",
      "Cross-Validation Score for station 35007: -0.0003070001115370967\n"
     ]
    },
    {
     "name": "stderr",
     "output_type": "stream",
     "text": [
      "Training models:  50%|██████████████████████████████████                                  | 50/100 [22:29<22:28, 26.96s/station]"
     ]
    },
    {
     "name": "stdout",
     "output_type": "stream",
     "text": [
      "Mean Squared Error for station 35007: 1.3392355969287348e-06\n",
      "Valid indices for station 43001: [1177, 1176, 1218, 1013, 1179]\n",
      "Cross-Validation Score for station 43001: -0.00024998688590655363\n"
     ]
    },
    {
     "name": "stderr",
     "output_type": "stream",
     "text": [
      "Training models:  51%|██████████████████████████████████▋                                 | 51/100 [22:58<22:33, 27.61s/station]"
     ]
    },
    {
     "name": "stdout",
     "output_type": "stream",
     "text": [
      "Mean Squared Error for station 43001: 0.00014497147927493897\n",
      "Valid indices for station 22206: [892]\n",
      "Valid indices for station 22206: [893, 1204, 892, 895]\n",
      "Valid indices for station 22206: [893, 1204, 892, 895, 894, 1203]\n",
      "Cross-Validation Score for station 22206: -0.0008846694636219296\n"
     ]
    },
    {
     "name": "stderr",
     "output_type": "stream",
     "text": [
      "Training models:  52%|███████████████████████████████████▎                                | 52/100 [23:26<22:11, 27.74s/station]"
     ]
    },
    {
     "name": "stdout",
     "output_type": "stream",
     "text": [
      "Mean Squared Error for station 22206: 3.184939387227118e-05\n",
      "Valid indices for station 13106: [216, 227, 258, 217, 215, 274]\n",
      "Cross-Validation Score for station 13106: -0.0004659026347165157\n"
     ]
    },
    {
     "name": "stderr",
     "output_type": "stream",
     "text": [
      "Training models:  53%|████████████████████████████████████                                | 53/100 [23:47<20:18, 25.94s/station]"
     ]
    },
    {
     "name": "stdout",
     "output_type": "stream",
     "text": [
      "Mean Squared Error for station 13106: 2.772488722368986e-06\n",
      "Valid indices for station 17003: [544, 490, 491, 526, 579, 547]\n",
      "Cross-Validation Score for station 17003: -0.000467155306546343\n"
     ]
    },
    {
     "name": "stderr",
     "output_type": "stream",
     "text": [
      "Training models:  54%|████████████████████████████████████▋                               | 54/100 [24:25<22:36, 29.49s/station]"
     ]
    },
    {
     "name": "stdout",
     "output_type": "stream",
     "text": [
      "Mean Squared Error for station 17003: 0.00011453235843021992\n",
      "Valid indices for station 21217: [819, 826, 817]\n",
      "Valid indices for station 21217: [820, 894, 816, 827, 824, 903, 819, 826, 817, 296, 295, 318, 828, 825, 332, 297, 293, 331]\n",
      "Cross-Validation Score for station 21217: -0.00012211662840032117\n"
     ]
    },
    {
     "name": "stderr",
     "output_type": "stream",
     "text": [
      "Training models:  55%|█████████████████████████████████████▍                              | 55/100 [24:47<20:26, 27.25s/station]"
     ]
    },
    {
     "name": "stdout",
     "output_type": "stream",
     "text": [
      "Mean Squared Error for station 21217: 7.184484858217126e-05\n",
      "Valid indices for station 15064: [388, 392, 398]\n",
      "Valid indices for station 15064: [485, 453, 401, 400, 388, 387, 396, 392, 407, 364, 417, 391, 362, 398, 399, 452, 449, 448, 390, 406]\n",
      "Cross-Validation Score for station 15064: -0.0007366873041653994\n"
     ]
    },
    {
     "name": "stderr",
     "output_type": "stream",
     "text": [
      "Training models:  56%|██████████████████████████████████████                              | 56/100 [25:23<21:45, 29.68s/station]"
     ]
    },
    {
     "name": "stdout",
     "output_type": "stream",
     "text": [
      "Mean Squared Error for station 15064: 0.0020149694630280483\n",
      "Valid indices for station 15030: [417, 362, 398, 399, 406, 361]\n",
      "Cross-Validation Score for station 15030: -0.002428955472091158\n"
     ]
    },
    {
     "name": "stderr",
     "output_type": "stream",
     "text": [
      "Training models:  57%|██████████████████████████████████████▊                             | 57/100 [26:03<23:33, 32.88s/station]"
     ]
    },
    {
     "name": "stdout",
     "output_type": "stream",
     "text": [
      "Mean Squared Error for station 15030: 0.0035656016011044282\n",
      "Out of bounds indices for station 9114: [1475, 1479]\n",
      "Max valid index: 1460\n",
      "Valid indices for station 9114: [1434, 1435, 21, 1438, 1436, 559, 28, 29, 33, 45]\n",
      "Cross-Validation Score for station 9114: -0.0011354177386695096\n"
     ]
    },
    {
     "name": "stderr",
     "output_type": "stream",
     "text": [
      "Training models:  58%|███████████████████████████████████████▍                            | 58/100 [26:29<21:37, 30.90s/station]"
     ]
    },
    {
     "name": "stdout",
     "output_type": "stream",
     "text": [
      "Mean Squared Error for station 9114: 0.002844279585627408\n",
      "Valid indices for station 16011: [471, 435, 436, 473, 430]\n",
      "Cross-Validation Score for station 16011: -0.008030633908943645\n"
     ]
    },
    {
     "name": "stderr",
     "output_type": "stream",
     "text": [
      "Training models:  59%|████████████████████████████████████████                            | 59/100 [27:02<21:27, 31.40s/station]"
     ]
    },
    {
     "name": "stdout",
     "output_type": "stream",
     "text": [
      "Mean Squared Error for station 16011: 0.0010831028958627348\n",
      "Valid indices for station 15062: [382, 417, 391, 390, 406, 395]\n",
      "Cross-Validation Score for station 15062: -0.04391117517930168\n"
     ]
    },
    {
     "name": "stderr",
     "output_type": "stream",
     "text": [
      "Training models:  60%|████████████████████████████████████████▊                           | 60/100 [27:27<19:41, 29.54s/station]"
     ]
    },
    {
     "name": "stdout",
     "output_type": "stream",
     "text": [
      "Mean Squared Error for station 15062: 0.0\n",
      "Valid indices for station 12007: [142, 173, 141, 193, 143, 172]\n",
      "Cross-Validation Score for station 12007: -0.3387053612711107\n"
     ]
    },
    {
     "name": "stderr",
     "output_type": "stream",
     "text": [
      "Training models:  61%|█████████████████████████████████████████▍                          | 61/100 [28:18<23:28, 36.11s/station]"
     ]
    },
    {
     "name": "stdout",
     "output_type": "stream",
     "text": [
      "Mean Squared Error for station 12007: 0.16223132399787418\n",
      "Valid indices for station 25001: [965]\n",
      "Valid indices for station 25001: [965, 967]\n",
      "Valid indices for station 25001: [966, 973, 965, 967]\n",
      "Valid indices for station 25001: [966, 968, 973, 965, 967]\n",
      "Cross-Validation Score for station 25001: -0.001113659728587853\n"
     ]
    },
    {
     "name": "stderr",
     "output_type": "stream",
     "text": [
      "Training models:  62%|██████████████████████████████████████████▏                         | 62/100 [28:49<21:46, 34.38s/station]"
     ]
    },
    {
     "name": "stdout",
     "output_type": "stream",
     "text": [
      "Mean Squared Error for station 25001: 1.5839942009138878e-05\n",
      "Valid indices for station 10105: [716, 759, 798, 40, 1012, 707, 63, 758, 44, 2, 3, 5]\n",
      "Cross-Validation Score for station 10105: -0.00013912993393161186\n"
     ]
    },
    {
     "name": "stderr",
     "output_type": "stream",
     "text": [
      "Training models:  63%|██████████████████████████████████████████▊                         | 63/100 [29:19<20:23, 33.07s/station]"
     ]
    },
    {
     "name": "stdout",
     "output_type": "stream",
     "text": [
      "Mean Squared Error for station 10105: 1.2070310783500344e-05\n",
      "Valid indices for station 47001: [1256, 1172]\n",
      "Valid indices for station 47001: [1173, 1256, 1172]\n",
      "Valid indices for station 47001: [1174, 1173, 1244, 1256, 1172, 1171, 1260, 1259]\n",
      "Cross-Validation Score for station 47001: -0.00020103145494034715\n"
     ]
    },
    {
     "name": "stderr",
     "output_type": "stream",
     "text": [
      "Training models:  64%|███████████████████████████████████████████▌                        | 64/100 [29:54<20:17, 33.83s/station]"
     ]
    },
    {
     "name": "stdout",
     "output_type": "stream",
     "text": [
      "Mean Squared Error for station 47001: 9.472119612249669e-06\n",
      "Valid indices for station 44101: [1245]\n",
      "Valid indices for station 44101: [1245, 1261, 1228, 190]\n",
      "Valid indices for station 44101: [1245, 1261, 1228, 190]\n",
      "Valid indices for station 44101: [1258, 200, 1245, 1261, 1228, 190, 201, 1229]\n",
      "Cross-Validation Score for station 44101: -0.0007372258228478493\n"
     ]
    },
    {
     "name": "stderr",
     "output_type": "stream",
     "text": [
      "Training models:  65%|████████████████████████████████████████████▏                       | 65/100 [30:26<19:23, 33.23s/station]"
     ]
    },
    {
     "name": "stdout",
     "output_type": "stream",
     "text": [
      "Mean Squared Error for station 44101: 0.001224337841031342\n",
      "Valid indices for station 31007: [1016]\n",
      "Valid indices for station 31007: [1035, 1025, 1221, 1026, 1015, 1022, 1016, 1029, 1028, 1017]\n",
      "Cross-Validation Score for station 31007: -0.00014653431190696258\n"
     ]
    },
    {
     "name": "stderr",
     "output_type": "stream",
     "text": [
      "Training models:  66%|████████████████████████████████████████████▉                       | 66/100 [31:00<18:56, 33.43s/station]"
     ]
    },
    {
     "name": "stdout",
     "output_type": "stream",
     "text": [
      "Mean Squared Error for station 31007: 1.4020315736965762e-05\n",
      "Valid indices for station 13032: [260, 234, 235, 261]\n",
      "Valid indices for station 13032: [1215, 1216, 1217, 232, 230, 260, 233, 234, 235, 261, 238, 239, 264, 237, 236, 274]\n",
      "Cross-Validation Score for station 13032: -0.00020383869877679318\n"
     ]
    },
    {
     "name": "stderr",
     "output_type": "stream",
     "text": [
      "Training models:  67%|█████████████████████████████████████████████▌                      | 67/100 [31:33<18:14, 33.15s/station]"
     ]
    },
    {
     "name": "stdout",
     "output_type": "stream",
     "text": [
      "Mean Squared Error for station 13032: 7.324615838014999e-06\n",
      "Valid indices for station 41101: [1153, 1152]\n",
      "Valid indices for station 41101: [1209, 1153, 1152, 1210, 1211, 1208]\n",
      "Cross-Validation Score for station 41101: -8.374425235386654e-05\n"
     ]
    },
    {
     "name": "stderr",
     "output_type": "stream",
     "text": [
      "Training models:  68%|██████████████████████████████████████████████▏                     | 68/100 [32:05<17:32, 32.88s/station]"
     ]
    },
    {
     "name": "stdout",
     "output_type": "stream",
     "text": [
      "Mean Squared Error for station 41101: 8.178486906462783e-06\n",
      "Valid indices for station 27004: [909, 990]\n",
      "Valid indices for station 27004: [910, 908, 909, 912, 914, 990]\n",
      "Cross-Validation Score for station 27004: -0.0005055081191798958\n"
     ]
    },
    {
     "name": "stderr",
     "output_type": "stream",
     "text": [
      "Training models:  69%|██████████████████████████████████████████████▉                     | 69/100 [32:28<15:29, 29.99s/station]"
     ]
    },
    {
     "name": "stdout",
     "output_type": "stream",
     "text": [
      "Mean Squared Error for station 27004: 0.011005751751400877\n",
      "Valid indices for station 22303: [898]\n",
      "Valid indices for station 22303: [899, 976, 898]\n",
      "Valid indices for station 22303: [896, 899, 976, 898]\n",
      "Valid indices for station 22303: [985, 980, 977, 900, 896, 899, 976, 898, 897]\n",
      "Cross-Validation Score for station 22303: -0.00021407494080363495\n"
     ]
    },
    {
     "name": "stderr",
     "output_type": "stream",
     "text": [
      "Training models:  70%|███████████████████████████████████████████████▌                    | 70/100 [33:00<15:15, 30.52s/station]"
     ]
    },
    {
     "name": "stdout",
     "output_type": "stream",
     "text": [
      "Mean Squared Error for station 22303: 8.672720700590826e-05\n",
      "Valid indices for station 24101: [962, 957, 963]\n",
      "Valid indices for station 24101: [962, 957, 963]\n",
      "Valid indices for station 24101: [995, 994, 910, 912, 962, 958, 957, 963, 877, 911]\n",
      "Cross-Validation Score for station 24101: -0.00021407644984881334\n"
     ]
    },
    {
     "name": "stderr",
     "output_type": "stream",
     "text": [
      "Training models:  71%|████████████████████████████████████████████████▎                   | 71/100 [33:34<15:15, 31.56s/station]"
     ]
    },
    {
     "name": "stdout",
     "output_type": "stream",
     "text": [
      "Mean Squared Error for station 24101: 0.0007909292097682691\n",
      "Out of bounds indices for station 92001: [1480]\n",
      "Max valid index: 1460\n",
      "Valid indices for station 92001: []\n",
      "Out of bounds indices for station 92001: [1480]\n",
      "Max valid index: 1460\n",
      "Valid indices for station 92001: []\n",
      "Out of bounds indices for station 92001: [1480, 1487]\n",
      "Max valid index: 1460\n",
      "Valid indices for station 92001: [972]\n",
      "Out of bounds indices for station 92001: [1480, 1482, 1487, 1481]\n",
      "Max valid index: 1460\n",
      "Valid indices for station 92001: [971, 972, 863, 856, 861, 860, 857]\n",
      "Cross-Validation Score for station 92001: -0.00018167833816958427\n"
     ]
    },
    {
     "name": "stderr",
     "output_type": "stream",
     "text": [
      "Training models:  72%|████████████████████████████████████████████████▉                   | 72/100 [33:54<13:09, 28.20s/station]"
     ]
    },
    {
     "name": "stdout",
     "output_type": "stream",
     "text": [
      "Mean Squared Error for station 92001: 4.463766558464924e-05\n",
      "Valid indices for station 23004: [924, 812, 811]\n",
      "Valid indices for station 23004: [927, 926, 923, 928, 924, 809, 812, 811, 925, 541]\n",
      "Cross-Validation Score for station 23004: -0.00027092510887437575\n"
     ]
    },
    {
     "name": "stderr",
     "output_type": "stream",
     "text": [
      "Training models:  73%|█████████████████████████████████████████████████▋                  | 73/100 [34:27<13:14, 29.42s/station]"
     ]
    },
    {
     "name": "stdout",
     "output_type": "stream",
     "text": [
      "Mean Squared Error for station 23004: 1.7957076805132923e-05\n",
      "Valid indices for station 16002: [468, 467, 551, 428, 521]\n",
      "Cross-Validation Score for station 16002: -0.018549087374309686\n"
     ]
    },
    {
     "name": "stderr",
     "output_type": "stream",
     "text": [
      "Training models:  74%|██████████████████████████████████████████████████▎                 | 74/100 [34:46<11:27, 26.46s/station]"
     ]
    },
    {
     "name": "stdout",
     "output_type": "stream",
     "text": [
      "Mean Squared Error for station 16002: 0.037825446814572505\n",
      "Valid indices for station 23010: [930]\n",
      "Valid indices for station 23010: [921, 883, 922, 534, 517, 931, 929, 927, 923, 928, 930]\n",
      "Cross-Validation Score for station 23010: -0.0005483856857746354\n"
     ]
    },
    {
     "name": "stderr",
     "output_type": "stream",
     "text": [
      "Training models:  75%|███████████████████████████████████████████████████                 | 75/100 [35:15<11:19, 27.18s/station]"
     ]
    },
    {
     "name": "stdout",
     "output_type": "stream",
     "text": [
      "Mean Squared Error for station 23010: 8.272993486380116e-06\n",
      "Valid indices for station 15057: [386, 394, 373, 385, 402, 416, 384, 401, 396]\n",
      "Cross-Validation Score for station 15057: -0.0002519259389893503\n"
     ]
    },
    {
     "name": "stderr",
     "output_type": "stream",
     "text": [
      "Training models:  76%|███████████████████████████████████████████████████▋                | 76/100 [35:46<11:20, 28.35s/station]"
     ]
    },
    {
     "name": "stdout",
     "output_type": "stream",
     "text": [
      "Mean Squared Error for station 15057: 7.436753208120713e-05\n",
      "Valid indices for station 19128: [627, 628, 671, 667, 622, 673]\n",
      "Cross-Validation Score for station 19128: -0.0001356901542004555\n"
     ]
    },
    {
     "name": "stderr",
     "output_type": "stream",
     "text": [
      "Training models:  77%|████████████████████████████████████████████████████▎               | 77/100 [36:11<10:26, 27.24s/station]"
     ]
    },
    {
     "name": "stdout",
     "output_type": "stream",
     "text": [
      "Mean Squared Error for station 19128: 0.0014911123391985052\n",
      "Valid indices for station 22408: [901, 902, 906]\n",
      "Valid indices for station 22408: [868, 905, 901, 940, 822, 821, 902, 818, 906, 904, 299, 424]\n",
      "Cross-Validation Score for station 22408: -0.0001328892638024147\n"
     ]
    },
    {
     "name": "stderr",
     "output_type": "stream",
     "text": [
      "Training models:  78%|█████████████████████████████████████████████████████               | 78/100 [36:39<10:04, 27.46s/station]"
     ]
    },
    {
     "name": "stdout",
     "output_type": "stream",
     "text": [
      "Mean Squared Error for station 22408: 8.352551172050509e-05\n",
      "Valid indices for station 11017: [86, 87, 719, 692, 122, 694, 695, 693]\n",
      "Cross-Validation Score for station 11017: -0.0014752119463657275\n"
     ]
    },
    {
     "name": "stderr",
     "output_type": "stream",
     "text": [
      "Training models:  79%|█████████████████████████████████████████████████████▋              | 79/100 [37:09<09:53, 28.26s/station]"
     ]
    },
    {
     "name": "stdout",
     "output_type": "stream",
     "text": [
      "Mean Squared Error for station 11017: 0.0005001244315156004\n",
      "Valid indices for station 18006: [557, 588, 1438, 1437, 1436, 558, 610]\n",
      "Cross-Validation Score for station 18006: -0.00020489079049916103\n"
     ]
    },
    {
     "name": "stderr",
     "output_type": "stream",
     "text": [
      "Training models:  80%|██████████████████████████████████████████████████████▍             | 80/100 [37:38<09:31, 28.59s/station]"
     ]
    },
    {
     "name": "stdout",
     "output_type": "stream",
     "text": [
      "Mean Squared Error for station 18006: 0.00016031213576816415\n",
      "Valid indices for station 6027: [323, 336, 1341, 1350, 1323, 1322, 1340]\n",
      "Cross-Validation Score for station 6027: -0.00012498106417065694\n"
     ]
    },
    {
     "name": "stderr",
     "output_type": "stream",
     "text": [
      "Training models:  81%|███████████████████████████████████████████████████████             | 81/100 [38:09<09:14, 29.17s/station]"
     ]
    },
    {
     "name": "stdout",
     "output_type": "stream",
     "text": [
      "Mean Squared Error for station 6027: 7.598337909465984e-06\n",
      "Valid indices for station 21401: [852]\n",
      "Valid indices for station 21401: [852]\n",
      "Valid indices for station 21401: [917, 852]\n",
      "Valid indices for station 21401: [917, 850, 852, 844]\n"
     ]
    },
    {
     "name": "stderr",
     "output_type": "stream",
     "text": [
      "/Users/anthonybellon/Comp_Documents/VelibVisualisation/scripts/train_model.py:103: SettingWithCopyWarning: \n",
      "A value is trying to be set on a copy of a slice from a DataFrame.\n",
      "Try using .loc[row_indexer,col_indexer] = value instead\n",
      "\n",
      "See the caveats in the documentation: https://pandas.pydata.org/pandas-docs/stable/user_guide/indexing.html#returning-a-view-versus-a-copy\n",
      "  \n"
     ]
    },
    {
     "name": "stdout",
     "output_type": "stream",
     "text": [
      "Cross-Validation Score for station 21401: -0.00039544158870847244\n"
     ]
    },
    {
     "name": "stderr",
     "output_type": "stream",
     "text": [
      "Training models:  82%|███████████████████████████████████████████████████████▊            | 82/100 [38:35<08:31, 28.44s/station]"
     ]
    },
    {
     "name": "stdout",
     "output_type": "stream",
     "text": [
      "Mean Squared Error for station 21401: 0.0002523315267770833\n",
      "Valid indices for station 15005: [342, 340, 410, 411, 339, 419]\n",
      "Cross-Validation Score for station 15005: -0.0012080082768770447\n"
     ]
    },
    {
     "name": "stderr",
     "output_type": "stream",
     "text": [
      "Training models:  83%|████████████████████████████████████████████████████████▍           | 83/100 [38:55<07:20, 25.89s/station]"
     ]
    },
    {
     "name": "stdout",
     "output_type": "stream",
     "text": [
      "Mean Squared Error for station 15005: 0.0013459350732729792\n",
      "Valid indices for station 13044: [271, 270, 242, 241, 243, 220, 249]\n",
      "Cross-Validation Score for station 13044: -0.0005608221924742469\n"
     ]
    },
    {
     "name": "stderr",
     "output_type": "stream",
     "text": [
      "Training models:  84%|█████████████████████████████████████████████████████████           | 84/100 [39:24<07:07, 26.75s/station]"
     ]
    },
    {
     "name": "stdout",
     "output_type": "stream",
     "text": [
      "Mean Squared Error for station 13044: 0.000308639610072915\n",
      "Out of bounds indices for station 9004: [1475, 1479]\n",
      "Max valid index: 1460\n",
      "Valid indices for station 9004: [1439, 1438, 1437, 1436, 558, 610, 559]\n",
      "Cross-Validation Score for station 9004: -0.0003682561815418736\n"
     ]
    },
    {
     "name": "stderr",
     "output_type": "stream",
     "text": [
      "Training models:  85%|█████████████████████████████████████████████████████████▊          | 85/100 [39:51<06:41, 26.79s/station]"
     ]
    },
    {
     "name": "stdout",
     "output_type": "stream",
     "text": [
      "Mean Squared Error for station 9004: 5.069510584344792e-05\n",
      "Valid indices for station 17108: [499, 497, 538, 498]\n",
      "Valid indices for station 17108: [502, 540, 493, 539, 492, 536, 535, 550, 499, 497, 538, 498, 495, 496, 494, 544, 800, 813, 799, 549]\n",
      "Cross-Validation Score for station 17108: -4.2649497429612946e-05\n"
     ]
    },
    {
     "name": "stderr",
     "output_type": "stream",
     "text": [
      "Training models:  86%|██████████████████████████████████████████████████████████▍         | 86/100 [40:17<06:10, 26.45s/station]"
     ]
    },
    {
     "name": "stdout",
     "output_type": "stream",
     "text": [
      "Mean Squared Error for station 17108: 7.75218973170087e-06\n",
      "Valid indices for station 41205: [1158]\n",
      "Valid indices for station 41205: [1164, 1158, 1157, 1163, 1159]\n",
      "Cross-Validation Score for station 41205: -0.00019930277746316015\n"
     ]
    },
    {
     "name": "stderr",
     "output_type": "stream",
     "text": [
      "Training models:  87%|███████████████████████████████████████████████████████████▏        | 87/100 [40:39<05:28, 25.30s/station]"
     ]
    },
    {
     "name": "stdout",
     "output_type": "stream",
     "text": [
      "Mean Squared Error for station 41205: 0.0001229801533385093\n",
      "Valid indices for station 4020: [20, 30, 135, 69, 134, 41, 42, 1140, 1141, 1142, 1143, 1144, 1147, 1027]\n",
      "Cross-Validation Score for station 4020: -3.464516953873398e-05\n"
     ]
    },
    {
     "name": "stderr",
     "output_type": "stream",
     "text": [
      "Training models:  88%|███████████████████████████████████████████████████████████▊        | 88/100 [41:09<05:21, 26.77s/station]"
     ]
    },
    {
     "name": "stdout",
     "output_type": "stream",
     "text": [
      "Mean Squared Error for station 4020: 1.662327015317183e-06\n",
      "Out of bounds indices for station 9024: [1468, 1461, 1477, 1473]\n",
      "Max valid index: 1460\n",
      "Valid indices for station 9024: [1454, 744, 757, 1455, 1456, 1460, 747, 1453]\n",
      "Cross-Validation Score for station 9024: -0.0007775337321556791\n"
     ]
    },
    {
     "name": "stderr",
     "output_type": "stream",
     "text": [
      "Training models:  89%|████████████████████████████████████████████████████████████▌       | 89/100 [41:50<05:39, 30.91s/station]"
     ]
    },
    {
     "name": "stdout",
     "output_type": "stream",
     "text": [
      "Mean Squared Error for station 9024: 0.00015459455472481242\n",
      "Valid indices for station 16001: [431, 440, 518, 469, 427]\n",
      "Cross-Validation Score for station 16001: -0.00023183898355366126\n"
     ]
    },
    {
     "name": "stderr",
     "output_type": "stream",
     "text": [
      "Training models:  90%|█████████████████████████████████████████████████████████████▏      | 90/100 [42:19<05:02, 30.21s/station]"
     ]
    },
    {
     "name": "stdout",
     "output_type": "stream",
     "text": [
      "Mean Squared Error for station 16001: 0.00029372483635668864\n",
      "Valid indices for station 33015: [1089]\n",
      "Valid indices for station 33015: [1089, 1042]\n",
      "Valid indices for station 33015: [1084, 1107, 1085, 1106, 1089, 1091, 1042, 1041, 1090]\n",
      "Cross-Validation Score for station 33015: -0.000433907429499515\n"
     ]
    },
    {
     "name": "stderr",
     "output_type": "stream",
     "text": [
      "Training models:  91%|█████████████████████████████████████████████████████████████▉      | 91/100 [42:47<04:28, 29.80s/station]"
     ]
    },
    {
     "name": "stdout",
     "output_type": "stream",
     "text": [
      "Mean Squared Error for station 33015: 0.0003566156778892574\n",
      "Valid indices for station 15311: [835, 426]\n",
      "Valid indices for station 15311: [784, 845, 846, 833, 847, 835, 464, 463, 386, 394, 461, 426, 373, 385]\n",
      "Cross-Validation Score for station 15311: -0.00036099927060949155\n"
     ]
    },
    {
     "name": "stderr",
     "output_type": "stream",
     "text": [
      "Training models:  92%|██████████████████████████████████████████████████████████████▌     | 92/100 [43:13<03:48, 28.60s/station]"
     ]
    },
    {
     "name": "stdout",
     "output_type": "stream",
     "text": [
      "Mean Squared Error for station 15311: 0.00010368908754400377\n",
      "Valid indices for station 35006: [1114, 1119, 1111]\n",
      "Valid indices for station 35006: [1117, 1116, 1115, 1114, 1113, 1119, 1110, 1111, 1109, 1112]\n",
      "Cross-Validation Score for station 35006: -0.0009764657432088991\n"
     ]
    },
    {
     "name": "stderr",
     "output_type": "stream",
     "text": [
      "Training models:  93%|███████████████████████████████████████████████████████████████▏    | 93/100 [43:37<03:10, 27.26s/station]"
     ]
    },
    {
     "name": "stdout",
     "output_type": "stream",
     "text": [
      "Mean Squared Error for station 35006: 1.9707077678092033e-05\n",
      "Valid indices for station 1021: [20, 30, 135, 133, 69, 134, 41, 42, 1143, 1147, 699, 90]\n",
      "Cross-Validation Score for station 1021: -0.00015183466473873527\n"
     ]
    },
    {
     "name": "stderr",
     "output_type": "stream",
     "text": [
      "Training models:  94%|███████████████████████████████████████████████████████████████▉    | 94/100 [44:11<02:55, 29.20s/station]"
     ]
    },
    {
     "name": "stdout",
     "output_type": "stream",
     "text": [
      "Mean Squared Error for station 1021: 2.392544427191202e-06\n",
      "Valid indices for station 22015: [884]\n",
      "Valid indices for station 22015: [958, 876, 884, 959, 875]\n",
      "Cross-Validation Score for station 22015: -0.00021565268166333614\n"
     ]
    },
    {
     "name": "stderr",
     "output_type": "stream",
     "text": [
      "Training models:  95%|████████████████████████████████████████████████████████████████▌   | 95/100 [44:40<02:25, 29.09s/station]"
     ]
    },
    {
     "name": "stdout",
     "output_type": "stream",
     "text": [
      "Mean Squared Error for station 22015: 8.587358741349743e-06\n",
      "Valid indices for station 12018: [198, 152, 153, 680, 149, 137, 136, 85]\n",
      "Cross-Validation Score for station 12018: -0.005395888823883836\n"
     ]
    },
    {
     "name": "stderr",
     "output_type": "stream",
     "text": [
      "Training models:  96%|█████████████████████████████████████████████████████████████████▎  | 96/100 [45:08<01:55, 28.80s/station]"
     ]
    },
    {
     "name": "stdout",
     "output_type": "stream",
     "text": [
      "Mean Squared Error for station 12018: 0.0001418174672723668\n",
      "Valid indices for station 17111: [503, 502, 540, 493, 539, 497]\n",
      "Cross-Validation Score for station 17111: -0.0006380183296559622\n"
     ]
    },
    {
     "name": "stderr",
     "output_type": "stream",
     "text": [
      "Training models:  97%|█████████████████████████████████████████████████████████████████▉  | 97/100 [45:38<01:27, 29.02s/station]"
     ]
    },
    {
     "name": "stdout",
     "output_type": "stream",
     "text": [
      "Mean Squared Error for station 17111: 4.989995053340792e-06\n",
      "Valid indices for station 44016: [1242, 1243]\n",
      "Valid indices for station 44016: [1255, 1242, 1243, 1237]\n",
      "Valid indices for station 44016: [1255, 1242, 1243, 1237, 1236, 1232]\n",
      "Cross-Validation Score for station 44016: -0.0002303721738554499\n"
     ]
    },
    {
     "name": "stderr",
     "output_type": "stream",
     "text": [
      "Training models:  98%|██████████████████████████████████████████████████████████████████▋ | 98/100 [46:03<00:55, 27.84s/station]"
     ]
    },
    {
     "name": "stdout",
     "output_type": "stream",
     "text": [
      "Mean Squared Error for station 44016: 0.0003140216018206091\n",
      "Valid indices for station 44005: [1234]\n",
      "Valid indices for station 44005: [1236, 1234, 1233]\n",
      "Valid indices for station 44005: [1237, 1238, 1236, 1232, 1234, 1233, 1235]\n",
      "Cross-Validation Score for station 44005: -0.0005555868220826967\n"
     ]
    },
    {
     "name": "stderr",
     "output_type": "stream",
     "text": [
      "Training models:  99%|███████████████████████████████████████████████████████████████████▎| 99/100 [46:31<00:28, 28.07s/station]"
     ]
    },
    {
     "name": "stdout",
     "output_type": "stream",
     "text": [
      "Mean Squared Error for station 44005: 0.0012468280571073876\n",
      "Valid indices for station 17119: [504, 506, 505, 542, 543, 548, 501, 530, 503]\n",
      "Cross-Validation Score for station 17119: -0.00017343464185611213\n"
     ]
    },
    {
     "name": "stderr",
     "output_type": "stream",
     "text": [
      "Training models: 100%|███████████████████████████████████████████████████████████████████| 100/100 [46:59<00:00, 28.19s/station]"
     ]
    },
    {
     "name": "stdout",
     "output_type": "stream",
     "text": [
      "Mean Squared Error for station 17119: 0.0008850156204288735\n"
     ]
    },
    {
     "name": "stderr",
     "output_type": "stream",
     "text": [
      "\n"
     ]
    },
    {
     "name": "stdout",
     "output_type": "stream",
     "text": [
      "Intermediate results saved for batch 6\n",
      "Training models...\n",
      "Columns after feature creation: Index(['stationcode', 'name', 'is_installed', 'capacity', 'numdocksavailable',\n",
      "       'numbikesavailable', 'mechanical', 'ebike', 'is_renting',\n",
      "       'is_returning', 'duedate', 'coordonnees_geo',\n",
      "       'nom_arrondissement_communes', 'date', 'lat', 'lon', 'hour',\n",
      "       'day_of_week', 'lag_1_hour', 'lag_1_day', 'rolling_mean_7_days',\n",
      "       'rolling_mean_30_days', 'normalized_bikes_available',\n",
      "       'normalized_docks_available', 'usage_ratio',\n",
      "       'capacity_hour_interaction', 'capacity_day_interaction',\n",
      "       'avg_bikes_hour_day'],\n",
      "      dtype='object')\n"
     ]
    },
    {
     "name": "stderr",
     "output_type": "stream",
     "text": [
      "Training models:   0%|                                                                             | 0/100 [00:00<?, ?station/s]"
     ]
    },
    {
     "name": "stdout",
     "output_type": "stream",
     "text": [
      "Valid indices for station 7017: [1368, 1370, 1367, 1366]\n",
      "Valid indices for station 7017: [1369, 1378, 1368, 1370, 1367, 1364, 1365, 1371, 1366, 1401, 1375, 1360]\n",
      "Cross-Validation Score for station 7017: -0.0007345316263151241\n"
     ]
    },
    {
     "name": "stderr",
     "output_type": "stream",
     "text": [
      "Training models:   1%|▋                                                                    | 1/100 [00:31<52:38, 31.90s/station]"
     ]
    },
    {
     "name": "stdout",
     "output_type": "stream",
     "text": [
      "Mean Squared Error for station 7017: 0.00039445141184965647\n",
      "Valid indices for station 51002: [1299, 1300]\n",
      "Valid indices for station 51002: [1299, 1300, 1298]\n",
      "Valid indices for station 51002: [1299, 1300, 1298]\n",
      "Valid indices for station 51002: [1299, 1300, 1298, 991]\n"
     ]
    },
    {
     "name": "stderr",
     "output_type": "stream",
     "text": [
      "/Users/anthonybellon/Comp_Documents/VelibVisualisation/scripts/train_model.py:103: SettingWithCopyWarning: \n",
      "A value is trying to be set on a copy of a slice from a DataFrame.\n",
      "Try using .loc[row_indexer,col_indexer] = value instead\n",
      "\n",
      "See the caveats in the documentation: https://pandas.pydata.org/pandas-docs/stable/user_guide/indexing.html#returning-a-view-versus-a-copy\n",
      "  \n"
     ]
    },
    {
     "name": "stdout",
     "output_type": "stream",
     "text": [
      "Cross-Validation Score for station 51002: -8.955267850865468e-05\n"
     ]
    },
    {
     "name": "stderr",
     "output_type": "stream",
     "text": [
      "Training models:   2%|█▍                                                                   | 2/100 [00:56<45:19, 27.75s/station]"
     ]
    },
    {
     "name": "stdout",
     "output_type": "stream",
     "text": [
      "Mean Squared Error for station 51002: 6.803583387921584e-06\n",
      "Valid indices for station 4021: [134, 41, 1140, 1146, 1141, 1142, 1137, 1143, 1144, 1010, 1147, 1009, 689, 1027]\n",
      "Cross-Validation Score for station 4021: -0.00021879354664959034\n"
     ]
    },
    {
     "name": "stderr",
     "output_type": "stream",
     "text": [
      "Training models:   3%|██                                                                   | 3/100 [01:27<47:11, 29.19s/station]"
     ]
    },
    {
     "name": "stdout",
     "output_type": "stream",
     "text": [
      "Mean Squared Error for station 4021: 0.0003592947290456357\n",
      "Valid indices for station 15102: [362, 398, 399, 361]\n",
      "Valid indices for station 15102: [392, 417, 391, 362, 398, 399, 452, 449, 448, 476, 446, 447, 406, 365, 358, 363, 361, 393, 360]\n",
      "Cross-Validation Score for station 15102: -9.734601490022233e-05\n"
     ]
    },
    {
     "name": "stderr",
     "output_type": "stream",
     "text": [
      "Training models:   4%|██▊                                                                  | 4/100 [01:55<45:51, 28.66s/station]"
     ]
    },
    {
     "name": "stdout",
     "output_type": "stream",
     "text": [
      "Mean Squared Error for station 15102: 2.5766105692800385e-05\n",
      "Valid indices for station 10151: [17, 18, 62, 67, 27, 22, 55, 56, 54, 28, 60]\n",
      "Cross-Validation Score for station 10151: -0.006172551747465208\n"
     ]
    },
    {
     "name": "stderr",
     "output_type": "stream",
     "text": [
      "Training models:   5%|███▍                                                                 | 5/100 [02:38<53:24, 33.73s/station]"
     ]
    },
    {
     "name": "stdout",
     "output_type": "stream",
     "text": [
      "Mean Squared Error for station 10151: 0.014822003038823216\n",
      "Valid indices for station 6012: [1351, 1346, 1321, 1320, 1329, 1342, 1338, 1330, 1337]\n",
      "Cross-Validation Score for station 6012: -0.00010705163346681981\n"
     ]
    },
    {
     "name": "stderr",
     "output_type": "stream",
     "text": [
      "Training models:   6%|████▏                                                                | 6/100 [03:08<51:04, 32.60s/station]"
     ]
    },
    {
     "name": "stdout",
     "output_type": "stream",
     "text": [
      "Mean Squared Error for station 6012: 1.7872104624966068e-05\n",
      "Valid indices for station 12005: [143, 172, 130, 144, 140, 119]\n",
      "Cross-Validation Score for station 12005: -0.10334074152172767\n"
     ]
    },
    {
     "name": "stderr",
     "output_type": "stream",
     "text": [
      "Training models:   7%|████▊                                                                | 7/100 [03:38<48:55, 31.56s/station]"
     ]
    },
    {
     "name": "stdout",
     "output_type": "stream",
     "text": [
      "Mean Squared Error for station 12005: 0.17648936287701136\n",
      "Valid indices for station 27005: [991]\n",
      "Valid indices for station 27005: [992, 991]\n",
      "Valid indices for station 27005: [992, 991]\n",
      "Valid indices for station 27005: [1299, 919, 992, 920, 1298, 985, 991]\n",
      "Cross-Validation Score for station 27005: -8.125758021242972e-05\n"
     ]
    },
    {
     "name": "stderr",
     "output_type": "stream",
     "text": [
      "Training models:   8%|█████▌                                                               | 8/100 [04:00<44:09, 28.80s/station]"
     ]
    },
    {
     "name": "stdout",
     "output_type": "stream",
     "text": [
      "Mean Squared Error for station 27005: 3.767135874159259e-05\n",
      "Valid indices for station 17123: [542, 548, 546, 536, 535]\n",
      "Valid indices for station 17123: [509, 508, 507, 801, 810, 506, 542, 543, 548, 503, 502, 540, 546, 536, 535, 550, 499, 497, 815]\n",
      "Cross-Validation Score for station 17123: -3.653269234373644e-05\n"
     ]
    },
    {
     "name": "stderr",
     "output_type": "stream",
     "text": [
      "Training models:   9%|██████▏                                                              | 9/100 [04:26<42:01, 27.70s/station]"
     ]
    },
    {
     "name": "stdout",
     "output_type": "stream",
     "text": [
      "Mean Squared Error for station 17123: 5.136044559664578e-05\n",
      "Out of bounds indices for station 9102: [1462, 1464, 1465, 1471, 1461, 1477, 1470]\n",
      "Max valid index: 1460\n",
      "Valid indices for station 9102: [1386, 1381, 1460, 1459, 1457]\n",
      "Cross-Validation Score for station 9102: -0.00015851064615475505\n"
     ]
    },
    {
     "name": "stderr",
     "output_type": "stream",
     "text": [
      "Training models:  10%|██████▊                                                             | 10/100 [04:54<41:53, 27.93s/station]"
     ]
    },
    {
     "name": "stdout",
     "output_type": "stream",
     "text": [
      "Mean Squared Error for station 9102: 6.665386518563373e-05\n",
      "Valid indices for station 12026: [160, 157, 177, 156]\n",
      "Valid indices for station 12026: [252, 268, 272, 174, 221, 194, 163, 162, 160, 157, 144, 175, 177, 147, 156, 171, 158, 178, 206, 159]\n",
      "Cross-Validation Score for station 12026: -0.0007733953119451778\n"
     ]
    },
    {
     "name": "stderr",
     "output_type": "stream",
     "text": [
      "Training models:  11%|███████▍                                                            | 11/100 [05:31<45:27, 30.65s/station]"
     ]
    },
    {
     "name": "stdout",
     "output_type": "stream",
     "text": [
      "Mean Squared Error for station 12026: 0.0006411691443665078\n",
      "Valid indices for station 21501: [854, 855]\n",
      "Valid indices for station 21501: [861, 860, 858, 854, 862, 855]\n",
      "Cross-Validation Score for station 21501: -0.00012268619598054846\n"
     ]
    },
    {
     "name": "stderr",
     "output_type": "stream",
     "text": [
      "Training models:  12%|████████▏                                                           | 12/100 [06:11<48:55, 33.36s/station]"
     ]
    },
    {
     "name": "stdout",
     "output_type": "stream",
     "text": [
      "Mean Squared Error for station 21501: 5.7613150782246756e-06\n",
      "Valid indices for station 21319: [832, 842, 841, 845, 846, 833]\n",
      "Cross-Validation Score for station 21319: -0.0007416306389361903\n"
     ]
    },
    {
     "name": "stderr",
     "output_type": "stream",
     "text": [
      "Training models:  13%|████████▊                                                           | 13/100 [06:39<46:14, 31.89s/station]"
     ]
    },
    {
     "name": "stdout",
     "output_type": "stream",
     "text": [
      "Mean Squared Error for station 21319: 0.00010462412028770159\n",
      "Valid indices for station 13009: [254, 226, 216, 227, 258]\n",
      "Cross-Validation Score for station 13009: -0.00029503732668137076\n"
     ]
    },
    {
     "name": "stderr",
     "output_type": "stream",
     "text": [
      "Training models:  14%|█████████▌                                                          | 14/100 [07:05<43:11, 30.13s/station]"
     ]
    },
    {
     "name": "stdout",
     "output_type": "stream",
     "text": [
      "Mean Squared Error for station 13009: 6.0083755939899335e-05\n",
      "Out of bounds indices for station 18044: [1466, 1467]\n",
      "Max valid index: 1460\n",
      "Valid indices for station 18044: [593, 1389, 592, 591]\n",
      "Out of bounds indices for station 18044: [1464, 1465, 1470, 1466, 1467]\n",
      "Max valid index: 1460\n",
      "Valid indices for station 18044: [1395, 1388, 1432, 1387, 1381, 1460, 1459, 1457, 545, 1418, 552, 594, 593, 492, 531, 1389, 1458, 590, 592, 591, 555, 554, 600, 569, 614, 1450, 589, 603, 602, 490]\n",
      "Cross-Validation Score for station 18044: -0.00019126829679413338\n"
     ]
    },
    {
     "name": "stderr",
     "output_type": "stream",
     "text": [
      "Training models:  15%|██████████▏                                                         | 15/100 [07:33<41:51, 29.55s/station]"
     ]
    },
    {
     "name": "stdout",
     "output_type": "stream",
     "text": [
      "Mean Squared Error for station 18044: 0.00019262531916376075\n",
      "Valid indices for station 17106: [546, 536, 535, 550, 499]\n",
      "Cross-Validation Score for station 17106: -0.0010629536835701375\n"
     ]
    },
    {
     "name": "stderr",
     "output_type": "stream",
     "text": [
      "Training models:  16%|██████████▉                                                         | 16/100 [07:45<33:42, 24.08s/station]"
     ]
    },
    {
     "name": "stdout",
     "output_type": "stream",
     "text": [
      "Mean Squared Error for station 17106: 0.0015947064833752628\n",
      "Valid indices for station 12038: [179, 146, 196, 166, 153, 167, 155]\n",
      "Cross-Validation Score for station 12038: -0.001694343916818319\n"
     ]
    },
    {
     "name": "stderr",
     "output_type": "stream",
     "text": [
      "Training models:  17%|███████████▌                                                        | 17/100 [08:12<34:45, 25.12s/station]"
     ]
    },
    {
     "name": "stdout",
     "output_type": "stream",
     "text": [
      "Mean Squared Error for station 12038: 0.0008796246418763238\n",
      "Valid indices for station 21314: [832, 842, 841, 845]\n",
      "Valid indices for station 21314: [844, 829, 851, 832, 789, 784, 842, 841, 845, 846, 833, 849]\n",
      "Cross-Validation Score for station 21314: -5.742441301761922e-05\n"
     ]
    },
    {
     "name": "stderr",
     "output_type": "stream",
     "text": [
      "Training models:  18%|████████████▏                                                       | 18/100 [08:38<34:27, 25.22s/station]"
     ]
    },
    {
     "name": "stdout",
     "output_type": "stream",
     "text": [
      "Mean Squared Error for station 21314: 0.0003602156537139762\n",
      "Valid indices for station 18030: [573, 572, 574, 575, 576, 581, 582, 596]\n",
      "Cross-Validation Score for station 18030: -0.0004699976159616868\n"
     ]
    },
    {
     "name": "stderr",
     "output_type": "stream",
     "text": [
      "Training models:  19%|████████████▉                                                       | 19/100 [09:11<37:17, 27.62s/station]"
     ]
    },
    {
     "name": "stdout",
     "output_type": "stream",
     "text": [
      "Mean Squared Error for station 18030: 2.2136178876436625e-05\n",
      "Valid indices for station 25006: [970]\n",
      "Valid indices for station 25006: [974, 970, 863]\n",
      "Valid indices for station 25006: [974, 969, 971, 970, 972, 863, 856]\n",
      "Cross-Validation Score for station 25006: -0.0063414777999855464\n"
     ]
    },
    {
     "name": "stderr",
     "output_type": "stream",
     "text": [
      "Training models:  20%|█████████████▌                                                      | 20/100 [09:39<37:09, 27.87s/station]"
     ]
    },
    {
     "name": "stdout",
     "output_type": "stream",
     "text": [
      "Mean Squared Error for station 25006: 0.003896346071426488\n",
      "Out of bounds indices for station 92006: [1485]\n",
      "Max valid index: 1460\n",
      "Valid indices for station 92006: []\n",
      "Out of bounds indices for station 92006: [1481, 1483, 1485, 1486]\n",
      "Max valid index: 1460\n",
      "Valid indices for station 92006: []\n",
      "Out of bounds indices for station 92006: [1481, 1483, 1485, 1486]\n",
      "Max valid index: 1460\n",
      "Valid indices for station 92006: []\n",
      "Out of bounds indices for station 92006: [1487, 1481, 1483, 1485, 1486]\n",
      "Max valid index: 1460\n",
      "Valid indices for station 92006: []\n"
     ]
    },
    {
     "name": "stderr",
     "output_type": "stream",
     "text": [
      "/Users/anthonybellon/Comp_Documents/VelibVisualisation/scripts/train_model.py:103: SettingWithCopyWarning: \n",
      "A value is trying to be set on a copy of a slice from a DataFrame.\n",
      "Try using .loc[row_indexer,col_indexer] = value instead\n",
      "\n",
      "See the caveats in the documentation: https://pandas.pydata.org/pandas-docs/stable/user_guide/indexing.html#returning-a-view-versus-a-copy\n",
      "  \n"
     ]
    },
    {
     "name": "stdout",
     "output_type": "stream",
     "text": [
      "Cross-Validation Score for station 92006: -0.00018966301339979355\n"
     ]
    },
    {
     "name": "stderr",
     "output_type": "stream",
     "text": [
      "Training models:  21%|██████████████▎                                                     | 21/100 [10:01<34:14, 26.00s/station]"
     ]
    },
    {
     "name": "stdout",
     "output_type": "stream",
     "text": [
      "Mean Squared Error for station 92006: 0.00015774310486413895\n",
      "Valid indices for station 31005: [1035, 1053, 1015, 1022]\n",
      "Valid indices for station 31005: [1014, 1013, 1035, 1219, 1025, 1053, 1015, 1022, 1016]\n",
      "Cross-Validation Score for station 31005: -0.0002824145980540948\n"
     ]
    },
    {
     "name": "stderr",
     "output_type": "stream",
     "text": [
      "Training models:  22%|██████████████▉                                                     | 22/100 [10:34<36:27, 28.05s/station]"
     ]
    },
    {
     "name": "stdout",
     "output_type": "stream",
     "text": [
      "Mean Squared Error for station 31005: 7.746369769439862e-05\n",
      "Valid indices for station 13516: [284, 276, 275, 246]\n",
      "Valid indices for station 13516: [290, 292, 322, 284, 316, 289, 317, 283, 229, 276, 275, 246, 254, 226, 228, 216, 211, 210, 212]\n",
      "Cross-Validation Score for station 13516: -0.0005693681291585397\n"
     ]
    },
    {
     "name": "stderr",
     "output_type": "stream",
     "text": [
      "Training models:  23%|███████████████▋                                                    | 23/100 [11:05<37:13, 29.01s/station]"
     ]
    },
    {
     "name": "stdout",
     "output_type": "stream",
     "text": [
      "Mean Squared Error for station 13516: 0.00037207933216795226\n",
      "Valid indices for station 5024: [1290, 1282, 1297, 1292, 1281, 1308, 1289, 1294, 1283, 1311, 1288]\n",
      "Cross-Validation Score for station 5024: -0.0002470846017009919\n"
     ]
    },
    {
     "name": "stderr",
     "output_type": "stream",
     "text": [
      "Training models:  24%|████████████████▎                                                   | 24/100 [11:33<36:15, 28.63s/station]"
     ]
    },
    {
     "name": "stdout",
     "output_type": "stream",
     "text": [
      "Mean Squared Error for station 5024: 6.312540619445474e-07\n",
      "Valid indices for station 2108: [726, 727, 1454, 783, 796, 747, 1445, 1453, 1446, 728, 797, 764, 1444, 1443]\n",
      "Cross-Validation Score for station 2108: -0.00019318732508103836\n"
     ]
    },
    {
     "name": "stderr",
     "output_type": "stream",
     "text": [
      "Training models:  25%|█████████████████                                                   | 25/100 [12:04<36:40, 29.34s/station]"
     ]
    },
    {
     "name": "stdout",
     "output_type": "stream",
     "text": [
      "Mean Squared Error for station 2108: 0.00011749675329619543\n",
      "Out of bounds indices for station 9011: [1469, 1474]\n",
      "Max valid index: 1460\n",
      "Valid indices for station 9011: [783, 796, 1445, 1446, 728, 764, 1444, 40, 1443, 4, 1441, 1442]\n",
      "Cross-Validation Score for station 9011: -5.605972195800496e-05\n"
     ]
    },
    {
     "name": "stderr",
     "output_type": "stream",
     "text": [
      "Training models:  26%|█████████████████▋                                                  | 26/100 [12:30<34:52, 28.28s/station]"
     ]
    },
    {
     "name": "stdout",
     "output_type": "stream",
     "text": [
      "Mean Squared Error for station 9011: 1.2867893774845525e-05\n",
      "Valid indices for station 10021: [16, 19, 17, 18, 62, 67, 27, 22, 21, 55, 56, 54, 28, 33]\n",
      "Cross-Validation Score for station 10021: -3.761813632121283e-05\n"
     ]
    },
    {
     "name": "stderr",
     "output_type": "stream",
     "text": [
      "Training models:  27%|██████████████████▎                                                 | 27/100 [12:56<33:45, 27.75s/station]"
     ]
    },
    {
     "name": "stdout",
     "output_type": "stream",
     "text": [
      "Mean Squared Error for station 10021: 0.0\n",
      "Valid indices for station 13025: [229, 259, 232, 228]\n",
      "Valid indices for station 13025: [290, 330, 291, 231, 229, 259, 1212, 232, 230, 276, 246, 254, 226, 228, 216, 227]\n",
      "Cross-Validation Score for station 13025: -0.00018354909178205722\n"
     ]
    },
    {
     "name": "stderr",
     "output_type": "stream",
     "text": [
      "Training models:  28%|███████████████████                                                 | 28/100 [13:25<33:33, 27.96s/station]"
     ]
    },
    {
     "name": "stdout",
     "output_type": "stream",
     "text": [
      "Mean Squared Error for station 13025: 0.0002619385223071855\n",
      "Out of bounds indices for station 9034: [1463, 1472, 1462]\n",
      "Max valid index: 1460\n",
      "Valid indices for station 9034: [1430, 66, 1383, 1392, 70]\n",
      "Cross-Validation Score for station 9034: -0.00014553023620882702\n"
     ]
    },
    {
     "name": "stderr",
     "output_type": "stream",
     "text": [
      "Training models:  29%|███████████████████▋                                                | 29/100 [13:58<34:57, 29.54s/station]"
     ]
    },
    {
     "name": "stdout",
     "output_type": "stream",
     "text": [
      "Mean Squared Error for station 9034: 9.161693367039013e-05\n",
      "Valid indices for station 15039: [378, 377, 414, 370, 369]\n",
      "Cross-Validation Score for station 15039: -0.0007284315997220686\n"
     ]
    },
    {
     "name": "stderr",
     "output_type": "stream",
     "text": [
      "Training models:  30%|████████████████████▍                                               | 30/100 [14:19<31:24, 26.92s/station]"
     ]
    },
    {
     "name": "stdout",
     "output_type": "stream",
     "text": [
      "Mean Squared Error for station 15039: 0.00019271255003005513\n",
      "Valid indices for station 1003: [1127, 20, 30, 135, 133, 69, 134, 41, 1140, 1141, 1142, 1143, 1147]\n",
      "Cross-Validation Score for station 1003: -0.0037924220154040627\n"
     ]
    },
    {
     "name": "stderr",
     "output_type": "stream",
     "text": [
      "Training models:  31%|█████████████████████                                               | 31/100 [14:58<35:12, 30.62s/station]"
     ]
    },
    {
     "name": "stdout",
     "output_type": "stream",
     "text": [
      "Mean Squared Error for station 1003: 0.00020265116572945092\n",
      "Valid indices for station 5115: [219, 1309, 257, 1310]\n",
      "Valid indices for station 5115: [1297, 1292, 218, 213, 1305, 255, 256, 219, 1294, 1311, 1286, 269, 1309, 257, 1310, 192, 1130, 1150, 1129, 141]\n",
      "Cross-Validation Score for station 5115: -0.0006517816402488951\n"
     ]
    },
    {
     "name": "stderr",
     "output_type": "stream",
     "text": [
      "Training models:  32%|█████████████████████▊                                              | 32/100 [15:27<34:14, 30.22s/station]"
     ]
    },
    {
     "name": "stdout",
     "output_type": "stream",
     "text": [
      "Mean Squared Error for station 5115: 0.0033027809939094404\n",
      "Valid indices for station 4104: [30, 135, 69, 134, 41, 42, 1141, 1142, 1143, 1144, 1010, 1147, 90, 689, 1027, 707]\n",
      "Cross-Validation Score for station 4104: -0.0007838984696715411\n"
     ]
    },
    {
     "name": "stderr",
     "output_type": "stream",
     "text": [
      "Training models:  33%|██████████████████████▍                                             | 33/100 [15:51<31:41, 28.38s/station]"
     ]
    },
    {
     "name": "stdout",
     "output_type": "stream",
     "text": [
      "Mean Squared Error for station 4104: 1.9582972481243e-06\n",
      "Valid indices for station 41211: [1164, 1163]\n",
      "Valid indices for station 41211: [1164, 1158, 1163, 1162]\n",
      "Valid indices for station 41211: [1166, 1155, 1164, 1158, 1157, 1163, 1162, 1167, 1159]\n",
      "Cross-Validation Score for station 41211: -0.012408001454950699\n"
     ]
    },
    {
     "name": "stderr",
     "output_type": "stream",
     "text": [
      "Training models:  34%|███████████████████████                                             | 34/100 [16:15<29:40, 26.98s/station]"
     ]
    },
    {
     "name": "stdout",
     "output_type": "stream",
     "text": [
      "Mean Squared Error for station 41211: 0.007585644191584723\n",
      "Valid indices for station 4010: [1129, 1151, 1132, 1134, 1135, 1136, 1133, 1057]\n",
      "Cross-Validation Score for station 4010: -6.114431833764877e-05\n"
     ]
    },
    {
     "name": "stderr",
     "output_type": "stream",
     "text": [
      "Training models:  35%|███████████████████████▊                                            | 35/100 [16:46<30:27, 28.11s/station]"
     ]
    },
    {
     "name": "stdout",
     "output_type": "stream",
     "text": [
      "Mean Squared Error for station 4010: 1.2620210529303595e-05\n",
      "Valid indices for station 7109: [356, 1379, 1378, 1370]\n",
      "Valid indices for station 7109: [357, 403, 355, 345, 343, 344, 356, 1369, 1379, 1378, 1368, 1370, 1367, 1373, 1371]\n",
      "Cross-Validation Score for station 7109: -0.0006997820480349037\n"
     ]
    },
    {
     "name": "stderr",
     "output_type": "stream",
     "text": [
      "Training models:  36%|████████████████████████▍                                           | 36/100 [17:22<32:38, 30.61s/station]"
     ]
    },
    {
     "name": "stdout",
     "output_type": "stream",
     "text": [
      "Mean Squared Error for station 7109: 0.0004634922560470866\n",
      "Valid indices for station 21707: [866, 869, 868, 376]\n",
      "Valid indices for station 21707: [867, 866, 865, 869, 868, 901, 870, 376, 375, 423, 424]\n",
      "Cross-Validation Score for station 21707: -0.00012762690002830044\n"
     ]
    },
    {
     "name": "stderr",
     "output_type": "stream",
     "text": [
      "Training models:  37%|█████████████████████████▏                                          | 37/100 [17:45<29:41, 28.28s/station]"
     ]
    },
    {
     "name": "stdout",
     "output_type": "stream",
     "text": [
      "Mean Squared Error for station 21707: 0.0002445752499381021\n",
      "Valid indices for station 8116: [1414, 1415, 1427, 1410, 1416, 1433, 1382, 1429, 1400, 1424, 1431, 1419, 1420, 1421, 1425]\n",
      "Cross-Validation Score for station 8116: -0.00017327653619078317\n"
     ]
    },
    {
     "name": "stderr",
     "output_type": "stream",
     "text": [
      "Training models:  38%|█████████████████████████▊                                          | 38/100 [18:10<28:12, 27.29s/station]"
     ]
    },
    {
     "name": "stdout",
     "output_type": "stream",
     "text": [
      "Mean Squared Error for station 8116: 2.5985061467340504e-06\n",
      "Valid indices for station 4019: [30, 134, 41, 1139, 1140, 1146, 1141, 1142, 1137, 1143, 1144, 1010, 1147]\n",
      "Cross-Validation Score for station 4019: -0.00035297893855487606\n"
     ]
    },
    {
     "name": "stderr",
     "output_type": "stream",
     "text": [
      "Training models:  39%|██████████████████████████▌                                         | 39/100 [18:39<28:08, 27.69s/station]"
     ]
    },
    {
     "name": "stdout",
     "output_type": "stream",
     "text": [
      "Mean Squared Error for station 4019: 0.0006621845899886247\n",
      "Valid indices for station 51001: [1298]\n",
      "Valid indices for station 51001: [1299, 1300, 1298]\n",
      "Valid indices for station 51001: [1299, 1300, 1298]\n",
      "Valid indices for station 51001: [1299, 1300, 1298, 991]\n"
     ]
    },
    {
     "name": "stderr",
     "output_type": "stream",
     "text": [
      "/Users/anthonybellon/Comp_Documents/VelibVisualisation/scripts/train_model.py:103: SettingWithCopyWarning: \n",
      "A value is trying to be set on a copy of a slice from a DataFrame.\n",
      "Try using .loc[row_indexer,col_indexer] = value instead\n",
      "\n",
      "See the caveats in the documentation: https://pandas.pydata.org/pandas-docs/stable/user_guide/indexing.html#returning-a-view-versus-a-copy\n",
      "  \n"
     ]
    },
    {
     "name": "stdout",
     "output_type": "stream",
     "text": [
      "Cross-Validation Score for station 51001: -0.00016166119931063954\n"
     ]
    },
    {
     "name": "stderr",
     "output_type": "stream",
     "text": [
      "Training models:  40%|███████████████████████████▏                                        | 40/100 [19:07<27:57, 27.97s/station]"
     ]
    },
    {
     "name": "stdout",
     "output_type": "stream",
     "text": [
      "Mean Squared Error for station 51001: 1.6148087000725787e-07\n",
      "Valid indices for station 20015: [87, 692, 694, 695, 693, 700]\n",
      "Cross-Validation Score for station 20015: -0.0011006728778467894\n"
     ]
    },
    {
     "name": "stderr",
     "output_type": "stream",
     "text": [
      "Training models:  41%|███████████████████████████▉                                        | 41/100 [19:33<26:45, 27.22s/station]"
     ]
    },
    {
     "name": "stdout",
     "output_type": "stream",
     "text": [
      "Mean Squared Error for station 20015: 0.00015079365079365088\n",
      "Valid indices for station 21315: [843, 848, 864]\n",
      "Valid indices for station 21315: [839, 836, 843, 848, 864, 867, 838]\n",
      "Cross-Validation Score for station 21315: -0.0027428616502814004\n"
     ]
    },
    {
     "name": "stderr",
     "output_type": "stream",
     "text": [
      "Training models:  42%|████████████████████████████▌                                       | 42/100 [19:58<25:51, 26.74s/station]"
     ]
    },
    {
     "name": "stdout",
     "output_type": "stream",
     "text": [
      "Mean Squared Error for station 21315: 0.0013286949238887104\n",
      "Valid indices for station 6022: [1346, 1320, 1329, 1342, 1338, 1334, 1332, 1330]\n",
      "Cross-Validation Score for station 6022: -0.00016625354524638585\n"
     ]
    },
    {
     "name": "stderr",
     "output_type": "stream",
     "text": [
      "Training models:  43%|█████████████████████████████▏                                      | 43/100 [20:28<26:08, 27.52s/station]"
     ]
    },
    {
     "name": "stdout",
     "output_type": "stream",
     "text": [
      "Mean Squared Error for station 6022: 2.0005828364664275e-06\n",
      "Valid indices for station 12101: [142, 143, 172, 144, 140]\n",
      "Cross-Validation Score for station 12101: -0.00018968653582508347\n"
     ]
    },
    {
     "name": "stderr",
     "output_type": "stream",
     "text": [
      "Training models:  44%|█████████████████████████████▉                                      | 44/100 [21:06<28:46, 30.83s/station]"
     ]
    },
    {
     "name": "stdout",
     "output_type": "stream",
     "text": [
      "Mean Squared Error for station 12101: 0.00030261146306559866\n",
      "Valid indices for station 21402: [853]\n",
      "Valid indices for station 21402: [853]\n",
      "Valid indices for station 21402: [853]\n",
      "Valid indices for station 21402: [871, 853]\n"
     ]
    },
    {
     "name": "stderr",
     "output_type": "stream",
     "text": [
      "/Users/anthonybellon/Comp_Documents/VelibVisualisation/scripts/train_model.py:103: SettingWithCopyWarning: \n",
      "A value is trying to be set on a copy of a slice from a DataFrame.\n",
      "Try using .loc[row_indexer,col_indexer] = value instead\n",
      "\n",
      "See the caveats in the documentation: https://pandas.pydata.org/pandas-docs/stable/user_guide/indexing.html#returning-a-view-versus-a-copy\n",
      "  \n"
     ]
    },
    {
     "name": "stdout",
     "output_type": "stream",
     "text": [
      "Cross-Validation Score for station 21402: -0.00023937926001748404\n"
     ]
    },
    {
     "name": "stderr",
     "output_type": "stream",
     "text": [
      "Training models:  45%|██████████████████████████████▌                                     | 45/100 [21:33<27:09, 29.62s/station]"
     ]
    },
    {
     "name": "stdout",
     "output_type": "stream",
     "text": [
      "Mean Squared Error for station 21402: 0.00010146418131160587\n",
      "Valid indices for station 3102: [134, 41, 1143, 1144, 1010, 1147, 689, 1011, 1012, 1027, 707]\n",
      "Cross-Validation Score for station 3102: -0.0005942588596335581\n"
     ]
    },
    {
     "name": "stderr",
     "output_type": "stream",
     "text": [
      "Training models:  46%|███████████████████████████████▎                                    | 46/100 [22:04<27:07, 30.14s/station]"
     ]
    },
    {
     "name": "stdout",
     "output_type": "stream",
     "text": [
      "Mean Squared Error for station 3102: 0.0010467468657754636\n",
      "Out of bounds indices for station 9007: [1476, 1478]\n",
      "Max valid index: 1460\n",
      "Valid indices for station 9007: [1441, 1442, 1434, 1440, 1435, 1439, 1438, 1437, 1436]\n",
      "Cross-Validation Score for station 9007: -0.00014053604671453661\n"
     ]
    },
    {
     "name": "stderr",
     "output_type": "stream",
     "text": [
      "Training models:  47%|███████████████████████████████▉                                    | 47/100 [22:29<25:02, 28.35s/station]"
     ]
    },
    {
     "name": "stdout",
     "output_type": "stream",
     "text": [
      "Mean Squared Error for station 9007: 7.157481805199468e-05\n",
      "Valid indices for station 41403: [1256, 1172]\n",
      "Valid indices for station 41403: [1173, 1256, 1172, 1171]\n",
      "Valid indices for station 41403: [1173, 1244, 1256, 1172, 1171, 1260, 1259]\n",
      "Cross-Validation Score for station 41403: -3.199742393133016e-05\n"
     ]
    },
    {
     "name": "stderr",
     "output_type": "stream",
     "text": [
      "Training models:  48%|████████████████████████████████▋                                   | 48/100 [22:53<23:34, 27.20s/station]"
     ]
    },
    {
     "name": "stdout",
     "output_type": "stream",
     "text": [
      "Mean Squared Error for station 41403: 3.874204577372682e-06\n",
      "Valid indices for station 21303: [831, 777, 830]\n",
      "Valid indices for station 21303: [872, 831, 790, 777, 780, 829, 830, 851, 793]\n",
      "Cross-Validation Score for station 21303: -0.00020950646057109868\n"
     ]
    },
    {
     "name": "stderr",
     "output_type": "stream",
     "text": [
      "Training models:  49%|█████████████████████████████████▎                                  | 49/100 [23:26<24:28, 28.80s/station]"
     ]
    },
    {
     "name": "stdout",
     "output_type": "stream",
     "text": [
      "Mean Squared Error for station 21303: 4.971955504605472e-06\n",
      "Valid indices for station 33014: [1088]\n",
      "Valid indices for station 33014: [1095, 1088, 1087]\n",
      "Valid indices for station 33014: [1059, 1095, 1088, 1087, 1073, 1062, 1086, 1092, 1091, 1093, 1041]\n",
      "Cross-Validation Score for station 33014: -0.0002658937684825449\n"
     ]
    },
    {
     "name": "stderr",
     "output_type": "stream",
     "text": [
      "Training models:  50%|██████████████████████████████████                                  | 50/100 [23:51<23:13, 27.87s/station]"
     ]
    },
    {
     "name": "stdout",
     "output_type": "stream",
     "text": [
      "Mean Squared Error for station 33014: 7.720461294109468e-06\n",
      "Valid indices for station 17024: [1407, 1399, 501, 530, 500, 510, 1418, 1396]\n",
      "Cross-Validation Score for station 17024: -0.00010784579792491697\n"
     ]
    },
    {
     "name": "stderr",
     "output_type": "stream",
     "text": [
      "Training models:  51%|██████████████████████████████████▋                                 | 51/100 [24:14<21:26, 26.26s/station]"
     ]
    },
    {
     "name": "stdout",
     "output_type": "stream",
     "text": [
      "Mean Squared Error for station 17024: 1.9041728456693288e-05\n",
      "Valid indices for station 13052: [244, 243, 250, 251, 252]\n",
      "Valid indices for station 13052: [262, 263, 265, 245, 242, 241, 244, 243, 250, 251, 252, 220, 249, 247, 224, 268, 272, 266, 273, 253, 221]\n",
      "Cross-Validation Score for station 13052: -0.0008178502044598032\n"
     ]
    },
    {
     "name": "stderr",
     "output_type": "stream",
     "text": [
      "Training models:  52%|███████████████████████████████████▎                                | 52/100 [24:43<21:36, 27.00s/station]"
     ]
    },
    {
     "name": "stdout",
     "output_type": "stream",
     "text": [
      "Mean Squared Error for station 13052: 0.0012413905801028412\n",
      "Valid indices for station 11001: [1131, 138, 1145, 75, 76, 1148, 104]\n",
      "Cross-Validation Score for station 11001: -0.00035958158846276787\n"
     ]
    },
    {
     "name": "stderr",
     "output_type": "stream",
     "text": [
      "Training models:  53%|████████████████████████████████████                                | 53/100 [25:25<24:45, 31.60s/station]"
     ]
    },
    {
     "name": "stdout",
     "output_type": "stream",
     "text": [
      "Mean Squared Error for station 11001: 5.614763900903395e-05\n",
      "Valid indices for station 15127: [417, 391, 362, 398, 390, 406]\n",
      "Cross-Validation Score for station 15127: -0.00042438871404662634\n"
     ]
    },
    {
     "name": "stderr",
     "output_type": "stream",
     "text": [
      "Training models:  54%|████████████████████████████████████▋                               | 54/100 [25:52<23:14, 30.33s/station]"
     ]
    },
    {
     "name": "stdout",
     "output_type": "stream",
     "text": [
      "Mean Squared Error for station 15127: 0.0004721239788425367\n",
      "Valid indices for station 15036: [367, 366, 420, 368, 352, 353, 354]\n",
      "Cross-Validation Score for station 15036: -0.001071924491657461\n"
     ]
    },
    {
     "name": "stderr",
     "output_type": "stream",
     "text": [
      "Training models:  55%|█████████████████████████████████████▍                              | 55/100 [26:28<24:05, 32.12s/station]"
     ]
    },
    {
     "name": "stdout",
     "output_type": "stream",
     "text": [
      "Mean Squared Error for station 15036: 0.0004943811594871449\n",
      "Valid indices for station 14032: [301, 285, 305, 310, 304, 308]\n",
      "Cross-Validation Score for station 14032: -0.0003240317780454598\n"
     ]
    },
    {
     "name": "stderr",
     "output_type": "stream",
     "text": [
      "Training models:  56%|██████████████████████████████████████                              | 56/100 [26:58<22:57, 31.30s/station]"
     ]
    },
    {
     "name": "stdout",
     "output_type": "stream",
     "text": [
      "Mean Squared Error for station 14032: 0.0001135031092962097\n",
      "Valid indices for station 11011: [83, 121, 115, 112, 123]\n",
      "Cross-Validation Score for station 11011: -0.000228008326948239\n"
     ]
    },
    {
     "name": "stderr",
     "output_type": "stream",
     "text": [
      "Training models:  57%|██████████████████████████████████████▊                             | 57/100 [27:27<21:52, 30.53s/station]"
     ]
    },
    {
     "name": "stdout",
     "output_type": "stream",
     "text": [
      "Mean Squared Error for station 11011: 8.485330716699947e-06\n",
      "Valid indices for station 20105: [684, 754, 688, 731, 1177, 1014]\n",
      "Cross-Validation Score for station 20105: -0.0005847399720895957\n"
     ]
    },
    {
     "name": "stderr",
     "output_type": "stream",
     "text": [
      "Training models:  58%|███████████████████████████████████████▍                            | 58/100 [27:55<20:57, 29.93s/station]"
     ]
    },
    {
     "name": "stdout",
     "output_type": "stream",
     "text": [
      "Mean Squared Error for station 20105: 0.0002153410580039997\n",
      "Valid indices for station 15018: [372, 371, 349, 351, 350, 421, 410]\n",
      "Cross-Validation Score for station 15018: -0.006183902394633628\n"
     ]
    },
    {
     "name": "stderr",
     "output_type": "stream",
     "text": [
      "Training models:  59%|████████████████████████████████████████                            | 59/100 [28:24<20:10, 29.52s/station]"
     ]
    },
    {
     "name": "stdout",
     "output_type": "stream",
     "text": [
      "Mean Squared Error for station 15018: 0.00017624423240513882\n",
      "Valid indices for station 33103: [1096, 1097]\n",
      "Valid indices for station 33103: [645, 668, 1096, 644, 1097, 706, 1124, 1078, 698, 1117, 1116, 1115, 1114]\n",
      "Cross-Validation Score for station 33103: -0.0008566803070958896\n"
     ]
    },
    {
     "name": "stderr",
     "output_type": "stream",
     "text": [
      "Training models:  60%|████████████████████████████████████████▊                           | 60/100 [28:44<17:49, 26.74s/station]"
     ]
    },
    {
     "name": "stdout",
     "output_type": "stream",
     "text": [
      "Mean Squared Error for station 33103: 0.00017357608798703738\n",
      "Valid indices for station 41401: [1170]\n",
      "Valid indices for station 41401: [1170, 1247, 1201, 1198]\n",
      "Valid indices for station 41401: [1188, 1197, 1202, 1199, 1171, 1260, 1230, 1170, 1247, 1201, 1198, 1246, 188, 183]\n",
      "Cross-Validation Score for station 41401: -0.0003916785972345268\n"
     ]
    },
    {
     "name": "stderr",
     "output_type": "stream",
     "text": [
      "Training models:  61%|█████████████████████████████████████████▍                          | 61/100 [29:18<18:52, 29.03s/station]"
     ]
    },
    {
     "name": "stdout",
     "output_type": "stream",
     "text": [
      "Mean Squared Error for station 41401: 0.0002868801276482986\n",
      "Valid indices for station 6002: [1351, 1346, 1320, 1329, 1338, 1330, 1319, 1337, 1356]\n",
      "Cross-Validation Score for station 6002: -5.718611651803908e-05\n"
     ]
    },
    {
     "name": "stderr",
     "output_type": "stream",
     "text": [
      "Training models:  62%|██████████████████████████████████████████▏                         | 62/100 [29:44<17:41, 27.93s/station]"
     ]
    },
    {
     "name": "stdout",
     "output_type": "stream",
     "text": [
      "Mean Squared Error for station 6002: 2.31244380421487e-05\n",
      "Valid indices for station 18039: [587, 35, 658, 617, 670]\n",
      "Cross-Validation Score for station 18039: -0.00013523194153643078\n"
     ]
    },
    {
     "name": "stderr",
     "output_type": "stream",
     "text": [
      "Training models:  63%|██████████████████████████████████████████▊                         | 63/100 [30:16<17:56, 29.09s/station]"
     ]
    },
    {
     "name": "stdout",
     "output_type": "stream",
     "text": [
      "Mean Squared Error for station 18039: 1.6808797950763098e-05\n",
      "Valid indices for station 14031: [302, 303, 311, 301, 305, 310, 304, 306, 329, 307]\n",
      "Cross-Validation Score for station 14031: -2.0055267392879357e-05\n"
     ]
    },
    {
     "name": "stderr",
     "output_type": "stream",
     "text": [
      "Training models:  64%|███████████████████████████████████████████▌                        | 64/100 [30:38<16:20, 27.23s/station]"
     ]
    },
    {
     "name": "stdout",
     "output_type": "stream",
     "text": [
      "Mean Squared Error for station 14031: 3.2832130343557083e-06\n",
      "Valid indices for station 20044: [684, 754, 720, 688, 697, 742, 761]\n",
      "Cross-Validation Score for station 20044: -0.00014244884625831165\n"
     ]
    },
    {
     "name": "stderr",
     "output_type": "stream",
     "text": [
      "Training models:  65%|████████████████████████████████████████████▏                       | 65/100 [31:07<16:08, 27.69s/station]"
     ]
    },
    {
     "name": "stdout",
     "output_type": "stream",
     "text": [
      "Mean Squared Error for station 20044: 0.0008030561595621699\n",
      "Valid indices for station 16019: [443, 442]\n",
      "Valid indices for station 16019: [444, 450, 445, 487, 484, 443, 442, 474, 437, 475, 472, 441, 438]\n",
      "Cross-Validation Score for station 16019: -0.0021125630374369208\n"
     ]
    },
    {
     "name": "stderr",
     "output_type": "stream",
     "text": [
      "Training models:  66%|████████████████████████████████████████████▉                       | 66/100 [31:35<15:42, 27.71s/station]"
     ]
    },
    {
     "name": "stdout",
     "output_type": "stream",
     "text": [
      "Mean Squared Error for station 16019: 0.001242679431894956\n",
      "Valid indices for station 33012: [1087]\n",
      "Valid indices for station 33012: [1088, 1087, 1086, 1092, 1091, 1093]\n",
      "Cross-Validation Score for station 33012: -0.0004964849029669284\n"
     ]
    },
    {
     "name": "stderr",
     "output_type": "stream",
     "text": [
      "Training models:  67%|█████████████████████████████████████████████▌                      | 67/100 [32:01<14:58, 27.23s/station]"
     ]
    },
    {
     "name": "stdout",
     "output_type": "stream",
     "text": [
      "Mean Squared Error for station 33012: 0.00018323241057411908\n",
      "Valid indices for station 10019: [4, 3, 5, 19, 17, 18, 67, 22, 21]\n",
      "Cross-Validation Score for station 10019: -8.3003557183755e-05\n"
     ]
    },
    {
     "name": "stderr",
     "output_type": "stream",
     "text": [
      "Training models:  68%|██████████████████████████████████████████████▏                     | 68/100 [32:29<14:42, 27.58s/station]"
     ]
    },
    {
     "name": "stdout",
     "output_type": "stream",
     "text": [
      "Mean Squared Error for station 10019: 6.014688836487587e-05\n",
      "Valid indices for station 13018: [241, 223, 255, 247]\n",
      "Valid indices for station 13018: [218, 237, 271, 270, 242, 241, 222, 223, 255, 256, 219, 243, 220, 249, 247, 224, 225, 272, 269, 257]\n",
      "Cross-Validation Score for station 13018: -0.00018020001078543566\n"
     ]
    },
    {
     "name": "stderr",
     "output_type": "stream",
     "text": [
      "Training models:  69%|██████████████████████████████████████████████▉                     | 69/100 [33:02<15:03, 29.14s/station]"
     ]
    },
    {
     "name": "stdout",
     "output_type": "stream",
     "text": [
      "Mean Squared Error for station 13018: 6.196987290482422e-05\n",
      "Valid indices for station 14011: [327, 288, 286]\n",
      "Valid indices for station 14011: [313, 326, 321, 293, 294, 287, 327, 285, 305, 308, 328, 282, 288, 286, 292, 322, 289, 283]\n",
      "Cross-Validation Score for station 14011: -0.00028824522002856906\n"
     ]
    },
    {
     "name": "stderr",
     "output_type": "stream",
     "text": [
      "Training models:  70%|███████████████████████████████████████████████▌                    | 70/100 [33:29<14:09, 28.33s/station]"
     ]
    },
    {
     "name": "stdout",
     "output_type": "stream",
     "text": [
      "Mean Squared Error for station 14011: 9.373340219512659e-05\n",
      "Valid indices for station 41203: [1227, 1156]\n",
      "Valid indices for station 41203: [1165, 1227, 1226, 1156, 1157]\n",
      "Cross-Validation Score for station 41203: -0.1174516141917343\n"
     ]
    },
    {
     "name": "stderr",
     "output_type": "stream",
     "text": [
      "Training models:  71%|████████████████████████████████████████████████▎                   | 71/100 [34:03<14:35, 30.20s/station]"
     ]
    },
    {
     "name": "stdout",
     "output_type": "stream",
     "text": [
      "Mean Squared Error for station 41203: 0.39935027378352095\n",
      "Valid indices for station 11033: [1145, 75, 76, 1148, 104, 96, 1001, 121]\n",
      "Cross-Validation Score for station 11033: -0.00023549438447559691\n"
     ]
    },
    {
     "name": "stderr",
     "output_type": "stream",
     "text": [
      "Training models:  72%|████████████████████████████████████████████████▉                   | 72/100 [34:34<14:09, 30.35s/station]"
     ]
    },
    {
     "name": "stdout",
     "output_type": "stream",
     "text": [
      "Mean Squared Error for station 11033: 6.403914072280995e-05\n",
      "Valid indices for station 17009: [502, 540, 493, 499, 497, 538, 498]\n",
      "Cross-Validation Score for station 17009: -0.00032884559531007774\n"
     ]
    },
    {
     "name": "stderr",
     "output_type": "stream",
     "text": [
      "Training models:  73%|█████████████████████████████████████████████████▋                  | 73/100 [35:07<14:00, 31.12s/station]"
     ]
    },
    {
     "name": "stdout",
     "output_type": "stream",
     "text": [
      "Mean Squared Error for station 17009: 0.0003204180078180433\n",
      "Valid indices for station 15008: [342, 340, 1363, 419]\n",
      "Valid indices for station 15008: [349, 346, 351, 347, 350, 348, 421, 342, 340, 410, 359, 343, 1363, 344, 1369, 411, 339, 412, 341, 419, 1364]\n",
      "Cross-Validation Score for station 15008: -0.0004961554547312973\n"
     ]
    },
    {
     "name": "stderr",
     "output_type": "stream",
     "text": [
      "Training models:  74%|██████████████████████████████████████████████████▎                 | 74/100 [35:52<15:18, 35.34s/station]"
     ]
    },
    {
     "name": "stdout",
     "output_type": "stream",
     "text": [
      "Mean Squared Error for station 15008: 0.0007794146405664638\n",
      "Valid indices for station 20022: [733, 746, 730, 750, 703, 702, 721, 739, 729]\n",
      "Cross-Validation Score for station 20022: -8.14899290903499e-05\n"
     ]
    },
    {
     "name": "stderr",
     "output_type": "stream",
     "text": [
      "Training models:  75%|███████████████████████████████████████████████████                 | 75/100 [36:18<13:36, 32.67s/station]"
     ]
    },
    {
     "name": "stdout",
     "output_type": "stream",
     "text": [
      "Mean Squared Error for station 20022: 2.14919727481784e-06\n",
      "Valid indices for station 18026: [568, 567, 571, 578, 584, 580, 577, 576]\n",
      "Cross-Validation Score for station 18026: -0.0002518104419451757\n"
     ]
    },
    {
     "name": "stderr",
     "output_type": "stream",
     "text": [
      "Training models:  76%|███████████████████████████████████████████████████▋                | 76/100 [36:48<12:39, 31.65s/station]"
     ]
    },
    {
     "name": "stdout",
     "output_type": "stream",
     "text": [
      "Mean Squared Error for station 18026: 7.232118353070099e-05\n",
      "Valid indices for station 5007: [1280, 1295, 1279, 1293, 1275, 1315, 1312, 1283, 1284]\n",
      "Cross-Validation Score for station 5007: -0.0003256655490884328\n"
     ]
    },
    {
     "name": "stderr",
     "output_type": "stream",
     "text": [
      "Training models:  77%|████████████████████████████████████████████████████▎               | 77/100 [37:22<12:23, 32.33s/station]"
     ]
    },
    {
     "name": "stdout",
     "output_type": "stream",
     "text": [
      "Mean Squared Error for station 5007: 0.00011688625184796404\n",
      "Valid indices for station 16105: [471, 436, 430, 468]\n",
      "Valid indices for station 16105: [437, 472, 438, 471, 489, 429, 435, 436, 473, 430, 434, 431, 468, 467, 551, 428, 521, 470]\n",
      "Cross-Validation Score for station 16105: -0.0010896615923906244\n"
     ]
    },
    {
     "name": "stderr",
     "output_type": "stream",
     "text": [
      "Training models:  78%|█████████████████████████████████████████████████████               | 78/100 [37:44<10:45, 29.35s/station]"
     ]
    },
    {
     "name": "stdout",
     "output_type": "stream",
     "text": [
      "Mean Squared Error for station 16105: 5.2800211910395436e-05\n",
      "Valid indices for station 16012: [437, 472, 489]\n",
      "Valid indices for station 16012: [487, 443, 442, 474, 437, 472, 441, 438, 471, 489, 436, 468]\n",
      "Cross-Validation Score for station 16012: -0.0007785124728483992\n"
     ]
    },
    {
     "name": "stderr",
     "output_type": "stream",
     "text": [
      "Training models:  79%|█████████████████████████████████████████████████████▋              | 79/100 [38:06<09:29, 27.13s/station]"
     ]
    },
    {
     "name": "stdout",
     "output_type": "stream",
     "text": [
      "Mean Squared Error for station 16012: 0.0011018711965883967\n",
      "Valid indices for station 42505: [1212]\n",
      "Valid indices for station 42505: [1208, 1215, 291, 231, 229, 259, 1212, 232, 230, 260]\n",
      "Cross-Validation Score for station 42505: -0.0002448625094728798\n"
     ]
    },
    {
     "name": "stderr",
     "output_type": "stream",
     "text": [
      "Training models:  80%|██████████████████████████████████████████████████████▍             | 80/100 [38:37<09:25, 28.27s/station]"
     ]
    },
    {
     "name": "stdout",
     "output_type": "stream",
     "text": [
      "Mean Squared Error for station 42505: 7.509316316451199e-05\n",
      "Valid indices for station 18139: [606, 596, 613, 608]\n",
      "Valid indices for station 18139: [573, 564, 560, 565, 562, 574, 575, 606, 576, 581, 582, 596, 604, 613, 608, 1099]\n",
      "Cross-Validation Score for station 18139: -0.0007782064431976156\n"
     ]
    },
    {
     "name": "stderr",
     "output_type": "stream",
     "text": [
      "Training models:  81%|███████████████████████████████████████████████████████             | 81/100 [39:06<09:01, 28.52s/station]"
     ]
    },
    {
     "name": "stdout",
     "output_type": "stream",
     "text": [
      "Mean Squared Error for station 18139: 0.001238101930226312\n",
      "Valid indices for station 12036: [208, 179, 165, 166, 153]\n",
      "Cross-Validation Score for station 12036: -0.0014223268596194323\n"
     ]
    },
    {
     "name": "stderr",
     "output_type": "stream",
     "text": [
      "Training models:  82%|███████████████████████████████████████████████████████▊            | 82/100 [39:35<08:33, 28.52s/station]"
     ]
    },
    {
     "name": "stdout",
     "output_type": "stream",
     "text": [
      "Mean Squared Error for station 12036: 0.0005210918114143915\n",
      "Valid indices for station 26004: [984, 978]\n",
      "Valid indices for station 26004: [984, 978]\n",
      "Valid indices for station 26004: [984, 808, 986, 978, 1104]\n",
      "Cross-Validation Score for station 26004: -0.00023480342247753755\n"
     ]
    },
    {
     "name": "stderr",
     "output_type": "stream",
     "text": [
      "Training models:  83%|████████████████████████████████████████████████████████▍           | 83/100 [40:01<07:54, 27.92s/station]"
     ]
    },
    {
     "name": "stdout",
     "output_type": "stream",
     "text": [
      "Mean Squared Error for station 26004: 0.00026137544242241115\n",
      "Valid indices for station 8044: [511, 1411]\n",
      "Valid indices for station 8044: [1410, 1433, 1429, 1400, 1424, 527, 1422, 1431, 1419, 511, 1420, 1421, 1425, 1411, 529, 512, 508, 507, 1390, 1409, 1417, 1406, 1426, 1404, 504, 1403, 1405, 506, 505, 543]\n",
      "Cross-Validation Score for station 8044: -0.0009444082423403603\n"
     ]
    },
    {
     "name": "stderr",
     "output_type": "stream",
     "text": [
      "Training models:  84%|█████████████████████████████████████████████████████████           | 84/100 [40:30<07:30, 28.16s/station]"
     ]
    },
    {
     "name": "stdout",
     "output_type": "stream",
     "text": [
      "Mean Squared Error for station 8044: 0.0003759556101908309\n",
      "Out of bounds indices for station 1020: [1463]\n",
      "Max valid index: 1460\n",
      "Valid indices for station 1020: [1430, 65, 66]\n",
      "Out of bounds indices for station 1020: [1463, 1472, 1462, 1471]\n",
      "Max valid index: 1460\n",
      "Valid indices for station 1020: [1358, 1359, 1357, 1430, 65, 66, 1383, 1392, 1391, 1384, 1386, 64, 760, 70, 753]\n",
      "Cross-Validation Score for station 1020: -0.00047227399144148425\n"
     ]
    },
    {
     "name": "stderr",
     "output_type": "stream",
     "text": [
      "Training models:  85%|█████████████████████████████████████████████████████████▊          | 85/100 [40:59<07:07, 28.51s/station]"
     ]
    },
    {
     "name": "stdout",
     "output_type": "stream",
     "text": [
      "Mean Squared Error for station 1020: 0.0002335010869397742\n",
      "Valid indices for station 1006: [30, 69, 134, 41, 42, 1142, 1143, 1144, 1147, 699, 90, 689, 1027, 707]\n",
      "Cross-Validation Score for station 1006: -0.00019791397293336758\n"
     ]
    },
    {
     "name": "stderr",
     "output_type": "stream",
     "text": [
      "Training models:  86%|██████████████████████████████████████████████████████████▍         | 86/100 [41:25<06:29, 27.82s/station]"
     ]
    },
    {
     "name": "stdout",
     "output_type": "stream",
     "text": [
      "Mean Squared Error for station 1006: 0.00017300799558864202\n",
      "Valid indices for station 12015: [152, 680, 149, 150, 85]\n",
      "Cross-Validation Score for station 12015: -0.0010468785886533557\n"
     ]
    },
    {
     "name": "stderr",
     "output_type": "stream",
     "text": [
      "Training models:  87%|███████████████████████████████████████████████████████████▏        | 87/100 [41:50<05:47, 26.77s/station]"
     ]
    },
    {
     "name": "stdout",
     "output_type": "stream",
     "text": [
      "Mean Squared Error for station 12015: 0.00044380849818535795\n",
      "Valid indices for station 15001: [338, 337, 309, 277, 323, 336, 1341, 1350, 1323]\n",
      "Cross-Validation Score for station 15001: -0.0008727385056836257\n"
     ]
    },
    {
     "name": "stderr",
     "output_type": "stream",
     "text": [
      "Training models:  88%|███████████████████████████████████████████████████████████▊        | 88/100 [42:22<05:39, 28.32s/station]"
     ]
    },
    {
     "name": "stdout",
     "output_type": "stream",
     "text": [
      "Mean Squared Error for station 15001: 8.469566026079663e-05\n",
      "Valid indices for station 19110: [1094, 660, 657, 659, 652]\n",
      "Cross-Validation Score for station 19110: -0.00011747101966840785\n"
     ]
    },
    {
     "name": "stderr",
     "output_type": "stream",
     "text": [
      "Training models:  89%|████████████████████████████████████████████████████████████▌       | 89/100 [42:45<04:56, 26.92s/station]"
     ]
    },
    {
     "name": "stdout",
     "output_type": "stream",
     "text": [
      "Mean Squared Error for station 19110: 3.904957918335838e-06\n",
      "Valid indices for station 22201: [890]\n",
      "Valid indices for station 22201: [915, 890]\n",
      "Valid indices for station 22201: [915, 944, 940, 946, 891, 890]\n",
      "Cross-Validation Score for station 22201: -0.0011858095622854618\n"
     ]
    },
    {
     "name": "stderr",
     "output_type": "stream",
     "text": [
      "Training models:  90%|█████████████████████████████████████████████████████████████▏      | 90/100 [43:11<04:25, 26.57s/station]"
     ]
    },
    {
     "name": "stdout",
     "output_type": "stream",
     "text": [
      "Mean Squared Error for station 22201: 0.0002573760504925265\n",
      "Valid indices for station 3008: [1136, 1007, 1008, 1057, 1002, 1003, 1006]\n",
      "Cross-Validation Score for station 3008: -0.0005724095276653867\n"
     ]
    },
    {
     "name": "stderr",
     "output_type": "stream",
     "text": [
      "Training models:  91%|█████████████████████████████████████████████████████████████▉      | 91/100 [43:47<04:25, 29.51s/station]"
     ]
    },
    {
     "name": "stdout",
     "output_type": "stream",
     "text": [
      "Mean Squared Error for station 3008: 3.029760839744693e-05\n",
      "Valid indices for station 11112: [80, 118, 124, 128, 127, 91]\n",
      "Cross-Validation Score for station 11112: -0.00017096285910483443\n"
     ]
    },
    {
     "name": "stderr",
     "output_type": "stream",
     "text": [
      "Training models:  92%|██████████████████████████████████████████████████████████████▌     | 92/100 [44:20<04:02, 30.36s/station]"
     ]
    },
    {
     "name": "stdout",
     "output_type": "stream",
     "text": [
      "Mean Squared Error for station 11112: 2.272695833948261e-05\n",
      "Valid indices for station 5015: [1290, 1282, 1297, 1281, 1308, 1289, 1283]\n",
      "Cross-Validation Score for station 5015: -0.0012367272037522997\n"
     ]
    },
    {
     "name": "stderr",
     "output_type": "stream",
     "text": [
      "Training models:  93%|███████████████████████████████████████████████████████████████▏    | 93/100 [44:49<03:31, 30.17s/station]"
     ]
    },
    {
     "name": "stdout",
     "output_type": "stream",
     "text": [
      "Mean Squared Error for station 5015: 0.00023079603831716646\n",
      "Valid indices for station 10032: [12, 106, 48, 49, 47, 32, 61, 24, 38]\n",
      "Cross-Validation Score for station 10032: -0.00029064797987454587\n"
     ]
    },
    {
     "name": "stderr",
     "output_type": "stream",
     "text": [
      "Training models:  94%|███████████████████████████████████████████████████████████████▉    | 94/100 [45:19<03:00, 30.02s/station]"
     ]
    },
    {
     "name": "stdout",
     "output_type": "stream",
     "text": [
      "Mean Squared Error for station 10032: 0.0002250135815701756\n",
      "Valid indices for station 48004: [1266]\n",
      "Valid indices for station 48004: [1267, 1271, 1273, 1266, 1240, 1239, 1268]\n",
      "Cross-Validation Score for station 48004: -6.540319176292337e-05\n"
     ]
    },
    {
     "name": "stderr",
     "output_type": "stream",
     "text": [
      "Training models:  95%|████████████████████████████████████████████████████████████████▌   | 95/100 [45:44<02:21, 28.35s/station]"
     ]
    },
    {
     "name": "stdout",
     "output_type": "stream",
     "text": [
      "Mean Squared Error for station 48004: 7.73451978054212e-05\n",
      "Valid indices for station 45002: [1249]\n",
      "Valid indices for station 45002: [1249]\n",
      "Valid indices for station 45002: [1229, 1249, 1252]\n",
      "Valid indices for station 45002: [1229, 1167, 1249, 1169, 1252]\n",
      "Cross-Validation Score for station 45002: -0.0002065481705211817\n"
     ]
    },
    {
     "name": "stderr",
     "output_type": "stream",
     "text": [
      "Training models:  96%|█████████████████████████████████████████████████████████████████▎  | 96/100 [46:17<01:59, 29.96s/station]"
     ]
    },
    {
     "name": "stdout",
     "output_type": "stream",
     "text": [
      "Mean Squared Error for station 45002: 9.859787911017378e-06\n",
      "Valid indices for station 16042: [784, 479, 464]\n",
      "Valid indices for station 16042: [785, 789, 784, 793, 846, 459, 462, 479, 466, 464, 463, 461, 426, 458]\n",
      "Cross-Validation Score for station 16042: -0.00014659424407116877\n"
     ]
    },
    {
     "name": "stderr",
     "output_type": "stream",
     "text": [
      "Training models:  97%|█████████████████████████████████████████████████████████████████▉  | 97/100 [46:51<01:33, 31.20s/station]"
     ]
    },
    {
     "name": "stdout",
     "output_type": "stream",
     "text": [
      "Mean Squared Error for station 16042: 0.00026868735243925734\n",
      "Valid indices for station 4006: [257, 1310, 192, 1130, 1150]\n",
      "Cross-Validation Score for station 4006: -0.00046881583251295373\n"
     ]
    },
    {
     "name": "stderr",
     "output_type": "stream",
     "text": [
      "Training models:  98%|██████████████████████████████████████████████████████████████████▋ | 98/100 [47:33<01:08, 34.41s/station]"
     ]
    },
    {
     "name": "stdout",
     "output_type": "stream",
     "text": [
      "Mean Squared Error for station 4006: 0.00039146479727570623\n",
      "Out of bounds indices for station 8117: [1463]\n",
      "Max valid index: 1460\n",
      "Valid indices for station 8117: [1430, 66, 1383, 1392]\n",
      "Out of bounds indices for station 8117: [1463, 1472, 1462, 1471]\n",
      "Max valid index: 1460\n",
      "Valid indices for station 8117: [1359, 1394, 1430, 65, 66, 1383, 1392, 1391, 1384, 1393, 1385, 1428, 1386, 1381, 64, 70, 753]\n",
      "Cross-Validation Score for station 8117: -0.1606974795847836\n"
     ]
    },
    {
     "name": "stderr",
     "output_type": "stream",
     "text": [
      "Training models:  99%|███████████████████████████████████████████████████████████████████▎| 99/100 [48:08<00:34, 34.64s/station]"
     ]
    },
    {
     "name": "stdout",
     "output_type": "stream",
     "text": [
      "Mean Squared Error for station 8117: 0.30268170426339497\n",
      "Valid indices for station 15128: [405, 423, 425, 418, 422, 379, 382]\n",
      "Cross-Validation Score for station 15128: -0.00034997796488678805\n"
     ]
    },
    {
     "name": "stderr",
     "output_type": "stream",
     "text": [
      "Training models: 100%|███████████████████████████████████████████████████████████████████| 100/100 [48:43<00:00, 29.23s/station]"
     ]
    },
    {
     "name": "stdout",
     "output_type": "stream",
     "text": [
      "Mean Squared Error for station 15128: 6.553892480736893e-05\n"
     ]
    },
    {
     "name": "stderr",
     "output_type": "stream",
     "text": [
      "\n"
     ]
    },
    {
     "name": "stdout",
     "output_type": "stream",
     "text": [
      "Intermediate results saved for batch 7\n",
      "Training models...\n",
      "Columns after feature creation: Index(['stationcode', 'name', 'is_installed', 'capacity', 'numdocksavailable',\n",
      "       'numbikesavailable', 'mechanical', 'ebike', 'is_renting',\n",
      "       'is_returning', 'duedate', 'coordonnees_geo',\n",
      "       'nom_arrondissement_communes', 'date', 'lat', 'lon', 'hour',\n",
      "       'day_of_week', 'lag_1_hour', 'lag_1_day', 'rolling_mean_7_days',\n",
      "       'rolling_mean_30_days', 'normalized_bikes_available',\n",
      "       'normalized_docks_available', 'usage_ratio',\n",
      "       'capacity_hour_interaction', 'capacity_day_interaction',\n",
      "       'avg_bikes_hour_day'],\n",
      "      dtype='object')\n"
     ]
    },
    {
     "name": "stderr",
     "output_type": "stream",
     "text": [
      "Training models:   0%|                                                                             | 0/100 [00:00<?, ?station/s]"
     ]
    },
    {
     "name": "stdout",
     "output_type": "stream",
     "text": [
      "Valid indices for station 44014: [1241]\n",
      "Valid indices for station 44014: [1240, 1241]\n",
      "Valid indices for station 44014: [1271, 1273, 1240, 1241, 1238]\n",
      "Cross-Validation Score for station 44014: -0.0002893548202417823\n"
     ]
    },
    {
     "name": "stderr",
     "output_type": "stream",
     "text": [
      "Training models:   1%|▋                                                                    | 1/100 [00:26<42:55, 26.02s/station]"
     ]
    },
    {
     "name": "stdout",
     "output_type": "stream",
     "text": [
      "Mean Squared Error for station 44014: 9.881498135719351e-05\n",
      "Valid indices for station 12037: [179, 165, 166, 153, 167]\n",
      "Cross-Validation Score for station 12037: -0.0006980806221584103\n"
     ]
    },
    {
     "name": "stderr",
     "output_type": "stream",
     "text": [
      "Training models:   2%|█▍                                                                   | 2/100 [00:55<46:04, 28.21s/station]"
     ]
    },
    {
     "name": "stdout",
     "output_type": "stream",
     "text": [
      "Mean Squared Error for station 12037: 9.66225510730786e-05\n",
      "Valid indices for station 47003: [1258]\n",
      "Valid indices for station 47003: [1257, 1259, 1258]\n",
      "Valid indices for station 47003: [1257, 1259, 1258, 200]\n",
      "Valid indices for station 47003: [1256, 1257, 1259, 1258, 200, 1245, 1261]\n",
      "Cross-Validation Score for station 47003: -0.00011636529884909014\n"
     ]
    },
    {
     "name": "stderr",
     "output_type": "stream",
     "text": [
      "Training models:   3%|██                                                                   | 3/100 [01:23<45:30, 28.15s/station]"
     ]
    },
    {
     "name": "stdout",
     "output_type": "stream",
     "text": [
      "Mean Squared Error for station 47003: 2.376078389541596e-05\n",
      "Valid indices for station 18004: [1449, 557, 588, 1450, 589, 556, 603]\n",
      "Cross-Validation Score for station 18004: -9.398590935384863e-05\n"
     ]
    },
    {
     "name": "stderr",
     "output_type": "stream",
     "text": [
      "Training models:   4%|██▊                                                                  | 4/100 [01:44<40:03, 25.04s/station]"
     ]
    },
    {
     "name": "stdout",
     "output_type": "stream",
     "text": [
      "Mean Squared Error for station 18004: 7.575118490347746e-05\n",
      "Valid indices for station 20034: [709, 751, 718, 745, 711]\n",
      "Cross-Validation Score for station 20034: -0.00028235815339195937\n"
     ]
    },
    {
     "name": "stderr",
     "output_type": "stream",
     "text": [
      "Training models:   5%|███▍                                                                 | 5/100 [02:12<41:19, 26.10s/station]"
     ]
    },
    {
     "name": "stdout",
     "output_type": "stream",
     "text": [
      "Mean Squared Error for station 20034: 0.00010926131096038664\n",
      "Valid indices for station 16013: [442, 472, 441, 438]\n",
      "Valid indices for station 16013: [454, 476, 446, 465, 445, 443, 442, 474, 437, 475, 472, 441, 438, 471, 489, 435, 436, 473]\n",
      "Cross-Validation Score for station 16013: -0.0007691161677420111\n"
     ]
    },
    {
     "name": "stderr",
     "output_type": "stream",
     "text": [
      "Training models:   6%|████▏                                                                | 6/100 [02:32<37:36, 24.00s/station]"
     ]
    },
    {
     "name": "stdout",
     "output_type": "stream",
     "text": [
      "Mean Squared Error for station 16013: 9.543058872177101e-05\n",
      "Out of bounds indices for station 9009: [1469, 1474, 1478]\n",
      "Max valid index: 1460\n",
      "Valid indices for station 9009: [1443, 4, 1441, 1442, 1434, 1440, 1435, 1439]\n",
      "Cross-Validation Score for station 9009: -0.00012418322017396176\n"
     ]
    },
    {
     "name": "stderr",
     "output_type": "stream",
     "text": [
      "Training models:   7%|████▊                                                                | 7/100 [03:04<41:28, 26.76s/station]"
     ]
    },
    {
     "name": "stdout",
     "output_type": "stream",
     "text": [
      "Mean Squared Error for station 9009: 3.0552041817412924e-05\n",
      "Valid indices for station 14103: [305, 310, 304, 306, 307]\n",
      "Cross-Validation Score for station 14103: -0.00010546229247606228\n"
     ]
    },
    {
     "name": "stderr",
     "output_type": "stream",
     "text": [
      "Training models:   8%|█████▌                                                               | 8/100 [03:33<41:54, 27.33s/station]"
     ]
    },
    {
     "name": "stdout",
     "output_type": "stream",
     "text": [
      "Mean Squared Error for station 14103: 0.0002807135897775846\n",
      "Valid indices for station 20008: [749, 687, 740, 685, 696, 691, 742]\n",
      "Cross-Validation Score for station 20008: -0.0010668061149158342\n"
     ]
    },
    {
     "name": "stderr",
     "output_type": "stream",
     "text": [
      "Training models:   9%|██████▏                                                              | 9/100 [04:04<43:29, 28.68s/station]"
     ]
    },
    {
     "name": "stdout",
     "output_type": "stream",
     "text": [
      "Mean Squared Error for station 20008: 2.1619070468654553e-05\n",
      "Valid indices for station 10038: [25, 59, 48, 37, 49, 46, 61, 679, 36]\n",
      "Cross-Validation Score for station 10038: -0.00044048850582186747\n"
     ]
    },
    {
     "name": "stderr",
     "output_type": "stream",
     "text": [
      "Training models:  10%|██████▊                                                             | 10/100 [04:31<42:14, 28.16s/station]"
     ]
    },
    {
     "name": "stdout",
     "output_type": "stream",
     "text": [
      "Mean Squared Error for station 10038: 0.0005045682525282689\n",
      "Valid indices for station 6104: [1335, 1326, 1277, 1348, 1278, 1313, 1314, 1276]\n",
      "Cross-Validation Score for station 6104: -0.00016542371424273027\n"
     ]
    },
    {
     "name": "stderr",
     "output_type": "stream",
     "text": [
      "Training models:  11%|███████▍                                                            | 11/100 [05:01<42:27, 28.62s/station]"
     ]
    },
    {
     "name": "stdout",
     "output_type": "stream",
     "text": [
      "Mean Squared Error for station 6104: 0.00029975578795435375\n",
      "Valid indices for station 10034: [39, 561, 60, 611, 34, 599, 31]\n",
      "Cross-Validation Score for station 10034: -0.00019969307561806221\n"
     ]
    },
    {
     "name": "stderr",
     "output_type": "stream",
     "text": [
      "Training models:  12%|████████▏                                                           | 12/100 [05:23<39:11, 26.72s/station]"
     ]
    },
    {
     "name": "stdout",
     "output_type": "stream",
     "text": [
      "Mean Squared Error for station 10034: 4.499392122941785e-05\n",
      "Valid indices for station 12019: [152, 165, 166, 153, 167]\n",
      "Cross-Validation Score for station 12019: -0.0004023762831155588\n"
     ]
    },
    {
     "name": "stderr",
     "output_type": "stream",
     "text": [
      "Training models:  13%|████████▊                                                           | 13/100 [05:55<41:03, 28.32s/station]"
     ]
    },
    {
     "name": "stdout",
     "output_type": "stream",
     "text": [
      "Mean Squared Error for station 12019: 0.0005209372866434003\n",
      "Valid indices for station 16102: [471, 468, 467, 428]\n",
      "Valid indices for station 16102: [437, 471, 489, 885, 429, 435, 436, 430, 434, 468, 467, 551, 428, 521, 522, 470, 523, 525, 533]\n",
      "Cross-Validation Score for station 16102: -1.0747415440782836e-05\n"
     ]
    },
    {
     "name": "stderr",
     "output_type": "stream",
     "text": [
      "Training models:  14%|█████████▌                                                          | 14/100 [06:18<38:22, 26.77s/station]"
     ]
    },
    {
     "name": "stdout",
     "output_type": "stream",
     "text": [
      "Mean Squared Error for station 16102: 5.235229865370561e-05\n",
      "Valid indices for station 14135: [290, 330, 291]\n",
      "Valid indices for station 14135: [290, 330, 1211, 321, 292, 289, 291, 231, 229, 246]\n",
      "Cross-Validation Score for station 14135: -0.00039312118119111584\n"
     ]
    },
    {
     "name": "stderr",
     "output_type": "stream",
     "text": [
      "Training models:  15%|██████████▏                                                         | 15/100 [06:43<36:48, 25.98s/station]"
     ]
    },
    {
     "name": "stdout",
     "output_type": "stream",
     "text": [
      "Mean Squared Error for station 14135: 0.00027698165760712786\n",
      "Valid indices for station 21309: [834, 836, 837, 848]\n",
      "Valid indices for station 21309: [839, 834, 836, 847, 849, 837, 843, 848, 413, 838]\n",
      "Cross-Validation Score for station 21309: -0.000448489703851461\n"
     ]
    },
    {
     "name": "stderr",
     "output_type": "stream",
     "text": [
      "Training models:  16%|██████████▉                                                         | 16/100 [07:16<39:24, 28.15s/station]"
     ]
    },
    {
     "name": "stdout",
     "output_type": "stream",
     "text": [
      "Mean Squared Error for station 21309: 0.00013884523915623306\n",
      "Valid indices for station 17019: [507, 504, 506, 505, 543, 501]\n",
      "Cross-Validation Score for station 17019: -5.754480267478516e-05\n"
     ]
    },
    {
     "name": "stderr",
     "output_type": "stream",
     "text": [
      "Training models:  17%|███████████▌                                                        | 17/100 [07:47<40:23, 29.20s/station]"
     ]
    },
    {
     "name": "stdout",
     "output_type": "stream",
     "text": [
      "Mean Squared Error for station 17019: 6.91370925339209e-06\n",
      "Valid indices for station 20024: [704, 732, 762, 736, 700]\n",
      "Cross-Validation Score for station 20024: -0.0005290097932431165\n"
     ]
    },
    {
     "name": "stderr",
     "output_type": "stream",
     "text": [
      "Training models:  18%|████████████▏                                                       | 18/100 [08:10<37:23, 27.36s/station]"
     ]
    },
    {
     "name": "stdout",
     "output_type": "stream",
     "text": [
      "Mean Squared Error for station 20024: 0.0008416907895349799\n",
      "Out of bounds indices for station 9037: [1464, 1465, 1466, 1467]\n",
      "Max valid index: 1460\n",
      "Valid indices for station 9037: [1388, 1432, 1387, 1459, 1389, 592, 591]\n",
      "Cross-Validation Score for station 9037: -2.4235675812586493e-05\n"
     ]
    },
    {
     "name": "stderr",
     "output_type": "stream",
     "text": [
      "Training models:  19%|████████████▉                                                       | 19/100 [08:30<33:43, 24.98s/station]"
     ]
    },
    {
     "name": "stdout",
     "output_type": "stream",
     "text": [
      "Mean Squared Error for station 9037: 1.4216851531997216e-06\n",
      "Valid indices for station 13005: [211, 210, 212, 1290, 1291]\n",
      "Cross-Validation Score for station 13005: -0.0007864973844297005\n"
     ]
    },
    {
     "name": "stderr",
     "output_type": "stream",
     "text": [
      "Training models:  20%|█████████████▌                                                      | 20/100 [09:05<37:30, 28.13s/station]"
     ]
    },
    {
     "name": "stdout",
     "output_type": "stream",
     "text": [
      "Mean Squared Error for station 13005: 0.000497387540179005\n",
      "Valid indices for station 12156: [195, 197, 154, 722]\n",
      "Valid indices for station 12156: [196, 150, 155, 151, 161, 1175, 195, 182, 197, 181, 154, 722, 682, 684, 685, 754, 683, 1176]\n",
      "Cross-Validation Score for station 12156: -0.00016319540602739816\n"
     ]
    },
    {
     "name": "stderr",
     "output_type": "stream",
     "text": [
      "Training models:  21%|██████████████▎                                                     | 21/100 [09:33<36:53, 28.02s/station]"
     ]
    },
    {
     "name": "stdout",
     "output_type": "stream",
     "text": [
      "Mean Squared Error for station 12156: 3.39110462357621e-05\n",
      "Valid indices for station 4108: [1286, 1285, 1149, 1307, 1134]\n",
      "Cross-Validation Score for station 4108: -9.81617487196772e-05\n"
     ]
    },
    {
     "name": "stderr",
     "output_type": "stream",
     "text": [
      "Training models:  22%|██████████████▉                                                     | 22/100 [10:06<38:09, 29.35s/station]"
     ]
    },
    {
     "name": "stdout",
     "output_type": "stream",
     "text": [
      "Mean Squared Error for station 4108: 6.84002715490801e-07\n",
      "Valid indices for station 1007: [135, 69, 134, 41, 42, 1143, 1147, 774, 724, 716, 699, 90, 689, 707]\n",
      "Cross-Validation Score for station 1007: -7.501666276367662e-06\n"
     ]
    },
    {
     "name": "stderr",
     "output_type": "stream",
     "text": [
      "Training models:  23%|███████████████▋                                                    | 23/100 [10:28<34:49, 27.13s/station]"
     ]
    },
    {
     "name": "stdout",
     "output_type": "stream",
     "text": [
      "Mean Squared Error for station 1007: 2.2304832713753695e-06\n",
      "Valid indices for station 19002: [658, 619, 616, 670]\n",
      "Valid indices for station 19002: [598, 587, 35, 36, 658, 640, 633, 618, 625, 617, 664, 639, 619, 669, 616, 620, 563, 612, 670, 615, 660, 657, 621]\n",
      "Cross-Validation Score for station 19002: -0.002190804419304298\n"
     ]
    },
    {
     "name": "stderr",
     "output_type": "stream",
     "text": [
      "Training models:  24%|████████████████▎                                                   | 24/100 [11:00<36:23, 28.73s/station]"
     ]
    },
    {
     "name": "stdout",
     "output_type": "stream",
     "text": [
      "Mean Squared Error for station 19002: 0.0011916905310591884\n",
      "Valid indices for station 20001: [198, 152, 680, 149, 150, 85, 719, 686]\n",
      "Cross-Validation Score for station 20001: -0.0001367369952687443\n"
     ]
    },
    {
     "name": "stderr",
     "output_type": "stream",
     "text": [
      "Training models:  25%|█████████████████                                                   | 25/100 [11:36<38:36, 30.89s/station]"
     ]
    },
    {
     "name": "stdout",
     "output_type": "stream",
     "text": [
      "Mean Squared Error for station 20001: 1.3883397156006491e-05\n",
      "Valid indices for station 3010: [1142, 1137, 1144, 1010, 1147, 1009, 689, 1011, 1027]\n",
      "Cross-Validation Score for station 3010: -7.523307729893631e-05\n"
     ]
    },
    {
     "name": "stderr",
     "output_type": "stream",
     "text": [
      "Training models:  26%|█████████████████▋                                                  | 26/100 [12:06<37:49, 30.67s/station]"
     ]
    },
    {
     "name": "stdout",
     "output_type": "stream",
     "text": [
      "Mean Squared Error for station 3010: 1.4714985368426597e-06\n",
      "Valid indices for station 22301: [900, 896]\n",
      "Valid indices for station 22301: [980, 900, 896, 899]\n",
      "Valid indices for station 22301: [987, 983, 980, 900, 896, 899, 898, 986]\n",
      "Cross-Validation Score for station 22301: -9.983005348705536e-05\n"
     ]
    },
    {
     "name": "stderr",
     "output_type": "stream",
     "text": [
      "Training models:  27%|██████████████████▎                                                 | 27/100 [12:33<35:56, 29.54s/station]"
     ]
    },
    {
     "name": "stdout",
     "output_type": "stream",
     "text": [
      "Mean Squared Error for station 22301: 1.1302141641943515e-05\n",
      "Valid indices for station 10009: [1019, 63, 3, 7, 5, 16, 17, 18, 62, 6, 1, 0, 9, 11, 15, 58]\n",
      "Cross-Validation Score for station 10009: -6.798607263457305e-05\n"
     ]
    },
    {
     "name": "stderr",
     "output_type": "stream",
     "text": [
      "Training models:  28%|███████████████████                                                 | 28/100 [13:00<34:38, 28.87s/station]"
     ]
    },
    {
     "name": "stdout",
     "output_type": "stream",
     "text": [
      "Mean Squared Error for station 10009: 1.0873159650333598e-05\n",
      "Valid indices for station 8028: [518, 1416, 1433, 1382, 1429, 1423, 1400, 1424, 1431, 1419, 1420, 1421]\n",
      "Cross-Validation Score for station 8028: -0.0010434367253745643\n"
     ]
    },
    {
     "name": "stderr",
     "output_type": "stream",
     "text": [
      "Training models:  29%|███████████████████▋                                                | 29/100 [13:27<33:18, 28.14s/station]"
     ]
    },
    {
     "name": "stdout",
     "output_type": "stream",
     "text": [
      "Mean Squared Error for station 8028: 0.0005124223602484466\n",
      "Valid indices for station 20006: [749, 687, 682, 685]\n",
      "Valid indices for station 20006: [680, 149, 150, 151, 719, 692, 686, 749, 687, 740, 197, 154, 722, 682, 684, 685, 754, 720, 688, 693, 696, 691, 697, 742, 761]\n",
      "Cross-Validation Score for station 20006: -3.235261199250121e-05\n"
     ]
    },
    {
     "name": "stderr",
     "output_type": "stream",
     "text": [
      "Training models:  30%|████████████████████▍                                               | 30/100 [13:50<31:00, 26.58s/station]"
     ]
    },
    {
     "name": "stdout",
     "output_type": "stream",
     "text": [
      "Mean Squared Error for station 20006: 7.774180552949165e-06\n",
      "Valid indices for station 19201: [641, 629, 655, 674, 631, 630]\n",
      "Cross-Validation Score for station 19201: -0.00015444117345235275\n"
     ]
    },
    {
     "name": "stderr",
     "output_type": "stream",
     "text": [
      "Training models:  31%|█████████████████████                                               | 31/100 [14:18<31:20, 27.25s/station]"
     ]
    },
    {
     "name": "stdout",
     "output_type": "stream",
     "text": [
      "Mean Squared Error for station 19201: 3.5292806985764366e-05\n",
      "Valid indices for station 21026: [791, 788, 795, 776]\n",
      "Valid indices for station 21026: [936, 791, 788, 794, 795, 775, 776, 786, 787]\n",
      "Cross-Validation Score for station 21026: -0.0004418243256808244\n"
     ]
    },
    {
     "name": "stderr",
     "output_type": "stream",
     "text": [
      "Training models:  32%|█████████████████████▊                                              | 32/100 [14:52<32:51, 29.00s/station]"
     ]
    },
    {
     "name": "stdout",
     "output_type": "stream",
     "text": [
      "Mean Squared Error for station 21026: 7.857459995588527e-06\n",
      "Valid indices for station 16103: [431, 470, 518, 469, 427]\n",
      "Cross-Validation Score for station 16103: -0.0008046882730438288\n"
     ]
    },
    {
     "name": "stderr",
     "output_type": "stream",
     "text": [
      "Training models:  33%|██████████████████████▍                                             | 33/100 [15:12<29:27, 26.38s/station]"
     ]
    },
    {
     "name": "stdout",
     "output_type": "stream",
     "text": [
      "Mean Squared Error for station 16103: 0.0004071787553038846\n",
      "Valid indices for station 21953: [873]\n",
      "Valid indices for station 21953: [873]\n",
      "Valid indices for station 21953: [936, 873, 790, 791, 788, 795]\n",
      "Cross-Validation Score for station 21953: -3.8815377333227164e-05\n"
     ]
    },
    {
     "name": "stderr",
     "output_type": "stream",
     "text": [
      "Training models:  34%|███████████████████████                                             | 34/100 [15:40<29:33, 26.87s/station]"
     ]
    },
    {
     "name": "stdout",
     "output_type": "stream",
     "text": [
      "Mean Squared Error for station 21953: 1.5667136027949904e-06\n",
      "Valid indices for station 31709: [1053, 1015]\n",
      "Valid indices for station 31709: [731, 1014, 1013, 1035, 1025, 1051, 1053, 1015, 1022]\n",
      "Cross-Validation Score for station 31709: -0.00015494538905910183\n"
     ]
    },
    {
     "name": "stderr",
     "output_type": "stream",
     "text": [
      "Training models:  35%|███████████████████████▊                                            | 35/100 [16:10<30:04, 27.76s/station]"
     ]
    },
    {
     "name": "stdout",
     "output_type": "stream",
     "text": [
      "Mean Squared Error for station 31709: 2.7944083888139384e-05\n",
      "Valid indices for station 10006: [63, 44, 3, 7, 5, 16, 19, 17, 18, 67]\n",
      "Cross-Validation Score for station 10006: -0.00012537144454140468\n"
     ]
    },
    {
     "name": "stderr",
     "output_type": "stream",
     "text": [
      "Training models:  36%|████████████████████████▍                                           | 36/100 [16:38<29:43, 27.87s/station]"
     ]
    },
    {
     "name": "stdout",
     "output_type": "stream",
     "text": [
      "Mean Squared Error for station 10006: 8.393283321334798e-05\n",
      "Valid indices for station 3011: [1010, 1009, 1007, 1011, 1012, 1027, 1019, 1005]\n",
      "Cross-Validation Score for station 3011: -0.0004788029693207803\n"
     ]
    },
    {
     "name": "stderr",
     "output_type": "stream",
     "text": [
      "Training models:  37%|█████████████████████████▏                                          | 37/100 [17:12<31:24, 29.91s/station]"
     ]
    },
    {
     "name": "stdout",
     "output_type": "stream",
     "text": [
      "Mean Squared Error for station 3011: 0.00042110417747251086\n",
      "Valid indices for station 7021: [1370, 1373, 1371]\n",
      "Valid indices for station 7021: [403, 356, 1379, 1378, 1368, 1370, 1367, 1373, 1372, 1412, 1371, 1413, 1366, 1408, 1375]\n",
      "Cross-Validation Score for station 7021: -5.298199446416984e-05\n"
     ]
    },
    {
     "name": "stderr",
     "output_type": "stream",
     "text": [
      "Training models:  38%|█████████████████████████▊                                          | 38/100 [17:44<31:31, 30.51s/station]"
     ]
    },
    {
     "name": "stdout",
     "output_type": "stream",
     "text": [
      "Mean Squared Error for station 7021: 2.3309745399496948e-05\n",
      "Valid indices for station 5122: [1277, 1348, 1278, 1313, 1314, 1276, 1318, 1343, 1306, 1317]\n",
      "Cross-Validation Score for station 5122: -0.0022524583320190604\n"
     ]
    },
    {
     "name": "stderr",
     "output_type": "stream",
     "text": [
      "Training models:  39%|██████████████████████████▌                                         | 39/100 [17:54<24:45, 24.36s/station]"
     ]
    },
    {
     "name": "stdout",
     "output_type": "stream",
     "text": [
      "Mean Squared Error for station 5122: 0.0020006214310248687\n",
      "Valid indices for station 21506: [857, 858]\n",
      "Valid indices for station 21506: [860, 857, 858, 855]\n",
      "Valid indices for station 21506: [861, 860, 857, 858, 854, 855, 859]\n",
      "Cross-Validation Score for station 21506: -0.0004572563860439541\n"
     ]
    },
    {
     "name": "stderr",
     "output_type": "stream",
     "text": [
      "Training models:  40%|███████████████████████████▏                                        | 40/100 [18:20<24:48, 24.81s/station]"
     ]
    },
    {
     "name": "stdout",
     "output_type": "stream",
     "text": [
      "Mean Squared Error for station 21506: 4.924966574296418e-06\n",
      "Valid indices for station 4103: [1138, 1139, 1140, 1146, 1141, 1142, 1137, 1144, 1135, 1136]\n",
      "Cross-Validation Score for station 4103: -7.640024353380623e-06\n"
     ]
    },
    {
     "name": "stderr",
     "output_type": "stream",
     "text": [
      "Training models:  41%|███████████████████████████▉                                        | 41/100 [18:48<25:08, 25.57s/station]"
     ]
    },
    {
     "name": "stdout",
     "output_type": "stream",
     "text": [
      "Mean Squared Error for station 4103: 0.0\n",
      "Valid indices for station 20029: [706, 1078, 698]\n",
      "Valid indices for station 20029: [741, 645, 735, 668, 1097, 706, 1052, 1124, 1078, 698, 1081]\n",
      "Cross-Validation Score for station 20029: -0.0006878204536064884\n"
     ]
    },
    {
     "name": "stderr",
     "output_type": "stream",
     "text": [
      "Training models:  42%|████████████████████████████▌                                       | 42/100 [19:12<24:25, 25.27s/station]"
     ]
    },
    {
     "name": "stdout",
     "output_type": "stream",
     "text": [
      "Mean Squared Error for station 20029: 0.0002886861254638625\n",
      "Valid indices for station 2003: [41, 42, 1147, 716, 90, 759, 689, 1012, 1027, 707, 758, 44]\n",
      "Cross-Validation Score for station 2003: -0.00011669115198662677\n"
     ]
    },
    {
     "name": "stderr",
     "output_type": "stream",
     "text": [
      "Training models:  43%|█████████████████████████████▏                                      | 43/100 [19:45<26:17, 27.68s/station]"
     ]
    },
    {
     "name": "stdout",
     "output_type": "stream",
     "text": [
      "Mean Squared Error for station 2003: 0.00011894778359832148\n",
      "Valid indices for station 22503: [910, 912]\n",
      "Valid indices for station 22503: [910, 909, 912, 914, 990, 957, 911]\n",
      "Cross-Validation Score for station 22503: -0.00027093179246649805\n"
     ]
    },
    {
     "name": "stderr",
     "output_type": "stream",
     "text": [
      "Training models:  44%|█████████████████████████████▉                                      | 44/100 [20:06<23:57, 25.66s/station]"
     ]
    },
    {
     "name": "stdout",
     "output_type": "stream",
     "text": [
      "Mean Squared Error for station 22503: 5.9243461002991784e-05\n",
      "Valid indices for station 1102: [69, 134, 41, 42, 1147, 774, 724, 716, 699, 90, 759, 689, 707]\n",
      "Cross-Validation Score for station 1102: -0.0002979210879616095\n"
     ]
    },
    {
     "name": "stderr",
     "output_type": "stream",
     "text": [
      "Training models:  45%|██████████████████████████████▌                                     | 45/100 [20:38<25:10, 27.46s/station]"
     ]
    },
    {
     "name": "stdout",
     "output_type": "stream",
     "text": [
      "Mean Squared Error for station 1102: 4.857488034227481e-05\n",
      "Valid indices for station 3012: [759, 689, 1011, 1012, 1027, 707, 1019, 63, 758, 44, 3]\n",
      "Cross-Validation Score for station 3012: -0.00011988460136700397\n"
     ]
    },
    {
     "name": "stderr",
     "output_type": "stream",
     "text": [
      "Training models:  46%|███████████████████████████████▎                                    | 46/100 [21:13<26:43, 29.69s/station]"
     ]
    },
    {
     "name": "stdout",
     "output_type": "stream",
     "text": [
      "Mean Squared Error for station 3012: 1.5661301783728566e-05\n",
      "Valid indices for station 12020: [197, 154, 722, 682, 684]\n",
      "Cross-Validation Score for station 12020: -0.0005743177314458317\n"
     ]
    },
    {
     "name": "stderr",
     "output_type": "stream",
     "text": [
      "Training models:  47%|███████████████████████████████▉                                    | 47/100 [21:40<25:31, 28.90s/station]"
     ]
    },
    {
     "name": "stdout",
     "output_type": "stream",
     "text": [
      "Mean Squared Error for station 12020: 0.00012139805230186993\n",
      "Valid indices for station 13017: [271, 270, 222]\n",
      "Valid indices for station 13017: [233, 261, 238, 258, 217, 215, 218, 213, 1305, 237, 236, 274, 271, 270, 242, 241, 222, 223, 255, 256, 219, 220, 249, 247]\n",
      "Cross-Validation Score for station 13017: -0.001400550377667081\n"
     ]
    },
    {
     "name": "stderr",
     "output_type": "stream",
     "text": [
      "Training models:  48%|████████████████████████████████▋                                   | 48/100 [22:05<24:02, 27.74s/station]"
     ]
    },
    {
     "name": "stdout",
     "output_type": "stream",
     "text": [
      "Mean Squared Error for station 13017: 0.00025505411125066574\n",
      "Valid indices for station 2002: [43, 72, 725, 69, 41, 42, 774, 724, 716, 699, 90, 763, 797]\n",
      "Cross-Validation Score for station 2002: -0.00027749262753639194\n"
     ]
    },
    {
     "name": "stderr",
     "output_type": "stream",
     "text": [
      "Training models:  49%|█████████████████████████████████▎                                  | 49/100 [22:35<24:09, 28.42s/station]"
     ]
    },
    {
     "name": "stdout",
     "output_type": "stream",
     "text": [
      "Mean Squared Error for station 2002: 0.00013960273122284335\n",
      "Valid indices for station 15111: [375, 378, 409, 422, 380]\n",
      "Cross-Validation Score for station 15111: -0.00018243420165964475\n"
     ]
    },
    {
     "name": "stderr",
     "output_type": "stream",
     "text": [
      "Training models:  50%|██████████████████████████████████                                  | 50/100 [22:57<22:07, 26.55s/station]"
     ]
    },
    {
     "name": "stdout",
     "output_type": "stream",
     "text": [
      "Mean Squared Error for station 15111: 1.3855635364014466e-06\n",
      "Valid indices for station 3005: [1007, 1011, 1005, 1, 0, 1006, 10, 1004]\n",
      "Cross-Validation Score for station 3005: -0.00021279346733593202\n"
     ]
    },
    {
     "name": "stderr",
     "output_type": "stream",
     "text": [
      "Training models:  51%|██████████████████████████████████▋                                 | 51/100 [23:28<22:45, 27.88s/station]"
     ]
    },
    {
     "name": "stdout",
     "output_type": "stream",
     "text": [
      "Mean Squared Error for station 3005: 0.0001873671044402745\n",
      "Valid indices for station 2005: [43, 50, 72, 725, 42, 774, 724, 716, 699, 90, 763, 797, 798]\n",
      "Cross-Validation Score for station 2005: -0.0001424314699084306\n"
     ]
    },
    {
     "name": "stderr",
     "output_type": "stream",
     "text": [
      "Training models:  52%|███████████████████████████████████▎                                | 52/100 [23:51<21:02, 26.31s/station]"
     ]
    },
    {
     "name": "stdout",
     "output_type": "stream",
     "text": [
      "Mean Squared Error for station 2005: 0.00010315313048213545\n",
      "Valid indices for station 19129: [646, 737, 666, 636, 661, 672]\n",
      "Cross-Validation Score for station 19129: -3.761487239467479e-05\n"
     ]
    },
    {
     "name": "stderr",
     "output_type": "stream",
     "text": [
      "Training models:  53%|████████████████████████████████████                                | 53/100 [24:21<21:36, 27.58s/station]"
     ]
    },
    {
     "name": "stdout",
     "output_type": "stream",
     "text": [
      "Mean Squared Error for station 19129: 5.41523474006338e-06\n",
      "Valid indices for station 24006: [960]\n",
      "Valid indices for station 24006: [959, 922, 961, 981, 982, 960]\n",
      "Cross-Validation Score for station 24006: -0.00029507210781245955\n"
     ]
    },
    {
     "name": "stderr",
     "output_type": "stream",
     "text": [
      "Training models:  54%|████████████████████████████████████▋                               | 54/100 [24:52<21:53, 28.54s/station]"
     ]
    },
    {
     "name": "stdout",
     "output_type": "stream",
     "text": [
      "Mean Squared Error for station 24006: 0.0002449311987383746\n",
      "Valid indices for station 3009: [1137, 1144, 1010, 1009, 1136, 1007, 1011]\n",
      "Cross-Validation Score for station 3009: -7.634365497125104e-06\n"
     ]
    },
    {
     "name": "stderr",
     "output_type": "stream",
     "text": [
      "Training models:  55%|█████████████████████████████████████▍                              | 55/100 [25:19<20:54, 27.88s/station]"
     ]
    },
    {
     "name": "stdout",
     "output_type": "stream",
     "text": [
      "Mean Squared Error for station 3009: 6.459234800290493e-07\n",
      "Valid indices for station 14132: [294, 287, 327, 285, 288]\n",
      "Cross-Validation Score for station 14132: -0.00010013931897284848\n"
     ]
    },
    {
     "name": "stderr",
     "output_type": "stream",
     "text": [
      "Training models:  56%|██████████████████████████████████████                              | 56/100 [25:50<21:10, 28.89s/station]"
     ]
    },
    {
     "name": "stdout",
     "output_type": "stream",
     "text": [
      "Mean Squared Error for station 14132: 0.00016930114253569205\n",
      "Valid indices for station 26005: [979]\n",
      "Valid indices for station 26005: [809, 975, 979, 983, 980]\n",
      "Cross-Validation Score for station 26005: -0.00015232998819229572\n"
     ]
    },
    {
     "name": "stderr",
     "output_type": "stream",
     "text": [
      "Training models:  57%|██████████████████████████████████████▊                             | 57/100 [26:27<22:28, 31.35s/station]"
     ]
    },
    {
     "name": "stdout",
     "output_type": "stream",
     "text": [
      "Mean Squared Error for station 26005: 3.497626403993195e-05\n",
      "Valid indices for station 23702: [953, 952]\n",
      "Valid indices for station 23702: [953, 952, 951]\n",
      "Valid indices for station 23702: [953, 952, 951]\n",
      "Valid indices for station 23702: [953, 952, 951, 964]\n"
     ]
    },
    {
     "name": "stderr",
     "output_type": "stream",
     "text": [
      "/Users/anthonybellon/Comp_Documents/VelibVisualisation/scripts/train_model.py:103: SettingWithCopyWarning: \n",
      "A value is trying to be set on a copy of a slice from a DataFrame.\n",
      "Try using .loc[row_indexer,col_indexer] = value instead\n",
      "\n",
      "See the caveats in the documentation: https://pandas.pydata.org/pandas-docs/stable/user_guide/indexing.html#returning-a-view-versus-a-copy\n",
      "  \n"
     ]
    },
    {
     "name": "stdout",
     "output_type": "stream",
     "text": [
      "Cross-Validation Score for station 23702: -3.883418732546642e-05\n"
     ]
    },
    {
     "name": "stderr",
     "output_type": "stream",
     "text": [
      "Training models:  58%|███████████████████████████████████████▍                            | 58/100 [26:55<21:18, 30.43s/station]"
     ]
    },
    {
     "name": "stdout",
     "output_type": "stream",
     "text": [
      "Mean Squared Error for station 23702: 4.433073111208798e-07\n",
      "Valid indices for station 14022: [320, 332, 312, 298, 325, 334]\n",
      "Cross-Validation Score for station 14022: -0.0011583956625282202\n"
     ]
    },
    {
     "name": "stderr",
     "output_type": "stream",
     "text": [
      "Training models:  59%|████████████████████████████████████████                            | 59/100 [27:20<19:42, 28.84s/station]"
     ]
    },
    {
     "name": "stdout",
     "output_type": "stream",
     "text": [
      "Mean Squared Error for station 14022: 0.0019019899615191117\n",
      "Valid indices for station 13125: [269, 257, 1310, 141]\n",
      "Valid indices for station 13125: [223, 255, 256, 219, 247, 224, 225, 272, 269, 1309, 257, 1310, 192, 1130, 1150, 142, 173, 141, 193, 139]\n",
      "Cross-Validation Score for station 13125: -0.000632352576748349\n"
     ]
    },
    {
     "name": "stderr",
     "output_type": "stream",
     "text": [
      "Training models:  60%|████████████████████████████████████████▊                           | 60/100 [28:00<21:26, 32.16s/station]"
     ]
    },
    {
     "name": "stdout",
     "output_type": "stream",
     "text": [
      "Mean Squared Error for station 13125: 0.0007092784328531598\n",
      "Valid indices for station 19012: [640, 633, 618, 625, 647, 664, 639]\n",
      "Cross-Validation Score for station 19012: -0.00033218125557311245\n"
     ]
    },
    {
     "name": "stderr",
     "output_type": "stream",
     "text": [
      "Training models:  61%|█████████████████████████████████████████▍                          | 61/100 [28:31<20:41, 31.85s/station]"
     ]
    },
    {
     "name": "stdout",
     "output_type": "stream",
     "text": [
      "Mean Squared Error for station 19012: 1.2149407198823571e-05\n",
      "Valid indices for station 3006: [1007, 1008, 1003, 1005, 0, 1006, 1004, 109, 116, 111]\n",
      "Cross-Validation Score for station 3006: -0.00024396789170139712\n"
     ]
    },
    {
     "name": "stderr",
     "output_type": "stream",
     "text": [
      "Training models:  62%|██████████████████████████████████████████▏                         | 62/100 [29:10<21:25, 33.82s/station]"
     ]
    },
    {
     "name": "stdout",
     "output_type": "stream",
     "text": [
      "Mean Squared Error for station 3006: 3.0145006203474258e-05\n",
      "Valid indices for station 21507: [860, 857, 858]\n",
      "Valid indices for station 21507: [861, 860, 857, 858, 854, 855, 859]\n",
      "Cross-Validation Score for station 21507: -0.00015984185637218722\n"
     ]
    },
    {
     "name": "stderr",
     "output_type": "stream",
     "text": [
      "Training models:  63%|██████████████████████████████████████████▊                         | 63/100 [29:39<20:01, 32.48s/station]"
     ]
    },
    {
     "name": "stdout",
     "output_type": "stream",
     "text": [
      "Mean Squared Error for station 21507: 9.736653928226482e-05\n",
      "Valid indices for station 14023: [299, 320, 312]\n",
      "Valid indices for station 14023: [902, 906, 904, 827, 824, 903, 299, 424, 320, 333, 374, 332, 312, 298, 334]\n",
      "Cross-Validation Score for station 14023: -7.079443191737807e-05\n"
     ]
    },
    {
     "name": "stderr",
     "output_type": "stream",
     "text": [
      "Training models:  64%|███████████████████████████████████████████▌                        | 64/100 [30:08<18:53, 31.50s/station]"
     ]
    },
    {
     "name": "stdout",
     "output_type": "stream",
     "text": [
      "Mean Squared Error for station 14023: 5.217340142289276e-06\n",
      "Valid indices for station 2021: [43, 72, 726, 725, 783, 774, 724, 716, 699, 763, 728, 797, 764, 798, 1444]\n",
      "Cross-Validation Score for station 2021: -0.0003105234761006391\n"
     ]
    },
    {
     "name": "stderr",
     "output_type": "stream",
     "text": [
      "Training models:  65%|████████████████████████████████████████████▏                       | 65/100 [30:44<19:01, 32.63s/station]"
     ]
    },
    {
     "name": "stdout",
     "output_type": "stream",
     "text": [
      "Mean Squared Error for station 2021: 0.00016065423982747237\n",
      "Valid indices for station 1014: [71, 52, 53, 64, 57, 132, 805, 760, 804]\n",
      "Cross-Validation Score for station 1014: -0.00012713634104613873\n"
     ]
    },
    {
     "name": "stderr",
     "output_type": "stream",
     "text": [
      "Training models:  66%|████████████████████████████████████████████▉                       | 66/100 [31:17<18:41, 32.99s/station]"
     ]
    },
    {
     "name": "stdout",
     "output_type": "stream",
     "text": [
      "Mean Squared Error for station 1014: 2.378980147070751e-06\n",
      "Out of bounds indices for station 9111: [1473, 1476]\n",
      "Max valid index: 1460\n",
      "Valid indices for station 9111: [1454, 1455, 1456, 747, 1445, 1453, 1446, 1447, 1452, 1448, 1451]\n",
      "Cross-Validation Score for station 9111: -2.726010977315148e-06\n"
     ]
    },
    {
     "name": "stderr",
     "output_type": "stream",
     "text": [
      "Training models:  67%|█████████████████████████████████████████████▌                      | 67/100 [31:46<17:22, 31.60s/station]"
     ]
    },
    {
     "name": "stdout",
     "output_type": "stream",
     "text": [
      "Mean Squared Error for station 9111: 8.14754106841051e-05\n",
      "Valid indices for station 48005: [1269, 1267]\n",
      "Valid indices for station 48005: [1269, 1267, 1271, 1266, 1268]\n",
      "Cross-Validation Score for station 48005: -0.00022180009874865698\n"
     ]
    },
    {
     "name": "stderr",
     "output_type": "stream",
     "text": [
      "Training models:  68%|██████████████████████████████████████████████▏                     | 68/100 [32:15<16:31, 30.99s/station]"
     ]
    },
    {
     "name": "stdout",
     "output_type": "stream",
     "text": [
      "Mean Squared Error for station 48005: 0.00028590614768672114\n",
      "Valid indices for station 44001: [1230]\n",
      "Valid indices for station 44001: [1231, 1230]\n",
      "Valid indices for station 44001: [1231, 1188, 1197, 1244, 1171, 1230, 1170]\n",
      "Cross-Validation Score for station 44001: -0.000615338611221561\n"
     ]
    },
    {
     "name": "stderr",
     "output_type": "stream",
     "text": [
      "Training models:  69%|██████████████████████████████████████████████▉                     | 69/100 [32:40<15:03, 29.16s/station]"
     ]
    },
    {
     "name": "stdout",
     "output_type": "stream",
     "text": [
      "Mean Squared Error for station 44001: 0.00013907158369313495\n",
      "Valid indices for station 4005: [1150, 1129, 1151, 1132, 1133]\n",
      "Cross-Validation Score for station 4005: -1.7785295946540413e-05\n"
     ]
    },
    {
     "name": "stderr",
     "output_type": "stream",
     "text": [
      "Training models:  70%|███████████████████████████████████████████████▌                    | 70/100 [33:12<14:55, 29.86s/station]"
     ]
    },
    {
     "name": "stdout",
     "output_type": "stream",
     "text": [
      "Mean Squared Error for station 4005: 1.959135413167248e-08\n",
      "Valid indices for station 21215: [827, 824]\n",
      "Valid indices for station 21215: [820, 894, 818, 904, 827, 824, 903, 819, 826, 817, 299, 332]\n",
      "Cross-Validation Score for station 21215: -0.000588278040584654\n"
     ]
    },
    {
     "name": "stderr",
     "output_type": "stream",
     "text": [
      "Training models:  71%|████████████████████████████████████████████████▎                   | 71/100 [33:41<14:23, 29.77s/station]"
     ]
    },
    {
     "name": "stdout",
     "output_type": "stream",
     "text": [
      "Mean Squared Error for station 21215: 0.00013297174861632638\n",
      "Valid indices for station 41208: [1161]\n",
      "Valid indices for station 41208: [1160, 1161, 1040]\n",
      "Valid indices for station 41208: [1160, 1161, 1040]\n",
      "Valid indices for station 41208: [1162, 1160, 1168, 1161, 1159, 1040, 1039]\n",
      "Cross-Validation Score for station 41208: -8.401617856858417e-05\n"
     ]
    },
    {
     "name": "stderr",
     "output_type": "stream",
     "text": [
      "Training models:  72%|████████████████████████████████████████████████▉                   | 72/100 [34:17<14:45, 31.62s/station]"
     ]
    },
    {
     "name": "stdout",
     "output_type": "stream",
     "text": [
      "Mean Squared Error for station 41208: 5.228297140652514e-06\n",
      "Valid indices for station 42704: [1215]\n",
      "Valid indices for station 42704: [1213, 1215, 1216, 1217, 1214, 1212, 234, 235]\n",
      "Cross-Validation Score for station 42704: -0.00021705736993254558\n"
     ]
    },
    {
     "name": "stderr",
     "output_type": "stream",
     "text": [
      "Training models:  73%|█████████████████████████████████████████████████▋                  | 73/100 [34:47<13:57, 31.01s/station]"
     ]
    },
    {
     "name": "stdout",
     "output_type": "stream",
     "text": [
      "Mean Squared Error for station 42704: 8.461597588380118e-05\n",
      "Valid indices for station 3003: [1008, 1002, 1003, 114, 117, 1006, 109, 111]\n",
      "Cross-Validation Score for station 3003: -0.00013379917162503069\n"
     ]
    },
    {
     "name": "stderr",
     "output_type": "stream",
     "text": [
      "Training models:  74%|██████████████████████████████████████████████████▎                 | 74/100 [35:23<14:06, 32.55s/station]"
     ]
    },
    {
     "name": "stdout",
     "output_type": "stream",
     "text": [
      "Mean Squared Error for station 3003: 0.00021309474054684337\n",
      "Valid indices for station 10041: [45, 39, 597, 561, 564, 560, 60, 611, 34]\n",
      "Cross-Validation Score for station 10041: -9.717361289522506e-05\n"
     ]
    },
    {
     "name": "stderr",
     "output_type": "stream",
     "text": [
      "Training models:  75%|███████████████████████████████████████████████████                 | 75/100 [35:50<12:53, 30.93s/station]"
     ]
    },
    {
     "name": "stdout",
     "output_type": "stream",
     "text": [
      "Mean Squared Error for station 10041: 4.863227117010161e-06\n",
      "Valid indices for station 4009: [1129, 1151, 1132, 1134, 1135, 1133]\n",
      "Cross-Validation Score for station 4009: -0.00011645962732919261\n"
     ]
    },
    {
     "name": "stderr",
     "output_type": "stream",
     "text": [
      "Training models:  76%|███████████████████████████████████████████████████▋                | 76/100 [36:27<13:03, 32.66s/station]"
     ]
    },
    {
     "name": "stdout",
     "output_type": "stream",
     "text": [
      "Mean Squared Error for station 4009: 7.616509829380596e-06\n",
      "Valid indices for station 19111: [615, 660, 657, 659]\n",
      "Valid indices for station 19111: [616, 620, 670, 595, 615, 1094, 660, 657, 659, 1082, 622, 621, 652, 643]\n",
      "Cross-Validation Score for station 19111: -0.0026713216231883997\n"
     ]
    },
    {
     "name": "stderr",
     "output_type": "stream",
     "text": [
      "Training models:  77%|████████████████████████████████████████████████████▎               | 77/100 [36:51<11:30, 30.02s/station]"
     ]
    },
    {
     "name": "stdout",
     "output_type": "stream",
     "text": [
      "Mean Squared Error for station 19111: 0.0009756304502753496\n",
      "Valid indices for station 26006: [983, 980]\n",
      "Valid indices for station 26006: [979, 987, 983, 980, 900, 896]\n",
      "Cross-Validation Score for station 26006: -0.00021342695151393143\n"
     ]
    },
    {
     "name": "stderr",
     "output_type": "stream",
     "text": [
      "Training models:  78%|█████████████████████████████████████████████████████               | 78/100 [37:32<12:12, 33.31s/station]"
     ]
    },
    {
     "name": "stdout",
     "output_type": "stream",
     "text": [
      "Mean Squared Error for station 26006: 0.0005238898649261473\n",
      "Valid indices for station 42026: [1194, 1193, 1192]\n",
      "Valid indices for station 42026: [1216, 1217, 1214, 1194, 1193, 1195, 235, 239, 264, 1192, 240, 263, 1185, 1186]\n",
      "Cross-Validation Score for station 42026: -0.00027090018845227177\n"
     ]
    },
    {
     "name": "stderr",
     "output_type": "stream",
     "text": [
      "Training models:  79%|█████████████████████████████████████████████████████▋              | 79/100 [38:08<11:55, 34.09s/station]"
     ]
    },
    {
     "name": "stdout",
     "output_type": "stream",
     "text": [
      "Mean Squared Error for station 42026: 0.00017392411263419564\n",
      "Valid indices for station 14133: [285, 308, 328, 282, 278, 279]\n",
      "Cross-Validation Score for station 14133: -0.00029546091986225304\n"
     ]
    },
    {
     "name": "stderr",
     "output_type": "stream",
     "text": [
      "Training models:  80%|██████████████████████████████████████████████████████▍             | 80/100 [38:46<11:50, 35.51s/station]"
     ]
    },
    {
     "name": "stdout",
     "output_type": "stream",
     "text": [
      "Mean Squared Error for station 14133: 0.0005241044804932274\n",
      "Valid indices for station 12163: [200]\n",
      "Valid indices for station 12163: [200]\n",
      "Valid indices for station 12163: [1258, 200, 190]\n",
      "Valid indices for station 12163: [1257, 1259, 1258, 200, 202, 189, 203, 187, 1245, 1261, 1228, 190, 201]\n",
      "Cross-Validation Score for station 12163: -0.0009674005993750042\n"
     ]
    },
    {
     "name": "stderr",
     "output_type": "stream",
     "text": [
      "Training models:  81%|███████████████████████████████████████████████████████             | 81/100 [39:22<11:14, 35.51s/station]"
     ]
    },
    {
     "name": "stdout",
     "output_type": "stream",
     "text": [
      "Mean Squared Error for station 12163: 0.00026732848141011246\n",
      "Valid indices for station 3004: [1005, 1, 0, 1006, 10, 1004, 108, 109, 116, 111, 9, 13]\n",
      "Cross-Validation Score for station 3004: -1.0367672772523554e-05\n"
     ]
    },
    {
     "name": "stderr",
     "output_type": "stream",
     "text": [
      "Training models:  82%|███████████████████████████████████████████████████████▊            | 82/100 [39:57<10:38, 35.47s/station]"
     ]
    },
    {
     "name": "stdout",
     "output_type": "stream",
     "text": [
      "Mean Squared Error for station 3004: 1.6604839226620275e-06\n",
      "Valid indices for station 4007: [1151, 1131, 139, 138, 1145, 75, 1148]\n",
      "Cross-Validation Score for station 4007: -0.00012292601003200535\n"
     ]
    },
    {
     "name": "stderr",
     "output_type": "stream",
     "text": [
      "Training models:  83%|████████████████████████████████████████████████████████▍           | 83/100 [40:42<10:48, 38.17s/station]"
     ]
    },
    {
     "name": "stdout",
     "output_type": "stream",
     "text": [
      "Mean Squared Error for station 4007: 0.00037076008946407735\n",
      "Valid indices for station 3002: [1008, 1057, 1002, 1003, 117, 1001]\n",
      "Cross-Validation Score for station 3002: -7.426843723284502e-06\n"
     ]
    },
    {
     "name": "stderr",
     "output_type": "stream",
     "text": [
      "Training models:  84%|█████████████████████████████████████████████████████████           | 84/100 [41:15<09:49, 36.84s/station]"
     ]
    },
    {
     "name": "stdout",
     "output_type": "stream",
     "text": [
      "Mean Squared Error for station 3002: 2.237859389028605e-07\n",
      "Valid indices for station 2004: [42, 774, 724, 716, 699, 90, 763, 759, 764, 798, 689, 707, 758, 44, 2]\n",
      "Cross-Validation Score for station 2004: -0.00010049879985897926\n"
     ]
    },
    {
     "name": "stderr",
     "output_type": "stream",
     "text": [
      "Training models:  85%|█████████████████████████████████████████████████████████▊          | 85/100 [41:43<08:32, 34.16s/station]"
     ]
    },
    {
     "name": "stdout",
     "output_type": "stream",
     "text": [
      "Mean Squared Error for station 2004: 3.570836195209769e-05\n",
      "Valid indices for station 1012: [145, 43, 51, 50, 73, 74, 72, 726, 725, 133, 724]\n",
      "Cross-Validation Score for station 1012: -6.351299202469776e-05\n"
     ]
    },
    {
     "name": "stderr",
     "output_type": "stream",
     "text": [
      "Training models:  86%|██████████████████████████████████████████████████████████▍         | 86/100 [42:18<07:59, 34.27s/station]"
     ]
    },
    {
     "name": "stdout",
     "output_type": "stream",
     "text": [
      "Mean Squared Error for station 1012: 4.4562460950420884e-05\n",
      "Valid indices for station 14134: [303, 311, 304, 306, 412, 329, 319, 307]\n",
      "Cross-Validation Score for station 14134: -0.007157165852360534\n"
     ]
    },
    {
     "name": "stderr",
     "output_type": "stream",
     "text": [
      "Training models:  87%|███████████████████████████████████████████████████████████▏        | 87/100 [42:47<07:04, 32.68s/station]"
     ]
    },
    {
     "name": "stdout",
     "output_type": "stream",
     "text": [
      "Mean Squared Error for station 14134: 1.0928629425864449e-05\n",
      "Valid indices for station 19130: [628, 671, 667, 622, 673]\n",
      "Cross-Validation Score for station 19130: -0.0001663554177282953\n"
     ]
    },
    {
     "name": "stderr",
     "output_type": "stream",
     "text": [
      "Training models:  88%|███████████████████████████████████████████████████████████▊        | 88/100 [43:10<05:58, 29.90s/station]"
     ]
    },
    {
     "name": "stdout",
     "output_type": "stream",
     "text": [
      "Mean Squared Error for station 19130: 6.789947622065023e-05\n",
      "Valid indices for station 35012: [1117, 1113, 1119]\n",
      "Valid indices for station 35012: [1096, 1097, 1124, 1117, 1116, 1114, 1113, 1119, 1111, 1118, 1112, 1122]\n",
      "Cross-Validation Score for station 35012: -0.0009224131422079886\n"
     ]
    },
    {
     "name": "stderr",
     "output_type": "stream",
     "text": [
      "Training models:  89%|████████████████████████████████████████████████████████████▌       | 89/100 [43:43<05:39, 30.90s/station]"
     ]
    },
    {
     "name": "stdout",
     "output_type": "stream",
     "text": [
      "Mean Squared Error for station 35012: 0.0005592181630428993\n",
      "Valid indices for station 2009: [805, 726, 727, 725, 814, 804, 1454, 744, 783, 796, 747, 1445, 728, 797]\n",
      "Cross-Validation Score for station 2009: -0.00018682720306888273\n"
     ]
    },
    {
     "name": "stderr",
     "output_type": "stream",
     "text": [
      "Training models:  90%|█████████████████████████████████████████████████████████████▏      | 90/100 [44:25<05:41, 34.12s/station]"
     ]
    },
    {
     "name": "stdout",
     "output_type": "stream",
     "text": [
      "Mean Squared Error for station 2009: 7.57860664552859e-05\n",
      "Valid indices for station 21505: [856]\n",
      "Valid indices for station 21505: [863, 856]\n",
      "Valid indices for station 21505: [889, 888, 970, 972, 863, 856, 861]\n",
      "Cross-Validation Score for station 21505: -0.0003139151058963941\n"
     ]
    },
    {
     "name": "stderr",
     "output_type": "stream",
     "text": [
      "Training models:  91%|█████████████████████████████████████████████████████████████▉      | 91/100 [44:54<04:52, 32.52s/station]"
     ]
    },
    {
     "name": "stdout",
     "output_type": "stream",
     "text": [
      "Mean Squared Error for station 21505: 0.00040055455105661816\n",
      "Valid indices for station 2016: [716, 759, 798, 40, 689, 1012, 707, 63, 758, 44, 2, 3]\n",
      "Cross-Validation Score for station 2016: -0.0003550497818041934\n"
     ]
    },
    {
     "name": "stderr",
     "output_type": "stream",
     "text": [
      "Training models:  92%|██████████████████████████████████████████████████████████████▌     | 92/100 [45:23<04:12, 31.55s/station]"
     ]
    },
    {
     "name": "stdout",
     "output_type": "stream",
     "text": [
      "Mean Squared Error for station 2016: 5.353040145678393e-05\n",
      "Valid indices for station 1017: [65, 52, 64, 57, 132, 760, 70, 753]\n",
      "Cross-Validation Score for station 1017: -9.732641078728042e-05\n"
     ]
    },
    {
     "name": "stderr",
     "output_type": "stream",
     "text": [
      "Training models:  93%|███████████████████████████████████████████████████████████████▏    | 93/100 [45:55<03:41, 31.64s/station]"
     ]
    },
    {
     "name": "stdout",
     "output_type": "stream",
     "text": [
      "Mean Squared Error for station 1017: 0.0002111204968944103\n",
      "Valid indices for station 33020: [1095]\n",
      "Valid indices for station 33020: [1069, 1095, 1082, 1088]\n",
      "Valid indices for station 33020: [607, 595, 1094, 1056, 1055, 1054, 1059, 1069, 1095, 1082, 1088, 1087, 1086, 1092, 1093]\n",
      "Cross-Validation Score for station 33020: -0.0007341257077373328\n"
     ]
    },
    {
     "name": "stderr",
     "output_type": "stream",
     "text": [
      "Training models:  94%|███████████████████████████████████████████████████████████████▉    | 94/100 [46:38<03:30, 35.12s/station]"
     ]
    },
    {
     "name": "stdout",
     "output_type": "stream",
     "text": [
      "Mean Squared Error for station 33020: 0.0005743030486688702\n",
      "Valid indices for station 31104: [1039]\n",
      "Valid indices for station 31104: [1039]\n",
      "Valid indices for station 31104: [1040, 1039, 1038]\n",
      "Valid indices for station 31104: [1161, 1159, 1040, 1039, 1036, 1038]\n",
      "Cross-Validation Score for station 31104: -0.0001578917332128802\n"
     ]
    },
    {
     "name": "stderr",
     "output_type": "stream",
     "text": [
      "Training models:  95%|████████████████████████████████████████████████████████████████▌   | 95/100 [47:10<02:50, 34.14s/station]"
     ]
    },
    {
     "name": "stdout",
     "output_type": "stream",
     "text": [
      "Mean Squared Error for station 31104: 0.00013475516960594763\n",
      "Valid indices for station 18015: [610, 566, 573, 572, 575]\n",
      "Cross-Validation Score for station 18015: -0.00038295191286119156\n"
     ]
    },
    {
     "name": "stderr",
     "output_type": "stream",
     "text": [
      "Training models:  96%|█████████████████████████████████████████████████████████████████▎  | 96/100 [47:43<02:15, 33.84s/station]"
     ]
    },
    {
     "name": "stdout",
     "output_type": "stream",
     "text": [
      "Mean Squared Error for station 18015: 0.0004796941124378765\n",
      "Valid indices for station 4018: [1126, 1127, 20, 30, 135, 134, 1139, 1140, 1146, 1141, 1142, 1143, 1144, 1147]\n",
      "Cross-Validation Score for station 4018: -5.067776111095316e-05\n"
     ]
    },
    {
     "name": "stderr",
     "output_type": "stream",
     "text": [
      "Training models:  97%|█████████████████████████████████████████████████████████████████▉  | 97/100 [48:12<01:36, 32.21s/station]"
     ]
    },
    {
     "name": "stdout",
     "output_type": "stream",
     "text": [
      "Mean Squared Error for station 4018: 5.6540578100785535e-05\n",
      "Out of bounds indices for station 9039: [1472, 1462, 1468, 1461, 1477]\n",
      "Max valid index: 1460\n",
      "Valid indices for station 9039: [753, 1454, 744, 757, 1455, 1456, 1460, 1453]\n",
      "Cross-Validation Score for station 9039: -0.01105448708051235\n"
     ]
    },
    {
     "name": "stderr",
     "output_type": "stream",
     "text": [
      "Training models:  98%|██████████████████████████████████████████████████████████████████▋ | 98/100 [48:40<01:01, 30.94s/station]"
     ]
    },
    {
     "name": "stdout",
     "output_type": "stream",
     "text": [
      "Mean Squared Error for station 9039: 0.0035523093954005873\n",
      "Valid indices for station 2008: [805, 43, 50, 74, 72, 726, 727, 725, 814, 804, 783, 796, 763, 728, 797]\n",
      "Cross-Validation Score for station 2008: -0.00018435982294180957\n"
     ]
    },
    {
     "name": "stderr",
     "output_type": "stream",
     "text": [
      "Training models:  99%|███████████████████████████████████████████████████████████████████▎| 99/100 [49:10<00:30, 30.72s/station]"
     ]
    },
    {
     "name": "stdout",
     "output_type": "stream",
     "text": [
      "Mean Squared Error for station 2008: 9.326462289213183e-05\n",
      "Valid indices for station 1026: [53, 145, 43, 51, 50, 73, 74, 72, 726, 725]\n",
      "Cross-Validation Score for station 1026: -0.00023364951305138772\n"
     ]
    },
    {
     "name": "stderr",
     "output_type": "stream",
     "text": [
      "Training models: 100%|███████████████████████████████████████████████████████████████████| 100/100 [49:39<00:00, 29.80s/station]"
     ]
    },
    {
     "name": "stdout",
     "output_type": "stream",
     "text": [
      "Mean Squared Error for station 1026: 2.2344223004771592e-05\n"
     ]
    },
    {
     "name": "stderr",
     "output_type": "stream",
     "text": [
      "\n"
     ]
    },
    {
     "name": "stdout",
     "output_type": "stream",
     "text": [
      "Intermediate results saved for batch 8\n",
      "Training models...\n",
      "Columns after feature creation: Index(['stationcode', 'name', 'is_installed', 'capacity', 'numdocksavailable',\n",
      "       'numbikesavailable', 'mechanical', 'ebike', 'is_renting',\n",
      "       'is_returning', 'duedate', 'coordonnees_geo',\n",
      "       'nom_arrondissement_communes', 'date', 'lat', 'lon', 'hour',\n",
      "       'day_of_week', 'lag_1_hour', 'lag_1_day', 'rolling_mean_7_days',\n",
      "       'rolling_mean_30_days', 'normalized_bikes_available',\n",
      "       'normalized_docks_available', 'usage_ratio',\n",
      "       'capacity_hour_interaction', 'capacity_day_interaction',\n",
      "       'avg_bikes_hour_day'],\n",
      "      dtype='object')\n"
     ]
    },
    {
     "name": "stderr",
     "output_type": "stream",
     "text": [
      "Training models:   0%|                                                                             | 0/100 [00:00<?, ?station/s]"
     ]
    },
    {
     "name": "stdout",
     "output_type": "stream",
     "text": [
      "Valid indices for station 23101: [934]\n",
      "Valid indices for station 23101: [934, 939, 935]\n",
      "Valid indices for station 23101: [938, 937, 934, 939, 935]\n",
      "Cross-Validation Score for station 23101: -0.0004052074205828266\n"
     ]
    },
    {
     "name": "stderr",
     "output_type": "stream",
     "text": [
      "Training models:   1%|▋                                                                    | 1/100 [00:25<41:41, 25.27s/station]"
     ]
    },
    {
     "name": "stdout",
     "output_type": "stream",
     "text": [
      "Mean Squared Error for station 23101: 0.0005743226340356014\n",
      "Valid indices for station 21954: [874]\n",
      "Valid indices for station 21954: [874]\n",
      "Valid indices for station 21954: [872, 874]\n",
      "Valid indices for station 21954: [872, 874, 873, 790, 829, 830]\n",
      "Cross-Validation Score for station 21954: -0.00032575989908358445\n"
     ]
    },
    {
     "name": "stderr",
     "output_type": "stream",
     "text": [
      "Training models:   2%|█▍                                                                   | 2/100 [00:51<41:44, 25.55s/station]"
     ]
    },
    {
     "name": "stdout",
     "output_type": "stream",
     "text": [
      "Mean Squared Error for station 21954: 2.747338284185941e-05\n",
      "Valid indices for station 1018: [65, 66, 64, 70]\n",
      "Out of bounds indices for station 1018: [1463, 1472, 1462, 1468]\n",
      "Max valid index: 1460\n",
      "Valid indices for station 1018: [1358, 1357, 1430, 65, 66, 1383, 1356, 71, 52, 53, 64, 57, 132, 805, 760, 70, 753, 804, 744, 757]\n",
      "Cross-Validation Score for station 1018: -0.0002598429935454568\n"
     ]
    },
    {
     "name": "stderr",
     "output_type": "stream",
     "text": [
      "Training models:   3%|██                                                                   | 3/100 [01:19<43:46, 27.08s/station]"
     ]
    },
    {
     "name": "stdout",
     "output_type": "stream",
     "text": [
      "Mean Squared Error for station 1018: 0.00013381049335783613\n",
      "Valid indices for station 1116: [71, 52, 53, 64, 57, 132, 805, 760, 70, 753, 814, 804, 744, 757]\n",
      "Cross-Validation Score for station 1116: -0.00033576359586624777\n"
     ]
    },
    {
     "name": "stderr",
     "output_type": "stream",
     "text": [
      "Training models:   4%|██▊                                                                  | 4/100 [01:50<45:30, 28.44s/station]"
     ]
    },
    {
     "name": "stdout",
     "output_type": "stream",
     "text": [
      "Mean Squared Error for station 1116: 0.00013461417181120212\n",
      "Valid indices for station 27001: [988]\n",
      "Valid indices for station 27001: [988]\n",
      "Valid indices for station 27001: [908, 909, 990, 988]\n",
      "Valid indices for station 27001: [908, 909, 914, 990, 988, 989]\n",
      "Cross-Validation Score for station 27001: -2.482081010756756e-08\n"
     ]
    },
    {
     "name": "stderr",
     "output_type": "stream",
     "text": [
      "Training models:   5%|███▍                                                                 | 5/100 [02:21<46:26, 29.33s/station]"
     ]
    },
    {
     "name": "stdout",
     "output_type": "stream",
     "text": [
      "Mean Squared Error for station 27001: 0.0\n",
      "Valid indices for station 12157: [198, 152, 680, 82, 84, 137, 136, 85]\n",
      "Cross-Validation Score for station 12157: -0.00519643920621822\n"
     ]
    },
    {
     "name": "stderr",
     "output_type": "stream",
     "text": [
      "Training models:   6%|████▏                                                                | 6/100 [02:56<49:04, 31.33s/station]"
     ]
    },
    {
     "name": "stdout",
     "output_type": "stream",
     "text": [
      "Mean Squared Error for station 12157: 0.0012419919004163906\n",
      "Valid indices for station 12165: [202, 203]\n",
      "Valid indices for station 12165: [202, 203, 187, 205]\n",
      "Valid indices for station 12165: [202, 189, 203, 187, 205, 209, 204, 186]\n",
      "Cross-Validation Score for station 12165: -0.0028375235123579323\n"
     ]
    },
    {
     "name": "stderr",
     "output_type": "stream",
     "text": [
      "Training models:   7%|████▊                                                                | 7/100 [03:06<37:53, 24.44s/station]"
     ]
    },
    {
     "name": "stdout",
     "output_type": "stream",
     "text": [
      "Mean Squared Error for station 12165: 0.00248379142526527\n",
      "Valid indices for station 12164: [201]\n",
      "Valid indices for station 12164: [189, 190, 201]\n",
      "Valid indices for station 12164: [189, 203, 1228, 190, 201, 191]\n",
      "Cross-Validation Score for station 12164: -0.00012808471557373185\n"
     ]
    },
    {
     "name": "stderr",
     "output_type": "stream",
     "text": [
      "Training models:   8%|█████▌                                                               | 8/100 [03:36<40:03, 26.13s/station]"
     ]
    },
    {
     "name": "stdout",
     "output_type": "stream",
     "text": [
      "Mean Squared Error for station 12164: 0.00017384035423657627\n",
      "Valid indices for station 18112: [579, 585, 601, 605, 547, 586]\n",
      "Cross-Validation Score for station 18112: -0.0001975099588410163\n"
     ]
    },
    {
     "name": "stderr",
     "output_type": "stream",
     "text": [
      "Training models:   9%|██████▏                                                              | 9/100 [04:03<40:09, 26.47s/station]"
     ]
    },
    {
     "name": "stdout",
     "output_type": "stream",
     "text": [
      "Mean Squared Error for station 18112: 8.211177695550548e-08\n",
      "Valid indices for station 12166: [187, 205, 209, 204, 186]\n",
      "Cross-Validation Score for station 12166: -0.0010865252561239691\n"
     ]
    },
    {
     "name": "stderr",
     "output_type": "stream",
     "text": [
      "Training models:  10%|██████▊                                                             | 10/100 [04:14<32:16, 21.52s/station]"
     ]
    },
    {
     "name": "stdout",
     "output_type": "stream",
     "text": [
      "Mean Squared Error for station 12166: 0.00014089678278030157\n",
      "Valid indices for station 6026: [1341, 1350, 1353, 1322, 1344, 1340, 1339, 1354, 1376, 1349]\n",
      "Cross-Validation Score for station 6026: -0.0005185147911670046\n"
     ]
    },
    {
     "name": "stderr",
     "output_type": "stream",
     "text": [
      "Training models:  11%|███████▍                                                            | 11/100 [04:56<41:32, 28.01s/station]"
     ]
    },
    {
     "name": "stdout",
     "output_type": "stream",
     "text": [
      "Mean Squared Error for station 6026: 7.893000886290817e-05\n",
      "Valid indices for station 22601: [915]\n",
      "Valid indices for station 22601: [916, 915, 944, 946, 890]\n",
      "Cross-Validation Score for station 22601: -0.00014282139073585297\n"
     ]
    },
    {
     "name": "stderr",
     "output_type": "stream",
     "text": [
      "Training models:  12%|████████▏                                                           | 12/100 [05:21<39:22, 26.84s/station]"
     ]
    },
    {
     "name": "stdout",
     "output_type": "stream",
     "text": [
      "Mean Squared Error for station 22601: 6.085856559515808e-07\n",
      "Valid indices for station 42018: [1187]\n",
      "Valid indices for station 42018: [1182, 1187, 1189]\n",
      "Valid indices for station 42018: [1235, 1196, 1191, 1182, 1187, 1189, 1184, 1190]\n",
      "Cross-Validation Score for station 42018: -0.0003788457275202195\n"
     ]
    },
    {
     "name": "stderr",
     "output_type": "stream",
     "text": [
      "Training models:  13%|████████▊                                                           | 13/100 [05:47<38:38, 26.65s/station]"
     ]
    },
    {
     "name": "stdout",
     "output_type": "stream",
     "text": [
      "Mean Squared Error for station 42018: 0.00042501916967904686\n",
      "Valid indices for station 48008: [1269, 1267]\n",
      "Valid indices for station 48008: [1269, 1267, 1263]\n",
      "Valid indices for station 48008: [1265, 1270, 1269, 1267, 1271, 1266, 1263, 1213, 1264, 1268]\n",
      "Cross-Validation Score for station 48008: -0.0005516182675721687\n"
     ]
    },
    {
     "name": "stderr",
     "output_type": "stream",
     "text": [
      "Training models:  14%|█████████▌                                                          | 14/100 [06:12<37:44, 26.33s/station]"
     ]
    },
    {
     "name": "stdout",
     "output_type": "stream",
     "text": [
      "Mean Squared Error for station 48008: 1.312349559635939e-05\n",
      "Valid indices for station 17021: [508, 507, 506, 505]\n",
      "Valid indices for station 17021: [1422, 511, 1411, 513, 529, 532, 512, 509, 508, 507, 1406, 504, 506, 505, 542, 543, 548, 501, 530, 546]\n",
      "Cross-Validation Score for station 17021: -0.0005371273732956741\n"
     ]
    },
    {
     "name": "stderr",
     "output_type": "stream",
     "text": [
      "Training models:  15%|██████████▏                                                         | 15/100 [06:34<35:27, 25.03s/station]"
     ]
    },
    {
     "name": "stdout",
     "output_type": "stream",
     "text": [
      "Mean Squared Error for station 17021: 8.297536373174279e-05\n",
      "Valid indices for station 5003: [1277, 1348, 1278, 1313, 1314, 1276, 1318, 1343, 1306, 1280, 1317, 1293]\n",
      "Cross-Validation Score for station 5003: -0.0001342257268992112\n"
     ]
    },
    {
     "name": "stderr",
     "output_type": "stream",
     "text": [
      "Training models:  16%|██████████▉                                                         | 16/100 [07:06<37:50, 27.03s/station]"
     ]
    },
    {
     "name": "stdout",
     "output_type": "stream",
     "text": [
      "Mean Squared Error for station 5003: 4.01731439548257e-07\n",
      "Valid indices for station 3007: [1009, 1136, 1007, 1008, 1011, 1005, 1006]\n",
      "Cross-Validation Score for station 3007: -0.00032978461329359165\n"
     ]
    },
    {
     "name": "stderr",
     "output_type": "stream",
     "text": [
      "Training models:  17%|███████████▌                                                        | 17/100 [07:35<38:00, 27.48s/station]"
     ]
    },
    {
     "name": "stdout",
     "output_type": "stream",
     "text": [
      "Mean Squared Error for station 3007: 1.0408197017127086e-05\n",
      "Valid indices for station 31020: [1028, 1017, 1030]\n",
      "Valid indices for station 31020: [1026, 1016, 1029, 1028, 1020, 1021, 1017, 1030, 1023, 1031]\n",
      "Cross-Validation Score for station 31020: -0.00011598516218081462\n"
     ]
    },
    {
     "name": "stderr",
     "output_type": "stream",
     "text": [
      "Training models:  18%|████████████▏                                                       | 18/100 [08:01<37:12, 27.23s/station]"
     ]
    },
    {
     "name": "stdout",
     "output_type": "stream",
     "text": [
      "Mean Squared Error for station 31020: 0.0031041795985930066\n",
      "Valid indices for station 16139: [487]\n",
      "Valid indices for station 16139: [487, 484, 443, 442, 437, 482]\n",
      "Cross-Validation Score for station 16139: -0.00030681025004536725\n"
     ]
    },
    {
     "name": "stderr",
     "output_type": "stream",
     "text": [
      "Training models:  19%|████████████▉                                                       | 19/100 [08:23<34:38, 25.66s/station]"
     ]
    },
    {
     "name": "stdout",
     "output_type": "stream",
     "text": [
      "Mean Squared Error for station 16139: 8.869600666037998e-05\n",
      "Valid indices for station 35005: [650, 1110, 1109]\n",
      "Valid indices for station 35005: [653, 675, 650, 1125, 651, 1116, 1115, 1110, 1111, 1109, 1121]\n",
      "Cross-Validation Score for station 35005: -0.00019174740592511154\n"
     ]
    },
    {
     "name": "stderr",
     "output_type": "stream",
     "text": [
      "Training models:  20%|█████████████▌                                                      | 20/100 [08:48<33:55, 25.44s/station]"
     ]
    },
    {
     "name": "stdout",
     "output_type": "stream",
     "text": [
      "Mean Squared Error for station 35005: 7.261665767737375e-06\n",
      "Valid indices for station 1023: [71, 52, 53, 57, 132, 805, 760, 51, 804]\n",
      "Cross-Validation Score for station 1023: -0.0002280331124090966\n"
     ]
    },
    {
     "name": "stderr",
     "output_type": "stream",
     "text": [
      "Training models:  21%|██████████████▎                                                     | 21/100 [09:10<32:04, 24.36s/station]"
     ]
    },
    {
     "name": "stdout",
     "output_type": "stream",
     "text": [
      "Mean Squared Error for station 1023: 4.72601935190215e-05\n",
      "Valid indices for station 27006: [992]\n",
      "Valid indices for station 27006: [992, 991]\n",
      "Valid indices for station 27006: [913, 919, 992, 920, 991]\n",
      "Cross-Validation Score for station 27006: -9.980566690888479e-05\n"
     ]
    },
    {
     "name": "stderr",
     "output_type": "stream",
     "text": [
      "Training models:  22%|██████████████▉                                                     | 22/100 [09:35<31:54, 24.55s/station]"
     ]
    },
    {
     "name": "stdout",
     "output_type": "stream",
     "text": [
      "Mean Squared Error for station 27006: 0.00022305328552154347\n",
      "Valid indices for station 42028: [1195]\n",
      "Valid indices for station 42028: [1194, 1193, 1195, 1192, 1186, 1196]\n",
      "Cross-Validation Score for station 42028: -0.0003142478287377772\n"
     ]
    },
    {
     "name": "stderr",
     "output_type": "stream",
     "text": [
      "Training models:  23%|███████████████▋                                                    | 23/100 [10:09<35:11, 27.42s/station]"
     ]
    },
    {
     "name": "stdout",
     "output_type": "stream",
     "text": [
      "Mean Squared Error for station 42028: 5.525172057156431e-06\n",
      "Valid indices for station 22603: [917]\n",
      "Valid indices for station 22603: [917]\n",
      "Valid indices for station 22603: [917, 852, 942]\n",
      "Valid indices for station 22603: [917, 852, 948, 918, 942, 945, 941]\n",
      "Cross-Validation Score for station 22603: -0.0003399088028278803\n"
     ]
    },
    {
     "name": "stderr",
     "output_type": "stream",
     "text": [
      "Training models:  24%|████████████████▎                                                   | 24/100 [10:36<34:21, 27.13s/station]"
     ]
    },
    {
     "name": "stdout",
     "output_type": "stream",
     "text": [
      "Mean Squared Error for station 22603: 0.0001662550609429224\n",
      "Valid indices for station 12113: [169, 180, 168]\n",
      "Valid indices for station 12113: [1199, 169, 180, 164, 168, 179, 146, 196, 166, 167, 155, 161]\n",
      "Cross-Validation Score for station 12113: -0.00025567238034628406\n"
     ]
    },
    {
     "name": "stderr",
     "output_type": "stream",
     "text": [
      "Training models:  25%|█████████████████                                                   | 25/100 [11:05<34:42, 27.77s/station]"
     ]
    },
    {
     "name": "stdout",
     "output_type": "stream",
     "text": [
      "Mean Squared Error for station 12113: 0.0001917717584407219\n",
      "Valid indices for station 1024: [145, 43, 51, 50, 73, 74, 72, 726, 725, 133, 774, 724, 699, 763]\n",
      "Cross-Validation Score for station 1024: -0.00019169700857409283\n"
     ]
    },
    {
     "name": "stderr",
     "output_type": "stream",
     "text": [
      "Training models:  26%|█████████████████▋                                                  | 26/100 [11:32<34:08, 27.68s/station]"
     ]
    },
    {
     "name": "stdout",
     "output_type": "stream",
     "text": [
      "Mean Squared Error for station 1024: 2.373874661537385e-05\n",
      "Valid indices for station 42019: [1188, 1197]\n",
      "Valid indices for station 42019: [1180, 1188, 1197]\n",
      "Valid indices for station 42019: [1231, 1189, 1184, 1190, 1181, 1180, 1188, 1197, 1202, 1230, 1170, 1201]\n",
      "Cross-Validation Score for station 42019: -0.000442336201122943\n"
     ]
    },
    {
     "name": "stderr",
     "output_type": "stream",
     "text": [
      "Training models:  27%|██████████████████▎                                                 | 27/100 [12:07<36:14, 29.78s/station]"
     ]
    },
    {
     "name": "stdout",
     "output_type": "stream",
     "text": [
      "Mean Squared Error for station 42019: 0.00021449861438600017\n",
      "Valid indices for station 2006: [43, 50, 74, 72, 726, 727, 725, 783, 774, 724, 699, 763, 797]\n",
      "Cross-Validation Score for station 2006: -0.00040199654961670686\n"
     ]
    },
    {
     "name": "stderr",
     "output_type": "stream",
     "text": [
      "Training models:  28%|███████████████████                                                 | 28/100 [12:29<32:53, 27.41s/station]"
     ]
    },
    {
     "name": "stdout",
     "output_type": "stream",
     "text": [
      "Mean Squared Error for station 2006: 5.846960928697886e-05\n",
      "Valid indices for station 9019: [1457, 1452, 1448, 1451, 1458, 590, 1449, 588, 1450, 589, 556]\n"
     ]
    },
    {
     "name": "stderr",
     "output_type": "stream",
     "text": [
      "Training models:  29%|███████████████████▋                                                | 29/100 [12:37<25:43, 21.74s/station]"
     ]
    },
    {
     "name": "stdout",
     "output_type": "stream",
     "text": [
      "Cross-Validation Score for station 9019: -0.00123861513980091\n",
      "Mean Squared Error for station 9019: 0.0006278938452851498\n",
      "Valid indices for station 21119: [800, 813, 799]\n",
      "Valid indices for station 21119: [536, 535, 550, 499, 538, 498, 495, 496, 806, 800, 813, 799, 549, 1101]\n",
      "Cross-Validation Score for station 21119: -0.00029200506691233485\n"
     ]
    },
    {
     "name": "stderr",
     "output_type": "stream",
     "text": [
      "Training models:  30%|████████████████████▍                                               | 30/100 [13:05<27:16, 23.37s/station]"
     ]
    },
    {
     "name": "stdout",
     "output_type": "stream",
     "text": [
      "Mean Squared Error for station 21119: 1.7544199751860797e-05\n",
      "Valid indices for station 16010: [435, 436, 473, 434, 439]\n",
      "Cross-Validation Score for station 16010: -0.00021582114377360155\n"
     ]
    },
    {
     "name": "stderr",
     "output_type": "stream",
     "text": [
      "Training models:  31%|█████████████████████                                               | 31/100 [13:26<26:21, 22.93s/station]"
     ]
    },
    {
     "name": "stdout",
     "output_type": "stream",
     "text": [
      "Mean Squared Error for station 16010: 2.412072376594837e-05\n",
      "Valid indices for station 1008: [145, 43, 51, 50, 73, 74, 72, 726, 725, 133, 774, 724, 699, 763]\n",
      "Cross-Validation Score for station 1008: -0.00030966818797484606\n"
     ]
    },
    {
     "name": "stderr",
     "output_type": "stream",
     "text": [
      "Training models:  32%|█████████████████████▊                                              | 32/100 [13:56<28:14, 24.92s/station]"
     ]
    },
    {
     "name": "stdout",
     "output_type": "stream",
     "text": [
      "Mean Squared Error for station 1008: 0.0002825021825221105\n",
      "Valid indices for station 32020: [1068]\n",
      "Valid indices for station 32020: [1072, 1063, 1068, 1066, 1067, 1065]\n",
      "Cross-Validation Score for station 32020: -0.00023366184080469786\n"
     ]
    },
    {
     "name": "stderr",
     "output_type": "stream",
     "text": [
      "Training models:  33%|██████████████████████▍                                             | 33/100 [14:21<27:47, 24.88s/station]"
     ]
    },
    {
     "name": "stdout",
     "output_type": "stream",
     "text": [
      "Mean Squared Error for station 32020: 6.806508598881865e-05\n",
      "Valid indices for station 2020: [71, 52, 53, 64, 57, 132, 805, 760, 70, 753, 804, 744, 757]\n",
      "Cross-Validation Score for station 2020: -3.834691574178913e-05\n"
     ]
    },
    {
     "name": "stderr",
     "output_type": "stream",
     "text": [
      "Training models:  34%|███████████████████████                                             | 34/100 [14:46<27:26, 24.95s/station]"
     ]
    },
    {
     "name": "stdout",
     "output_type": "stream",
     "text": [
      "Mean Squared Error for station 2020: 8.114731999996634e-07\n",
      "Valid indices for station 2102: [726, 727, 725, 814, 783, 796, 747, 1445, 763, 728, 797, 764, 1444, 1443]\n",
      "Cross-Validation Score for station 2102: -0.0001414542736914075\n"
     ]
    },
    {
     "name": "stderr",
     "output_type": "stream",
     "text": [
      "Training models:  35%|███████████████████████▊                                            | 35/100 [15:10<26:46, 24.71s/station]"
     ]
    },
    {
     "name": "stdout",
     "output_type": "stream",
     "text": [
      "Mean Squared Error for station 2102: 0.0003141211425527322\n",
      "Valid indices for station 19205: [61, 38, 679, 678, 633, 647]\n",
      "Cross-Validation Score for station 19205: -0.00013041131023435669\n"
     ]
    },
    {
     "name": "stderr",
     "output_type": "stream",
     "text": [
      "Training models:  36%|████████████████████████▍                                           | 36/100 [15:36<26:37, 24.96s/station]"
     ]
    },
    {
     "name": "stdout",
     "output_type": "stream",
     "text": [
      "Mean Squared Error for station 19205: 7.882036260738137e-06\n",
      "Valid indices for station 21011: [788, 775, 776, 787]\n",
      "Valid indices for station 21011: [791, 779, 788, 778, 794, 795, 775, 776, 786, 787, 769, 773]\n",
      "Cross-Validation Score for station 21011: -0.00012873694207315967\n"
     ]
    },
    {
     "name": "stderr",
     "output_type": "stream",
     "text": [
      "Training models:  37%|█████████████████████████▏                                          | 37/100 [16:02<26:38, 25.37s/station]"
     ]
    },
    {
     "name": "stdout",
     "output_type": "stream",
     "text": [
      "Mean Squared Error for station 21011: 2.9821893448500704e-05\n",
      "Valid indices for station 10166: [1012, 1019, 63, 758, 44, 3, 7, 5]\n",
      "Cross-Validation Score for station 10166: -4.9576655421932366e-05\n"
     ]
    },
    {
     "name": "stderr",
     "output_type": "stream",
     "text": [
      "Training models:  38%|█████████████████████████▊                                          | 38/100 [16:27<26:04, 25.23s/station]"
     ]
    },
    {
     "name": "stdout",
     "output_type": "stream",
     "text": [
      "Mean Squared Error for station 10166: 1.6249624824838712e-05\n",
      "Valid indices for station 23301: [946, 891]\n",
      "Valid indices for station 23301: [915, 946, 891]\n",
      "Valid indices for station 23301: [947, 916, 915, 946, 933, 893, 891, 890]\n",
      "Cross-Validation Score for station 23301: -2.6352520935091402e-06\n"
     ]
    },
    {
     "name": "stderr",
     "output_type": "stream",
     "text": [
      "Training models:  39%|██████████████████████████▌                                         | 39/100 [16:58<27:34, 27.12s/station]"
     ]
    },
    {
     "name": "stdout",
     "output_type": "stream",
     "text": [
      "Mean Squared Error for station 23301: 1.6307639740940627e-06\n",
      "Valid indices for station 20010: [755, 690, 745, 712, 736]\n",
      "Cross-Validation Score for station 20010: -0.0016417425145497794\n"
     ]
    },
    {
     "name": "stderr",
     "output_type": "stream",
     "text": [
      "Training models:  40%|███████████████████████████▏                                        | 40/100 [17:24<26:38, 26.64s/station]"
     ]
    },
    {
     "name": "stdout",
     "output_type": "stream",
     "text": [
      "Mean Squared Error for station 20010: 0.00013658075076388148\n",
      "Valid indices for station 12016: [680, 149, 150, 151]\n",
      "Valid indices for station 12016: [179, 146, 196, 198, 152, 165, 166, 153, 680, 149, 167, 150, 155, 151, 137, 136, 85, 719, 692, 686, 749, 740, 197, 682, 685]\n",
      "Cross-Validation Score for station 12016: -0.0009684622106939779\n"
     ]
    },
    {
     "name": "stderr",
     "output_type": "stream",
     "text": [
      "Training models:  41%|███████████████████████████▉                                        | 41/100 [18:05<30:26, 30.96s/station]"
     ]
    },
    {
     "name": "stdout",
     "output_type": "stream",
     "text": [
      "Mean Squared Error for station 12016: 0.0007395256190777447\n",
      "Valid indices for station 20140: [722, 684, 754, 720, 688, 731]\n",
      "Cross-Validation Score for station 20140: -8.91766663111521e-05\n"
     ]
    },
    {
     "name": "stderr",
     "output_type": "stream",
     "text": [
      "Training models:  42%|████████████████████████████▌                                       | 42/100 [18:38<30:32, 31.60s/station]"
     ]
    },
    {
     "name": "stdout",
     "output_type": "stream",
     "text": [
      "Mean Squared Error for station 20140: 7.670793610945389e-05\n",
      "Valid indices for station 48012: [1271, 1273]\n",
      "Valid indices for station 48012: [1265, 1271, 1273, 1266, 1240]\n",
      "Cross-Validation Score for station 48012: -0.0007168983402382497\n"
     ]
    },
    {
     "name": "stderr",
     "output_type": "stream",
     "text": [
      "Training models:  43%|█████████████████████████████▏                                      | 43/100 [19:04<28:29, 30.00s/station]"
     ]
    },
    {
     "name": "stdout",
     "output_type": "stream",
     "text": [
      "Mean Squared Error for station 48012: 0.00012289389546378532\n",
      "Valid indices for station 20048: [696, 700, 723, 733, 701]\n",
      "Cross-Validation Score for station 20048: -0.0008184142892409391\n"
     ]
    },
    {
     "name": "stderr",
     "output_type": "stream",
     "text": [
      "Training models:  44%|█████████████████████████████▉                                      | 44/100 [19:33<27:32, 29.51s/station]"
     ]
    },
    {
     "name": "stdout",
     "output_type": "stream",
     "text": [
      "Mean Squared Error for station 20048: 0.0012993774034726537\n",
      "Valid indices for station 23303: [948]\n",
      "Valid indices for station 23303: [949, 948]\n",
      "Valid indices for station 23303: [949, 948, 916, 918]\n",
      "Valid indices for station 23303: [917, 947, 949, 948, 916, 918]\n",
      "Cross-Validation Score for station 23303: -0.0003157891530755512\n"
     ]
    },
    {
     "name": "stderr",
     "output_type": "stream",
     "text": [
      "Training models:  45%|██████████████████████████████▌                                     | 45/100 [19:59<26:03, 28.42s/station]"
     ]
    },
    {
     "name": "stdout",
     "output_type": "stream",
     "text": [
      "Mean Squared Error for station 23303: 2.41887146800977e-05\n",
      "Valid indices for station 45004: [1251]\n",
      "Valid indices for station 45004: [1251]\n",
      "Valid indices for station 45004: [1248, 1251]\n",
      "Valid indices for station 45004: [1252, 1248, 1251]\n"
     ]
    },
    {
     "name": "stderr",
     "output_type": "stream",
     "text": [
      "/Users/anthonybellon/Comp_Documents/VelibVisualisation/scripts/train_model.py:103: SettingWithCopyWarning: \n",
      "A value is trying to be set on a copy of a slice from a DataFrame.\n",
      "Try using .loc[row_indexer,col_indexer] = value instead\n",
      "\n",
      "See the caveats in the documentation: https://pandas.pydata.org/pandas-docs/stable/user_guide/indexing.html#returning-a-view-versus-a-copy\n",
      "  \n"
     ]
    },
    {
     "name": "stdout",
     "output_type": "stream",
     "text": [
      "Cross-Validation Score for station 45004: -0.00019324509240745063\n"
     ]
    },
    {
     "name": "stderr",
     "output_type": "stream",
     "text": [
      "Training models:  46%|███████████████████████████████▎                                    | 46/100 [20:41<29:15, 32.51s/station]"
     ]
    },
    {
     "name": "stdout",
     "output_type": "stream",
     "text": [
      "Mean Squared Error for station 45004: 0.00017408490957247235\n",
      "Valid indices for station 42022: [1184, 1190]\n",
      "Valid indices for station 42022: [1182, 1189, 1184, 1190, 1181, 1180, 1183]\n",
      "Cross-Validation Score for station 42022: -4.98022471607809e-05\n"
     ]
    },
    {
     "name": "stderr",
     "output_type": "stream",
     "text": [
      "Training models:  47%|███████████████████████████████▉                                    | 47/100 [21:20<30:37, 34.66s/station]"
     ]
    },
    {
     "name": "stdout",
     "output_type": "stream",
     "text": [
      "Mean Squared Error for station 42022: 1.563965119009009e-05\n",
      "Valid indices for station 17020: [508, 507, 506, 505, 542, 543]\n",
      "Cross-Validation Score for station 17020: -0.00021040215091003948\n"
     ]
    },
    {
     "name": "stderr",
     "output_type": "stream",
     "text": [
      "Training models:  48%|████████████████████████████████▋                                   | 48/100 [21:55<30:01, 34.65s/station]"
     ]
    },
    {
     "name": "stdout",
     "output_type": "stream",
     "text": [
      "Mean Squared Error for station 17020: 4.6266700295947925e-07\n",
      "Valid indices for station 23703: [953, 952]\n",
      "Valid indices for station 23703: [953, 952, 951]\n",
      "Valid indices for station 23703: [953, 952, 951]\n",
      "Valid indices for station 23703: [953, 952, 951]\n"
     ]
    },
    {
     "name": "stderr",
     "output_type": "stream",
     "text": [
      "/Users/anthonybellon/Comp_Documents/VelibVisualisation/scripts/train_model.py:103: SettingWithCopyWarning: \n",
      "A value is trying to be set on a copy of a slice from a DataFrame.\n",
      "Try using .loc[row_indexer,col_indexer] = value instead\n",
      "\n",
      "See the caveats in the documentation: https://pandas.pydata.org/pandas-docs/stable/user_guide/indexing.html#returning-a-view-versus-a-copy\n",
      "  \n"
     ]
    },
    {
     "name": "stdout",
     "output_type": "stream",
     "text": [
      "Cross-Validation Score for station 23703: -8.667705339700349e-05\n"
     ]
    },
    {
     "name": "stderr",
     "output_type": "stream",
     "text": [
      "Training models:  49%|█████████████████████████████████▎                                  | 49/100 [22:17<26:22, 31.03s/station]"
     ]
    },
    {
     "name": "stdout",
     "output_type": "stream",
     "text": [
      "Mean Squared Error for station 23703: 1.31790790028278e-05\n",
      "Valid indices for station 5027: [212, 1290, 1291, 214, 1297]\n",
      "Cross-Validation Score for station 5027: -0.0008865044945311462\n"
     ]
    },
    {
     "name": "stderr",
     "output_type": "stream",
     "text": [
      "Training models:  50%|██████████████████████████████████                                  | 50/100 [23:00<28:37, 34.34s/station]"
     ]
    },
    {
     "name": "stdout",
     "output_type": "stream",
     "text": [
      "Mean Squared Error for station 5027: 0.0006579342253695739\n",
      "Valid indices for station 20142: [709, 755, 690]\n",
      "Valid indices for station 20142: [126, 708, 709, 710, 751, 755, 748, 89, 92, 122, 690, 694, 704, 732, 718, 745, 711, 712, 743, 736]\n",
      "Cross-Validation Score for station 20142: -0.00017714311159962228\n"
     ]
    },
    {
     "name": "stderr",
     "output_type": "stream",
     "text": [
      "Training models:  51%|██████████████████████████████████▋                                 | 51/100 [23:31<27:16, 33.39s/station]"
     ]
    },
    {
     "name": "stdout",
     "output_type": "stream",
     "text": [
      "Mean Squared Error for station 20142: 2.207656542674093e-05\n",
      "Valid indices for station 42024: [1191]\n",
      "Valid indices for station 42024: [1186, 245, 266, 1191, 1182, 1184]\n",
      "Cross-Validation Score for station 42024: -0.0003156290050992097\n"
     ]
    },
    {
     "name": "stderr",
     "output_type": "stream",
     "text": [
      "Training models:  52%|███████████████████████████████████▎                                | 52/100 [24:10<28:04, 35.10s/station]"
     ]
    },
    {
     "name": "stdout",
     "output_type": "stream",
     "text": [
      "Mean Squared Error for station 42024: 5.3037464052267635e-05\n",
      "Valid indices for station 21704: [867, 870]\n",
      "Valid indices for station 21704: [843, 864, 867, 907, 866, 865, 869, 870]\n",
      "Cross-Validation Score for station 21704: -0.0001146328866745097\n"
     ]
    },
    {
     "name": "stderr",
     "output_type": "stream",
     "text": [
      "Training models:  53%|████████████████████████████████████                                | 53/100 [24:38<25:55, 33.10s/station]"
     ]
    },
    {
     "name": "stdout",
     "output_type": "stream",
     "text": [
      "Mean Squared Error for station 21704: 1.9066196367156615e-05\n",
      "Valid indices for station 19121: [646, 737, 718, 666, 681, 661, 672]\n",
      "Cross-Validation Score for station 19121: -0.0001354843840143098\n"
     ]
    },
    {
     "name": "stderr",
     "output_type": "stream",
     "text": [
      "Training models:  54%|████████████████████████████████████▋                               | 54/100 [25:05<23:54, 31.18s/station]"
     ]
    },
    {
     "name": "stdout",
     "output_type": "stream",
     "text": [
      "Mean Squared Error for station 19121: 9.550426706713396e-05\n",
      "Valid indices for station 19114: [647, 634, 662, 632, 635]\n",
      "Cross-Validation Score for station 19114: 0.0\n"
     ]
    },
    {
     "name": "stderr",
     "output_type": "stream",
     "text": [
      "Training models:  55%|█████████████████████████████████████▍                              | 55/100 [25:42<24:38, 32.85s/station]"
     ]
    },
    {
     "name": "stdout",
     "output_type": "stream",
     "text": [
      "Mean Squared Error for station 19114: 0.0\n",
      "Valid indices for station 24004: [958]\n",
      "Valid indices for station 24004: [958, 884, 959]\n",
      "Valid indices for station 24004: [962, 958, 957, 963, 876, 884, 959, 911, 913, 981, 960]\n",
      "Cross-Validation Score for station 24004: -0.0010507671494645017\n"
     ]
    },
    {
     "name": "stderr",
     "output_type": "stream",
     "text": [
      "Training models:  56%|██████████████████████████████████████                              | 56/100 [26:16<24:22, 33.23s/station]"
     ]
    },
    {
     "name": "stdout",
     "output_type": "stream",
     "text": [
      "Mean Squared Error for station 24004: 0.005482369355033612\n",
      "Valid indices for station 21002: [766]\n",
      "Valid indices for station 21002: [782, 773, 772, 768, 792, 766, 466]\n",
      "Cross-Validation Score for station 21002: -4.6814980753036465e-05\n"
     ]
    },
    {
     "name": "stderr",
     "output_type": "stream",
     "text": [
      "Training models:  57%|██████████████████████████████████████▊                             | 57/100 [26:55<25:01, 34.93s/station]"
     ]
    },
    {
     "name": "stdout",
     "output_type": "stream",
     "text": [
      "Mean Squared Error for station 21002: 1.093051293471213e-06\n",
      "Valid indices for station 8018: [1398, 1399, 1394, 1391, 1393, 1395, 1385, 1428]\n",
      "Cross-Validation Score for station 8018: -0.00017045046042771407\n"
     ]
    },
    {
     "name": "stderr",
     "output_type": "stream",
     "text": [
      "Training models:  58%|███████████████████████████████████████▍                            | 58/100 [27:29<24:15, 34.65s/station]"
     ]
    },
    {
     "name": "stdout",
     "output_type": "stream",
     "text": [
      "Mean Squared Error for station 8018: 0.000328553367048177\n",
      "Valid indices for station 13024: [229, 259, 226, 228, 227]\n",
      "Cross-Validation Score for station 13024: -0.00041716412610538837\n"
     ]
    },
    {
     "name": "stderr",
     "output_type": "stream",
     "text": [
      "Training models:  59%|████████████████████████████████████████                            | 59/100 [28:02<23:23, 34.23s/station]"
     ]
    },
    {
     "name": "stdout",
     "output_type": "stream",
     "text": [
      "Mean Squared Error for station 13024: 0.00016961634621248081\n",
      "Valid indices for station 13015: [242, 241, 220, 249, 247, 224]\n",
      "Cross-Validation Score for station 13015: -0.0003973739876641561\n"
     ]
    },
    {
     "name": "stderr",
     "output_type": "stream",
     "text": [
      "Training models:  60%|████████████████████████████████████████▊                           | 60/100 [28:39<23:20, 35.02s/station]"
     ]
    },
    {
     "name": "stdout",
     "output_type": "stream",
     "text": [
      "Mean Squared Error for station 13015: 4.8828491545507064e-05\n",
      "Valid indices for station 11022: [79, 91, 93, 95, 94, 97]\n",
      "Cross-Validation Score for station 11022: -1.830745620783283e-05\n"
     ]
    },
    {
     "name": "stderr",
     "output_type": "stream",
     "text": [
      "Training models:  61%|█████████████████████████████████████████▍                          | 61/100 [29:08<21:36, 33.25s/station]"
     ]
    },
    {
     "name": "stdout",
     "output_type": "stream",
     "text": [
      "Mean Squared Error for station 11022: 1.4147181988700097e-06\n",
      "Valid indices for station 20003: [151, 154, 682, 685]\n",
      "Valid indices for station 20003: [680, 149, 150, 155, 151, 85, 719, 692, 686, 749, 687, 740, 195, 197, 154, 722, 682, 684, 685, 754, 720, 688, 691, 742]\n",
      "Cross-Validation Score for station 20003: -0.00016780100808768748\n"
     ]
    },
    {
     "name": "stderr",
     "output_type": "stream",
     "text": [
      "Training models:  62%|██████████████████████████████████████████▏                         | 62/100 [29:35<19:53, 31.40s/station]"
     ]
    },
    {
     "name": "stdout",
     "output_type": "stream",
     "text": [
      "Mean Squared Error for station 20003: 0.00013133554496943023\n",
      "Valid indices for station 23041: [933, 932]\n",
      "Valid indices for station 23041: [933, 893, 950, 932]\n",
      "Valid indices for station 23041: [933, 893, 891, 950, 932, 1204]\n",
      "Cross-Validation Score for station 23041: -2.9647717417567108e-05\n"
     ]
    },
    {
     "name": "stderr",
     "output_type": "stream",
     "text": [
      "Training models:  63%|██████████████████████████████████████████▊                         | 63/100 [30:08<19:43, 31.99s/station]"
     ]
    },
    {
     "name": "stdout",
     "output_type": "stream",
     "text": [
      "Mean Squared Error for station 23041: 1.7064351887333272e-05\n",
      "Valid indices for station 13116: [240, 263, 1185]\n",
      "Valid indices for station 13116: [1194, 1193, 239, 264, 262, 1192, 240, 263, 1185, 1186, 265, 245, 244, 243, 250, 266]\n",
      "Cross-Validation Score for station 13116: -0.002072298497753052\n"
     ]
    },
    {
     "name": "stderr",
     "output_type": "stream",
     "text": [
      "Training models:  64%|███████████████████████████████████████████▌                        | 64/100 [30:48<20:31, 34.21s/station]"
     ]
    },
    {
     "name": "stdout",
     "output_type": "stream",
     "text": [
      "Mean Squared Error for station 13116: 0.00032185602764422575\n",
      "Valid indices for station 15069: [382, 390, 406, 395, 365, 381, 367]\n",
      "Cross-Validation Score for station 15069: -0.00021318102426698404\n"
     ]
    },
    {
     "name": "stderr",
     "output_type": "stream",
     "text": [
      "Training models:  65%|████████████████████████████████████████████▏                       | 65/100 [31:26<20:40, 35.43s/station]"
     ]
    },
    {
     "name": "stdout",
     "output_type": "stream",
     "text": [
      "Mean Squared Error for station 15069: 6.429593533665942e-05\n",
      "Valid indices for station 11111: [128, 127, 120, 81, 91, 126, 89]\n",
      "Cross-Validation Score for station 11111: -3.8909540504547745e-05\n"
     ]
    },
    {
     "name": "stderr",
     "output_type": "stream",
     "text": [
      "Training models:  66%|████████████████████████████████████████████▉                       | 66/100 [31:50<18:03, 31.88s/station]"
     ]
    },
    {
     "name": "stdout",
     "output_type": "stream",
     "text": [
      "Mean Squared Error for station 11111: 0.0002172060056285563\n",
      "Valid indices for station 13006: [1297, 1292, 218, 213, 1305, 256, 219]\n",
      "Cross-Validation Score for station 13006: -0.000856266243037448\n"
     ]
    },
    {
     "name": "stderr",
     "output_type": "stream",
     "text": [
      "Training models:  67%|█████████████████████████████████████████████▌                      | 67/100 [32:22<17:36, 32.02s/station]"
     ]
    },
    {
     "name": "stdout",
     "output_type": "stream",
     "text": [
      "Mean Squared Error for station 13006: 0.0004150444910485798\n",
      "Valid indices for station 12119: [1199, 183]\n",
      "Valid indices for station 12119: [1202, 1199, 1201, 1198, 188, 183, 184, 170]\n",
      "Cross-Validation Score for station 12119: -9.919513633598574e-05\n"
     ]
    },
    {
     "name": "stderr",
     "output_type": "stream",
     "text": [
      "Training models:  68%|██████████████████████████████████████████████▏                     | 68/100 [33:01<18:12, 34.14s/station]"
     ]
    },
    {
     "name": "stdout",
     "output_type": "stream",
     "text": [
      "Mean Squared Error for station 12119: 6.856012084038935e-05\n",
      "Valid indices for station 15041: [372, 371, 350]\n",
      "Valid indices for station 15041: [378, 320, 333, 374, 377, 372, 371, 414, 370, 349, 312, 334, 324, 335, 369, 351, 350, 348, 421, 410, 359]\n",
      "Cross-Validation Score for station 15041: -0.0004912139161063449\n"
     ]
    },
    {
     "name": "stderr",
     "output_type": "stream",
     "text": [
      "Training models:  69%|██████████████████████████████████████████████▉                     | 69/100 [33:30<16:50, 32.58s/station]"
     ]
    },
    {
     "name": "stdout",
     "output_type": "stream",
     "text": [
      "Mean Squared Error for station 15041: 3.6367347478706926e-05\n",
      "Valid indices for station 48006: [1268]\n",
      "Valid indices for station 48006: [1267, 1266, 1239, 1268]\n",
      "Valid indices for station 48006: [1269, 1267, 1271, 1273, 1266, 1239, 1263, 1264, 1268, 1195, 1196]\n",
      "Cross-Validation Score for station 48006: -0.00018786684461319234\n"
     ]
    },
    {
     "name": "stderr",
     "output_type": "stream",
     "text": [
      "Training models:  70%|███████████████████████████████████████████████▌                    | 70/100 [33:55<15:06, 30.22s/station]"
     ]
    },
    {
     "name": "stdout",
     "output_type": "stream",
     "text": [
      "Mean Squared Error for station 48006: 2.2115928751861934e-05\n",
      "Valid indices for station 15012: [352, 369, 346, 351, 347, 345, 344]\n",
      "Cross-Validation Score for station 15012: -0.0010786045707600448\n"
     ]
    },
    {
     "name": "stderr",
     "output_type": "stream",
     "text": [
      "Training models:  71%|████████████████████████████████████████████████▎                   | 71/100 [34:37<16:18, 33.75s/station]"
     ]
    },
    {
     "name": "stdout",
     "output_type": "stream",
     "text": [
      "Mean Squared Error for station 15012: 0.00031176099847558266\n",
      "Valid indices for station 18016: [568, 567, 571, 577, 572, 576]\n",
      "Cross-Validation Score for station 18016: -0.00016836874069289047\n"
     ]
    },
    {
     "name": "stderr",
     "output_type": "stream",
     "text": [
      "Training models:  72%|████████████████████████████████████████████████▉                   | 72/100 [35:02<14:36, 31.30s/station]"
     ]
    },
    {
     "name": "stdout",
     "output_type": "stream",
     "text": [
      "Mean Squared Error for station 18016: 0.00014723637799150932\n",
      "Valid indices for station 19117: [640, 625, 664, 639, 619, 669, 626]\n",
      "Cross-Validation Score for station 19117: -0.0015807363748432876\n"
     ]
    },
    {
     "name": "stderr",
     "output_type": "stream",
     "text": [
      "Training models:  73%|█████████████████████████████████████████████████▋                  | 73/100 [35:27<13:14, 29.42s/station]"
     ]
    },
    {
     "name": "stdout",
     "output_type": "stream",
     "text": [
      "Mean Squared Error for station 19117: 3.559142450306472e-05\n",
      "Valid indices for station 18010: [564, 562, 599, 598, 563]\n",
      "Cross-Validation Score for station 18010: -3.7241795479542536e-08\n"
     ]
    },
    {
     "name": "stderr",
     "output_type": "stream",
     "text": [
      "Training models:  74%|██████████████████████████████████████████████████▎                 | 74/100 [36:03<13:29, 31.15s/station]"
     ]
    },
    {
     "name": "stdout",
     "output_type": "stream",
     "text": [
      "Mean Squared Error for station 18010: 0.0\n",
      "Valid indices for station 15053: [422, 380, 379, 382, 395, 381, 367, 420]\n",
      "Cross-Validation Score for station 15053: -0.0006184479404845414\n"
     ]
    },
    {
     "name": "stderr",
     "output_type": "stream",
     "text": [
      "Training models:  75%|███████████████████████████████████████████████████                 | 75/100 [36:38<13:27, 32.29s/station]"
     ]
    },
    {
     "name": "stdout",
     "output_type": "stream",
     "text": [
      "Mean Squared Error for station 15053: 0.0007943746990867646\n",
      "Valid indices for station 10003: [716, 759, 764, 798, 1444, 40, 4, 758, 44, 2, 3]\n",
      "Cross-Validation Score for station 10003: -0.00010830287261421794\n"
     ]
    },
    {
     "name": "stderr",
     "output_type": "stream",
     "text": [
      "Training models:  76%|███████████████████████████████████████████████████▋                | 76/100 [37:07<12:33, 31.39s/station]"
     ]
    },
    {
     "name": "stdout",
     "output_type": "stream",
     "text": [
      "Mean Squared Error for station 10003: 3.597881265837158e-05\n",
      "Valid indices for station 8052: [1414, 1415, 1427, 1416, 1433, 1382, 1429, 1400, 1424, 1431, 1419, 1420, 1421, 1425]\n",
      "Cross-Validation Score for station 8052: -0.00021531110864444184\n"
     ]
    },
    {
     "name": "stderr",
     "output_type": "stream",
     "text": [
      "Training models:  77%|████████████████████████████████████████████████████▎               | 77/100 [37:28<10:51, 28.31s/station]"
     ]
    },
    {
     "name": "stdout",
     "output_type": "stream",
     "text": [
      "Mean Squared Error for station 8052: 0.0006705614253159309\n",
      "Valid indices for station 15024: [403, 355, 344, 356, 1379, 1378]\n",
      "Cross-Validation Score for station 15024: -5.584710947173226e-05\n"
     ]
    },
    {
     "name": "stderr",
     "output_type": "stream",
     "text": [
      "Training models:  78%|█████████████████████████████████████████████████████               | 78/100 [37:55<10:12, 27.84s/station]"
     ]
    },
    {
     "name": "stdout",
     "output_type": "stream",
     "text": [
      "Mean Squared Error for station 15024: 0.00014128357021234142\n",
      "Out of bounds indices for station 9025: [1468, 1461, 1477, 1473]\n",
      "Max valid index: 1460\n",
      "Valid indices for station 9025: [1455, 1456, 1460, 1457, 1453, 1447, 1452, 1451]\n",
      "Cross-Validation Score for station 9025: -0.00046340832686837314\n"
     ]
    },
    {
     "name": "stderr",
     "output_type": "stream",
     "text": [
      "Training models:  79%|█████████████████████████████████████████████████████▋              | 79/100 [38:24<09:51, 28.17s/station]"
     ]
    },
    {
     "name": "stdout",
     "output_type": "stream",
     "text": [
      "Mean Squared Error for station 9025: 0.00025124069478908153\n",
      "Valid indices for station 21022: [785, 782, 793]\n",
      "Valid indices for station 21022: [777, 780, 785, 781, 782, 769, 772, 789, 784, 793, 466, 464]\n",
      "Cross-Validation Score for station 21022: -0.0003727313943888423\n"
     ]
    },
    {
     "name": "stderr",
     "output_type": "stream",
     "text": [
      "Training models:  80%|██████████████████████████████████████████████████████▍             | 80/100 [38:57<09:52, 29.63s/station]"
     ]
    },
    {
     "name": "stdout",
     "output_type": "stream",
     "text": [
      "Mean Squared Error for station 21022: 1.0671111131203715e-05\n",
      "Valid indices for station 8040: [1427, 1410, 1416, 1433, 1429, 1425, 1390, 1409, 1408, 1417, 1426]\n",
      "Cross-Validation Score for station 8040: -0.0004119919471090033\n"
     ]
    },
    {
     "name": "stderr",
     "output_type": "stream",
     "text": [
      "Training models:  81%|███████████████████████████████████████████████████████             | 81/100 [39:33<10:03, 31.76s/station]"
     ]
    },
    {
     "name": "stdout",
     "output_type": "stream",
     "text": [
      "Mean Squared Error for station 8040: 0.0002285895252518947\n",
      "Valid indices for station 41103: [816, 1154]\n",
      "Valid indices for station 41103: [816, 1154, 1209, 1153, 817, 828, 825, 823, 1210]\n",
      "Cross-Validation Score for station 41103: -0.00013586581112788314\n"
     ]
    },
    {
     "name": "stderr",
     "output_type": "stream",
     "text": [
      "Training models:  82%|███████████████████████████████████████████████████████▊            | 82/100 [40:00<09:01, 30.08s/station]"
     ]
    },
    {
     "name": "stdout",
     "output_type": "stream",
     "text": [
      "Mean Squared Error for station 41103: 7.700723794227853e-05\n",
      "Valid indices for station 41602: [182, 181, 683, 1176, 1218]\n",
      "Cross-Validation Score for station 41602: -0.000789047932985628\n"
     ]
    },
    {
     "name": "stderr",
     "output_type": "stream",
     "text": [
      "Training models:  83%|████████████████████████████████████████████████████████▍           | 83/100 [40:31<08:36, 30.39s/station]"
     ]
    },
    {
     "name": "stdout",
     "output_type": "stream",
     "text": [
      "Mean Squared Error for station 41602: 5.534024659345628e-06\n",
      "Valid indices for station 13028: [229, 259, 232, 230]\n",
      "Valid indices for station 13028: [291, 231, 229, 259, 1212, 232, 230, 260, 233, 234, 246, 226, 228, 227]\n",
      "Cross-Validation Score for station 13028: -0.000264983891746234\n"
     ]
    },
    {
     "name": "stderr",
     "output_type": "stream",
     "text": [
      "Training models:  84%|█████████████████████████████████████████████████████████           | 84/100 [41:05<08:25, 31.62s/station]"
     ]
    },
    {
     "name": "stdout",
     "output_type": "stream",
     "text": [
      "Mean Squared Error for station 13028: 7.336346728131033e-05\n",
      "Valid indices for station 19045: [659, 652, 643]\n",
      "Valid indices for station 19045: [620, 615, 1094, 660, 657, 659, 622, 621, 652, 643, 623, 673, 663, 1083]\n",
      "Cross-Validation Score for station 19045: -0.0023227619820600336\n"
     ]
    },
    {
     "name": "stderr",
     "output_type": "stream",
     "text": [
      "Training models:  85%|█████████████████████████████████████████████████████████▊          | 85/100 [41:18<06:29, 25.94s/station]"
     ]
    },
    {
     "name": "stdout",
     "output_type": "stream",
     "text": [
      "Mean Squared Error for station 19045: 0.0025418128114175313\n",
      "Valid indices for station 12008: [142, 143, 172, 144, 175, 140]\n",
      "Cross-Validation Score for station 12008: -0.0004553529887550372\n"
     ]
    },
    {
     "name": "stderr",
     "output_type": "stream",
     "text": [
      "Training models:  86%|██████████████████████████████████████████████████████████▍         | 86/100 [42:01<07:17, 31.24s/station]"
     ]
    },
    {
     "name": "stdout",
     "output_type": "stream",
     "text": [
      "Mean Squared Error for station 12008: 0.0004876754486143585\n",
      "Valid indices for station 14027: [325, 300, 302, 303, 311, 314, 301, 304]\n",
      "Cross-Validation Score for station 14027: -0.0012294749928918637\n"
     ]
    },
    {
     "name": "stderr",
     "output_type": "stream",
     "text": [
      "Training models:  87%|███████████████████████████████████████████████████████████▏        | 87/100 [42:29<06:33, 30.28s/station]"
     ]
    },
    {
     "name": "stdout",
     "output_type": "stream",
     "text": [
      "Mean Squared Error for station 14027: 0.0001251404764771809\n",
      "Valid indices for station 20110: [741, 645, 735, 698]\n",
      "Valid indices for station 20110: [713, 648, 714, 734, 750, 741, 705, 729, 752, 645, 735, 668, 644, 706, 1078, 698]\n",
      "Cross-Validation Score for station 20110: -2.6694290939336393e-05\n"
     ]
    },
    {
     "name": "stderr",
     "output_type": "stream",
     "text": [
      "Training models:  88%|███████████████████████████████████████████████████████████▊        | 88/100 [42:57<05:51, 29.31s/station]"
     ]
    },
    {
     "name": "stdout",
     "output_type": "stream",
     "text": [
      "Mean Squared Error for station 20110: 2.217380270032505e-06\n",
      "Valid indices for station 42303: [1205]\n",
      "Valid indices for station 42303: [1207, 1205]\n",
      "Valid indices for station 42303: [1207, 1206, 1205, 1203, 1152]\n",
      "Cross-Validation Score for station 42303: -2.6488982870357505e-05\n"
     ]
    },
    {
     "name": "stderr",
     "output_type": "stream",
     "text": [
      "Training models:  89%|████████████████████████████████████████████████████████████▌       | 89/100 [43:31<05:41, 31.01s/station]"
     ]
    },
    {
     "name": "stdout",
     "output_type": "stream",
     "text": [
      "Mean Squared Error for station 42303: 1.2958620126524953e-05\n",
      "Valid indices for station 48002: [1214, 1264]\n",
      "Valid indices for station 48002: [1263, 1217, 1214, 1264]\n",
      "Valid indices for station 48002: [1269, 1267, 1263, 1213, 1215, 1216, 1217, 1214, 1264, 1268, 1194, 1193, 1195, 235, 1192]\n",
      "Cross-Validation Score for station 48002: -0.003039915372660437\n"
     ]
    },
    {
     "name": "stderr",
     "output_type": "stream",
     "text": [
      "Training models:  90%|█████████████████████████████████████████████████████████████▏      | 90/100 [43:55<04:48, 28.90s/station]"
     ]
    },
    {
     "name": "stdout",
     "output_type": "stream",
     "text": [
      "Mean Squared Error for station 48002: 0.0019611375487489425\n",
      "Valid indices for station 41605: [1178, 1175]\n",
      "Valid indices for station 41605: [184, 170, 1178, 1175, 181, 1176]\n",
      "Cross-Validation Score for station 41605: -0.0001349006724500795\n"
     ]
    },
    {
     "name": "stderr",
     "output_type": "stream",
     "text": [
      "Training models:  91%|█████████████████████████████████████████████████████████████▉      | 91/100 [44:18<04:02, 26.96s/station]"
     ]
    },
    {
     "name": "stdout",
     "output_type": "stream",
     "text": [
      "Mean Squared Error for station 41605: 1.7658231096966412e-05\n",
      "Valid indices for station 12102: [192, 142, 173, 141, 193, 139]\n",
      "Cross-Validation Score for station 12102: -0.00014873521069250865\n"
     ]
    },
    {
     "name": "stderr",
     "output_type": "stream",
     "text": [
      "Training models:  92%|██████████████████████████████████████████████████████████████▌     | 92/100 [44:49<03:45, 28.15s/station]"
     ]
    },
    {
     "name": "stdout",
     "output_type": "stream",
     "text": [
      "Mean Squared Error for station 12102: 1.976922200994461e-05\n",
      "Valid indices for station 20012: [87, 719, 692, 686, 749, 740, 695, 693]\n",
      "Cross-Validation Score for station 20012: -0.00011908747527020109\n"
     ]
    },
    {
     "name": "stderr",
     "output_type": "stream",
     "text": [
      "Training models:  93%|███████████████████████████████████████████████████████████████▏    | 93/100 [45:18<03:19, 28.53s/station]"
     ]
    },
    {
     "name": "stdout",
     "output_type": "stream",
     "text": [
      "Mean Squared Error for station 20012: 7.637042986051076e-06\n",
      "Valid indices for station 13120: [265, 245, 266]\n",
      "Valid indices for station 13120: [263, 1185, 1186, 265, 245, 244, 250, 251, 266, 1191, 273, 253]\n",
      "Cross-Validation Score for station 13120: -0.00010371083933498409\n"
     ]
    },
    {
     "name": "stderr",
     "output_type": "stream",
     "text": [
      "Training models:  94%|███████████████████████████████████████████████████████████████▉    | 94/100 [45:48<02:52, 28.81s/station]"
     ]
    },
    {
     "name": "stdout",
     "output_type": "stream",
     "text": [
      "Mean Squared Error for station 13120: 9.384738443547733e-06\n",
      "Valid indices for station 35013: [1118]\n",
      "Valid indices for station 35013: [1124, 1117, 1113, 1119, 1080, 1118, 1112, 1122, 1123]\n",
      "Cross-Validation Score for station 35013: -0.00024997613330384665\n"
     ]
    },
    {
     "name": "stderr",
     "output_type": "stream",
     "text": [
      "Training models:  95%|████████████████████████████████████████████████████████████████▌   | 95/100 [46:12<02:17, 27.45s/station]"
     ]
    },
    {
     "name": "stdout",
     "output_type": "stream",
     "text": [
      "Mean Squared Error for station 35013: 1.57623728857758e-05\n",
      "Valid indices for station 20020: [704, 695, 700, 723, 701]\n",
      "Cross-Validation Score for station 20020: -0.00027406368530457736\n"
     ]
    },
    {
     "name": "stderr",
     "output_type": "stream",
     "text": [
      "Training models:  96%|█████████████████████████████████████████████████████████████████▎  | 96/100 [46:43<01:54, 28.59s/station]"
     ]
    },
    {
     "name": "stdout",
     "output_type": "stream",
     "text": [
      "Mean Squared Error for station 20020: 0.0014075544380530952\n",
      "Valid indices for station 13036: [238, 239, 262, 237, 271, 270]\n",
      "Cross-Validation Score for station 13036: -0.0029465779807977023\n"
     ]
    },
    {
     "name": "stderr",
     "output_type": "stream",
     "text": [
      "Training models:  97%|█████████████████████████████████████████████████████████████████▉  | 97/100 [47:12<01:25, 28.58s/station]"
     ]
    },
    {
     "name": "stdout",
     "output_type": "stream",
     "text": [
      "Mean Squared Error for station 13036: 0.0002219860002058068\n",
      "Valid indices for station 24005: [959]\n",
      "Valid indices for station 24005: [958, 884, 959, 981, 960]\n",
      "Cross-Validation Score for station 24005: -0.000576596205723116\n"
     ]
    },
    {
     "name": "stderr",
     "output_type": "stream",
     "text": [
      "Training models:  98%|██████████████████████████████████████████████████████████████████▋ | 98/100 [47:38<00:55, 27.92s/station]"
     ]
    },
    {
     "name": "stdout",
     "output_type": "stream",
     "text": [
      "Mean Squared Error for station 24005: 4.63324775632673e-05\n",
      "Valid indices for station 43007: [186, 1224]\n",
      "Valid indices for station 43007: [1222, 1221, 1026, 204, 186, 1224, 1225, 1021]\n",
      "Cross-Validation Score for station 43007: -0.0003598252078752591\n"
     ]
    },
    {
     "name": "stderr",
     "output_type": "stream",
     "text": [
      "Training models:  99%|███████████████████████████████████████████████████████████████████▎| 99/100 [48:03<00:26, 26.94s/station]"
     ]
    },
    {
     "name": "stdout",
     "output_type": "stream",
     "text": [
      "Mean Squared Error for station 43007: 0.00034189567498170436\n",
      "Valid indices for station 11014: [198, 152, 680, 149, 137, 136, 85, 719]\n",
      "Cross-Validation Score for station 11014: -0.001175198012315726\n"
     ]
    },
    {
     "name": "stderr",
     "output_type": "stream",
     "text": [
      "Training models: 100%|███████████████████████████████████████████████████████████████████| 100/100 [48:36<00:00, 29.17s/station]"
     ]
    },
    {
     "name": "stdout",
     "output_type": "stream",
     "text": [
      "Mean Squared Error for station 11014: 0.002660498932900373\n"
     ]
    },
    {
     "name": "stderr",
     "output_type": "stream",
     "text": [
      "\n"
     ]
    },
    {
     "name": "stdout",
     "output_type": "stream",
     "text": [
      "Intermediate results saved for batch 9\n",
      "Training models...\n",
      "Columns after feature creation: Index(['stationcode', 'name', 'is_installed', 'capacity', 'numdocksavailable',\n",
      "       'numbikesavailable', 'mechanical', 'ebike', 'is_renting',\n",
      "       'is_returning', 'duedate', 'coordonnees_geo',\n",
      "       'nom_arrondissement_communes', 'date', 'lat', 'lon', 'hour',\n",
      "       'day_of_week', 'lag_1_hour', 'lag_1_day', 'rolling_mean_7_days',\n",
      "       'rolling_mean_30_days', 'normalized_bikes_available',\n",
      "       'normalized_docks_available', 'usage_ratio',\n",
      "       'capacity_hour_interaction', 'capacity_day_interaction',\n",
      "       'avg_bikes_hour_day'],\n",
      "      dtype='object')\n"
     ]
    },
    {
     "name": "stderr",
     "output_type": "stream",
     "text": [
      "Training models:   0%|                                                                             | 0/100 [00:00<?, ?station/s]"
     ]
    },
    {
     "name": "stdout",
     "output_type": "stream",
     "text": [
      "Valid indices for station 14004: [316, 317, 280, 281, 1277, 210]\n",
      "Cross-Validation Score for station 14004: -0.00013761267705702382\n"
     ]
    },
    {
     "name": "stderr",
     "output_type": "stream",
     "text": [
      "Training models:   1%|▋                                                                    | 1/100 [00:24<40:50, 24.75s/station]"
     ]
    },
    {
     "name": "stdout",
     "output_type": "stream",
     "text": [
      "Mean Squared Error for station 14004: 4.757705637471018e-05\n",
      "Valid indices for station 20032: [708, 709, 710, 751, 755, 745, 711]\n",
      "Cross-Validation Score for station 20032: -7.065981785748241e-05\n"
     ]
    },
    {
     "name": "stderr",
     "output_type": "stream",
     "text": [
      "Training models:   2%|█▍                                                                   | 2/100 [00:50<41:35, 25.46s/station]"
     ]
    },
    {
     "name": "stdout",
     "output_type": "stream",
     "text": [
      "Mean Squared Error for station 20032: 4.952103870378712e-06\n",
      "Valid indices for station 15050: [418, 422, 379, 382, 381]\n",
      "Cross-Validation Score for station 15050: -0.00015616477803876404\n"
     ]
    },
    {
     "name": "stderr",
     "output_type": "stream",
     "text": [
      "Training models:   3%|██                                                                   | 3/100 [01:21<45:02, 27.86s/station]"
     ]
    },
    {
     "name": "stdout",
     "output_type": "stream",
     "text": [
      "Mean Squared Error for station 15050: 9.60593333929047e-06\n",
      "Valid indices for station 16025: [485, 452, 449, 454]\n",
      "Valid indices for station 16025: [451, 450, 485, 478, 453, 388, 392, 398, 399, 452, 449, 448, 454, 476, 446, 465, 445, 474, 475]\n",
      "Cross-Validation Score for station 16025: -0.0005275711468745394\n"
     ]
    },
    {
     "name": "stderr",
     "output_type": "stream",
     "text": [
      "Training models:   4%|██▊                                                                  | 4/100 [02:03<53:45, 33.60s/station]"
     ]
    },
    {
     "name": "stdout",
     "output_type": "stream",
     "text": [
      "Mean Squared Error for station 16025: 0.0002450750423982829\n",
      "Valid indices for station 14009: [282, 288, 286, 322, 283]\n",
      "Cross-Validation Score for station 14009: -0.0026965268877385826\n"
     ]
    },
    {
     "name": "stderr",
     "output_type": "stream",
     "text": [
      "Training models:   5%|███▍                                                                 | 5/100 [02:33<50:59, 32.20s/station]"
     ]
    },
    {
     "name": "stdout",
     "output_type": "stream",
     "text": [
      "Mean Squared Error for station 14009: 0.0003478396649471374\n",
      "Valid indices for station 16017: [465, 445, 442, 474, 475, 472, 441, 438]\n",
      "Cross-Validation Score for station 16017: -0.00013481298401521886\n"
     ]
    },
    {
     "name": "stderr",
     "output_type": "stream",
     "text": [
      "Training models:   6%|████▏                                                                | 6/100 [02:53<43:45, 27.93s/station]"
     ]
    },
    {
     "name": "stdout",
     "output_type": "stream",
     "text": [
      "Mean Squared Error for station 16017: 4.499962464768072e-05\n",
      "Valid indices for station 18021: [567, 566, 573, 572, 575, 576, 581]\n",
      "Cross-Validation Score for station 18021: -0.00010893805360208506\n"
     ]
    },
    {
     "name": "stderr",
     "output_type": "stream",
     "text": [
      "Training models:   7%|████▊                                                                | 7/100 [03:16<40:43, 26.27s/station]"
     ]
    },
    {
     "name": "stdout",
     "output_type": "stream",
     "text": [
      "Mean Squared Error for station 18021: 6.597776193171491e-05\n",
      "Valid indices for station 16116: [456, 451, 455, 478]\n",
      "Valid indices for station 16116: [459, 444, 457, 456, 477, 460, 451, 450, 455, 485, 478, 453, 449]\n",
      "Cross-Validation Score for station 16116: -0.00034922500462623255\n"
     ]
    },
    {
     "name": "stderr",
     "output_type": "stream",
     "text": [
      "Training models:   8%|█████▌                                                               | 8/100 [03:43<40:51, 26.65s/station]"
     ]
    },
    {
     "name": "stdout",
     "output_type": "stream",
     "text": [
      "Mean Squared Error for station 16116: 0.0004288005147616961\n",
      "Valid indices for station 22404: [818, 904]\n",
      "Valid indices for station 22404: [822, 821, 902, 818, 906, 904, 827, 824, 903, 299, 320, 312]\n",
      "Cross-Validation Score for station 22404: -0.0003745663693887361\n"
     ]
    },
    {
     "name": "stderr",
     "output_type": "stream",
     "text": [
      "Training models:   9%|██████▏                                                              | 9/100 [04:04<37:57, 25.03s/station]"
     ]
    },
    {
     "name": "stdout",
     "output_type": "stream",
     "text": [
      "Mean Squared Error for station 22404: 0.00010848259135114951\n",
      "Valid indices for station 20013: [87, 719, 692, 686, 740, 695, 693]\n",
      "Cross-Validation Score for station 20013: -0.0013676724467966543\n"
     ]
    },
    {
     "name": "stderr",
     "output_type": "stream",
     "text": [
      "Training models:  10%|██████▊                                                             | 10/100 [04:31<38:09, 25.44s/station]"
     ]
    },
    {
     "name": "stdout",
     "output_type": "stream",
     "text": [
      "Mean Squared Error for station 20013: 0.0002048937605102124\n",
      "Valid indices for station 17006: [493, 492, 614, 495, 494, 544, 490]\n",
      "Cross-Validation Score for station 17006: -0.0008460038709308915\n"
     ]
    },
    {
     "name": "stderr",
     "output_type": "stream",
     "text": [
      "Training models:  11%|███████▍                                                            | 11/100 [05:08<43:08, 29.09s/station]"
     ]
    },
    {
     "name": "stdout",
     "output_type": "stream",
     "text": [
      "Mean Squared Error for station 17006: 0.00014677263862745778\n",
      "Valid indices for station 15045: [869, 376, 375, 423]\n",
      "Valid indices for station 15045: [866, 869, 868, 901, 405, 870, 376, 375, 423, 425, 378, 418, 409, 422, 379, 424]\n",
      "Cross-Validation Score for station 15045: -0.002668953142348396\n"
     ]
    },
    {
     "name": "stderr",
     "output_type": "stream",
     "text": [
      "Training models:  12%|████████▏                                                           | 12/100 [05:35<41:41, 28.42s/station]"
     ]
    },
    {
     "name": "stdout",
     "output_type": "stream",
     "text": [
      "Mean Squared Error for station 15045: 0.0010951722414478387\n",
      "Valid indices for station 12022: [146, 196, 167, 155, 151]\n",
      "Cross-Validation Score for station 12022: -0.00011676790417515042\n"
     ]
    },
    {
     "name": "stderr",
     "output_type": "stream",
     "text": [
      "Training models:  13%|████████▊                                                           | 13/100 [06:10<44:06, 30.42s/station]"
     ]
    },
    {
     "name": "stdout",
     "output_type": "stream",
     "text": [
      "Mean Squared Error for station 12022: 2.3756626559028515e-05\n",
      "Valid indices for station 15027: [349, 324, 421, 410, 359, 411, 412]\n",
      "Cross-Validation Score for station 15027: -0.0001811326915578815\n"
     ]
    },
    {
     "name": "stderr",
     "output_type": "stream",
     "text": [
      "Training models:  14%|█████████▌                                                          | 14/100 [06:33<40:10, 28.03s/station]"
     ]
    },
    {
     "name": "stdout",
     "output_type": "stream",
     "text": [
      "Mean Squared Error for station 15027: 3.998431597691444e-06\n",
      "Valid indices for station 21023: [775, 770, 786]\n",
      "Valid indices for station 21023: [788, 771, 794, 795, 775, 770, 776, 786, 787, 769, 773, 768, 792, 767]\n",
      "Cross-Validation Score for station 21023: -0.00013690211883641808\n"
     ]
    },
    {
     "name": "stderr",
     "output_type": "stream",
     "text": [
      "Training models:  15%|██████████▏                                                         | 15/100 [07:01<39:48, 28.10s/station]"
     ]
    },
    {
     "name": "stdout",
     "output_type": "stream",
     "text": [
      "Mean Squared Error for station 21023: 1.2419054537378192e-05\n",
      "Valid indices for station 21021: [789, 784, 464]\n",
      "Valid indices for station 21021: [785, 789, 784, 793, 842, 841, 845, 846, 833, 479, 466, 464, 426]\n",
      "Cross-Validation Score for station 21021: -0.006685950052118976\n"
     ]
    },
    {
     "name": "stderr",
     "output_type": "stream",
     "text": [
      "Training models:  16%|██████████▉                                                         | 16/100 [07:34<41:26, 29.61s/station]"
     ]
    },
    {
     "name": "stdout",
     "output_type": "stream",
     "text": [
      "Mean Squared Error for station 21021: 0.012479565113011355\n",
      "Valid indices for station 31105: [1040]\n",
      "Valid indices for station 31105: [1161, 1040]\n",
      "Valid indices for station 31105: [1160, 1161, 1040, 1039]\n",
      "Valid indices for station 31105: [1160, 1161, 1040, 1039, 1036]\n",
      "Cross-Validation Score for station 31105: -0.00024126444282033125\n"
     ]
    },
    {
     "name": "stderr",
     "output_type": "stream",
     "text": [
      "Training models:  17%|███████████▌                                                        | 17/100 [08:00<39:18, 28.42s/station]"
     ]
    },
    {
     "name": "stdout",
     "output_type": "stream",
     "text": [
      "Mean Squared Error for station 31105: 1.9163381863749866e-05\n",
      "Valid indices for station 17117: [506, 542, 543, 548, 546]\n",
      "Cross-Validation Score for station 17117: -0.00027264186609029964\n"
     ]
    },
    {
     "name": "stderr",
     "output_type": "stream",
     "text": [
      "Training models:  18%|████████████▏                                                       | 18/100 [08:36<42:07, 30.82s/station]"
     ]
    },
    {
     "name": "stdout",
     "output_type": "stream",
     "text": [
      "Mean Squared Error for station 17117: 0.00015297457298136567\n",
      "Valid indices for station 5033: [1333, 1345, 1336, 1293, 1275, 1315, 1274, 1312, 1296, 1127]\n",
      "Cross-Validation Score for station 5033: -0.00022697412516475458\n"
     ]
    },
    {
     "name": "stderr",
     "output_type": "stream",
     "text": [
      "Training models:  19%|████████████▉                                                       | 19/100 [09:04<40:34, 30.06s/station]"
     ]
    },
    {
     "name": "stdout",
     "output_type": "stream",
     "text": [
      "Mean Squared Error for station 5033: 0.00021585000773511405\n",
      "Valid indices for station 42205: [1201, 1198]\n",
      "Valid indices for station 42205: [1202, 1199, 1170, 1247, 1201, 1198, 1246, 188, 183, 184]\n",
      "Cross-Validation Score for station 42205: -0.0004097731689784639\n"
     ]
    },
    {
     "name": "stderr",
     "output_type": "stream",
     "text": [
      "Training models:  20%|█████████████▌                                                      | 20/100 [09:43<43:24, 32.55s/station]"
     ]
    },
    {
     "name": "stdout",
     "output_type": "stream",
     "text": [
      "Mean Squared Error for station 42205: 7.761520448883329e-05\n",
      "Valid indices for station 20014: [87, 89, 122, 694, 695]\n",
      "Cross-Validation Score for station 20014: -0.0011814671853043871\n"
     ]
    },
    {
     "name": "stderr",
     "output_type": "stream",
     "text": [
      "Training models:  21%|██████████████▎                                                     | 21/100 [10:08<39:55, 30.33s/station]"
     ]
    },
    {
     "name": "stdout",
     "output_type": "stream",
     "text": [
      "Mean Squared Error for station 20014: 0.0002988186359787939\n",
      "Valid indices for station 43004: [1222, 1221]\n",
      "Valid indices for station 43004: [1219, 1220, 1025, 1222, 1221, 1026, 186, 1224, 1016, 1017]\n",
      "Cross-Validation Score for station 43004: -0.00022648841183605314\n"
     ]
    },
    {
     "name": "stderr",
     "output_type": "stream",
     "text": [
      "Training models:  22%|██████████████▉                                                     | 22/100 [10:37<38:49, 29.86s/station]"
     ]
    },
    {
     "name": "stdout",
     "output_type": "stream",
     "text": [
      "Mean Squared Error for station 43004: 6.794664745409715e-05\n",
      "Out of bounds indices for station 8007: [1472, 1462, 1464, 1471]\n",
      "Max valid index: 1460\n",
      "Valid indices for station 8007: [1383, 1392, 1384, 1393, 1385, 1428, 1432, 1386, 1381]\n",
      "Cross-Validation Score for station 8007: -9.170243822528651e-05\n"
     ]
    },
    {
     "name": "stderr",
     "output_type": "stream",
     "text": [
      "Training models:  23%|███████████████▋                                                    | 23/100 [11:06<38:18, 29.85s/station]"
     ]
    },
    {
     "name": "stdout",
     "output_type": "stream",
     "text": [
      "Mean Squared Error for station 8007: 0.00019182168208898407\n",
      "Valid indices for station 7010: [1365, 1375, 1360, 1361]\n",
      "Valid indices for station 7010: [1368, 1367, 1365, 1377, 1362, 1366, 1401, 1375, 1360, 1380, 1361, 1359]\n",
      "Cross-Validation Score for station 7010: -0.0006637514736925383\n"
     ]
    },
    {
     "name": "stderr",
     "output_type": "stream",
     "text": [
      "Training models:  24%|████████████████▎                                                   | 24/100 [11:43<40:18, 31.82s/station]"
     ]
    },
    {
     "name": "stdout",
     "output_type": "stream",
     "text": [
      "Mean Squared Error for station 7010: 0.0003962822438892685\n",
      "Valid indices for station 14005: [285, 308, 328, 282, 286, 322, 283, 279]\n",
      "Cross-Validation Score for station 14005: -0.0003788101631446192\n"
     ]
    },
    {
     "name": "stderr",
     "output_type": "stream",
     "text": [
      "Training models:  25%|█████████████████                                                   | 25/100 [12:10<38:01, 30.42s/station]"
     ]
    },
    {
     "name": "stdout",
     "output_type": "stream",
     "text": [
      "Mean Squared Error for station 14005: 0.0007043032988008806\n",
      "Valid indices for station 17110: [502, 540, 493, 545, 539, 552, 492]\n",
      "Cross-Validation Score for station 17110: -0.00031077703914800627\n"
     ]
    },
    {
     "name": "stderr",
     "output_type": "stream",
     "text": [
      "Training models:  26%|█████████████████▋                                                  | 26/100 [12:41<37:34, 30.47s/station]"
     ]
    },
    {
     "name": "stdout",
     "output_type": "stream",
     "text": [
      "Mean Squared Error for station 17110: 9.244845787120291e-05\n",
      "Valid indices for station 7023: [1372]\n",
      "Valid indices for station 7023: [1374, 393, 403, 397, 1373, 433, 432, 1372, 440, 1412, 1371, 1413, 1414, 1415]\n",
      "Cross-Validation Score for station 7023: -0.0005498933711433646\n"
     ]
    },
    {
     "name": "stderr",
     "output_type": "stream",
     "text": [
      "Training models:  27%|██████████████████▎                                                 | 27/100 [13:17<39:08, 32.17s/station]"
     ]
    },
    {
     "name": "stdout",
     "output_type": "stream",
     "text": [
      "Mean Squared Error for station 7023: 0.0002812110874671654\n",
      "Valid indices for station 8046: [1412, 1413, 1414, 1415]\n",
      "Valid indices for station 8046: [1373, 432, 1372, 440, 427, 1412, 1371, 1413, 1414, 1415, 1427, 1410, 1416, 1433, 1382, 1429, 1400, 1419, 1425, 1390, 1408]\n",
      "Cross-Validation Score for station 8046: -0.0001361773783799042\n"
     ]
    },
    {
     "name": "stderr",
     "output_type": "stream",
     "text": [
      "Training models:  28%|███████████████████                                                 | 28/100 [13:48<38:13, 31.86s/station]"
     ]
    },
    {
     "name": "stdout",
     "output_type": "stream",
     "text": [
      "Mean Squared Error for station 8046: 0.0002141166141026085\n",
      "Valid indices for station 31701: [1049, 1045]\n",
      "Valid indices for station 31701: [705, 739, 729, 1050, 1052, 1049, 1045, 1046]\n",
      "Cross-Validation Score for station 31701: -0.0004011276960722555\n"
     ]
    },
    {
     "name": "stderr",
     "output_type": "stream",
     "text": [
      "Training models:  29%|███████████████████▋                                                | 29/100 [14:16<36:17, 30.67s/station]"
     ]
    },
    {
     "name": "stdout",
     "output_type": "stream",
     "text": [
      "Mean Squared Error for station 31701: 0.0004380376600621422\n",
      "Valid indices for station 19204: [642, 756, 634, 677, 676, 715, 654]\n",
      "Cross-Validation Score for station 19204: -0.003530532343547678\n"
     ]
    },
    {
     "name": "stderr",
     "output_type": "stream",
     "text": [
      "Training models:  30%|████████████████████▍                                               | 30/100 [14:38<32:45, 28.08s/station]"
     ]
    },
    {
     "name": "stdout",
     "output_type": "stream",
     "text": [
      "Mean Squared Error for station 19204: 0.0\n",
      "Valid indices for station 11029: [99, 100, 715, 717, 710]\n",
      "Valid indices for station 11029: [98, 88, 101, 103, 123, 102, 642, 93, 95, 94, 126, 708, 97, 99, 709, 100, 756, 677, 676, 715, 654, 717, 738, 710, 751, 649, 711]\n",
      "Cross-Validation Score for station 11029: -0.00028069686002870286\n"
     ]
    },
    {
     "name": "stderr",
     "output_type": "stream",
     "text": [
      "Training models:  31%|█████████████████████                                               | 31/100 [15:19<36:51, 32.05s/station]"
     ]
    },
    {
     "name": "stdout",
     "output_type": "stream",
     "text": [
      "Mean Squared Error for station 11029: 0.00021797524123924592\n",
      "Valid indices for station 20106: [704, 732, 762, 736]\n",
      "Valid indices for station 20106: [755, 690, 704, 695, 732, 745, 712, 681, 713, 762, 743, 736, 700, 723, 733, 701, 714, 734, 750, 703, 752]\n",
      "Cross-Validation Score for station 20106: -0.0006200153376157142\n"
     ]
    },
    {
     "name": "stderr",
     "output_type": "stream",
     "text": [
      "Training models:  32%|█████████████████████▊                                              | 32/100 [15:33<30:00, 26.47s/station]"
     ]
    },
    {
     "name": "stdout",
     "output_type": "stream",
     "text": [
      "Mean Squared Error for station 20106: 8.052214037264368e-05\n",
      "Valid indices for station 20005: [182, 154, 722, 684, 754, 720, 731, 683]\n",
      "Cross-Validation Score for station 20005: -0.00022689190278235707\n"
     ]
    },
    {
     "name": "stderr",
     "output_type": "stream",
     "text": [
      "Training models:  33%|██████████████████████▍                                             | 33/100 [16:03<30:43, 27.52s/station]"
     ]
    },
    {
     "name": "stdout",
     "output_type": "stream",
     "text": [
      "Mean Squared Error for station 20005: 0.0002100592379153723\n",
      "Valid indices for station 15114: [306, 359, 411, 339, 412, 329, 338]\n",
      "Cross-Validation Score for station 15114: -0.0037926637539178174\n"
     ]
    },
    {
     "name": "stderr",
     "output_type": "stream",
     "text": [
      "Training models:  34%|███████████████████████                                             | 34/100 [16:29<30:00, 27.28s/station]"
     ]
    },
    {
     "name": "stdout",
     "output_type": "stream",
     "text": [
      "Mean Squared Error for station 15114: 0.001816312446303575\n",
      "Valid indices for station 13055: [251, 252, 273, 248, 253, 221]\n",
      "Cross-Validation Score for station 13055: -0.000845956454478264\n"
     ]
    },
    {
     "name": "stderr",
     "output_type": "stream",
     "text": [
      "Training models:  35%|███████████████████████▊                                            | 35/100 [17:10<34:04, 31.45s/station]"
     ]
    },
    {
     "name": "stdout",
     "output_type": "stream",
     "text": [
      "Mean Squared Error for station 13055: 0.0009398446562027407\n",
      "Valid indices for station 12122: [185]\n",
      "Valid indices for station 12122: [185, 205, 1223, 209, 204]\n",
      "Cross-Validation Score for station 12122: -0.0005890214300543041\n"
     ]
    },
    {
     "name": "stderr",
     "output_type": "stream",
     "text": [
      "Training models:  36%|████████████████████████▍                                           | 36/100 [17:46<34:56, 32.75s/station]"
     ]
    },
    {
     "name": "stdout",
     "output_type": "stream",
     "text": [
      "Mean Squared Error for station 12122: 0.000173426043673752\n",
      "Valid indices for station 15120: [837, 413, 416, 838, 840]\n",
      "Cross-Validation Score for station 15120: -0.00040038233106806203\n"
     ]
    },
    {
     "name": "stderr",
     "output_type": "stream",
     "text": [
      "Training models:  37%|█████████████████████████▏                                          | 37/100 [18:14<32:53, 31.32s/station]"
     ]
    },
    {
     "name": "stdout",
     "output_type": "stream",
     "text": [
      "Mean Squared Error for station 15120: 9.256367097450725e-05\n",
      "Valid indices for station 21205: [822, 821, 818, 904]\n",
      "Valid indices for station 21205: [905, 940, 822, 821, 820, 902, 818, 906, 904, 827, 824]\n",
      "Cross-Validation Score for station 21205: -0.00030289641135736693\n"
     ]
    },
    {
     "name": "stderr",
     "output_type": "stream",
     "text": [
      "Training models:  38%|█████████████████████████▊                                          | 38/100 [18:47<32:52, 31.82s/station]"
     ]
    },
    {
     "name": "stdout",
     "output_type": "stream",
     "text": [
      "Mean Squared Error for station 21205: 0.00016919009707866504\n",
      "Valid indices for station 21207: [819, 826, 817]\n",
      "Valid indices for station 21207: [820, 894, 827, 824, 903, 819, 826, 817, 296, 295, 318, 828, 332, 297]\n",
      "Cross-Validation Score for station 21207: -4.024163780710614e-05\n"
     ]
    },
    {
     "name": "stderr",
     "output_type": "stream",
     "text": [
      "Training models:  39%|██████████████████████████▌                                         | 39/100 [19:15<31:11, 30.69s/station]"
     ]
    },
    {
     "name": "stdout",
     "output_type": "stream",
     "text": [
      "Mean Squared Error for station 21207: 2.8707933846274118e-05\n",
      "Valid indices for station 24007: [961]\n",
      "Valid indices for station 24007: [922, 961, 960, 923, 975]\n",
      "Cross-Validation Score for station 24007: -9.529976233778084e-05\n"
     ]
    },
    {
     "name": "stderr",
     "output_type": "stream",
     "text": [
      "Training models:  40%|███████████████████████████▏                                        | 40/100 [19:43<29:44, 29.74s/station]"
     ]
    },
    {
     "name": "stdout",
     "output_type": "stream",
     "text": [
      "Mean Squared Error for station 24007: 5.510534536187942e-05\n",
      "Valid indices for station 16033: [457, 456, 460, 455, 478]\n",
      "Cross-Validation Score for station 16033: -0.00013017532323488393\n"
     ]
    },
    {
     "name": "stderr",
     "output_type": "stream",
     "text": [
      "Training models:  41%|███████████████████████████▉                                        | 41/100 [20:15<29:52, 30.38s/station]"
     ]
    },
    {
     "name": "stdout",
     "output_type": "stream",
     "text": [
      "Mean Squared Error for station 16033: 7.917505922294434e-05\n",
      "Valid indices for station 11028: [98, 88, 97, 99, 100]\n",
      "Valid indices for station 11028: [83, 98, 112, 88, 101, 103, 123, 102, 79, 91, 93, 95, 94, 126, 708, 97, 99, 709, 100, 756, 715, 717, 710]\n",
      "Cross-Validation Score for station 11028: -0.0015299874725283452\n"
     ]
    },
    {
     "name": "stderr",
     "output_type": "stream",
     "text": [
      "Training models:  42%|████████████████████████████▌                                       | 42/100 [20:52<31:21, 32.44s/station]"
     ]
    },
    {
     "name": "stdout",
     "output_type": "stream",
     "text": [
      "Mean Squared Error for station 11028: 0.0006005075739293013\n",
      "Valid indices for station 6028: [1343, 1329, 1342, 1338, 1333, 1345, 1334, 1332, 1331, 1330]\n",
      "Cross-Validation Score for station 6028: -0.0006192097151278315\n"
     ]
    },
    {
     "name": "stderr",
     "output_type": "stream",
     "text": [
      "Training models:  43%|█████████████████████████████▏                                      | 43/100 [21:34<33:31, 35.29s/station]"
     ]
    },
    {
     "name": "stdout",
     "output_type": "stream",
     "text": [
      "Mean Squared Error for station 6028: 0.0003523794398131038\n",
      "Valid indices for station 8003: [440, 1414, 1415, 1427, 1416, 1433, 1382, 1429, 1423, 1400, 1424, 1431, 1419, 1420]\n",
      "Cross-Validation Score for station 8003: -0.00016957874411593842\n"
     ]
    },
    {
     "name": "stderr",
     "output_type": "stream",
     "text": [
      "Training models:  44%|█████████████████████████████▉                                      | 44/100 [22:04<31:30, 33.75s/station]"
     ]
    },
    {
     "name": "stdout",
     "output_type": "stream",
     "text": [
      "Mean Squared Error for station 8003: 7.582006987577639e-07\n",
      "Valid indices for station 19014: [632, 626, 627, 629, 628, 671]\n",
      "Cross-Validation Score for station 19014: -2.6241974016607242e-05\n"
     ]
    },
    {
     "name": "stderr",
     "output_type": "stream",
     "text": [
      "Training models:  45%|██████████████████████████████▌                                     | 45/100 [22:32<29:19, 31.99s/station]"
     ]
    },
    {
     "name": "stdout",
     "output_type": "stream",
     "text": [
      "Mean Squared Error for station 19014: 1.8376272556874438e-05\n",
      "Valid indices for station 15014: [351, 347, 348, 421, 410]\n",
      "Cross-Validation Score for station 15014: -0.000399690702204121\n"
     ]
    },
    {
     "name": "stderr",
     "output_type": "stream",
     "text": [
      "Training models:  46%|███████████████████████████████▎                                    | 46/100 [23:04<28:42, 31.90s/station]"
     ]
    },
    {
     "name": "stdout",
     "output_type": "stream",
     "text": [
      "Mean Squared Error for station 15014: 0.0002869249763064591\n",
      "Valid indices for station 16023: [476, 446, 447]\n",
      "Valid indices for station 16023: [399, 448, 454, 476, 446, 465, 447, 358, 361, 475, 435, 473, 434, 439]\n",
      "Cross-Validation Score for station 16023: -0.0005123691068001571\n"
     ]
    },
    {
     "name": "stderr",
     "output_type": "stream",
     "text": [
      "Training models:  47%|███████████████████████████████▉                                    | 47/100 [23:36<28:12, 31.93s/station]"
     ]
    },
    {
     "name": "stdout",
     "output_type": "stream",
     "text": [
      "Mean Squared Error for station 16023: 0.0038374840688979897\n",
      "Valid indices for station 22014: [883]\n",
      "Valid indices for station 22014: [885, 881, 875, 921, 883, 533, 534, 931, 930]\n",
      "Cross-Validation Score for station 22014: -9.970938771127322e-05\n"
     ]
    },
    {
     "name": "stderr",
     "output_type": "stream",
     "text": [
      "Training models:  48%|████████████████████████████████▋                                   | 48/100 [23:58<25:18, 29.21s/station]"
     ]
    },
    {
     "name": "stdout",
     "output_type": "stream",
     "text": [
      "Mean Squared Error for station 22014: 0.0003820588794524028\n",
      "Valid indices for station 6004: [1341, 1353, 1323, 1324, 1322, 1344, 1340, 1339, 1349]\n",
      "Cross-Validation Score for station 6004: -0.00021597803773729728\n"
     ]
    },
    {
     "name": "stderr",
     "output_type": "stream",
     "text": [
      "Training models:  49%|█████████████████████████████████▎                                  | 49/100 [24:32<25:52, 30.44s/station]"
     ]
    },
    {
     "name": "stdout",
     "output_type": "stream",
     "text": [
      "Mean Squared Error for station 6004: 3.7117602375526586e-05\n",
      "Valid indices for station 11016: [120, 131, 81, 82, 84, 86, 137, 136, 87, 122]\n",
      "Cross-Validation Score for station 11016: -0.0035072347323302075\n"
     ]
    },
    {
     "name": "stderr",
     "output_type": "stream",
     "text": [
      "Training models:  50%|██████████████████████████████████                                  | 50/100 [24:58<24:25, 29.31s/station]"
     ]
    },
    {
     "name": "stdout",
     "output_type": "stream",
     "text": [
      "Mean Squared Error for station 11016: 0.000352038711267882\n",
      "Valid indices for station 21027: [789, 784, 793]\n",
      "Valid indices for station 21027: [785, 782, 789, 784, 793, 842, 841, 845, 846, 833, 466, 464]\n",
      "Cross-Validation Score for station 21027: -2.6228022773543587e-05\n"
     ]
    },
    {
     "name": "stderr",
     "output_type": "stream",
     "text": [
      "Training models:  51%|██████████████████████████████████▋                                 | 51/100 [25:33<25:19, 31.00s/station]"
     ]
    },
    {
     "name": "stdout",
     "output_type": "stream",
     "text": [
      "Mean Squared Error for station 21027: 1.8535413547963014e-08\n",
      "Valid indices for station 15044: [376, 375, 423, 409]\n",
      "Valid indices for station 15044: [869, 868, 901, 376, 375, 423, 425, 378, 418, 409, 422, 380, 379, 424, 374, 377, 414, 370]\n",
      "Cross-Validation Score for station 15044: -0.0004271456742320137\n"
     ]
    },
    {
     "name": "stderr",
     "output_type": "stream",
     "text": [
      "Training models:  52%|███████████████████████████████████▎                                | 52/100 [26:05<24:58, 31.23s/station]"
     ]
    },
    {
     "name": "stdout",
     "output_type": "stream",
     "text": [
      "Mean Squared Error for station 15044: 0.00016903158859707013\n",
      "Valid indices for station 12040: [169, 180, 164, 168]\n",
      "Valid indices for station 12040: [1200, 1199, 169, 180, 164, 168, 207, 179, 146, 196, 166, 167]\n",
      "Cross-Validation Score for station 12040: -0.005937692933204177\n"
     ]
    },
    {
     "name": "stderr",
     "output_type": "stream",
     "text": [
      "Training models:  53%|████████████████████████████████████                                | 53/100 [26:42<25:44, 32.85s/station]"
     ]
    },
    {
     "name": "stdout",
     "output_type": "stream",
     "text": [
      "Mean Squared Error for station 12040: 0.005109320260081931\n",
      "Valid indices for station 25002: [966, 973]\n",
      "Valid indices for station 25002: [966, 973]\n",
      "Valid indices for station 25002: [966, 973, 969, 965]\n",
      "Out of bounds indices for station 25002: [1482]\n",
      "Max valid index: 1460\n",
      "Valid indices for station 25002: [966, 968, 973, 969, 971, 965, 967]\n",
      "Cross-Validation Score for station 25002: -6.002610572943593e-05\n"
     ]
    },
    {
     "name": "stderr",
     "output_type": "stream",
     "text": [
      "Training models:  54%|████████████████████████████████████▋                               | 54/100 [27:13<24:52, 32.45s/station]"
     ]
    },
    {
     "name": "stdout",
     "output_type": "stream",
     "text": [
      "Mean Squared Error for station 25002: 4.3843084855103745e-06\n",
      "Valid indices for station 15113: [340, 410, 359, 411, 339, 412]\n",
      "Cross-Validation Score for station 15113: -0.000277321729477957\n"
     ]
    },
    {
     "name": "stderr",
     "output_type": "stream",
     "text": [
      "Training models:  55%|█████████████████████████████████████▍                              | 55/100 [27:43<23:47, 31.71s/station]"
     ]
    },
    {
     "name": "stdout",
     "output_type": "stream",
     "text": [
      "Mean Squared Error for station 15113: 0.0018550619604526329\n",
      "Valid indices for station 20033: [709, 100, 715, 717, 738, 710, 751]\n",
      "Cross-Validation Score for station 20033: -0.0007047247545798275\n"
     ]
    },
    {
     "name": "stderr",
     "output_type": "stream",
     "text": [
      "Training models:  56%|██████████████████████████████████████                              | 56/100 [28:12<22:36, 30.82s/station]"
     ]
    },
    {
     "name": "stdout",
     "output_type": "stream",
     "text": [
      "Mean Squared Error for station 20033: 0.0005970462387853697\n",
      "Valid indices for station 18018: [554, 600, 569, 614, 490, 579]\n",
      "Cross-Validation Score for station 18018: -0.0001281062963024747\n"
     ]
    },
    {
     "name": "stderr",
     "output_type": "stream",
     "text": [
      "Training models:  57%|██████████████████████████████████████▊                             | 57/100 [28:39<21:15, 29.66s/station]"
     ]
    },
    {
     "name": "stdout",
     "output_type": "stream",
     "text": [
      "Mean Squared Error for station 18018: 3.5103555488691563e-05\n",
      "Valid indices for station 6020: [1343, 1333, 1345, 1336, 1332, 1331, 8, 1293, 1275, 1274, 1296]\n",
      "Cross-Validation Score for station 6020: -0.00019105812542241212\n"
     ]
    },
    {
     "name": "stderr",
     "output_type": "stream",
     "text": [
      "Training models:  58%|███████████████████████████████████████▍                            | 58/100 [29:18<22:47, 32.57s/station]"
     ]
    },
    {
     "name": "stdout",
     "output_type": "stream",
     "text": [
      "Mean Squared Error for station 6020: 3.6478995540377836e-05\n",
      "Valid indices for station 16022: [476, 446, 465, 447, 475]\n",
      "Cross-Validation Score for station 16022: -3.570598936592103e-06\n"
     ]
    },
    {
     "name": "stderr",
     "output_type": "stream",
     "text": [
      "Training models:  59%|████████████████████████████████████████                            | 59/100 [29:43<20:36, 30.15s/station]"
     ]
    },
    {
     "name": "stdout",
     "output_type": "stream",
     "text": [
      "Mean Squared Error for station 16022: 1.0863665774542435e-07\n",
      "Valid indices for station 6005: [309, 277, 323, 336, 1341, 1325, 1323, 1324, 1322]\n",
      "Cross-Validation Score for station 6005: -0.0009988165195577454\n"
     ]
    },
    {
     "name": "stderr",
     "output_type": "stream",
     "text": [
      "Training models:  60%|████████████████████████████████████████▊                           | 60/100 [30:21<21:46, 32.66s/station]"
     ]
    },
    {
     "name": "stdout",
     "output_type": "stream",
     "text": [
      "Mean Squared Error for station 6005: 0.0002461856148093445\n",
      "Valid indices for station 14025: [325, 300, 302, 311, 314]\n",
      "Cross-Validation Score for station 14025: -6.645193861361026e-05\n"
     ]
    },
    {
     "name": "stderr",
     "output_type": "stream",
     "text": [
      "Training models:  61%|█████████████████████████████████████████▍                          | 61/100 [31:00<22:26, 34.53s/station]"
     ]
    },
    {
     "name": "stdout",
     "output_type": "stream",
     "text": [
      "Mean Squared Error for station 14025: 0.0009529521025951213\n",
      "Valid indices for station 20011: [749, 687, 740, 696, 691, 697, 742]\n",
      "Cross-Validation Score for station 20011: -0.00014453663731812692\n"
     ]
    },
    {
     "name": "stderr",
     "output_type": "stream",
     "text": [
      "Training models:  62%|██████████████████████████████████████████▏                         | 62/100 [31:29<20:49, 32.89s/station]"
     ]
    },
    {
     "name": "stdout",
     "output_type": "stream",
     "text": [
      "Mean Squared Error for station 20011: 1.3833584958613677e-05\n",
      "Valid indices for station 8039: [1410, 1390, 1409, 1408, 1402, 1417, 1426, 1404, 1403]\n",
      "Cross-Validation Score for station 8039: -0.00014598856210876752\n"
     ]
    },
    {
     "name": "stderr",
     "output_type": "stream",
     "text": [
      "Training models:  63%|██████████████████████████████████████████▊                         | 63/100 [31:57<19:19, 31.33s/station]"
     ]
    },
    {
     "name": "stdout",
     "output_type": "stream",
     "text": [
      "Mean Squared Error for station 8039: 0.0002248080043970494\n",
      "Valid indices for station 11018: [98, 112, 88, 101, 103, 123, 102, 97, 99]\n",
      "Cross-Validation Score for station 11018: -0.0021889233964182075\n"
     ]
    },
    {
     "name": "stderr",
     "output_type": "stream",
     "text": [
      "Training models:  64%|███████████████████████████████████████████▌                        | 64/100 [32:31<19:21, 32.25s/station]"
     ]
    },
    {
     "name": "stdout",
     "output_type": "stream",
     "text": [
      "Mean Squared Error for station 11018: 0.003135113482184213\n",
      "Valid indices for station 13008: [227, 258, 217, 215, 214]\n",
      "Cross-Validation Score for station 13008: -0.00105658414608748\n"
     ]
    },
    {
     "name": "stderr",
     "output_type": "stream",
     "text": [
      "Training models:  65%|████████████████████████████████████████████▏                       | 65/100 [33:12<20:16, 34.75s/station]"
     ]
    },
    {
     "name": "stdout",
     "output_type": "stream",
     "text": [
      "Mean Squared Error for station 13008: 0.0038670394457772927\n",
      "Valid indices for station 13023: [226, 228, 216, 227, 258, 215]\n",
      "Cross-Validation Score for station 13023: -0.00022208377579242057\n"
     ]
    },
    {
     "name": "stderr",
     "output_type": "stream",
     "text": [
      "Training models:  66%|████████████████████████████████████████████▉                       | 66/100 [33:40<18:34, 32.77s/station]"
     ]
    },
    {
     "name": "stdout",
     "output_type": "stream",
     "text": [
      "Mean Squared Error for station 13023: 3.132461054477464e-05\n",
      "Valid indices for station 21007: [771, 794]\n",
      "Valid indices for station 21007: [887, 771, 794, 795, 775, 770, 786]\n",
      "Cross-Validation Score for station 21007: -0.00023266819267421402\n"
     ]
    },
    {
     "name": "stderr",
     "output_type": "stream",
     "text": [
      "Training models:  67%|█████████████████████████████████████████████▌                      | 67/100 [34:22<19:36, 35.65s/station]"
     ]
    },
    {
     "name": "stdout",
     "output_type": "stream",
     "text": [
      "Mean Squared Error for station 21007: 0.0019481987009521153\n",
      "Valid indices for station 19007: [669, 620, 622, 621, 643]\n",
      "Cross-Validation Score for station 19007: -0.00012476096283961649\n"
     ]
    },
    {
     "name": "stderr",
     "output_type": "stream",
     "text": [
      "Training models:  68%|██████████████████████████████████████████████▏                     | 68/100 [34:46<17:06, 32.07s/station]"
     ]
    },
    {
     "name": "stdout",
     "output_type": "stream",
     "text": [
      "Mean Squared Error for station 19007: 9.896882402867898e-06\n",
      "Valid indices for station 21016: [777, 779, 780]\n",
      "Valid indices for station 21016: [831, 790, 777, 779, 780, 778, 785, 781, 787, 782, 769, 793]\n",
      "Cross-Validation Score for station 21016: -0.1006076884249533\n"
     ]
    },
    {
     "name": "stderr",
     "output_type": "stream",
     "text": [
      "Training models:  69%|██████████████████████████████████████████████▉                     | 69/100 [35:23<17:14, 33.36s/station]"
     ]
    },
    {
     "name": "stdout",
     "output_type": "stream",
     "text": [
      "Mean Squared Error for station 21016: 0.06002220509607065\n",
      "Valid indices for station 5105: [1297, 1292, 218, 213, 1305, 256, 219]\n",
      "Cross-Validation Score for station 5105: -0.00016641297896434248\n"
     ]
    },
    {
     "name": "stderr",
     "output_type": "stream",
     "text": [
      "Training models:  70%|███████████████████████████████████████████████▌                    | 70/100 [35:51<15:57, 31.90s/station]"
     ]
    },
    {
     "name": "stdout",
     "output_type": "stream",
     "text": [
      "Mean Squared Error for station 5105: 1.370289629398936e-05\n",
      "Valid indices for station 19001: [615, 660, 657]\n",
      "Valid indices for station 19001: [658, 639, 619, 669, 616, 620, 612, 670, 595, 615, 1094, 660, 657, 659, 622, 621, 652, 643]\n",
      "Cross-Validation Score for station 19001: -0.0006954304226492298\n"
     ]
    },
    {
     "name": "stderr",
     "output_type": "stream",
     "text": [
      "Training models:  71%|████████████████████████████████████████████████▎                   | 71/100 [36:21<15:07, 31.30s/station]"
     ]
    },
    {
     "name": "stdout",
     "output_type": "stream",
     "text": [
      "Mean Squared Error for station 19001: 0.0009111152765832546\n",
      "Valid indices for station 19123: [628, 671, 667, 673]\n",
      "Valid indices for station 19123: [669, 641, 627, 629, 628, 671, 667, 655, 674, 631, 630, 653, 622, 621, 643, 623, 673, 663]\n",
      "Cross-Validation Score for station 19123: -0.0012570870298993634\n"
     ]
    },
    {
     "name": "stderr",
     "output_type": "stream",
     "text": [
      "Training models:  72%|████████████████████████████████████████████████▉                   | 72/100 [36:45<13:38, 29.25s/station]"
     ]
    },
    {
     "name": "stdout",
     "output_type": "stream",
     "text": [
      "Mean Squared Error for station 19123: 0.0010477895164261782\n",
      "Valid indices for station 21107: [801, 810, 815]\n",
      "Valid indices for station 21107: [509, 812, 811, 925, 541, 801, 810, 803, 546, 550, 802, 815, 806]\n",
      "Cross-Validation Score for station 21107: -0.00035478089274094537\n"
     ]
    },
    {
     "name": "stderr",
     "output_type": "stream",
     "text": [
      "Training models:  73%|█████████████████████████████████████████████████▋                  | 73/100 [37:20<13:56, 30.97s/station]"
     ]
    },
    {
     "name": "stdout",
     "output_type": "stream",
     "text": [
      "Mean Squared Error for station 21107: 0.000233885802830758\n",
      "Valid indices for station 16104: [430, 431, 433, 470, 469]\n",
      "Cross-Validation Score for station 16104: -0.002131288307386791\n"
     ]
    },
    {
     "name": "stderr",
     "output_type": "stream",
     "text": [
      "Training models:  74%|██████████████████████████████████████████████████▎                 | 74/100 [37:46<12:45, 29.45s/station]"
     ]
    },
    {
     "name": "stdout",
     "output_type": "stream",
     "text": [
      "Mean Squared Error for station 16104: 0.0018742827043280626\n",
      "Valid indices for station 5031: [1297, 1292, 1308, 1289, 1294, 1311, 1288, 1287]\n",
      "Cross-Validation Score for station 5031: -0.0011937796425109844\n"
     ]
    },
    {
     "name": "stderr",
     "output_type": "stream",
     "text": [
      "Training models:  75%|███████████████████████████████████████████████████                 | 75/100 [38:28<13:48, 33.13s/station]"
     ]
    },
    {
     "name": "stdout",
     "output_type": "stream",
     "text": [
      "Mean Squared Error for station 5031: 2.7023819050371646e-05\n",
      "Valid indices for station 22007: [880]\n",
      "Valid indices for station 22007: [483, 481, 880, 482, 879]\n",
      "Cross-Validation Score for station 22007: -0.00028476068175545337\n"
     ]
    },
    {
     "name": "stderr",
     "output_type": "stream",
     "text": [
      "Training models:  76%|███████████████████████████████████████████████████▋                | 76/100 [38:59<13:01, 32.54s/station]"
     ]
    },
    {
     "name": "stdout",
     "output_type": "stream",
     "text": [
      "Mean Squared Error for station 22007: 2.8881330308762272e-05\n",
      "Valid indices for station 12039: [169, 180, 164, 168, 146]\n",
      "Cross-Validation Score for station 12039: -0.0002744695898881129\n"
     ]
    },
    {
     "name": "stderr",
     "output_type": "stream",
     "text": [
      "Training models:  77%|████████████████████████████████████████████████████▎               | 77/100 [39:26<11:50, 30.90s/station]"
     ]
    },
    {
     "name": "stdout",
     "output_type": "stream",
     "text": [
      "Mean Squared Error for station 12039: 4.278711430928854e-05\n",
      "Valid indices for station 13037: [261, 238, 239, 237, 236]\n",
      "Cross-Validation Score for station 13037: -0.00010870956846204701\n"
     ]
    },
    {
     "name": "stderr",
     "output_type": "stream",
     "text": [
      "Training models:  78%|█████████████████████████████████████████████████████               | 78/100 [39:56<11:10, 30.46s/station]"
     ]
    },
    {
     "name": "stdout",
     "output_type": "stream",
     "text": [
      "Mean Squared Error for station 13037: 8.026464941814346e-05\n",
      "Valid indices for station 12017: [150, 155, 151, 682]\n",
      "Valid indices for station 12017: [146, 196, 152, 153, 680, 149, 167, 150, 155, 151, 85, 686, 749, 687, 195, 197, 154, 722, 682, 684, 685]\n",
      "Cross-Validation Score for station 12017: -0.000359218048402249\n"
     ]
    },
    {
     "name": "stderr",
     "output_type": "stream",
     "text": [
      "Training models:  79%|█████████████████████████████████████████████████████▋              | 79/100 [40:27<10:45, 30.76s/station]"
     ]
    },
    {
     "name": "stdout",
     "output_type": "stream",
     "text": [
      "Mean Squared Error for station 12017: 0.0005006250393431925\n",
      "Valid indices for station 13013: [213, 1305, 256, 219, 1309]\n",
      "Valid indices for station 13013: [214, 1297, 1292, 218, 213, 1305, 222, 223, 255, 256, 219, 1294, 1311, 269, 1309, 257, 1310]\n",
      "Cross-Validation Score for station 13013: -4.865751136350504e-05\n"
     ]
    },
    {
     "name": "stderr",
     "output_type": "stream",
     "text": [
      "Training models:  80%|██████████████████████████████████████████████████████▍             | 80/100 [40:59<10:20, 31.05s/station]"
     ]
    },
    {
     "name": "stdout",
     "output_type": "stream",
     "text": [
      "Mean Squared Error for station 13013: 6.329748138596037e-06\n",
      "Valid indices for station 6009: [1326, 1324, 1327, 1344, 1347]\n",
      "Cross-Validation Score for station 6009: -0.00026103254050810975\n"
     ]
    },
    {
     "name": "stderr",
     "output_type": "stream",
     "text": [
      "Training models:  81%|███████████████████████████████████████████████████████             | 81/100 [41:30<09:49, 31.03s/station]"
     ]
    },
    {
     "name": "stdout",
     "output_type": "stream",
     "text": [
      "Mean Squared Error for station 6009: 0.00034120061374104805\n",
      "Valid indices for station 12115: [182, 181, 684, 1177, 683, 1176]\n",
      "Cross-Validation Score for station 12115: -0.0002551756624102873\n"
     ]
    },
    {
     "name": "stderr",
     "output_type": "stream",
     "text": [
      "Training models:  82%|███████████████████████████████████████████████████████▊            | 82/100 [41:51<08:23, 27.99s/station]"
     ]
    },
    {
     "name": "stdout",
     "output_type": "stream",
     "text": [
      "Mean Squared Error for station 12115: 0.00026101708093305035\n",
      "Valid indices for station 15104: [386, 394, 385, 402, 384, 401, 387, 396]\n",
      "Cross-Validation Score for station 15104: -1.0524021533537027\n"
     ]
    },
    {
     "name": "stderr",
     "output_type": "stream",
     "text": [
      "Training models:  83%|████████████████████████████████████████████████████████▍           | 83/100 [41:57<06:07, 21.61s/station]"
     ]
    },
    {
     "name": "stdout",
     "output_type": "stream",
     "text": [
      "Mean Squared Error for station 15104: 1.0351748623280679\n",
      "Valid indices for station 28005: [995, 994]\n",
      "Valid indices for station 28005: [995, 994]\n",
      "Valid indices for station 28005: [993, 995, 994, 483, 481, 880, 879, 878, 962, 963, 877]\n",
      "Cross-Validation Score for station 28005: -0.18326112023260094\n"
     ]
    },
    {
     "name": "stderr",
     "output_type": "stream",
     "text": [
      "Training models:  84%|█████████████████████████████████████████████████████████           | 84/100 [42:05<04:38, 17.42s/station]"
     ]
    },
    {
     "name": "stdout",
     "output_type": "stream",
     "text": [
      "Mean Squared Error for station 28005: 0.05549281178749836\n",
      "Valid indices for station 15202: [901, 424, 374]\n",
      "Valid indices for station 15202: [869, 868, 901, 376, 375, 378, 902, 906, 299, 424, 320, 333, 374, 377]\n"
     ]
    },
    {
     "name": "stderr",
     "output_type": "stream",
     "text": [
      "Training models:  85%|█████████████████████████████████████████████████████████▊          | 85/100 [42:12<03:31, 14.13s/station]"
     ]
    },
    {
     "name": "stdout",
     "output_type": "stream",
     "text": [
      "Cross-Validation Score for station 15202: -0.06547285989751746\n",
      "Mean Squared Error for station 15202: 0.11092576155805678\n",
      "Valid indices for station 13101: [275, 254, 226, 216]\n",
      "Valid indices for station 13101: [284, 317, 229, 276, 275, 246, 254, 226, 228, 216, 227, 258, 217, 215, 211, 210, 212, 1290, 1291, 214]\n"
     ]
    },
    {
     "name": "stderr",
     "output_type": "stream",
     "text": [
      "Training models:  86%|██████████████████████████████████████████████████████████▍         | 86/100 [42:18<02:45, 11.82s/station]"
     ]
    },
    {
     "name": "stdout",
     "output_type": "stream",
     "text": [
      "Cross-Validation Score for station 13101: -0.3165308686299831\n",
      "Mean Squared Error for station 13101: 0.026700374582199624\n",
      "Valid indices for station 14108: [825, 313, 326, 293, 294]\n",
      "Cross-Validation Score for station 14108: -0.0675161143131432\n"
     ]
    },
    {
     "name": "stderr",
     "output_type": "stream",
     "text": [
      "Training models:  87%|███████████████████████████████████████████████████████████▏        | 87/100 [42:25<02:14, 10.32s/station]"
     ]
    },
    {
     "name": "stdout",
     "output_type": "stream",
     "text": [
      "Mean Squared Error for station 14108: 0.004149082199109099\n",
      "Valid indices for station 17025: [1422, 511, 1421, 1411, 512]\n"
     ]
    },
    {
     "name": "stderr",
     "output_type": "stream",
     "text": [
      "Training models:  88%|███████████████████████████████████████████████████████████▊        | 88/100 [42:31<01:48,  9.05s/station]"
     ]
    },
    {
     "name": "stdout",
     "output_type": "stream",
     "text": [
      "Cross-Validation Score for station 17025: -0.09512775169217637\n",
      "Mean Squared Error for station 17025: 0.08004270811454174\n",
      "Valid indices for station 21326: [836, 843, 848]\n",
      "Valid indices for station 21326: [839, 834, 836, 837, 843, 848, 864, 413, 838]\n",
      "Cross-Validation Score for station 21326: -0.03707079468251678\n"
     ]
    },
    {
     "name": "stderr",
     "output_type": "stream",
     "text": [
      "Training models:  89%|████████████████████████████████████████████████████████████▌       | 89/100 [42:38<01:32,  8.43s/station]"
     ]
    },
    {
     "name": "stdout",
     "output_type": "stream",
     "text": [
      "Mean Squared Error for station 21326: 0.0010641307562722611\n",
      "Valid indices for station 13118: [265, 245, 244, 266]\n",
      "Valid indices for station 13118: [240, 263, 1185, 1186, 265, 245, 244, 243, 250, 251, 252, 266, 273, 248, 253, 221]\n"
     ]
    },
    {
     "name": "stderr",
     "output_type": "stream",
     "text": [
      "Training models:  90%|█████████████████████████████████████████████████████████████▏      | 90/100 [42:44<01:17,  7.74s/station]"
     ]
    },
    {
     "name": "stdout",
     "output_type": "stream",
     "text": [
      "Cross-Validation Score for station 13118: -0.03554753890642845\n",
      "Mean Squared Error for station 13118: 0.014326345964346421\n",
      "Valid indices for station 12031: [194, 163, 162, 160, 157]\n",
      "Valid indices for station 12031: [248, 253, 221, 194, 163, 162, 160, 157, 208, 207, 177, 156, 171, 158, 178, 206, 159]\n"
     ]
    },
    {
     "name": "stderr",
     "output_type": "stream",
     "text": [
      "Training models:  91%|█████████████████████████████████████████████████████████████▉      | 91/100 [42:51<01:07,  7.47s/station]"
     ]
    },
    {
     "name": "stdout",
     "output_type": "stream",
     "text": [
      "Cross-Validation Score for station 12031: -0.06956964832011683\n",
      "Mean Squared Error for station 12031: 0.08009317424319728\n",
      "Out of bounds indices for station 8009: [1472, 1462, 1464, 1471, 1470]\n",
      "Max valid index: 1460\n",
      "Valid indices for station 8009: [1392, 1384, 1393, 1385, 1432, 1386, 1381]\n",
      "Cross-Validation Score for station 8009: -0.03542622978495032\n"
     ]
    },
    {
     "name": "stderr",
     "output_type": "stream",
     "text": [
      "Training models:  92%|██████████████████████████████████████████████████████████████▌     | 92/100 [42:58<00:59,  7.47s/station]"
     ]
    },
    {
     "name": "stdout",
     "output_type": "stream",
     "text": [
      "Mean Squared Error for station 8009: 0.0874421021036497\n",
      "Valid indices for station 19043: [650, 651, 1110, 1109]\n",
      "Valid indices for station 19043: [631, 630, 653, 675, 650, 1125, 651, 1115, 1110, 1109, 1121]\n"
     ]
    },
    {
     "name": "stderr",
     "output_type": "stream",
     "text": [
      "Training models:  93%|███████████████████████████████████████████████████████████████▏    | 93/100 [43:04<00:49,  7.00s/station]"
     ]
    },
    {
     "name": "stdout",
     "output_type": "stream",
     "text": [
      "Cross-Validation Score for station 19043: -0.4929332077658649\n",
      "Mean Squared Error for station 19043: 0.06585207612456756\n",
      "Valid indices for station 41302: [1167]\n",
      "Valid indices for station 41302: [1166, 1167]\n",
      "Valid indices for station 41302: [1166, 1164, 1162, 1167, 1169]\n"
     ]
    },
    {
     "name": "stderr",
     "output_type": "stream",
     "text": [
      "Training models:  94%|███████████████████████████████████████████████████████████████▉    | 94/100 [43:10<00:39,  6.61s/station]"
     ]
    },
    {
     "name": "stdout",
     "output_type": "stream",
     "text": [
      "Cross-Validation Score for station 41302: -0.01714110525700233\n",
      "Mean Squared Error for station 41302: 0.012201854277747124\n",
      "Valid indices for station 51005: [1302]\n",
      "Valid indices for station 51005: [1302]\n",
      "Valid indices for station 51005: [1302]\n",
      "Valid indices for station 51005: [1302]\n"
     ]
    },
    {
     "name": "stderr",
     "output_type": "stream",
     "text": [
      "/Users/anthonybellon/Comp_Documents/VelibVisualisation/scripts/train_model.py:103: SettingWithCopyWarning: \n",
      "A value is trying to be set on a copy of a slice from a DataFrame.\n",
      "Try using .loc[row_indexer,col_indexer] = value instead\n",
      "\n",
      "See the caveats in the documentation: https://pandas.pydata.org/pandas-docs/stable/user_guide/indexing.html#returning-a-view-versus-a-copy\n",
      "  \n",
      "Training models:  95%|████████████████████████████████████████████████████████████████▌   | 95/100 [43:16<00:32,  6.43s/station]"
     ]
    },
    {
     "name": "stdout",
     "output_type": "stream",
     "text": [
      "Cross-Validation Score for station 51005: 0.0\n",
      "Mean Squared Error for station 51005: 0.0\n",
      "Valid indices for station 41209: [1163, 1162]\n",
      "Valid indices for station 41209: [1164, 1163, 1162]\n",
      "Valid indices for station 41209: [1164, 1158, 1163, 1162, 1167, 1160, 1159]\n"
     ]
    },
    {
     "name": "stderr",
     "output_type": "stream",
     "text": [
      "Training models:  96%|█████████████████████████████████████████████████████████████████▎  | 96/100 [43:22<00:25,  6.36s/station]"
     ]
    },
    {
     "name": "stdout",
     "output_type": "stream",
     "text": [
      "Cross-Validation Score for station 41209: -0.011185829990122843\n",
      "Mean Squared Error for station 41209: 0.004056625748805654\n",
      "Valid indices for station 8045: [1412, 1413]\n",
      "Valid indices for station 8045: [1373, 1372, 440, 1412, 1371, 1413, 1414, 1415, 1427, 1410, 1416, 1433, 1382, 1429, 1419, 1425, 1366, 1390, 1409, 1408, 1401, 1417]\n",
      "Cross-Validation Score for station 8045: -0.38814482161970837\n"
     ]
    },
    {
     "name": "stderr",
     "output_type": "stream",
     "text": [
      "Training models:  97%|█████████████████████████████████████████████████████████████████▉  | 97/100 [43:29<00:19,  6.51s/station]"
     ]
    },
    {
     "name": "stdout",
     "output_type": "stream",
     "text": [
      "Mean Squared Error for station 8045: 0.6727271283593298\n",
      "Valid indices for station 44013: [1240]\n",
      "Valid indices for station 44013: [1271, 1273, 1266, 1240, 1241]\n",
      "Cross-Validation Score for station 44013: -0.04791313208447688\n"
     ]
    },
    {
     "name": "stderr",
     "output_type": "stream",
     "text": [
      "Training models:  98%|██████████████████████████████████████████████████████████████████▋ | 98/100 [43:36<00:13,  6.58s/station]"
     ]
    },
    {
     "name": "stdout",
     "output_type": "stream",
     "text": [
      "Mean Squared Error for station 44013: 0.022735827696208386\n",
      "Valid indices for station 6025: [1353, 1324, 1322, 1344, 1340, 1339, 1354, 1376, 1349, 1347, 1321]\n"
     ]
    },
    {
     "name": "stderr",
     "output_type": "stream",
     "text": [
      "Training models:  99%|███████████████████████████████████████████████████████████████████▎| 99/100 [43:41<00:06,  6.22s/station]"
     ]
    },
    {
     "name": "stdout",
     "output_type": "stream",
     "text": [
      "Cross-Validation Score for station 6025: -0.10902446081481423\n",
      "Mean Squared Error for station 6025: 0.01472668926444821\n",
      "Valid indices for station 15034: [365, 367, 366, 420, 368, 353, 354, 415]\n",
      "Cross-Validation Score for station 15034: -0.23809305313058973\n"
     ]
    },
    {
     "name": "stderr",
     "output_type": "stream",
     "text": [
      "Training models: 100%|███████████████████████████████████████████████████████████████████| 100/100 [43:49<00:00, 26.30s/station]"
     ]
    },
    {
     "name": "stdout",
     "output_type": "stream",
     "text": [
      "Mean Squared Error for station 15034: 0.12615454035399723\n"
     ]
    },
    {
     "name": "stderr",
     "output_type": "stream",
     "text": [
      "\n"
     ]
    },
    {
     "name": "stdout",
     "output_type": "stream",
     "text": [
      "Intermediate results saved for batch 10\n",
      "Training models...\n",
      "Columns after feature creation: Index(['stationcode', 'name', 'is_installed', 'capacity', 'numdocksavailable',\n",
      "       'numbikesavailable', 'mechanical', 'ebike', 'is_renting',\n",
      "       'is_returning', 'duedate', 'coordonnees_geo',\n",
      "       'nom_arrondissement_communes', 'date', 'lat', 'lon', 'hour',\n",
      "       'day_of_week', 'lag_1_hour', 'lag_1_day', 'rolling_mean_7_days',\n",
      "       'rolling_mean_30_days', 'normalized_bikes_available',\n",
      "       'normalized_docks_available', 'usage_ratio',\n",
      "       'capacity_hour_interaction', 'capacity_day_interaction',\n",
      "       'avg_bikes_hour_day'],\n",
      "      dtype='object')\n"
     ]
    },
    {
     "name": "stderr",
     "output_type": "stream",
     "text": [
      "Training models:   0%|                                                                             | 0/100 [00:00<?, ?station/s]"
     ]
    },
    {
     "name": "stdout",
     "output_type": "stream",
     "text": [
      "Valid indices for station 35020: [1124]\n",
      "Valid indices for station 35020: [1096, 1097, 706, 1124, 1078, 698, 1117, 1081, 1080, 1118]\n"
     ]
    },
    {
     "name": "stderr",
     "output_type": "stream",
     "text": [
      "Training models:   1%|▋                                                                    | 1/100 [00:07<11:42,  7.09s/station]"
     ]
    },
    {
     "name": "stdout",
     "output_type": "stream",
     "text": [
      "Cross-Validation Score for station 35020: -0.022379792920333468\n",
      "Mean Squared Error for station 35020: 0.005747678180110616\n",
      "Valid indices for station 21008: [782, 772]\n",
      "Valid indices for station 21008: [778, 785, 781, 782, 769, 773, 772, 768, 792, 766, 466]\n",
      "Cross-Validation Score for station 21008: -0.11283711847018582\n"
     ]
    },
    {
     "name": "stderr",
     "output_type": "stream",
     "text": [
      "Training models:   2%|█▍                                                                   | 2/100 [00:14<11:36,  7.11s/station]"
     ]
    },
    {
     "name": "stdout",
     "output_type": "stream",
     "text": [
      "Mean Squared Error for station 21008: 0.04899091628594456\n",
      "Valid indices for station 11105: [83, 98, 115, 112, 125, 105, 88, 101, 103, 123, 102]\n"
     ]
    },
    {
     "name": "stderr",
     "output_type": "stream",
     "text": [
      "Training models:   3%|██                                                                   | 3/100 [00:20<10:53,  6.73s/station]"
     ]
    },
    {
     "name": "stdout",
     "output_type": "stream",
     "text": [
      "Cross-Validation Score for station 11105: -0.1629347359134669\n",
      "Mean Squared Error for station 11105: 0.2206016646848988\n",
      "Valid indices for station 11024: [98, 112, 79, 93, 95, 97]\n",
      "Cross-Validation Score for station 11024: -0.1613238349758848\n"
     ]
    },
    {
     "name": "stderr",
     "output_type": "stream",
     "text": [
      "Training models:   4%|██▊                                                                  | 4/100 [00:27<10:51,  6.78s/station]"
     ]
    },
    {
     "name": "stdout",
     "output_type": "stream",
     "text": [
      "Mean Squared Error for station 11024: 0.03724856823907368\n",
      "Valid indices for station 11035: [125, 110, 107, 129, 106, 105, 47, 32, 24]\n"
     ]
    },
    {
     "name": "stderr",
     "output_type": "stream",
     "text": [
      "Training models:   5%|███▍                                                                 | 5/100 [00:33<10:38,  6.72s/station]"
     ]
    },
    {
     "name": "stdout",
     "output_type": "stream",
     "text": [
      "Cross-Validation Score for station 11035: -0.2747337149209782\n",
      "Mean Squared Error for station 11035: 0.10043955496342408\n",
      "Valid indices for station 16040: [459, 462, 479, 458]\n",
      "Valid indices for station 16040: [459, 462, 479, 466, 464, 463, 461, 458, 457, 456, 460]\n"
     ]
    },
    {
     "name": "stderr",
     "output_type": "stream",
     "text": [
      "Training models:   6%|████▏                                                                | 6/100 [00:41<10:46,  6.88s/station]"
     ]
    },
    {
     "name": "stdout",
     "output_type": "stream",
     "text": [
      "Cross-Validation Score for station 16040: -0.1298834573064674\n",
      "Mean Squared Error for station 16040: 0.15724174787765458\n",
      "Valid indices for station 1013: [71, 53, 145, 43, 51, 50, 73, 74, 72]\n",
      "Cross-Validation Score for station 1013: -0.6001587145273682\n"
     ]
    },
    {
     "name": "stderr",
     "output_type": "stream",
     "text": [
      "Training models:   7%|████▊                                                                | 7/100 [00:48<10:52,  7.01s/station]"
     ]
    },
    {
     "name": "stdout",
     "output_type": "stream",
     "text": [
      "Mean Squared Error for station 1013: 0.34273246265252416\n",
      "Valid indices for station 35018: [1112, 1122]\n",
      "Valid indices for station 35018: [1117, 1113, 1119, 1118, 1112, 1122, 1123]\n",
      "Cross-Validation Score for station 35018: -0.12027690499233272\n"
     ]
    },
    {
     "name": "stderr",
     "output_type": "stream",
     "text": [
      "Training models:   8%|█████▌                                                               | 8/100 [00:55<10:46,  7.03s/station]"
     ]
    },
    {
     "name": "stdout",
     "output_type": "stream",
     "text": [
      "Mean Squared Error for station 35018: 0.027411109687157282\n",
      "Valid indices for station 21305: [832, 842, 841, 845]\n",
      "Valid indices for station 21305: [844, 829, 851, 834, 832, 842, 841, 845, 846, 833, 847, 849]\n",
      "Cross-Validation Score for station 21305: -0.047442840354691033\n"
     ]
    },
    {
     "name": "stderr",
     "output_type": "stream",
     "text": [
      "Training models:   9%|██████▏                                                              | 9/100 [01:02<10:28,  6.91s/station]"
     ]
    },
    {
     "name": "stdout",
     "output_type": "stream",
     "text": [
      "Mean Squared Error for station 21305: 0.021146382960942314\n",
      "Valid indices for station 14021: [296, 295, 332, 297, 331, 314]\n"
     ]
    },
    {
     "name": "stderr",
     "output_type": "stream",
     "text": [
      "Training models:  10%|██████▊                                                             | 10/100 [01:08<09:54,  6.61s/station]"
     ]
    },
    {
     "name": "stdout",
     "output_type": "stream",
     "text": [
      "Cross-Validation Score for station 14021: -0.8653800005041614\n",
      "Mean Squared Error for station 14021: 1.0299703738377808\n",
      "Valid indices for station 22505: [910, 912, 914]\n",
      "Valid indices for station 22505: [910, 909, 912, 914, 990, 957, 911]\n"
     ]
    },
    {
     "name": "stderr",
     "output_type": "stream",
     "text": [
      "Training models:  11%|███████▍                                                            | 11/100 [01:13<09:10,  6.18s/station]"
     ]
    },
    {
     "name": "stdout",
     "output_type": "stream",
     "text": [
      "Cross-Validation Score for station 22505: -0.04311189845187711\n",
      "Mean Squared Error for station 22505: 0.19998982861211412\n",
      "Valid indices for station 14034: [303, 311, 310, 304, 306, 412, 329, 319, 307]\n",
      "Cross-Validation Score for station 14034: -0.2068303829115589\n"
     ]
    },
    {
     "name": "stderr",
     "output_type": "stream",
     "text": [
      "Training models:  12%|████████▏                                                           | 12/100 [01:20<09:31,  6.50s/station]"
     ]
    },
    {
     "name": "stdout",
     "output_type": "stream",
     "text": [
      "Mean Squared Error for station 14034: 0.08921230841535578\n",
      "Valid indices for station 15033: [406, 395, 365, 367, 366, 363]\n",
      "Cross-Validation Score for station 15033: -0.13068908951115338\n"
     ]
    },
    {
     "name": "stderr",
     "output_type": "stream",
     "text": [
      "Training models:  13%|████████▊                                                           | 13/100 [01:31<11:21,  7.84s/station]"
     ]
    },
    {
     "name": "stdout",
     "output_type": "stream",
     "text": [
      "Mean Squared Error for station 15033: 0.10313483916309098\n",
      "Valid indices for station 25008: [972]\n",
      "Valid indices for station 25008: [971, 972, 863]\n",
      "Out of bounds indices for station 25008: [1480]\n",
      "Max valid index: 1460\n",
      "Valid indices for station 25008: [971, 970, 972, 863, 856]\n"
     ]
    },
    {
     "name": "stderr",
     "output_type": "stream",
     "text": [
      "Training models:  14%|█████████▌                                                          | 14/100 [01:40<11:57,  8.35s/station]"
     ]
    },
    {
     "name": "stdout",
     "output_type": "stream",
     "text": [
      "Cross-Validation Score for station 25008: -0.00670139384950782\n",
      "Mean Squared Error for station 25008: 0.0007343908561662118\n",
      "Valid indices for station 31705: [1050, 1049, 1045]\n",
      "Valid indices for station 31705: [746, 730, 1051, 702, 705, 721, 739, 729, 1050, 1049, 1045]\n",
      "Cross-Validation Score for station 31705: -0.22448160249321408\n"
     ]
    },
    {
     "name": "stderr",
     "output_type": "stream",
     "text": [
      "Training models:  15%|██████████▏                                                         | 15/100 [01:52<13:00,  9.18s/station]"
     ]
    },
    {
     "name": "stdout",
     "output_type": "stream",
     "text": [
      "Mean Squared Error for station 31705: 0.10456916099773246\n",
      "Valid indices for station 23701: [951]\n",
      "Valid indices for station 23701: [953, 952, 951]\n",
      "Valid indices for station 23701: [953, 952, 951]\n",
      "Valid indices for station 23701: [953, 952, 951, 934, 939, 964]\n",
      "Cross-Validation Score for station 23701: -0.039577180415004416\n"
     ]
    },
    {
     "name": "stderr",
     "output_type": "stream",
     "text": [
      "Training models:  16%|██████████▉                                                         | 16/100 [02:05<14:32, 10.39s/station]"
     ]
    },
    {
     "name": "stdout",
     "output_type": "stream",
     "text": [
      "Mean Squared Error for station 23701: 0.025461632991796736\n",
      "Valid indices for station 35019: [1123]\n",
      "Valid indices for station 35019: [1118, 1112, 1076, 1122, 1123]\n",
      "Cross-Validation Score for station 35019: -0.07140375537970291\n"
     ]
    },
    {
     "name": "stderr",
     "output_type": "stream",
     "text": [
      "Training models:  17%|███████████▌                                                        | 17/100 [02:18<15:29, 11.20s/station]"
     ]
    },
    {
     "name": "stdout",
     "output_type": "stream",
     "text": [
      "Mean Squared Error for station 35019: 0.021945351717486163\n",
      "Valid indices for station 15029: [362, 399, 358, 363, 361]\n",
      "Cross-Validation Score for station 15029: -0.31686032361764055\n"
     ]
    },
    {
     "name": "stderr",
     "output_type": "stream",
     "text": [
      "Training models:  18%|████████████▏                                                       | 18/100 [02:27<14:33, 10.66s/station]"
     ]
    },
    {
     "name": "stdout",
     "output_type": "stream",
     "text": [
      "Mean Squared Error for station 15029: 0.045480323632596034\n",
      "Valid indices for station 34002: [547, 1098, 1100]\n",
      "Valid indices for station 34002: [496, 491, 526, 579, 585, 601, 605, 1101, 547, 1098, 586, 1100]\n",
      "Cross-Validation Score for station 34002: -0.11131796720616494\n"
     ]
    },
    {
     "name": "stderr",
     "output_type": "stream",
     "text": [
      "Training models:  19%|████████████▉                                                       | 19/100 [02:37<13:55, 10.32s/station]"
     ]
    },
    {
     "name": "stdout",
     "output_type": "stream",
     "text": [
      "Mean Squared Error for station 34002: 0.010601263345752846\n",
      "Valid indices for station 11101: [130, 140, 119, 80, 118, 124, 79]\n",
      "Cross-Validation Score for station 11101: -0.3316347870160229\n"
     ]
    },
    {
     "name": "stderr",
     "output_type": "stream",
     "text": [
      "Training models:  20%|█████████████▌                                                      | 20/100 [02:46<13:29, 10.12s/station]"
     ]
    },
    {
     "name": "stdout",
     "output_type": "stream",
     "text": [
      "Mean Squared Error for station 11101: 0.08620440663810794\n",
      "Valid indices for station 15055: [389, 408, 383, 405, 382, 364]\n"
     ]
    },
    {
     "name": "stderr",
     "output_type": "stream",
     "text": [
      "Training models:  21%|██████████████▎                                                     | 21/100 [02:54<12:18,  9.34s/station]"
     ]
    },
    {
     "name": "stdout",
     "output_type": "stream",
     "text": [
      "Cross-Validation Score for station 15055: -0.17381924746494556\n",
      "Mean Squared Error for station 15055: 1.024279102883589\n",
      "Valid indices for station 15038: [352, 414, 370, 369, 346, 351]\n",
      "Cross-Validation Score for station 15038: -0.3307776995322382\n"
     ]
    },
    {
     "name": "stderr",
     "output_type": "stream",
     "text": [
      "Training models:  22%|██████████████▉                                                     | 22/100 [03:03<11:58,  9.21s/station]"
     ]
    },
    {
     "name": "stdout",
     "output_type": "stream",
     "text": [
      "Mean Squared Error for station 15038: 0.12815221552301664\n",
      "Valid indices for station 18032: [580, 583, 582, 609, 604]\n",
      "Cross-Validation Score for station 18032: -0.13712153229993962\n"
     ]
    },
    {
     "name": "stderr",
     "output_type": "stream",
     "text": [
      "Training models:  23%|███████████████▋                                                    | 23/100 [03:10<11:06,  8.65s/station]"
     ]
    },
    {
     "name": "stdout",
     "output_type": "stream",
     "text": [
      "Mean Squared Error for station 18032: 0.1709282856314816\n",
      "Valid indices for station 44012: [1239]\n",
      "Valid indices for station 44012: [1266, 1239, 1268]\n",
      "Valid indices for station 44012: [1267, 1273, 1266, 1239, 1268, 1235, 1196]\n"
     ]
    },
    {
     "name": "stderr",
     "output_type": "stream",
     "text": [
      "Training models:  24%|████████████████▎                                                   | 24/100 [03:18<10:34,  8.34s/station]"
     ]
    },
    {
     "name": "stdout",
     "output_type": "stream",
     "text": [
      "Cross-Validation Score for station 44012: -0.004681981402233806\n",
      "Mean Squared Error for station 44012: 0.0032359467455621302\n",
      "Out of bounds indices for station 9115: [1473, 1476, 1469, 1478]\n",
      "Max valid index: 1460\n",
      "Valid indices for station 9115: [1446, 1447, 1452, 1448, 1451, 1449, 588, 1442, 1440, 1439]\n",
      "Cross-Validation Score for station 9115: -0.016213404035639974\n"
     ]
    },
    {
     "name": "stderr",
     "output_type": "stream",
     "text": [
      "Training models:  25%|█████████████████                                                   | 25/100 [03:27<10:51,  8.69s/station]"
     ]
    },
    {
     "name": "stdout",
     "output_type": "stream",
     "text": [
      "Mean Squared Error for station 9115: 0.018673847299776714\n",
      "Valid indices for station 19039: [679, 678, 640, 633, 625, 647, 662]\n",
      "Cross-Validation Score for station 19039: -0.030265746803521787\n"
     ]
    },
    {
     "name": "stderr",
     "output_type": "stream",
     "text": [
      "Training models:  26%|█████████████████▋                                                  | 26/100 [03:38<11:33,  9.38s/station]"
     ]
    },
    {
     "name": "stdout",
     "output_type": "stream",
     "text": [
      "Mean Squared Error for station 19039: 0.059930535834223586\n",
      "Valid indices for station 21003: [792, 765, 767]\n",
      "Valid indices for station 21003: [770, 786, 773, 768, 792, 765, 767]\n",
      "Cross-Validation Score for station 21003: -0.14294280720267988\n"
     ]
    },
    {
     "name": "stderr",
     "output_type": "stream",
     "text": [
      "Training models:  27%|██████████████████▎                                                 | 27/100 [03:47<11:14,  9.24s/station]"
     ]
    },
    {
     "name": "stdout",
     "output_type": "stream",
     "text": [
      "Mean Squared Error for station 21003: 0.17212233483745026\n",
      "Valid indices for station 22001: [875]\n",
      "Valid indices for station 22001: [882, 886, 876, 884, 875, 921, 883]\n"
     ]
    },
    {
     "name": "stderr",
     "output_type": "stream",
     "text": [
      "Training models:  28%|███████████████████                                                 | 28/100 [03:55<10:39,  8.88s/station]"
     ]
    },
    {
     "name": "stdout",
     "output_type": "stream",
     "text": [
      "Cross-Validation Score for station 22001: -0.06735759897828865\n",
      "Mean Squared Error for station 22001: 0.01608187134502926\n",
      "Valid indices for station 14002: [328, 278, 279, 1328, 1325]\n"
     ]
    },
    {
     "name": "stderr",
     "output_type": "stream",
     "text": [
      "Training models:  29%|███████████████████▋                                                | 29/100 [04:04<10:29,  8.87s/station]"
     ]
    },
    {
     "name": "stdout",
     "output_type": "stream",
     "text": [
      "Cross-Validation Score for station 14002: -0.35395440743347184\n",
      "Mean Squared Error for station 14002: 0.12525361021601641\n",
      "Valid indices for station 47006: [1261]\n",
      "Valid indices for station 47006: [1245, 1261]\n",
      "Valid indices for station 47006: [1245, 1261, 1228, 190]\n",
      "Valid indices for station 47006: [1257, 1258, 200, 1245, 1261, 1228, 190]\n"
     ]
    },
    {
     "name": "stderr",
     "output_type": "stream",
     "text": [
      "Training models:  30%|████████████████████▍                                               | 30/100 [04:12<10:05,  8.65s/station]"
     ]
    },
    {
     "name": "stdout",
     "output_type": "stream",
     "text": [
      "Cross-Validation Score for station 47006: -0.0071395853780592735\n",
      "Mean Squared Error for station 47006: 1.1111111111110637e-05\n",
      "Out of bounds indices for station 10020: [1474, 1475]\n",
      "Max valid index: 1460\n",
      "Valid indices for station 10020: [4, 1434, 1435, 19, 22, 21, 55, 56, 28, 29, 33]\n",
      "Cross-Validation Score for station 10020: -0.006831741254763921\n"
     ]
    },
    {
     "name": "stderr",
     "output_type": "stream",
     "text": [
      "Training models:  31%|█████████████████████                                               | 31/100 [04:22<10:27,  9.10s/station]"
     ]
    },
    {
     "name": "stdout",
     "output_type": "stream",
     "text": [
      "Mean Squared Error for station 10020: 0.03230988062965965\n",
      "Valid indices for station 18109: [562, 599, 598, 563]\n",
      "Valid indices for station 18109: [39, 561, 564, 611, 34, 562, 599, 598, 31, 587, 35, 658, 616, 563, 612, 670]\n"
     ]
    },
    {
     "name": "stderr",
     "output_type": "stream",
     "text": [
      "Training models:  32%|█████████████████████▊                                              | 32/100 [04:29<09:36,  8.47s/station]"
     ]
    },
    {
     "name": "stdout",
     "output_type": "stream",
     "text": [
      "Cross-Validation Score for station 18109: -0.318599660388995\n",
      "Mean Squared Error for station 18109: 0.20406222990320994\n",
      "Valid indices for station 18029: [571, 584, 580, 577, 576, 583, 582]\n",
      "Cross-Validation Score for station 18029: -0.1291282602128159\n"
     ]
    },
    {
     "name": "stderr",
     "output_type": "stream",
     "text": [
      "Training models:  33%|██████████████████████▍                                             | 33/100 [04:37<09:12,  8.25s/station]"
     ]
    },
    {
     "name": "stdout",
     "output_type": "stream",
     "text": [
      "Mean Squared Error for station 18029: 0.2340179834040397\n",
      "Valid indices for station 16021: [454, 465, 445, 474, 475, 441]\n",
      "Cross-Validation Score for station 16021: -0.06212465373961218\n"
     ]
    },
    {
     "name": "stderr",
     "output_type": "stream",
     "text": [
      "Training models:  34%|███████████████████████                                             | 34/100 [04:45<08:54,  8.10s/station]"
     ]
    },
    {
     "name": "stdout",
     "output_type": "stream",
     "text": [
      "Mean Squared Error for station 16021: 0.01657222002374363\n",
      "Valid indices for station 31703: [1048, 1047]\n",
      "Valid indices for station 31703: [1052, 1046, 1048, 1047, 1081, 1079, 1080]\n"
     ]
    },
    {
     "name": "stderr",
     "output_type": "stream",
     "text": [
      "Training models:  35%|███████████████████████▊                                            | 35/100 [04:51<08:07,  7.49s/station]"
     ]
    },
    {
     "name": "stdout",
     "output_type": "stream",
     "text": [
      "Cross-Validation Score for station 31703: -0.06572158374377779\n",
      "Mean Squared Error for station 31703: 0.07306736194642216\n",
      "Valid indices for station 14112: [316, 317, 283, 315, 280, 281]\n"
     ]
    },
    {
     "name": "stderr",
     "output_type": "stream",
     "text": [
      "Training models:  36%|████████████████████████▍                                           | 36/100 [04:57<07:39,  7.19s/station]"
     ]
    },
    {
     "name": "stdout",
     "output_type": "stream",
     "text": [
      "Cross-Validation Score for station 14112: -0.28027394636015324\n",
      "Mean Squared Error for station 14112: 0.003430930930930933\n",
      "Out of bounds indices for station 9017: [1476]\n",
      "Max valid index: 1460\n",
      "Valid indices for station 9017: [1448, 1451, 1449, 557, 588, 1450, 556, 1440, 1437]\n"
     ]
    },
    {
     "name": "stderr",
     "output_type": "stream",
     "text": [
      "Training models:  37%|█████████████████████████▏                                          | 37/100 [05:05<07:30,  7.16s/station]"
     ]
    },
    {
     "name": "stdout",
     "output_type": "stream",
     "text": [
      "Cross-Validation Score for station 9017: -0.06800741378860262\n",
      "Mean Squared Error for station 9017: 0.027452466171238196\n",
      "Valid indices for station 23304: [949]\n",
      "Valid indices for station 23304: [947, 949, 948]\n",
      "Valid indices for station 23304: [947, 949, 948, 916, 918]\n",
      "Cross-Validation Score for station 23304: -0.028556918707889373\n"
     ]
    },
    {
     "name": "stderr",
     "output_type": "stream",
     "text": [
      "Training models:  38%|█████████████████████████▊                                          | 38/100 [05:12<07:22,  7.13s/station]"
     ]
    },
    {
     "name": "stdout",
     "output_type": "stream",
     "text": [
      "Mean Squared Error for station 23304: 0.015958819742892285\n",
      "Valid indices for station 6017: [1343, 1306, 1342, 1338, 1333, 1345, 1334, 1332]\n",
      "Cross-Validation Score for station 6017: -0.09642595033964343\n"
     ]
    },
    {
     "name": "stderr",
     "output_type": "stream",
     "text": [
      "Training models:  39%|██████████████████████████▌                                         | 39/100 [05:19<07:24,  7.29s/station]"
     ]
    },
    {
     "name": "stdout",
     "output_type": "stream",
     "text": [
      "Mean Squared Error for station 6017: 0.06966022286242644\n",
      "Valid indices for station 13103: [218, 213, 1305, 256, 219]\n"
     ]
    },
    {
     "name": "stderr",
     "output_type": "stream",
     "text": [
      "Training models:  40%|███████████████████████████▏                                        | 40/100 [05:25<06:49,  6.82s/station]"
     ]
    },
    {
     "name": "stdout",
     "output_type": "stream",
     "text": [
      "Cross-Validation Score for station 13103: -0.2834074706886635\n",
      "Mean Squared Error for station 13103: 0.12178826163871942\n",
      "Valid indices for station 23903: [955]\n",
      "Valid indices for station 23903: [955]\n",
      "Valid indices for station 23903: [955, 954]\n",
      "Valid indices for station 23903: [955, 954, 1072]\n"
     ]
    },
    {
     "name": "stderr",
     "output_type": "stream",
     "text": [
      "/Users/anthonybellon/Comp_Documents/VelibVisualisation/scripts/train_model.py:103: SettingWithCopyWarning: \n",
      "A value is trying to be set on a copy of a slice from a DataFrame.\n",
      "Try using .loc[row_indexer,col_indexer] = value instead\n",
      "\n",
      "See the caveats in the documentation: https://pandas.pydata.org/pandas-docs/stable/user_guide/indexing.html#returning-a-view-versus-a-copy\n",
      "  \n",
      "Training models:  41%|███████████████████████████▉                                        | 41/100 [05:32<06:44,  6.85s/station]"
     ]
    },
    {
     "name": "stdout",
     "output_type": "stream",
     "text": [
      "Cross-Validation Score for station 23903: -0.2354041449266914\n",
      "Mean Squared Error for station 23903: 0.03217015832400448\n",
      "Valid indices for station 17201: [467, 551, 428, 521, 522, 523, 525, 533]\n"
     ]
    },
    {
     "name": "stderr",
     "output_type": "stream",
     "text": [
      "Training models:  42%|████████████████████████████▌                                       | 42/100 [05:39<06:39,  6.89s/station]"
     ]
    },
    {
     "name": "stdout",
     "output_type": "stream",
     "text": [
      "Cross-Validation Score for station 17201: -0.3709958603860521\n",
      "Mean Squared Error for station 17201: 0.09416106939070415\n",
      "Valid indices for station 12041: [170]\n",
      "Valid indices for station 12041: [183, 184, 170, 161, 1178, 1175, 195]\n",
      "Cross-Validation Score for station 12041: -0.08789983846744073\n"
     ]
    },
    {
     "name": "stderr",
     "output_type": "stream",
     "text": [
      "Training models:  43%|█████████████████████████████▏                                      | 43/100 [05:46<06:42,  7.06s/station]"
     ]
    },
    {
     "name": "stdout",
     "output_type": "stream",
     "text": [
      "Mean Squared Error for station 12041: 0.05946400917829199\n",
      "Valid indices for station 15059: [402, 384, 401, 400, 388, 387, 396, 407, 364]\n",
      "Cross-Validation Score for station 15059: -0.2855698374933914\n"
     ]
    },
    {
     "name": "stderr",
     "output_type": "stream",
     "text": [
      "Training models:  44%|█████████████████████████████▉                                      | 44/100 [05:54<06:43,  7.20s/station]"
     ]
    },
    {
     "name": "stdout",
     "output_type": "stream",
     "text": [
      "Mean Squared Error for station 15059: 0.07012987012987007\n",
      "Valid indices for station 4013: [1138, 1146, 1137, 1009, 1135, 1136, 1007, 1008, 1133, 1057]\n",
      "Cross-Validation Score for station 4013: -0.06311215744579426\n"
     ]
    },
    {
     "name": "stderr",
     "output_type": "stream",
     "text": [
      "Training models:  45%|██████████████████████████████▌                                     | 45/100 [06:01<06:33,  7.16s/station]"
     ]
    },
    {
     "name": "stdout",
     "output_type": "stream",
     "text": [
      "Mean Squared Error for station 4013: 0.11741776479484563\n",
      "Valid indices for station 12108: [174, 157, 175, 177, 156]\n",
      "Valid indices for station 12108: [252, 224, 225, 268, 272, 142, 174, 193, 143, 172, 160, 157, 144, 175, 177, 147, 156, 171, 158, 178]\n"
     ]
    },
    {
     "name": "stderr",
     "output_type": "stream",
     "text": [
      "Training models:  46%|███████████████████████████████▎                                    | 46/100 [06:09<06:39,  7.40s/station]"
     ]
    },
    {
     "name": "stdout",
     "output_type": "stream",
     "text": [
      "Cross-Validation Score for station 12108: -0.5905845537112373\n",
      "Mean Squared Error for station 12108: 0.20710766576676423\n",
      "Valid indices for station 8056: [518, 528, 1382, 1423, 1400, 1424, 527, 1422, 1431]\n",
      "Cross-Validation Score for station 8056: -0.04098564636474481\n"
     ]
    },
    {
     "name": "stderr",
     "output_type": "stream",
     "text": [
      "Training models:  47%|███████████████████████████████▉                                    | 47/100 [06:17<06:47,  7.68s/station]"
     ]
    },
    {
     "name": "stdout",
     "output_type": "stream",
     "text": [
      "Mean Squared Error for station 8056: 0.12526626544543848\n",
      "Valid indices for station 18138: [607, 612, 595]\n",
      "Valid indices for station 18138: [563, 607, 612, 670, 595, 1069, 1082]\n"
     ]
    },
    {
     "name": "stderr",
     "output_type": "stream",
     "text": [
      "Training models:  48%|████████████████████████████████▋                                   | 48/100 [06:24<06:19,  7.31s/station]"
     ]
    },
    {
     "name": "stdout",
     "output_type": "stream",
     "text": [
      "Cross-Validation Score for station 18138: -0.11278006702481869\n",
      "Mean Squared Error for station 18138: 0.21424593229104485\n",
      "Valid indices for station 17016: [503, 500, 502, 540, 493, 545, 539, 497]\n"
     ]
    },
    {
     "name": "stderr",
     "output_type": "stream",
     "text": [
      "Training models:  49%|█████████████████████████████████▎                                  | 49/100 [06:31<06:11,  7.29s/station]"
     ]
    },
    {
     "name": "stdout",
     "output_type": "stream",
     "text": [
      "Cross-Validation Score for station 17016: -0.13814109503349653\n",
      "Mean Squared Error for station 17016: 0.6017963715890685\n",
      "Valid indices for station 20202: [704, 732, 713, 762, 743, 736]\n"
     ]
    },
    {
     "name": "stderr",
     "output_type": "stream",
     "text": [
      "Training models:  50%|██████████████████████████████████                                  | 50/100 [06:39<06:11,  7.43s/station]"
     ]
    },
    {
     "name": "stdout",
     "output_type": "stream",
     "text": [
      "Cross-Validation Score for station 20202: -0.06408192052464803\n",
      "Mean Squared Error for station 20202: 0.06346279507669934\n",
      "Valid indices for station 1016: [71, 52, 53, 64, 57, 132, 805, 760, 70, 753, 814, 804, 744, 757]\n",
      "Cross-Validation Score for station 1016: -0.04428211223944646\n"
     ]
    },
    {
     "name": "stderr",
     "output_type": "stream",
     "text": [
      "Training models:  51%|██████████████████████████████████▋                                 | 51/100 [06:47<06:21,  7.79s/station]"
     ]
    },
    {
     "name": "stdout",
     "output_type": "stream",
     "text": [
      "Mean Squared Error for station 1016: 0.07143791873614387\n",
      "Valid indices for station 20017: [720, 696, 691, 697, 742, 746, 761]\n",
      "Cross-Validation Score for station 20017: -0.09096725212953058\n"
     ]
    },
    {
     "name": "stderr",
     "output_type": "stream",
     "text": [
      "Training models:  52%|███████████████████████████████████▎                                | 52/100 [06:54<06:04,  7.59s/station]"
     ]
    },
    {
     "name": "stdout",
     "output_type": "stream",
     "text": [
      "Mean Squared Error for station 20017: 0.022040760735592763\n",
      "Valid indices for station 6014: [1342, 1333, 1336, 1332, 1331, 1330, 8]\n"
     ]
    },
    {
     "name": "stderr",
     "output_type": "stream",
     "text": [
      "Training models:  53%|████████████████████████████████████                                | 53/100 [07:02<05:59,  7.64s/station]"
     ]
    },
    {
     "name": "stdout",
     "output_type": "stream",
     "text": [
      "Cross-Validation Score for station 6014: -0.1029124947024759\n",
      "Mean Squared Error for station 6014: 0.028145088208285273\n",
      "Valid indices for station 2110: [774, 724, 716, 763, 759, 728, 797, 764, 798, 1444, 40, 758, 44, 2]\n"
     ]
    },
    {
     "name": "stderr",
     "output_type": "stream",
     "text": [
      "Training models:  54%|████████████████████████████████████▋                               | 54/100 [07:09<05:34,  7.27s/station]"
     ]
    },
    {
     "name": "stdout",
     "output_type": "stream",
     "text": [
      "Cross-Validation Score for station 2110: -0.24408275543147218\n",
      "Mean Squared Error for station 2110: 0.12684647917254185\n",
      "Valid indices for station 14007: [284, 317, 283, 276, 275]\n",
      "Valid indices for station 14007: [282, 286, 292, 322, 284, 316, 289, 317, 283, 315, 280, 281, 276, 275, 246, 254, 211, 210, 212]\n"
     ]
    },
    {
     "name": "stderr",
     "output_type": "stream",
     "text": [
      "Training models:  55%|█████████████████████████████████████▍                              | 55/100 [07:16<05:23,  7.19s/station]"
     ]
    },
    {
     "name": "stdout",
     "output_type": "stream",
     "text": [
      "Cross-Validation Score for station 14007: -0.026946084291187757\n",
      "Mean Squared Error for station 14007: 0.023738011695906443\n",
      "Out of bounds indices for station 9113: [1469, 1474, 1478]\n",
      "Max valid index: 1460\n",
      "Valid indices for station 9113: [1444, 40, 1443, 4, 1441, 1442, 1434, 1435, 21]\n"
     ]
    },
    {
     "name": "stderr",
     "output_type": "stream",
     "text": [
      "Training models:  56%|██████████████████████████████████████                              | 56/100 [07:22<05:06,  6.97s/station]"
     ]
    },
    {
     "name": "stdout",
     "output_type": "stream",
     "text": [
      "Cross-Validation Score for station 9113: -0.07635305684904826\n",
      "Mean Squared Error for station 9113: 0.031404419709592776\n",
      "Valid indices for station 23105: [937, 935]\n",
      "Valid indices for station 23105: [937, 935]\n",
      "Valid indices for station 23105: [938, 937, 934, 935, 936]\n",
      "Cross-Validation Score for station 23105: -0.013534428351371119\n"
     ]
    },
    {
     "name": "stderr",
     "output_type": "stream",
     "text": [
      "Training models:  57%|██████████████████████████████████████▊                             | 57/100 [07:29<05:03,  7.05s/station]"
     ]
    },
    {
     "name": "stdout",
     "output_type": "stream",
     "text": [
      "Mean Squared Error for station 23105: 0.002839906430828587\n",
      "Valid indices for station 23005: [812, 811, 925]\n",
      "Valid indices for station 23005: [926, 514, 509, 924, 809, 812, 811, 925, 541, 801, 810]\n"
     ]
    },
    {
     "name": "stderr",
     "output_type": "stream",
     "text": [
      "Training models:  58%|███████████████████████████████████████▍                            | 58/100 [07:36<04:51,  6.94s/station]"
     ]
    },
    {
     "name": "stdout",
     "output_type": "stream",
     "text": [
      "Cross-Validation Score for station 23005: -0.052534746995089796\n",
      "Mean Squared Error for station 23005: 0.017361733332976442\n",
      "Valid indices for station 21009: [769, 773, 768]\n",
      "Valid indices for station 21009: [778, 775, 770, 776, 786, 781, 787, 782, 769, 773, 772, 768, 792, 766, 767]\n"
     ]
    },
    {
     "name": "stderr",
     "output_type": "stream",
     "text": [
      "Training models:  59%|████████████████████████████████████████                            | 59/100 [07:44<04:57,  7.26s/station]"
     ]
    },
    {
     "name": "stdout",
     "output_type": "stream",
     "text": [
      "Cross-Validation Score for station 21009: -0.30665619739057226\n",
      "Mean Squared Error for station 21009: 0.3443953252032521\n",
      "Valid indices for station 13047: [265, 245, 244, 266]\n",
      "Valid indices for station 13047: [240, 263, 1185, 1186, 265, 245, 244, 243, 250, 251, 252, 266, 1191, 273, 248, 253, 221]\n",
      "Cross-Validation Score for station 13047: -0.2172348963103929\n"
     ]
    },
    {
     "name": "stderr",
     "output_type": "stream",
     "text": [
      "Training models:  60%|████████████████████████████████████████▊                           | 60/100 [07:52<04:57,  7.45s/station]"
     ]
    },
    {
     "name": "stdout",
     "output_type": "stream",
     "text": [
      "Mean Squared Error for station 13047: 0.017746533870480093\n",
      "Valid indices for station 31026: [1034]\n",
      "Valid indices for station 31026: [1034]\n",
      "Valid indices for station 31026: [1032, 1033, 1075, 1037, 1034]\n"
     ]
    },
    {
     "name": "stderr",
     "output_type": "stream",
     "text": [
      "Training models:  61%|█████████████████████████████████████████▍                          | 61/100 [07:59<04:43,  7.26s/station]"
     ]
    },
    {
     "name": "stdout",
     "output_type": "stream",
     "text": [
      "Cross-Validation Score for station 31026: -0.04437804008306717\n",
      "Mean Squared Error for station 31026: 0.025426621114189855\n",
      "Valid indices for station 20004: [182, 181, 684, 1177, 683, 1176]\n"
     ]
    },
    {
     "name": "stderr",
     "output_type": "stream",
     "text": [
      "Training models:  62%|██████████████████████████████████████████▏                         | 62/100 [08:06<04:32,  7.17s/station]"
     ]
    },
    {
     "name": "stdout",
     "output_type": "stream",
     "text": [
      "Cross-Validation Score for station 20004: -0.029789984291296402\n",
      "Mean Squared Error for station 20004: 0.023772359053422704\n",
      "Valid indices for station 15125: [413, 385, 416, 384, 840]\n"
     ]
    },
    {
     "name": "stderr",
     "output_type": "stream",
     "text": [
      "Training models:  63%|██████████████████████████████████████████▊                         | 63/100 [08:13<04:27,  7.22s/station]"
     ]
    },
    {
     "name": "stdout",
     "output_type": "stream",
     "text": [
      "Cross-Validation Score for station 15125: -0.21231351182071972\n",
      "Mean Squared Error for station 15125: 0.14330699350739656\n",
      "Valid indices for station 15072: [392, 417, 362, 398, 399, 448]\n",
      "Cross-Validation Score for station 15072: -0.0441678868555191\n"
     ]
    },
    {
     "name": "stderr",
     "output_type": "stream",
     "text": [
      "Training models:  64%|███████████████████████████████████████████▌                        | 64/100 [08:21<04:28,  7.46s/station]"
     ]
    },
    {
     "name": "stdout",
     "output_type": "stream",
     "text": [
      "Mean Squared Error for station 15072: 0.03221106567983022\n",
      "Valid indices for station 21316: [844]\n",
      "Valid indices for station 21316: [850, 844, 829, 851, 832, 842, 841, 849]\n",
      "Cross-Validation Score for station 21316: -0.026808960270498717\n",
      "Mean Squared Error for station 21316: 0.007281393819855357\n"
     ]
    },
    {
     "name": "stderr",
     "output_type": "stream",
     "text": [
      "Training models:  65%|████████████████████████████████████████████▏                       | 65/100 [08:28<04:12,  7.22s/station]"
     ]
    },
    {
     "name": "stdout",
     "output_type": "stream",
     "text": [
      "Valid indices for station 21307: [834, 836, 849]\n",
      "Valid indices for station 21307: [850, 839, 834, 836, 832, 833, 847, 849, 837, 848]\n",
      "Cross-Validation Score for station 21307: -0.04547426716141003\n"
     ]
    },
    {
     "name": "stderr",
     "output_type": "stream",
     "text": [
      "Training models:  66%|████████████████████████████████████████████▉                       | 66/100 [08:36<04:19,  7.65s/station]"
     ]
    },
    {
     "name": "stdout",
     "output_type": "stream",
     "text": [
      "Mean Squared Error for station 21307: 0.130049975111996\n",
      "Valid indices for station 15052: [409, 422, 380, 381, 420]\n",
      "Cross-Validation Score for station 15052: -0.2756372811200346\n"
     ]
    },
    {
     "name": "stderr",
     "output_type": "stream",
     "text": [
      "Training models:  67%|█████████████████████████████████████████████▌                      | 67/100 [08:44<04:16,  7.76s/station]"
     ]
    },
    {
     "name": "stdout",
     "output_type": "stream",
     "text": [
      "Mean Squared Error for station 15052: 0.07120433507464113\n",
      "Valid indices for station 16024: [398, 452, 448, 476]\n",
      "Valid indices for station 16024: [485, 453, 392, 417, 362, 398, 399, 452, 449, 448, 454, 476, 446, 465, 445, 447, 361, 475]\n"
     ]
    },
    {
     "name": "stderr",
     "output_type": "stream",
     "text": [
      "Training models:  68%|██████████████████████████████████████████████▏                     | 68/100 [08:51<03:53,  7.31s/station]"
     ]
    },
    {
     "name": "stdout",
     "output_type": "stream",
     "text": [
      "Cross-Validation Score for station 16024: -0.05118762226228376\n",
      "Mean Squared Error for station 16024: 0.08142016524894052\n",
      "Valid indices for station 8549: [1414, 1415, 1427, 1410, 1416, 1433, 1382, 1429, 1400, 1431, 1419, 1420, 1425]\n"
     ]
    },
    {
     "name": "stderr",
     "output_type": "stream",
     "text": [
      "Training models:  69%|██████████████████████████████████████████████▉                     | 69/100 [08:58<03:47,  7.34s/station]"
     ]
    },
    {
     "name": "stdout",
     "output_type": "stream",
     "text": [
      "Cross-Validation Score for station 8549: -0.05583043941630408\n",
      "Mean Squared Error for station 8549: 0.0685910565577182\n",
      "Valid indices for station 42701: [1213]\n",
      "Valid indices for station 42701: [1263, 1213, 1215]\n",
      "Valid indices for station 42701: [1269, 1208, 1263, 1213, 1215, 1216, 1217, 1214, 1264, 231, 1212, 235]\n",
      "Cross-Validation Score for station 42701: -0.06507285332946533\n"
     ]
    },
    {
     "name": "stderr",
     "output_type": "stream",
     "text": [
      "Training models:  70%|███████████████████████████████████████████████▌                    | 70/100 [09:07<03:50,  7.70s/station]"
     ]
    },
    {
     "name": "stdout",
     "output_type": "stream",
     "text": [
      "Mean Squared Error for station 42701: 0.002952191769238431\n",
      "Valid indices for station 4003: [1312, 1285, 1307, 1126, 1128, 1139, 1140]\n"
     ]
    },
    {
     "name": "stderr",
     "output_type": "stream",
     "text": [
      "Training models:  71%|████████████████████████████████████████████████▎                   | 71/100 [09:13<03:33,  7.35s/station]"
     ]
    },
    {
     "name": "stdout",
     "output_type": "stream",
     "text": [
      "Cross-Validation Score for station 4003: -0.0213708304797242\n",
      "Mean Squared Error for station 4003: 0.0034247755290485646\n",
      "Valid indices for station 22501: [908]\n",
      "Valid indices for station 22501: [956, 908, 909, 990]\n",
      "Valid indices for station 22501: [956, 910, 908, 909, 912, 914, 990, 988]\n",
      "Cross-Validation Score for station 22501: -0.007736773611561029\n"
     ]
    },
    {
     "name": "stderr",
     "output_type": "stream",
     "text": [
      "Training models:  72%|████████████████████████████████████████████████▉                   | 72/100 [09:21<03:29,  7.50s/station]"
     ]
    },
    {
     "name": "stdout",
     "output_type": "stream",
     "text": [
      "Mean Squared Error for station 22501: 0.04030511013929386\n",
      "Valid indices for station 42003: [1180, 1197]\n",
      "Valid indices for station 42003: [1184, 1190, 1181, 1180, 1188, 1197]\n"
     ]
    },
    {
     "name": "stderr",
     "output_type": "stream",
     "text": [
      "Training models:  73%|█████████████████████████████████████████████████▋                  | 73/100 [09:28<03:20,  7.41s/station]"
     ]
    },
    {
     "name": "stdout",
     "output_type": "stream",
     "text": [
      "Cross-Validation Score for station 42003: -0.1067709762418878\n",
      "Mean Squared Error for station 42003: 0.036147836538461535\n",
      "Valid indices for station 14131: [313, 326, 293, 294]\n",
      "Valid indices for station 14131: [296, 295, 318, 828, 825, 313, 823, 326, 321, 293, 294, 331, 287, 327, 288, 292]\n",
      "Cross-Validation Score for station 14131: -0.3712083218996992\n"
     ]
    },
    {
     "name": "stderr",
     "output_type": "stream",
     "text": [
      "Training models:  74%|██████████████████████████████████████████████████▎                 | 74/100 [09:35<03:12,  7.40s/station]"
     ]
    },
    {
     "name": "stdout",
     "output_type": "stream",
     "text": [
      "Mean Squared Error for station 14131: 0.23853005306568847\n",
      "Valid indices for station 4002: [1312, 1296, 1126, 1127, 20, 30, 135, 1141]\n",
      "Cross-Validation Score for station 4002: -0.03613129694998382\n"
     ]
    },
    {
     "name": "stderr",
     "output_type": "stream",
     "text": [
      "Training models:  75%|███████████████████████████████████████████████████                 | 75/100 [09:43<03:03,  7.33s/station]"
     ]
    },
    {
     "name": "stdout",
     "output_type": "stream",
     "text": [
      "Mean Squared Error for station 4002: 0.0900297266701179\n",
      "Valid indices for station 42209: [1200, 1183]\n",
      "Valid indices for station 42209: [1181, 267, 1200, 1183, 169]\n",
      "Cross-Validation Score for station 42209: -0.029023285092117972\n"
     ]
    },
    {
     "name": "stderr",
     "output_type": "stream",
     "text": [
      "Training models:  76%|███████████████████████████████████████████████████▋                | 76/100 [09:51<03:02,  7.61s/station]"
     ]
    },
    {
     "name": "stdout",
     "output_type": "stream",
     "text": [
      "Mean Squared Error for station 42209: 0.007021846564228858\n",
      "Valid indices for station 43010: [1165, 1227, 1226, 1156]\n",
      "Valid indices for station 43010: [1225, 1165, 1227, 1226, 1156]\n",
      "Cross-Validation Score for station 43010: -0.0640031982545498\n"
     ]
    },
    {
     "name": "stderr",
     "output_type": "stream",
     "text": [
      "Training models:  77%|████████████████████████████████████████████████████▎               | 77/100 [09:58<02:51,  7.47s/station]"
     ]
    },
    {
     "name": "stdout",
     "output_type": "stream",
     "text": [
      "Mean Squared Error for station 43010: 0.08689914944243197\n",
      "Valid indices for station 17107: [520, 553, 537, 516, 514]\n",
      "Cross-Validation Score for station 17107: -0.04233695611908839\n"
     ]
    },
    {
     "name": "stderr",
     "output_type": "stream",
     "text": [
      "Training models:  78%|█████████████████████████████████████████████████████               | 78/100 [10:05<02:43,  7.43s/station]"
     ]
    },
    {
     "name": "stdout",
     "output_type": "stream",
     "text": [
      "Mean Squared Error for station 17107: 0.016499632399151264\n",
      "Out of bounds indices for station 18007: [1475, 1479]\n",
      "Max valid index: 1460\n",
      "Valid indices for station 18007: [1436, 610, 559, 45, 597, 560]\n",
      "Cross-Validation Score for station 18007: -0.024628831632140007\n"
     ]
    },
    {
     "name": "stderr",
     "output_type": "stream",
     "text": [
      "Training models:  79%|█████████████████████████████████████████████████████▋              | 79/100 [10:13<02:37,  7.51s/station]"
     ]
    },
    {
     "name": "stdout",
     "output_type": "stream",
     "text": [
      "Mean Squared Error for station 18007: 0.041403225882497154\n",
      "Out of bounds indices for station 9027: [1467]\n",
      "Max valid index: 1460\n",
      "Valid indices for station 9027: [1459, 1457, 1458, 590, 555, 1450, 589, 603]\n"
     ]
    },
    {
     "name": "stderr",
     "output_type": "stream",
     "text": [
      "Training models:  80%|██████████████████████████████████████████████████████▍             | 80/100 [10:19<02:23,  7.18s/station]"
     ]
    },
    {
     "name": "stdout",
     "output_type": "stream",
     "text": [
      "Cross-Validation Score for station 9027: -0.44007311678241956\n",
      "Mean Squared Error for station 9027: 0.010065019944509564\n",
      "Valid indices for station 33016: [1090]\n",
      "Valid indices for station 33016: [1106, 1090]\n",
      "Valid indices for station 33016: [1107, 1106, 1089, 1120, 1090]\n",
      "Cross-Validation Score for station 33016: -0.06783350831429633\n"
     ]
    },
    {
     "name": "stderr",
     "output_type": "stream",
     "text": [
      "Training models:  81%|███████████████████████████████████████████████████████             | 81/100 [10:28<02:21,  7.46s/station]"
     ]
    },
    {
     "name": "stdout",
     "output_type": "stream",
     "text": [
      "Mean Squared Error for station 33016: 0.16303664543588361\n",
      "Out of bounds indices for station 9006: [1478, 1475, 1479]\n",
      "Max valid index: 1460\n",
      "Valid indices for station 9006: [1440, 1435, 1439, 1438, 1437, 1436, 558, 610]\n"
     ]
    },
    {
     "name": "stderr",
     "output_type": "stream",
     "text": [
      "Training models:  82%|███████████████████████████████████████████████████████▊            | 82/100 [10:34<02:08,  7.14s/station]"
     ]
    },
    {
     "name": "stdout",
     "output_type": "stream",
     "text": [
      "Cross-Validation Score for station 9006: -0.07316128514370124\n",
      "Mean Squared Error for station 9006: 0.30885219508075007\n",
      "Valid indices for station 12035: [169, 164, 168, 179]\n",
      "Valid indices for station 12035: [194, 208, 169, 180, 164, 168, 207, 179, 146, 196, 206, 165, 166, 153, 167]\n",
      "Cross-Validation Score for station 12035: -0.1144838444265657\n"
     ]
    },
    {
     "name": "stderr",
     "output_type": "stream",
     "text": [
      "Training models:  83%|████████████████████████████████████████████████████████▍           | 83/100 [10:42<02:06,  7.46s/station]"
     ]
    },
    {
     "name": "stdout",
     "output_type": "stream",
     "text": [
      "Mean Squared Error for station 12035: 0.03814662114886274\n",
      "Valid indices for station 15129: [342, 340, 1363, 419]\n",
      "Valid indices for station 15129: [347, 348, 342, 340, 410, 343, 1363, 1369, 411, 339, 412, 338, 337, 341, 419, 1350, 1352, 1364]\n"
     ]
    },
    {
     "name": "stderr",
     "output_type": "stream",
     "text": [
      "Training models:  84%|█████████████████████████████████████████████████████████           | 84/100 [10:49<01:58,  7.41s/station]"
     ]
    },
    {
     "name": "stdout",
     "output_type": "stream",
     "text": [
      "Cross-Validation Score for station 15129: -0.13388471296056306\n",
      "Mean Squared Error for station 15129: 0.03369481747860146\n",
      "Valid indices for station 14026: [302, 287, 314, 301, 305, 304]\n"
     ]
    },
    {
     "name": "stderr",
     "output_type": "stream",
     "text": [
      "Training models:  85%|█████████████████████████████████████████████████████████▊          | 85/100 [10:56<01:48,  7.20s/station]"
     ]
    },
    {
     "name": "stdout",
     "output_type": "stream",
     "text": [
      "Cross-Validation Score for station 14026: -0.2774174847403164\n",
      "Mean Squared Error for station 14026: 0.11314957776428371\n",
      "Valid indices for station 10008: [1019, 7, 16, 6, 1, 0, 10, 9, 11, 15]\n"
     ]
    },
    {
     "name": "stderr",
     "output_type": "stream",
     "text": [
      "Training models:  86%|██████████████████████████████████████████████████████████▍         | 86/100 [11:03<01:37,  6.98s/station]"
     ]
    },
    {
     "name": "stdout",
     "output_type": "stream",
     "text": [
      "Cross-Validation Score for station 10008: -0.03269556451612904\n",
      "Mean Squared Error for station 10008: 0.0038541666666666564\n",
      "Valid indices for station 20104: [746, 730, 702, 721, 739, 1050]\n"
     ]
    },
    {
     "name": "stderr",
     "output_type": "stream",
     "text": [
      "Training models:  87%|███████████████████████████████████████████████████████████▏        | 87/100 [11:09<01:26,  6.64s/station]"
     ]
    },
    {
     "name": "stdout",
     "output_type": "stream",
     "text": [
      "Cross-Validation Score for station 20104: -0.02267985327429281\n",
      "Mean Squared Error for station 20104: 0.0038629674515235596\n",
      "Valid indices for station 8110: [1399, 1394, 1392, 1391, 1384, 1393, 1395, 1385, 1428, 1388, 1432, 1381]\n"
     ]
    },
    {
     "name": "stderr",
     "output_type": "stream",
     "text": [
      "Training models:  88%|███████████████████████████████████████████████████████████▊        | 88/100 [11:15<01:19,  6.59s/station]"
     ]
    },
    {
     "name": "stdout",
     "output_type": "stream",
     "text": [
      "Cross-Validation Score for station 8110: -0.09172957010603319\n",
      "Mean Squared Error for station 8110: 0.03151214403029875\n",
      "Valid indices for station 19010: [663, 624]\n",
      "Valid indices for station 19010: [623, 663, 624, 1108, 651, 1083, 1084]\n",
      "Cross-Validation Score for station 19010: -0.038945235953639024\n"
     ]
    },
    {
     "name": "stderr",
     "output_type": "stream",
     "text": [
      "Training models:  89%|████████████████████████████████████████████████████████████▌       | 89/100 [11:22<01:13,  6.67s/station]"
     ]
    },
    {
     "name": "stdout",
     "output_type": "stream",
     "text": [
      "Mean Squared Error for station 19010: 0.007185566049083505\n",
      "Valid indices for station 41405: [1174]\n",
      "Valid indices for station 41405: [1174, 1173, 1262]\n",
      "Valid indices for station 41405: [1174, 1173, 1244, 1256, 1262]\n",
      "Cross-Validation Score for station 41405: -0.05534445380425844\n"
     ]
    },
    {
     "name": "stderr",
     "output_type": "stream",
     "text": [
      "Training models:  90%|█████████████████████████████████████████████████████████████▏      | 90/100 [11:29<01:06,  6.67s/station]"
     ]
    },
    {
     "name": "stdout",
     "output_type": "stream",
     "text": [
      "Mean Squared Error for station 41405: 0.0049859982241649975\n",
      "Out of bounds indices for station 2015: [1468, 1461]\n",
      "Max valid index: 1460\n",
      "Valid indices for station 2015: [57, 132, 805, 760, 70, 753, 804, 1454, 744, 757, 1455, 747]\n",
      "Cross-Validation Score for station 2015: -0.14172715950255813\n"
     ]
    },
    {
     "name": "stderr",
     "output_type": "stream",
     "text": [
      "Training models:  91%|█████████████████████████████████████████████████████████████▉      | 91/100 [11:36<01:01,  6.78s/station]"
     ]
    },
    {
     "name": "stdout",
     "output_type": "stream",
     "text": [
      "Mean Squared Error for station 2015: 0.10317728161826162\n",
      "Valid indices for station 14137: [903, 332, 297, 298]\n",
      "Valid indices for station 14137: [827, 824, 903, 819, 826, 296, 295, 318, 299, 320, 332, 297, 312, 298, 325, 300, 334, 302, 335, 331, 314]\n",
      "Cross-Validation Score for station 14137: -0.12248365586952523\n"
     ]
    },
    {
     "name": "stderr",
     "output_type": "stream",
     "text": [
      "Training models:  92%|██████████████████████████████████████████████████████████████▌     | 92/100 [11:44<00:57,  7.14s/station]"
     ]
    },
    {
     "name": "stdout",
     "output_type": "stream",
     "text": [
      "Mean Squared Error for station 14137: 0.02700831024930753\n",
      "Valid indices for station 3001: [1002, 117, 1145, 1148, 104, 1001, 121]\n",
      "Cross-Validation Score for station 3001: -0.2146343434566918\n"
     ]
    },
    {
     "name": "stderr",
     "output_type": "stream",
     "text": [
      "Training models:  93%|███████████████████████████████████████████████████████████████▏    | 93/100 [11:52<00:52,  7.50s/station]"
     ]
    },
    {
     "name": "stdout",
     "output_type": "stream",
     "text": [
      "Mean Squared Error for station 3001: 0.2884849870446581\n",
      "Valid indices for station 22306: [900, 896]\n",
      "Valid indices for station 22306: [983, 980, 900, 896, 899]\n",
      "Cross-Validation Score for station 22306: -0.039284416068955094\n"
     ]
    },
    {
     "name": "stderr",
     "output_type": "stream",
     "text": [
      "Training models:  94%|███████████████████████████████████████████████████████████████▉    | 94/100 [11:59<00:43,  7.32s/station]"
     ]
    },
    {
     "name": "stdout",
     "output_type": "stream",
     "text": [
      "Mean Squared Error for station 22306: 0.004871619095475846\n",
      "Valid indices for station 4015: [1138, 1139, 1146, 1137, 1134, 1135, 1136]\n",
      "Cross-Validation Score for station 4015: -0.14896133945933704\n"
     ]
    },
    {
     "name": "stderr",
     "output_type": "stream",
     "text": [
      "Training models:  95%|████████████████████████████████████████████████████████████████▌   | 95/100 [12:06<00:36,  7.34s/station]"
     ]
    },
    {
     "name": "stdout",
     "output_type": "stream",
     "text": [
      "Mean Squared Error for station 4015: 0.07827830292639236\n",
      "Valid indices for station 21706: [869, 868, 901]\n",
      "Valid indices for station 21706: [866, 865, 869, 868, 905, 901, 376, 375, 423, 902, 906, 424, 374]\n",
      "Cross-Validation Score for station 21706: -0.04915501865648276\n"
     ]
    },
    {
     "name": "stderr",
     "output_type": "stream",
     "text": [
      "Training models:  96%|█████████████████████████████████████████████████████████████████▎  | 96/100 [12:13<00:28,  7.19s/station]"
     ]
    },
    {
     "name": "stdout",
     "output_type": "stream",
     "text": [
      "Mean Squared Error for station 21706: 0.04024121709898552\n",
      "Valid indices for station 42211: [1202, 1199]\n",
      "Valid indices for station 42211: [1181, 1197, 1202, 1199, 1201, 1198, 183]\n",
      "Cross-Validation Score for station 42211: -0.08274731393547034\n"
     ]
    },
    {
     "name": "stderr",
     "output_type": "stream",
     "text": [
      "Training models:  97%|█████████████████████████████████████████████████████████████████▉  | 97/100 [12:20<00:21,  7.10s/station]"
     ]
    },
    {
     "name": "stdout",
     "output_type": "stream",
     "text": [
      "Mean Squared Error for station 42211: 0.034685578238311886\n",
      "Out of bounds indices for station 2012: [1468]\n",
      "Max valid index: 1460\n",
      "Valid indices for station 2012: [57, 132, 805, 760, 753, 727, 814, 804, 1454, 744, 757, 1455, 747, 1453]\n",
      "Cross-Validation Score for station 2012: -0.3048924144702082\n"
     ]
    },
    {
     "name": "stderr",
     "output_type": "stream",
     "text": [
      "Training models:  98%|██████████████████████████████████████████████████████████████████▋ | 98/100 [12:28<00:14,  7.41s/station]"
     ]
    },
    {
     "name": "stdout",
     "output_type": "stream",
     "text": [
      "Mean Squared Error for station 2012: 0.09534148950787133\n",
      "Valid indices for station 4101: [1131, 138, 1145, 75, 1148, 104, 1001]\n",
      "Cross-Validation Score for station 4101: -0.062086132063149745\n"
     ]
    },
    {
     "name": "stderr",
     "output_type": "stream",
     "text": [
      "Training models:  99%|███████████████████████████████████████████████████████████████████▎| 99/100 [12:35<00:07,  7.37s/station]"
     ]
    },
    {
     "name": "stdout",
     "output_type": "stream",
     "text": [
      "Mean Squared Error for station 4101: 0.004902481417403558\n",
      "Valid indices for station 21509: [861, 860, 858]\n",
      "Valid indices for station 21509: [861, 860, 857, 858, 854, 855]\n"
     ]
    },
    {
     "name": "stderr",
     "output_type": "stream",
     "text": [
      "Training models: 100%|███████████████████████████████████████████████████████████████████| 100/100 [12:42<00:00,  7.63s/station]"
     ]
    },
    {
     "name": "stdout",
     "output_type": "stream",
     "text": [
      "Cross-Validation Score for station 21509: -0.013201050109343878\n",
      "Mean Squared Error for station 21509: 0.003567347243192879\n"
     ]
    },
    {
     "name": "stderr",
     "output_type": "stream",
     "text": [
      "\n"
     ]
    },
    {
     "name": "stdout",
     "output_type": "stream",
     "text": [
      "Intermediate results saved for batch 11\n",
      "Training models...\n",
      "Columns after feature creation: Index(['stationcode', 'name', 'is_installed', 'capacity', 'numdocksavailable',\n",
      "       'numbikesavailable', 'mechanical', 'ebike', 'is_renting',\n",
      "       'is_returning', 'duedate', 'coordonnees_geo',\n",
      "       'nom_arrondissement_communes', 'date', 'lat', 'lon', 'hour',\n",
      "       'day_of_week', 'lag_1_hour', 'lag_1_day', 'rolling_mean_7_days',\n",
      "       'rolling_mean_30_days', 'normalized_bikes_available',\n",
      "       'normalized_docks_available', 'usage_ratio',\n",
      "       'capacity_hour_interaction', 'capacity_day_interaction',\n",
      "       'avg_bikes_hour_day'],\n",
      "      dtype='object')\n"
     ]
    },
    {
     "name": "stderr",
     "output_type": "stream",
     "text": [
      "Training models:   0%|                                                                             | 0/100 [00:00<?, ?station/s]"
     ]
    },
    {
     "name": "stdout",
     "output_type": "stream",
     "text": [
      "Valid indices for station 32024: [1072, 1063]\n",
      "Valid indices for station 32024: [1072, 1063, 1068]\n",
      "Valid indices for station 32024: [1072, 1063, 1068, 1066, 1067]\n"
     ]
    },
    {
     "name": "stderr",
     "output_type": "stream",
     "text": [
      "Training models:   1%|▋                                                                    | 1/100 [00:07<13:07,  7.96s/station]"
     ]
    },
    {
     "name": "stdout",
     "output_type": "stream",
     "text": [
      "Cross-Validation Score for station 32024: -0.0656166497796838\n",
      "Mean Squared Error for station 32024: 0.01986758067839153\n",
      "Valid indices for station 19202: [653, 675]\n",
      "Valid indices for station 19202: [638, 656, 655, 631, 630, 653, 675, 650, 651, 1116, 1115, 1110, 1109]\n"
     ]
    },
    {
     "name": "stderr",
     "output_type": "stream",
     "text": [
      "Training models:   2%|█▍                                                                   | 2/100 [00:14<11:47,  7.22s/station]"
     ]
    },
    {
     "name": "stdout",
     "output_type": "stream",
     "text": [
      "Cross-Validation Score for station 19202: -0.08278971280405342\n",
      "Mean Squared Error for station 19202: 0.009183411514854474\n",
      "Valid indices for station 10201: [5, 16, 19, 17, 18, 62, 67, 27, 22, 55, 15, 58, 56, 54]\n"
     ]
    },
    {
     "name": "stderr",
     "output_type": "stream",
     "text": [
      "Training models:   3%|██                                                                   | 3/100 [00:21<11:35,  7.17s/station]"
     ]
    },
    {
     "name": "stdout",
     "output_type": "stream",
     "text": [
      "Cross-Validation Score for station 10201: -0.11554162237120855\n",
      "Mean Squared Error for station 10201: 0.027686866070704454\n",
      "Valid indices for station 6007: [278, 1328, 1325, 1323, 1326, 1324]\n"
     ]
    },
    {
     "name": "stderr",
     "output_type": "stream",
     "text": [
      "Training models:   4%|██▊                                                                  | 4/100 [00:28<10:59,  6.87s/station]"
     ]
    },
    {
     "name": "stdout",
     "output_type": "stream",
     "text": [
      "Cross-Validation Score for station 6007: -0.06607260214508655\n",
      "Mean Squared Error for station 6007: 0.025925686719089746\n",
      "Valid indices for station 2109: [726, 727, 725, 783, 796, 774, 724, 699, 763, 728, 797, 764, 798, 1444]\n",
      "Cross-Validation Score for station 2109: -0.028000177305959516\n"
     ]
    },
    {
     "name": "stderr",
     "output_type": "stream",
     "text": [
      "Training models:   5%|███▍                                                                 | 5/100 [00:36<11:28,  7.25s/station]"
     ]
    },
    {
     "name": "stdout",
     "output_type": "stream",
     "text": [
      "Mean Squared Error for station 2109: 0.015522801096357886\n",
      "Valid indices for station 32022: [1070]\n",
      "Valid indices for station 32022: [1070, 1071]\n",
      "Valid indices for station 32022: [1065, 1061, 1070, 1073, 1071]\n",
      "Cross-Validation Score for station 32022: -0.07399261030825593\n"
     ]
    },
    {
     "name": "stderr",
     "output_type": "stream",
     "text": [
      "Training models:   6%|████▏                                                                | 6/100 [00:43<11:16,  7.20s/station]"
     ]
    },
    {
     "name": "stdout",
     "output_type": "stream",
     "text": [
      "Mean Squared Error for station 32022: 0.054094057499711266\n",
      "Valid indices for station 1015: [71, 52, 53, 57, 132, 805, 760, 51, 74, 804]\n",
      "Cross-Validation Score for station 1015: -0.029503636161513254\n"
     ]
    },
    {
     "name": "stderr",
     "output_type": "stream",
     "text": [
      "Training models:   7%|████▊                                                                | 7/100 [00:50<11:19,  7.30s/station]"
     ]
    },
    {
     "name": "stdout",
     "output_type": "stream",
     "text": [
      "Mean Squared Error for station 1015: 0.03785693973280327\n",
      "Valid indices for station 44004: [1233]\n",
      "Valid indices for station 44004: [1236, 1232, 1234, 1233]\n",
      "Valid indices for station 44004: [1237, 1236, 1232, 1234, 1233, 1231]\n"
     ]
    },
    {
     "name": "stderr",
     "output_type": "stream",
     "text": [
      "Training models:   8%|█████▌                                                               | 8/100 [00:56<10:33,  6.88s/station]"
     ]
    },
    {
     "name": "stdout",
     "output_type": "stream",
     "text": [
      "Cross-Validation Score for station 44004: -0.010670238259645963\n",
      "Mean Squared Error for station 44004: 0.0051540184107497205\n",
      "Valid indices for station 23104: [936]\n",
      "Valid indices for station 23104: [936, 788, 795]\n",
      "Valid indices for station 23104: [937, 935, 936, 873, 791, 788, 771, 794, 795, 775, 776, 786]\n"
     ]
    },
    {
     "name": "stderr",
     "output_type": "stream",
     "text": [
      "Training models:   9%|██████▏                                                              | 9/100 [01:03<10:28,  6.90s/station]"
     ]
    },
    {
     "name": "stdout",
     "output_type": "stream",
     "text": [
      "Cross-Validation Score for station 23104: -0.018482267374425133\n",
      "Mean Squared Error for station 23104: 0.016839110578722824\n",
      "Valid indices for station 23202: [945, 941]\n",
      "Valid indices for station 23202: [944, 942, 945, 941, 943]\n",
      "Cross-Validation Score for station 23202: -0.11925069971460889\n"
     ]
    },
    {
     "name": "stderr",
     "output_type": "stream",
     "text": [
      "Training models:  10%|██████▊                                                             | 10/100 [01:11<10:51,  7.24s/station]"
     ]
    },
    {
     "name": "stdout",
     "output_type": "stream",
     "text": [
      "Mean Squared Error for station 23202: 0.05265023371481796\n",
      "Valid indices for station 13051: [242, 241, 220, 249, 247, 224]\n"
     ]
    },
    {
     "name": "stderr",
     "output_type": "stream",
     "text": [
      "Training models:  11%|███████▍                                                            | 11/100 [01:18<10:39,  7.18s/station]"
     ]
    },
    {
     "name": "stdout",
     "output_type": "stream",
     "text": [
      "Cross-Validation Score for station 13051: -0.06387446947384579\n",
      "Mean Squared Error for station 13051: 0.010527079789829138\n",
      "Valid indices for station 17202: [545, 1418, 1396, 539, 552, 531]\n"
     ]
    },
    {
     "name": "stderr",
     "output_type": "stream",
     "text": [
      "Training models:  12%|████████▏                                                           | 12/100 [01:26<10:35,  7.22s/station]"
     ]
    },
    {
     "name": "stdout",
     "output_type": "stream",
     "text": [
      "Cross-Validation Score for station 17202: -0.21477554900041476\n",
      "Mean Squared Error for station 17202: 0.01737818822193203\n",
      "Valid indices for station 10202: [12, 13, 68, 14, 25, 48, 49]\n",
      "Cross-Validation Score for station 10202: -0.11402099874443923\n"
     ]
    },
    {
     "name": "stderr",
     "output_type": "stream",
     "text": [
      "Training models:  13%|████████▊                                                           | 13/100 [01:33<10:36,  7.32s/station]"
     ]
    },
    {
     "name": "stdout",
     "output_type": "stream",
     "text": [
      "Mean Squared Error for station 10202: 0.025688754709667132\n",
      "Valid indices for station 48001: [1263]\n",
      "Valid indices for station 48001: [1269, 1263, 1213, 1264]\n",
      "Valid indices for station 48001: [1269, 1267, 1263, 1213, 1215, 1217, 1214, 1264, 1268]\n"
     ]
    },
    {
     "name": "stderr",
     "output_type": "stream",
     "text": [
      "Training models:  14%|█████████▌                                                          | 14/100 [01:40<10:22,  7.24s/station]"
     ]
    },
    {
     "name": "stdout",
     "output_type": "stream",
     "text": [
      "Cross-Validation Score for station 48001: -0.0452482643961893\n",
      "Mean Squared Error for station 48001: 0.018810615874746014\n",
      "Valid indices for station 51008: [1304]\n",
      "Valid indices for station 51008: [1304]\n",
      "Valid indices for station 51008: [1304]\n",
      "Valid indices for station 51008: [1304, 1301]\n"
     ]
    },
    {
     "name": "stderr",
     "output_type": "stream",
     "text": [
      "/Users/anthonybellon/Comp_Documents/VelibVisualisation/scripts/train_model.py:103: SettingWithCopyWarning: \n",
      "A value is trying to be set on a copy of a slice from a DataFrame.\n",
      "Try using .loc[row_indexer,col_indexer] = value instead\n",
      "\n",
      "See the caveats in the documentation: https://pandas.pydata.org/pandas-docs/stable/user_guide/indexing.html#returning-a-view-versus-a-copy\n",
      "  \n",
      "Training models:  15%|██████████▏                                                         | 15/100 [01:46<09:51,  6.96s/station]"
     ]
    },
    {
     "name": "stdout",
     "output_type": "stream",
     "text": [
      "Cross-Validation Score for station 51008: -0.009588662248164069\n",
      "Mean Squared Error for station 51008: 0.006007265370952376\n",
      "Valid indices for station 34011: [1103]\n",
      "Valid indices for station 34011: [1104, 1103, 1102]\n",
      "Valid indices for station 34011: [1101, 1098, 1100, 1104, 1103, 954, 1102, 1105]\n",
      "Cross-Validation Score for station 34011: -0.12360230295793914\n"
     ]
    },
    {
     "name": "stderr",
     "output_type": "stream",
     "text": [
      "Training models:  16%|██████████▉                                                         | 16/100 [01:54<10:00,  7.15s/station]"
     ]
    },
    {
     "name": "stdout",
     "output_type": "stream",
     "text": [
      "Mean Squared Error for station 34011: 0.03708985118109777\n",
      "Valid indices for station 21329: [829, 851]\n",
      "Valid indices for station 21329: [831, 777, 844, 829, 830, 851, 832, 842, 841, 845]\n",
      "Cross-Validation Score for station 21329: -0.057860958960748485\n"
     ]
    },
    {
     "name": "stderr",
     "output_type": "stream",
     "text": [
      "Training models:  17%|███████████▌                                                        | 17/100 [02:01<10:01,  7.25s/station]"
     ]
    },
    {
     "name": "stdout",
     "output_type": "stream",
     "text": [
      "Mean Squared Error for station 21329: 0.186328125\n",
      "Valid indices for station 12123: [204, 186, 1224]\n",
      "Valid indices for station 12123: [187, 205, 1222, 1223, 1221, 209, 204, 186, 1224, 1225]\n",
      "Cross-Validation Score for station 12123: -0.29535200419428725\n"
     ]
    },
    {
     "name": "stderr",
     "output_type": "stream",
     "text": [
      "Training models:  18%|████████████▏                                                       | 18/100 [02:09<10:02,  7.34s/station]"
     ]
    },
    {
     "name": "stdout",
     "output_type": "stream",
     "text": [
      "Mean Squared Error for station 12123: 0.22390381267600318\n",
      "Valid indices for station 19006: [639, 619, 669, 620, 621]\n",
      "Cross-Validation Score for station 19006: -0.23990333535963412\n"
     ]
    },
    {
     "name": "stderr",
     "output_type": "stream",
     "text": [
      "Training models:  19%|████████████▉                                                       | 19/100 [02:17<10:06,  7.49s/station]"
     ]
    },
    {
     "name": "stdout",
     "output_type": "stream",
     "text": [
      "Mean Squared Error for station 19006: 0.11634475736192626\n",
      "Valid indices for station 34010: [1102]\n",
      "Valid indices for station 34010: [1100, 1103, 1102, 1105]\n",
      "Valid indices for station 34010: [1101, 547, 1098, 586, 1100, 1104, 1103, 1102, 1105, 1060]\n"
     ]
    },
    {
     "name": "stderr",
     "output_type": "stream",
     "text": [
      "Training models:  20%|█████████████▌                                                      | 20/100 [02:24<09:43,  7.29s/station]"
     ]
    },
    {
     "name": "stdout",
     "output_type": "stream",
     "text": [
      "Cross-Validation Score for station 34010: -0.39464073111943054\n",
      "Mean Squared Error for station 34010: 0.07058042981628179\n",
      "Valid indices for station 14035: [310, 304, 306, 329, 319, 309, 277, 307]\n",
      "Cross-Validation Score for station 14035: -0.24482838234028045\n"
     ]
    },
    {
     "name": "stderr",
     "output_type": "stream",
     "text": [
      "Training models:  21%|██████████████▎                                                     | 21/100 [02:31<09:42,  7.37s/station]"
     ]
    },
    {
     "name": "stdout",
     "output_type": "stream",
     "text": [
      "Mean Squared Error for station 14035: 0.0774923759970338\n",
      "Valid indices for station 25004: [968]\n",
      "Valid indices for station 25004: [968]\n",
      "Valid indices for station 25004: [968]\n",
      "Valid indices for station 25004: [966, 968, 965]\n"
     ]
    },
    {
     "name": "stderr",
     "output_type": "stream",
     "text": [
      "/Users/anthonybellon/Comp_Documents/VelibVisualisation/scripts/train_model.py:103: SettingWithCopyWarning: \n",
      "A value is trying to be set on a copy of a slice from a DataFrame.\n",
      "Try using .loc[row_indexer,col_indexer] = value instead\n",
      "\n",
      "See the caveats in the documentation: https://pandas.pydata.org/pandas-docs/stable/user_guide/indexing.html#returning-a-view-versus-a-copy\n",
      "  \n",
      "Training models:  22%|██████████████▉                                                     | 22/100 [02:38<09:21,  7.20s/station]"
     ]
    },
    {
     "name": "stdout",
     "output_type": "stream",
     "text": [
      "Cross-Validation Score for station 25004: -0.020651909906768927\n",
      "Mean Squared Error for station 25004: 0.003411357972069796\n",
      "Valid indices for station 30004: [998]\n",
      "Valid indices for station 30004: [998]\n",
      "Valid indices for station 30004: [998, 1000]\n",
      "Valid indices for station 30004: [1076, 1123, 998, 1000, 996]\n"
     ]
    },
    {
     "name": "stderr",
     "output_type": "stream",
     "text": [
      "Training models:  23%|███████████████▋                                                    | 23/100 [02:45<09:09,  7.13s/station]"
     ]
    },
    {
     "name": "stdout",
     "output_type": "stream",
     "text": [
      "Cross-Validation Score for station 30004: -0.022233357261715568\n",
      "Mean Squared Error for station 30004: 0.02541177941285461\n",
      "Valid indices for station 21218: [827, 824, 903]\n",
      "Valid indices for station 21218: [818, 904, 827, 824, 903, 819, 826, 299, 320, 332, 297, 312, 298]\n",
      "Cross-Validation Score for station 21218: -0.047454250059889076\n"
     ]
    },
    {
     "name": "stderr",
     "output_type": "stream",
     "text": [
      "Training models:  24%|████████████████▎                                                   | 24/100 [02:53<09:29,  7.50s/station]"
     ]
    },
    {
     "name": "stdout",
     "output_type": "stream",
     "text": [
      "Mean Squared Error for station 21218: 0.014332333299117532\n",
      "Valid indices for station 30005: [999]\n",
      "Valid indices for station 30005: [1120, 999]\n",
      "Valid indices for station 30005: [1120, 999]\n",
      "Valid indices for station 30005: [1120, 1090, 999]\n"
     ]
    },
    {
     "name": "stderr",
     "output_type": "stream",
     "text": [
      "/Users/anthonybellon/Comp_Documents/VelibVisualisation/scripts/train_model.py:103: SettingWithCopyWarning: \n",
      "A value is trying to be set on a copy of a slice from a DataFrame.\n",
      "Try using .loc[row_indexer,col_indexer] = value instead\n",
      "\n",
      "See the caveats in the documentation: https://pandas.pydata.org/pandas-docs/stable/user_guide/indexing.html#returning-a-view-versus-a-copy\n",
      "  \n",
      "Training models:  25%|█████████████████                                                   | 25/100 [03:00<09:00,  7.21s/station]"
     ]
    },
    {
     "name": "stdout",
     "output_type": "stream",
     "text": [
      "Cross-Validation Score for station 30005: -0.06570311874131765\n",
      "Mean Squared Error for station 30005: 0.012739752865278084\n",
      "Valid indices for station 30007: [1000, 996]\n",
      "Valid indices for station 30007: [1000, 996]\n",
      "Valid indices for station 30007: [998, 1000, 996]\n",
      "Valid indices for station 30007: [998, 1000, 996, 1044, 1043]\n",
      "Cross-Validation Score for station 30007: 0.0\n"
     ]
    },
    {
     "name": "stderr",
     "output_type": "stream",
     "text": [
      "Training models:  26%|█████████████████▋                                                  | 26/100 [03:06<08:38,  7.00s/station]"
     ]
    },
    {
     "name": "stdout",
     "output_type": "stream",
     "text": [
      "Mean Squared Error for station 30007: 0.0\n",
      "Valid indices for station 17036: [522, 519, 528, 523, 520, 515]\n"
     ]
    },
    {
     "name": "stderr",
     "output_type": "stream",
     "text": [
      "Training models:  27%|██████████████████▎                                                 | 27/100 [03:13<08:25,  6.93s/station]"
     ]
    },
    {
     "name": "stdout",
     "output_type": "stream",
     "text": [
      "Cross-Validation Score for station 17036: -0.030588204468838198\n",
      "Mean Squared Error for station 17036: 0.13980052712457197\n",
      "Valid indices for station 21112: [808]\n",
      "Valid indices for station 21112: [802, 806, 800, 984, 807, 808, 986]\n",
      "Cross-Validation Score for station 21112: -0.8678115641532163\n"
     ]
    },
    {
     "name": "stderr",
     "output_type": "stream",
     "text": [
      "Training models:  28%|███████████████████                                                 | 28/100 [03:21<08:36,  7.17s/station]"
     ]
    },
    {
     "name": "stdout",
     "output_type": "stream",
     "text": [
      "Mean Squared Error for station 21112: 2.021003112660683\n",
      "Valid indices for station 10001: [1019, 7, 6, 1005, 1, 0, 1006, 10, 1004, 9]\n",
      "Cross-Validation Score for station 10001: -0.7656302504510902\n"
     ]
    },
    {
     "name": "stderr",
     "output_type": "stream",
     "text": [
      "Training models:  29%|███████████████████▋                                                | 29/100 [03:28<08:27,  7.15s/station]"
     ]
    },
    {
     "name": "stdout",
     "output_type": "stream",
     "text": [
      "Mean Squared Error for station 10001: 0.244511992972218\n",
      "Valid indices for station 3201: [1136, 1008, 1133, 1057, 1002]\n",
      "Cross-Validation Score for station 3201: -0.10136746266379817\n"
     ]
    },
    {
     "name": "stderr",
     "output_type": "stream",
     "text": [
      "Training models:  30%|████████████████████▍                                               | 30/100 [03:35<08:14,  7.07s/station]"
     ]
    },
    {
     "name": "stdout",
     "output_type": "stream",
     "text": [
      "Mean Squared Error for station 3201: 0.0649905728250699\n",
      "Valid indices for station 48011: [1272]\n",
      "Valid indices for station 48011: [1265, 1272, 1270]\n",
      "Valid indices for station 48011: [1265, 1272, 1270, 1271, 1273]\n",
      "Cross-Validation Score for station 48011: -0.024596496264436572\n"
     ]
    },
    {
     "name": "stderr",
     "output_type": "stream",
     "text": [
      "Training models:  31%|█████████████████████                                               | 31/100 [03:45<09:01,  7.84s/station]"
     ]
    },
    {
     "name": "stdout",
     "output_type": "stream",
     "text": [
      "Mean Squared Error for station 48011: 0.02104803882076459\n",
      "Valid indices for station 34009: [799, 1101]\n",
      "Valid indices for station 34009: [496, 813, 799, 549, 1101, 1098]\n"
     ]
    },
    {
     "name": "stderr",
     "output_type": "stream",
     "text": [
      "Training models:  32%|█████████████████████▊                                              | 32/100 [03:50<08:14,  7.27s/station]"
     ]
    },
    {
     "name": "stdout",
     "output_type": "stream",
     "text": [
      "Cross-Validation Score for station 34009: -0.09284131664875776\n",
      "Mean Squared Error for station 34009: 0.8285134593302725\n",
      "Valid indices for station 21327: [834, 847, 849]\n",
      "Valid indices for station 21327: [850, 839, 844, 834, 836, 832, 842, 841, 845, 846, 833, 847, 849, 835, 837]\n",
      "Cross-Validation Score for station 21327: -0.258386012293473\n"
     ]
    },
    {
     "name": "stderr",
     "output_type": "stream",
     "text": [
      "Training models:  33%|██████████████████████▍                                             | 33/100 [03:58<08:18,  7.44s/station]"
     ]
    },
    {
     "name": "stdout",
     "output_type": "stream",
     "text": [
      "Mean Squared Error for station 21327: 0.1002469744802648\n",
      "Valid indices for station 26011: [920, 985]\n",
      "Valid indices for station 26011: [920, 985]\n",
      "Valid indices for station 26011: [982, 919, 920, 985, 977, 976]\n",
      "Cross-Validation Score for station 26011: -0.05107922394200468\n"
     ]
    },
    {
     "name": "stderr",
     "output_type": "stream",
     "text": [
      "Training models:  34%|███████████████████████                                             | 34/100 [04:07<08:26,  7.68s/station]"
     ]
    },
    {
     "name": "stdout",
     "output_type": "stream",
     "text": [
      "Mean Squared Error for station 26011: 0.013667985055727019\n",
      "Valid indices for station 22209: [895]\n",
      "Valid indices for station 22209: [892, 895, 894]\n",
      "Valid indices for station 22209: [893, 1204, 892, 895, 820, 894, 1203, 819]\n"
     ]
    },
    {
     "name": "stderr",
     "output_type": "stream",
     "text": [
      "Training models:  35%|███████████████████████▊                                            | 35/100 [04:15<08:28,  7.82s/station]"
     ]
    },
    {
     "name": "stdout",
     "output_type": "stream",
     "text": [
      "Cross-Validation Score for station 22209: -0.525752101857446\n",
      "Mean Squared Error for station 22209: 0.17143681001812494\n",
      "Valid indices for station 45005: [1252]\n",
      "Valid indices for station 45005: [1252]\n",
      "Valid indices for station 45005: [1249, 1169, 1252]\n",
      "Valid indices for station 45005: [1249, 1169, 1168, 1252, 1248, 1251]\n"
     ]
    },
    {
     "name": "stderr",
     "output_type": "stream",
     "text": [
      "Training models:  36%|████████████████████████▍                                           | 36/100 [04:21<07:49,  7.34s/station]"
     ]
    },
    {
     "name": "stdout",
     "output_type": "stream",
     "text": [
      "Cross-Validation Score for station 45005: -0.017595290000212108\n",
      "Mean Squared Error for station 45005: 0.00045633275261436736\n",
      "Valid indices for station 35021: [1108, 1125, 1121]\n",
      "Valid indices for station 35021: [1108, 650, 1125, 651, 1107, 1106, 1110, 1109, 1121]\n",
      "Cross-Validation Score for station 35021: -0.17767220143430004\n"
     ]
    },
    {
     "name": "stderr",
     "output_type": "stream",
     "text": [
      "Training models:  37%|█████████████████████████▏                                          | 37/100 [04:28<07:45,  7.40s/station]"
     ]
    },
    {
     "name": "stdout",
     "output_type": "stream",
     "text": [
      "Mean Squared Error for station 35021: 0.036200974213229736\n",
      "Valid indices for station 10025: [68, 25, 26, 59, 48, 37, 49, 46, 36]\n"
     ]
    },
    {
     "name": "stderr",
     "output_type": "stream",
     "text": [
      "Training models:  38%|█████████████████████████▊                                          | 38/100 [04:35<07:14,  7.00s/station]"
     ]
    },
    {
     "name": "stdout",
     "output_type": "stream",
     "text": [
      "Cross-Validation Score for station 10025: -0.027856094922550756\n",
      "Mean Squared Error for station 10025: 0.0036124126672707545\n",
      "Valid indices for station 22305: [899]\n",
      "Valid indices for station 22305: [900, 896, 899, 898]\n",
      "Valid indices for station 22305: [980, 900, 896, 899, 976, 898, 897]\n"
     ]
    },
    {
     "name": "stderr",
     "output_type": "stream",
     "text": [
      "Training models:  39%|██████████████████████████▌                                         | 39/100 [04:41<06:48,  6.70s/station]"
     ]
    },
    {
     "name": "stdout",
     "output_type": "stream",
     "text": [
      "Cross-Validation Score for station 22305: -0.07913982968297524\n",
      "Mean Squared Error for station 22305: 0.01626590681459979\n",
      "Valid indices for station 21320: [845, 846, 833]\n",
      "Valid indices for station 21320: [832, 789, 784, 842, 841, 845, 846, 833, 847, 849, 835, 464, 426]\n",
      "Cross-Validation Score for station 21320: -0.12563442628744764\n"
     ]
    },
    {
     "name": "stderr",
     "output_type": "stream",
     "text": [
      "Training models:  40%|███████████████████████████▏                                        | 40/100 [04:48<07:04,  7.07s/station]"
     ]
    },
    {
     "name": "stdout",
     "output_type": "stream",
     "text": [
      "Mean Squared Error for station 21320: 0.03238657892207444\n",
      "Valid indices for station 22507: [912, 914]\n",
      "Valid indices for station 22507: [910, 909, 912, 914, 990]\n"
     ]
    },
    {
     "name": "stderr",
     "output_type": "stream",
     "text": [
      "Training models:  41%|███████████████████████████▉                                        | 41/100 [04:54<06:37,  6.73s/station]"
     ]
    },
    {
     "name": "stdout",
     "output_type": "stream",
     "text": [
      "Cross-Validation Score for station 22507: -0.06073226141463001\n",
      "Mean Squared Error for station 22507: 0.07339638781968695\n",
      "Valid indices for station 22602: [916]\n",
      "Valid indices for station 22602: [916, 918, 915]\n",
      "Valid indices for station 22602: [947, 949, 948, 916, 918, 915, 944, 942, 946]\n"
     ]
    },
    {
     "name": "stderr",
     "output_type": "stream",
     "text": [
      "Training models:  42%|████████████████████████████▌                                       | 42/100 [05:01<06:31,  6.75s/station]"
     ]
    },
    {
     "name": "stdout",
     "output_type": "stream",
     "text": [
      "Cross-Validation Score for station 22602: -0.009992255830903785\n",
      "Mean Squared Error for station 22602: 0.009716907596371891\n",
      "Valid indices for station 23205: [944]\n",
      "Valid indices for station 23205: [918, 915, 944, 942, 941]\n",
      "Cross-Validation Score for station 23205: -0.03507988350676411\n"
     ]
    },
    {
     "name": "stderr",
     "output_type": "stream",
     "text": [
      "Training models:  43%|█████████████████████████████▏                                      | 43/100 [05:09<06:42,  7.07s/station]"
     ]
    },
    {
     "name": "stdout",
     "output_type": "stream",
     "text": [
      "Mean Squared Error for station 23205: 0.004396915176681411\n",
      "Valid indices for station 15026: [358, 1374, 361, 393, 360]\n",
      "Cross-Validation Score for station 15026: -0.14375656115112845\n"
     ]
    },
    {
     "name": "stderr",
     "output_type": "stream",
     "text": [
      "Training models:  44%|█████████████████████████████▉                                      | 44/100 [05:17<06:45,  7.25s/station]"
     ]
    },
    {
     "name": "stdout",
     "output_type": "stream",
     "text": [
      "Mean Squared Error for station 15026: 0.022680139855185064\n",
      "Valid indices for station 2022: [783, 796, 716, 763, 728, 797, 764, 798, 1444, 40, 1443, 4, 2]\n",
      "Cross-Validation Score for station 2022: -0.31738891090853044\n"
     ]
    },
    {
     "name": "stderr",
     "output_type": "stream",
     "text": [
      "Training models:  45%|██████████████████████████████▌                                     | 45/100 [05:28<07:45,  8.46s/station]"
     ]
    },
    {
     "name": "stdout",
     "output_type": "stream",
     "text": [
      "Mean Squared Error for station 2022: 0.06083505434215743\n",
      "Valid indices for station 16138: [486]\n",
      "Valid indices for station 16138: [486, 484]\n",
      "Valid indices for station 16138: [486, 458, 444, 457, 477, 484]\n",
      "Cross-Validation Score for station 16138: -0.07281985083189904\n"
     ]
    },
    {
     "name": "stderr",
     "output_type": "stream",
     "text": [
      "Training models:  46%|███████████████████████████████▎                                    | 46/100 [05:37<07:50,  8.72s/station]"
     ]
    },
    {
     "name": "stdout",
     "output_type": "stream",
     "text": [
      "Mean Squared Error for station 16138: 0.015797441055098175\n",
      "Valid indices for station 31028: [1035, 1219, 1015]\n",
      "Valid indices for station 31028: [1177, 1014, 1218, 1013, 1179, 1035, 1219, 1220, 1025, 1053, 1015, 1022, 1016]\n",
      "Cross-Validation Score for station 31028: -0.21476373466042195\n"
     ]
    },
    {
     "name": "stderr",
     "output_type": "stream",
     "text": [
      "Training models:  47%|███████████████████████████████▉                                    | 47/100 [05:49<08:35,  9.72s/station]"
     ]
    },
    {
     "name": "stdout",
     "output_type": "stream",
     "text": [
      "Mean Squared Error for station 31028: 0.01197101896271773\n",
      "Valid indices for station 16118: [462, 479, 464]\n",
      "Valid indices for station 16118: [784, 459, 462, 479, 466, 464, 463, 461, 458, 457, 460]\n",
      "Cross-Validation Score for station 16118: -0.08342152260355776\n"
     ]
    },
    {
     "name": "stderr",
     "output_type": "stream",
     "text": [
      "Training models:  48%|████████████████████████████████▋                                   | 48/100 [06:01<09:01, 10.41s/station]"
     ]
    },
    {
     "name": "stdout",
     "output_type": "stream",
     "text": [
      "Mean Squared Error for station 16118: 0.04041411123133688\n",
      "Valid indices for station 15112: [349, 350, 348, 421, 340, 410, 359, 411]\n",
      "Cross-Validation Score for station 15112: -0.05591831977823468\n"
     ]
    },
    {
     "name": "stderr",
     "output_type": "stream",
     "text": [
      "Training models:  49%|█████████████████████████████████▎                                  | 49/100 [06:10<08:23,  9.87s/station]"
     ]
    },
    {
     "name": "stdout",
     "output_type": "stream",
     "text": [
      "Mean Squared Error for station 15112: 0.042650000971194334\n",
      "Valid indices for station 21328: [850]\n",
      "Valid indices for station 21328: [850, 839, 844, 834, 849]\n",
      "Cross-Validation Score for station 21328: -0.020860931385138993\n"
     ]
    },
    {
     "name": "stderr",
     "output_type": "stream",
     "text": [
      "Training models:  50%|██████████████████████████████████                                  | 50/100 [06:25<09:37, 11.55s/station]"
     ]
    },
    {
     "name": "stdout",
     "output_type": "stream",
     "text": [
      "Mean Squared Error for station 21328: 0.005207687025868837\n",
      "Valid indices for station 21323: [847, 849, 837]\n",
      "Valid indices for station 21323: [834, 836, 832, 845, 846, 833, 847, 849, 835, 837, 426, 373, 413]\n",
      "Cross-Validation Score for station 21323: -0.07866679362527824\n"
     ]
    },
    {
     "name": "stderr",
     "output_type": "stream",
     "text": [
      "Training models:  51%|██████████████████████████████████▋                                 | 51/100 [06:37<09:24, 11.52s/station]"
     ]
    },
    {
     "name": "stdout",
     "output_type": "stream",
     "text": [
      "Mean Squared Error for station 21323: 0.0409942022968938\n",
      "Valid indices for station 17043: [467, 551, 522, 523, 525, 533, 524]\n",
      "Cross-Validation Score for station 17043: -0.096904585004617\n"
     ]
    },
    {
     "name": "stderr",
     "output_type": "stream",
     "text": [
      "Training models:  52%|███████████████████████████████████▎                                | 52/100 [06:47<08:57, 11.20s/station]"
     ]
    },
    {
     "name": "stdout",
     "output_type": "stream",
     "text": [
      "Mean Squared Error for station 17043: 0.18194042344548125\n",
      "Valid indices for station 16039: [463, 461, 460]\n",
      "Valid indices for station 16039: [835, 459, 462, 479, 464, 463, 386, 394, 461, 426, 458, 457, 456, 460, 455]\n"
     ]
    },
    {
     "name": "stderr",
     "output_type": "stream",
     "text": [
      "Training models:  53%|████████████████████████████████████                                | 53/100 [06:55<07:52, 10.04s/station]"
     ]
    },
    {
     "name": "stdout",
     "output_type": "stream",
     "text": [
      "Cross-Validation Score for station 16039: -0.5550366316351943\n",
      "Mean Squared Error for station 16039: 0.22483870074080753\n",
      "Valid indices for station 12128: [190]\n",
      "Valid indices for station 12128: [1245, 1228, 190, 201]\n",
      "Valid indices for station 12128: [200, 189, 1245, 1261, 1228, 190, 201]\n",
      "Cross-Validation Score for station 12128: -0.008921085258062216\n"
     ]
    },
    {
     "name": "stderr",
     "output_type": "stream",
     "text": [
      "Training models:  54%|████████████████████████████████████▋                               | 54/100 [07:02<07:09,  9.35s/station]"
     ]
    },
    {
     "name": "stdout",
     "output_type": "stream",
     "text": [
      "Mean Squared Error for station 12128: 0.0030325769909103246\n",
      "Valid indices for station 19120: [654, 646, 649, 665, 636]\n",
      "Cross-Validation Score for station 19120: -0.26671113277924013\n"
     ]
    },
    {
     "name": "stderr",
     "output_type": "stream",
     "text": [
      "Training models:  55%|█████████████████████████████████████▍                              | 55/100 [07:11<06:44,  8.98s/station]"
     ]
    },
    {
     "name": "stdout",
     "output_type": "stream",
     "text": [
      "Mean Squared Error for station 19120: 0.025067680133277766\n",
      "Valid indices for station 42014: [1184, 1190]\n",
      "Valid indices for station 42014: [1191, 1182, 1189, 1184, 1190, 1181, 1180, 1183]\n",
      "Cross-Validation Score for station 42014: -0.04674785707832593\n"
     ]
    },
    {
     "name": "stderr",
     "output_type": "stream",
     "text": [
      "Training models:  56%|██████████████████████████████████████                              | 56/100 [07:19<06:24,  8.74s/station]"
     ]
    },
    {
     "name": "stdout",
     "output_type": "stream",
     "text": [
      "Mean Squared Error for station 42014: 0.10496897182306104\n",
      "Valid indices for station 17203: [520, 553, 517, 929, 927, 537, 516]\n",
      "Cross-Validation Score for station 17203: -0.02047950268817205\n"
     ]
    },
    {
     "name": "stderr",
     "output_type": "stream",
     "text": [
      "Training models:  57%|██████████████████████████████████████▊                             | 57/100 [07:28<06:19,  8.82s/station]"
     ]
    },
    {
     "name": "stdout",
     "output_type": "stream",
     "text": [
      "Mean Squared Error for station 17203: 0.003627672697368432\n",
      "Valid indices for station 15133: [418, 409, 422, 380, 379, 381, 420]\n",
      "Cross-Validation Score for station 15133: -0.10918437316026623\n"
     ]
    },
    {
     "name": "stderr",
     "output_type": "stream",
     "text": [
      "Training models:  58%|███████████████████████████████████████▍                            | 58/100 [07:36<05:58,  8.54s/station]"
     ]
    },
    {
     "name": "stdout",
     "output_type": "stream",
     "text": [
      "Mean Squared Error for station 15133: 0.05817864405233281\n",
      "Valid indices for station 17013: [501, 530, 503, 500, 510, 502, 545]\n"
     ]
    },
    {
     "name": "stderr",
     "output_type": "stream",
     "text": [
      "Training models:  59%|████████████████████████████████████████                            | 59/100 [07:42<05:22,  7.86s/station]"
     ]
    },
    {
     "name": "stdout",
     "output_type": "stream",
     "text": [
      "Cross-Validation Score for station 17013: -0.0397122115815412\n",
      "Mean Squared Error for station 17013: 0.00331363514957265\n",
      "Valid indices for station 43005: [1222, 1221]\n",
      "Valid indices for station 43005: [1219, 1220, 1025, 1222, 1223, 1221, 209, 1026, 186, 1224]\n",
      "Cross-Validation Score for station 43005: -0.28352806439309547\n"
     ]
    },
    {
     "name": "stderr",
     "output_type": "stream",
     "text": [
      "Training models:  60%|████████████████████████████████████████▊                           | 60/100 [07:49<05:04,  7.62s/station]"
     ]
    },
    {
     "name": "stdout",
     "output_type": "stream",
     "text": [
      "Mean Squared Error for station 43005: 0.056808241283571176\n",
      "Valid indices for station 15103: [400, 388, 387]\n",
      "Valid indices for station 15103: [386, 394, 455, 485, 385, 402, 384, 453, 401, 400, 388, 387, 396, 392, 407, 364, 391, 398, 452]\n"
     ]
    },
    {
     "name": "stderr",
     "output_type": "stream",
     "text": [
      "Training models:  61%|█████████████████████████████████████████▍                          | 61/100 [07:55<04:43,  7.28s/station]"
     ]
    },
    {
     "name": "stdout",
     "output_type": "stream",
     "text": [
      "Cross-Validation Score for station 15103: -0.15014646633296636\n",
      "Mean Squared Error for station 15103: 0.016900629492665527\n",
      "Valid indices for station 32026: [1073]\n",
      "Valid indices for station 32026: [1073, 1062]\n",
      "Valid indices for station 32026: [1059, 1088, 1066, 1064, 1065, 1070, 1073, 1071, 1062]\n",
      "Cross-Validation Score for station 32026: -0.021545923807338517\n"
     ]
    },
    {
     "name": "stderr",
     "output_type": "stream",
     "text": [
      "Training models:  62%|██████████████████████████████████████████▏                         | 62/100 [08:03<04:37,  7.31s/station]"
     ]
    },
    {
     "name": "stdout",
     "output_type": "stream",
     "text": [
      "Mean Squared Error for station 32026: 0.01181530115323347\n",
      "Valid indices for station 19013: [640, 664, 669, 632, 626, 627]\n",
      "Cross-Validation Score for station 19013: -0.1909993321748122\n"
     ]
    },
    {
     "name": "stderr",
     "output_type": "stream",
     "text": [
      "Training models:  63%|██████████████████████████████████████████▊                         | 63/100 [08:10<04:25,  7.18s/station]"
     ]
    },
    {
     "name": "stdout",
     "output_type": "stream",
     "text": [
      "Mean Squared Error for station 19013: 0.03842500872384246\n",
      "Valid indices for station 5123: [1295, 1279, 1293, 1275, 1315, 1274, 1312, 1284, 1296, 1126]\n"
     ]
    },
    {
     "name": "stderr",
     "output_type": "stream",
     "text": [
      "Training models:  64%|███████████████████████████████████████████▌                        | 64/100 [08:16<04:08,  6.89s/station]"
     ]
    },
    {
     "name": "stdout",
     "output_type": "stream",
     "text": [
      "Cross-Validation Score for station 5123: -0.07092234647058401\n",
      "Mean Squared Error for station 5123: 0.09433754733793706\n",
      "Valid indices for station 26013: [987, 983]\n",
      "Valid indices for station 26013: [809, 803, 987, 983, 980, 986]\n"
     ]
    },
    {
     "name": "stderr",
     "output_type": "stream",
     "text": [
      "Training models:  65%|████████████████████████████████████████████▏                       | 65/100 [08:23<04:01,  6.90s/station]"
     ]
    },
    {
     "name": "stdout",
     "output_type": "stream",
     "text": [
      "Cross-Validation Score for station 26013: -0.09241773760051218\n",
      "Mean Squared Error for station 26013: 0.027591101440928068\n",
      "Valid indices for station 51004: [1301]\n",
      "Valid indices for station 51004: [1301]\n",
      "Valid indices for station 51004: [1301]\n",
      "Valid indices for station 51004: [1304, 1301, 1303]\n"
     ]
    },
    {
     "name": "stderr",
     "output_type": "stream",
     "text": [
      "/Users/anthonybellon/Comp_Documents/VelibVisualisation/scripts/train_model.py:103: SettingWithCopyWarning: \n",
      "A value is trying to be set on a copy of a slice from a DataFrame.\n",
      "Try using .loc[row_indexer,col_indexer] = value instead\n",
      "\n",
      "See the caveats in the documentation: https://pandas.pydata.org/pandas-docs/stable/user_guide/indexing.html#returning-a-view-versus-a-copy\n",
      "  \n"
     ]
    },
    {
     "name": "stdout",
     "output_type": "stream",
     "text": [
      "Cross-Validation Score for station 51004: -0.017651272799857707\n",
      "Mean Squared Error for station 51004: 0.0027043693093263465\n"
     ]
    },
    {
     "name": "stderr",
     "output_type": "stream",
     "text": [
      "Training models:  66%|████████████████████████████████████████████▉                       | 66/100 [08:30<03:54,  6.90s/station]"
     ]
    },
    {
     "name": "stdout",
     "output_type": "stream",
     "text": [
      "Valid indices for station 12027: [147, 171, 158, 178, 148, 159]\n",
      "Cross-Validation Score for station 12027: -0.03767450910074298\n"
     ]
    },
    {
     "name": "stderr",
     "output_type": "stream",
     "text": [
      "Training models:  67%|█████████████████████████████████████████████▌                      | 67/100 [08:38<03:59,  7.26s/station]"
     ]
    },
    {
     "name": "stdout",
     "output_type": "stream",
     "text": [
      "Mean Squared Error for station 12027: 0.019178558543665188\n",
      "Valid indices for station 17045: [528, 1423, 1424, 527, 1422, 1431, 1421, 515]\n"
     ]
    },
    {
     "name": "stderr",
     "output_type": "stream",
     "text": [
      "Training models:  68%|██████████████████████████████████████████████▏                     | 68/100 [08:44<03:44,  7.03s/station]"
     ]
    },
    {
     "name": "stdout",
     "output_type": "stream",
     "text": [
      "Cross-Validation Score for station 17045: -0.8460060166772209\n",
      "Mean Squared Error for station 17045: 0.5354979799876226\n",
      "Valid indices for station 8033: [1409, 1402, 1417, 1426, 1404, 1403]\n",
      "Cross-Validation Score for station 8033: -0.3171880767321274\n"
     ]
    },
    {
     "name": "stderr",
     "output_type": "stream",
     "text": [
      "Training models:  69%|██████████████████████████████████████████████▉                     | 69/100 [08:52<03:41,  7.15s/station]"
     ]
    },
    {
     "name": "stdout",
     "output_type": "stream",
     "text": [
      "Mean Squared Error for station 8033: 0.11883628781135717\n",
      "Valid indices for station 16121: [480, 886]\n",
      "Valid indices for station 16121: [482, 882, 480, 886, 489, 885, 881, 429]\n"
     ]
    },
    {
     "name": "stderr",
     "output_type": "stream",
     "text": [
      "Training models:  70%|███████████████████████████████████████████████▌                    | 70/100 [08:58<03:22,  6.74s/station]"
     ]
    },
    {
     "name": "stdout",
     "output_type": "stream",
     "text": [
      "Cross-Validation Score for station 16121: -0.09572195589458055\n",
      "Mean Squared Error for station 16121: 0.052136341156852485\n",
      "Valid indices for station 41102: [1153, 1152]\n",
      "Valid indices for station 41102: [1154, 1209, 1153, 1152, 1210, 1211]\n"
     ]
    },
    {
     "name": "stderr",
     "output_type": "stream",
     "text": [
      "Training models:  71%|████████████████████████████████████████████████▎                   | 71/100 [09:04<03:13,  6.67s/station]"
     ]
    },
    {
     "name": "stdout",
     "output_type": "stream",
     "text": [
      "Cross-Validation Score for station 41102: -0.02528455334454524\n",
      "Mean Squared Error for station 41102: 0.08079724437858994\n",
      "Valid indices for station 17037: [519, 520, 553, 537, 515, 516]\n",
      "Cross-Validation Score for station 17037: -0.05636930063361663\n"
     ]
    },
    {
     "name": "stderr",
     "output_type": "stream",
     "text": [
      "Training models:  72%|████████████████████████████████████████████████▉                   | 72/100 [09:12<03:13,  6.91s/station]"
     ]
    },
    {
     "name": "stdout",
     "output_type": "stream",
     "text": [
      "Mean Squared Error for station 17037: 0.02180972523770307\n",
      "Valid indices for station 16124: [483]\n",
      "Valid indices for station 16124: [993, 483, 880]\n",
      "Valid indices for station 16124: [993, 995, 994, 483, 481, 880, 879]\n",
      "Cross-Validation Score for station 16124: -0.16536401638422776\n"
     ]
    },
    {
     "name": "stderr",
     "output_type": "stream",
     "text": [
      "Training models:  73%|█████████████████████████████████████████████████▋                  | 73/100 [09:19<03:12,  7.15s/station]"
     ]
    },
    {
     "name": "stdout",
     "output_type": "stream",
     "text": [
      "Mean Squared Error for station 16124: 0.04495039325954343\n",
      "Valid indices for station 33003: [1083]\n",
      "Valid indices for station 33003: [652, 643, 623, 663, 624, 1083, 1084, 1086, 1085, 1092, 1093]\n",
      "Cross-Validation Score for station 33003: -0.10733849224904794\n"
     ]
    },
    {
     "name": "stderr",
     "output_type": "stream",
     "text": [
      "Training models:  74%|██████████████████████████████████████████████████▎                 | 74/100 [09:26<03:04,  7.11s/station]"
     ]
    },
    {
     "name": "stdout",
     "output_type": "stream",
     "text": [
      "Mean Squared Error for station 33003: 0.1767201104294881\n",
      "Valid indices for station 7009: [1377, 1361, 1359]\n",
      "Valid indices for station 7009: [1365, 1377, 1362, 1358, 1355, 1375, 1360, 1380, 1361, 1359, 1357, 1430, 66]\n"
     ]
    },
    {
     "name": "stderr",
     "output_type": "stream",
     "text": [
      "Training models:  75%|███████████████████████████████████████████████████                 | 75/100 [09:33<02:54,  6.98s/station]"
     ]
    },
    {
     "name": "stdout",
     "output_type": "stream",
     "text": [
      "Cross-Validation Score for station 7009: -1.2713462115651066\n",
      "Mean Squared Error for station 7009: 0.13931230235059314\n",
      "Valid indices for station 5106: [1278, 1313, 1314, 1276, 1318, 1343, 1306, 1333, 1345, 1334, 1317, 1293, 1275, 1274]\n"
     ]
    },
    {
     "name": "stderr",
     "output_type": "stream",
     "text": [
      "Training models:  76%|███████████████████████████████████████████████████▋                | 76/100 [09:40<02:45,  6.90s/station]"
     ]
    },
    {
     "name": "stdout",
     "output_type": "stream",
     "text": [
      "Cross-Validation Score for station 5106: -0.04355982154972417\n",
      "Mean Squared Error for station 5106: 0.014783901119372752\n",
      "Valid indices for station 19115: [623, 663, 624]\n",
      "Valid indices for station 19115: [671, 667, 622, 652, 643, 623, 673, 663, 624, 1108, 1083, 1084]\n",
      "Cross-Validation Score for station 19115: -0.037262481025971995\n"
     ]
    },
    {
     "name": "stderr",
     "output_type": "stream",
     "text": [
      "Training models:  77%|████████████████████████████████████████████████████▎               | 77/100 [09:46<02:37,  6.84s/station]"
     ]
    },
    {
     "name": "stdout",
     "output_type": "stream",
     "text": [
      "Mean Squared Error for station 19115: 0.04179444451783474\n",
      "Valid indices for station 12034: [248, 194, 163, 162, 160]\n",
      "Valid indices for station 12034: [273, 248, 267, 253, 221, 194, 163, 162, 160, 157, 208, 207, 156, 178, 206]\n",
      "Cross-Validation Score for station 12034: -0.5056292845042191\n"
     ]
    },
    {
     "name": "stderr",
     "output_type": "stream",
     "text": [
      "Training models:  78%|█████████████████████████████████████████████████████               | 78/100 [09:54<02:33,  6.99s/station]"
     ]
    },
    {
     "name": "stdout",
     "output_type": "stream",
     "text": [
      "Mean Squared Error for station 12034: 0.08780385323595223\n",
      "Valid indices for station 33001: [1082]\n",
      "Valid indices for station 33001: [607, 612, 595, 1094, 660, 659, 1069, 1095, 1082]\n"
     ]
    },
    {
     "name": "stderr",
     "output_type": "stream",
     "text": [
      "Training models:  79%|█████████████████████████████████████████████████████▋              | 79/100 [10:01<02:29,  7.14s/station]"
     ]
    },
    {
     "name": "stdout",
     "output_type": "stream",
     "text": [
      "Cross-Validation Score for station 33001: -0.18101431506076898\n",
      "Mean Squared Error for station 33001: 0.061298632789917956\n",
      "Valid indices for station 41404: [1173]\n",
      "Valid indices for station 41404: [1174, 1173, 1244, 1256, 1172, 1262]\n"
     ]
    },
    {
     "name": "stderr",
     "output_type": "stream",
     "text": [
      "Training models:  80%|██████████████████████████████████████████████████████▍             | 80/100 [10:07<02:14,  6.73s/station]"
     ]
    },
    {
     "name": "stdout",
     "output_type": "stream",
     "text": [
      "Cross-Validation Score for station 41404: -0.054238026461671696\n",
      "Mean Squared Error for station 41404: 0.06666772487577671\n",
      "Valid indices for station 20132: [692, 686, 749, 687, 740, 685, 691]\n",
      "Cross-Validation Score for station 20132: -0.037346117388972214\n"
     ]
    },
    {
     "name": "stderr",
     "output_type": "stream",
     "text": [
      "Training models:  81%|███████████████████████████████████████████████████████             | 81/100 [10:14<02:10,  6.85s/station]"
     ]
    },
    {
     "name": "stdout",
     "output_type": "stream",
     "text": [
      "Mean Squared Error for station 20132: 0.007180046828876693\n",
      "Valid indices for station 17007: [498, 495, 496, 494, 544, 549]\n"
     ]
    },
    {
     "name": "stderr",
     "output_type": "stream",
     "text": [
      "Training models:  82%|███████████████████████████████████████████████████████▊            | 82/100 [10:20<01:56,  6.49s/station]"
     ]
    },
    {
     "name": "stdout",
     "output_type": "stream",
     "text": [
      "Cross-Validation Score for station 17007: -0.13739777052704738\n",
      "Mean Squared Error for station 17007: 0.02488851398253747\n",
      "Valid indices for station 31012: [1020, 1021, 1017]\n",
      "Valid indices for station 31012: [1026, 1224, 1225, 1165, 1028, 1020, 1021, 1017, 1030, 1023]\n",
      "Cross-Validation Score for station 31012: -0.07133338932280728\n"
     ]
    },
    {
     "name": "stderr",
     "output_type": "stream",
     "text": [
      "Training models:  83%|████████████████████████████████████████████████████████▍           | 83/100 [10:27<01:52,  6.61s/station]"
     ]
    },
    {
     "name": "stdout",
     "output_type": "stream",
     "text": [
      "Mean Squared Error for station 31012: 0.03679208308837933\n",
      "Valid indices for station 17018: [1406, 504, 505, 543, 501]\n",
      "Cross-Validation Score for station 17018: -0.03652533068895338\n"
     ]
    },
    {
     "name": "stderr",
     "output_type": "stream",
     "text": [
      "Training models:  84%|█████████████████████████████████████████████████████████           | 84/100 [10:33<01:47,  6.69s/station]"
     ]
    },
    {
     "name": "stdout",
     "output_type": "stream",
     "text": [
      "Mean Squared Error for station 17018: 0.05247443933923858\n",
      "Out of bounds indices for station 92004: [1483]\n",
      "Max valid index: 1460\n",
      "Valid indices for station 92004: []\n",
      "Out of bounds indices for station 92004: [1481, 1483, 1485]\n",
      "Max valid index: 1460\n",
      "Valid indices for station 92004: []\n",
      "Out of bounds indices for station 92004: [1487, 1481, 1483, 1485, 1486]\n",
      "Max valid index: 1460\n",
      "Valid indices for station 92004: []\n",
      "Out of bounds indices for station 92004: [1487, 1481, 1483, 1485, 1486]\n",
      "Max valid index: 1460\n",
      "Valid indices for station 92004: []\n"
     ]
    },
    {
     "name": "stderr",
     "output_type": "stream",
     "text": [
      "/Users/anthonybellon/Comp_Documents/VelibVisualisation/scripts/train_model.py:103: SettingWithCopyWarning: \n",
      "A value is trying to be set on a copy of a slice from a DataFrame.\n",
      "Try using .loc[row_indexer,col_indexer] = value instead\n",
      "\n",
      "See the caveats in the documentation: https://pandas.pydata.org/pandas-docs/stable/user_guide/indexing.html#returning-a-view-versus-a-copy\n",
      "  \n",
      "Training models:  85%|█████████████████████████████████████████████████████████▊          | 85/100 [10:39<01:36,  6.45s/station]"
     ]
    },
    {
     "name": "stdout",
     "output_type": "stream",
     "text": [
      "Cross-Validation Score for station 92004: -0.08176754974824464\n",
      "Mean Squared Error for station 92004: 0.006723911721131251\n",
      "Valid indices for station 8102: [1427, 1410, 1416, 1433, 1429, 1431, 1419, 1420, 1421, 1425, 1426]\n",
      "Cross-Validation Score for station 8102: -0.40688824355841435\n"
     ]
    },
    {
     "name": "stderr",
     "output_type": "stream",
     "text": [
      "Training models:  86%|██████████████████████████████████████████████████████████▍         | 86/100 [10:48<01:37,  6.99s/station]"
     ]
    },
    {
     "name": "stdout",
     "output_type": "stream",
     "text": [
      "Mean Squared Error for station 8102: 0.322659996242017\n",
      "Valid indices for station 21111: [806, 807]\n",
      "Valid indices for station 21111: [803, 802, 815, 806, 800, 807, 808, 986]\n"
     ]
    },
    {
     "name": "stderr",
     "output_type": "stream",
     "text": [
      "Training models:  87%|███████████████████████████████████████████████████████████▏        | 87/100 [10:54<01:28,  6.83s/station]"
     ]
    },
    {
     "name": "stdout",
     "output_type": "stream",
     "text": [
      "Cross-Validation Score for station 21111: -0.1614244486136412\n",
      "Mean Squared Error for station 21111: 0.06230136705035386\n",
      "Valid indices for station 23002: [922]\n",
      "Valid indices for station 23002: [921, 922, 961, 960, 923, 930]\n"
     ]
    },
    {
     "name": "stderr",
     "output_type": "stream",
     "text": [
      "Training models:  88%|███████████████████████████████████████████████████████████▊        | 88/100 [11:01<01:20,  6.72s/station]"
     ]
    },
    {
     "name": "stdout",
     "output_type": "stream",
     "text": [
      "Cross-Validation Score for station 23002: -0.23244147702336862\n",
      "Mean Squared Error for station 23002: 0.6590781116516211\n",
      "Valid indices for station 14130: [298, 325, 300, 302, 311, 335]\n",
      "Cross-Validation Score for station 14130: -0.06526167157734908\n"
     ]
    },
    {
     "name": "stderr",
     "output_type": "stream",
     "text": [
      "Training models:  89%|████████████████████████████████████████████████████████████▌       | 89/100 [11:07<01:13,  6.65s/station]"
     ]
    },
    {
     "name": "stdout",
     "output_type": "stream",
     "text": [
      "Mean Squared Error for station 14130: 0.020852937271596927\n",
      "Valid indices for station 12011: [144, 175, 147, 171, 158, 199]\n"
     ]
    },
    {
     "name": "stderr",
     "output_type": "stream",
     "text": [
      "Training models:  90%|█████████████████████████████████████████████████████████████▏      | 90/100 [11:13<01:05,  6.53s/station]"
     ]
    },
    {
     "name": "stdout",
     "output_type": "stream",
     "text": [
      "Cross-Validation Score for station 12011: -0.11756983819115807\n",
      "Mean Squared Error for station 12011: 0.10858537512964771\n",
      "Valid indices for station 6103: [1327, 1344, 1339, 1376, 1349, 1351, 1346, 1347, 1321]\n",
      "Cross-Validation Score for station 6103: -0.15946238018338327\n"
     ]
    },
    {
     "name": "stderr",
     "output_type": "stream",
     "text": [
      "Training models:  91%|█████████████████████████████████████████████████████████████▉      | 91/100 [11:22<01:03,  7.06s/station]"
     ]
    },
    {
     "name": "stdout",
     "output_type": "stream",
     "text": [
      "Mean Squared Error for station 6103: 0.011313131313131306\n",
      "Valid indices for station 13043: [271, 270, 242, 241, 223, 220, 249, 247]\n"
     ]
    },
    {
     "name": "stderr",
     "output_type": "stream",
     "text": [
      "Training models:  92%|██████████████████████████████████████████████████████████████▌     | 92/100 [11:28<00:53,  6.72s/station]"
     ]
    },
    {
     "name": "stdout",
     "output_type": "stream",
     "text": [
      "Cross-Validation Score for station 13043: -0.2034919109075556\n",
      "Mean Squared Error for station 13043: 0.07321564505904117\n",
      "Valid indices for station 8051: [1399, 1395, 510, 545, 1418, 1396, 552, 531]\n",
      "Cross-Validation Score for station 8051: -0.04426438781850574\n"
     ]
    },
    {
     "name": "stderr",
     "output_type": "stream",
     "text": [
      "Training models:  93%|███████████████████████████████████████████████████████████████▏    | 93/100 [11:35<00:47,  6.84s/station]"
     ]
    },
    {
     "name": "stdout",
     "output_type": "stream",
     "text": [
      "Mean Squared Error for station 8051: 0.06471490721490714\n",
      "Valid indices for station 18025: [567, 580, 577, 572, 575, 576, 581, 582]\n"
     ]
    },
    {
     "name": "stderr",
     "output_type": "stream",
     "text": [
      "Training models:  94%|███████████████████████████████████████████████████████████████▉    | 94/100 [11:40<00:39,  6.50s/station]"
     ]
    },
    {
     "name": "stdout",
     "output_type": "stream",
     "text": [
      "Cross-Validation Score for station 18025: -0.4471249158029682\n",
      "Mean Squared Error for station 18025: 0.0625957952281203\n",
      "Out of bounds indices for station 9031: [1472, 1462, 1468, 1461, 1477, 1470]\n",
      "Max valid index: 1460\n",
      "Valid indices for station 9031: [757, 1455, 1456, 1460]\n",
      "Out of bounds indices for station 9031: [1463, 1472, 1462, 1464, 1465, 1471, 1468, 1461, 1477, 1470, 1473, 1466]\n",
      "Max valid index: 1460\n",
      "Valid indices for station 9031: [1384, 1387, 1386, 1381, 57, 132, 805, 760, 70, 753, 727, 814, 804, 1454, 744, 757, 1455, 1456, 1460, 1459, 1457, 796, 747, 1445, 1453, 1446, 1447, 1452, 1448, 1451, 1458, 1450]\n"
     ]
    },
    {
     "name": "stderr",
     "output_type": "stream",
     "text": [
      "Training models:  95%|████████████████████████████████████████████████████████████████▌   | 95/100 [11:47<00:32,  6.44s/station]"
     ]
    },
    {
     "name": "stdout",
     "output_type": "stream",
     "text": [
      "Cross-Validation Score for station 9031: -0.04879601155955249\n",
      "Mean Squared Error for station 9031: 0.08375576277197157\n",
      "Valid indices for station 20023: [733, 701, 750, 703, 702]\n"
     ]
    },
    {
     "name": "stderr",
     "output_type": "stream",
     "text": [
      "Training models:  96%|█████████████████████████████████████████████████████████████████▎  | 96/100 [11:52<00:24,  6.24s/station]"
     ]
    },
    {
     "name": "stdout",
     "output_type": "stream",
     "text": [
      "Cross-Validation Score for station 20023: -0.04941484359382503\n",
      "Mean Squared Error for station 20023: 0.1094936720836483\n",
      "Valid indices for station 18049: [607, 595]\n",
      "Valid indices for station 18049: [563, 607, 612, 670, 595, 615, 1094, 660, 657, 659, 1082]\n",
      "Cross-Validation Score for station 18049: -0.7431411974736462\n"
     ]
    },
    {
     "name": "stderr",
     "output_type": "stream",
     "text": [
      "Training models:  97%|█████████████████████████████████████████████████████████████████▉  | 97/100 [12:00<00:19,  6.66s/station]"
     ]
    },
    {
     "name": "stdout",
     "output_type": "stream",
     "text": [
      "Mean Squared Error for station 18049: 2.1736075325818924\n",
      "Valid indices for station 15031: [406, 365, 363, 361, 360]\n",
      "Cross-Validation Score for station 15031: -0.27379637546492586\n"
     ]
    },
    {
     "name": "stderr",
     "output_type": "stream",
     "text": [
      "Training models:  98%|██████████████████████████████████████████████████████████████████▋ | 98/100 [12:10<00:15,  7.73s/station]"
     ]
    },
    {
     "name": "stdout",
     "output_type": "stream",
     "text": [
      "Mean Squared Error for station 15031: 0.4014616151111097\n",
      "Valid indices for station 15070: [385, 402, 384, 408, 401, 387, 396, 364]\n"
     ]
    },
    {
     "name": "stderr",
     "output_type": "stream",
     "text": [
      "Training models:  99%|███████████████████████████████████████████████████████████████████▎| 99/100 [12:18<00:07,  7.80s/station]"
     ]
    },
    {
     "name": "stdout",
     "output_type": "stream",
     "text": [
      "Cross-Validation Score for station 15070: -0.24194545631000658\n",
      "Mean Squared Error for station 15070: 0.029480371063729225\n",
      "Valid indices for station 21001: [765, 767]\n",
      "Valid indices for station 21001: [770, 768, 792, 765, 767]\n"
     ]
    },
    {
     "name": "stderr",
     "output_type": "stream",
     "text": [
      "Training models: 100%|███████████████████████████████████████████████████████████████████| 100/100 [12:26<00:00,  7.47s/station]"
     ]
    },
    {
     "name": "stdout",
     "output_type": "stream",
     "text": [
      "Cross-Validation Score for station 21001: -0.06203815797258797\n",
      "Mean Squared Error for station 21001: 0.030997853251783707\n"
     ]
    },
    {
     "name": "stderr",
     "output_type": "stream",
     "text": [
      "\n"
     ]
    },
    {
     "name": "stdout",
     "output_type": "stream",
     "text": [
      "Intermediate results saved for batch 12\n",
      "Training models...\n",
      "Columns after feature creation: Index(['stationcode', 'name', 'is_installed', 'capacity', 'numdocksavailable',\n",
      "       'numbikesavailable', 'mechanical', 'ebike', 'is_renting',\n",
      "       'is_returning', 'duedate', 'coordonnees_geo',\n",
      "       'nom_arrondissement_communes', 'date', 'lat', 'lon', 'hour',\n",
      "       'day_of_week', 'lag_1_hour', 'lag_1_day', 'rolling_mean_7_days',\n",
      "       'rolling_mean_30_days', 'normalized_bikes_available',\n",
      "       'normalized_docks_available', 'usage_ratio',\n",
      "       'capacity_hour_interaction', 'capacity_day_interaction',\n",
      "       'avg_bikes_hour_day'],\n",
      "      dtype='object')\n"
     ]
    },
    {
     "name": "stderr",
     "output_type": "stream",
     "text": [
      "Training models:   0%|                                                                             | 0/100 [00:00<?, ?station/s]"
     ]
    },
    {
     "name": "stdout",
     "output_type": "stream",
     "text": [
      "Valid indices for station 18033: [578, 584, 580, 577, 605, 586]\n",
      "Cross-Validation Score for station 18033: -0.12890128195710185\n"
     ]
    },
    {
     "name": "stderr",
     "output_type": "stream",
     "text": [
      "Training models:   1%|▋                                                                    | 1/100 [00:08<14:24,  8.73s/station]"
     ]
    },
    {
     "name": "stdout",
     "output_type": "stream",
     "text": [
      "Mean Squared Error for station 18033: 0.09144126621292356\n",
      "Valid indices for station 11010: [120, 131, 176, 81, 198, 82, 84, 86, 137, 136]\n"
     ]
    },
    {
     "name": "stderr",
     "output_type": "stream",
     "text": [
      "Training models:   2%|█▍                                                                   | 2/100 [00:14<11:15,  6.90s/station]"
     ]
    },
    {
     "name": "stdout",
     "output_type": "stream",
     "text": [
      "Cross-Validation Score for station 11010: -0.1354140356057592\n",
      "Mean Squared Error for station 11010: 0.02719526403944463\n",
      "Valid indices for station 16122: [481, 879]\n",
      "Valid indices for station 16122: [481, 880, 482, 879, 878, 877]\n"
     ]
    },
    {
     "name": "stderr",
     "output_type": "stream",
     "text": [
      "Training models:   3%|██                                                                   | 3/100 [00:20<10:38,  6.58s/station]"
     ]
    },
    {
     "name": "stdout",
     "output_type": "stream",
     "text": [
      "Cross-Validation Score for station 16122: -0.07755964133183811\n",
      "Mean Squared Error for station 16122: 0.028379252958579838\n",
      "Valid indices for station 21024: [778, 776, 787]\n",
      "Valid indices for station 21024: [790, 791, 779, 780, 788, 778, 795, 775, 776, 786, 781, 787, 769, 773, 768]\n"
     ]
    },
    {
     "name": "stderr",
     "output_type": "stream",
     "text": [
      "Training models:   4%|██▊                                                                  | 4/100 [00:27<10:41,  6.68s/station]"
     ]
    },
    {
     "name": "stdout",
     "output_type": "stream",
     "text": [
      "Cross-Validation Score for station 21024: -0.053526957659535856\n",
      "Mean Squared Error for station 21024: 0.009364516031182636\n",
      "Valid indices for station 18137: [573, 565, 574, 575, 606, 596, 608]\n"
     ]
    },
    {
     "name": "stderr",
     "output_type": "stream",
     "text": [
      "Training models:   5%|███▍                                                                 | 5/100 [00:34<10:59,  6.94s/station]"
     ]
    },
    {
     "name": "stdout",
     "output_type": "stream",
     "text": [
      "Cross-Validation Score for station 18137: -0.0735786435786436\n",
      "Mean Squared Error for station 18137: 0.46643301703907813\n",
      "Valid indices for station 11019: [127, 120, 81, 748, 89, 92, 122, 694]\n"
     ]
    },
    {
     "name": "stderr",
     "output_type": "stream",
     "text": [
      "Training models:   6%|████▏                                                                | 6/100 [00:41<10:36,  6.77s/station]"
     ]
    },
    {
     "name": "stdout",
     "output_type": "stream",
     "text": [
      "Cross-Validation Score for station 11019: -0.06686498439125907\n",
      "Mean Squared Error for station 11019: 0.04731945889698229\n",
      "Valid indices for station 47002: [1257]\n",
      "Valid indices for station 47002: [1257, 1258]\n",
      "Valid indices for station 47002: [1257, 1259, 1258]\n",
      "Valid indices for station 47002: [1256, 1262, 1257, 1259, 1258, 200, 1261]\n"
     ]
    },
    {
     "name": "stderr",
     "output_type": "stream",
     "text": [
      "Training models:   7%|████▊                                                                | 7/100 [00:47<10:12,  6.59s/station]"
     ]
    },
    {
     "name": "stdout",
     "output_type": "stream",
     "text": [
      "Cross-Validation Score for station 47002: -0.06205926901226437\n",
      "Mean Squared Error for station 47002: 0.07052392886979349\n",
      "Valid indices for station 23302: [947]\n",
      "Valid indices for station 23302: [947, 949]\n",
      "Valid indices for station 23302: [947, 949, 916, 946]\n",
      "Valid indices for station 23302: [947, 949, 948, 916, 918, 915, 946, 933, 891]\n",
      "Cross-Validation Score for station 23302: -0.15388775510204078\n"
     ]
    },
    {
     "name": "stderr",
     "output_type": "stream",
     "text": [
      "Training models:   8%|█████▌                                                               | 8/100 [00:55<10:36,  6.92s/station]"
     ]
    },
    {
     "name": "stdout",
     "output_type": "stream",
     "text": [
      "Mean Squared Error for station 23302: 0.21818658892128298\n",
      "Valid indices for station 8105: [1414, 1415, 1427, 1410, 1416, 1433, 1382, 1429, 1419, 1425, 1390]\n"
     ]
    },
    {
     "name": "stderr",
     "output_type": "stream",
     "text": [
      "Training models:   9%|██████▏                                                              | 9/100 [01:04<11:45,  7.76s/station]"
     ]
    },
    {
     "name": "stdout",
     "output_type": "stream",
     "text": [
      "Cross-Validation Score for station 8105: -0.11068069778110967\n",
      "Mean Squared Error for station 8105: 0.14728044639065357\n",
      "Out of bounds indices for station 9015: [1473, 1476, 1469]\n",
      "Max valid index: 1460\n",
      "Valid indices for station 9015: [1456, 1445, 1453, 1446, 1447, 1452, 1448, 1451]\n",
      "Cross-Validation Score for station 9015: -0.14757144204998315\n"
     ]
    },
    {
     "name": "stderr",
     "output_type": "stream",
     "text": [
      "Training models:  10%|██████▊                                                             | 10/100 [01:16<13:24,  8.94s/station]"
     ]
    },
    {
     "name": "stdout",
     "output_type": "stream",
     "text": [
      "Mean Squared Error for station 9015: 0.046490967156141365\n",
      "Valid indices for station 22017: [480, 886]\n",
      "Valid indices for station 22017: [482, 882, 480, 886, 885, 881, 429, 875]\n"
     ]
    },
    {
     "name": "stderr",
     "output_type": "stream",
     "text": [
      "Training models:  11%|███████▍                                                            | 11/100 [01:24<12:47,  8.62s/station]"
     ]
    },
    {
     "name": "stdout",
     "output_type": "stream",
     "text": [
      "Cross-Validation Score for station 22017: -0.17331278792576046\n",
      "Mean Squared Error for station 22017: 0.07206627936913523\n",
      "Valid indices for station 19021: [662, 632, 626, 627]\n",
      "Valid indices for station 19021: [679, 678, 640, 633, 625, 647, 664, 639, 669, 634, 654, 665, 662, 632, 635, 641, 626, 627, 629, 628, 671, 636]\n",
      "Cross-Validation Score for station 19021: -0.18636416614045231\n"
     ]
    },
    {
     "name": "stderr",
     "output_type": "stream",
     "text": [
      "Training models:  12%|████████▏                                                           | 12/100 [01:32<12:22,  8.44s/station]"
     ]
    },
    {
     "name": "stdout",
     "output_type": "stream",
     "text": [
      "Mean Squared Error for station 19021: 0.010189696179223561\n",
      "Valid indices for station 35008: [1117, 1114, 1113, 1119]\n",
      "Valid indices for station 35008: [1096, 1117, 1116, 1114, 1113, 1119, 1111, 1118, 1112, 1122]\n",
      "Cross-Validation Score for station 35008: -0.043504018529580996\n"
     ]
    },
    {
     "name": "stderr",
     "output_type": "stream",
     "text": [
      "Training models:  13%|████████▊                                                           | 13/100 [01:38<11:25,  7.88s/station]"
     ]
    },
    {
     "name": "stdout",
     "output_type": "stream",
     "text": [
      "Mean Squared Error for station 35008: 0.002720942858045625\n",
      "Valid indices for station 13022: [254, 226, 228, 216, 227]\n",
      "Cross-Validation Score for station 13022: -0.053443600819621226\n"
     ]
    },
    {
     "name": "stderr",
     "output_type": "stream",
     "text": [
      "Training models:  14%|█████████▌                                                          | 14/100 [01:48<12:05,  8.43s/station]"
     ]
    },
    {
     "name": "stdout",
     "output_type": "stream",
     "text": [
      "Mean Squared Error for station 13022: 0.02640736177001218\n",
      "Valid indices for station 21120: [801, 550, 815]\n",
      "Valid indices for station 21120: [801, 810, 803, 546, 536, 535, 550, 499, 802, 815, 806, 800, 807]\n"
     ]
    },
    {
     "name": "stderr",
     "output_type": "stream",
     "text": [
      "Training models:  15%|██████████▏                                                         | 15/100 [01:57<12:07,  8.56s/station]"
     ]
    },
    {
     "name": "stdout",
     "output_type": "stream",
     "text": [
      "Cross-Validation Score for station 21120: -0.12915086463154826\n",
      "Mean Squared Error for station 21120: 0.007565269533004135\n",
      "Valid indices for station 44103: [1260, 1247]\n",
      "Valid indices for station 44103: [1260, 1170, 1247, 1201, 1198, 1246, 188]\n"
     ]
    },
    {
     "name": "stderr",
     "output_type": "stream",
     "text": [
      "Training models:  16%|██████████▉                                                         | 16/100 [02:04<11:31,  8.23s/station]"
     ]
    },
    {
     "name": "stdout",
     "output_type": "stream",
     "text": [
      "Cross-Validation Score for station 44103: -0.02616849634822721\n",
      "Mean Squared Error for station 44103: 0.004900258879514374\n",
      "Valid indices for station 35004: [650, 1110, 1109, 1121]\n",
      "Valid indices for station 35004: [675, 650, 1125, 651, 1116, 1115, 1110, 1111, 1109, 1121]\n"
     ]
    },
    {
     "name": "stderr",
     "output_type": "stream",
     "text": [
      "Training models:  17%|███████████▌                                                        | 17/100 [02:12<11:13,  8.11s/station]"
     ]
    },
    {
     "name": "stdout",
     "output_type": "stream",
     "text": [
      "Cross-Validation Score for station 35004: -0.4984641218485407\n",
      "Mean Squared Error for station 35004: 0.18299801859472628\n",
      "Valid indices for station 35015: [1120]\n",
      "Valid indices for station 35015: [1120, 999]\n",
      "Valid indices for station 35015: [1120, 1090, 999]\n",
      "Valid indices for station 35015: [1106, 1121, 1120, 1090, 999]\n"
     ]
    },
    {
     "name": "stderr",
     "output_type": "stream",
     "text": [
      "Training models:  18%|████████████▏                                                       | 18/100 [02:19<10:30,  7.69s/station]"
     ]
    },
    {
     "name": "stdout",
     "output_type": "stream",
     "text": [
      "Cross-Validation Score for station 35015: -0.03255557929666517\n",
      "Mean Squared Error for station 35015: 0.033490218875108904\n",
      "Valid indices for station 15131: [422, 380, 381, 367, 366, 420, 368, 352]\n"
     ]
    },
    {
     "name": "stderr",
     "output_type": "stream",
     "text": [
      "Training models:  19%|████████████▉                                                       | 19/100 [02:25<09:53,  7.32s/station]"
     ]
    },
    {
     "name": "stdout",
     "output_type": "stream",
     "text": [
      "Cross-Validation Score for station 15131: -0.057929309912659835\n",
      "Mean Squared Error for station 15131: 0.022376432477313475\n",
      "Valid indices for station 21030: [768, 792, 767]\n",
      "Valid indices for station 21030: [770, 786, 769, 773, 772, 768, 792, 766, 765, 767]\n",
      "Cross-Validation Score for station 21030: -0.03458304429084195\n"
     ]
    },
    {
     "name": "stderr",
     "output_type": "stream",
     "text": [
      "Training models:  20%|█████████████▌                                                      | 20/100 [02:33<09:46,  7.33s/station]"
     ]
    },
    {
     "name": "stdout",
     "output_type": "stream",
     "text": [
      "Mean Squared Error for station 21030: 0.008891446709943083\n",
      "Valid indices for station 21702: [866, 865]\n",
      "Valid indices for station 21702: [867, 907, 866, 865, 869, 868, 905, 901, 870]\n"
     ]
    },
    {
     "name": "stderr",
     "output_type": "stream",
     "text": [
      "Training models:  21%|██████████████▎                                                     | 21/100 [02:39<09:15,  7.04s/station]"
     ]
    },
    {
     "name": "stdout",
     "output_type": "stream",
     "text": [
      "Cross-Validation Score for station 21702: -0.08514685972251848\n",
      "Mean Squared Error for station 21702: 0.05473305650051017\n",
      "Valid indices for station 32011: [1059]\n",
      "Valid indices for station 32011: [1056, 1059, 1062]\n",
      "Valid indices for station 32011: [1056, 1058, 1055, 1054, 1059, 1069, 1095, 1088, 1064, 1073, 1062]\n"
     ]
    },
    {
     "name": "stderr",
     "output_type": "stream",
     "text": [
      "Training models:  22%|██████████████▉                                                     | 22/100 [02:47<09:22,  7.21s/station]"
     ]
    },
    {
     "name": "stdout",
     "output_type": "stream",
     "text": [
      "Cross-Validation Score for station 32011: -0.14235558342068733\n",
      "Mean Squared Error for station 32011: 0.1689912341582115\n",
      "Valid indices for station 15022: [366, 368, 353, 354, 404, 355, 415]\n"
     ]
    },
    {
     "name": "stderr",
     "output_type": "stream",
     "text": [
      "Training models:  23%|███████████████▋                                                    | 23/100 [02:53<09:03,  7.05s/station]"
     ]
    },
    {
     "name": "stdout",
     "output_type": "stream",
     "text": [
      "Cross-Validation Score for station 15022: -0.0209929880740373\n",
      "Mean Squared Error for station 15022: 0.02845846204528934\n",
      "Valid indices for station 8037: [1405, 1407, 1398, 1399, 501, 530, 510]\n"
     ]
    },
    {
     "name": "stderr",
     "output_type": "stream",
     "text": [
      "Training models:  24%|████████████████▎                                                   | 24/100 [03:00<08:43,  6.89s/station]"
     ]
    },
    {
     "name": "stdout",
     "output_type": "stream",
     "text": [
      "Cross-Validation Score for station 8037: -0.17605366512709333\n",
      "Mean Squared Error for station 8037: 0.15036141111568635\n",
      "Valid indices for station 15011: [353, 355, 346, 345, 344]\n"
     ]
    },
    {
     "name": "stderr",
     "output_type": "stream",
     "text": [
      "Training models:  25%|█████████████████                                                   | 25/100 [03:06<08:14,  6.60s/station]"
     ]
    },
    {
     "name": "stdout",
     "output_type": "stream",
     "text": [
      "Cross-Validation Score for station 15011: -0.35931679816578344\n",
      "Mean Squared Error for station 15011: 0.3297003286427138\n",
      "Valid indices for station 32601: [706, 1078, 698, 1081]\n",
      "Valid indices for station 32601: [741, 645, 735, 1097, 706, 1052, 1124, 1078, 698, 1081, 1080]\n"
     ]
    },
    {
     "name": "stderr",
     "output_type": "stream",
     "text": [
      "Training models:  26%|█████████████████▋                                                  | 26/100 [03:12<07:54,  6.41s/station]"
     ]
    },
    {
     "name": "stdout",
     "output_type": "stream",
     "text": [
      "Cross-Validation Score for station 32601: -0.037594982157504425\n",
      "Mean Squared Error for station 32601: 0.019623633340652577\n",
      "Valid indices for station 8201: [1416, 1433, 1382, 1429, 1423, 1400, 1424, 527, 1422, 1431, 1419, 1420, 1421, 1425]\n",
      "Cross-Validation Score for station 8201: -0.25495578905510424\n"
     ]
    },
    {
     "name": "stderr",
     "output_type": "stream",
     "text": [
      "Training models:  27%|██████████████████▎                                                 | 27/100 [03:19<08:00,  6.59s/station]"
     ]
    },
    {
     "name": "stdout",
     "output_type": "stream",
     "text": [
      "Mean Squared Error for station 8201: 0.3724118308456003\n",
      "Valid indices for station 44011: [1238]\n",
      "Valid indices for station 44011: [1238]\n",
      "Valid indices for station 44011: [1240, 1241, 1237, 1238, 1234]\n"
     ]
    },
    {
     "name": "stderr",
     "output_type": "stream",
     "text": [
      "Training models:  28%|███████████████████                                                 | 28/100 [03:25<07:40,  6.40s/station]"
     ]
    },
    {
     "name": "stdout",
     "output_type": "stream",
     "text": [
      "Cross-Validation Score for station 44011: -0.052453437397104244\n",
      "Mean Squared Error for station 44011: 0.009354291721464257\n",
      "Valid indices for station 8027: [1407, 1398, 1399, 1394, 1395, 1428, 510, 1418]\n",
      "Cross-Validation Score for station 8027: -0.011193823808049393\n"
     ]
    },
    {
     "name": "stderr",
     "output_type": "stream",
     "text": [
      "Training models:  29%|███████████████████▋                                                | 29/100 [03:32<07:52,  6.66s/station]"
     ]
    },
    {
     "name": "stdout",
     "output_type": "stream",
     "text": [
      "Mean Squared Error for station 8027: 0.019657268889534785\n",
      "Valid indices for station 2112: [57, 132, 805, 726, 727, 814, 804, 1454, 744, 783, 747]\n"
     ]
    },
    {
     "name": "stderr",
     "output_type": "stream",
     "text": [
      "Training models:  30%|████████████████████▍                                               | 30/100 [03:38<07:27,  6.39s/station]"
     ]
    },
    {
     "name": "stdout",
     "output_type": "stream",
     "text": [
      "Cross-Validation Score for station 2112: -0.07411632062439688\n",
      "Mean Squared Error for station 2112: 0.017961734789622034\n",
      "Valid indices for station 16005: [471, 436, 430, 434, 470]\n"
     ]
    },
    {
     "name": "stderr",
     "output_type": "stream",
     "text": [
      "Training models:  31%|█████████████████████                                               | 31/100 [03:44<07:26,  6.47s/station]"
     ]
    },
    {
     "name": "stdout",
     "output_type": "stream",
     "text": [
      "Cross-Validation Score for station 16005: -0.075468378228418\n",
      "Mean Squared Error for station 16005: 0.009200558583274615\n",
      "Valid indices for station 16037: [459, 462, 457, 460]\n",
      "Valid indices for station 16037: [459, 462, 479, 464, 463, 461, 458, 457, 456, 477, 460, 455, 478]\n",
      "Cross-Validation Score for station 16037: -0.29141656947850836\n"
     ]
    },
    {
     "name": "stderr",
     "output_type": "stream",
     "text": [
      "Training models:  32%|█████████████████████▊                                              | 32/100 [03:51<07:30,  6.62s/station]"
     ]
    },
    {
     "name": "stdout",
     "output_type": "stream",
     "text": [
      "Mean Squared Error for station 16037: 0.2700891484742035\n",
      "Valid indices for station 18034: [579, 585, 601, 578, 605, 586]\n"
     ]
    },
    {
     "name": "stderr",
     "output_type": "stream",
     "text": [
      "Training models:  33%|██████████████████████▍                                             | 33/100 [03:58<07:31,  6.73s/station]"
     ]
    },
    {
     "name": "stdout",
     "output_type": "stream",
     "text": [
      "Cross-Validation Score for station 18034: -0.07397342835445002\n",
      "Mean Squared Error for station 18034: 0.07342765030129969\n",
      "Valid indices for station 12002: [192, 1131, 173, 193, 139, 138]\n",
      "Cross-Validation Score for station 12002: -0.025155198517722976\n"
     ]
    },
    {
     "name": "stderr",
     "output_type": "stream",
     "text": [
      "Training models:  34%|███████████████████████                                             | 34/100 [04:05<07:25,  6.75s/station]"
     ]
    },
    {
     "name": "stdout",
     "output_type": "stream",
     "text": [
      "Mean Squared Error for station 12002: 0.013702145390611497\n",
      "Valid indices for station 4014: [1138, 1139, 1146, 1142, 1137, 1144, 1010, 1009, 1135, 1136]\n",
      "Cross-Validation Score for station 4014: -0.06916435213138507\n"
     ]
    },
    {
     "name": "stderr",
     "output_type": "stream",
     "text": [
      "Training models:  35%|███████████████████████▊                                            | 35/100 [04:13<07:39,  7.06s/station]"
     ]
    },
    {
     "name": "stdout",
     "output_type": "stream",
     "text": [
      "Mean Squared Error for station 4014: 0.06645841145551971\n",
      "Valid indices for station 4012: [1138, 1146, 1137, 1132, 1134, 1135, 1136, 1133]\n"
     ]
    },
    {
     "name": "stderr",
     "output_type": "stream",
     "text": [
      "Training models:  36%|████████████████████████▍                                           | 36/100 [04:19<07:21,  6.90s/station]"
     ]
    },
    {
     "name": "stdout",
     "output_type": "stream",
     "text": [
      "Cross-Validation Score for station 4012: -0.07377636324518119\n",
      "Mean Squared Error for station 4012: 0.07709948107044821\n",
      "Valid indices for station 16044: [466]\n",
      "Valid indices for station 16044: [785, 782, 772, 766, 789, 784, 793, 462, 479, 466, 464, 458]\n",
      "Cross-Validation Score for station 16044: -0.09972494486416586\n"
     ]
    },
    {
     "name": "stderr",
     "output_type": "stream",
     "text": [
      "Training models:  37%|█████████████████████████▏                                          | 37/100 [04:26<07:14,  6.90s/station]"
     ]
    },
    {
     "name": "stdout",
     "output_type": "stream",
     "text": [
      "Mean Squared Error for station 16044: 0.0383355855890376\n",
      "Valid indices for station 1025: [145, 43, 51, 50, 73, 74, 72, 133]\n",
      "Cross-Validation Score for station 1025: -0.03127274689453711\n"
     ]
    },
    {
     "name": "stderr",
     "output_type": "stream",
     "text": [
      "Training models:  38%|█████████████████████████▊                                          | 38/100 [04:33<07:07,  6.89s/station]"
     ]
    },
    {
     "name": "stdout",
     "output_type": "stream",
     "text": [
      "Mean Squared Error for station 1025: 0.0020176214013923367\n",
      "Valid indices for station 23107: [939]\n",
      "Valid indices for station 23107: [934, 939]\n",
      "Valid indices for station 23107: [934, 939, 935, 964]\n",
      "Valid indices for station 23107: [951, 937, 934, 939, 935, 964]\n"
     ]
    },
    {
     "name": "stderr",
     "output_type": "stream",
     "text": [
      "Training models:  39%|██████████████████████████▌                                         | 39/100 [04:39<06:47,  6.69s/station]"
     ]
    },
    {
     "name": "stdout",
     "output_type": "stream",
     "text": [
      "Cross-Validation Score for station 23107: -0.01164695125885065\n",
      "Mean Squared Error for station 23107: 0.004287294315639164\n",
      "Valid indices for station 6201: [1354, 1376, 1349, 1351, 1346, 1347, 1321, 1320, 1329]\n"
     ]
    },
    {
     "name": "stderr",
     "output_type": "stream",
     "text": [
      "Training models:  40%|███████████████████████████▏                                        | 40/100 [04:46<06:38,  6.64s/station]"
     ]
    },
    {
     "name": "stdout",
     "output_type": "stream",
     "text": [
      "Cross-Validation Score for station 6201: -0.06522780078450664\n",
      "Mean Squared Error for station 6201: 0.02315930283497093\n",
      "Valid indices for station 23042: [933, 932]\n",
      "Valid indices for station 23042: [933, 950, 932]\n",
      "Valid indices for station 23042: [946, 933, 893, 891, 950, 932]\n"
     ]
    },
    {
     "name": "stderr",
     "output_type": "stream",
     "text": [
      "Training models:  41%|███████████████████████████▉                                        | 41/100 [04:52<06:13,  6.33s/station]"
     ]
    },
    {
     "name": "stdout",
     "output_type": "stream",
     "text": [
      "Cross-Validation Score for station 23042: -0.09174080584904236\n",
      "Mean Squared Error for station 23042: 0.1453725471964651\n",
      "Valid indices for station 13202: [273, 248, 253]\n",
      "Valid indices for station 13202: [265, 245, 244, 250, 251, 252, 266, 273, 248, 267, 253, 221, 163]\n"
     ]
    },
    {
     "name": "stderr",
     "output_type": "stream",
     "text": [
      "Training models:  42%|████████████████████████████▌                                       | 42/100 [04:58<06:02,  6.25s/station]"
     ]
    },
    {
     "name": "stdout",
     "output_type": "stream",
     "text": [
      "Cross-Validation Score for station 13202: -0.09949436570103487\n",
      "Mean Squared Error for station 13202: 0.03638402508670989\n",
      "Valid indices for station 44008: [1237]\n",
      "Valid indices for station 44008: [1242, 1243, 1237, 1236]\n",
      "Valid indices for station 44008: [1242, 1243, 1237, 1238, 1236, 1232, 1234, 1233]\n"
     ]
    },
    {
     "name": "stderr",
     "output_type": "stream",
     "text": [
      "Training models:  43%|█████████████████████████████▏                                      | 43/100 [05:04<06:03,  6.38s/station]"
     ]
    },
    {
     "name": "stdout",
     "output_type": "stream",
     "text": [
      "Cross-Validation Score for station 44008: -0.09316580829344952\n",
      "Mean Squared Error for station 44008: 0.005827358693293281\n",
      "Valid indices for station 32605: [1078, 1081, 1080]\n",
      "Valid indices for station 32605: [706, 1052, 1124, 1078, 698, 1047, 1081, 1079, 1080]\n"
     ]
    },
    {
     "name": "stderr",
     "output_type": "stream",
     "text": [
      "Training models:  44%|█████████████████████████████▉                                      | 44/100 [05:10<05:53,  6.32s/station]"
     ]
    },
    {
     "name": "stdout",
     "output_type": "stream",
     "text": [
      "Cross-Validation Score for station 32605: -0.14150042846132108\n",
      "Mean Squared Error for station 32605: 0.01589427828494886\n",
      "Out of bounds indices for station 8202: [1464, 1466]\n",
      "Max valid index: 1460\n",
      "Valid indices for station 8202: [1384, 1393, 1395, 1385, 1428, 1388, 1432, 1387, 1386, 1381]\n"
     ]
    },
    {
     "name": "stderr",
     "output_type": "stream",
     "text": [
      "Training models:  45%|██████████████████████████████▌                                     | 45/100 [05:17<05:55,  6.47s/station]"
     ]
    },
    {
     "name": "stdout",
     "output_type": "stream",
     "text": [
      "Cross-Validation Score for station 8202: -0.1344079698330251\n",
      "Mean Squared Error for station 8202: 0.060099317191818304\n",
      "Valid indices for station 23206: [945, 941]\n",
      "Valid indices for station 23206: [942, 945, 941, 943]\n",
      "Valid indices for station 23206: [918, 944, 942, 945, 941, 943, 864, 907]\n",
      "Cross-Validation Score for station 23206: -0.04521370571147596\n"
     ]
    },
    {
     "name": "stderr",
     "output_type": "stream",
     "text": [
      "Training models:  46%|███████████████████████████████▎                                    | 46/100 [05:25<06:04,  6.76s/station]"
     ]
    },
    {
     "name": "stdout",
     "output_type": "stream",
     "text": [
      "Mean Squared Error for station 23206: 0.0029216379918715774\n",
      "Valid indices for station 42030: [1180, 1188, 1197]\n",
      "Valid indices for station 42030: [1181, 1180, 1188, 1197, 1202]\n"
     ]
    },
    {
     "name": "stderr",
     "output_type": "stream",
     "text": [
      "Training models:  47%|███████████████████████████████▉                                    | 47/100 [05:32<06:00,  6.81s/station]"
     ]
    },
    {
     "name": "stdout",
     "output_type": "stream",
     "text": [
      "Cross-Validation Score for station 42030: -0.22745388131115912\n",
      "Mean Squared Error for station 42030: 0.06575865606432736\n",
      "Valid indices for station 15203: [389, 405, 425, 418]\n",
      "Valid indices for station 15203: [840, 389, 408, 383, 405, 870, 376, 375, 423, 425, 418, 409, 422, 379, 382, 364, 395, 381]\n"
     ]
    },
    {
     "name": "stderr",
     "output_type": "stream",
     "text": [
      "Training models:  48%|████████████████████████████████▋                                   | 48/100 [05:38<05:39,  6.53s/station]"
     ]
    },
    {
     "name": "stdout",
     "output_type": "stream",
     "text": [
      "Cross-Validation Score for station 15203: -0.3571516353882148\n",
      "Mean Squared Error for station 15203: 0.02717742666412021\n",
      "Valid indices for station 25007: [971]\n",
      "Valid indices for station 25007: [971, 972]\n",
      "Valid indices for station 25007: [969, 971, 970, 972, 863]\n"
     ]
    },
    {
     "name": "stderr",
     "output_type": "stream",
     "text": [
      "Training models:  49%|█████████████████████████████████▎                                  | 49/100 [05:44<05:34,  6.56s/station]"
     ]
    },
    {
     "name": "stdout",
     "output_type": "stream",
     "text": [
      "Cross-Validation Score for station 25007: -0.02072783259371703\n",
      "Mean Squared Error for station 25007: 0.011583713398109591\n",
      "Valid indices for station 30003: [997]\n",
      "Valid indices for station 30003: [997, 1044]\n",
      "Valid indices for station 30003: [997, 1044]\n",
      "Valid indices for station 30003: [996, 997, 1044, 1043]\n"
     ]
    },
    {
     "name": "stderr",
     "output_type": "stream",
     "text": [
      "/Users/anthonybellon/Comp_Documents/VelibVisualisation/scripts/train_model.py:103: SettingWithCopyWarning: \n",
      "A value is trying to be set on a copy of a slice from a DataFrame.\n",
      "Try using .loc[row_indexer,col_indexer] = value instead\n",
      "\n",
      "See the caveats in the documentation: https://pandas.pydata.org/pandas-docs/stable/user_guide/indexing.html#returning-a-view-versus-a-copy\n",
      "  \n",
      "Training models:  50%|██████████████████████████████████                                  | 50/100 [05:50<05:18,  6.38s/station]"
     ]
    },
    {
     "name": "stdout",
     "output_type": "stream",
     "text": [
      "Cross-Validation Score for station 30003: -0.06998804931032579\n",
      "Mean Squared Error for station 30003: 0.00978256226237769\n",
      "Valid indices for station 22701: [919]\n",
      "Valid indices for station 22701: [981, 982, 919, 920]\n",
      "Valid indices for station 22701: [913, 981, 982, 960, 919, 992, 920, 985, 977]\n"
     ]
    },
    {
     "name": "stderr",
     "output_type": "stream",
     "text": [
      "Training models:  51%|██████████████████████████████████▋                                 | 51/100 [05:57<05:13,  6.40s/station]"
     ]
    },
    {
     "name": "stdout",
     "output_type": "stream",
     "text": [
      "Cross-Validation Score for station 22701: -0.14132943581345822\n",
      "Mean Squared Error for station 22701: 0.053270800105946016\n",
      "Valid indices for station 21511: [862]\n",
      "Valid indices for station 21511: [889, 854, 862]\n",
      "Valid indices for station 21511: [889, 888, 861, 860, 858, 854, 862, 855]\n"
     ]
    },
    {
     "name": "stderr",
     "output_type": "stream",
     "text": [
      "Training models:  52%|███████████████████████████████████▎                                | 52/100 [06:03<05:09,  6.45s/station]"
     ]
    },
    {
     "name": "stdout",
     "output_type": "stream",
     "text": [
      "Cross-Validation Score for station 21511: -0.4375128374051366\n",
      "Mean Squared Error for station 21511: 0.2732175308366623\n",
      "Valid indices for station 1201: [8, 145, 43, 51, 50, 73, 74, 72, 133]\n"
     ]
    },
    {
     "name": "stderr",
     "output_type": "stream",
     "text": [
      "Training models:  53%|████████████████████████████████████                                | 53/100 [06:09<05:01,  6.41s/station]"
     ]
    },
    {
     "name": "stdout",
     "output_type": "stream",
     "text": [
      "Cross-Validation Score for station 1201: -0.07291249450173971\n",
      "Mean Squared Error for station 1201: 0.06439052146581631\n",
      "Valid indices for station 21510: [861, 860]\n",
      "Valid indices for station 21510: [861, 860, 858, 854, 855]\n"
     ]
    },
    {
     "name": "stderr",
     "output_type": "stream",
     "text": [
      "Training models:  54%|████████████████████████████████████▋                               | 54/100 [06:15<04:45,  6.22s/station]"
     ]
    },
    {
     "name": "stdout",
     "output_type": "stream",
     "text": [
      "Cross-Validation Score for station 21510: -0.005353468547912994\n",
      "Mean Squared Error for station 21510: 0.0032823829120125444\n",
      "Valid indices for station 51007: [1303]\n",
      "Valid indices for station 51007: [1303]\n",
      "Valid indices for station 51007: [1303]\n",
      "Valid indices for station 51007: [1301, 1303]\n"
     ]
    },
    {
     "name": "stderr",
     "output_type": "stream",
     "text": [
      "/Users/anthonybellon/Comp_Documents/VelibVisualisation/scripts/train_model.py:103: SettingWithCopyWarning: \n",
      "A value is trying to be set on a copy of a slice from a DataFrame.\n",
      "Try using .loc[row_indexer,col_indexer] = value instead\n",
      "\n",
      "See the caveats in the documentation: https://pandas.pydata.org/pandas-docs/stable/user_guide/indexing.html#returning-a-view-versus-a-copy\n",
      "  \n",
      "Training models:  55%|█████████████████████████████████████▍                              | 55/100 [06:22<04:44,  6.31s/station]"
     ]
    },
    {
     "name": "stdout",
     "output_type": "stream",
     "text": [
      "Cross-Validation Score for station 51007: -0.06555039310476656\n",
      "Mean Squared Error for station 51007: 0.0376160780225062\n",
      "Valid indices for station 21033: [788, 795]\n",
      "Valid indices for station 21033: [936, 791, 788, 771, 794, 795, 775, 776, 786, 787]\n"
     ]
    },
    {
     "name": "stderr",
     "output_type": "stream",
     "text": [
      "Training models:  56%|██████████████████████████████████████                              | 56/100 [06:28<04:42,  6.43s/station]"
     ]
    },
    {
     "name": "stdout",
     "output_type": "stream",
     "text": [
      "Cross-Validation Score for station 21033: -0.08605849180320282\n",
      "Mean Squared Error for station 21033: 0.00028490739695577873\n",
      "Valid indices for station 22703: [920, 985]\n",
      "Valid indices for station 22703: [919, 920, 985]\n",
      "Valid indices for station 22703: [982, 919, 992, 920, 985, 977]\n"
     ]
    },
    {
     "name": "stderr",
     "output_type": "stream",
     "text": [
      "Training models:  57%|██████████████████████████████████████▊                             | 57/100 [06:35<04:39,  6.49s/station]"
     ]
    },
    {
     "name": "stdout",
     "output_type": "stream",
     "text": [
      "Cross-Validation Score for station 22703: -0.08833185147869041\n",
      "Mean Squared Error for station 22703: 0.012482088934510076\n",
      "Valid indices for station 24010: [962, 957, 963]\n",
      "Valid indices for station 24010: [962, 957, 963]\n",
      "Valid indices for station 24010: [995, 994, 910, 912, 962, 958, 957, 963, 911]\n"
     ]
    },
    {
     "name": "stderr",
     "output_type": "stream",
     "text": [
      "Training models:  58%|███████████████████████████████████████▍                            | 58/100 [06:42<04:43,  6.75s/station]"
     ]
    },
    {
     "name": "stdout",
     "output_type": "stream",
     "text": [
      "Cross-Validation Score for station 24010: -0.06408638885362644\n",
      "Mean Squared Error for station 24010: 0.039038971260988285\n",
      "Valid indices for station 25009: [966, 973]\n",
      "Valid indices for station 25009: [966, 973]\n",
      "Valid indices for station 25009: [966, 973, 969, 965]\n",
      "Out of bounds indices for station 25009: [1482]\n",
      "Max valid index: 1460\n",
      "Valid indices for station 25009: [966, 973, 969, 971, 965, 967]\n"
     ]
    },
    {
     "name": "stderr",
     "output_type": "stream",
     "text": [
      "Training models:  59%|████████████████████████████████████████                            | 59/100 [06:50<04:46,  7.00s/station]"
     ]
    },
    {
     "name": "stdout",
     "output_type": "stream",
     "text": [
      "Cross-Validation Score for station 25009: -0.007358424433866158\n",
      "Mean Squared Error for station 25009: 0.001909643841608928\n",
      "Valid indices for station 16140: [488]\n",
      "Valid indices for station 16140: [488]\n",
      "Valid indices for station 16140: [488]\n",
      "Valid indices for station 16140: [765, 486, 854, 862, 855, 859, 488, 993, 483]\n"
     ]
    },
    {
     "name": "stderr",
     "output_type": "stream",
     "text": [
      "Training models:  60%|████████████████████████████████████████▊                           | 60/100 [06:57<04:35,  6.88s/station]"
     ]
    },
    {
     "name": "stdout",
     "output_type": "stream",
     "text": [
      "Cross-Validation Score for station 16140: -0.06022688410638164\n",
      "Mean Squared Error for station 16140: 0.22763547181563387\n",
      "Valid indices for station 23106: [938]\n",
      "Valid indices for station 23106: [938]\n",
      "Valid indices for station 23106: [938, 937, 934, 935]\n",
      "Valid indices for station 23106: [938, 937, 934, 935]\n"
     ]
    },
    {
     "name": "stderr",
     "output_type": "stream",
     "text": [
      "/Users/anthonybellon/Comp_Documents/VelibVisualisation/scripts/train_model.py:103: SettingWithCopyWarning: \n",
      "A value is trying to be set on a copy of a slice from a DataFrame.\n",
      "Try using .loc[row_indexer,col_indexer] = value instead\n",
      "\n",
      "See the caveats in the documentation: https://pandas.pydata.org/pandas-docs/stable/user_guide/indexing.html#returning-a-view-versus-a-copy\n",
      "  \n",
      "Training models:  61%|█████████████████████████████████████████▍                          | 61/100 [07:03<04:25,  6.80s/station]"
     ]
    },
    {
     "name": "stdout",
     "output_type": "stream",
     "text": [
      "Cross-Validation Score for station 23106: -0.006758918642393514\n",
      "Mean Squared Error for station 23106: 0.0013827085048010983\n",
      "Valid indices for station 22302: [897]\n",
      "Valid indices for station 22302: [897]\n",
      "Valid indices for station 22302: [899, 897]\n",
      "Valid indices for station 22302: [900, 896, 899, 898, 984, 897, 978]\n"
     ]
    },
    {
     "name": "stderr",
     "output_type": "stream",
     "text": [
      "Training models:  62%|██████████████████████████████████████████▏                         | 62/100 [07:10<04:22,  6.91s/station]"
     ]
    },
    {
     "name": "stdout",
     "output_type": "stream",
     "text": [
      "Cross-Validation Score for station 22302: -0.19506956576635243\n",
      "Mean Squared Error for station 22302: 0.25222254700911784\n",
      "Valid indices for station 41212: [1165, 1227]\n",
      "Valid indices for station 41212: [1225, 1165, 1227, 1226, 1156, 1020, 1021]\n"
     ]
    },
    {
     "name": "stderr",
     "output_type": "stream",
     "text": [
      "Training models:  63%|██████████████████████████████████████████▊                         | 63/100 [07:17<04:13,  6.84s/station]"
     ]
    },
    {
     "name": "stdout",
     "output_type": "stream",
     "text": [
      "Cross-Validation Score for station 41212: -0.03620440318342768\n",
      "Mean Squared Error for station 41212: 0.011044663929740399\n",
      "Valid indices for station 41304: [1169]\n",
      "Valid indices for station 41304: [1169, 1168]\n",
      "Valid indices for station 41304: [1167, 1169, 1168, 1252]\n",
      "Valid indices for station 41304: [1167, 1249, 1169, 1168, 1252]\n",
      "Cross-Validation Score for station 41304: -0.022069808445102826\n"
     ]
    },
    {
     "name": "stderr",
     "output_type": "stream",
     "text": [
      "Training models:  64%|███████████████████████████████████████████▌                        | 64/100 [07:25<04:13,  7.03s/station]"
     ]
    },
    {
     "name": "stdout",
     "output_type": "stream",
     "text": [
      "Mean Squared Error for station 41304: 0.00990390586118007\n",
      "Valid indices for station 8031: [1390, 1409, 1401, 1402, 1417, 1403]\n"
     ]
    },
    {
     "name": "stderr",
     "output_type": "stream",
     "text": [
      "Training models:  65%|████████████████████████████████████████████▏                       | 65/100 [07:32<04:07,  7.08s/station]"
     ]
    },
    {
     "name": "stdout",
     "output_type": "stream",
     "text": [
      "Cross-Validation Score for station 8031: -0.24343700454395228\n",
      "Mean Squared Error for station 8031: 0.0878687818454983\n",
      "Valid indices for station 22208: [820, 894]\n",
      "Valid indices for station 22208: [895, 820, 894, 816, 824, 819, 826, 817]\n"
     ]
    },
    {
     "name": "stderr",
     "output_type": "stream",
     "text": [
      "Training models:  66%|████████████████████████████████████████████▉                       | 66/100 [07:39<04:02,  7.12s/station]"
     ]
    },
    {
     "name": "stdout",
     "output_type": "stream",
     "text": [
      "Cross-Validation Score for station 22208: -0.04138270919950541\n",
      "Mean Squared Error for station 22208: 0.0057734088716027065\n",
      "Valid indices for station 18203: [594, 569, 614, 494, 544, 490]\n"
     ]
    },
    {
     "name": "stderr",
     "output_type": "stream",
     "text": [
      "Training models:  67%|█████████████████████████████████████████████▌                      | 67/100 [07:45<03:45,  6.82s/station]"
     ]
    },
    {
     "name": "stdout",
     "output_type": "stream",
     "text": [
      "Cross-Validation Score for station 18203: 0.0\n",
      "Mean Squared Error for station 18203: 0.0\n",
      "Valid indices for station 25010: [974]\n",
      "Valid indices for station 25010: [974, 970]\n",
      "Valid indices for station 25010: [974, 969, 970]\n",
      "Valid indices for station 25010: [974, 969, 971, 970, 972, 863, 856]\n"
     ]
    },
    {
     "name": "stderr",
     "output_type": "stream",
     "text": [
      "Training models:  68%|██████████████████████████████████████████████▏                     | 68/100 [07:51<03:29,  6.55s/station]"
     ]
    },
    {
     "name": "stdout",
     "output_type": "stream",
     "text": [
      "Cross-Validation Score for station 25010: -0.01410968969759194\n",
      "Mean Squared Error for station 25010: 0.06791878198333466\n",
      "Valid indices for station 32305: [1077, 1074]\n",
      "Valid indices for station 32305: [1079, 1077, 1074]\n",
      "Valid indices for station 32305: [1048, 1047, 1079, 1080, 1077, 1074, 1076]\n"
     ]
    },
    {
     "name": "stderr",
     "output_type": "stream",
     "text": [
      "Training models:  69%|██████████████████████████████████████████████▉                     | 69/100 [07:57<03:20,  6.47s/station]"
     ]
    },
    {
     "name": "stdout",
     "output_type": "stream",
     "text": [
      "Cross-Validation Score for station 32305: -0.03866292395094239\n",
      "Mean Squared Error for station 32305: 0.01537698412698412\n",
      "Valid indices for station 32023: [1071]\n",
      "Valid indices for station 32023: [1067, 1065, 1061, 1070, 1071]\n"
     ]
    },
    {
     "name": "stderr",
     "output_type": "stream",
     "text": [
      "Training models:  70%|███████████████████████████████████████████████▌                    | 70/100 [08:04<03:15,  6.51s/station]"
     ]
    },
    {
     "name": "stdout",
     "output_type": "stream",
     "text": [
      "Cross-Validation Score for station 32023: -0.029533570043914454\n",
      "Mean Squared Error for station 32023: 0.00955396902525169\n",
      "Valid indices for station 23201: [940, 822, 821]\n",
      "Valid indices for station 23201: [905, 940, 822, 821, 818, 906]\n",
      "Cross-Validation Score for station 23201: -0.2088586425670111\n"
     ]
    },
    {
     "name": "stderr",
     "output_type": "stream",
     "text": [
      "Training models:  71%|████████████████████████████████████████████████▎                   | 71/100 [08:11<03:15,  6.74s/station]"
     ]
    },
    {
     "name": "stdout",
     "output_type": "stream",
     "text": [
      "Mean Squared Error for station 23201: 0.1281522256407416\n",
      "Valid indices for station 23203: [942]\n",
      "Valid indices for station 23203: [918, 944, 942, 945, 941]\n"
     ]
    },
    {
     "name": "stderr",
     "output_type": "stream",
     "text": [
      "Training models:  72%|████████████████████████████████████████████████▉                   | 72/100 [08:18<03:06,  6.67s/station]"
     ]
    },
    {
     "name": "stdout",
     "output_type": "stream",
     "text": [
      "Cross-Validation Score for station 23203: -0.0684948979591837\n",
      "Mean Squared Error for station 23203: 1.8950710641399415\n",
      "Valid indices for station 34005: [1099]\n",
      "Valid indices for station 34005: [581, 583, 582, 596, 609, 604, 613, 608, 1099]\n",
      "Cross-Validation Score for station 34005: -0.06289562612780944\n"
     ]
    },
    {
     "name": "stderr",
     "output_type": "stream",
     "text": [
      "Training models:  73%|█████████████████████████████████████████████████▋                  | 73/100 [08:25<03:07,  6.96s/station]"
     ]
    },
    {
     "name": "stdout",
     "output_type": "stream",
     "text": [
      "Mean Squared Error for station 34005: 0.030354870268782468\n",
      "Valid indices for station 26008: [982]\n",
      "Valid indices for station 26008: [981, 982, 960, 919]\n",
      "Valid indices for station 26008: [959, 961, 981, 982, 960, 919, 920, 985, 975, 977]\n"
     ]
    },
    {
     "name": "stderr",
     "output_type": "stream",
     "text": [
      "Training models:  74%|██████████████████████████████████████████████████▎                 | 74/100 [08:32<03:01,  6.99s/station]"
     ]
    },
    {
     "name": "stdout",
     "output_type": "stream",
     "text": [
      "Cross-Validation Score for station 26008: -0.09650546031523857\n",
      "Mean Squared Error for station 26008: 0.04817500087639143\n",
      "Valid indices for station 26009: [987, 983, 980]\n",
      "Valid indices for station 26009: [809, 979, 987, 983, 980, 900]\n",
      "Cross-Validation Score for station 26009: -0.05654182532979035\n"
     ]
    },
    {
     "name": "stderr",
     "output_type": "stream",
     "text": [
      "Training models:  75%|███████████████████████████████████████████████████                 | 75/100 [08:40<02:57,  7.10s/station]"
     ]
    },
    {
     "name": "stdout",
     "output_type": "stream",
     "text": [
      "Mean Squared Error for station 26009: 0.04498277528754611\n",
      "Valid indices for station 34008: [1098, 1100]\n",
      "Valid indices for station 34008: [526, 601, 547, 1098, 586, 1100, 1102]\n"
     ]
    },
    {
     "name": "stderr",
     "output_type": "stream",
     "text": [
      "Training models:  76%|███████████████████████████████████████████████████▋                | 76/100 [08:47<02:49,  7.06s/station]"
     ]
    },
    {
     "name": "stdout",
     "output_type": "stream",
     "text": [
      "Cross-Validation Score for station 34008: -0.11884782393759448\n",
      "Mean Squared Error for station 34008: 0.08020338640530045\n",
      "Valid indices for station 23204: [943]\n",
      "Valid indices for station 23204: [945, 941, 943, 864, 907]\n",
      "Cross-Validation Score for station 23204: -0.04355082578444948\n"
     ]
    },
    {
     "name": "stderr",
     "output_type": "stream",
     "text": [
      "Training models:  77%|████████████████████████████████████████████████████▎               | 77/100 [08:54<02:41,  7.02s/station]"
     ]
    },
    {
     "name": "stdout",
     "output_type": "stream",
     "text": [
      "Mean Squared Error for station 23204: 0.01800647244707223\n",
      "Valid indices for station 31301: [1043]\n",
      "Valid indices for station 31301: [1043]\n",
      "Valid indices for station 31301: [996, 1044, 1043]\n",
      "Valid indices for station 31301: [1000, 996, 997, 1044, 1043]\n",
      "Cross-Validation Score for station 31301: -0.08412374532772057\n"
     ]
    },
    {
     "name": "stderr",
     "output_type": "stream",
     "text": [
      "Training models:  78%|█████████████████████████████████████████████████████               | 78/100 [09:01<02:39,  7.24s/station]"
     ]
    },
    {
     "name": "stdout",
     "output_type": "stream",
     "text": [
      "Mean Squared Error for station 31301: 0.050216618398436566\n",
      "Valid indices for station 21514: [863]\n",
      "Valid indices for station 21514: [970, 972, 863, 856]\n",
      "Valid indices for station 21514: [971, 970, 972, 863, 856]\n",
      "Cross-Validation Score for station 21514: -0.009156999420748017\n"
     ]
    },
    {
     "name": "stderr",
     "output_type": "stream",
     "text": [
      "Training models:  79%|█████████████████████████████████████████████████████▋              | 79/100 [09:09<02:32,  7.25s/station]"
     ]
    },
    {
     "name": "stdout",
     "output_type": "stream",
     "text": [
      "Mean Squared Error for station 21514: 0.00013992741265468538\n",
      "Valid indices for station 13203: [233, 258, 217, 236, 274]\n",
      "Cross-Validation Score for station 13203: -0.1560231318151247\n"
     ]
    },
    {
     "name": "stderr",
     "output_type": "stream",
     "text": [
      "Training models:  80%|██████████████████████████████████████████████████████▍             | 80/100 [09:16<02:26,  7.34s/station]"
     ]
    },
    {
     "name": "stdout",
     "output_type": "stream",
     "text": [
      "Mean Squared Error for station 13203: 0.10343950133349401\n",
      "Out of bounds indices for station 18041: [1476]\n",
      "Max valid index: 1460\n",
      "Valid indices for station 18041: [1448, 1451, 1449, 557, 588, 1450, 589, 556, 1440, 1437, 558]\n"
     ]
    },
    {
     "name": "stderr",
     "output_type": "stream",
     "text": [
      "Training models:  81%|███████████████████████████████████████████████████████             | 81/100 [09:23<02:16,  7.20s/station]"
     ]
    },
    {
     "name": "stdout",
     "output_type": "stream",
     "text": [
      "Cross-Validation Score for station 18041: -0.13660860896082566\n",
      "Mean Squared Error for station 18041: 0.026502267573696104\n",
      "Valid indices for station 11009: [127, 120, 131, 81, 82, 84, 86, 89]\n",
      "Cross-Validation Score for station 11009: -0.02582078430862141\n"
     ]
    },
    {
     "name": "stderr",
     "output_type": "stream",
     "text": [
      "Training models:  82%|███████████████████████████████████████████████████████▊            | 82/100 [09:32<02:16,  7.61s/station]"
     ]
    },
    {
     "name": "stdout",
     "output_type": "stream",
     "text": [
      "Mean Squared Error for station 11009: 0.08830630466472296\n",
      "Valid indices for station 23011: [534, 517, 931, 929]\n",
      "Valid indices for station 23011: [881, 883, 551, 523, 525, 533, 524, 534, 553, 517, 931, 929, 927, 928, 930]\n",
      "Cross-Validation Score for station 23011: -0.05461485100514154\n"
     ]
    },
    {
     "name": "stderr",
     "output_type": "stream",
     "text": [
      "Training models:  83%|████████████████████████████████████████████████████████▍           | 83/100 [09:39<02:07,  7.49s/station]"
     ]
    },
    {
     "name": "stdout",
     "output_type": "stream",
     "text": [
      "Mean Squared Error for station 23011: 0.020017933464733028\n",
      "Valid indices for station 21313: [413, 416, 838, 840]\n",
      "Valid indices for station 21313: [837, 373, 413, 385, 402, 416, 384, 838, 840, 389, 408, 383, 405, 425, 401, 396, 364]\n"
     ]
    },
    {
     "name": "stderr",
     "output_type": "stream",
     "text": [
      "Training models:  84%|█████████████████████████████████████████████████████████           | 84/100 [09:46<01:56,  7.29s/station]"
     ]
    },
    {
     "name": "stdout",
     "output_type": "stream",
     "text": [
      "Cross-Validation Score for station 21313: -0.15851254339937867\n",
      "Mean Squared Error for station 21313: 0.019780636492162357\n",
      "Valid indices for station 5021: [1308, 1294, 1311, 1288, 1287, 1284, 1286, 1285, 1307]\n",
      "Cross-Validation Score for station 5021: -0.17413799125080529\n"
     ]
    },
    {
     "name": "stderr",
     "output_type": "stream",
     "text": [
      "Training models:  85%|█████████████████████████████████████████████████████████▊          | 85/100 [09:54<01:54,  7.66s/station]"
     ]
    },
    {
     "name": "stdout",
     "output_type": "stream",
     "text": [
      "Mean Squared Error for station 5021: 0.06666879947608159\n",
      "Valid indices for station 5121: [1279, 1275, 1315, 1274, 1312, 1284, 1296, 1126, 1127, 1128]\n"
     ]
    },
    {
     "name": "stderr",
     "output_type": "stream",
     "text": [
      "Training models:  86%|██████████████████████████████████████████████████████████▍         | 86/100 [10:01<01:44,  7.47s/station]"
     ]
    },
    {
     "name": "stdout",
     "output_type": "stream",
     "text": [
      "Cross-Validation Score for station 5121: -0.08431328534881997\n",
      "Mean Squared Error for station 5121: 0.2347693700171258\n",
      "Valid indices for station 7101: [1353, 1340, 1355, 1339, 1354, 1376, 1349, 1351, 1347, 1321]\n"
     ]
    },
    {
     "name": "stderr",
     "output_type": "stream",
     "text": [
      "Training models:  87%|███████████████████████████████████████████████████████████▏        | 87/100 [10:08<01:35,  7.35s/station]"
     ]
    },
    {
     "name": "stdout",
     "output_type": "stream",
     "text": [
      "Cross-Validation Score for station 7101: -0.4964560357275797\n",
      "Mean Squared Error for station 7101: 0.35367875149266864\n",
      "Valid indices for station 13041: [239, 264, 262, 240, 263]\n"
     ]
    },
    {
     "name": "stderr",
     "output_type": "stream",
     "text": [
      "Training models:  88%|███████████████████████████████████████████████████████████▊        | 88/100 [10:15<01:25,  7.10s/station]"
     ]
    },
    {
     "name": "stdout",
     "output_type": "stream",
     "text": [
      "Cross-Validation Score for station 13041: -0.3517577761654948\n",
      "Mean Squared Error for station 13041: 0.09149340983251025\n",
      "Valid indices for station 13019: [220, 249, 247, 224, 225, 268, 272]\n"
     ]
    },
    {
     "name": "stderr",
     "output_type": "stream",
     "text": [
      "Training models:  89%|████████████████████████████████████████████████████████████▌       | 89/100 [10:21<01:14,  6.81s/station]"
     ]
    },
    {
     "name": "stdout",
     "output_type": "stream",
     "text": [
      "Cross-Validation Score for station 13019: -0.10600346058084269\n",
      "Mean Squared Error for station 13019: 0.07017379986407232\n",
      "Valid indices for station 22012: [885, 881]\n",
      "Valid indices for station 22012: [480, 886, 885, 881, 429, 883, 467, 551, 525, 533, 534, 931]\n",
      "Cross-Validation Score for station 22012: -0.27227621116437273\n"
     ]
    },
    {
     "name": "stderr",
     "output_type": "stream",
     "text": [
      "Training models:  90%|█████████████████████████████████████████████████████████████▏      | 90/100 [10:28<01:10,  7.02s/station]"
     ]
    },
    {
     "name": "stdout",
     "output_type": "stream",
     "text": [
      "Mean Squared Error for station 22012: 0.10294075120629252\n",
      "Valid indices for station 11048: [119, 80, 118, 124, 128, 199]\n"
     ]
    },
    {
     "name": "stderr",
     "output_type": "stream",
     "text": [
      "Training models:  91%|█████████████████████████████████████████████████████████████▉      | 91/100 [10:36<01:03,  7.06s/station]"
     ]
    },
    {
     "name": "stdout",
     "output_type": "stream",
     "text": [
      "Cross-Validation Score for station 11048: -0.16039676294075106\n",
      "Mean Squared Error for station 11048: 0.31872359678702883\n",
      "Valid indices for station 22002: [877, 876]\n",
      "Valid indices for station 22002: [879, 878, 882, 877, 876, 884, 875]\n"
     ]
    },
    {
     "name": "stderr",
     "output_type": "stream",
     "text": [
      "Training models:  92%|██████████████████████████████████████████████████████████████▌     | 92/100 [10:44<01:00,  7.56s/station]"
     ]
    },
    {
     "name": "stdout",
     "output_type": "stream",
     "text": [
      "Cross-Validation Score for station 22002: -0.12445954141997292\n",
      "Mean Squared Error for station 22002: 0.017926897771979287\n",
      "Valid indices for station 11109: [115, 125, 110, 113, 107, 129, 106, 105, 123]\n"
     ]
    },
    {
     "name": "stderr",
     "output_type": "stream",
     "text": [
      "Training models:  93%|███████████████████████████████████████████████████████████████▏    | 93/100 [10:51<00:51,  7.31s/station]"
     ]
    },
    {
     "name": "stdout",
     "output_type": "stream",
     "text": [
      "Cross-Validation Score for station 11109: -0.05434166170929997\n",
      "Mean Squared Error for station 11109: 0.04385703998246653\n",
      "Valid indices for station 21031: [785, 789, 793]\n",
      "Valid indices for station 21031: [831, 777, 780, 785, 781, 782, 789, 784, 793, 466, 464]\n",
      "Cross-Validation Score for station 21031: -0.1595826682509647\n"
     ]
    },
    {
     "name": "stderr",
     "output_type": "stream",
     "text": [
      "Training models:  94%|███████████████████████████████████████████████████████████████▉    | 94/100 [10:58<00:43,  7.23s/station]"
     ]
    },
    {
     "name": "stdout",
     "output_type": "stream",
     "text": [
      "Mean Squared Error for station 21031: 0.4008483926642448\n",
      "Valid indices for station 23902: [954]\n",
      "Valid indices for station 23902: [954]\n",
      "Valid indices for station 23902: [955, 1103, 954]\n",
      "Valid indices for station 23902: [1104, 955, 1103, 954, 1102, 1060, 1072]\n",
      "Cross-Validation Score for station 23902: -0.20934599357695047\n"
     ]
    },
    {
     "name": "stderr",
     "output_type": "stream",
     "text": [
      "Training models:  95%|████████████████████████████████████████████████████████████████▌   | 95/100 [11:08<00:39,  7.98s/station]"
     ]
    },
    {
     "name": "stdout",
     "output_type": "stream",
     "text": [
      "Mean Squared Error for station 23902: 0.06543285855530029\n",
      "Valid indices for station 42501: [1208]\n",
      "Valid indices for station 42501: [1152, 1211, 1208, 231, 1212]\n"
     ]
    },
    {
     "name": "stderr",
     "output_type": "stream",
     "text": [
      "Training models:  96%|█████████████████████████████████████████████████████████████████▎  | 96/100 [11:16<00:31,  7.96s/station]"
     ]
    },
    {
     "name": "stdout",
     "output_type": "stream",
     "text": [
      "Cross-Validation Score for station 42501: -0.023466221422525517\n",
      "Mean Squared Error for station 42501: 0.006080415232768686\n",
      "Valid indices for station 15004: [340, 411, 339, 412, 338]\n",
      "Cross-Validation Score for station 15004: -0.059958196496989545\n"
     ]
    },
    {
     "name": "stderr",
     "output_type": "stream",
     "text": [
      "Training models:  97%|█████████████████████████████████████████████████████████████████▉  | 97/100 [11:25<00:25,  8.35s/station]"
     ]
    },
    {
     "name": "stdout",
     "output_type": "stream",
     "text": [
      "Mean Squared Error for station 15004: 0.012332175925925934\n",
      "Valid indices for station 15071: [1374, 393, 357, 403, 397]\n"
     ]
    },
    {
     "name": "stderr",
     "output_type": "stream",
     "text": [
      "Training models:  98%|██████████████████████████████████████████████████████████████████▋ | 98/100 [11:32<00:16,  8.06s/station]"
     ]
    },
    {
     "name": "stdout",
     "output_type": "stream",
     "text": [
      "Cross-Validation Score for station 15071: -0.1003620980192815\n",
      "Mean Squared Error for station 15071: 0.008329173905276809\n",
      "Valid indices for station 12155: [146, 196, 167, 155, 161]\n",
      "Cross-Validation Score for station 12155: -0.1819387817744585\n"
     ]
    },
    {
     "name": "stderr",
     "output_type": "stream",
     "text": [
      "Training models:  99%|███████████████████████████████████████████████████████████████████▎| 99/100 [11:40<00:07,  7.88s/station]"
     ]
    },
    {
     "name": "stdout",
     "output_type": "stream",
     "text": [
      "Mean Squared Error for station 12155: 0.015603101847204974\n",
      "Valid indices for station 12028: [158, 178, 148, 206, 159]\n"
     ]
    },
    {
     "name": "stderr",
     "output_type": "stream",
     "text": [
      "Training models: 100%|███████████████████████████████████████████████████████████████████| 100/100 [11:46<00:00,  7.07s/station]"
     ]
    },
    {
     "name": "stdout",
     "output_type": "stream",
     "text": [
      "Cross-Validation Score for station 12028: -0.04675465334603976\n",
      "Mean Squared Error for station 12028: 0.04189154559173132\n"
     ]
    },
    {
     "name": "stderr",
     "output_type": "stream",
     "text": [
      "\n"
     ]
    },
    {
     "name": "stdout",
     "output_type": "stream",
     "text": [
      "Intermediate results saved for batch 13\n",
      "Training models...\n",
      "Columns after feature creation: Index(['stationcode', 'name', 'is_installed', 'capacity', 'numdocksavailable',\n",
      "       'numbikesavailable', 'mechanical', 'ebike', 'is_renting',\n",
      "       'is_returning', 'duedate', 'coordonnees_geo',\n",
      "       'nom_arrondissement_communes', 'date', 'lat', 'lon', 'hour',\n",
      "       'day_of_week', 'lag_1_hour', 'lag_1_day', 'rolling_mean_7_days',\n",
      "       'rolling_mean_30_days', 'normalized_bikes_available',\n",
      "       'normalized_docks_available', 'usage_ratio',\n",
      "       'capacity_hour_interaction', 'capacity_day_interaction',\n",
      "       'avg_bikes_hour_day'],\n",
      "      dtype='object')\n"
     ]
    },
    {
     "name": "stderr",
     "output_type": "stream",
     "text": [
      "Training models:   0%|                                                                              | 0/61 [00:00<?, ?station/s]"
     ]
    },
    {
     "name": "stdout",
     "output_type": "stream",
     "text": [
      "Valid indices for station 15006: [338, 337, 341, 1350]\n",
      "Valid indices for station 15006: [306, 342, 340, 1363, 411, 339, 412, 329, 338, 337, 319, 309, 277, 323, 307, 336, 341, 419, 1341, 1350, 1352, 1364, 1323, 1340]\n",
      "Cross-Validation Score for station 15006: -0.1411671619337564\n"
     ]
    },
    {
     "name": "stderr",
     "output_type": "stream",
     "text": [
      "Training models:   2%|█▏                                                                    | 1/61 [00:07<07:30,  7.51s/station]"
     ]
    },
    {
     "name": "stdout",
     "output_type": "stream",
     "text": [
      "Mean Squared Error for station 15006: 0.08079799520581127\n",
      "Valid indices for station 23102: [937, 935]\n",
      "Valid indices for station 23102: [937, 934, 935]\n",
      "Valid indices for station 23102: [938, 937, 934, 939, 935, 936]\n"
     ]
    },
    {
     "name": "stderr",
     "output_type": "stream",
     "text": [
      "Training models:   3%|██▎                                                                   | 2/61 [00:13<06:25,  6.53s/station]"
     ]
    },
    {
     "name": "stdout",
     "output_type": "stream",
     "text": [
      "Cross-Validation Score for station 23102: -0.060879638277189986\n",
      "Mean Squared Error for station 23102: 0.02457739672208656\n",
      "Valid indices for station 10024: [106, 105, 47, 32, 61, 24, 38, 642]\n"
     ]
    },
    {
     "name": "stderr",
     "output_type": "stream",
     "text": [
      "Training models:   5%|███▍                                                                  | 3/61 [00:20<06:37,  6.86s/station]"
     ]
    },
    {
     "name": "stdout",
     "output_type": "stream",
     "text": [
      "Cross-Validation Score for station 10024: -0.026114461148845646\n",
      "Mean Squared Error for station 10024: 0.006624223774763323\n",
      "Valid indices for station 16036: [462, 458]\n",
      "Valid indices for station 16036: [459, 462, 479, 466, 464, 463, 461, 458, 457, 456, 460]\n",
      "Cross-Validation Score for station 16036: -0.297749741323316\n"
     ]
    },
    {
     "name": "stderr",
     "output_type": "stream",
     "text": [
      "Training models:   7%|████▌                                                                 | 4/61 [00:27<06:30,  6.85s/station]"
     ]
    },
    {
     "name": "stdout",
     "output_type": "stream",
     "text": [
      "Mean Squared Error for station 16036: 0.30412381974977315\n",
      "Valid indices for station 18202: [596, 613, 608]\n",
      "Valid indices for station 18202: [574, 575, 606, 581, 583, 582, 596, 609, 604, 613, 608, 1099]\n",
      "Cross-Validation Score for station 18202: -0.08914999430661785\n"
     ]
    },
    {
     "name": "stderr",
     "output_type": "stream",
     "text": [
      "Training models:   8%|█████▋                                                                | 5/61 [00:35<06:46,  7.26s/station]"
     ]
    },
    {
     "name": "stdout",
     "output_type": "stream",
     "text": [
      "Mean Squared Error for station 18202: 0.09704419470416763\n",
      "Valid indices for station 6010: [278, 1328, 1325, 1335, 1326, 1324]\n"
     ]
    },
    {
     "name": "stderr",
     "output_type": "stream",
     "text": [
      "Training models:  10%|██████▉                                                               | 6/61 [00:42<06:26,  7.03s/station]"
     ]
    },
    {
     "name": "stdout",
     "output_type": "stream",
     "text": [
      "Cross-Validation Score for station 6010: -0.018772575713646756\n",
      "Mean Squared Error for station 6010: 0.05390216565405592\n",
      "Valid indices for station 7012: [1377, 1362]\n",
      "Valid indices for station 7012: [1350, 1352, 1353, 1364, 1365, 1377, 1362, 1358, 1340, 1355, 1354, 1376, 1349, 1360, 1361, 1359, 1357]\n",
      "Cross-Validation Score for station 7012: -0.09281789555569567\n"
     ]
    },
    {
     "name": "stderr",
     "output_type": "stream",
     "text": [
      "Training models:  11%|████████                                                              | 7/61 [00:49<06:20,  7.04s/station]"
     ]
    },
    {
     "name": "stdout",
     "output_type": "stream",
     "text": [
      "Mean Squared Error for station 7012: 0.017248037489072165\n",
      "Valid indices for station 4017: [1126, 30, 134, 1128, 1139, 1140, 1146, 1141, 1142, 1143, 1144]\n"
     ]
    },
    {
     "name": "stderr",
     "output_type": "stream",
     "text": [
      "Training models:  13%|█████████▏                                                            | 8/61 [00:55<06:05,  6.89s/station]"
     ]
    },
    {
     "name": "stdout",
     "output_type": "stream",
     "text": [
      "Cross-Validation Score for station 4017: -0.015158809617152033\n",
      "Mean Squared Error for station 4017: 0.004772865012232983\n",
      "Valid indices for station 32019: [1067, 1065]\n",
      "Valid indices for station 32019: [1068, 1066, 1064, 1067, 1065, 1071]\n"
     ]
    },
    {
     "name": "stderr",
     "output_type": "stream",
     "text": [
      "Training models:  15%|██████████▎                                                           | 9/61 [01:01<05:45,  6.65s/station]"
     ]
    },
    {
     "name": "stdout",
     "output_type": "stream",
     "text": [
      "Cross-Validation Score for station 32019: -0.1352300256092129\n",
      "Mean Squared Error for station 32019: 0.08433169184054816\n",
      "Valid indices for station 19046: [631, 630, 653, 675]\n",
      "Valid indices for station 19046: [629, 667, 637, 656, 655, 674, 631, 630, 653, 675, 650, 651, 1115, 1110]\n"
     ]
    },
    {
     "name": "stderr",
     "output_type": "stream",
     "text": [
      "Training models:  16%|███████████▎                                                         | 10/61 [01:08<05:34,  6.57s/station]"
     ]
    },
    {
     "name": "stdout",
     "output_type": "stream",
     "text": [
      "Cross-Validation Score for station 19046: -1.7288240286356853\n",
      "Mean Squared Error for station 19046: 1.5541612828857425\n",
      "Valid indices for station 42210: [1201, 1198]\n",
      "Valid indices for station 42210: [1202, 1199, 1170, 1247, 1201, 1198, 188, 183]\n",
      "Cross-Validation Score for station 42210: -0.21735219512397622\n"
     ]
    },
    {
     "name": "stderr",
     "output_type": "stream",
     "text": [
      "Training models:  18%|████████████▍                                                        | 11/61 [01:15<05:41,  6.82s/station]"
     ]
    },
    {
     "name": "stdout",
     "output_type": "stream",
     "text": [
      "Mean Squared Error for station 42210: 0.010560782407275041\n",
      "Valid indices for station 26012: [986]\n",
      "Valid indices for station 26012: [987, 984, 807, 808, 986]\n"
     ]
    },
    {
     "name": "stderr",
     "output_type": "stream",
     "text": [
      "Training models:  20%|█████████████▌                                                       | 12/61 [01:21<05:25,  6.64s/station]"
     ]
    },
    {
     "name": "stdout",
     "output_type": "stream",
     "text": [
      "Cross-Validation Score for station 26012: -0.029448986303345397\n",
      "Mean Squared Error for station 26012: 0.009932799045828264\n",
      "Valid indices for station 18101: [574, 575, 606, 581, 582, 596, 613, 608]\n"
     ]
    },
    {
     "name": "stderr",
     "output_type": "stream",
     "text": [
      "Training models:  21%|██████████████▋                                                      | 13/61 [01:27<05:04,  6.35s/station]"
     ]
    },
    {
     "name": "stdout",
     "output_type": "stream",
     "text": [
      "Cross-Validation Score for station 18101: -0.03910025015040692\n",
      "Mean Squared Error for station 18101: 0.036706127615218534\n",
      "Valid indices for station 10031: [26, 59, 34, 31, 35]\n",
      "Cross-Validation Score for station 10031: -0.2985753437810622\n",
      "Mean Squared Error for station 10031: 0.03609430006724422\n"
     ]
    },
    {
     "name": "stderr",
     "output_type": "stream",
     "text": [
      "Training models:  23%|███████████████▊                                                     | 14/61 [01:34<05:07,  6.55s/station]"
     ]
    },
    {
     "name": "stdout",
     "output_type": "stream",
     "text": [
      "Out of bounds indices for station 10028: [1475, 1479]\n",
      "Max valid index: 1460\n",
      "Valid indices for station 10028: [1435, 22, 21, 55, 56, 54, 28, 29, 33, 45, 597]\n"
     ]
    },
    {
     "name": "stderr",
     "output_type": "stream",
     "text": [
      "Training models:  25%|████████████████▉                                                    | 15/61 [01:40<04:52,  6.36s/station]"
     ]
    },
    {
     "name": "stdout",
     "output_type": "stream",
     "text": [
      "Cross-Validation Score for station 10028: -0.6849396197148774\n",
      "Mean Squared Error for station 10028: 0.0374503650408222\n",
      "Valid indices for station 20030: [126, 708, 709]\n",
      "Valid indices for station 20030: [88, 127, 91, 93, 94, 126, 708, 97, 99, 709, 100, 715, 717, 738, 710, 751, 755, 748, 89, 92, 690, 745, 711]\n",
      "Cross-Validation Score for station 20030: -0.1659260643668072\n"
     ]
    },
    {
     "name": "stderr",
     "output_type": "stream",
     "text": [
      "Training models:  26%|██████████████████                                                   | 16/61 [01:47<04:59,  6.65s/station]"
     ]
    },
    {
     "name": "stdout",
     "output_type": "stream",
     "text": [
      "Mean Squared Error for station 20030: 0.05193699654365531\n",
      "Valid indices for station 21508: [859]\n",
      "Valid indices for station 21508: [858, 855, 859]\n",
      "Valid indices for station 21508: [860, 857, 858, 854, 855, 859, 993]\n"
     ]
    },
    {
     "name": "stderr",
     "output_type": "stream",
     "text": [
      "Training models:  28%|███████████████████▏                                                 | 17/61 [01:54<05:00,  6.82s/station]"
     ]
    },
    {
     "name": "stdout",
     "output_type": "stream",
     "text": [
      "Cross-Validation Score for station 21508: -0.03945770182865497\n",
      "Mean Squared Error for station 21508: 0.10353982308039793\n",
      "Valid indices for station 17127: [536, 535, 550, 815]\n",
      "Valid indices for station 17127: [801, 810, 542, 548, 546, 536, 535, 550, 499, 497, 538, 498, 802, 815, 806, 800, 813]\n"
     ]
    },
    {
     "name": "stderr",
     "output_type": "stream",
     "text": [
      "Training models:  30%|████████████████████▎                                                | 18/61 [02:00<04:42,  6.57s/station]"
     ]
    },
    {
     "name": "stdout",
     "output_type": "stream",
     "text": [
      "Cross-Validation Score for station 17127: -0.14462707794175933\n",
      "Mean Squared Error for station 17127: 0.15028169412830525\n",
      "Valid indices for station 31303: [1044]\n",
      "Valid indices for station 31303: [997, 1044]\n",
      "Valid indices for station 31303: [996, 997, 1044, 1043]\n",
      "Valid indices for station 31303: [1000, 996, 997, 1044, 1043]\n"
     ]
    },
    {
     "name": "stderr",
     "output_type": "stream",
     "text": [
      "Training models:  31%|█████████████████████▍                                               | 19/61 [02:07<04:31,  6.45s/station]"
     ]
    },
    {
     "name": "stdout",
     "output_type": "stream",
     "text": [
      "Cross-Validation Score for station 31303: -0.05075511499402631\n",
      "Mean Squared Error for station 31303: 0.01399739583333332\n",
      "Valid indices for station 31202: [1042]\n",
      "Valid indices for station 31202: [1089, 1042, 1041]\n",
      "Valid indices for station 31202: [1089, 1042, 1041]\n",
      "Valid indices for station 31202: [1085, 1106, 1089, 1091, 1042, 1041, 1090]\n"
     ]
    },
    {
     "name": "stderr",
     "output_type": "stream",
     "text": [
      "Training models:  33%|██████████████████████▌                                              | 20/61 [02:12<04:17,  6.27s/station]"
     ]
    },
    {
     "name": "stdout",
     "output_type": "stream",
     "text": [
      "Cross-Validation Score for station 31202: -0.0649708387096774\n",
      "Mean Squared Error for station 31202: 0.008343589743589732\n",
      "Valid indices for station 15013: [346, 351, 347, 348, 343]\n"
     ]
    },
    {
     "name": "stderr",
     "output_type": "stream",
     "text": [
      "Training models:  34%|███████████████████████▊                                             | 21/61 [02:21<04:44,  7.10s/station]"
     ]
    },
    {
     "name": "stdout",
     "output_type": "stream",
     "text": [
      "Cross-Validation Score for station 15013: -0.11611778278527032\n",
      "Mean Squared Error for station 15013: 0.04441975327052146\n",
      "Valid indices for station 18134: [583, 582, 609, 604]\n",
      "Valid indices for station 18134: [567, 571, 584, 580, 577, 573, 572, 574, 575, 606, 576, 581, 583, 582, 596, 609, 604, 613, 608, 1099]\n"
     ]
    },
    {
     "name": "stderr",
     "output_type": "stream",
     "text": [
      "Training models:  36%|████████████████████████▉                                            | 22/61 [02:28<04:29,  6.92s/station]"
     ]
    },
    {
     "name": "stdout",
     "output_type": "stream",
     "text": [
      "Cross-Validation Score for station 18134: -0.05584201773399007\n",
      "Mean Squared Error for station 18134: 0.09740108108108106\n",
      "Valid indices for station 12127: [189]\n",
      "Valid indices for station 12127: [189, 203, 201, 191]\n",
      "Valid indices for station 12127: [202, 189, 203, 1226, 190, 201, 191, 1155]\n"
     ]
    },
    {
     "name": "stderr",
     "output_type": "stream",
     "text": [
      "Training models:  38%|██████████████████████████                                           | 23/61 [02:35<04:23,  6.92s/station]"
     ]
    },
    {
     "name": "stdout",
     "output_type": "stream",
     "text": [
      "Cross-Validation Score for station 12127: -0.41862363321172813\n",
      "Mean Squared Error for station 12127: 0.309097116037352\n",
      "Valid indices for station 13123: [252, 224, 268, 272]\n",
      "Valid indices for station 13123: [242, 250, 251, 252, 220, 249, 247, 224, 225, 268, 272, 174, 253, 221, 157, 177, 156]\n"
     ]
    },
    {
     "name": "stderr",
     "output_type": "stream",
     "text": [
      "Training models:  39%|███████████████████████████▏                                         | 24/61 [02:42<04:19,  7.02s/station]"
     ]
    },
    {
     "name": "stdout",
     "output_type": "stream",
     "text": [
      "Cross-Validation Score for station 13123: -0.830514202032524\n",
      "Mean Squared Error for station 13123: 0.16531652275626085\n",
      "Valid indices for station 44015: [1242, 1243]\n",
      "Valid indices for station 44015: [1242, 1243, 1237]\n",
      "Valid indices for station 44015: [1255, 1242, 1243, 1237, 1236, 1232]\n"
     ]
    },
    {
     "name": "stderr",
     "output_type": "stream",
     "text": [
      "Training models:  41%|████████████████████████████▎                                        | 25/61 [02:50<04:17,  7.15s/station]"
     ]
    },
    {
     "name": "stdout",
     "output_type": "stream",
     "text": [
      "Cross-Validation Score for station 44015: -0.058435833520348736\n",
      "Mean Squared Error for station 44015: 0.007111797916429896\n",
      "Valid indices for station 11104: [86, 87, 89, 92, 122, 694]\n"
     ]
    },
    {
     "name": "stderr",
     "output_type": "stream",
     "text": [
      "Training models:  43%|█████████████████████████████▍                                       | 26/61 [02:55<03:55,  6.72s/station]"
     ]
    },
    {
     "name": "stdout",
     "output_type": "stream",
     "text": [
      "Cross-Validation Score for station 11104: -0.05917414911482423\n",
      "Mean Squared Error for station 11104: 0.012912836453994598\n",
      "Valid indices for station 30002: [1000, 996]\n",
      "Valid indices for station 30002: [1000, 996]\n",
      "Valid indices for station 30002: [1000, 996, 1044, 1043]\n",
      "Valid indices for station 30002: [998, 1000, 996, 997, 1044, 1043]\n"
     ]
    },
    {
     "name": "stderr",
     "output_type": "stream",
     "text": [
      "Training models:  44%|██████████████████████████████▌                                      | 27/61 [03:03<03:56,  6.96s/station]"
     ]
    },
    {
     "name": "stdout",
     "output_type": "stream",
     "text": [
      "Cross-Validation Score for station 30002: -0.05487457488002393\n",
      "Mean Squared Error for station 30002: 0.031105429754078404\n",
      "Valid indices for station 17038: [551, 428, 521, 522, 523]\n",
      "Cross-Validation Score for station 17038: -0.9056181837013595\n"
     ]
    },
    {
     "name": "stderr",
     "output_type": "stream",
     "text": [
      "Training models:  46%|███████████████████████████████▋                                     | 28/61 [03:10<03:52,  7.05s/station]"
     ]
    },
    {
     "name": "stdout",
     "output_type": "stream",
     "text": [
      "Mean Squared Error for station 17038: 0.27576306300509856\n",
      "Valid indices for station 21701: [843, 864]\n",
      "Valid indices for station 21701: [943, 843, 848, 864, 867, 907]\n",
      "Cross-Validation Score for station 21701: -0.04481756032632672\n"
     ]
    },
    {
     "name": "stderr",
     "output_type": "stream",
     "text": [
      "Training models:  48%|████████████████████████████████▊                                    | 29/61 [03:17<03:43,  6.97s/station]"
     ]
    },
    {
     "name": "stdout",
     "output_type": "stream",
     "text": [
      "Mean Squared Error for station 21701: 0.021541796197681297\n",
      "Valid indices for station 11036: [108, 109, 116, 111, 12, 125, 110, 113, 107, 129, 106, 47]\n"
     ]
    },
    {
     "name": "stderr",
     "output_type": "stream",
     "text": [
      "Training models:  49%|█████████████████████████████████▉                                   | 30/61 [03:23<03:29,  6.75s/station]"
     ]
    },
    {
     "name": "stdout",
     "output_type": "stream",
     "text": [
      "Cross-Validation Score for station 11036: -0.42749303598861\n",
      "Mean Squared Error for station 11036: 0.12782948872547434\n",
      "Valid indices for station 16027: [451, 450, 478]\n",
      "Valid indices for station 16027: [444, 456, 477, 460, 451, 450, 455, 485, 478, 453, 449, 454, 445]\n"
     ]
    },
    {
     "name": "stderr",
     "output_type": "stream",
     "text": [
      "Training models:  51%|███████████████████████████████████                                  | 31/61 [03:30<03:27,  6.93s/station]"
     ]
    },
    {
     "name": "stdout",
     "output_type": "stream",
     "text": [
      "Cross-Validation Score for station 16027: -0.472959585433529\n",
      "Mean Squared Error for station 16027: 0.7315996392334345\n",
      "Valid indices for station 18017: [602, 568, 567, 571, 570, 578, 577]\n"
     ]
    },
    {
     "name": "stderr",
     "output_type": "stream",
     "text": [
      "Training models:  52%|████████████████████████████████████▏                                | 32/61 [03:37<03:17,  6.81s/station]"
     ]
    },
    {
     "name": "stdout",
     "output_type": "stream",
     "text": [
      "Cross-Validation Score for station 18017: -0.18192745234916705\n",
      "Mean Squared Error for station 18017: 0.14702540378216075\n",
      "Valid indices for station 14030: [302, 303, 324, 311, 335, 304, 306, 329]\n"
     ]
    },
    {
     "name": "stderr",
     "output_type": "stream",
     "text": [
      "Training models:  54%|█████████████████████████████████████▎                               | 33/61 [03:43<03:05,  6.61s/station]"
     ]
    },
    {
     "name": "stdout",
     "output_type": "stream",
     "text": [
      "Cross-Validation Score for station 14030: -0.09333211603023014\n",
      "Mean Squared Error for station 14030: 0.0032506820620242225\n",
      "Valid indices for station 15003: [339, 412, 338, 337, 319, 309, 336, 341]\n"
     ]
    },
    {
     "name": "stderr",
     "output_type": "stream",
     "text": [
      "Training models:  56%|██████████████████████████████████████▍                              | 34/61 [03:50<02:57,  6.58s/station]"
     ]
    },
    {
     "name": "stdout",
     "output_type": "stream",
     "text": [
      "Cross-Validation Score for station 15003: -0.5072020214971886\n",
      "Mean Squared Error for station 15003: 0.4998155073917202\n",
      "Valid indices for station 23403: [950]\n",
      "Valid indices for station 23403: [933, 950, 932]\n",
      "Valid indices for station 23403: [933, 950, 932]\n",
      "Valid indices for station 23403: [946, 933, 893, 891, 950, 932]\n"
     ]
    },
    {
     "name": "stderr",
     "output_type": "stream",
     "text": [
      "Training models:  57%|███████████████████████████████████████▌                             | 35/61 [03:56<02:50,  6.58s/station]"
     ]
    },
    {
     "name": "stdout",
     "output_type": "stream",
     "text": [
      "Cross-Validation Score for station 23403: -0.028037677630175412\n",
      "Mean Squared Error for station 23403: 0.010549594411070201\n",
      "Valid indices for station 21004: [773, 768, 792]\n",
      "Valid indices for station 21004: [778, 775, 770, 786, 781, 787, 769, 773, 772, 768, 792, 766, 765, 767]\n"
     ]
    },
    {
     "name": "stderr",
     "output_type": "stream",
     "text": [
      "Training models:  59%|████████████████████████████████████████▋                            | 36/61 [04:03<02:45,  6.62s/station]"
     ]
    },
    {
     "name": "stdout",
     "output_type": "stream",
     "text": [
      "Cross-Validation Score for station 21004: -0.11188150228284546\n",
      "Mean Squared Error for station 21004: 0.15881013192070864\n",
      "Valid indices for station 21951: [871]\n",
      "Valid indices for station 21951: [871]\n",
      "Valid indices for station 21951: [871]\n",
      "Valid indices for station 21951: [871, 853]\n"
     ]
    },
    {
     "name": "stderr",
     "output_type": "stream",
     "text": [
      "/Users/anthonybellon/Comp_Documents/VelibVisualisation/scripts/train_model.py:103: SettingWithCopyWarning: \n",
      "A value is trying to be set on a copy of a slice from a DataFrame.\n",
      "Try using .loc[row_indexer,col_indexer] = value instead\n",
      "\n",
      "See the caveats in the documentation: https://pandas.pydata.org/pandas-docs/stable/user_guide/indexing.html#returning-a-view-versus-a-copy\n",
      "  \n",
      "Training models:  61%|█████████████████████████████████████████▊                           | 37/61 [04:09<02:36,  6.53s/station]"
     ]
    },
    {
     "name": "stdout",
     "output_type": "stream",
     "text": [
      "Cross-Validation Score for station 21951: -0.022040870506574956\n",
      "Mean Squared Error for station 21951: 0.014131216442666152\n",
      "Valid indices for station 22013: [882]\n",
      "Valid indices for station 22013: [879, 878, 882, 480, 886, 877, 876, 875]\n"
     ]
    },
    {
     "name": "stderr",
     "output_type": "stream",
     "text": [
      "Training models:  62%|██████████████████████████████████████████▉                          | 38/61 [04:16<02:30,  6.56s/station]"
     ]
    },
    {
     "name": "stdout",
     "output_type": "stream",
     "text": [
      "Cross-Validation Score for station 22013: -0.09989681200305621\n",
      "Mean Squared Error for station 22013: 0.02770319625688507\n",
      "Valid indices for station 21029: [791, 788]\n",
      "Valid indices for station 21029: [790, 791, 779, 788, 778, 795, 775, 776, 787]\n"
     ]
    },
    {
     "name": "stderr",
     "output_type": "stream",
     "text": [
      "Training models:  64%|████████████████████████████████████████████                         | 39/61 [04:23<02:26,  6.65s/station]"
     ]
    },
    {
     "name": "stdout",
     "output_type": "stream",
     "text": [
      "Cross-Validation Score for station 21029: -0.02698588287508156\n",
      "Mean Squared Error for station 21029: 0.07138573316729176\n",
      "Valid indices for station 17015: [504, 1407, 505, 543, 501, 530, 503, 500, 510]\n"
     ]
    },
    {
     "name": "stderr",
     "output_type": "stream",
     "text": [
      "Training models:  66%|█████████████████████████████████████████████▏                       | 40/61 [04:29<02:16,  6.48s/station]"
     ]
    },
    {
     "name": "stdout",
     "output_type": "stream",
     "text": [
      "Cross-Validation Score for station 17015: -0.20201815981871896\n",
      "Mean Squared Error for station 17015: 0.043485413828730154\n",
      "Valid indices for station 6029: [1278, 1313, 1314, 1276, 1318, 1343, 1306, 1342, 1333, 1345, 1334, 1336, 1317, 1293, 1275, 1274]\n"
     ]
    },
    {
     "name": "stderr",
     "output_type": "stream",
     "text": [
      "Training models:  67%|██████████████████████████████████████████████▍                      | 41/61 [04:35<02:05,  6.30s/station]"
     ]
    },
    {
     "name": "stdout",
     "output_type": "stream",
     "text": [
      "Cross-Validation Score for station 6029: -0.07725005418835112\n",
      "Mean Squared Error for station 6029: 0.11458288590543063\n",
      "Valid indices for station 34013: [1105]\n",
      "Valid indices for station 34013: [1102, 1105, 609]\n",
      "Valid indices for station 34013: [601, 584, 580, 605, 1098, 586, 1100, 1103, 1102, 1105, 583, 582, 609, 604, 1060, 1099]\n"
     ]
    },
    {
     "name": "stderr",
     "output_type": "stream",
     "text": [
      "Training models:  69%|███████████████████████████████████████████████▌                     | 42/61 [04:41<02:01,  6.38s/station]"
     ]
    },
    {
     "name": "stdout",
     "output_type": "stream",
     "text": [
      "Cross-Validation Score for station 34013: -0.1068031321726858\n",
      "Mean Squared Error for station 34013: 0.05006977778902292\n",
      "Valid indices for station 26010: [984, 978]\n",
      "Valid indices for station 26010: [984, 808, 986, 978]\n",
      "Valid indices for station 26010: [806, 984, 807, 808, 986, 978, 1104]\n"
     ]
    },
    {
     "name": "stderr",
     "output_type": "stream",
     "text": [
      "Training models:  70%|████████████████████████████████████████████████▋                    | 43/61 [04:47<01:51,  6.17s/station]"
     ]
    },
    {
     "name": "stdout",
     "output_type": "stream",
     "text": [
      "Cross-Validation Score for station 26010: 0.0\n",
      "Mean Squared Error for station 26010: 0.0\n",
      "Valid indices for station 17126: [495, 496, 549]\n",
      "Valid indices for station 17126: [497, 538, 498, 495, 496, 494, 544, 491, 526, 813, 799, 549, 1101, 547]\n"
     ]
    },
    {
     "name": "stderr",
     "output_type": "stream",
     "text": [
      "Training models:  72%|█████████████████████████████████████████████████▊                   | 44/61 [04:54<01:47,  6.30s/station]"
     ]
    },
    {
     "name": "stdout",
     "output_type": "stream",
     "text": [
      "Cross-Validation Score for station 17126: -0.20277130862787743\n",
      "Mean Squared Error for station 17126: 0.02693820618114788\n",
      "Valid indices for station 34012: [1104]\n",
      "Valid indices for station 34012: [1104, 1103]\n",
      "Valid indices for station 34012: [799, 1101, 1100, 984, 808, 978, 1104, 1103, 1102]\n"
     ]
    },
    {
     "name": "stderr",
     "output_type": "stream",
     "text": [
      "Training models:  74%|██████████████████████████████████████████████████▉                  | 45/61 [05:00<01:40,  6.29s/station]"
     ]
    },
    {
     "name": "stdout",
     "output_type": "stream",
     "text": [
      "Cross-Validation Score for station 34012: -0.14247012117289842\n",
      "Mean Squared Error for station 34012: 0.05369427187026327\n",
      "Valid indices for station 31201: [1041]\n",
      "Valid indices for station 31201: [1091, 1042, 1041]\n",
      "Valid indices for station 31201: [1088, 1087, 1085, 1092, 1089, 1091, 1093, 1042, 1041]\n"
     ]
    },
    {
     "name": "stderr",
     "output_type": "stream",
     "text": [
      "Training models:  75%|████████████████████████████████████████████████████                 | 46/61 [05:05<01:30,  6.07s/station]"
     ]
    },
    {
     "name": "stdout",
     "output_type": "stream",
     "text": [
      "Cross-Validation Score for station 31201: -0.08859003564966009\n",
      "Mean Squared Error for station 31201: 0.04848901145497481\n",
      "Valid indices for station 7111: [403, 355, 356, 1379, 1378]\n"
     ]
    },
    {
     "name": "stderr",
     "output_type": "stream",
     "text": [
      "Training models:  77%|█████████████████████████████████████████████████████▏               | 47/61 [05:12<01:26,  6.18s/station]"
     ]
    },
    {
     "name": "stdout",
     "output_type": "stream",
     "text": [
      "Cross-Validation Score for station 7111: -0.044771009934409904\n",
      "Mean Squared Error for station 7111: 0.06364713863227538\n",
      "Valid indices for station 42004: [1181]\n",
      "Valid indices for station 42004: [1184, 1190, 1181, 1180, 1197, 1200, 1183, 1202]\n"
     ]
    },
    {
     "name": "stderr",
     "output_type": "stream",
     "text": [
      "Training models:  79%|██████████████████████████████████████████████████████▎              | 48/61 [05:19<01:22,  6.35s/station]"
     ]
    },
    {
     "name": "stdout",
     "output_type": "stream",
     "text": [
      "Cross-Validation Score for station 42004: -0.18785735361898295\n",
      "Mean Squared Error for station 42004: 0.21627972843829274\n",
      "Valid indices for station 19032: [24, 38, 642, 756, 677, 676]\n"
     ]
    },
    {
     "name": "stderr",
     "output_type": "stream",
     "text": [
      "Training models:  80%|███████████████████████████████████████████████████████▍             | 49/61 [05:26<01:19,  6.63s/station]"
     ]
    },
    {
     "name": "stdout",
     "output_type": "stream",
     "text": [
      "Cross-Validation Score for station 19032: -0.40508059177584305\n",
      "Mean Squared Error for station 19032: 0.2698354181884585\n",
      "Valid indices for station 16043: [454, 446, 465, 445, 475, 441]\n"
     ]
    },
    {
     "name": "stderr",
     "output_type": "stream",
     "text": [
      "Training models:  82%|████████████████████████████████████████████████████████▌            | 50/61 [05:31<01:09,  6.28s/station]"
     ]
    },
    {
     "name": "stdout",
     "output_type": "stream",
     "text": [
      "Cross-Validation Score for station 16043: -0.01585208930631075\n",
      "Mean Squared Error for station 16043: 0.016841611468116666\n",
      "Valid indices for station 20137: [713, 648, 714, 752]\n",
      "Valid indices for station 20137: [732, 712, 666, 681, 713, 762, 648, 743, 736, 661, 638, 714, 734, 750, 703, 741, 705, 752, 645, 735, 668, 644, 698]\n"
     ]
    },
    {
     "name": "stderr",
     "output_type": "stream",
     "text": [
      "Training models:  84%|█████████████████████████████████████████████████████████▋           | 51/61 [05:38<01:03,  6.38s/station]"
     ]
    },
    {
     "name": "stdout",
     "output_type": "stream",
     "text": [
      "Cross-Validation Score for station 20137: -0.03025021142556706\n",
      "Mean Squared Error for station 20137: 0.0009052752152617437\n",
      "Valid indices for station 15132: [371, 349, 350, 348, 421, 410, 359]\n"
     ]
    },
    {
     "name": "stderr",
     "output_type": "stream",
     "text": [
      "Training models:  85%|██████████████████████████████████████████████████████████▊          | 52/61 [05:44<00:56,  6.33s/station]"
     ]
    },
    {
     "name": "stdout",
     "output_type": "stream",
     "text": [
      "Cross-Validation Score for station 15132: -0.04487408717139837\n",
      "Mean Squared Error for station 15132: 0.05797682507113085\n",
      "Valid indices for station 18140: [583, 582, 609, 604]\n",
      "Valid indices for station 18140: [584, 580, 577, 605, 586, 1105, 572, 576, 581, 583, 582, 596, 609, 604, 613, 1099]\n"
     ]
    },
    {
     "name": "stderr",
     "output_type": "stream",
     "text": [
      "Training models:  87%|███████████████████████████████████████████████████████████▉         | 53/61 [05:51<00:52,  6.53s/station]"
     ]
    },
    {
     "name": "stdout",
     "output_type": "stream",
     "text": [
      "Cross-Validation Score for station 18140: -0.1474452594972636\n",
      "Mean Squared Error for station 18140: 0.23565084508913797\n",
      "Valid indices for station 32013: [1061]\n",
      "Valid indices for station 32013: [1061, 1071]\n",
      "Valid indices for station 32013: [1067, 1065, 1061, 1070, 1071]\n",
      "Cross-Validation Score for station 32013: -0.027519713980219174\n",
      "Mean Squared Error for station 32013: 0.025018088667358527\n"
     ]
    },
    {
     "name": "stderr",
     "output_type": "stream",
     "text": [
      "Training models:  89%|█████████████████████████████████████████████████████████████        | 54/61 [05:58<00:46,  6.69s/station]"
     ]
    },
    {
     "name": "stdout",
     "output_type": "stream",
     "text": [
      "Valid indices for station 22502: [909, 990]\n",
      "Valid indices for station 22502: [956, 910, 908, 909, 912, 914, 990]\n"
     ]
    },
    {
     "name": "stderr",
     "output_type": "stream",
     "text": [
      "Training models:  90%|██████████████████████████████████████████████████████████████▏      | 55/61 [06:04<00:37,  6.32s/station]"
     ]
    },
    {
     "name": "stdout",
     "output_type": "stream",
     "text": [
      "Cross-Validation Score for station 22502: -0.05834588152599711\n",
      "Mean Squared Error for station 22502: 0.0776315330408855\n",
      "Valid indices for station 13054: [250, 251, 252, 268, 253, 221]\n",
      "Cross-Validation Score for station 13054: -0.17585458277376792\n"
     ]
    },
    {
     "name": "stderr",
     "output_type": "stream",
     "text": [
      "Training models:  92%|███████████████████████████████████████████████████████████████▎     | 56/61 [06:11<00:33,  6.75s/station]"
     ]
    },
    {
     "name": "stdout",
     "output_type": "stream",
     "text": [
      "Mean Squared Error for station 13054: 0.32043975851668594\n",
      "Valid indices for station 22506: [913]\n",
      "Valid indices for station 22506: [911, 913]\n",
      "Valid indices for station 22506: [912, 914, 958, 911, 913, 981, 919, 992]\n"
     ]
    },
    {
     "name": "stderr",
     "output_type": "stream",
     "text": [
      "Training models:  93%|████████████████████████████████████████████████████████████████▍    | 57/61 [06:17<00:25,  6.41s/station]"
     ]
    },
    {
     "name": "stdout",
     "output_type": "stream",
     "text": [
      "Cross-Validation Score for station 22506: -0.0233216071507589\n",
      "Mean Squared Error for station 22506: 0.007201646090534974\n",
      "Valid indices for station 14201: [325, 334, 303, 324, 311, 335]\n"
     ]
    },
    {
     "name": "stderr",
     "output_type": "stream",
     "text": [
      "Training models:  95%|█████████████████████████████████████████████████████████████████▌   | 58/61 [06:23<00:19,  6.34s/station]"
     ]
    },
    {
     "name": "stdout",
     "output_type": "stream",
     "text": [
      "Cross-Validation Score for station 14201: -0.1362756328207087\n",
      "Mean Squared Error for station 14201: 0.241012203339073\n",
      "Valid indices for station 16201: [437, 489]\n",
      "Valid indices for station 16201: [442, 437, 472, 438, 471, 480, 489, 885, 429, 436, 468]\n",
      "Cross-Validation Score for station 16201: -0.09802204799592056\n"
     ]
    },
    {
     "name": "stderr",
     "output_type": "stream",
     "text": [
      "Training models:  97%|██████████████████████████████████████████████████████████████████▋  | 59/61 [06:30<00:13,  6.58s/station]"
     ]
    },
    {
     "name": "stdout",
     "output_type": "stream",
     "text": [
      "Mean Squared Error for station 16201: 0.050308626870419454\n",
      "Valid indices for station 16034: [459, 457, 456]\n",
      "Valid indices for station 16034: [459, 462, 479, 463, 461, 458, 457, 456, 477, 460, 455, 478]\n",
      "Cross-Validation Score for station 16034: -0.08966657394727165\n"
     ]
    },
    {
     "name": "stderr",
     "output_type": "stream",
     "text": [
      "Training models:  98%|███████████████████████████████████████████████████████████████████▊ | 60/61 [06:37<00:06,  6.65s/station]"
     ]
    },
    {
     "name": "stdout",
     "output_type": "stream",
     "text": [
      "Mean Squared Error for station 16034: 0.03376018734332737\n",
      "Valid indices for station 12615: [205, 209, 204]\n",
      "Valid indices for station 12615: [185, 187, 205, 1222, 1223, 209, 204, 186]\n"
     ]
    },
    {
     "name": "stderr",
     "output_type": "stream",
     "text": [
      "Training models: 100%|█████████████████████████████████████████████████████████████████████| 61/61 [06:43<00:00,  6.62s/station]"
     ]
    },
    {
     "name": "stdout",
     "output_type": "stream",
     "text": [
      "Cross-Validation Score for station 12615: -157.40367939430917\n",
      "Mean Squared Error for station 12615: 131.9386290851044\n"
     ]
    },
    {
     "name": "stderr",
     "output_type": "stream",
     "text": [
      "\n"
     ]
    },
    {
     "name": "stdout",
     "output_type": "stream",
     "text": [
      "Intermediate results saved for batch 14\n"
     ]
    }
   ],
   "source": [
    "# Load intermediate results if they exist\n",
    "current_batch = 0\n",
    "while os.path.exists(get_absolute_path(f'../data/model_batch_{current_batch}.pkl')):\n",
    "    models, scalers, nearby_station_results = load_intermediate_results(current_batch)\n",
    "    all_models.update(models)\n",
    "    all_scalers.update(scalers)\n",
    "    all_nearby_station_results.update(nearby_station_results)\n",
    "    current_batch += 1\n",
    "\n",
    "for i in range(current_batch * batch_size, len(stations), batch_size):\n",
    "    batch_stations = stations[i:i + batch_size]\n",
    "    models, scaler, nearby_station_results = train_model(bike_data, batch_stations)\n",
    "    all_models.update(models)\n",
    "    all_scalers.update({station: scaler for station in batch_stations})\n",
    "    all_nearby_station_results.update(nearby_station_results)\n",
    "    \n",
    "    # Save intermediate results\n",
    "    save_intermediate_results(models, {station: scaler for station in batch_stations}, nearby_station_results, current_batch)\n",
    "    current_batch += 1\n",
    "\n"
   ]
  },
  {
   "cell_type": "code",
   "execution_count": 6,
   "id": "49852c53-6532-402a-a65b-f6167877aec2",
   "metadata": {},
   "outputs": [],
   "source": [
    "scaler_file_path = get_absolute_path('../data/scaler_final.pkl')\n",
    "model_file_path = get_absolute_path('../data/model_final.pkl')\n",
    "nearby_stations_file_path = get_absolute_path('../data/nearby_stations_final.pkl')"
   ]
  },
  {
   "cell_type": "code",
   "execution_count": 7,
   "id": "83d77a4f-8c69-411d-9ab8-06e2e63b88c1",
   "metadata": {},
   "outputs": [
    {
     "name": "stdout",
     "output_type": "stream",
     "text": [
      "Scaler saved to /Users/anthonybellon/Comp_Documents/VelibVisualisation/data/scaler_final.pkl\n",
      "Models saved to /Users/anthonybellon/Comp_Documents/VelibVisualisation/data/model_final.pkl\n",
      "Model training complete.\n"
     ]
    }
   ],
   "source": [
    "with open(scaler_file_path, 'wb') as f:\n",
    "    pickle.dump(all_scalers, f)\n",
    "print(f\"Scaler saved to {scaler_file_path}\")\n",
    "\n",
    "with open(model_file_path, 'wb') as f:\n",
    "    pickle.dump(all_models, f)\n",
    "print(f\"Models saved to {model_file_path}\")\n",
    "\n",
    "with open(nearby_stations_file_path, 'wb') as f:\n",
    "    pickle.dump(all_nearby_station_results, f)\n",
    "print(f\"Nearby station results saved to {nearby_stations_file_path}\")\n",
    "\n",
    "print(\"Model training complete.\")"
   ]
  },
  {
   "cell_type": "code",
   "execution_count": 9,
   "id": "77f5b1ee-8235-45ef-9423-04b9183080c4",
   "metadata": {},
   "outputs": [
    {
     "name": "stdout",
     "output_type": "stream",
     "text": [
      "[NbConvertApp] Converting notebook train_model.ipynb to notebook\n",
      "Traceback (most recent call last):\n",
      "  File \"/Users/anthonybellon/Comp_Documents/VelibVisualisation/venv/bin/jupyter-nbconvert\", line 8, in <module>\n",
      "    sys.exit(main())\n",
      "             ^^^^^^\n",
      "  File \"/Users/anthonybellon/Comp_Documents/VelibVisualisation/venv/lib/python3.12/site-packages/jupyter_core/application.py\", line 283, in launch_instance\n",
      "    super().launch_instance(argv=argv, **kwargs)\n",
      "  File \"/Users/anthonybellon/Comp_Documents/VelibVisualisation/venv/lib/python3.12/site-packages/traitlets/config/application.py\", line 1075, in launch_instance\n",
      "    app.start()\n",
      "  File \"/Users/anthonybellon/Comp_Documents/VelibVisualisation/venv/lib/python3.12/site-packages/nbconvert/nbconvertapp.py\", line 420, in start\n",
      "    self.convert_notebooks()\n",
      "  File \"/Users/anthonybellon/Comp_Documents/VelibVisualisation/venv/lib/python3.12/site-packages/nbconvert/nbconvertapp.py\", line 597, in convert_notebooks\n",
      "    self.convert_single_notebook(notebook_filename)\n",
      "  File \"/Users/anthonybellon/Comp_Documents/VelibVisualisation/venv/lib/python3.12/site-packages/nbconvert/nbconvertapp.py\", line 563, in convert_single_notebook\n",
      "    output, resources = self.export_single_notebook(\n",
      "                        ^^^^^^^^^^^^^^^^^^^^^^^^^^^^\n",
      "  File \"/Users/anthonybellon/Comp_Documents/VelibVisualisation/venv/lib/python3.12/site-packages/nbconvert/nbconvertapp.py\", line 487, in export_single_notebook\n",
      "    output, resources = self.exporter.from_filename(\n",
      "                        ^^^^^^^^^^^^^^^^^^^^^^^^^^^^\n",
      "  File \"/Users/anthonybellon/Comp_Documents/VelibVisualisation/venv/lib/python3.12/site-packages/nbconvert/exporters/exporter.py\", line 201, in from_filename\n",
      "    return self.from_file(f, resources=resources, **kw)\n",
      "           ^^^^^^^^^^^^^^^^^^^^^^^^^^^^^^^^^^^^^^^^^^^^\n",
      "  File \"/Users/anthonybellon/Comp_Documents/VelibVisualisation/venv/lib/python3.12/site-packages/nbconvert/exporters/exporter.py\", line 220, in from_file\n",
      "    return self.from_notebook_node(\n",
      "           ^^^^^^^^^^^^^^^^^^^^^^^^\n",
      "  File \"/Users/anthonybellon/Comp_Documents/VelibVisualisation/venv/lib/python3.12/site-packages/nbconvert/exporters/notebook.py\", line 36, in from_notebook_node\n",
      "    nb_copy, resources = super().from_notebook_node(nb, resources, **kw)\n",
      "                         ^^^^^^^^^^^^^^^^^^^^^^^^^^^^^^^^^^^^^^^^^^^^^^^\n",
      "  File \"/Users/anthonybellon/Comp_Documents/VelibVisualisation/venv/lib/python3.12/site-packages/nbconvert/exporters/exporter.py\", line 154, in from_notebook_node\n",
      "    nb_copy, resources = self._preprocess(nb_copy, resources)\n",
      "                         ^^^^^^^^^^^^^^^^^^^^^^^^^^^^^^^^^^^^\n",
      "  File \"/Users/anthonybellon/Comp_Documents/VelibVisualisation/venv/lib/python3.12/site-packages/nbconvert/exporters/exporter.py\", line 353, in _preprocess\n",
      "    nbc, resc = preprocessor(nbc, resc)\n",
      "                ^^^^^^^^^^^^^^^^^^^^^^^\n",
      "  File \"/Users/anthonybellon/Comp_Documents/VelibVisualisation/venv/lib/python3.12/site-packages/nbconvert/preprocessors/base.py\", line 48, in __call__\n",
      "    return self.preprocess(nb, resources)\n",
      "           ^^^^^^^^^^^^^^^^^^^^^^^^^^^^^^\n",
      "  File \"/Users/anthonybellon/Comp_Documents/VelibVisualisation/venv/lib/python3.12/site-packages/nbconvert/preprocessors/execute.py\", line 103, in preprocess\n",
      "    self.preprocess_cell(cell, resources, index)\n",
      "  File \"/Users/anthonybellon/Comp_Documents/VelibVisualisation/venv/lib/python3.12/site-packages/nbconvert/preprocessors/execute.py\", line 124, in preprocess_cell\n",
      "    cell = self.execute_cell(cell, index, store_history=True)\n",
      "           ^^^^^^^^^^^^^^^^^^^^^^^^^^^^^^^^^^^^^^^^^^^^^^^^^^\n",
      "  File \"/Users/anthonybellon/Comp_Documents/VelibVisualisation/venv/lib/python3.12/site-packages/jupyter_core/utils/__init__.py\", line 165, in wrapped\n",
      "    return loop.run_until_complete(inner)\n",
      "           ^^^^^^^^^^^^^^^^^^^^^^^^^^^^^^\n",
      "  File \"/Library/Frameworks/Python.framework/Versions/3.12/lib/python3.12/asyncio/base_events.py\", line 687, in run_until_complete\n",
      "    return future.result()\n",
      "           ^^^^^^^^^^^^^^^\n",
      "  File \"/Users/anthonybellon/Comp_Documents/VelibVisualisation/venv/lib/python3.12/site-packages/nbclient/client.py\", line 1062, in async_execute_cell\n",
      "    await self._check_raise_for_error(cell, cell_index, exec_reply)\n",
      "  File \"/Users/anthonybellon/Comp_Documents/VelibVisualisation/venv/lib/python3.12/site-packages/nbclient/client.py\", line 918, in _check_raise_for_error\n",
      "    raise CellExecutionError.from_cell_and_msg(cell, exec_reply_content)\n",
      "nbclient.exceptions.CellExecutionError: An error occurred while executing the following cell:\n",
      "------------------\n",
      "with open(scaler_file_path, 'wb') as f:\n",
      "    pickle.dump(scaler, f)\n",
      "print(f\"Scaler saved to {scaler_file_path}\")\n",
      "\n",
      "with open(model_file_path, 'wb') as f:\n",
      "    pickle.dump(models, f)\n",
      "print(f\"Models saved to {model_file_path}\")\n",
      "\n",
      "print(\"Model training complete.\")\n",
      "------------------\n",
      "\n",
      "\n",
      "\u001b[0;31m---------------------------------------------------------------------------\u001b[0m\n",
      "\u001b[0;31mNameError\u001b[0m                                 Traceback (most recent call last)\n",
      "Cell \u001b[0;32mIn[7], line 2\u001b[0m\n",
      "\u001b[1;32m      1\u001b[0m \u001b[38;5;28;01mwith\u001b[39;00m \u001b[38;5;28mopen\u001b[39m(scaler_file_path, \u001b[38;5;124m'\u001b[39m\u001b[38;5;124mwb\u001b[39m\u001b[38;5;124m'\u001b[39m) \u001b[38;5;28;01mas\u001b[39;00m f:\n",
      "\u001b[0;32m----> 2\u001b[0m     pickle\u001b[38;5;241m.\u001b[39mdump(\u001b[43mscaler\u001b[49m, f)\n",
      "\u001b[1;32m      3\u001b[0m \u001b[38;5;28mprint\u001b[39m(\u001b[38;5;124mf\u001b[39m\u001b[38;5;124m\"\u001b[39m\u001b[38;5;124mScaler saved to \u001b[39m\u001b[38;5;132;01m{\u001b[39;00mscaler_file_path\u001b[38;5;132;01m}\u001b[39;00m\u001b[38;5;124m\"\u001b[39m)\n",
      "\u001b[1;32m      5\u001b[0m \u001b[38;5;28;01mwith\u001b[39;00m \u001b[38;5;28mopen\u001b[39m(model_file_path, \u001b[38;5;124m'\u001b[39m\u001b[38;5;124mwb\u001b[39m\u001b[38;5;124m'\u001b[39m) \u001b[38;5;28;01mas\u001b[39;00m f:\n",
      "\n",
      "\u001b[0;31mNameError\u001b[0m: name 'scaler' is not defined\n",
      "\n"
     ]
    }
   ],
   "source": [
    "# Save the notebook (optional)\n",
    "!jupyter nbconvert --to notebook --execute train_model.ipynb"
   ]
  },
  {
   "cell_type": "code",
   "execution_count": null,
   "id": "7808fa0e-5906-4750-984a-b4062cedae5e",
   "metadata": {},
   "outputs": [],
   "source": []
  }
 ],
 "metadata": {
  "kernelspec": {
   "display_name": "Python 3 (ipykernel)",
   "language": "python",
   "name": "python3"
  },
  "language_info": {
   "codemirror_mode": {
    "name": "ipython",
    "version": 3
   },
   "file_extension": ".py",
   "mimetype": "text/x-python",
   "name": "python",
   "nbconvert_exporter": "python",
   "pygments_lexer": "ipython3",
   "version": "3.12.3"
  }
 },
 "nbformat": 4,
 "nbformat_minor": 5
}
