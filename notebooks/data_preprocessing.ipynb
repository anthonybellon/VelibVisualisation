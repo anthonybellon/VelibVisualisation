{
 "cells": [
  {
   "cell_type": "code",
   "execution_count": 56,
   "id": "e849cda5-4b85-4565-9b0a-c89e6fa60d63",
   "metadata": {},
   "outputs": [
    {
     "name": "stdout",
     "output_type": "stream",
     "text": [
      "Notebook directory: /Users/anthonybellon/Comp_Documents/VelibVisualisation/notebooks\n",
      "Scripts_new path: /Users/anthonybellon/Comp_Documents/VelibVisualisation/scripts_new\n",
      "sys.path: ['/Library/Frameworks/Python.framework/Versions/3.12/lib/python312.zip', '/Library/Frameworks/Python.framework/Versions/3.12/lib/python3.12', '/Library/Frameworks/Python.framework/Versions/3.12/lib/python3.12/lib-dynload', '', '/Users/anthonybellon/Comp_Documents/VelibVisualisation/venv/lib/python3.12/site-packages', '/Users/anthonybellon/Comp_Documents/VelibVisualisation/scripts_new']\n"
     ]
    },
    {
     "ename": "ImportError",
     "evalue": "cannot import name 'load_json_files' from 'data_preprocessing' (/Users/anthonybellon/Comp_Documents/VelibVisualisation/scripts_new/data_preprocessing.py)",
     "output_type": "error",
     "traceback": [
      "\u001b[0;31m---------------------------------------------------------------------------\u001b[0m",
      "\u001b[0;31mImportError\u001b[0m                               Traceback (most recent call last)",
      "Cell \u001b[0;32mIn[56], line 27\u001b[0m\n\u001b[1;32m     24\u001b[0m \u001b[38;5;28mprint\u001b[39m(\u001b[38;5;124mf\u001b[39m\u001b[38;5;124m\"\u001b[39m\u001b[38;5;124msys.path: \u001b[39m\u001b[38;5;132;01m{\u001b[39;00msys\u001b[38;5;241m.\u001b[39mpath\u001b[38;5;132;01m}\u001b[39;00m\u001b[38;5;124m\"\u001b[39m)\n\u001b[1;32m     26\u001b[0m \u001b[38;5;66;03m# Now import your functions from the scripts_new directory\u001b[39;00m\n\u001b[0;32m---> 27\u001b[0m \u001b[38;5;28;01mfrom\u001b[39;00m \u001b[38;5;21;01mdata_preprocessing\u001b[39;00m \u001b[38;5;28;01mimport\u001b[39;00m preprocess_data, load_json_files, json_to_dataframe\n",
      "\u001b[0;31mImportError\u001b[0m: cannot import name 'load_json_files' from 'data_preprocessing' (/Users/anthonybellon/Comp_Documents/VelibVisualisation/scripts_new/data_preprocessing.py)"
     ]
    }
   ],
   "source": [
    "# notebooks/data_preprocessing.ipynb\n",
    "\n",
    "import os\n",
    "import sys\n",
    "import pandas as pd\n",
    "import json\n",
    "\n",
    "# Get the current working directory\n",
    "notebook_dir = os.getcwd()\n",
    "print(f\"Notebook directory: {notebook_dir}\")\n",
    "\n",
    "# Get the absolute path of the scripts_new directory\n",
    "scripts_new_path = os.path.abspath(os.path.join(notebook_dir, '..', 'scripts_new'))\n",
    "print(f\"Scripts_new path: {scripts_new_path}\")\n",
    "\n",
    "# Check if the scripts_new directory exists\n",
    "if not os.path.isdir(scripts_new_path):\n",
    "    raise FileNotFoundError(f\"Scripts_new directory does not exist at path: {scripts_new_path}\")\n",
    "\n",
    "# Add the scripts_new directory to sys.path if not already added\n",
    "if scripts_new_path not in sys.path:\n",
    "    sys.path.append(scripts_new_path)\n",
    "\n",
    "print(f\"sys.path: {sys.path}\")\n",
    "\n",
    "# Now import your functions from the scripts_new directory\n",
    "from data_preprocessing import preprocess_data, load_json_files, json_to_dataframe\n",
    "\n"
   ]
  },
  {
   "cell_type": "code",
   "execution_count": 48,
   "id": "02881592-e382-44f0-9c67-584c280bcd2d",
   "metadata": {},
   "outputs": [
    {
     "ename": "NameError",
     "evalue": "name 'load_json_files' is not defined",
     "output_type": "error",
     "traceback": [
      "\u001b[0;31m---------------------------------------------------------------------------\u001b[0m",
      "\u001b[0;31mNameError\u001b[0m                                 Traceback (most recent call last)",
      "Cell \u001b[0;32mIn[48], line 1\u001b[0m\n\u001b[0;32m----> 1\u001b[0m json_data \u001b[38;5;241m=\u001b[39m \u001b[43mload_json_files\u001b[49m(clean_data_directory)\n",
      "\u001b[0;31mNameError\u001b[0m: name 'load_json_files' is not defined"
     ]
    }
   ],
   "source": [
    "json_data = load_json_files(clean_data_directory)\n"
   ]
  },
  {
   "cell_type": "code",
   "execution_count": 46,
   "id": "5d4908d1-6780-4544-a0ca-faba4f927ab0",
   "metadata": {},
   "outputs": [
    {
     "name": "stdout",
     "output_type": "stream",
     "text": [
      "Absolute path to data directory: /Users/anthonybellon/Comp_Documents/VelibVisualisation/data/historical_data_cleaned\n",
      "Error reading /Users/anthonybellon/Comp_Documents/VelibVisualisation/data/historical_data_cleaned/test_data.json: Expected object or value\n",
      "Error reading /Users/anthonybellon/Comp_Documents/VelibVisualisation/data/historical_data_cleaned/2021-01.json: Expected object or value\n",
      "Error reading /Users/anthonybellon/Comp_Documents/VelibVisualisation/data/historical_data_cleaned/2020-11.json: Expected object or value\n",
      "Error reading /Users/anthonybellon/Comp_Documents/VelibVisualisation/data/historical_data_cleaned/2021-04.json: Expected object or value\n",
      "Error reading /Users/anthonybellon/Comp_Documents/VelibVisualisation/data/historical_data_cleaned/2020-12.json: Expected object or value\n",
      "Error reading /Users/anthonybellon/Comp_Documents/VelibVisualisation/data/historical_data_cleaned/test_data_2.json: Expected object or value\n",
      "Error reading /Users/anthonybellon/Comp_Documents/VelibVisualisation/data/historical_data_cleaned/2021-02.json: Expected object or value\n",
      "Error reading /Users/anthonybellon/Comp_Documents/VelibVisualisation/data/historical_data_cleaned/weekly_velib_data.json: Expected object or value\n",
      "Error reading /Users/anthonybellon/Comp_Documents/VelibVisualisation/data/historical_data_cleaned/2021-03.json: Expected object or value\n"
     ]
    },
    {
     "ename": "ValueError",
     "evalue": "No objects to concatenate",
     "output_type": "error",
     "traceback": [
      "\u001b[0;31m---------------------------------------------------------------------------\u001b[0m",
      "\u001b[0;31mValueError\u001b[0m                                Traceback (most recent call last)",
      "Cell \u001b[0;32mIn[46], line 3\u001b[0m\n\u001b[1;32m      1\u001b[0m \u001b[38;5;66;03m# Load and concatenate JSON files\u001b[39;00m\n\u001b[1;32m      2\u001b[0m \u001b[38;5;28mprint\u001b[39m(\u001b[38;5;124mf\u001b[39m\u001b[38;5;124m\"\u001b[39m\u001b[38;5;124mAbsolute path to data directory: \u001b[39m\u001b[38;5;132;01m{\u001b[39;00mclean_data_directory\u001b[38;5;132;01m}\u001b[39;00m\u001b[38;5;124m\"\u001b[39m)\n\u001b[0;32m----> 3\u001b[0m bike_data \u001b[38;5;241m=\u001b[39m \u001b[43mload_and_concatenate_json_files\u001b[49m\u001b[43m(\u001b[49m\u001b[43mclean_data_directory\u001b[49m\u001b[43m)\u001b[49m\n\u001b[1;32m      4\u001b[0m \u001b[38;5;28mprint\u001b[39m(bike_data\u001b[38;5;241m.\u001b[39mhead())\n",
      "File \u001b[0;32m~/Comp_Documents/VelibVisualisation/scripts_new/data_preprocessing.py:19\u001b[0m, in \u001b[0;36mload_and_concatenate_json_files\u001b[0;34m(directory)\u001b[0m\n\u001b[1;32m     17\u001b[0m         \u001b[38;5;28;01mexcept\u001b[39;00m \u001b[38;5;167;01mValueError\u001b[39;00m \u001b[38;5;28;01mas\u001b[39;00m e:\n\u001b[1;32m     18\u001b[0m             \u001b[38;5;28mprint\u001b[39m(\u001b[38;5;124mf\u001b[39m\u001b[38;5;124m\"\u001b[39m\u001b[38;5;124mError reading \u001b[39m\u001b[38;5;132;01m{\u001b[39;00mfile_path\u001b[38;5;132;01m}\u001b[39;00m\u001b[38;5;124m: \u001b[39m\u001b[38;5;132;01m{\u001b[39;00me\u001b[38;5;132;01m}\u001b[39;00m\u001b[38;5;124m\"\u001b[39m)\n\u001b[0;32m---> 19\u001b[0m \u001b[38;5;28;01mreturn\u001b[39;00m \u001b[43mpd\u001b[49m\u001b[38;5;241;43m.\u001b[39;49m\u001b[43mconcat\u001b[49m\u001b[43m(\u001b[49m\u001b[43mall_data\u001b[49m\u001b[43m,\u001b[49m\u001b[43m \u001b[49m\u001b[43mignore_index\u001b[49m\u001b[38;5;241;43m=\u001b[39;49m\u001b[38;5;28;43;01mTrue\u001b[39;49;00m\u001b[43m)\u001b[49m\n",
      "File \u001b[0;32m~/Comp_Documents/VelibVisualisation/venv/lib/python3.12/site-packages/pandas/core/reshape/concat.py:382\u001b[0m, in \u001b[0;36mconcat\u001b[0;34m(objs, axis, join, ignore_index, keys, levels, names, verify_integrity, sort, copy)\u001b[0m\n\u001b[1;32m    379\u001b[0m \u001b[38;5;28;01melif\u001b[39;00m copy \u001b[38;5;129;01mand\u001b[39;00m using_copy_on_write():\n\u001b[1;32m    380\u001b[0m     copy \u001b[38;5;241m=\u001b[39m \u001b[38;5;28;01mFalse\u001b[39;00m\n\u001b[0;32m--> 382\u001b[0m op \u001b[38;5;241m=\u001b[39m \u001b[43m_Concatenator\u001b[49m\u001b[43m(\u001b[49m\n\u001b[1;32m    383\u001b[0m \u001b[43m    \u001b[49m\u001b[43mobjs\u001b[49m\u001b[43m,\u001b[49m\n\u001b[1;32m    384\u001b[0m \u001b[43m    \u001b[49m\u001b[43maxis\u001b[49m\u001b[38;5;241;43m=\u001b[39;49m\u001b[43maxis\u001b[49m\u001b[43m,\u001b[49m\n\u001b[1;32m    385\u001b[0m \u001b[43m    \u001b[49m\u001b[43mignore_index\u001b[49m\u001b[38;5;241;43m=\u001b[39;49m\u001b[43mignore_index\u001b[49m\u001b[43m,\u001b[49m\n\u001b[1;32m    386\u001b[0m \u001b[43m    \u001b[49m\u001b[43mjoin\u001b[49m\u001b[38;5;241;43m=\u001b[39;49m\u001b[43mjoin\u001b[49m\u001b[43m,\u001b[49m\n\u001b[1;32m    387\u001b[0m \u001b[43m    \u001b[49m\u001b[43mkeys\u001b[49m\u001b[38;5;241;43m=\u001b[39;49m\u001b[43mkeys\u001b[49m\u001b[43m,\u001b[49m\n\u001b[1;32m    388\u001b[0m \u001b[43m    \u001b[49m\u001b[43mlevels\u001b[49m\u001b[38;5;241;43m=\u001b[39;49m\u001b[43mlevels\u001b[49m\u001b[43m,\u001b[49m\n\u001b[1;32m    389\u001b[0m \u001b[43m    \u001b[49m\u001b[43mnames\u001b[49m\u001b[38;5;241;43m=\u001b[39;49m\u001b[43mnames\u001b[49m\u001b[43m,\u001b[49m\n\u001b[1;32m    390\u001b[0m \u001b[43m    \u001b[49m\u001b[43mverify_integrity\u001b[49m\u001b[38;5;241;43m=\u001b[39;49m\u001b[43mverify_integrity\u001b[49m\u001b[43m,\u001b[49m\n\u001b[1;32m    391\u001b[0m \u001b[43m    \u001b[49m\u001b[43mcopy\u001b[49m\u001b[38;5;241;43m=\u001b[39;49m\u001b[43mcopy\u001b[49m\u001b[43m,\u001b[49m\n\u001b[1;32m    392\u001b[0m \u001b[43m    \u001b[49m\u001b[43msort\u001b[49m\u001b[38;5;241;43m=\u001b[39;49m\u001b[43msort\u001b[49m\u001b[43m,\u001b[49m\n\u001b[1;32m    393\u001b[0m \u001b[43m\u001b[49m\u001b[43m)\u001b[49m\n\u001b[1;32m    395\u001b[0m \u001b[38;5;28;01mreturn\u001b[39;00m op\u001b[38;5;241m.\u001b[39mget_result()\n",
      "File \u001b[0;32m~/Comp_Documents/VelibVisualisation/venv/lib/python3.12/site-packages/pandas/core/reshape/concat.py:445\u001b[0m, in \u001b[0;36m_Concatenator.__init__\u001b[0;34m(self, objs, axis, join, keys, levels, names, ignore_index, verify_integrity, copy, sort)\u001b[0m\n\u001b[1;32m    442\u001b[0m \u001b[38;5;28mself\u001b[39m\u001b[38;5;241m.\u001b[39mverify_integrity \u001b[38;5;241m=\u001b[39m verify_integrity\n\u001b[1;32m    443\u001b[0m \u001b[38;5;28mself\u001b[39m\u001b[38;5;241m.\u001b[39mcopy \u001b[38;5;241m=\u001b[39m copy\n\u001b[0;32m--> 445\u001b[0m objs, keys \u001b[38;5;241m=\u001b[39m \u001b[38;5;28;43mself\u001b[39;49m\u001b[38;5;241;43m.\u001b[39;49m\u001b[43m_clean_keys_and_objs\u001b[49m\u001b[43m(\u001b[49m\u001b[43mobjs\u001b[49m\u001b[43m,\u001b[49m\u001b[43m \u001b[49m\u001b[43mkeys\u001b[49m\u001b[43m)\u001b[49m\n\u001b[1;32m    447\u001b[0m \u001b[38;5;66;03m# figure out what our result ndim is going to be\u001b[39;00m\n\u001b[1;32m    448\u001b[0m ndims \u001b[38;5;241m=\u001b[39m \u001b[38;5;28mself\u001b[39m\u001b[38;5;241m.\u001b[39m_get_ndims(objs)\n",
      "File \u001b[0;32m~/Comp_Documents/VelibVisualisation/venv/lib/python3.12/site-packages/pandas/core/reshape/concat.py:507\u001b[0m, in \u001b[0;36m_Concatenator._clean_keys_and_objs\u001b[0;34m(self, objs, keys)\u001b[0m\n\u001b[1;32m    504\u001b[0m     objs_list \u001b[38;5;241m=\u001b[39m \u001b[38;5;28mlist\u001b[39m(objs)\n\u001b[1;32m    506\u001b[0m \u001b[38;5;28;01mif\u001b[39;00m \u001b[38;5;28mlen\u001b[39m(objs_list) \u001b[38;5;241m==\u001b[39m \u001b[38;5;241m0\u001b[39m:\n\u001b[0;32m--> 507\u001b[0m     \u001b[38;5;28;01mraise\u001b[39;00m \u001b[38;5;167;01mValueError\u001b[39;00m(\u001b[38;5;124m\"\u001b[39m\u001b[38;5;124mNo objects to concatenate\u001b[39m\u001b[38;5;124m\"\u001b[39m)\n\u001b[1;32m    509\u001b[0m \u001b[38;5;28;01mif\u001b[39;00m keys \u001b[38;5;129;01mis\u001b[39;00m \u001b[38;5;28;01mNone\u001b[39;00m:\n\u001b[1;32m    510\u001b[0m     objs_list \u001b[38;5;241m=\u001b[39m \u001b[38;5;28mlist\u001b[39m(com\u001b[38;5;241m.\u001b[39mnot_none(\u001b[38;5;241m*\u001b[39mobjs_list))\n",
      "\u001b[0;31mValueError\u001b[0m: No objects to concatenate"
     ]
    }
   ],
   "source": [
    "bike_data = preprocess_data(bike_data)\n",
    "print(bike_data.head())"
   ]
  },
  {
   "cell_type": "code",
   "execution_count": null,
   "id": "c87eed00-0d76-4275-851c-06999eddf8d9",
   "metadata": {},
   "outputs": [],
   "source": [
    "# Preprocess data\n",
    "bike_data = preprocess_data(bike_data)"
   ]
  },
  {
   "cell_type": "code",
   "execution_count": null,
   "id": "f13c01cb-1d41-4894-89c7-ccf5c30ac515",
   "metadata": {},
   "outputs": [],
   "source": [
    "# Save preprocessed data in Parquet format\n",
    "preprocessed_bike_data_path = get_absolute_path('../data/preprocessed_bike_data.parquet')\n",
    "bike_data.to_parquet(preprocessed_bike_data_path)\n",
    "\n",
    "print(f\"Preprocessed bike data saved to {preprocessed_bike_data_path}\")\n"
   ]
  }
 ],
 "metadata": {
  "kernelspec": {
   "display_name": "Python 3 (ipykernel)",
   "language": "python",
   "name": "python3"
  },
  "language_info": {
   "codemirror_mode": {
    "name": "ipython",
    "version": 3
   },
   "file_extension": ".py",
   "mimetype": "text/x-python",
   "name": "python",
   "nbconvert_exporter": "python",
   "pygments_lexer": "ipython3",
   "version": "3.12.3"
  }
 },
 "nbformat": 4,
 "nbformat_minor": 5
}
